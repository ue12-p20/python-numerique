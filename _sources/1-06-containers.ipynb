{
 "cells": [
  {
   "cell_type": "markdown",
   "id": "3f266b2c",
   "metadata": {
    "slideshow": {
     "slide_type": "slide"
    }
   },
   "source": [
    "<div class=\"licence\">\n",
    "<span>Licence CC BY-NC-ND</span>\n",
    "<span>Thierry Parmentelat</span>\n",
    "</div>\n",
    "\n",
    "<img src=\"media/inria-25-alpha.png\" />"
   ]
  },
  {
   "cell_type": "markdown",
   "id": "5587fb4a",
   "metadata": {
    "slideshow": {
     "slide_type": ""
    }
   },
   "source": [
    "# types évolués"
   ]
  },
  {
   "cell_type": "markdown",
   "id": "aba4a6de",
   "metadata": {
    "slideshow": {
     "slide_type": "slide"
    }
   },
   "source": [
    "## la liste\n",
    "\n",
    "permet de créer des collections très souples :\n",
    "\n",
    "* séquence d'objets de n'importe quel type\n",
    "* on peut insérer / détruire des objets\n",
    "* pas de contrainte sur la taille"
   ]
  },
  {
   "cell_type": "code",
   "execution_count": 1,
   "id": "7739ddb5",
   "metadata": {
    "cell_style": "split"
   },
   "outputs": [
    {
     "data": {
      "text/plain": [
       "[0, 12]"
      ]
     },
     "execution_count": 1,
     "metadata": {},
     "output_type": "execute_result"
    }
   ],
   "source": [
    "# on crée une liste avec des [ ]\n",
    "homogene = [0, 12]\n",
    "homogene"
   ]
  },
  {
   "cell_type": "code",
   "execution_count": 2,
   "id": "cc0f7327",
   "metadata": {
    "cell_style": "split"
   },
   "outputs": [
    {
     "data": {
      "text/plain": [
       "[2.3, 'abc']"
      ]
     },
     "execution_count": 2,
     "metadata": {},
     "output_type": "execute_result"
    }
   ],
   "source": [
    "# on peut mélanger\n",
    "# les types\n",
    "heterogene = [2.3, \"abc\"]\n",
    "heterogene"
   ]
  },
  {
   "cell_type": "code",
   "execution_count": 3,
   "id": "1fd9117c",
   "metadata": {
    "cell_style": "split"
   },
   "outputs": [
    {
     "data": {
      "text/plain": [
       "[True, [0, 12], 'chaine', [2.3, 'abc']]"
      ]
     },
     "execution_count": 3,
     "metadata": {},
     "output_type": "execute_result"
    }
   ],
   "source": [
    "# des listes dans des listes\n",
    "groupe = [True, homogene,\n",
    "          \"chaine\", heterogene]\n",
    "groupe"
   ]
  },
  {
   "cell_type": "code",
   "execution_count": 4,
   "id": "451b8f82",
   "metadata": {
    "cell_style": "split"
   },
   "outputs": [
    {
     "data": {
      "text/plain": [
       "list"
      ]
     },
     "execution_count": 4,
     "metadata": {},
     "output_type": "execute_result"
    }
   ],
   "source": [
    "type(groupe)"
   ]
  },
  {
   "cell_type": "code",
   "execution_count": 5,
   "id": "143613f6",
   "metadata": {
    "cell_style": "split",
    "slideshow": {
     "slide_type": "slide"
    }
   },
   "outputs": [
    {
     "data": {
      "text/plain": [
       "[True, [0, 12], 'chaine', [2.3, 'abc']]"
      ]
     },
     "execution_count": 5,
     "metadata": {},
     "output_type": "execute_result"
    }
   ],
   "source": [
    "groupe"
   ]
  },
  {
   "cell_type": "code",
   "execution_count": 6,
   "id": "99b2fce0",
   "metadata": {
    "cell_style": "split",
    "slideshow": {
     "slide_type": ""
    }
   },
   "outputs": [
    {
     "data": {
      "text/plain": [
       "True"
      ]
     },
     "execution_count": 6,
     "metadata": {},
     "output_type": "execute_result"
    }
   ],
   "source": [
    "# comme avec les chaines\n",
    "# on peut accéder au i-ème élément\n",
    "# les indices commencent à 0\n",
    "\n",
    "# le premier élément est\n",
    "# donc le booléen\n",
    "groupe[0]"
   ]
  },
  {
   "cell_type": "code",
   "execution_count": 7,
   "id": "60f23d10",
   "metadata": {
    "cell_style": "split"
   },
   "outputs": [
    {
     "data": {
      "text/plain": [
       "[True, '-', 'chaine', [2.3, 'abc']]"
      ]
     },
     "execution_count": 7,
     "metadata": {},
     "output_type": "execute_result"
    }
   ],
   "source": [
    "# on peut remplacer un élément\n",
    "groupe[1] = '-'\n",
    "groupe"
   ]
  },
  {
   "cell_type": "code",
   "execution_count": 8,
   "id": "5e53ef86",
   "metadata": {
    "cell_style": "split"
   },
   "outputs": [
    {
     "data": {
      "text/plain": [
       "[2.3, 'abc']"
      ]
     },
     "execution_count": 8,
     "metadata": {},
     "output_type": "execute_result"
    }
   ],
   "source": [
    "# et le dernier\n",
    "groupe[-1]"
   ]
  },
  {
   "cell_type": "code",
   "execution_count": 9,
   "id": "18f79047",
   "metadata": {
    "cell_style": "split"
   },
   "outputs": [
    {
     "data": {
      "text/plain": [
       "True"
      ]
     },
     "execution_count": 9,
     "metadata": {},
     "output_type": "execute_result"
    }
   ],
   "source": [
    "# est heterogene\n",
    "groupe[-1] == heterogene"
   ]
  },
  {
   "cell_type": "code",
   "execution_count": 10,
   "id": "a6825e9e",
   "metadata": {
    "cell_style": "split"
   },
   "outputs": [
    {
     "data": {
      "text/plain": [
       "[True, 'chaine']"
      ]
     },
     "execution_count": 10,
     "metadata": {},
     "output_type": "execute_result"
    }
   ],
   "source": [
    "# le slicing s'applique aussi\n",
    "# comme sur les chaines de caractère\n",
    "groupe[::2] # du début à la fin avec un pas de 2"
   ]
  },
  {
   "cell_type": "markdown",
   "id": "9f918179",
   "metadata": {
    "slideshow": {
     "slide_type": "slide"
    }
   },
   "source": [
    "## liste et opérateurs"
   ]
  },
  {
   "cell_type": "markdown",
   "id": "dc2ddedc",
   "metadata": {},
   "source": [
    "de nombreux opérateurs sont définis aussi sur les listes"
   ]
  },
  {
   "cell_type": "code",
   "execution_count": 11,
   "id": "e92a192c",
   "metadata": {
    "cell_style": "split"
   },
   "outputs": [
    {
     "data": {
      "text/plain": [
       "[1, 2, 3, 4, 5, 6]"
      ]
     },
     "execution_count": 11,
     "metadata": {},
     "output_type": "execute_result"
    }
   ],
   "source": [
    "# on peut ajouter deux listes,\n",
    "# ça les concatène\n",
    "[1, 2, 3] + [4, 5, 6]"
   ]
  },
  {
   "cell_type": "code",
   "execution_count": 12,
   "id": "77346775",
   "metadata": {
    "cell_style": "split"
   },
   "outputs": [
    {
     "data": {
      "text/plain": [
       "True"
      ]
     },
     "execution_count": 12,
     "metadata": {},
     "output_type": "execute_result"
    }
   ],
   "source": [
    "# la comparaison est\n",
    "# lexicographique\n",
    "\n",
    "[1, 2, 3] <= [1, 2, 4]"
   ]
  },
  {
   "cell_type": "code",
   "execution_count": 13,
   "id": "cd81c7f7",
   "metadata": {
    "cell_style": "split"
   },
   "outputs": [
    {
     "data": {
      "text/plain": [
       "True"
      ]
     },
     "execution_count": 13,
     "metadata": {},
     "output_type": "execute_result"
    }
   ],
   "source": [
    "# l'opérateur d'appartenance\n",
    "'chaine' in groupe"
   ]
  },
  {
   "cell_type": "code",
   "execution_count": 14,
   "id": "3bb3a373",
   "metadata": {
    "cell_style": "split"
   },
   "outputs": [
    {
     "data": {
      "text/plain": [
       "True"
      ]
     },
     "execution_count": 14,
     "metadata": {},
     "output_type": "execute_result"
    }
   ],
   "source": [
    "# et sa négation\n",
    "'tutu' not in groupe"
   ]
  },
  {
   "cell_type": "markdown",
   "id": "777423f4",
   "metadata": {
    "slideshow": {
     "slide_type": "slide"
    }
   },
   "source": [
    "## itérations\n",
    "\n",
    "approfondi dans une section ultérieure  \n",
    "mais dans sa forme la plus simple: `for .. in .. :`"
   ]
  },
  {
   "cell_type": "code",
   "execution_count": 15,
   "id": "95600358",
   "metadata": {},
   "outputs": [
    {
     "name": "stdout",
     "output_type": "stream",
     "text": [
      "True\n",
      "-\n",
      "chaine\n",
      "[2.3, 'abc']\n"
     ]
    }
   ],
   "source": [
    "for item in groupe:\n",
    "    print(item)"
   ]
  },
  {
   "cell_type": "markdown",
   "id": "1eee98bd",
   "metadata": {
    "slideshow": {
     "slide_type": "slide"
    }
   },
   "source": [
    "## listes et performances"
   ]
  },
  {
   "cell_type": "markdown",
   "id": "f262effa",
   "metadata": {},
   "source": [
    "**À savoir**  \n",
    "la liste est une structure de données très souple du coup elle n'est que *relativement\n",
    "efficace*  \n",
    "elle est surtout optimisée pour être modifiée **par la fin**  \n",
    "habituellement à base des méthodes `append` et `pop`"
   ]
  },
  {
   "cell_type": "code",
   "execution_count": 16,
   "id": "17b86146",
   "metadata": {
    "cell_style": "split"
   },
   "outputs": [
    {
     "name": "stdout",
     "output_type": "stream",
     "text": [
      "['a']\n",
      "['a', 'b']\n",
      "['a', 'b', 'c']\n"
     ]
    }
   ],
   "source": [
    "tutu = []\n",
    "\n",
    "# on n'a pas encore vu le for\n",
    "# mais vous pouvez deviner ce que ça fait\n",
    "for c in 'abc':\n",
    "    tutu.append(c)\n",
    "    print(tutu)"
   ]
  },
  {
   "cell_type": "code",
   "execution_count": 17,
   "id": "ee318f69",
   "metadata": {
    "cell_style": "split"
   },
   "outputs": [
    {
     "name": "stdout",
     "output_type": "stream",
     "text": [
      "c\n",
      "b\n",
      "a\n"
     ]
    }
   ],
   "source": [
    "# et à l'envers\n",
    "while tutu:\n",
    "    c = tutu.pop()\n",
    "    print(c)"
   ]
  },
  {
   "cell_type": "markdown",
   "id": "6545bd70",
   "metadata": {},
   "source": [
    "MAIS cela n'est un problème qu'avec des données nombreuses - $10^4$  \n",
    "du coup pour des preuves de concept la liste est **TRÈS** flexible et pratique"
   ]
  },
  {
   "cell_type": "markdown",
   "id": "9f59a2ba",
   "metadata": {
    "slideshow": {
     "slide_type": "slide"
    }
   },
   "source": [
    "## le tuple\n",
    "\n",
    "similaire à la liste, mais qu'on ne peut pas modifier  \n",
    "ne sera pas approfondi dans ce primer  \n",
    "on va voir tout de suite à quoi ça peut bien servir"
   ]
  },
  {
   "cell_type": "code",
   "execution_count": 18,
   "id": "285084d4",
   "metadata": {
    "cell_style": "split"
   },
   "outputs": [
    {
     "data": {
      "text/plain": [
       "(12, 'abc')"
      ]
     },
     "execution_count": 18,
     "metadata": {},
     "output_type": "execute_result"
    }
   ],
   "source": [
    "# ressemble à une liste, mais s'écrit avec des ()\n",
    "\n",
    "paquet = (12, \"abc\")\n",
    "paquet"
   ]
  },
  {
   "cell_type": "code",
   "execution_count": 19,
   "id": "a7b48a99",
   "metadata": {
    "cell_style": "split"
   },
   "outputs": [],
   "source": [
    "# on ne peut plus y toucher\n",
    "# paquet[0] = 15 n'est pas autorisé\n",
    "# ni paquet.append(0)"
   ]
  },
  {
   "cell_type": "markdown",
   "id": "18518723",
   "metadata": {
    "slideshow": {
     "slide_type": "slide"
    }
   },
   "source": [
    "## l'ensemble"
   ]
  },
  {
   "cell_type": "markdown",
   "id": "268b7628",
   "metadata": {},
   "source": [
    "une autre forme de container, mais assez différent :  \n",
    "\n",
    "* comme pour les ensembles mathématiques, un même élément  \n",
    "  ne peut apparaitre qu'une seule fois dans un ensemble\n",
    "* la recherche d'un élément dans un ensemble est **très efficace**  \n",
    "  contrairement aux listes, on n'a pas besoin de balayer tous les éléments\n",
    "  repose sur la notion de table de hachage - détaillé dans le cours avancé\n",
    "* par contre, limitation sur les éléments  \n",
    "  certains types ne sont pas éligibles\n",
    "  par ex. on ne peut pas mettre une liste dans un ensemble  \n",
    "  utiliser à la place un `tuple`"
   ]
  },
  {
   "cell_type": "code",
   "execution_count": 20,
   "id": "5ddfe981",
   "metadata": {
    "cell_style": "split",
    "slideshow": {
     "slide_type": "slide"
    }
   },
   "outputs": [
    {
     "data": {
      "text/plain": [
       "{12, 'abc'}"
      ]
     },
     "execution_count": 20,
     "metadata": {},
     "output_type": "execute_result"
    }
   ],
   "source": [
    "# pour créer un ensemble\n",
    "ensemble = {12, \"abc\"}\n",
    "ensemble"
   ]
  },
  {
   "cell_type": "code",
   "execution_count": 21,
   "id": "d4b864ce",
   "metadata": {
    "cell_style": "split"
   },
   "outputs": [
    {
     "data": {
      "text/plain": [
       "{12, True, 'abc'}"
      ]
     },
     "execution_count": 21,
     "metadata": {},
     "output_type": "execute_result"
    }
   ],
   "source": [
    "# méthode add() pour ajouter\n",
    "ensemble.add(True)\n",
    "ensemble"
   ]
  },
  {
   "cell_type": "code",
   "execution_count": 22,
   "id": "e9ceb6a2",
   "metadata": {
    "cell_style": "split"
   },
   "outputs": [
    {
     "data": {
      "text/plain": [
       "{12, True, 'abc'}"
      ]
     },
     "execution_count": 22,
     "metadata": {},
     "output_type": "execute_result"
    }
   ],
   "source": [
    "# pas de doublon\n",
    "ensemble.add(\"abc\")\n",
    "ensemble"
   ]
  },
  {
   "cell_type": "code",
   "execution_count": 23,
   "id": "089557b8",
   "metadata": {
    "cell_style": "split"
   },
   "outputs": [
    {
     "data": {
      "text/plain": [
       "True"
      ]
     },
     "execution_count": 23,
     "metadata": {},
     "output_type": "execute_result"
    }
   ],
   "source": [
    "# la recherche est rapide\n",
    "# bien sûr, c'est surtout intéressant\n",
    "# sur des grosses données\n",
    "\n",
    "12 in ensemble"
   ]
  },
  {
   "cell_type": "code",
   "execution_count": 24,
   "id": "04700f9a",
   "metadata": {
    "cell_style": "split"
   },
   "outputs": [
    {
     "data": {
      "text/plain": [
       "{(2, 3), 12, True, 'abc'}"
      ]
     },
     "execution_count": 24,
     "metadata": {},
     "output_type": "execute_result"
    }
   ],
   "source": [
    "# on peut mettre un tuple dans un ensemble\n",
    "ensemble.add((2, 3))\n",
    "ensemble"
   ]
  },
  {
   "cell_type": "code",
   "execution_count": 25,
   "id": "876e6fc2",
   "metadata": {
    "cell_style": "split"
   },
   "outputs": [
    {
     "data": {
      "text/plain": [
       "{(2, 3), True, 'abc'}"
      ]
     },
     "execution_count": 25,
     "metadata": {},
     "output_type": "execute_result"
    }
   ],
   "source": [
    "# et pour enlever\n",
    "ensemble.remove(12)\n",
    "ensemble"
   ]
  },
  {
   "cell_type": "markdown",
   "id": "13589bd8",
   "metadata": {
    "slideshow": {
     "slide_type": "slide"
    }
   },
   "source": [
    "### itérations sur l'ensemble"
   ]
  },
  {
   "cell_type": "markdown",
   "id": "18f4c40d",
   "metadata": {},
   "source": [
    "forme la plus simple, idem : `for .. in ..`  \n",
    "attention qu'un ensemble n'a pas d'ordre naturel  \n",
    "depuis Python-3.7 le parcours se fait dans l'ordre des insertions"
   ]
  },
  {
   "cell_type": "code",
   "execution_count": 26,
   "id": "c785a3c0",
   "metadata": {},
   "outputs": [
    {
     "name": "stdout",
     "output_type": "stream",
     "text": [
      "(2, 3)\n",
      "True\n",
      "abc\n"
     ]
    }
   ],
   "source": [
    "for item in ensemble:\n",
    "    print(item)"
   ]
  },
  {
   "cell_type": "markdown",
   "id": "347e3690",
   "metadata": {
    "slideshow": {
     "slide_type": "slide"
    }
   },
   "source": [
    "## le dictionnaire\n",
    "\n",
    "aussi un container, mais cette fois c'est conceptuellement  \n",
    "un ensemble d'associations de la forme\n",
    "\n",
    "    clé → valeur"
   ]
  },
  {
   "cell_type": "code",
   "execution_count": 27,
   "id": "7cbd17fe",
   "metadata": {
    "cell_style": "split"
   },
   "outputs": [],
   "source": [
    "# la syntaxe pour créer\n",
    "# un dictionnaire en clair\n",
    "annuaire = {'alice': 25, 'bob': 32}"
   ]
  },
  {
   "cell_type": "code",
   "execution_count": 28,
   "id": "b03af731",
   "metadata": {
    "cell_style": "split"
   },
   "outputs": [
    {
     "data": {
      "text/plain": [
       "{'alice': 25, 'bob': 32}"
      ]
     },
     "execution_count": 28,
     "metadata": {},
     "output_type": "execute_result"
    }
   ],
   "source": [
    "# les clés sont ici les 2 chaines\n",
    "# 'alice', 'bob'\n",
    "\n",
    "annuaire"
   ]
  },
  {
   "cell_type": "code",
   "execution_count": 29,
   "id": "da9918de",
   "metadata": {
    "cell_style": "split",
    "slideshow": {
     "slide_type": "slide"
    }
   },
   "outputs": [
    {
     "data": {
      "text/plain": [
       "32"
      ]
     },
     "execution_count": 29,
     "metadata": {},
     "output_type": "execute_result"
    }
   ],
   "source": [
    "# on ne peut plus accéder par indice\n",
    "# annuaire[0] ne veut rien dire!\n",
    "\n",
    "# par contre on peut accéder par clé\n",
    "annuaire['bob']"
   ]
  },
  {
   "cell_type": "code",
   "execution_count": 30,
   "id": "ba092ef0",
   "metadata": {
    "cell_style": "split"
   },
   "outputs": [
    {
     "data": {
      "text/plain": [
       "{'alice': 25, 'bob': 32, 'eve': 40}"
      ]
     },
     "execution_count": 30,
     "metadata": {},
     "output_type": "execute_result"
    }
   ],
   "source": [
    "# pareil pour écrire\n",
    "# si la clé est inconnue on l'ajoute\n",
    "\n",
    "annuaire['eve'] = 40\n",
    "annuaire"
   ]
  },
  {
   "cell_type": "code",
   "execution_count": 31,
   "id": "0f1bc456",
   "metadata": {
    "cell_style": "split"
   },
   "outputs": [
    {
     "data": {
      "text/plain": [
       "{'alice': 50, 'bob': 32, 'eve': 40}"
      ]
     },
     "execution_count": 31,
     "metadata": {},
     "output_type": "execute_result"
    }
   ],
   "source": [
    "# si la clé existe déjà\n",
    "# on écrase la valeur associée\n",
    "annuaire['alice'] = 50\n",
    "annuaire"
   ]
  },
  {
   "cell_type": "code",
   "execution_count": 32,
   "id": "9bbfc7d9",
   "metadata": {
    "cell_style": "split"
   },
   "outputs": [
    {
     "data": {
      "text/plain": [
       "{'alice': 50, 'bob': 32}"
      ]
     },
     "execution_count": 32,
     "metadata": {},
     "output_type": "execute_result"
    }
   ],
   "source": [
    "# pour effacer une clé  \n",
    "del annuaire['eve']\n",
    "annuaire"
   ]
  },
  {
   "cell_type": "code",
   "execution_count": 33,
   "id": "c8eed83f",
   "metadata": {
    "cell_style": "split",
    "slideshow": {
     "slide_type": ""
    }
   },
   "outputs": [
    {
     "data": {
      "text/plain": [
       "{'alice': 50, 'bob': 32}"
      ]
     },
     "execution_count": 33,
     "metadata": {},
     "output_type": "execute_result"
    }
   ],
   "source": [
    "annuaire"
   ]
  },
  {
   "cell_type": "code",
   "execution_count": 34,
   "id": "fbd098a7",
   "metadata": {
    "cell_style": "split"
   },
   "outputs": [
    {
     "data": {
      "text/plain": [
       "True"
      ]
     },
     "execution_count": 34,
     "metadata": {},
     "output_type": "execute_result"
    }
   ],
   "source": [
    "# la recherche d'une clé est aussi rapide\n",
    "# que la recherche dans les ensembles\n",
    "\n",
    "'alice' in annuaire"
   ]
  },
  {
   "cell_type": "markdown",
   "id": "050da742",
   "metadata": {
    "slideshow": {
     "slide_type": "slide"
    }
   },
   "source": [
    "## digression : affectation multiple"
   ]
  },
  {
   "cell_type": "code",
   "execution_count": 35,
   "id": "394e31aa",
   "metadata": {
    "cell_style": "split"
   },
   "outputs": [
    {
     "name": "stdout",
     "output_type": "stream",
     "text": [
      "a=10, b=20\n"
     ]
    }
   ],
   "source": [
    "# plutôt que de faire\n",
    "a = 10\n",
    "b = 20\n",
    "\n",
    "print(f\"a={a}, b={b}\")"
   ]
  },
  {
   "cell_type": "code",
   "execution_count": 36,
   "id": "9d012554",
   "metadata": {
    "cell_style": "split"
   },
   "outputs": [
    {
     "name": "stdout",
     "output_type": "stream",
     "text": [
      "a=10, b=20\n"
     ]
    }
   ],
   "source": [
    "# on peut faire en Python\n",
    "a, b = 10, 20\n",
    "\n",
    "print(f\"a={a}, b={b}\")"
   ]
  },
  {
   "cell_type": "markdown",
   "id": "437c8292",
   "metadata": {},
   "source": [
    "dans ce contexte c'est un gadget, mais c'est intéressant parfois  \n",
    "car les termes à droite de `=` sont tous évalués avant de faire les affectations"
   ]
  },
  {
   "cell_type": "code",
   "execution_count": 37,
   "id": "4bf0a75e",
   "metadata": {
    "slideshow": {
     "slide_type": ""
    }
   },
   "outputs": [
    {
     "name": "stdout",
     "output_type": "stream",
     "text": [
      "a=20, b=10\n"
     ]
    }
   ],
   "source": [
    "# et ainsi on peut par exemple\n",
    "# échanger deux variables\n",
    "a, b = b, a\n",
    "\n",
    "print(f\"a={a}, b={b}\")"
   ]
  },
  {
   "cell_type": "markdown",
   "id": "c2baa435",
   "metadata": {
    "slideshow": {
     "slide_type": "slide"
    }
   },
   "source": [
    "## itération sur un dictionnaire"
   ]
  },
  {
   "cell_type": "markdown",
   "id": "d7ab458f",
   "metadata": {},
   "source": [
    "même remarque que les ensembles : pas d'ordre naturel  \n",
    "depuis Python-3.7 le parcours se fait dans l'ordre des insertions"
   ]
  },
  {
   "cell_type": "code",
   "execution_count": 38,
   "id": "fc8afc44",
   "metadata": {},
   "outputs": [
    {
     "name": "stdout",
     "output_type": "stream",
     "text": [
      "alice → 50\n",
      "bob → 32\n"
     ]
    }
   ],
   "source": [
    "for cle, valeur in annuaire.items():\n",
    "    print(f\"{cle} → {valeur}\")"
   ]
  },
  {
   "cell_type": "markdown",
   "id": "737b7cb3",
   "metadata": {},
   "source": [
    "cette forme est à mettre en rapport avec l'affectation multiple  \n",
    "dans ce sens que ça revient à faire ceci :"
   ]
  },
  {
   "cell_type": "code",
   "execution_count": 39,
   "id": "87c7daaf",
   "metadata": {},
   "outputs": [
    {
     "name": "stdout",
     "output_type": "stream",
     "text": [
      "alice → 50\n",
      "bob → 32\n"
     ]
    }
   ],
   "source": [
    "# en décomposant un peu pour bien comprendre\n",
    "for couple in annuaire.items():\n",
    "    cle, valeur = couple # on appelle cela de l'unpacking\n",
    "    print(f\"{cle} → {valeur}\")"
   ]
  },
  {
   "cell_type": "markdown",
   "id": "27340168",
   "metadata": {
    "slideshow": {
     "slide_type": "slide"
    }
   },
   "source": [
    "## fonctions et arguments multiples (1)"
   ]
  },
  {
   "cell_type": "markdown",
   "id": "bbd6602f",
   "metadata": {},
   "source": [
    "mécanisme pour définir un nombre quelconque d'arguments à une fonction"
   ]
  },
  {
   "cell_type": "code",
   "execution_count": 40,
   "id": "c4589080",
   "metadata": {},
   "outputs": [],
   "source": [
    "# parfois on a envie qu'une fonction puisse\n",
    "# accepter un nombre variable d'arguments\n",
    "\n",
    "def foo(fixe, *variable):\n",
    "    \"\"\"\n",
    "    fixe reçoit le premier argument\n",
    "    variable reçoit un tuple avec tous les autres arguments de l'appel\n",
    "    \"\"\"\n",
    "    print(f\"premier argument: {fixe}\")\n",
    "    print(f\"les autres: {variable} - de type {type(variable)}\")\n",
    "    for item in variable:\n",
    "        print(f\"item {item}\")"
   ]
  },
  {
   "cell_type": "code",
   "execution_count": 41,
   "id": "4079ab70",
   "metadata": {
    "cell_style": "split"
   },
   "outputs": [
    {
     "name": "stdout",
     "output_type": "stream",
     "text": [
      "premier argument: 1\n",
      "les autres: () - de type <class 'tuple'>\n"
     ]
    }
   ],
   "source": [
    "foo(1)"
   ]
  },
  {
   "cell_type": "code",
   "execution_count": 42,
   "id": "922179cf",
   "metadata": {
    "cell_style": "split"
   },
   "outputs": [
    {
     "name": "stdout",
     "output_type": "stream",
     "text": [
      "premier argument: 1\n",
      "les autres: (2,) - de type <class 'tuple'>\n",
      "item 2\n"
     ]
    }
   ],
   "source": [
    "foo(1, 2)"
   ]
  },
  {
   "cell_type": "code",
   "execution_count": 43,
   "id": "222bfff8",
   "metadata": {},
   "outputs": [
    {
     "name": "stdout",
     "output_type": "stream",
     "text": [
      "premier argument: 1\n",
      "les autres: (2, 3) - de type <class 'tuple'>\n",
      "item 2\n",
      "item 3\n"
     ]
    }
   ],
   "source": [
    "foo(1, 2, 3)"
   ]
  },
  {
   "cell_type": "markdown",
   "id": "0d4f1743",
   "metadata": {
    "slideshow": {
     "slide_type": "notes"
    }
   },
   "source": [
    "bien entendu on ne peut définir qu'un seul paramètre de ce genre, et il doit apparaitre en\n",
    "dernier dans la signature de la fonction  \n",
    "Si on pouvait en mettre plusieurs, il y aurait ambigüité quant à qui reçoit quoi."
   ]
  },
  {
   "cell_type": "markdown",
   "id": "68461285",
   "metadata": {
    "slideshow": {
     "slide_type": "slide"
    }
   },
   "source": [
    "## fonctions et arguments multiples (2)"
   ]
  },
  {
   "cell_type": "markdown",
   "id": "87a1dd23",
   "metadata": {},
   "source": [
    "dans l'autre sens, si j'ai un container avec des objets\n",
    "que je veux passer individuellement à une fonction"
   ]
  },
  {
   "cell_type": "code",
   "execution_count": 44,
   "id": "df5e0545",
   "metadata": {},
   "outputs": [],
   "source": [
    "# par exemple j'ai une liste\n",
    "args = [1, 2, 3]\n",
    "\n",
    "# et en fait je veux appeler\n",
    "# foo(1, 2, 3)\n",
    "#\n",
    "# je pourrais faire\n",
    "# foo(args[0], args[1], arg[2])\n",
    "#\n",
    "# mais bien sûr ça ne marchera\n",
    "# que si args contient 3 objets"
   ]
  },
  {
   "cell_type": "code",
   "execution_count": 45,
   "id": "7f201812",
   "metadata": {
    "cell_style": "split"
   },
   "outputs": [
    {
     "name": "stdout",
     "output_type": "stream",
     "text": [
      "premier argument: 1\n",
      "les autres: (2, 3) - de type <class 'tuple'>\n",
      "item 2\n",
      "item 3\n"
     ]
    }
   ],
   "source": [
    "# dans ce cas on peut utiliser à nouveau\n",
    "# l'étoile, et faire plutôt\n",
    "foo(*args)"
   ]
  },
  {
   "cell_type": "code",
   "execution_count": 46,
   "id": "43f141de",
   "metadata": {
    "cell_style": "split"
   },
   "outputs": [
    {
     "name": "stdout",
     "output_type": "stream",
     "text": [
      "premier argument: 1\n",
      "les autres: (2, 3) - de type <class 'tuple'>\n",
      "item 2\n",
      "item 3\n"
     ]
    }
   ],
   "source": [
    "# vérifions que c'est bien\n",
    "# ce qu'on voulait\n",
    "foo(1, 2, 3)"
   ]
  },
  {
   "cell_type": "markdown",
   "id": "21125d9f",
   "metadata": {
    "slideshow": {
     "slide_type": "notes"
    }
   },
   "source": [
    "à l'appel de la fonction par contre on peut passer plusieurs arguments étoilés, leurs\n",
    "composants sont simplement ajoutés dans l'ordre aux arguments de la fonction."
   ]
  },
  {
   "cell_type": "markdown",
   "id": "77d662fd",
   "metadata": {
    "slideshow": {
     "slide_type": "slide"
    }
   },
   "source": [
    "## résumé\n",
    "\n",
    "Python propose des types prédéfinis\n",
    "\n",
    "* `list` : un container flexible et ordonné, accessible par indice\n",
    "* plus accessoirement, `tuple` pour créer des containers similaires mais non modifiables\n",
    "* `set` : un container non-ordonné, sans doublon, et à recherche rapide\n",
    "* `dict` : un ensemble d'associations clé → valeur,  \n",
    "  à recherche rapide, accessible par clé\n",
    "* la forme `*args` permet aux fonctions d'accepter un nombre quelconque d'arguments\n",
    "  * définition `def foo(*args):`\n",
    "  * appel `foo(*args)`"
   ]
  }
 ],
 "metadata": {
  "jupytext": {
   "cell_metadata_filter": "all, -hidden, -heading_collapsed, -run_control, -trusted",
   "notebook_metadata_filter": "all, -jupytext.text_representation.jupytext_version, -jupytext.text_representation.format_version, -language_info.version, -language_info.codemirror_mode.version, -language_info.codemirror_mode, -language_info.file_extension, -language_info.mimetype, -toc",
   "text_representation": {
    "extension": ".md",
    "format_name": "myst"
   }
  },
  "kernelspec": {
   "display_name": "Python 3",
   "language": "python",
   "name": "python3"
  },
  "language_info": {
   "codemirror_mode": {
    "name": "ipython",
    "version": 3
   },
   "file_extension": ".py",
   "mimetype": "text/x-python",
   "name": "python",
   "nbconvert_exporter": "python",
   "pygments_lexer": "ipython3",
   "version": "3.9.5"
  },
  "notebookname": "objets containers",
  "rise": {
   "autolaunch": true,
   "slideNumber": "c/t",
   "start_slideshow_at": "selected",
   "theme": "sky",
   "transition": "cube"
  },
  "source_map": [
   27,
   36,
   40,
   50,
   58,
   67,
   76,
   82,
   91,
   106,
   114,
   121,
   128,
   136,
   140,
   144,
   152,
   161,
   168,
   175,
   182,
   187,
   191,
   199,
   211,
   218,
   223,
   231,
   240,
   248,
   252,
   266,
   277,
   285,
   293,
   303,
   311,
   319,
   323,
   329,
   334,
   343,
   351,
   360,
   373,
   383,
   392,
   400,
   409,
   418,
   422,
   432,
   439,
   444,
   456,
   460,
   465,
   468,
   473,
   480,
   484,
   488,
   503,
   509,
   515,
   519,
   525,
   529,
   534,
   548,
   556,
   564,
   569
  ],
  "version": "1.0"
 },
 "nbformat": 4,
 "nbformat_minor": 5
}