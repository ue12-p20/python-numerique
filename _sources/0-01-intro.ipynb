{
 "cells": [
  {
   "cell_type": "markdown",
   "id": "5eaa0b4b",
   "metadata": {},
   "source": [
    "<div class=\"licence\">\n",
    "<span>Licence CC BY-NC-ND</span>\n",
    "<div style=\"display:grid\">\n",
    "    <span>Thierry Parmentelat</span>\n",
    "    <span>Valérie Roy</span>\n",
    "</div>\n",
    "</div>\n",
    "\n",
    "<img src=\"media/inria-25-alpha.png\" />\n",
    "<img src=\"media/ensmp-25-alpha.png\" />"
   ]
  },
  {
   "cell_type": "markdown",
   "id": "422d4691",
   "metadata": {},
   "source": [
    "# UE 12 - Introduction"
   ]
  },
  {
   "cell_type": "markdown",
   "id": "4d28ec8c",
   "metadata": {},
   "source": [
    "## comment lire ce notebook"
   ]
  },
  {
   "cell_type": "markdown",
   "id": "f3479c10",
   "metadata": {},
   "source": [
    "### nbhosting"
   ]
  },
  {
   "cell_type": "markdown",
   "id": "64461bb4",
   "metadata": {},
   "source": [
    "pour que vous puissiez lire ce premier cours, alors que vous n'avez encore rien installé\n",
    "sur votre ordi, vous pouvez le suivre en ligne sur le serveur de notebooks\n",
    "\n",
    "https://nbhosting.inria.fr/auditor/notebook/ue12-python-numerique"
   ]
  },
  {
   "cell_type": "markdown",
   "id": "5ecce044",
   "metadata": {},
   "source": [
    "### *Shift-Enter*"
   ]
  },
  {
   "cell_type": "markdown",
   "id": "79dee10f",
   "metadata": {},
   "source": [
    "ce document est un *notebook*; il contient des **cellules**, avec soit du texte (comme\n",
    "celle-ci), soit du code (comme la suivante) qu'on peut exécuter au fur et à mesure qu'on\n",
    "lit\n",
    "\n",
    "le plus simple pour lire un notebook c'est de\n",
    "\n",
    "* sélectionner une cellule (avec la souris)\n",
    "* taper *Maj-Entrée* (ou *Shift-Return* sur un clavier anglais)  \n",
    "  ça exécute la cellule courante et ça passe à la suivante; essayez..."
   ]
  },
  {
   "cell_type": "code",
   "execution_count": 1,
   "id": "51a75f55",
   "metadata": {},
   "outputs": [
    {
     "name": "stdout",
     "output_type": "stream",
     "text": [
      "hey there !\r\n",
      "\n"
     ]
    }
   ],
   "source": [
    "# ma première cellule de code contient\n",
    "# un commentaire\n",
    "# et une commande toute simple\n",
    "# qui affiche un message\n",
    "\n",
    "echo \"hey there !\""
   ]
  },
  {
   "cell_type": "markdown",
   "id": "aaddddcd",
   "metadata": {},
   "source": [
    "vous avez dû provoquer l'affichage de `hey there !` comme résultat de l'exécution de la\n",
    "cellule juste au dessus de celle-ci;  \n",
    "continuez la lecture en faisant 'Maj-Entrée'"
   ]
  },
  {
   "cell_type": "markdown",
   "id": "d112ffab",
   "metadata": {},
   "source": [
    "### niveaux de lecture"
   ]
  },
  {
   "cell_type": "markdown",
   "id": "5ff3c8db",
   "metadata": {},
   "source": [
    "parfois on verra du contenu un peu technique, qui s'adresse plutôt aux élèves qui ont déjà\n",
    "des connaissances poussées  \n",
    "on utilisera alors un code de couleur, c'est comme pour les pistes de ski :"
   ]
  },
  {
   "cell_type": "markdown",
   "id": "a2b54957",
   "metadata": {
    "tags": [
     "level_basic"
    ]
   },
   "source": [
    "* vert : niveau de base (mode par défaut)"
   ]
  },
  {
   "cell_type": "markdown",
   "id": "2b3ddd1c",
   "metadata": {
    "tags": [
     "level_intermediate"
    ]
   },
   "source": [
    "* bleu : niveau intermédiaire"
   ]
  },
  {
   "cell_type": "markdown",
   "id": "bd595d97",
   "metadata": {
    "tags": [
     "level_advanced"
    ]
   },
   "source": [
    "* rouge : niveau avancé"
   ]
  },
  {
   "cell_type": "markdown",
   "id": "d0716a0e",
   "metadata": {},
   "source": [
    "lorsqu'il n'y a pas de couleur, c'est comme si c'était vert, ça s'adresse à tout le monde\n",
    "\n",
    "si c'est la tête de chapitre ou section qui est en couleur, cette couleur s'applique à\n",
    "toute la section; dans ce cas on met en vert, le cas échéant, la tête de section suivante"
   ]
  },
  {
   "cell_type": "markdown",
   "id": "93efbe2d",
   "metadata": {},
   "source": [
    "### table des matières"
   ]
  },
  {
   "cell_type": "markdown",
   "id": "55d397f8",
   "metadata": {},
   "source": [
    "vous pouvez en principe activer la tables des matières en cliquant sur ce bouton :  \n",
    "(sinon, voyez la toute dernière section)\n",
    "\n",
    "![](media/fig-jupyter-toc2.png)"
   ]
  },
  {
   "cell_type": "markdown",
   "id": "c9fb66a3",
   "metadata": {},
   "source": [
    "### *readthedocs*"
   ]
  },
  {
   "cell_type": "markdown",
   "id": "3ae862ae",
   "metadata": {},
   "source": [
    "je vous signale enfin que les supports du cours sont disponibles également sur  \n",
    "https://ue12-python-numerique.readthedocs.io/\n",
    "\n",
    "ce site est accessible depuis Internet sans authentification, son contenu est *statique*\n",
    "(i.e. on ne peut pas modifier le contenu des cellules de code, ni rien exécuter) ... mais\n",
    "on peut y **faire des recherches** qui s'appliqueront sur tous les notebooks d'un coup et\n",
    "ainsi retrouver des informations."
   ]
  },
  {
   "cell_type": "markdown",
   "id": "a5c1b192",
   "metadata": {
    "slideshow": {
     "slide_type": ""
    }
   },
   "source": [
    "## objectifs"
   ]
  },
  {
   "cell_type": "markdown",
   "id": "bc4e43ba",
   "metadata": {},
   "source": [
    "l'approche pédagogique vise en premier lieu **à vous mener à l'autonomie** en ce qui\n",
    "concerne l'utilisation des ressources digitales; c'est pourquoi nous ne sommes **pas en\n",
    "salle informatique** comme ça a pu se faire à une époque; l'objectif est que vous sachiez\n",
    "à terme utiliser **uniquement votre ordinateur** pour travailler (ce qui a été très\n",
    "pratique lors du *confinement surprise* l'année dernière)."
   ]
  },
  {
   "cell_type": "markdown",
   "id": "4e1ef326",
   "metadata": {},
   "source": [
    "ce cours d'introduction vise à présenter, et à vous faire installer, les outils de base\n",
    "pour le cours d'informatique; il ne présente **aucune difficulté** mais vous êtes invité·e\n",
    "malgré tout à le suivre **avec une grande attention** car tous ces éléments sont\n",
    "**cruciaux pour la suite**"
   ]
  },
  {
   "cell_type": "markdown",
   "id": "d8941141",
   "metadata": {
    "slideshow": {
     "slide_type": ""
    }
   },
   "source": [
    "### objectifs globaux\n",
    "\n",
    "pour le cours d'informatique de 1ère année :\n",
    "\n",
    "* prise d'**autonomie**  \n",
    "  * par rapport à un ordinateur personnel\n",
    "  * par rapport au numérique et à la programmation\n",
    "  * focus sur quelques outils (du moment)\n",
    "* pour les mathématiques, le machine-learning et autres enseignements\n",
    "  * Python - numpy - pandas - matplotlib  \n",
    "  * notebooks Jupyter\n",
    "* workflow de gestion de projets de développement\n",
    "  * git & github\n",
    "* approfondissement langage (un parmi 3)\n",
    "  * Python\n",
    "  * C++\n",
    "  * Java\n",
    "* culture informatique\n",
    "  * notions d'algorithmique et de complexité\n",
    "  * notions sur les systèmes d'exploitation des ordinateurs (OS)   \n",
    "  * rudiments de programmation Web\n",
    "  * rudiments sur programmation parallèle\n",
    "  * rudiments sur l'utilisation du réseau\n",
    "* projet informatique\n",
    "  * en équipe\n",
    "  * posé par une personne extérieure à l'équipe d'enseignants"
   ]
  },
  {
   "cell_type": "markdown",
   "id": "0de6495d",
   "metadata": {},
   "source": [
    "### objectifs du premier module"
   ]
  },
  {
   "cell_type": "markdown",
   "id": "eccb5986",
   "metadata": {},
   "source": [
    "s'agissant du premier bloc de 4 x 3h :\n",
    "\n",
    "* c'est un pré-requis pour autres cours  \n",
    " (notamment mathématiques et machine-learning)\n",
    "* 4 parties\n",
    "  * installations (ce cours-ci)\n",
    "  * le langage Pythonå\n",
    "  * tableaux et programmation vectorielle (`numpy`)\n",
    "  * préparation (`pandas`) et  \n",
    "    visualisation (`matplotlib`) des données"
   ]
  },
  {
   "cell_type": "markdown",
   "id": "5246d796",
   "metadata": {},
   "source": [
    "### objectifs aujourd'hui\n",
    "\n",
    "pour ce premier cours d'introduction/installation\n",
    "\n",
    "* survol ultra-rapide des concepts de base (simple, basique)\n",
    "* survol rapide et installation des outils de base  \n",
    "  * OS, terminal, dossiers et fichiers\n",
    "  * éditeur de code, markdown\n",
    "  * git (ultra-light)\n",
    "  * Python, Jupyter\n",
    "* être capable de rapatrier le cours sur votre ordi, et d'y exécuter les notebooks\n",
    "\n",
    "Notez que\n",
    "\n",
    "* le cours est **coopératif**, et pas compétitif  \n",
    "  ceux qui savent déjà **aident leurs camarades**\n",
    "* voyez aussi la checklist des compétences requises - [notebook\n",
    "  `0-98-checklist.md`](https://nbhosting.inria.fr/auditor/notebook/ue12-python-numerique:intro/notebooks/0-98-checklist)\n",
    "  * à terminer pour la prochaine fois si nécessaire\n",
    "  * posez vos questions sur\n",
    "    [discourse.mines-paristech.fr](https://discourse-mines-paristech.fr)"
   ]
  },
  {
   "cell_type": "markdown",
   "id": "05006ddb",
   "metadata": {},
   "source": [
    "## outils (infrastructure)"
   ]
  },
  {
   "cell_type": "markdown",
   "id": "93c4d137",
   "metadata": {
    "cell_style": "split"
   },
   "source": [
    "### notebooks : nbhosting\n",
    "\n",
    "notebooks prêt à l'emploi\n",
    "\n",
    "* aucune installation nécessaire\n",
    "* <https://nbhosting.inria.fr>\n",
    "* navigation dans les slides :  \n",
    "  *Espace* et *Shift-Espace*\n",
    "* évaluer une cellule de code :  \n",
    "  *Shift-Entrée*"
   ]
  },
  {
   "cell_type": "markdown",
   "id": "4bb149fa",
   "metadata": {
    "cell_style": "split"
   },
   "source": [
    "![](media/nbhosting-shrink.gif)"
   ]
  },
  {
   "cell_type": "markdown",
   "id": "d4c6df4f",
   "metadata": {},
   "source": [
    "### forum de discussion : discourse\n",
    "\n",
    "forum de discussion pour\n",
    "\n",
    "* tous les cours de maths & info\n",
    "* <https://discourse.mines-paristech.fr>\n",
    "* n'a pas été nettoyé - contient les discussions de l'an passé"
   ]
  },
  {
   "cell_type": "markdown",
   "id": "c727e7e8",
   "metadata": {},
   "source": [
    "### *handouts* html : readthedocs\n",
    "* selon les cours\n",
    "* celui-ci est disponible sur <https://ue12-python-numerique.readthedocs.io>\n",
    "* c'est un support accessible de partout et **cherchable**\n",
    "* par contre bien sûr, ce n'est pas interactif, on ne **peut pas exécuter** le code  \n",
    "  (alors que sous nbhosting **on peut l'exécuter, le modifier**, … on va voir ça tout de\n",
    "  suite)"
   ]
  },
  {
   "cell_type": "markdown",
   "id": "74459382",
   "metadata": {
    "slideshow": {
     "slide_type": ""
    }
   },
   "source": [
    "## OS"
   ]
  },
  {
   "cell_type": "markdown",
   "id": "bc67f824",
   "metadata": {
    "slideshow": {
     "slide_type": ""
    }
   },
   "source": [
    "* Windows, MacOS, linux\n",
    "* quelques différences (très) visibles\n",
    "* mais de nombreux concepts communs"
   ]
  },
  {
   "cell_type": "markdown",
   "id": "e35d11df",
   "metadata": {
    "slideshow": {
     "slide_type": ""
    }
   },
   "source": [
    "### à quoi ça sert ?\n",
    "\n",
    "* calculette  \n",
    "  * un programme a accès à toutes les ressources\n",
    "  * exemple : je range X dans la case mémoire 1\n",
    "* ordinateurs\n",
    "  * plein de programmes **en même temps**\n",
    "  * accessoirement plein d'utilisateurs"
   ]
  },
  {
   "cell_type": "markdown",
   "id": "4bc75515",
   "metadata": {
    "slideshow": {
     "slide_type": ""
    }
   },
   "source": [
    "### rôle de l'OS\n",
    "\n",
    "* fournir de l'**isolation** entre les programmes\n",
    "  * si deux programmes différents utilisent la case 1  \n",
    "    pour ranger une donnée, ça ne va pas le faire !\n",
    "* permettre la **concurrence**\n",
    "  * faire tourner plusieurs programmes en même temps  \n",
    "    sur un nombre fini de processeurs  \n",
    "  * démo Activity Monitor (\\*)  \n",
    "    typiquement **plusieurs dizaines** de programmes\n",
    "* fournir de l'**isolation** entre les utilisateurs\n",
    "\n",
    "\n",
    "(\\*) comme:  Task Manager* sous Windows, *Activity Monitor* sous MacOS, *top* sous linux"
   ]
  },
  {
   "cell_type": "markdown",
   "id": "1f3aa139",
   "metadata": {
    "slideshow": {
     "slide_type": ""
    },
    "tags": [
     "level_intermediate"
    ]
   },
   "source": [
    "### notion de **processus** (en anglais *process*)\n",
    "\n",
    "* chaque programme qui tourne constitue un *process*\n",
    "* les process sont isolés les uns des autres  \n",
    "  * notamment la mémoire\n",
    "* l'OS fait tourner tous les programmes  \n",
    "  * dans un mode *chacun son tour*  \n",
    "  * à relativement haute fréquence\n",
    "  * c'est le travail du *scheduler*"
   ]
  },
  {
   "cell_type": "markdown",
   "id": "e33f6d7e",
   "metadata": {
    "tags": [
     "level_intermediate"
    ]
   },
   "source": [
    "#### soyons précis\n",
    "\n",
    "le terme *OS* - *Operating System* a plein de significations différentes dans le langage\n",
    "courant\n",
    "\n",
    "* Windows et MacOS : incluent une interface graphique\n",
    "* linux : l'interface graphique est plus clairement séparée, on a le choix\n",
    "\n",
    "**mais** nous ici lorsqu'on parle d'OS, on désigne **seulement** ce qu'on appelle aussi le\n",
    "**noyau**\n",
    "\n",
    "c'est-à-dire techniquement :\n",
    "\n",
    "* le **seul** programme dans l'ordinateur qui a **accès direct** aux périphériques\n",
    "* qui \"fait tourner\" les programmes en leur donner tour à tour accès au processeur\n",
    "* fait en sortes qu'ils soient **isolés les uns des autres**\n",
    "* tous les autres programmes (*user land*) accèdent à ces ressources au travers\n",
    "  d'**abstractions**\n",
    "  * mémoire : **mémoire virtuelle**  \n",
    "    la case mémoire '1' est redirigée vers un bout de mémoire allouée au programme  \n",
    "  * **système de fichiers**  \n",
    "    le disque dur est accessible au travers de dossiers et fichiers\n",
    "  * etc ..."
   ]
  },
  {
   "cell_type": "markdown",
   "id": "81271344",
   "metadata": {},
   "source": [
    "### multi-utilisateurs, administrateur"
   ]
  },
  {
   "cell_type": "markdown",
   "id": "3f9147f9",
   "metadata": {},
   "source": [
    "#### historiquement\n",
    "\n",
    "le modèle d'usage des ordinateurs (très chers) était  \n",
    "1 ordi = plusieurs (dizaines/centaines d') utilisateurs\n",
    "\n",
    "ce qui a mis en évidence le rôle de l'**administrateur** (*super-user*)  \n",
    "qui se chargeait des tâches de maintenance et d'installation"
   ]
  },
  {
   "cell_type": "markdown",
   "id": "b8c8d738",
   "metadata": {},
   "source": [
    "les usages ont beaucoup changé, mais cette dualité (user lambda / admin) est restée  \n",
    "dans beaucoup d'institutions / compagnies c'est la *DSI* (Direction des Systèmes\n",
    "d'Information) qui se charge de l'installation de base et de la sécurité"
   ]
  },
  {
   "cell_type": "markdown",
   "id": "fd935907",
   "metadata": {},
   "source": [
    "jusque récemment, le modèle mental était que :  \n",
    "\"pour faire une installation, il faut les droits d'administrateur\"  \n",
    "de cette façon on peut faire des économies d'échelle  \n",
    "(installation = processus compliqué, autant le faire 1 bonne fois pour tous les\n",
    "utilisateurs)"
   ]
  },
  {
   "cell_type": "markdown",
   "id": "53ce6930",
   "metadata": {},
   "source": [
    "#### les usages ont changé"
   ]
  },
  {
   "cell_type": "markdown",
   "id": "a6b11c8d",
   "metadata": {},
   "source": [
    "* non seulement pour les postes de travail c'est maintenant  \n",
    "  1 ordi = 1 personne\n",
    "* mais en plus, la **même personne** peut avoir besoin de **plusieurs environnements** par\n",
    "  exemple, un développeur peut travailler sur plusieurs projets, un en Python-3.6, un\n",
    "  autre en Python-3.8, avec des combinaisons de librairies différentes pour chaque projet"
   ]
  },
  {
   "cell_type": "markdown",
   "id": "e1e0dd27",
   "metadata": {},
   "source": [
    "si bien que la notion d'installation unique pour 1 ordi n'a **que des inconvénients**\n",
    "\n",
    "* c'est compliqué d'avoir les droits d'administrateur : la DSI y veille, et même sans DSI ça demande des manipulations en plus\n",
    "* et ça rend très compliqué la mise à disposition de multiples environnements  \n",
    "  si tout le monde a le même Python, a fortiori un développeur aura toujours le même Python"
   ]
  },
  {
   "cell_type": "markdown",
   "id": "b2aca4a0",
   "metadata": {},
   "source": [
    "#### choisir un mode d'installation dans l'espace utilisateur"
   ]
  },
  {
   "cell_type": "markdown",
   "id": "c5821cc6",
   "metadata": {},
   "source": [
    "c'est pourquoi je vous recommande de choisir, lorsque c'est possible, un mode\n",
    "d'installation **dans l'espace utilisateur** plutôt qu'une installation dans la zone\n",
    "système\n",
    "\n",
    "ainsi vos installations seront plus simples, et plus extensibles : vous pourrez plus\n",
    "facilement jongler entre les environnements lorsque vous serez plus agiles avec tout ceci\n",
    "\n",
    "pour anticiper un peu, c'est la raison pour laquelle on vous recommandera d'installer\n",
    "Python avec miniconda (dans la section qui traite de Python)\n",
    "\n",
    "ça veut dire en pratique que si à un moment de l'installation on vous demande un mot de\n",
    "passe administrateur, c'est que vous vous êtes fourvoyés et qu'il faut changer d'angle\n",
    "d'attaque"
   ]
  },
  {
   "cell_type": "markdown",
   "id": "72fffc42",
   "metadata": {
    "slideshow": {
     "slide_type": ""
    },
    "tags": []
   },
   "source": [
    "## le terminal"
   ]
  },
  {
   "cell_type": "markdown",
   "id": "8b6705d5",
   "metadata": {},
   "source": [
    "le premier outil que nous allons voir c'est ce qu'on appelle le terminal;  \n",
    "un terminal qu'est-ce que c'est ?\n",
    "\n",
    "le terminal c'est tout simplement un programme qui permet d'exécuter des commandes"
   ]
  },
  {
   "cell_type": "code",
   "execution_count": 2,
   "id": "1bf23126",
   "metadata": {
    "hide_input": false
   },
   "outputs": [
    {
     "name": "stdout",
     "output_type": "stream",
     "text": [
      "/home/runner/work/python-numerique/python-numerique/notebooks\r\n",
      "\n"
     ]
    }
   ],
   "source": [
    "# la commande la plus basique est `pwd`\n",
    "# pour afficher le répertoire courant\n",
    "\n",
    "pwd"
   ]
  },
  {
   "cell_type": "markdown",
   "id": "fd6572ed",
   "metadata": {},
   "source": [
    "### `bash`"
   ]
  },
  {
   "cell_type": "markdown",
   "id": "0aea0276",
   "metadata": {},
   "source": [
    "il y a plein de types de terminal selon les systèmes d'exploitation, mais pour que nous\n",
    "travaillions tous ensemble sur le même objet, nous allons choisir un terminal qui\n",
    "s'appelle ``bash``\n",
    "\n",
    "* `bash` vient avec l'installation de base sur MacOS et linux\n",
    "* sur Windows, il faut l'installer séparément.  \n",
    "  nous allons vous guider dans l'installation d'une app qui s'appelle ***git for\n",
    "  windows*** qui est cool parce qu'elle contient\n",
    "  * le terminal `bash`, comme ça tout le monde a le même sur tous les OS  \n",
    "  * et `git`, on va bientôt en parler, bref on fait d'une pierre deux coups\n",
    "\n",
    "**mais attendez un peu avant de vous précipiter à installer ça !**  \n",
    "\n",
    "en effet avant de voir cette installation, on va faire une digression sur la façon dont le\n",
    "terminal recherche ses commandes"
   ]
  },
  {
   "cell_type": "markdown",
   "id": "29f82732",
   "metadata": {},
   "source": [
    "### `command not found`"
   ]
  },
  {
   "cell_type": "markdown",
   "id": "eb5d73b2",
   "metadata": {},
   "source": [
    "la première difficulté rencontrée par les débutants, c'est ce genre de symptôme  \n",
    "(rappelez-vous, on exécute les cellules avec *Maj-Entrée*)"
   ]
  },
  {
   "cell_type": "code",
   "execution_count": 3,
   "id": "99d8e355",
   "metadata": {},
   "outputs": [
    {
     "name": "stdout",
     "output_type": "stream",
     "text": [
      "\r\n",
      "Command 'tutu' not found, did you mean:\r\n",
      "\r\n",
      "  command 'tudu' from deb tudu (0.10.3-1build1)\r\n",
      "\r\n",
      "Try: apt install <deb name>\r\n",
      "\r\n",
      "\n"
     ]
    }
   ],
   "source": [
    "# j'essaie d'appeler une commande qui n'existe pas \n",
    "\n",
    "tutu"
   ]
  },
  {
   "cell_type": "markdown",
   "id": "4b0cd8a9",
   "metadata": {},
   "source": [
    "ce message d'erreur `command not found` - ou `commande introuvable` - vous indique le plus\n",
    "souvent qu'il y a quelque chose de mal installé"
   ]
  },
  {
   "cell_type": "markdown",
   "id": "14338593",
   "metadata": {
    "tags": [
     "level_intermediate"
    ]
   },
   "source": [
    "### le `PATH`"
   ]
  },
  {
   "cell_type": "markdown",
   "id": "b24de681",
   "metadata": {
    "tags": [
     "level_intermediate"
    ]
   },
   "source": [
    "le `PATH` c'est le mécanisme qui permet au terminal de trouver les commandes\n",
    "\n",
    "du coup quand on installe un nouveau logiciel, comme on va le faire tout de suite avec\n",
    "'git for windows', il est parfois nécessaire de modifier le `PATH` pour que les nouvelles\n",
    "commandes deviennent accessibles depuis le terminal"
   ]
  },
  {
   "cell_type": "markdown",
   "id": "ef70d76a",
   "metadata": {
    "tags": [
     "level_intermediate"
    ]
   },
   "source": [
    "ce n'est pas crucial de le savoir, mais si vous êtes curieux, sachez que\n",
    "\n",
    "* `PATH` c'est ce qu'on appelle une variable d'environnement (ça veut dire qu'elle se\n",
    "  propage d'un processus à l'autre),\n",
    "* et que c'est une liste de répertoires où sont cherchées les commandes"
   ]
  },
  {
   "cell_type": "code",
   "execution_count": 4,
   "id": "57e47b2d",
   "metadata": {
    "tags": [
     "level_intermediate"
    ]
   },
   "outputs": [
    {
     "name": "stdout",
     "output_type": "stream",
     "text": [
      "/usr/share/miniconda/envs/python-numérique/bin:/usr/share/miniconda/condabin:/usr/share/miniconda/condabin:/home/linuxbrew/.linuxbrew/bin:/home/linuxbrew/.linuxbrew/sbin:/home/runner/.local/bin:/opt/pipx_bin:/usr/share/rust/.cargo/bin:/home/runner/.config/composer/vendor/bin:/usr/local/.ghcup/bin:/home/runner/.dotnet/tools:/snap/bin:/usr/local/sbin:/usr/local/bin:/usr/sbin:/usr/bin:/sbin:/bin:/usr/games:/usr/local/games:/snap/bin:/home/runner/.dotnet/tools\r\n",
      "\n"
     ]
    }
   ],
   "source": [
    "# ici le ':' est un séparateur\n",
    "echo $PATH"
   ]
  },
  {
   "cell_type": "markdown",
   "id": "6e55487d",
   "metadata": {
    "tags": []
   },
   "source": [
    "### installation de  `bash`"
   ]
  },
  {
   "cell_type": "markdown",
   "id": "7dc0c0f3",
   "metadata": {},
   "source": [
    "Vous êtes sous linux ou sur MacOs donc vous avez déjà `bash`."
   ]
  },
  {
   "cell_type": "markdown",
   "id": "0dda379c",
   "metadata": {},
   "source": [
    "Vous êtes sous Windows : on a vu qu'en installant ***git for windows*** on va faire d'une\n",
    "pierre deux coups, et installer à la fois `bash` et `git`\n",
    "\n",
    "* allez sur le site là  <https://gitforwindows.org/>, on va vous guider (en vous montrant\n",
    "  son installation pas à pas)"
   ]
  },
  {
   "cell_type": "markdown",
   "id": "74b76a24",
   "metadata": {},
   "source": [
    "> le professeur fait une installation en live de gitforwindows (éventuellement sur une virtualbox)\n",
    "\n",
    "à la question ***Adjusting your PATH environment*** :  \n",
    "choisissez au moins l'option recommandée (#2), idéalement l'option #3"
   ]
  },
  {
   "cell_type": "markdown",
   "id": "0682586b",
   "metadata": {},
   "source": [
    "![](media/fig-set-path-git-for-windows.png)"
   ]
  },
  {
   "cell_type": "markdown",
   "id": "95ae9bb6",
   "metadata": {},
   "source": [
    "### lancez un terminal"
   ]
  },
  {
   "cell_type": "markdown",
   "id": "967cdde9",
   "metadata": {},
   "source": [
    "![](media/fig-git-for-windows.png)"
   ]
  },
  {
   "cell_type": "markdown",
   "id": "85ba5f7f",
   "metadata": {},
   "source": [
    "### exercice\n",
    "\n",
    "* installer *git for windows* si vous êtes sur windows\n",
    "* lancez un terminal\n",
    "* le cas échéant créez un raccourci pour pouvoir lancer un terminal rapidement\n",
    "* tapez les commandes suivantes :\n",
    "\n",
    "![](media/fig-terminal.png)"
   ]
  },
  {
   "cell_type": "markdown",
   "id": "7799a3ef",
   "metadata": {},
   "source": [
    "## dossiers et fichiers"
   ]
  },
  {
   "cell_type": "markdown",
   "id": "cd09b011",
   "metadata": {},
   "source": [
    "le contenu du disque dur est organisé en **dossiers** et **fichiers**\n",
    "\n",
    "le **dossier** est juste un cas particulier de fichier  \n",
    "\n",
    "* qui **contient d'autres fichiers** (ou dossiers, donc)  \n",
    "* au lieu de contenir des données\n",
    "\n",
    "termes synonymes :\n",
    "\n",
    "* dossier, répertoire, *folder*, *directory*\n",
    "* fichier, *file*"
   ]
  },
  {
   "cell_type": "markdown",
   "id": "40408a94",
   "metadata": {},
   "source": [
    "### répertoire courant"
   ]
  },
  {
   "cell_type": "markdown",
   "id": "4b55cd43",
   "metadata": {},
   "source": [
    "tous les programmes (processus) ont ce qu'on appelle un répertoire courant\n",
    "\n",
    "dans le terminal on peut le voir avec la commande `pwd`  \n",
    "(*print working directory*)"
   ]
  },
  {
   "cell_type": "code",
   "execution_count": 5,
   "id": "17841b84",
   "metadata": {},
   "outputs": [
    {
     "name": "stdout",
     "output_type": "stream",
     "text": [
      "/home/runner/work/python-numerique/python-numerique/notebooks\r\n",
      "\n"
     ]
    }
   ],
   "source": [
    "# petite digression, ici je suis dans un notebook 'bash'\n",
    "# et je peux exécuter des commandes comme dans un terminal\n",
    "pwd"
   ]
  },
  {
   "cell_type": "markdown",
   "id": "9a14e64b",
   "metadata": {},
   "source": [
    "#### à quoi ça sert\n",
    "\n",
    "c'est uniquement une **commodité** pour ne pas avoir à retaper le chemin complet depuis la\n",
    "racine des dossiers\n",
    "\n",
    "je m'explique :"
   ]
  },
  {
   "cell_type": "code",
   "execution_count": 6,
   "id": "df3466f7",
   "metadata": {},
   "outputs": [
    {
     "name": "stdout",
     "output_type": "stream",
     "text": [
      "\n"
     ]
    }
   ],
   "source": [
    "# on crée un fichier bidon\n",
    "\n",
    "echo \"Hello world\" > foo.txt"
   ]
  },
  {
   "cell_type": "code",
   "execution_count": 7,
   "id": "66457005",
   "metadata": {},
   "outputs": [
    {
     "name": "stdout",
     "output_type": "stream",
     "text": [
      "0-01-intro.md\t\t\t  3-05-pandas-group-by.md\r\n",
      "0-02-outils.md\t\t\t  3-99-quiz.md\r\n",
      "0-10-demonstration.md\t\t  4-01-matplotlib-intro.md\r\n",
      "0-98-checklist.md\t\t  4-03-matplotlib-figure-and-sub-figures.md\r\n",
      "0-99-consignes-rendus.md\t  4-04-matplotlib-pandas-dataframe.md\r\n",
      "1-01-environnement.md\t\t  4-05-matplotlib-plots-3D.md\r\n",
      "1-02-rudiments.md\t\t  Makefile\r\n",
      "1-03-operateurs.md\t\t  TODO.md\r\n",
      "1-04-fonctions.md\t\t  __pycache__\r\n",
      "1-05-types-methodes.md\t\t  _build\r\n",
      "1-06-containers.md\t\t  _config.yml\r\n",
      "1-07-references-partagees.md\t  _toc.yml\r\n",
      "1-08-iterations.md\t\t  check_random_json.py\r\n",
      "1-09-modules.md\t\t\t  conf.py\r\n",
      "1-10-classes.md\t\t\t  corona-par-pays.csv\r\n",
      "1-98-quiz.md\t\t\t  foo.txt\r\n",
      "1-99-annonces.md\t\t  index.rst\r\n",
      "2-01-numpy-intro.md\t\t  iris-eng.csv\r\n",
      "2-02-numpy-type-memory.md\t  iris-simple.csv\r\n",
      "2-03-numpy-vectorization.md\t  iris.csv\r\n",
      "2-04-numpy-indexing-slicing.md\t  media\r\n",
      "2-05-numpy-broadcast.md\t\t  mod.py\r\n",
      "2-06-numpy-aggregate.md\t\t  my_figure.jpg\r\n",
      "2-07-numpy-array-testing.md\t  petit-titanic.csv\r\n",
      "2-08-numpy-linalg.md\t\t  rise.css\r\n",
      "2-99-quiz.md\t\t\t  titanic-sans-header.csv\r\n",
      "3-01-pandas-intro.md\t\t  titanic.csv\r\n",
      "3-02-pandas-modifying-slicing.md  tutu.txt\r\n",
      "3-04-pandas-sorting.md\t\t  wine.csv\r\n",
      "\n"
     ]
    }
   ],
   "source": [
    "# avec la commande `ls`\n",
    "# on peut voir la liste des fichiers\n",
    "# et donc ici on va voir entre autres\n",
    "# le fichier 'foo.txt' qu'on vient de créer\n",
    "\n",
    "ls"
   ]
  },
  {
   "cell_type": "code",
   "execution_count": 8,
   "id": "6f0107ba",
   "metadata": {},
   "outputs": [
    {
     "name": "stdout",
     "output_type": "stream",
     "text": [
      "foo.txt\r\n",
      "\n"
     ]
    }
   ],
   "source": [
    "# on peut vérifier que le fichier 'foo.txt' existe bien\n",
    "\n",
    "ls foo.txt"
   ]
  },
  {
   "cell_type": "code",
   "execution_count": 9,
   "id": "2f8d1acf",
   "metadata": {},
   "outputs": [
    {
     "name": "stdout",
     "output_type": "stream",
     "text": [
      "-rw-r--r-- 1 runner docker 12 Jul 25 17:26 foo.txt\r\n",
      "\n"
     ]
    }
   ],
   "source": [
    "# ou avoir plus de détails sur ce fichier\n",
    "# sa taille, sa date\n",
    "\n",
    "ls -l foo.txt"
   ]
  },
  {
   "cell_type": "code",
   "execution_count": 10,
   "id": "412cc58f",
   "metadata": {
    "tags": [
     "level_intermediate"
    ]
   },
   "outputs": [
    {
     "name": "stdout",
     "output_type": "stream",
     "text": [
      "\n"
     ]
    }
   ],
   "source": [
    "# pourquoi sa taille est de 12 ?\n",
    "# on a écrit dedans\n",
    "#\n",
    "# hello (5 caractères)\n",
    "# espace (1 caractère)\n",
    "# world (5 caractères)\n",
    "# newline (1 caractère)"
   ]
  },
  {
   "cell_type": "markdown",
   "id": "ec424e6c",
   "metadata": {
    "tags": [
     "level_advanced"
    ]
   },
   "source": [
    "pour les geeks, petite devinette, pourquoi est-ce que la taille de `bar.txt` est cette\n",
    "fois-ci de 13 ?"
   ]
  },
  {
   "cell_type": "code",
   "execution_count": 11,
   "id": "9a50cf20",
   "metadata": {
    "tags": [
     "level_advanced"
    ]
   },
   "outputs": [
    {
     "name": "stdout",
     "output_type": "stream",
     "text": [
      "ll: command not found\r\n",
      "\n"
     ]
    }
   ],
   "source": [
    "echo \"Hellö World\" > bar.txt\n",
    "\n",
    "# ll c'est un raccourci pour ls -l\n",
    "ll bar.txt"
   ]
  },
  {
   "cell_type": "markdown",
   "id": "64c446dc",
   "metadata": {},
   "source": [
    "reprenons; une autre commande utile c'est `cat`; ça permet tout simplement de voir le\n",
    "contenu d'un fichier"
   ]
  },
  {
   "cell_type": "code",
   "execution_count": 12,
   "id": "115ced0c",
   "metadata": {},
   "outputs": [
    {
     "name": "stdout",
     "output_type": "stream",
     "text": [
      "Hello world\r\n",
      "\n"
     ]
    }
   ],
   "source": [
    "# le point important c'est que je peux faire référence\n",
    "# à ce fichier sous le nom simplement 'foo.txt'\n",
    "\n",
    "cat foo.txt"
   ]
  },
  {
   "cell_type": "code",
   "execution_count": 13,
   "id": "4a81189c",
   "metadata": {},
   "outputs": [
    {
     "name": "stdout",
     "output_type": "stream",
     "text": [
      "/home/runner/work/python-numerique/python-numerique/notebooks\r\n",
      "\n"
     ]
    }
   ],
   "source": [
    "# et comme je suis dans le répertoire\n",
    "# /home/jovyan/work/notebooks\n",
    "\n",
    "pwd"
   ]
  },
  {
   "cell_type": "code",
   "execution_count": 14,
   "id": "3a771c75",
   "metadata": {},
   "outputs": [
    {
     "name": "stdout",
     "output_type": "stream",
     "text": [
      "cat: /home/jovyan/work/notebooks/foo.txt: No such file or directory\r\n",
      "\n"
     ]
    }
   ],
   "source": [
    "# je pourrais faire aussi\n",
    "# (à modifier éventuellement selon votre environnement)\n",
    "\n",
    "cat /home/jovyan/work/notebooks/foo.txt"
   ]
  },
  {
   "cell_type": "markdown",
   "id": "64e33a9a",
   "metadata": {},
   "source": [
    "et donc pour moi, parce que je suis dans le répertoire\n",
    "`/home/jovyan/work/notebooks/`\n",
    "\n",
    "c'est pareil de faire\n",
    "\n",
    "```console\n",
    "cat /home/jovyan/work/notebooks/foo.txt\n",
    "```\n",
    "\n",
    "ou tout simplement\n",
    "\n",
    "```\n",
    "cat foo.txt\n",
    "```"
   ]
  },
  {
   "cell_type": "markdown",
   "id": "85f4d4dd",
   "metadata": {
    "tags": []
   },
   "source": [
    "### chemins relatifs"
   ]
  },
  {
   "cell_type": "markdown",
   "id": "b2653870",
   "metadata": {
    "tags": [
     "level_intermediate"
    ]
   },
   "source": [
    "ce serait aussi équivalent de faire\n",
    "\n",
    "```console\n",
    "cat ./foo.txt\n",
    "```\n",
    "\n",
    "car le répertoire `.` désigne justement le répertoire courant"
   ]
  },
  {
   "cell_type": "markdown",
   "id": "236cfe82",
   "metadata": {
    "tags": []
   },
   "source": [
    "par convention `..` désigne le répertoire \"au dessus\" du répertoire courant  \n",
    "on l'utilise pour fabriquer des chemins du genre de\n",
    "\n",
    "    cat ../frere/neveu"
   ]
  },
  {
   "cell_type": "markdown",
   "id": "f1548898",
   "metadata": {
    "tags": []
   },
   "source": [
    "pour \"remonter\" dans l'arborescence des dossiers, je peux donc utiliser un chemin relatif"
   ]
  },
  {
   "cell_type": "code",
   "execution_count": 15,
   "id": "7c1df87a",
   "metadata": {
    "tags": []
   },
   "outputs": [
    {
     "name": "stdout",
     "output_type": "stream",
     "text": [
      "/home/runner/work/python-numerique/python-numerique/notebooks\r\n",
      "\n"
     ]
    }
   ],
   "source": [
    "pwd"
   ]
  },
  {
   "cell_type": "code",
   "execution_count": 16,
   "id": "5447e3f6",
   "metadata": {},
   "outputs": [
    {
     "name": "stdout",
     "output_type": "stream",
     "text": [
      "\n"
     ]
    }
   ],
   "source": [
    "# `cd` ça veut dire *change directory* \n",
    "\n",
    "cd .."
   ]
  },
  {
   "cell_type": "code",
   "execution_count": 17,
   "id": "7798ebe7",
   "metadata": {},
   "outputs": [
    {
     "name": "stdout",
     "output_type": "stream",
     "text": [
      "/home/runner/work/python-numerique/python-numerique\r\n",
      "\n"
     ]
    }
   ],
   "source": [
    "pwd"
   ]
  },
  {
   "cell_type": "markdown",
   "id": "16cdabcf",
   "metadata": {},
   "source": [
    "enfin, une astuce utile c'est pour **revenir en arrière** avec `cd -`"
   ]
  },
  {
   "cell_type": "code",
   "execution_count": 18,
   "id": "cdc342e2",
   "metadata": {},
   "outputs": [
    {
     "name": "stdout",
     "output_type": "stream",
     "text": [
      "/home/runner/work/python-numerique/python-numerique/notebooks\r\n",
      "\n"
     ]
    }
   ],
   "source": [
    "# du coup là je me retrouve à mon point de départ\n",
    "cd -"
   ]
  },
  {
   "cell_type": "code",
   "execution_count": 19,
   "id": "8583aeb8",
   "metadata": {},
   "outputs": [
    {
     "name": "stdout",
     "output_type": "stream",
     "text": [
      "/home/runner/work/python-numerique/python-numerique/notebooks/new-folder\r\n",
      "\n"
     ]
    }
   ],
   "source": [
    "# pour créer un répertoire je peux utiliser mkdir\n",
    "# attention toutefois car on ne peut pas le faire \n",
    "# s'il existe déjà\n",
    "\n",
    "mkdir new-folder\n",
    "cd new-folder\n",
    "pwd"
   ]
  },
  {
   "cell_type": "code",
   "execution_count": 20,
   "id": "e31d0540",
   "metadata": {},
   "outputs": [
    {
     "name": "stdout",
     "output_type": "stream",
     "text": [
      "\n"
     ]
    }
   ],
   "source": [
    "# qui bien sûr est vide \n",
    "\n",
    "ls "
   ]
  },
  {
   "cell_type": "code",
   "execution_count": 21,
   "id": "42f40b7b",
   "metadata": {},
   "outputs": [
    {
     "name": "stdout",
     "output_type": "stream",
     "text": [
      "/home/runner/work/python-numerique/python-numerique/notebooks\r\n",
      "\n"
     ]
    }
   ],
   "source": [
    "# et pour revenir à mon point de départ\n",
    "# je pourrais faire comme tout à l'heure\n",
    "# cd - \n",
    "# ou encore, puisque je sais que c'est juste un cran au dessus\n",
    "\n",
    "cd ..\n",
    "pwd"
   ]
  },
  {
   "cell_type": "markdown",
   "id": "d601062c",
   "metadata": {},
   "source": [
    "### répertoire utilisateur (*home directory*)"
   ]
  },
  {
   "cell_type": "markdown",
   "id": "6a9d6bd0",
   "metadata": {},
   "source": [
    "chaque utilisateur possède un répertoire,  \n",
    "qui est la racine de l'arbre dans lequel il peut ranger ses affaires  \n",
    "indépendamment du système d'exploitation\n",
    "\n",
    "pour y aller le plus simple est de faire simplement `cd` sans paramètre"
   ]
  },
  {
   "cell_type": "code",
   "execution_count": 22,
   "id": "432253e8",
   "metadata": {},
   "outputs": [
    {
     "name": "stdout",
     "output_type": "stream",
     "text": [
      "\n"
     ]
    }
   ],
   "source": [
    "# sans paramètre je retourne tout en haut de mon espace\n",
    "cd"
   ]
  },
  {
   "cell_type": "code",
   "execution_count": 23,
   "id": "2b9ae41a",
   "metadata": {},
   "outputs": [
    {
     "name": "stdout",
     "output_type": "stream",
     "text": [
      "/home/runner\r\n",
      "\n"
     ]
    }
   ],
   "source": [
    "# c'est mon home-directory\n",
    "pwd"
   ]
  },
  {
   "cell_type": "code",
   "execution_count": 24,
   "id": "72dab682",
   "metadata": {},
   "outputs": [
    {
     "name": "stdout",
     "output_type": "stream",
     "text": [
      "/home/runner/work/python-numerique/python-numerique/notebooks\r\n",
      "/home/runner/work/python-numerique/python-numerique/notebooks\r\n",
      "\n"
     ]
    }
   ],
   "source": [
    "# et je peux redescendre là d'où je venais\n",
    "cd -\n",
    "pwd"
   ]
  },
  {
   "cell_type": "markdown",
   "id": "e7e6179a",
   "metadata": {},
   "source": [
    "## organisation en dossiers"
   ]
  },
  {
   "cell_type": "markdown",
   "id": "6d7e9c30",
   "metadata": {},
   "source": [
    "quelques conseils pour organiser votre travail en dossiers"
   ]
  },
  {
   "cell_type": "markdown",
   "id": "d4c45dc7",
   "metadata": {},
   "source": [
    "### choisissez-vous un \"dossier principal\"\n",
    "\n",
    "le *homedir*, c'est une racine tentante pour mettre ses affaires, mais souvent il y a pas\n",
    "mal de fourbis dès le départ; sur Windows par exemple si vous regardez son contenu\n",
    "(faites-le !), vous verrez que c'est pas mal encombré\n",
    "\n",
    "du coup je vous conseille de vous choisir un dossier principal, pas trop profond par\n",
    "rapport à votre *homedir*, mais qui est vide au démarrage\n",
    "\n",
    "un choix pas absurde, sur toutes les platesformes, c'est de prendre comme dossier\n",
    "principal  \n",
    "`~/Desktop/git`  (dans bash, `~` représente le *homedir*)  \n",
    "l'avantage de choisir un dossier directement sous `~/Desktop/` est qu'on le voit\n",
    "apparaitre sur le bureau\n",
    "\n",
    "et en dessous de ce dossier principal vous allez ranger vos différents dossiers"
   ]
  },
  {
   "cell_type": "markdown",
   "id": "17d3a92a",
   "metadata": {},
   "source": [
    "### ne pas abuser sur la profondeur des arbres  \n",
    "\n",
    "évitez de couper les cheveux en 4 en créant plein de sous-répertoires, genre :\n",
    "\n",
    "~~`/User/dupont/Desktop/git/mines/première-année/info/ue12/python-numerique`~~\n",
    "\n",
    "au contraire :\n",
    "\n",
    "* si vous créez un dossier par sujet avec un nom explicite\n",
    "  * par exemple ce cours pourrait s'appeler `ue12-python-numerique`\n",
    "* et que vous regroupez tous ces dossiers dans **un seul répertoire**,\n",
    "* ça peut largement suffire\n",
    "\n",
    "du coup créez plutôt un dossier  \n",
    "`/User/dupont/Desktop/git/ue12-python-numerique`"
   ]
  },
  {
   "cell_type": "markdown",
   "id": "baca99a2",
   "metadata": {},
   "source": [
    "### noms de fichiers\n",
    "\n",
    "c'est assez facile (avec l'explorateur de fichiers notamment) de créer des fichiers dont\n",
    "le nom contient des caractères biscornus, comme des espaces ou des accents\n",
    "\n",
    "mais après ça devient rapidement compliqué de les utiliser, dans le terminal notamment\n",
    "\n",
    "c'est pourquoi on recommande d'**éviter les espaces et les accents** dans les noms de\n",
    "fichiers"
   ]
  },
  {
   "cell_type": "markdown",
   "id": "74713902",
   "metadata": {},
   "source": [
    "### créez des raccourcis\n",
    "\n",
    "pour pouvoir facilement accéder à vos fichiers, investissez un peu de temps pour trouver\n",
    "comment on peut créer des raccourcis depuis l'explorateur de fichiers"
   ]
  },
  {
   "cell_type": "markdown",
   "id": "ab2da75c",
   "metadata": {},
   "source": [
    "sur le screenshot suivant, on a choisi\n",
    "\n",
    "* de créer un dossier `git` directement dans le Desktop\n",
    "* pour l'instant il est vide, mais c'est là qu'on va ranger tous les dossiers de premier\n",
    "  niveau\n",
    "* comme il est créé dans le dossier `Desktop`, on voit ce dossier `git` directement sur le\n",
    "  bureau\n",
    "* et pour faire bon poids on a même créé un raccourci dans l'explorateur de fichiers\n",
    "* tout ça pour pouvoir y accéder rapidement en toute circonstance\n",
    "* remarquez aussi le menu contextuel; on peut facilement créer un `git bash` qui démarrera\n",
    "  directement dans ce dossier (`git` sera son répertoire courant)"
   ]
  },
  {
   "cell_type": "markdown",
   "id": "52207d83",
   "metadata": {},
   "source": [
    "*pour créer un raccourci dans l'explorateur Windows*\n",
    "\n",
    "![](media/fig-quick-acces-git.png)"
   ]
  },
  {
   "cell_type": "markdown",
   "id": "6674f6af",
   "metadata": {},
   "source": [
    "*une fois bien installé on peut rapidement accéder à notre dossier principal de plein de\n",
    "façons*\n",
    "\n",
    "![](media/fig-dossier-git.png)"
   ]
  },
  {
   "cell_type": "markdown",
   "id": "d1a533dc",
   "metadata": {
    "tags": [
     "level_intermediate"
    ]
   },
   "source": [
    "### affichez les extensions dans les noms de fichier\n",
    "\n",
    "dans l'explorateur Windows par défaut, si vous créez un fichier `foo.txt` on va vous\n",
    "montrer dans l'explorateur de fichiers une entrée qui s'affiche avec simplement `foo`\n",
    "\n",
    "par défaut, on a jugé que c'était \"plus simple\" de ne pas montrer l'extension, ici `.txt`  \n",
    "personnellement je ne trouve pas ça très pratique…\n",
    "\n",
    "voici comment on peut changer ce comportement, pour voir les noms de fichier en entier,\n",
    "i.e. comme avec le terminal\n",
    "\n",
    "\n",
    "![](media/fig-show-extensions-1.png)\n",
    "![](media/fig-show-extensions-2.png)"
   ]
  }
 ],
 "metadata": {
  "jupytext": {
   "cell_metadata_filter": "all, -hidden, -heading_collapsed, -run_control, -trusted",
   "notebook_metadata_filter": "all, -jupytext.text_representation.jupytext_version, -jupytext.text_representation.format_version, -language_info.version, -language_info.codemirror_mode.version, -language_info.codemirror_mode, -language_info.file_extension, -language_info.mimetype, -toc",
   "text_representation": {
    "extension": ".md",
    "format_name": "myst"
   }
  },
  "kernelspec": {
   "display_name": "Calysto Bash",
   "language": "bash",
   "name": "calysto_bash"
  },
  "language_info": {
   "file_extension": ".sh",
   "help_links": [
    {
     "text": "MetaKernel Magics",
     "url": "https://metakernel.readthedocs.io/en/latest/source/README.html"
    }
   ],
   "mimetype": "text/x-sh",
   "name": "bash",
   "version": "0.2.2"
  },
  "notebookname": "introduction",
  "source_map": [
   21,
   34,
   38,
   42,
   46,
   53,
   57,
   69,
   76,
   82,
   86,
   92,
   96,
   100,
   104,
   111,
   115,
   122,
   126,
   136,
   140,
   148,
   155,
   184,
   188,
   201,
   225,
   229,
   242,
   246,
   256,
   266,
   270,
   276,
   287,
   304,
   316,
   342,
   346,
   356,
   362,
   370,
   374,
   382,
   390,
   394,
   410,
   414,
   421,
   428,
   432,
   450,
   454,
   459,
   463,
   468,
   472,
   480,
   488,
   495,
   499,
   503,
   511,
   518,
   522,
   526,
   530,
   541,
   545,
   559,
   563,
   570,
   574,
   583,
   589,
   598,
   604,
   611,
   623,
   628,
   635,
   640,
   647,
   654,
   659,
   676,
   680,
   690,
   697,
   701,
   707,
   713,
   715,
   719,
   724,
   734,
   740,
   748,
   752,
   760,
   765,
   770,
   774,
   778,
   782,
   801,
   819,
   831,
   838,
   852,
   858,
   865
  ],
  "version": "1.0"
 },
 "nbformat": 4,
 "nbformat_minor": 5
}