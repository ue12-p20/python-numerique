{
 "cells": [
  {
   "cell_type": "markdown",
   "id": "d5dd2513",
   "metadata": {
    "slideshow": {
     "slide_type": "slide"
    }
   },
   "source": [
    "<div class=\"licence\">\n",
    "<span>Licence CC BY-NC-ND</span>\n",
    "<span>Thierry Parmentelat</span>\n",
    "</div>\n",
    "\n",
    "<img src=\"media/inria-25-alpha.png\" />"
   ]
  },
  {
   "cell_type": "markdown",
   "id": "b7df77e2",
   "metadata": {
    "slideshow": {
     "slide_type": ""
    }
   },
   "source": [
    "# fonctions"
   ]
  },
  {
   "cell_type": "markdown",
   "id": "3758b850",
   "metadata": {
    "slideshow": {
     "slide_type": "slide"
    }
   },
   "source": [
    "## le mot clé `def`\n",
    "\n",
    "on définit une fonction avec le mot-clé `def`"
   ]
  },
  {
   "cell_type": "code",
   "execution_count": 1,
   "id": "992855bb",
   "metadata": {
    "cell_style": "split"
   },
   "outputs": [],
   "source": [
    "# remarquez:\n",
    "# . l'indentation\n",
    "# . le mot clé return\n",
    "# . le docstring  \n",
    "def P(x):\n",
    "    \"\"\"\n",
    "    la fonction P implémente\n",
    "    le polynôme\n",
    "    que l'on étudie\n",
    "    \"\"\"\n",
    "    return x**2 + 3*x + 2"
   ]
  },
  {
   "cell_type": "code",
   "execution_count": 2,
   "id": "839c8924",
   "metadata": {
    "cell_style": "split"
   },
   "outputs": [
    {
     "data": {
      "text/plain": [
       "132"
      ]
     },
     "execution_count": 2,
     "metadata": {},
     "output_type": "execute_result"
    }
   ],
   "source": [
    "# un appel\n",
    "P(10)"
   ]
  },
  {
   "cell_type": "code",
   "execution_count": 3,
   "id": "56d42317",
   "metadata": {
    "cell_style": "split"
   },
   "outputs": [
    {
     "data": {
      "text/plain": [
       "10302"
      ]
     },
     "execution_count": 3,
     "metadata": {},
     "output_type": "execute_result"
    }
   ],
   "source": [
    "P(100)"
   ]
  },
  {
   "cell_type": "code",
   "execution_count": 4,
   "id": "8bbcc30e",
   "metadata": {
    "cell_style": "split"
   },
   "outputs": [
    {
     "name": "stdout",
     "output_type": "stream",
     "text": [
      "Help on function P in module __main__:\n",
      "\n",
      "P(x)\n",
      "    la fonction P implémente\n",
      "    le polynôme\n",
      "    que l'on étudie\n",
      "\n"
     ]
    }
   ],
   "source": [
    "# le docstring est rangé\n",
    "# dans la fonction\n",
    "help(P)"
   ]
  },
  {
   "cell_type": "markdown",
   "id": "80dbcd2f",
   "metadata": {
    "slideshow": {
     "slide_type": "slide"
    }
   },
   "source": [
    "## syntaxe"
   ]
  },
  {
   "cell_type": "markdown",
   "id": "0dcebcf3",
   "metadata": {},
   "source": [
    "en Python, les sauts de ligne et la présentation (indentation)  \n",
    "**font partie de la syntaxe**  \n",
    "c'est différent d'autres langages comme C++, Java, Javascript, ...  \n",
    "ce choix est fait pour **augmenter la lisibilité**  \n",
    "car on n'a alors pas besoin de sucre syntaxique comme `begin .. end` ou autres `{ .. } `"
   ]
  },
  {
   "cell_type": "markdown",
   "id": "d0ebe82c",
   "metadata": {
    "slideshow": {
     "slide_type": "slide"
    }
   },
   "source": [
    "## syntaxe - illustration  \n",
    "\n",
    "c'est l'indentation qui détermine la structure  \n",
    "l'usage est d'indenter de **4 espaces**  \n",
    "et de ne **pas utiliser** de tabulations (trop variables)"
   ]
  },
  {
   "cell_type": "markdown",
   "id": "757fba0f",
   "metadata": {
    "cell_style": "split"
   },
   "source": [
    "```c++\n",
    "// en Javascript\n",
    "// on écrirait\n",
    "function foo(i) {\n",
    "    if (i <= 0) {\n",
    "        fonction1(i);\n",
    "        fonction2(i);\n",
    "    } else {\n",
    "        fonction3(i);\n",
    "    }\n",
    "}\n",
    "```"
   ]
  },
  {
   "cell_type": "markdown",
   "id": "6e705cb2",
   "metadata": {
    "cell_style": "split"
   },
   "source": [
    "```python\n",
    "# en Python ce serait\n",
    "def foo(i):\n",
    "    if i <= 0:\n",
    "        fonction1(i)\n",
    "        fonction2(i)\n",
    "    else:\n",
    "        fonction3(i)\n",
    "```"
   ]
  },
  {
   "cell_type": "markdown",
   "id": "dd6cf8d8",
   "metadata": {
    "slideshow": {
     "slide_type": "slide"
    }
   },
   "source": [
    "## mot-clé `if`"
   ]
  },
  {
   "cell_type": "markdown",
   "id": "4cf5b006",
   "metadata": {
    "cell_style": "split"
   },
   "source": [
    "forme générale\n",
    "\n",
    "```python\n",
    "if exp1:\n",
    "    ...\n",
    "    ...\n",
    "elif exp2:\n",
    "    ...\n",
    "    ...\n",
    "else:\n",
    "    ...\n",
    "    ...\n",
    "```"
   ]
  },
  {
   "cell_type": "code",
   "execution_count": 5,
   "id": "c111030d",
   "metadata": {
    "cell_style": "split"
   },
   "outputs": [],
   "source": [
    "note = 14\n",
    "appreciation = None\n",
    "\n",
    "if note >= 16:\n",
    "    appreciation = 'félicitations'\n",
    "elif note >= 10:\n",
    "    appreciation = 'reçu'\n",
    "else:\n",
    "    appreciation = 'recalé'"
   ]
  },
  {
   "cell_type": "code",
   "execution_count": 6,
   "id": "ae34f449",
   "metadata": {},
   "outputs": [
    {
     "data": {
      "text/plain": [
       "'reçu'"
      ]
     },
     "execution_count": 6,
     "metadata": {},
     "output_type": "execute_result"
    }
   ],
   "source": [
    " appreciation"
   ]
  },
  {
   "cell_type": "markdown",
   "id": "2744d12e",
   "metadata": {
    "cell_style": "split",
    "slideshow": {
     "slide_type": "slide"
    }
   },
   "source": [
    "## boucle `while`\n",
    "\n",
    "forme générale  \n",
    "\n",
    "```python\n",
    "while exp:\n",
    "    ...\n",
    "    ...\n",
    "```"
   ]
  },
  {
   "cell_type": "code",
   "execution_count": 7,
   "id": "1147ae60",
   "metadata": {
    "cell_style": "split"
   },
   "outputs": [],
   "source": [
    "n = 132\n",
    "log = 0\n",
    "\n",
    "while n >= 1:\n",
    "    log = log + 1\n",
    "    n = n // 2"
   ]
  },
  {
   "cell_type": "code",
   "execution_count": 8,
   "id": "80d77e92",
   "metadata": {
    "cell_style": "split"
   },
   "outputs": [
    {
     "data": {
      "text/plain": [
       "8"
      ]
     },
     "execution_count": 8,
     "metadata": {},
     "output_type": "execute_result"
    }
   ],
   "source": [
    "log"
   ]
  },
  {
   "cell_type": "markdown",
   "id": "78dad8c5",
   "metadata": {
    "slideshow": {
     "slide_type": "slide"
    }
   },
   "source": [
    "## `return`"
   ]
  },
  {
   "cell_type": "markdown",
   "id": "9856ab91",
   "metadata": {},
   "source": [
    "une fonction est censée retourner quelque chose  \n",
    "\n",
    "    resultat = fonction(arguments)\n",
    "\n",
    "avec `return` on indique ce qui est le résultat  \n",
    "l'exécution de la fonction **s'arrête** à ce moment-là  \n",
    "si pas de `return`, le retour est `None`"
   ]
  },
  {
   "cell_type": "code",
   "execution_count": 9,
   "id": "452b5544",
   "metadata": {
    "cell_style": "split",
    "slideshow": {
     "slide_type": "slide"
    }
   },
   "outputs": [],
   "source": [
    "# une fonction incomplète\n",
    "def broken_abs(n):\n",
    "    if n <= 0:\n",
    "        return -n"
   ]
  },
  {
   "cell_type": "code",
   "execution_count": 10,
   "id": "b4a10b21",
   "metadata": {
    "cell_style": "split"
   },
   "outputs": [
    {
     "data": {
      "text/plain": [
       "10"
      ]
     },
     "execution_count": 10,
     "metadata": {},
     "output_type": "execute_result"
    }
   ],
   "source": [
    "# avec un négatif  \n",
    "broken_abs(-10)"
   ]
  },
  {
   "cell_type": "code",
   "execution_count": 11,
   "id": "51c91b75",
   "metadata": {
    "cell_style": "split"
   },
   "outputs": [],
   "source": [
    "# ici la fonction retourne None\n",
    "# du coup le notebook n'affiche rien\n",
    "broken_abs(10)"
   ]
  },
  {
   "cell_type": "code",
   "execution_count": 12,
   "id": "7f00f6e3",
   "metadata": {
    "cell_style": "split"
   },
   "outputs": [],
   "source": [
    "def fixed_abs(n):\n",
    "    if n <= 0:\n",
    "        return -n\n",
    "    return n"
   ]
  },
  {
   "cell_type": "code",
   "execution_count": 13,
   "id": "b5e8c52b",
   "metadata": {
    "cell_style": "split"
   },
   "outputs": [
    {
     "data": {
      "text/plain": [
       "10"
      ]
     },
     "execution_count": 13,
     "metadata": {},
     "output_type": "execute_result"
    }
   ],
   "source": [
    "# on ignore la dernière ligne\n",
    "# puisqu'on est arrivé au return\n",
    "fixed_abs(-10)"
   ]
  },
  {
   "cell_type": "code",
   "execution_count": 14,
   "id": "0e3548e8",
   "metadata": {
    "cell_style": "split"
   },
   "outputs": [
    {
     "data": {
      "text/plain": [
       "10"
      ]
     },
     "execution_count": 14,
     "metadata": {},
     "output_type": "execute_result"
    }
   ],
   "source": [
    "fixed_abs(10)"
   ]
  },
  {
   "cell_type": "markdown",
   "id": "f0faf3bb",
   "metadata": {
    "slideshow": {
     "slide_type": "slide"
    }
   },
   "source": [
    "## variables locales"
   ]
  },
  {
   "cell_type": "markdown",
   "id": "c72c83c9",
   "metadata": {},
   "source": [
    "à l'intérieur d'une fonction on peut naturellement utiliser des variables  \n",
    "la **portée** de ces variables est **limitée à la fonction**  \n",
    "ici les deux variables `var` sont des entités **distinctes**"
   ]
  },
  {
   "cell_type": "code",
   "execution_count": 15,
   "id": "932dbf24",
   "metadata": {
    "cell_style": "split"
   },
   "outputs": [],
   "source": [
    "var = \"globale\"\n",
    "\n",
    "def polynom(n):\n",
    "    \"\"\"\n",
    "    polynome 4.x3 + 3.x2 + 2x + 1\n",
    "    sans mise à la puissance\n",
    "    \"\"\"\n",
    "    var = n         # var = n\n",
    "    resultat = 1\n",
    "    resultat += 2 * var\n",
    "    var = var * n   # var = n**2\n",
    "    resultat += 3 * var\n",
    "    var = var * n   # var = n**3\n",
    "    resultat += 4 * var\n",
    "    print(f\"dans def: var = {var}\")\n",
    "    return resultat"
   ]
  },
  {
   "cell_type": "code",
   "execution_count": 16,
   "id": "0ce3d4d0",
   "metadata": {
    "cell_style": "split"
   },
   "outputs": [
    {
     "name": "stdout",
     "output_type": "stream",
     "text": [
      "dans def: var = 1\n"
     ]
    },
    {
     "data": {
      "text/plain": [
       "10"
      ]
     },
     "execution_count": 16,
     "metadata": {},
     "output_type": "execute_result"
    }
   ],
   "source": [
    "polynom(1)"
   ]
  },
  {
   "cell_type": "code",
   "execution_count": 17,
   "id": "95c2b9c5",
   "metadata": {
    "cell_style": "split"
   },
   "outputs": [
    {
     "name": "stdout",
     "output_type": "stream",
     "text": [
      "dans def: var = 1000\n"
     ]
    },
    {
     "data": {
      "text/plain": [
       "4321"
      ]
     },
     "execution_count": 17,
     "metadata": {},
     "output_type": "execute_result"
    }
   ],
   "source": [
    "polynom(10)"
   ]
  },
  {
   "cell_type": "code",
   "execution_count": 18,
   "id": "b9d4e2fc",
   "metadata": {
    "cell_style": "split"
   },
   "outputs": [
    {
     "data": {
      "text/plain": [
       "'globale'"
      ]
     },
     "execution_count": 18,
     "metadata": {},
     "output_type": "execute_result"
    }
   ],
   "source": [
    "var"
   ]
  },
  {
   "cell_type": "markdown",
   "id": "e0bf3a93",
   "metadata": {
    "slideshow": {
     "slide_type": "slide"
    }
   },
   "source": [
    "## appels imbriqués / récursion"
   ]
  },
  {
   "cell_type": "markdown",
   "id": "63909ed5",
   "metadata": {
    "cell_style": "center"
   },
   "source": [
    "bien sûr dans le code d'une fonction  \n",
    "on peut appeler d'autres fonctions  \n",
    "y compris la fonction courante : fonction **récursive**  (cf `fact.py`)"
   ]
  },
  {
   "cell_type": "markdown",
   "id": "68006803",
   "metadata": {
    "cell_style": "center"
   },
   "source": [
    "lorsque `f` appelle `g`,  \n",
    "`f` est en quelque sorte *mise en suspens* pendant l'exécution de `g`  \n",
    "du coup il est nécessaire de conserver où en est `f`  \n",
    "\n",
    "* à quel point on en est dans `f`\n",
    "* la valeur des variables locales de `f`"
   ]
  },
  {
   "cell_type": "markdown",
   "id": "55c2bd90",
   "metadata": {
    "slideshow": {
     "slide_type": "slide"
    }
   },
   "source": [
    "## pile d'exécution"
   ]
  },
  {
   "cell_type": "markdown",
   "id": "123bbd2d",
   "metadata": {},
   "source": [
    "c'est le propos de la pile d'exécution  \n",
    "qui conserve la trace des appels imbriqués  \n",
    "\n",
    "illustrons cela avec https://pythontutor.com/  \n",
    "un site qui est très utile pour visualiser l'exécution de code simple"
   ]
  },
  {
   "cell_type": "code",
   "execution_count": 19,
   "id": "456ea502",
   "metadata": {
    "cell_style": "center"
   },
   "outputs": [],
   "source": [
    "# une magie pour créer des cellules sous pythontutor.com\n",
    "\n",
    "%load_ext ipythontutor"
   ]
  },
  {
   "cell_type": "code",
   "execution_count": 20,
   "id": "deb4a5b7",
   "metadata": {
    "cell_style": "center",
    "slideshow": {
     "slide_type": "slide"
    }
   },
   "outputs": [
    {
     "data": {
      "application/vnd.jupyter.widget-view+json": {
       "model_id": "ee9d910b86ac41ba9f39186bb2983826",
       "version_major": 2,
       "version_minor": 0
      },
      "text/plain": [
       "HTML(value='<style>#ipythontutor1 </style><style>#ipythontutor2 { max-width:750px; max-height:500px; box-sizin…"
      ]
     },
     "metadata": {},
     "output_type": "display_data"
    }
   ],
   "source": [
    "%%ipythontutor height=500\n",
    "\n",
    "def fact(n):\n",
    "    if n <= 1:\n",
    "        return n\n",
    "    else:\n",
    "        return n * fact(n-1)\n",
    "\n",
    "# pour visualiser la pile d'exécution\n",
    "\n",
    "x = fact(3)"
   ]
  },
  {
   "cell_type": "markdown",
   "id": "2a7c52c0",
   "metadata": {
    "slideshow": {
     "slide_type": "slide"
    }
   },
   "source": [
    "## exceptions"
   ]
  },
  {
   "cell_type": "markdown",
   "id": "a801b9e0",
   "metadata": {},
   "source": [
    "le mot-clé `raise` permet de **lever une exception**  \n",
    "cela a pour effet d'interrompre la fonction courante  \n",
    "et de **dépiler** les appels jusqu'à  \n",
    "trouver un `except` qui **attrape l'exception**"
   ]
  },
  {
   "cell_type": "code",
   "execution_count": 21,
   "id": "1d1ac0ea",
   "metadata": {
    "cell_style": "center",
    "slideshow": {
     "slide_type": "slide"
    }
   },
   "outputs": [],
   "source": [
    "# une fonction qui va faire raise\n",
    "# mais pas tout de suite\n",
    "def time_bomb(n):\n",
    "    print(f\"in time_bomb({n})\")\n",
    "    if n > 0:\n",
    "        return time_bomb(n-1)\n",
    "    else:\n",
    "        raise OverflowError(\"BOOM\")"
   ]
  },
  {
   "cell_type": "code",
   "execution_count": 22,
   "id": "4a9737bb",
   "metadata": {
    "cell_style": "split",
    "slideshow": {
     "slide_type": "slide"
    },
    "tags": [
     "raises-exception"
    ]
   },
   "outputs": [
    {
     "name": "stdout",
     "output_type": "stream",
     "text": [
      "in time_bomb(1)\n",
      "in time_bomb(0)\n"
     ]
    },
    {
     "ename": "OverflowError",
     "evalue": "BOOM",
     "output_type": "error",
     "traceback": [
      "\u001b[0;31m---------------------------------------------------------------------------\u001b[0m",
      "\u001b[0;31mOverflowError\u001b[0m                             Traceback (most recent call last)",
      "\u001b[0;32m/tmp/ipykernel_1885/3279229454.py\u001b[0m in \u001b[0;36m<module>\u001b[0;34m\u001b[0m\n\u001b[1;32m      6\u001b[0m     \u001b[0mprint\u001b[0m\u001b[0;34m(\u001b[0m\u001b[0;34m\"will never pass here\"\u001b[0m\u001b[0;34m)\u001b[0m\u001b[0;34m\u001b[0m\u001b[0;34m\u001b[0m\u001b[0m\n\u001b[1;32m      7\u001b[0m \u001b[0;34m\u001b[0m\u001b[0m\n\u001b[0;32m----> 8\u001b[0;31m \u001b[0mdriver\u001b[0m\u001b[0;34m(\u001b[0m\u001b[0;34m)\u001b[0m\u001b[0;34m\u001b[0m\u001b[0;34m\u001b[0m\u001b[0m\n\u001b[0m",
      "\u001b[0;32m/tmp/ipykernel_1885/3279229454.py\u001b[0m in \u001b[0;36mdriver\u001b[0;34m()\u001b[0m\n\u001b[1;32m      3\u001b[0m \u001b[0;31m# d'une manière très abrupte\u001b[0m\u001b[0;34m\u001b[0m\u001b[0;34m\u001b[0m\u001b[0;34m\u001b[0m\u001b[0m\n\u001b[1;32m      4\u001b[0m \u001b[0;32mdef\u001b[0m \u001b[0mdriver\u001b[0m\u001b[0;34m(\u001b[0m\u001b[0;34m)\u001b[0m\u001b[0;34m:\u001b[0m\u001b[0;34m\u001b[0m\u001b[0;34m\u001b[0m\u001b[0m\n\u001b[0;32m----> 5\u001b[0;31m     \u001b[0mtime_bomb\u001b[0m\u001b[0;34m(\u001b[0m\u001b[0;36m1\u001b[0m\u001b[0;34m)\u001b[0m\u001b[0;34m\u001b[0m\u001b[0;34m\u001b[0m\u001b[0m\n\u001b[0m\u001b[1;32m      6\u001b[0m     \u001b[0mprint\u001b[0m\u001b[0;34m(\u001b[0m\u001b[0;34m\"will never pass here\"\u001b[0m\u001b[0;34m)\u001b[0m\u001b[0;34m\u001b[0m\u001b[0;34m\u001b[0m\u001b[0m\n\u001b[1;32m      7\u001b[0m \u001b[0;34m\u001b[0m\u001b[0m\n",
      "\u001b[0;32m/tmp/ipykernel_1885/3588744217.py\u001b[0m in \u001b[0;36mtime_bomb\u001b[0;34m(n)\u001b[0m\n\u001b[1;32m      4\u001b[0m     \u001b[0mprint\u001b[0m\u001b[0;34m(\u001b[0m\u001b[0;34mf\"in time_bomb({n})\"\u001b[0m\u001b[0;34m)\u001b[0m\u001b[0;34m\u001b[0m\u001b[0;34m\u001b[0m\u001b[0m\n\u001b[1;32m      5\u001b[0m     \u001b[0;32mif\u001b[0m \u001b[0mn\u001b[0m \u001b[0;34m>\u001b[0m \u001b[0;36m0\u001b[0m\u001b[0;34m:\u001b[0m\u001b[0;34m\u001b[0m\u001b[0;34m\u001b[0m\u001b[0m\n\u001b[0;32m----> 6\u001b[0;31m         \u001b[0;32mreturn\u001b[0m \u001b[0mtime_bomb\u001b[0m\u001b[0;34m(\u001b[0m\u001b[0mn\u001b[0m\u001b[0;34m-\u001b[0m\u001b[0;36m1\u001b[0m\u001b[0;34m)\u001b[0m\u001b[0;34m\u001b[0m\u001b[0;34m\u001b[0m\u001b[0m\n\u001b[0m\u001b[1;32m      7\u001b[0m     \u001b[0;32melse\u001b[0m\u001b[0;34m:\u001b[0m\u001b[0;34m\u001b[0m\u001b[0;34m\u001b[0m\u001b[0m\n\u001b[1;32m      8\u001b[0m         \u001b[0;32mraise\u001b[0m \u001b[0mOverflowError\u001b[0m\u001b[0;34m(\u001b[0m\u001b[0;34m\"BOOM\"\u001b[0m\u001b[0;34m)\u001b[0m\u001b[0;34m\u001b[0m\u001b[0;34m\u001b[0m\u001b[0m\n",
      "\u001b[0;32m/tmp/ipykernel_1885/3588744217.py\u001b[0m in \u001b[0;36mtime_bomb\u001b[0;34m(n)\u001b[0m\n\u001b[1;32m      6\u001b[0m         \u001b[0;32mreturn\u001b[0m \u001b[0mtime_bomb\u001b[0m\u001b[0;34m(\u001b[0m\u001b[0mn\u001b[0m\u001b[0;34m-\u001b[0m\u001b[0;36m1\u001b[0m\u001b[0;34m)\u001b[0m\u001b[0;34m\u001b[0m\u001b[0;34m\u001b[0m\u001b[0m\n\u001b[1;32m      7\u001b[0m     \u001b[0;32melse\u001b[0m\u001b[0;34m:\u001b[0m\u001b[0;34m\u001b[0m\u001b[0;34m\u001b[0m\u001b[0m\n\u001b[0;32m----> 8\u001b[0;31m         \u001b[0;32mraise\u001b[0m \u001b[0mOverflowError\u001b[0m\u001b[0;34m(\u001b[0m\u001b[0;34m\"BOOM\"\u001b[0m\u001b[0;34m)\u001b[0m\u001b[0;34m\u001b[0m\u001b[0;34m\u001b[0m\u001b[0m\n\u001b[0m",
      "\u001b[0;31mOverflowError\u001b[0m: BOOM"
     ]
    }
   ],
   "source": [
    "# si personne n'attrape un raise\n",
    "# le contrôle retourne à l'OS\n",
    "# d'une manière très abrupte\n",
    "def driver():\n",
    "    time_bomb(1)\n",
    "    print(\"will never pass here\")\n",
    "\n",
    "driver()"
   ]
  },
  {
   "cell_type": "markdown",
   "id": "e5c217cc",
   "metadata": {
    "cell_style": "split"
   },
   "source": [
    "![uncaught](media/except-stack-uncaught.png)"
   ]
  },
  {
   "cell_type": "code",
   "execution_count": 23,
   "id": "d7ab78e0",
   "metadata": {
    "cell_style": "split",
    "slideshow": {
     "slide_type": "slide"
    }
   },
   "outputs": [
    {
     "name": "stdout",
     "output_type": "stream",
     "text": [
      "in time_bomb(2)\n",
      "in time_bomb(1)\n",
      "in time_bomb(0)\n",
      "OOPS <class 'OverflowError'>, BOOM\n",
      "will do this\n"
     ]
    }
   ],
   "source": [
    "# cette fois tout est\n",
    "# sous contrôle\n",
    "def driver_try():\n",
    "    try:\n",
    "        time_bomb(2)\n",
    "    except Exception as exc:\n",
    "        print(f\"OOPS {type(exc)}, {exc}\")\n",
    "    print(\"will do this\")\n",
    "\n",
    "driver_try()"
   ]
  },
  {
   "cell_type": "markdown",
   "id": "c64e11ab",
   "metadata": {
    "cell_style": "split"
   },
   "source": [
    "![try](media/except-stack-try.png)"
   ]
  },
  {
   "cell_type": "markdown",
   "id": "21bcf077",
   "metadata": {
    "slideshow": {
     "slide_type": "slide"
    }
   },
   "source": [
    "## clause `except`"
   ]
  },
  {
   "cell_type": "markdown",
   "id": "d5679e1f",
   "metadata": {
    "cell_style": "center"
   },
   "source": [
    "* la clause `raise` doit fournir un objet idoine  \n",
    "  ne peut pas par exemple faire `raise 1`\n",
    "\n",
    "* doit être une instance d'un objet de type `BaseException`  \n",
    "  (ou de l'une de ses sous-classes)\n",
    "\n",
    "* la clause `except` permet de n'attraper  \n",
    "  qu'une partie des exceptions possibles"
   ]
  },
  {
   "cell_type": "markdown",
   "id": "aac5d836",
   "metadata": {
    "slideshow": {
     "slide_type": "slide"
    }
   },
   "source": [
    "## passage d'arguments\n",
    "\n",
    "les mécanismes de définition et de passage de paramètres sont assez complexes (cf cours\n",
    "avancé)  \n",
    "pour cette introduction disons simplement qu'on peut définir des paramètres optionnels :"
   ]
  },
  {
   "cell_type": "code",
   "execution_count": 24,
   "id": "dbe8b7cc",
   "metadata": {},
   "outputs": [],
   "source": [
    "# une fonction qui accepte un ou deux arguments\n",
    "def foo(obligatoire, optionnel=10):\n",
    "    print(f\"obligatoire={obligatoire} optionnel={optionnel}\")"
   ]
  },
  {
   "cell_type": "code",
   "execution_count": 25,
   "id": "d31e4de6",
   "metadata": {
    "cell_style": "split"
   },
   "outputs": [
    {
     "name": "stdout",
     "output_type": "stream",
     "text": [
      "obligatoire=100 optionnel=20\n"
     ]
    }
   ],
   "source": [
    "# avec deux arguments\n",
    "foo(100, 20)"
   ]
  },
  {
   "cell_type": "code",
   "execution_count": 26,
   "id": "781acfa8",
   "metadata": {
    "cell_style": "split"
   },
   "outputs": [
    {
     "name": "stdout",
     "output_type": "stream",
     "text": [
      "obligatoire=1000 optionnel=10\n"
     ]
    }
   ],
   "source": [
    "# ou avec un seul\n",
    "foo(1000)"
   ]
  },
  {
   "cell_type": "markdown",
   "id": "347d9013",
   "metadata": {
    "slideshow": {
     "slide_type": "notes"
    }
   },
   "source": [
    "On verra un peu plus loin comment manipuler un nombre variable d'arguments; mais pour cela\n",
    "on a besoin d'etudier d'abord les types évolués de Python."
   ]
  },
  {
   "cell_type": "markdown",
   "id": "d8f1b811",
   "metadata": {
    "cell_style": "center",
    "slideshow": {
     "slide_type": "slide"
    }
   },
   "source": [
    "## exercices"
   ]
  },
  {
   "cell_type": "markdown",
   "id": "273af200",
   "metadata": {
    "cell_style": "center"
   },
   "source": [
    "https://nbhosting.inria.fr/auditor/notebook/python-mooc:exos/w4/w4-s3-x1-pgcd  \n",
    "https://nbhosting.inria.fr/auditor/notebook/python-mooc:exos/w4/w4-s3-x4-power"
   ]
  },
  {
   "cell_type": "markdown",
   "id": "c44d4aac",
   "metadata": {
    "cell_style": "split",
    "slideshow": {
     "slide_type": ""
    }
   },
   "source": [
    "écrire une fonction qui calcule la puissance entière\n",
    "\n",
    "```python\n",
    "def power(x, n):\n",
    "    \"\"\"\n",
    "    retourne x à la puissance n\n",
    "    en O(log(n))\n",
    "    \"\"\"\n",
    "    pass # votre code ici\n",
    "```"
   ]
  },
  {
   "cell_type": "markdown",
   "id": "f2a5b83a",
   "metadata": {
    "cell_style": "split"
   },
   "source": [
    "écrire une fonction qui calcule de pgcd\n",
    "\n",
    "```python\n",
    "def pgcd(a, b):\n",
    "    \"\"\"\n",
    "    retourne le pgcd de a et b\n",
    "    par convention on admet que\n",
    "    pgcd(0, n) == pgcd(n, 0) = n\n",
    "    \"\"\"\n",
    "    pass\n",
    "```"
   ]
  }
 ],
 "metadata": {
  "jupytext": {
   "cell_metadata_filter": "all, -hidden, -heading_collapsed, -run_control, -trusted",
   "notebook_metadata_filter": "all, -jupytext.text_representation.jupytext_version, -jupytext.text_representation.format_version, -language_info.version, -language_info.codemirror_mode.version, -language_info.codemirror_mode, -language_info.file_extension, -language_info.mimetype, -toc",
   "text_representation": {
    "extension": ".md",
    "format_name": "myst"
   }
  },
  "kernelspec": {
   "display_name": "Python 3",
   "language": "python",
   "name": "python3"
  },
  "language_info": {
   "codemirror_mode": {
    "name": "ipython",
    "version": 3
   },
   "file_extension": ".py",
   "mimetype": "text/x-python",
   "name": "python",
   "nbconvert_exporter": "python",
   "pygments_lexer": "ipython3",
   "version": "3.9.5"
  },
  "notebookname": "fonctions",
  "rise": {
   "autolaunch": true,
   "slideNumber": "c/t",
   "start_slideshow_at": "selected",
   "theme": "sky",
   "transition": "cube"
  },
  "source_map": [
   27,
   36,
   40,
   46,
   62,
   69,
   75,
   83,
   87,
   95,
   103,
   118,
   130,
   134,
   150,
   164,
   168,
   180,
   191,
   197,
   201,
   211,
   223,
   230,
   238,
   247,
   255,
   261,
   265,
   271,
   292,
   298,
   304,
   310,
   314,
   320,
   329,
   333,
   341,
   349,
   368,
   372,
   379,
   395,
   412,
   416,
   434,
   438,
   442,
   453,
   461,
   467,
   474,
   481,
   486,
   490,
   495,
   508
  ],
  "version": "1.0",
  "widgets": {
   "application/vnd.jupyter.widget-state+json": {
    "state": {
     "2ad6b52855334f7fb732e99a8df0d5ea": {
      "model_module": "@jupyter-widgets/controls",
      "model_module_version": "1.5.0",
      "model_name": "DescriptionStyleModel",
      "state": {
       "_model_module": "@jupyter-widgets/controls",
       "_model_module_version": "1.5.0",
       "_model_name": "DescriptionStyleModel",
       "_view_count": null,
       "_view_module": "@jupyter-widgets/base",
       "_view_module_version": "1.2.0",
       "_view_name": "StyleView",
       "description_width": ""
      }
     },
     "ee9d910b86ac41ba9f39186bb2983826": {
      "model_module": "@jupyter-widgets/controls",
      "model_module_version": "1.5.0",
      "model_name": "HTMLModel",
      "state": {
       "_dom_classes": [],
       "_model_module": "@jupyter-widgets/controls",
       "_model_module_version": "1.5.0",
       "_model_name": "HTMLModel",
       "_view_count": null,
       "_view_module": "@jupyter-widgets/controls",
       "_view_module_version": "1.5.0",
       "_view_name": "HTMLView",
       "description": "",
       "description_tooltip": null,
       "layout": "IPY_MODEL_f61de8fae8b2404fad1e26c9012a5c81",
       "placeholder": "​",
       "style": "IPY_MODEL_2ad6b52855334f7fb732e99a8df0d5ea",
       "value": "<style>#ipythontutor1 </style><style>#ipythontutor2 { max-width:750px; max-height:500px; box-sizing:border-box; }</style><div id=ipythontutor2><iframe id=\"ipythontutor1\" class=\"pythontutor\" width=\"750.0\" height=\"500.0\" src=\"https://pythontutor.com/iframe-embed.html#code=%0Adef+fact%28n%29%3A%0A++++if+n+%3C%3D+1%3A%0A++++++++return+n%0A++++else%3A%0A++++++++return+n+%2A+fact%28n-1%29%0A%0A%23+pour+visualiser+la+pile+d%27ex%C3%A9cution%0A%0Ax+%3D+fact%283%29%0A&mode=display&origin=opt-frontend.js&textReferences=false&py=3&curInstr=0&verticalStack=&heapPrimitives=false\"></div>"
      }
     },
     "f61de8fae8b2404fad1e26c9012a5c81": {
      "model_module": "@jupyter-widgets/base",
      "model_module_version": "1.2.0",
      "model_name": "LayoutModel",
      "state": {
       "_model_module": "@jupyter-widgets/base",
       "_model_module_version": "1.2.0",
       "_model_name": "LayoutModel",
       "_view_count": null,
       "_view_module": "@jupyter-widgets/base",
       "_view_module_version": "1.2.0",
       "_view_name": "LayoutView",
       "align_content": null,
       "align_items": null,
       "align_self": null,
       "border": null,
       "bottom": null,
       "display": null,
       "flex": null,
       "flex_flow": null,
       "grid_area": null,
       "grid_auto_columns": null,
       "grid_auto_flow": null,
       "grid_auto_rows": null,
       "grid_column": null,
       "grid_gap": null,
       "grid_row": null,
       "grid_template_areas": null,
       "grid_template_columns": null,
       "grid_template_rows": null,
       "height": null,
       "justify_content": null,
       "justify_items": null,
       "left": null,
       "margin": null,
       "max_height": null,
       "max_width": null,
       "min_height": null,
       "min_width": null,
       "object_fit": null,
       "object_position": null,
       "order": null,
       "overflow": null,
       "overflow_x": null,
       "overflow_y": null,
       "padding": null,
       "right": null,
       "top": null,
       "visibility": null,
       "width": null
      }
     }
    },
    "version_major": 2,
    "version_minor": 0
   }
  }
 },
 "nbformat": 4,
 "nbformat_minor": 5
}