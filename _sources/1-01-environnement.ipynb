{
 "cells": [
  {
   "cell_type": "markdown",
   "id": "e3fc147c",
   "metadata": {},
   "source": [
    "<div class=\"licence\">\n",
    "<span>Licence CC BY-NC-ND</span>\n",
    "<span>Thierry Parmentelat</span>\n",
    "</div>\n",
    "\n",
    "<img src=\"media/inria-25-alpha.png\" />"
   ]
  },
  {
   "cell_type": "markdown",
   "id": "ca8d33c3",
   "metadata": {
    "slideshow": {
     "slide_type": ""
    }
   },
   "source": [
    "# UE12 - Python : généralités\n",
    "\n",
    "ce notebook reprend très rapidement quelques informations  \n",
    "issues de la partie initiale de ce cours `intro & install`  \n",
    "pour être sûr que vous avez tout ce qu'il faut pour travailler"
   ]
  },
  {
   "cell_type": "markdown",
   "id": "69f16a6d",
   "metadata": {
    "cell_style": "split",
    "slideshow": {
     "slide_type": "slide"
    }
   },
   "source": [
    "## lancer Python\n",
    "\n",
    "1. exécuter un programme déjà fait  \n",
    "  `$ python monprogramme.py`\n",
    "1. lancer un interpréteur interactif  \n",
    "  `$ python`  \n",
    "  ou encore mieux  \n",
    "  `$ ipython`\n",
    "1. mode 'mixte' dans des notebooks  \n",
    "  `$ jupyter notebook`"
   ]
  },
  {
   "cell_type": "markdown",
   "id": "439f9bb8",
   "metadata": {
    "cell_style": "split"
   },
   "source": [
    "**illustration**\n",
    "\n",
    "ces usages sont explicités dans cette\n",
    "[vidéo introductive](https://youtu.be/ULzWaZQa1Dc)"
   ]
  },
  {
   "cell_type": "markdown",
   "id": "6372a6c4",
   "metadata": {
    "slideshow": {
     "slide_type": "slide"
    }
   },
   "source": [
    "## nos cas d'usage"
   ]
  },
  {
   "cell_type": "markdown",
   "id": "8d0c06de",
   "metadata": {
    "slideshow": {
     "slide_type": ""
    }
   },
   "source": [
    "vous reconnaissez les programmes impliqués dans les différents scénarios:\n",
    "\n",
    "* le `terminal`: la façon la plus simple de lancer d'autres programmes\n",
    "* l'interpréteur `Python` : le programme qui exécute du code Python\n",
    "* interpréteur `IPython` : une surcouche qui ajoute de la souplesse\n",
    "  * complétion, aide en ligne, déplacement/édition dans l'historique\n",
    "* les notebooks `jupyter`: nos petits cahiers cours/exercices"
   ]
  },
  {
   "cell_type": "markdown",
   "id": "c3e34eab",
   "metadata": {
    "slideshow": {
     "slide_type": "slide"
    }
   },
   "source": [
    "## sachez à qui vous parlez"
   ]
  },
  {
   "cell_type": "markdown",
   "id": "36f3733f",
   "metadata": {},
   "source": [
    "**convention**\n",
    "\n",
    "lorsque c'est ambigu, on préfixera :\n",
    "\n",
    "* la commande à taper dans un terminal, avec un `$`\n",
    "\n",
    "```bash\n",
    "    $ python\n",
    "```\n",
    "\n",
    "* la commande à taper dans un interpréteur Python, avec `>>>`\n",
    "\n",
    "```python\n",
    ">>> a = 100\n",
    "```"
   ]
  },
  {
   "cell_type": "markdown",
   "id": "5c91d4f4",
   "metadata": {
    "slideshow": {
     "slide_type": "slide"
    }
   },
   "source": [
    "### note à propos de Windows"
   ]
  },
  {
   "cell_type": "markdown",
   "id": "df5c79b9",
   "metadata": {},
   "source": [
    "* la notation avec un `$` réfère au terminal et vient historiquement de Unix  \n",
    "(aujourd'hui Linux et MacOS)\n",
    "\n",
    "\n",
    "\n",
    "* le programme en question s'appelle un `shell`  \n",
    "(on l'apparente à l'application `Terminal`)\n",
    "\n",
    "\n",
    "\n",
    "* sur Windows cette sorte de terminal n'est pas native  \n",
    "(vous avez installé **git for windows**  \n",
    "et obtenu la variante du `shell` appelée `bash`)"
   ]
  },
  {
   "cell_type": "markdown",
   "id": "e440031a",
   "metadata": {
    "slideshow": {
     "slide_type": "slide"
    }
   },
   "source": [
    "## savoir si Python est installé"
   ]
  },
  {
   "cell_type": "markdown",
   "id": "c518fa4b",
   "metadata": {},
   "source": [
    "vous devez avoir python installé sur votre portable; pour le savoir tapez dans un terminal\n",
    "\n",
    "```bash\n",
    "$ python --version\n",
    "```\n",
    "\n",
    "ou encore\n",
    "\n",
    "```bash\n",
    "$ python3 --version\n",
    "```\n",
    "\n",
    "si vous lisez:\n",
    "\n",
    "* `Python 3.6.n` ou `Python 3.7.n` : vous avez un Python installé\n",
    "* `Python 3.x` avec $x <= 5$ : votre Python a besoin d'une mise à jour\n",
    "* `Python 2.x` : ne pas utiliser Python 2 !\n",
    "* `command not found` : Python n'est pas installé (il faudra le faire rapidement)"
   ]
  },
  {
   "cell_type": "markdown",
   "id": "895983fa",
   "metadata": {
    "slideshow": {
     "slide_type": "slide"
    }
   },
   "source": [
    "## note historique\n",
    "\n",
    "Python2 est une version plus ancienne du langage\n",
    "\n",
    "* elle **n'est pas compatible** et il ne **faut surtout surtout surtout pas** l'utiliser\n",
    "* sa fin de vie est prévue en Janvier 2020 (plus du tout de support)\n",
    "* ce qui achève une période de transition de 10 ans..."
   ]
  },
  {
   "cell_type": "markdown",
   "id": "c48979e8",
   "metadata": {
    "cell_style": "center",
    "slideshow": {
     "slide_type": ""
    }
   },
   "source": [
    "* pendant la période transitoire les deux ont coexisté\n",
    "* d'où les commandes `python2` et `python3` qu'on rencontre parfois\n",
    "* pour lancer Python3\n",
    "  * sur certains systèmes on tape encore `python3`\n",
    "  * mais de plus en plus `python` tout court suffit"
   ]
  },
  {
   "cell_type": "markdown",
   "id": "9d558cc8",
   "metadata": {
    "cell_style": "center",
    "slideshow": {
     "slide_type": "slide"
    }
   },
   "source": [
    "## les fichiers du cours\n",
    "\n",
    "* vous avez cloné [le cours sur\n",
    "  github](https://github.com/ue12/python-numerique/tree/master/demo)\n",
    "\n",
    "* si ce n'est pas déjà fait, dans un terminal, utilisez `git clone` pour dupliquer le repo\n",
    "  sur votre ordinateur\n",
    "  ```bash\n",
    "  $ git clone https://github.com/ue12/python-numerique\n",
    "  ```\n",
    "* si vous voulez choisir le nom du dossier du clone\n",
    "  ```bash\n",
    "  $ git clone https://github.com/ue12/python-numerique ue12-python-numerique\n",
    "  ```\n",
    "* déplacez-vous dans le sous-dossier `demo` `$ cd ue12-python-numerique/demo`"
   ]
  },
  {
   "cell_type": "markdown",
   "id": "5822fe26",
   "metadata": {
    "slideshow": {
     "slide_type": "slide"
    }
   },
   "source": [
    "## testez votre installation"
   ]
  },
  {
   "cell_type": "markdown",
   "id": "ae995c88",
   "metadata": {
    "cell_style": "center",
    "slideshow": {
     "slide_type": "-"
    }
   },
   "source": [
    "Vous êtes dans le répertoire `demo`, lancez les deux programmes\n",
    "\n",
    "```bash\n",
    "$ python3 fact.py\n",
    "fact(4) = 24\n",
    "fact(25) = 15511210043330985984000000\n",
    "```\n",
    "\n",
    "***\n",
    "\n",
    "```bash\n",
    "$ python3 users.py\n",
    "Emilie (Lambert), 25 ans\n",
    "Julien (Masson), 30 ans\n",
    "```"
   ]
  },
  {
   "cell_type": "markdown",
   "id": "fe73913a",
   "metadata": {
    "slideshow": {
     "slide_type": "slide"
    },
    "tags": [
     "level_intermediate"
    ]
   },
   "source": [
    "## des introductions à Jupyter et VScode\n",
    "\n",
    "* une introduction rapide à   \n",
    "  [l'installation et à l'usage des\n",
    "  notebooks](https://nbhosting.inria.fr/auditor/notebook/python-slides:extras/slides-extras/03-1-notebooks-basic)\n",
    "  \n",
    "  est disponible sur nbhosting\n",
    "\n",
    "* idem en ce qui concerne [Visual Studio\n",
    "  Code](https://nbhosting.inria.fr/auditor/notebook/python-slides:extras/slides-extras/07-vscode)"
   ]
  }
 ],
 "metadata": {
  "jupytext": {
   "cell_metadata_filter": "all, -hidden, -heading_collapsed, -run_control, -trusted",
   "notebook_metadata_filter": "all, -jupytext.text_representation.jupytext_version, -jupytext.text_representation.format_version, -language_info.version, -language_info.codemirror_mode.version, -language_info.codemirror_mode, -language_info.file_extension, -language_info.mimetype, -toc",
   "text_representation": {
    "extension": ".md",
    "format_name": "myst"
   }
  },
  "kernelspec": {
   "display_name": "Python 3 (ipykernel)",
   "language": "python",
   "name": "python3"
  },
  "language_info": {
   "codemirror_mode": {
    "name": "ipython",
    "version": 3
   },
   "file_extension": ".py",
   "mimetype": "text/x-python",
   "name": "python",
   "nbconvert_exporter": "python",
   "pygments_lexer": "ipython3",
   "version": "3.9.5"
  },
  "notebookname": "primer programmation Python",
  "rise": {
   "autolaunch": true,
   "slideNumber": "c/t",
   "start_slideshow_at": "selected",
   "theme": "sky",
   "transition": "cube"
  },
  "source_map": [
   26,
   35,
   43,
   56,
   63,
   67,
   77,
   81,
   99,
   103,
   119,
   123,
   144,
   154,
   162,
   180,
   184,
   202
  ],
  "version": "1.0"
 },
 "nbformat": 4,
 "nbformat_minor": 5
}