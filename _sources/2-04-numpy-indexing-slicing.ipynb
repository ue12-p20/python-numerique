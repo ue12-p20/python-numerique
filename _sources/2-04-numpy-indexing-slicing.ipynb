{
 "cells": [
  {
   "cell_type": "markdown",
   "id": "c2345416",
   "metadata": {},
   "source": [
    "<div class=\"licence\">\n",
    "<span>Licence CC BY-NC-ND</span>\n",
    "<span>Valérie Roy</span>\n",
    "</div>\n",
    "\n",
    "<img src=\"media/ensmp-25-alpha.png\" />"
   ]
  },
  {
   "cell_type": "markdown",
   "id": "28c334ca",
   "metadata": {},
   "source": [
    "# indexation et slicing\n",
    "\n",
    "où on accède aux éléments, et à des sous-tableaux"
   ]
  },
  {
   "cell_type": "code",
   "execution_count": 1,
   "id": "5f6d07fa",
   "metadata": {},
   "outputs": [],
   "source": [
    "import numpy as np"
   ]
  },
  {
   "cell_type": "markdown",
   "id": "236f6564",
   "metadata": {},
   "source": [
    "## accéder aux éléments d'un `ndarray`"
   ]
  },
  {
   "cell_type": "markdown",
   "id": "94ab343f",
   "metadata": {},
   "source": [
    "Il est naturellement possible d'accéder (*accessing*) aux éléments d'un tableau `np.ndarray`, comme nous le faisons pour les listes Python."
   ]
  },
  {
   "cell_type": "markdown",
   "id": "e12c5c4c",
   "metadata": {},
   "source": [
    "Rappel sur les fonctions vectorisées:\n",
    "\n",
    "La possibilité d'accéder aux éléments d'un ndarray ne doit pas vous faire oublier que l'appel de **fonctions vectorisées** doit toujours être **priviligié**: c'est LA meilleure manière de coder.\n",
    "\n",
    "Vous vous rappelez pourquoi ? Parce que l'application d'une fonction vectorisée ne se fait pas en utilisant des fonctions codées en Python mais des fonctions codées dans un langage de programmation beaucoup proche de la mémoire de l'ordinateur et qui va (entre autres) très rapidement d'une case (un élément) à une autre case du tableau.\n",
    "\n",
    "Il ne faut donc **jamais** utiliser l'accès aux éléments d'un tableau dans des itérations où vous pourriez appliquer directement des fonctions vectorisées."
   ]
  },
  {
   "cell_type": "markdown",
   "id": "8430f20f",
   "metadata": {},
   "source": [
    "Ceci dit, accéder aux éléments et aux sous-tableaux d'un tableau `numpy` , va (par exemple) vous servir à appliquer des fonctions vectorisées à des sous-parties de votre tableau donc elles sont **très** utiles"
   ]
  },
  {
   "cell_type": "markdown",
   "id": "73b8767f",
   "metadata": {},
   "source": [
    "La manière d'accéder aux éléments d'un tableau `numpy` va dépendre tout naturellement ... de quoi ? oui bien sûr de la forme du tableau !\n",
    "\n",
    "Vous vous rappelez que la forme d'un `np.ndarray` est donnée par une indexation sur le segment mémoire sous-jacent continu de votre tableau.\n",
    "\n",
    "Par exemple, le segment $\\fbox{}$$\\fbox{}$$\\fbox{}$$\\fbox{}$$\\fbox{}$$\\fbox{}$$\\fbox{}$$\\fbox{}$$\\fbox{}$$\\fbox{}$$\\fbox{}$$\\fbox{}$ peut être indexé avec les formes (12,), (1, 12), (2, 6), (3, 4), (12, 1) ... (2, 3, 2)..."
   ]
  },
  {
   "cell_type": "markdown",
   "id": "35a2f4a1",
   "metadata": {},
   "source": [
    "### en dimension 1"
   ]
  },
  {
   "cell_type": "markdown",
   "id": "4bbc12bd",
   "metadata": {},
   "source": [
    "Commencons par un petit tableau de dimension 1 qui contient les dix entiers de 10 à 19."
   ]
  },
  {
   "cell_type": "code",
   "execution_count": 2,
   "id": "9fe058fd",
   "metadata": {},
   "outputs": [
    {
     "data": {
      "text/plain": [
       "array([10, 11, 12, 13, 14, 15, 16, 17, 18, 19])"
      ]
     },
     "execution_count": 2,
     "metadata": {},
     "output_type": "execute_result"
    }
   ],
   "source": [
    "vec = np.arange(10, 20)\n",
    "vec"
   ]
  },
  {
   "cell_type": "markdown",
   "id": "ea462d50",
   "metadata": {},
   "source": [
    "L'indexation prise sur le tableau ne comporte qu'une dimension i.e. on n'a besoin que d'un index pour accéder à un élément."
   ]
  },
  {
   "cell_type": "code",
   "execution_count": 3,
   "id": "01f5fbcb",
   "metadata": {},
   "outputs": [
    {
     "data": {
      "text/plain": [
       "10"
      ]
     },
     "execution_count": 3,
     "metadata": {},
     "output_type": "execute_result"
    }
   ],
   "source": [
    "vec[0]"
   ]
  },
  {
   "cell_type": "markdown",
   "id": "3ff0fb71",
   "metadata": {},
   "source": [
    "Quelles sont les bornes de cet index ? dit autrement, on peut aller de 0 à ?"
   ]
  },
  {
   "cell_type": "code",
   "execution_count": 4,
   "id": "73cac87b",
   "metadata": {},
   "outputs": [
    {
     "data": {
      "text/plain": [
       "(10,)"
      ]
     },
     "execution_count": 4,
     "metadata": {},
     "output_type": "execute_result"
    }
   ],
   "source": [
    "# ceci retourne un tuple, \n",
    "# mais à un seul élément (puisqu'en dimension 1)\n",
    "# d'où la présentation un peu bizarre avec la virgule\n",
    "vec.shape"
   ]
  },
  {
   "cell_type": "markdown",
   "id": "2d1fb5ea",
   "metadata": {},
   "source": [
    "Et osons modifier cet élément !"
   ]
  },
  {
   "cell_type": "code",
   "execution_count": 5,
   "id": "284ca077",
   "metadata": {},
   "outputs": [
    {
     "data": {
      "text/plain": [
       "array([ 3, 11, 12, 13, 14, 15, 16, 17, 18, 19])"
      ]
     },
     "execution_count": 5,
     "metadata": {},
     "output_type": "execute_result"
    }
   ],
   "source": [
    "vec[0] = np.pi\n",
    "vec"
   ]
  },
  {
   "cell_type": "markdown",
   "id": "b825e562",
   "metadata": {},
   "source": [
    "Le tableau a bien été modifié ! ... mais est-ce exactement comme en Python ? Rien de spécial ?\n",
    "\n",
    "ah heu si (on l'a déjà vu): vous avez un **3** là où vous attendiez **π** !\n",
    "\n",
    "Gardez bien à l'esprit que, contrairement à Python, les tableaux numpy sont typés et de **taille fixe**. Donc si vous tentez de mettre une valeur flottante à la place d'un entier, la valeur flottante sera silencieusement (et implicitement) coupée ... et ce comportement peut ne pas vous convenir du tout !\n",
    "\n",
    "Faites bien attention à ce que vous faites."
   ]
  },
  {
   "cell_type": "markdown",
   "id": "96c571ff",
   "metadata": {},
   "source": [
    "### en dimension supérieure à 1"
   ]
  },
  {
   "cell_type": "markdown",
   "id": "c54af66a",
   "metadata": {},
   "source": [
    "En dimension supérieure à 1, naturellement l'accès à un élément du tableau va dépendre de la forme du tableau donc de ses indices dans chacune des dimensions.\n",
    "\n",
    "Construisons un tableau avec des valeurs de 1 à 12 et donnons lui une forme de matrice 3 lignes et 4 colonnes \n",
    "\n",
    "Nous allons pour cela utiliser la fonction `np.ndarray.resize` qui modifie la forme d'un tableau *en place* c'est à dire que la fonction bien sûr ne crée pas un nouveau tableau mais modifie l'indexation de celui auquel elle est appliquée.\n",
    "\n",
    "Il existe une autre fonction `np.ndarray.reshape` qui fait la même chose en créant un nouvelle indexation (donc vous avez désormais 2 indexations différentes sur la même mémoire sous-jacente, vous vous rappelez des références partagées ?)."
   ]
  },
  {
   "cell_type": "markdown",
   "id": "5ff5ae01",
   "metadata": {},
   "source": [
    "Notre tableau en dimension 1:"
   ]
  },
  {
   "cell_type": "code",
   "execution_count": 6,
   "id": "60f59f62",
   "metadata": {},
   "outputs": [
    {
     "data": {
      "text/plain": [
       "array([ 1,  2,  3,  4,  5,  6,  7,  8,  9, 10, 11, 12])"
      ]
     },
     "execution_count": 6,
     "metadata": {},
     "output_type": "execute_result"
    }
   ],
   "source": [
    "vec = np.arange(1, 13)\n",
    "vec"
   ]
  },
  {
   "cell_type": "markdown",
   "id": "dce96cd8",
   "metadata": {},
   "source": [
    "Le voila redimensionné en dimension 3 x 4"
   ]
  },
  {
   "cell_type": "code",
   "execution_count": 7,
   "id": "dbb60f91",
   "metadata": {},
   "outputs": [
    {
     "data": {
      "text/plain": [
       "array([[ 1,  2,  3,  4],\n",
       "       [ 5,  6,  7,  8],\n",
       "       [ 9, 10, 11, 12]])"
      ]
     },
     "execution_count": 7,
     "metadata": {},
     "output_type": "execute_result"
    }
   ],
   "source": [
    "vec.resize(3, 4)\n",
    "vec"
   ]
  },
  {
   "cell_type": "markdown",
   "id": "36c58ed3",
   "metadata": {},
   "source": [
    "Le voilà indexé par une nouvelle forme:"
   ]
  },
  {
   "cell_type": "code",
   "execution_count": 8,
   "id": "e564deb2",
   "metadata": {},
   "outputs": [
    {
     "data": {
      "text/plain": [
       "array([[ 1,  2],\n",
       "       [ 3,  4],\n",
       "       [ 5,  6],\n",
       "       [ 7,  8],\n",
       "       [ 9, 10],\n",
       "       [11, 12]])"
      ]
     },
     "execution_count": 8,
     "metadata": {},
     "output_type": "execute_result"
    }
   ],
   "source": [
    "vec1 = vec.reshape(6, 2)\n",
    "vec1"
   ]
  },
  {
   "cell_type": "markdown",
   "id": "0fc8656c",
   "metadata": {},
   "source": [
    "Pour accéder à un élément on voit bien que nous allons avoir besoin de 2 indices: celui des lignes et celui des colonnes."
   ]
  },
  {
   "cell_type": "code",
   "execution_count": 9,
   "id": "65327d21",
   "metadata": {
    "cell_style": "split"
   },
   "outputs": [
    {
     "data": {
      "text/plain": [
       "1"
      ]
     },
     "execution_count": 9,
     "metadata": {},
     "output_type": "execute_result"
    }
   ],
   "source": [
    "# le premier élément\n",
    "vec[0, 0]"
   ]
  },
  {
   "cell_type": "code",
   "execution_count": 10,
   "id": "d2781f26",
   "metadata": {
    "cell_style": "split"
   },
   "outputs": [
    {
     "data": {
      "text/plain": [
       "12"
      ]
     },
     "execution_count": 10,
     "metadata": {},
     "output_type": "execute_result"
    }
   ],
   "source": [
    "# le dernier élément\n",
    "vec[2, 3]"
   ]
  },
  {
   "cell_type": "markdown",
   "id": "9c5d6d01",
   "metadata": {
    "tags": [
     "level_intermediate"
    ]
   },
   "source": [
    "Pour un tableau *vec* en dimension 4 de dimensions $(n, m, l, c)$ et bien vous allez indiquer pour un élément les indices dans chacune de ses dimensions;  \n",
    "donc $vec[i_n, i_m, i_l, i_c]$, avec  \n",
    "$0<=i_n<n$,  \n",
    "$0<=i_m<m$,  \n",
    "etc…\n",
    "\n",
    "Notez qu'en grande dimension, les deux derniers indices correspondent toujours à  \n",
    "..., ligne, colonne  \n",
    "c'est pourquoi on a utilisé $l$ et $c$ comme noms pour les deux derniers indices"
   ]
  },
  {
   "cell_type": "markdown",
   "id": "8efe111a",
   "metadata": {},
   "source": [
    "Sauriez-vous dire la dimension de votre tableau ?"
   ]
  },
  {
   "cell_type": "code",
   "execution_count": 11,
   "id": "ab07dc0c",
   "metadata": {},
   "outputs": [
    {
     "data": {
      "text/plain": [
       "2"
      ]
     },
     "execution_count": 11,
     "metadata": {},
     "output_type": "execute_result"
    }
   ],
   "source": [
    "vec.ndim # attention au n de ndim"
   ]
  },
  {
   "cell_type": "markdown",
   "id": "586d0e56",
   "metadata": {},
   "source": [
    "Sauriez-vous lister le nombre d'éléments dans chacune des dimensions ?"
   ]
  },
  {
   "cell_type": "code",
   "execution_count": 12,
   "id": "3c82e600",
   "metadata": {},
   "outputs": [
    {
     "data": {
      "text/plain": [
       "(3, 4)"
      ]
     },
     "execution_count": 12,
     "metadata": {},
     "output_type": "execute_result"
    }
   ],
   "source": [
    "vec.shape"
   ]
  },
  {
   "cell_type": "markdown",
   "id": "4daee4d7",
   "metadata": {
    "tags": [
     "level_intermediate"
    ]
   },
   "source": [
    "Remarquez qu'on pourrait aussi écrire, puisque le tableau a `np.ndarray.ndim` dimensions et que le nombre d'éléments dans chaque dimension est donné par `np.ndarray.shape`:"
   ]
  },
  {
   "cell_type": "code",
   "execution_count": 13,
   "id": "842a2122",
   "metadata": {
    "tags": [
     "level_intermediate"
    ]
   },
   "outputs": [
    {
     "data": {
      "text/plain": [
       "[3, 4]"
      ]
     },
     "execution_count": 13,
     "metadata": {},
     "output_type": "execute_result"
    }
   ],
   "source": [
    "[vec.shape[i] for i in range(vec.ndim)]"
   ]
  },
  {
   "cell_type": "markdown",
   "id": "48a5fcd4",
   "metadata": {
    "tags": [
     "level_intermediate"
    ]
   },
   "source": [
    "ce qui revient à dire qu'en fait"
   ]
  },
  {
   "cell_type": "code",
   "execution_count": 14,
   "id": "ee480abc",
   "metadata": {
    "tags": [
     "level_intermediate"
    ]
   },
   "outputs": [
    {
     "data": {
      "text/plain": [
       "True"
      ]
     },
     "execution_count": 14,
     "metadata": {},
     "output_type": "execute_result"
    }
   ],
   "source": [
    "# c'est toujours vrai pour un tableau numpy\n",
    "# et ici la valeur commune est 2, la dimension de notre tableau\n",
    "len(vec.shape) == vec.ndim "
   ]
  },
  {
   "cell_type": "markdown",
   "id": "fb08dfad",
   "metadata": {},
   "source": [
    "On peut modifier l'élément, en faisant attention comme tout à l'heure: ici on attend des entiers ! toute valeur d'un autre type sera convertie (lorsque c'est possible) dans le type entier avec plus ou moins d'effet: `True` deviendra `1`, `False` deviendra `0`, un flottant sera réduit à sa *partie  entière*, etc..."
   ]
  },
  {
   "cell_type": "code",
   "execution_count": 15,
   "id": "1ae670b6",
   "metadata": {
    "cell_style": "split"
   },
   "outputs": [
    {
     "data": {
      "text/plain": [
       "array([[ 1,  2,  3,  4],\n",
       "       [ 5,  6,  7,  8],\n",
       "       [ 9, 10, 11, 12]])"
      ]
     },
     "execution_count": 15,
     "metadata": {},
     "output_type": "execute_result"
    }
   ],
   "source": [
    "vec"
   ]
  },
  {
   "cell_type": "code",
   "execution_count": 16,
   "id": "af6ae1cb",
   "metadata": {
    "cell_style": "split"
   },
   "outputs": [
    {
     "data": {
      "text/plain": [
       "array([[ 0,  2,  3,  4],\n",
       "       [ 5,  6,  7,  8],\n",
       "       [ 9, 10, 11, 12]])"
      ]
     },
     "execution_count": 16,
     "metadata": {},
     "output_type": "execute_result"
    }
   ],
   "source": [
    "vec[0, 0] = False\n",
    "vec"
   ]
  },
  {
   "cell_type": "code",
   "execution_count": 17,
   "id": "2add13e2",
   "metadata": {
    "cell_style": "split"
   },
   "outputs": [
    {
     "data": {
      "text/plain": [
       "array([[ 0,  2,  3,  4],\n",
       "       [ 5,  6,  7,  8],\n",
       "       [ 9, 10, 11, 12]])"
      ]
     },
     "execution_count": 17,
     "metadata": {},
     "output_type": "execute_result"
    }
   ],
   "source": [
    "vec"
   ]
  },
  {
   "cell_type": "code",
   "execution_count": 18,
   "id": "e398f109",
   "metadata": {
    "cell_style": "split"
   },
   "outputs": [
    {
     "data": {
      "text/plain": [
       "array([[150,   2,   3,   4],\n",
       "       [  5,   6,   7,   8],\n",
       "       [  9,  10,  11,  12]])"
      ]
     },
     "execution_count": 18,
     "metadata": {},
     "output_type": "execute_result"
    }
   ],
   "source": [
    "vec[0, 0] = 150.99\n",
    "vec"
   ]
  },
  {
   "cell_type": "markdown",
   "id": "8bb826d0",
   "metadata": {},
   "source": [
    "ah bien oui ! il a coupé 0.99 !"
   ]
  },
  {
   "cell_type": "markdown",
   "id": "db344b24",
   "metadata": {},
   "source": [
    "Vérifions que `vec1` a bien été modifié ?"
   ]
  },
  {
   "cell_type": "code",
   "execution_count": 19,
   "id": "83dd4dea",
   "metadata": {},
   "outputs": [
    {
     "data": {
      "text/plain": [
       "150"
      ]
     },
     "execution_count": 19,
     "metadata": {},
     "output_type": "execute_result"
    }
   ],
   "source": [
    "vec1[0, 0] # oui !"
   ]
  },
  {
   "cell_type": "markdown",
   "id": "bc0b78c7",
   "metadata": {},
   "source": [
    "Et vous pouvez comme en Python utiliser les indices négatifs qui se traduisent facilement en indices positifs"
   ]
  },
  {
   "cell_type": "code",
   "execution_count": 20,
   "id": "3ff09d88",
   "metadata": {},
   "outputs": [
    {
     "data": {
      "text/plain": [
       "12"
      ]
     },
     "execution_count": 20,
     "metadata": {},
     "output_type": "execute_result"
    }
   ],
   "source": [
    "vec[-1, -1] # dernier élément ou élément d'indice (3-1, 4-2)"
   ]
  },
  {
   "cell_type": "code",
   "execution_count": 21,
   "id": "707faba1",
   "metadata": {},
   "outputs": [
    {
     "data": {
      "text/plain": [
       "12"
      ]
     },
     "execution_count": 21,
     "metadata": {},
     "output_type": "execute_result"
    }
   ],
   "source": [
    "vec[3-1, 4-1] # oui c'est bien cela"
   ]
  },
  {
   "cell_type": "code",
   "execution_count": 22,
   "id": "009be095",
   "metadata": {},
   "outputs": [
    {
     "data": {
      "text/plain": [
       "7"
      ]
     },
     "execution_count": 22,
     "metadata": {},
     "output_type": "execute_result"
    }
   ],
   "source": [
    "vec[-2, -2] # un autre élément donc d'indice (3-2, 4-2) "
   ]
  },
  {
   "cell_type": "code",
   "execution_count": 23,
   "id": "0df06f3e",
   "metadata": {},
   "outputs": [
    {
     "data": {
      "text/plain": [
       "7"
      ]
     },
     "execution_count": 23,
     "metadata": {},
     "output_type": "execute_result"
    }
   ],
   "source": [
    "vec[3-2, 4-2] "
   ]
  },
  {
   "cell_type": "markdown",
   "id": "034515d5",
   "metadata": {},
   "source": [
    "À vous de jouer, créez un tableau de 30 valeurs entre 0 et 30 non compris. Donnez lui la dimension de 2 matrices de 5 lignes et 3 colonnes, et accédez à l'élément qui se situe dans la 2ième matrice, 4ième ligne, 3ième colonne ? vous obtenez quelle valeur ? 26 ?"
   ]
  },
  {
   "cell_type": "code",
   "execution_count": 24,
   "id": "f000416f",
   "metadata": {
    "cell_style": "center"
   },
   "outputs": [],
   "source": [
    "# à vous de jouer"
   ]
  },
  {
   "cell_type": "markdown",
   "id": "6697ecae",
   "metadata": {
    "cell_style": "center"
   },
   "source": [
    "Souvenez-vous, dans toutes les dimensions $\\ge2$, on remarque que les tableaux ont leurs lignes à l'indice -2 (avant-dernière dimension) et leurs colonnes à l'indice -1 (dernière dimension)\n",
    "\n",
    "A vous de jouer, faites un `np.ndarray` contenant des 1, de dimension 3 x 2 x 5 x 4,  \n",
    "i) affichez le, vous allez bien voir trois groupes de 2 matrices de 5 lignes sur 4 colonnes,  \n",
    "ii) afficher le nombre des éléments des dimensions -2 et -1 (un indice la forme c'est `np.ndarray.shape`)."
   ]
  },
  {
   "cell_type": "code",
   "execution_count": 25,
   "id": "0aa477da",
   "metadata": {},
   "outputs": [],
   "source": [
    "# votre code ici"
   ]
  },
  {
   "cell_type": "markdown",
   "id": "5652598b",
   "metadata": {},
   "source": [
    "## accéder à un sous-tableau (slicing)"
   ]
  },
  {
   "cell_type": "markdown",
   "id": "268856dd",
   "metadata": {},
   "source": [
    "Maintenant nous allons voir comment accéder à un sous-tableau d'un tableau existant.\n",
    "\n",
    "Là encore vous pourrez obtenir des sous-tableaux de différentes dimensions !\n",
    "\n",
    "Cette opération de *slicing* sera syntaxiquement équivalent au slicing des listes et autres séquences en Python (toutefois il y aura une différence très importante entre le slicing-python et le slicing-numpy; nous y reviendrons)."
   ]
  },
  {
   "cell_type": "markdown",
   "id": "d419181d",
   "metadata": {},
   "source": [
    "### en dimension 1"
   ]
  },
  {
   "cell_type": "markdown",
   "id": "9f26a3e7",
   "metadata": {},
   "source": [
    "#### rappel du slicing Python"
   ]
  },
  {
   "cell_type": "markdown",
   "id": "7ecd49af",
   "metadata": {},
   "source": [
    "Prenons un exemple Python d'une liste contenant les 10 premiers entier positifs  \n",
    "`L = [0, 1, 2, 3, 4, 5, 6, 7, 8, 9, ]`"
   ]
  },
  {
   "cell_type": "code",
   "execution_count": 26,
   "id": "fe3731f9",
   "metadata": {},
   "outputs": [],
   "source": [
    "L = [0, 1, 2, 3, 4, 5, 6, 7, 8, 9, ] # ou tout autre manière de faire"
   ]
  },
  {
   "cell_type": "markdown",
   "id": "c3fd4e9c",
   "metadata": {},
   "source": [
    "Extrayons de `L` une sous-liste.\n",
    "\n",
    "On vous rappelle que le *slicing* (découpage) Python de la liste `L` s'écrira syntaxiquement comme  \n",
    "`L[from_included, to_excluded, step]`  \n",
    "`from_included` et `to_excluded` étant respectivement les indices de départ et d'arrivée, et `step` le pas; i.e. un pas de 1 veut dire tous les éléments, un pas de 2 signifie un élément sur deux ... \n",
    "\n",
    "On peut utiliser des indices négatifs `-1` est le dernier élément, `-2` l'avant dernier ...\n",
    "\n",
    "Extrayons la liste partant du deuxième élément de la liste (donc d'indice 1), en allant jusqu'au dernier (donc soit 9 soit -1), en considérant un élément tous les 2 éléments."
   ]
  },
  {
   "cell_type": "code",
   "execution_count": 27,
   "id": "b4433703",
   "metadata": {},
   "outputs": [
    {
     "data": {
      "text/plain": [
       "[1, 3, 5, 7]"
      ]
     },
     "execution_count": 27,
     "metadata": {},
     "output_type": "execute_result"
    }
   ],
   "source": [
    "L[1:-1:2]"
   ]
  },
  {
   "cell_type": "code",
   "execution_count": 28,
   "id": "a99987f3",
   "metadata": {},
   "outputs": [
    {
     "data": {
      "text/plain": [
       "[1, 3, 5, 7]"
      ]
     },
     "execution_count": 28,
     "metadata": {},
     "output_type": "execute_result"
    }
   ],
   "source": [
    "L[1:9:2]"
   ]
  },
  {
   "cell_type": "markdown",
   "id": "24f019c6",
   "metadata": {},
   "source": [
    "À l'identique le découpage (*slicing*) d'un `np.ndarray` de dimension 1."
   ]
  },
  {
   "cell_type": "markdown",
   "id": "c627ede9",
   "metadata": {},
   "source": [
    "#### slicing d'un `np.ndarray`"
   ]
  },
  {
   "cell_type": "code",
   "execution_count": 29,
   "id": "e99107ec",
   "metadata": {},
   "outputs": [
    {
     "data": {
      "text/plain": [
       "array([1, 3, 5, 7])"
      ]
     },
     "execution_count": 29,
     "metadata": {},
     "output_type": "execute_result"
    }
   ],
   "source": [
    "# oui on réutilise L (on reste très paresseux puisque c'est souvent bien de l'être)\n",
    "v = np.array(L) \n",
    "v[1:-1:2]"
   ]
  },
  {
   "cell_type": "code",
   "execution_count": 30,
   "id": "466df8a2",
   "metadata": {},
   "outputs": [
    {
     "data": {
      "text/plain": [
       "array([1, 3, 5, 7])"
      ]
     },
     "execution_count": 30,
     "metadata": {},
     "output_type": "execute_result"
    }
   ],
   "source": [
    "v[1:9:2]"
   ]
  },
  {
   "cell_type": "markdown",
   "id": "634971ae",
   "metadata": {},
   "source": [
    "Là aussi on peut utiliser des indices négatifs (donc `-1` est le dernier élément, `-2`\n",
    " l'avant dernier ...)\n",
    "\n",
    "Si le pas est négatif, alors il faut faire attention aux indices du début et de la fin dans l'expression de slicing `vec[debut:fin:pas]`, puisque pour descendre on partira d'un indice supérieur (oui logique):"
   ]
  },
  {
   "cell_type": "code",
   "execution_count": 31,
   "id": "d4bc5f7d",
   "metadata": {},
   "outputs": [
    {
     "data": {
      "text/plain": [
       "array([8, 6, 4, 2])"
      ]
     },
     "execution_count": 31,
     "metadata": {},
     "output_type": "execute_result"
    }
   ],
   "source": [
    "v[-2:0:-2]"
   ]
  },
  {
   "cell_type": "markdown",
   "id": "9d68b9cb",
   "metadata": {},
   "source": [
    "On part de l'avant dernier $-2$ on va jusqu'à l'indice 0 et on descend avec un pas de -2. On remarque que l'élément d'indice 0 n'est pas compris ! oui c'est calculé comme cela `to` n'est pas compris).\n",
    "\n",
    "Si on voulait avoir le dernier élément ? et bien, tout simplement, on n'indique pas la valeur de `to`, il prendra tous les éléments par défaut."
   ]
  },
  {
   "cell_type": "code",
   "execution_count": 32,
   "id": "046b31d4",
   "metadata": {},
   "outputs": [
    {
     "data": {
      "text/plain": [
       "array([8, 6, 4, 2, 0])"
      ]
     },
     "execution_count": 32,
     "metadata": {},
     "output_type": "execute_result"
    }
   ],
   "source": [
    "# remarquez le :: qui indique \n",
    "# que le to_excluded n'est pas indiqué \n",
    "# du coup par défaut la slice\n",
    "# va jusqu'à la fin du tableau\n",
    "v[-2::-2] "
   ]
  },
  {
   "cell_type": "markdown",
   "id": "91f9a8a1",
   "metadata": {},
   "source": [
    "Et si on n'indique rien ?"
   ]
  },
  {
   "cell_type": "code",
   "execution_count": 33,
   "id": "f610ea57",
   "metadata": {},
   "outputs": [
    {
     "data": {
      "text/plain": [
       "array([0, 1, 2, 3, 4, 5, 6, 7, 8, 9])"
      ]
     },
     "execution_count": 33,
     "metadata": {},
     "output_type": "execute_result"
    }
   ],
   "source": [
    "v[::]"
   ]
  },
  {
   "cell_type": "markdown",
   "id": "206b83d6",
   "metadata": {},
   "source": [
    "On a tout le tableau, et dans l'autre sens aussi:"
   ]
  },
  {
   "cell_type": "code",
   "execution_count": 34,
   "id": "ef1313b0",
   "metadata": {},
   "outputs": [
    {
     "data": {
      "text/plain": [
       "array([9, 8, 7, 6, 5, 4, 3, 2, 1, 0])"
      ]
     },
     "execution_count": 34,
     "metadata": {},
     "output_type": "execute_result"
    }
   ],
   "source": [
    "v[::-1]"
   ]
  },
  {
   "cell_type": "markdown",
   "id": "2c5e5c1f",
   "metadata": {},
   "source": [
    "Passons en accès pour des dimensions supérieures à 1:"
   ]
  },
  {
   "cell_type": "markdown",
   "id": "ac87dbee",
   "metadata": {},
   "source": [
    "### en dimension supérieure à 1"
   ]
  },
  {
   "cell_type": "markdown",
   "id": "30f07a0c",
   "metadata": {},
   "source": [
    "Si nous reprenons l'exemple du *vec* en dimension 4 de forme $(n, m, l, c)$. Avec $vec[i_n, j_m, k_l, l_c]$ (où les indices sont corrects i.e dans les bornes de leur dimension) on accède a un élément.\n",
    "\n",
    "Si à la place de mettre des indices uniques, vous utilisez une syntaxe de *slicing* (en `a:b:c` comme on vient de le re-voir), vous allez accéder à un sous-tableau.\n",
    "\n",
    "Faisons un tableau de $40$ éléments qui vont de $0$ à $39$ (en valeur).  \n",
    "Redimensionnons-le en une forme $2 \\times 5 \\times 4$, et affichons-le: on voit bien les deux matrices."
   ]
  },
  {
   "cell_type": "code",
   "execution_count": 35,
   "id": "de4f260c",
   "metadata": {},
   "outputs": [
    {
     "name": "stdout",
     "output_type": "stream",
     "text": [
      "[[[ 0  1  2  3]\n",
      "  [ 4  5  6  7]\n",
      "  [ 8  9 10 11]\n",
      "  [12 13 14 15]\n",
      "  [16 17 18 19]]\n",
      "\n",
      " [[20 21 22 23]\n",
      "  [24 25 26 27]\n",
      "  [28 29 30 31]\n",
      "  [32 33 34 35]\n",
      "  [36 37 38 39]]]\n"
     ]
    }
   ],
   "source": [
    "mat = np.arange(0, 40)\n",
    "mat.resize((2, 5, 4))\n",
    "print(mat)"
   ]
  },
  {
   "cell_type": "markdown",
   "id": "b673cdf3",
   "metadata": {},
   "source": [
    "Disons qu'on cherche à extraire, dans la première matrice, la sous-matrice du milieu  \n",
    "(obtebnue en enlevant une épaisseur de largeur 1 sur le pourtour), donc ici pour nous  \n",
    "$\\begin{pmatrix} 5 & 6 \\\\ 9 & 10 \\\\ 13 & 14 \\\\ \\end{pmatrix}$\n",
    "\n",
    "Donc on veut la première matrice (0), puis les éléments qui vont du deuxième élément (1) à l'avant dernier compris (-1) pour les lignes et les colonnes:"
   ]
  },
  {
   "cell_type": "code",
   "execution_count": 36,
   "id": "0b02e8dd",
   "metadata": {},
   "outputs": [],
   "source": [
    "# vous essayez ? la solution est dessous"
   ]
  },
  {
   "cell_type": "code",
   "execution_count": 37,
   "id": "541f3791",
   "metadata": {},
   "outputs": [
    {
     "data": {
      "text/plain": [
       "array([[ 5,  6],\n",
       "       [ 9, 10],\n",
       "       [13, 14]])"
      ]
     },
     "execution_count": 37,
     "metadata": {},
     "output_type": "execute_result"
    }
   ],
   "source": [
    "mat[0, 1:-1, 1:-1]"
   ]
  },
  {
   "cell_type": "markdown",
   "id": "7fa0fdfd",
   "metadata": {},
   "source": [
    "Maintenant si je veux extraire la même zone, mais pour les deux matrices, et bien je dis, pour la dimension du nombre de matrice, que je prends tous les éléments, avec '::'"
   ]
  },
  {
   "cell_type": "code",
   "execution_count": 38,
   "id": "f62b4ae3",
   "metadata": {},
   "outputs": [
    {
     "data": {
      "text/plain": [
       "array([[[ 5,  6],\n",
       "        [ 9, 10],\n",
       "        [13, 14]],\n",
       "\n",
       "       [[25, 26],\n",
       "        [29, 30],\n",
       "        [33, 34]]])"
      ]
     },
     "execution_count": 38,
     "metadata": {},
     "output_type": "execute_result"
    }
   ],
   "source": [
    "mat[::, 1:-1, 1:-1]"
   ]
  },
  {
   "cell_type": "markdown",
   "id": "0baa3ad4",
   "metadata": {},
   "source": [
    "ce qui, comme dans la syntaxe des slicing de listes Python, s'abrège en ':'"
   ]
  },
  {
   "cell_type": "code",
   "execution_count": 39,
   "id": "6f524f71",
   "metadata": {},
   "outputs": [
    {
     "data": {
      "text/plain": [
       "array([[[ 5,  6],\n",
       "        [ 9, 10],\n",
       "        [13, 14]],\n",
       "\n",
       "       [[25, 26],\n",
       "        [29, 30],\n",
       "        [33, 34]]])"
      ]
     },
     "execution_count": 39,
     "metadata": {},
     "output_type": "execute_result"
    }
   ],
   "source": [
    "mat[:, 1:-1, 1:-1]"
   ]
  },
  {
   "cell_type": "markdown",
   "id": "39741d1e",
   "metadata": {},
   "source": [
    "et ainsi de suite ... si je veux toute la première ligne de la seconde matrice ? Et bien je peux le faire comme ceci"
   ]
  },
  {
   "cell_type": "code",
   "execution_count": 40,
   "id": "f2062b09",
   "metadata": {
    "cell_style": "center"
   },
   "outputs": [
    {
     "data": {
      "text/plain": [
       "array([20, 21, 22, 23])"
      ]
     },
     "execution_count": 40,
     "metadata": {},
     "output_type": "execute_result"
    }
   ],
   "source": [
    "# 1 parce que la seconde matrice\n",
    "# 0 parce la première ligne\n",
    "# : parce que toutes les colonnes\n",
    "mat[1, 0, :]"
   ]
  },
  {
   "cell_type": "code",
   "execution_count": 41,
   "id": "1bdc05bf",
   "metadata": {},
   "outputs": [
    {
     "data": {
      "text/plain": [
       "array([[[ 0,  1,  2,  3],\n",
       "        [ 4,  5,  6,  7],\n",
       "        [ 8,  9, 10, 11],\n",
       "        [12, 13, 14, 15],\n",
       "        [16, 17, 18, 19]],\n",
       "\n",
       "       [[20, 21, 22, 23],\n",
       "        [24, 25, 26, 27],\n",
       "        [28, 29, 30, 31],\n",
       "        [32, 33, 34, 35],\n",
       "        [36, 37, 38, 39]]])"
      ]
     },
     "execution_count": 41,
     "metadata": {},
     "output_type": "execute_result"
    }
   ],
   "source": [
    "# pour vérifier visuellement\n",
    "mat"
   ]
  },
  {
   "cell_type": "markdown",
   "id": "643c37a6",
   "metadata": {},
   "source": [
    "C'est super tout cela !\n",
    "\n",
    "Maintenant nous allons voir comment modifier les valeurs de nos sous-tableaux ... mais avant de modifier, il faudrait comprendre ce qu'on va modifier !\n",
    "\n",
    "En effet, les sous-tableaux (les slices) **Sont-ils des vues sur le tableau existant ou des copies du tableau**  ou encore **Va-t-on modifier le tableau initial ou une copie du tableau initial ?**\n",
    "\n",
    "Alors votre idée ?"
   ]
  },
  {
   "cell_type": "markdown",
   "id": "7448cdec",
   "metadata": {},
   "source": [
    "## les slices sont des vues et non des copies"
   ]
  },
  {
   "cell_type": "markdown",
   "id": "8d688832",
   "metadata": {},
   "source": [
    "En effet la question qui se pose est la suivante:  \n",
    "Est-ce que le slicing a créé un nouveau `np.ndarray` avec son propre segment de mémoire ? Ou est-ce qu'il a calculé une nouvelle vue (view) sur le segment mémoire du tableau existant ?\n",
    "\n",
    "Prenons un exemple:"
   ]
  },
  {
   "cell_type": "code",
   "execution_count": 42,
   "id": "94c8a7ba",
   "metadata": {},
   "outputs": [],
   "source": [
    "mat = np.arange(5)\n",
    "mat1 = mat[2::2]"
   ]
  },
  {
   "cell_type": "code",
   "execution_count": 43,
   "id": "5d2af3c4",
   "metadata": {
    "cell_style": "split"
   },
   "outputs": [
    {
     "data": {
      "text/plain": [
       "array([0, 1, 2, 3, 4])"
      ]
     },
     "execution_count": 43,
     "metadata": {},
     "output_type": "execute_result"
    }
   ],
   "source": [
    "mat"
   ]
  },
  {
   "cell_type": "code",
   "execution_count": 44,
   "id": "07699a63",
   "metadata": {
    "cell_style": "split"
   },
   "outputs": [
    {
     "data": {
      "text/plain": [
       "array([2, 4])"
      ]
     },
     "execution_count": 44,
     "metadata": {},
     "output_type": "execute_result"
    }
   ],
   "source": [
    "mat1"
   ]
  },
  {
   "cell_type": "markdown",
   "id": "5dfad410",
   "metadata": {},
   "source": [
    "$mat1$ est-il un nouveau `np.ndarray` ou une vue sur le `np.ndarray` de *mat* ?"
   ]
  },
  {
   "cell_type": "markdown",
   "id": "bf59291e",
   "metadata": {},
   "source": [
    "On se doute bien que `numpy` veut garder sa première place de LA librairie rapide et bien codée de tableaux pour Python.\n",
    "\n",
    "Si ils avaient choisi de construire un nouveau segment unidimensionnel dans mémoire, pour les données, à chaque fois qu'on accèdait à une sous-partie d'un tableau `np.ndarray` existant ... et bien ça pénaliserait fortement tous les codes !\n",
    "\n",
    "D'autre part, les utilisateurs de `numpy` savent pertinemment si ils veulent une vue ou une copie pour leur sous-tableau...\n",
    "\n",
    "Donc ? et bien oui:\n",
    "   - un nouvel objet `np.ndarray` est bien créé,\n",
    "   - il est différent de l'objet `np.ndarray` initial\n",
    "   - mais ils **partagent** la mémoire (le segment unidimensionnel)"
   ]
  },
  {
   "cell_type": "markdown",
   "id": "ce594d4d",
   "metadata": {},
   "source": [
    "Donc `mat` et `mat1` sont bien deux objects de type `np.ndarray` et ils sont différents"
   ]
  },
  {
   "cell_type": "code",
   "execution_count": 45,
   "id": "a490fe90",
   "metadata": {},
   "outputs": [
    {
     "data": {
      "text/plain": [
       "(numpy.ndarray, numpy.ndarray)"
      ]
     },
     "execution_count": 45,
     "metadata": {},
     "output_type": "execute_result"
    }
   ],
   "source": [
    "type(mat), type(mat1)"
   ]
  },
  {
   "cell_type": "code",
   "execution_count": 46,
   "id": "f5959c6d",
   "metadata": {},
   "outputs": [
    {
     "data": {
      "text/plain": [
       "False"
      ]
     },
     "execution_count": 46,
     "metadata": {},
     "output_type": "execute_result"
    }
   ],
   "source": [
    "mat is mat1"
   ]
  },
  {
   "cell_type": "markdown",
   "id": "6dc7fc09",
   "metadata": {
    "tags": [
     "level_intermediate"
    ]
   },
   "source": [
    "Pour les avancés ou les curieux rapides (les autres pourront y revenir lors de leurs révisions, parce que naturellement vous révisez vos cours d'une fois sur l'autre ? du moins quand ce n'est pas du matin pour l'après-midi ?\n",
    "\n",
    "Dans un objet `np.ndarray` je peux savoir si cet objet est une vue !  \n",
    "Oui le champ `base` m'indique si mon `ndarray` est *basé* sur un autre `ndarray`!"
   ]
  },
  {
   "cell_type": "code",
   "execution_count": 47,
   "id": "b0fec601",
   "metadata": {
    "tags": [
     "level_intermediate"
    ]
   },
   "outputs": [],
   "source": [
    "mat.base # None: mat n'a pas de base !"
   ]
  },
  {
   "cell_type": "code",
   "execution_count": 48,
   "id": "9205b595",
   "metadata": {
    "tags": [
     "level_intermediate"
    ]
   },
   "outputs": [
    {
     "data": {
      "text/plain": [
       "array([0, 1, 2, 3, 4])"
      ]
     },
     "execution_count": 48,
     "metadata": {},
     "output_type": "execute_result"
    }
   ],
   "source": [
    "mat1.base # ah et bien voila mat ! qui est la base de mat1"
   ]
  },
  {
   "cell_type": "code",
   "execution_count": 49,
   "id": "8727a454",
   "metadata": {
    "tags": [
     "level_intermediate"
    ]
   },
   "outputs": [
    {
     "data": {
      "text/plain": [
       "True"
      ]
     },
     "execution_count": 49,
     "metadata": {},
     "output_type": "execute_result"
    }
   ],
   "source": [
    "# ceci nous montre que mat1 a été\n",
    "# construit à partir de mat\n",
    "mat1.base is mat"
   ]
  },
  {
   "cell_type": "code",
   "execution_count": 50,
   "id": "5faa97e0",
   "metadata": {
    "tags": [
     "level_intermediate"
    ]
   },
   "outputs": [
    {
     "data": {
      "text/plain": [
       "(139658310838192, 139658310838288)"
      ]
     },
     "execution_count": 50,
     "metadata": {},
     "output_type": "execute_result"
    }
   ],
   "source": [
    "# ce sont bien deux objets différents\n",
    "id(mat), id(mat1)"
   ]
  },
  {
   "cell_type": "markdown",
   "id": "afef10d9",
   "metadata": {
    "tags": [
     "level_intermediate"
    ]
   },
   "source": [
    "a contrario, si je prends une référence vers l'objet `mat` et que je l'appelle `mat2`"
   ]
  },
  {
   "cell_type": "code",
   "execution_count": 51,
   "id": "e6c2c7b9",
   "metadata": {
    "tags": [
     "level_intermediate"
    ]
   },
   "outputs": [],
   "source": [
    "mat2 = mat"
   ]
  },
  {
   "cell_type": "markdown",
   "id": "a4cfc708",
   "metadata": {
    "tags": [
     "level_intermediate"
    ]
   },
   "source": [
    "alors là par contre, *mat* et *mat2* sont bien les mêmes objets !"
   ]
  },
  {
   "cell_type": "code",
   "execution_count": 52,
   "id": "da19b354",
   "metadata": {
    "tags": [
     "level_intermediate"
    ]
   },
   "outputs": [
    {
     "data": {
      "text/plain": [
       "True"
      ]
     },
     "execution_count": 52,
     "metadata": {},
     "output_type": "execute_result"
    }
   ],
   "source": [
    "mat is mat2"
   ]
  },
  {
   "cell_type": "markdown",
   "id": "6063cedf",
   "metadata": {},
   "source": [
    "On arrête les informations pour les avancés et on revient à notre mémoire: Réfléchissez à une manière de voir si *mat* et *mat1* partagent la même mémoire sous-jacente ?\n",
    "\n",
    "Oui par exemple: si vous modifiez un élément de l'un, cet élément apparaîtra modifié dans l'autre !"
   ]
  },
  {
   "cell_type": "code",
   "execution_count": 53,
   "id": "2c327696",
   "metadata": {
    "cell_style": "split"
   },
   "outputs": [
    {
     "data": {
      "text/plain": [
       "array([0, 1, 2, 3, 4])"
      ]
     },
     "execution_count": 53,
     "metadata": {},
     "output_type": "execute_result"
    }
   ],
   "source": [
    "mat"
   ]
  },
  {
   "cell_type": "code",
   "execution_count": 54,
   "id": "8ab2e698",
   "metadata": {
    "cell_style": "split"
   },
   "outputs": [
    {
     "data": {
      "text/plain": [
       "array([2, 4])"
      ]
     },
     "execution_count": 54,
     "metadata": {},
     "output_type": "execute_result"
    }
   ],
   "source": [
    "mat1"
   ]
  },
  {
   "cell_type": "code",
   "execution_count": 55,
   "id": "ab802970",
   "metadata": {},
   "outputs": [
    {
     "data": {
      "text/plain": [
       "array([   0,    1,    2,    3, 4444])"
      ]
     },
     "execution_count": 55,
     "metadata": {},
     "output_type": "execute_result"
    }
   ],
   "source": [
    "# en touchant à mat1 ...\n",
    "mat1[1] = 4444\n",
    "\n",
    "# en fait je modifie **aussi** mat\n",
    "mat"
   ]
  },
  {
   "cell_type": "markdown",
   "id": "74842a8c",
   "metadata": {},
   "source": [
    "et c'est bien cela qui se passe: *mat* a été modifié ! Donc `mat1` est donc une *autre* vue sur le segment mémoire sous-jacent de `mat`.\n",
    "\n",
    "Et si vous vouliez vraiment construire un nouveau `ndarray` à partir d'un slicing ? Il va falloir indiquer clairement que vous voulez faire une *copy*\n",
    "\n",
    "Pour ça on peut tout simplement utiliser la méthode `copy()` sur n'importe quel tableau, donc en particulier sur la slice; illustrons-le"
   ]
  },
  {
   "cell_type": "code",
   "execution_count": 56,
   "id": "597adabc",
   "metadata": {
    "cell_style": "split"
   },
   "outputs": [
    {
     "data": {
      "text/plain": [
       "array([0, 1, 2, 3, 4, 5])"
      ]
     },
     "execution_count": 56,
     "metadata": {},
     "output_type": "execute_result"
    }
   ],
   "source": [
    "mat = np.arange(6)\n",
    "mat"
   ]
  },
  {
   "cell_type": "code",
   "execution_count": 57,
   "id": "ba03ab0d",
   "metadata": {
    "cell_style": "split"
   },
   "outputs": [
    {
     "data": {
      "text/plain": [
       "array([2, 4])"
      ]
     },
     "execution_count": 57,
     "metadata": {},
     "output_type": "execute_result"
    }
   ],
   "source": [
    "matc = mat[2::2].copy()\n",
    "matc"
   ]
  },
  {
   "cell_type": "markdown",
   "id": "75d2cc80",
   "metadata": {},
   "source": [
    "cette fois-ci `matc` est un nouveau `ndarray`, qui n'a plus rien à voir avec `mat`. La preuve :"
   ]
  },
  {
   "cell_type": "code",
   "execution_count": 58,
   "id": "f3da66e5",
   "metadata": {},
   "outputs": [],
   "source": [
    "# cette fois-ci je peux toucher \n",
    "# à la copie sans affecter l'original\n",
    "matc[1] = 4444"
   ]
  },
  {
   "cell_type": "code",
   "execution_count": 59,
   "id": "5b05da23",
   "metadata": {
    "cell_style": "split"
   },
   "outputs": [
    {
     "data": {
      "text/plain": [
       "array([   2, 4444])"
      ]
     },
     "execution_count": 59,
     "metadata": {},
     "output_type": "execute_result"
    }
   ],
   "source": [
    "# ici, changement\n",
    "matc"
   ]
  },
  {
   "cell_type": "code",
   "execution_count": 60,
   "id": "71eba360",
   "metadata": {
    "cell_style": "split"
   },
   "outputs": [
    {
     "data": {
      "text/plain": [
       "array([0, 1, 2, 3, 4, 5])"
      ]
     },
     "execution_count": 60,
     "metadata": {},
     "output_type": "execute_result"
    }
   ],
   "source": [
    "# mais ici, intact\n",
    "mat"
   ]
  },
  {
   "cell_type": "markdown",
   "id": "7e81a3c5",
   "metadata": {},
   "source": [
    "Bien sûr ne faites des copies que lorsque vous avez besoin de copies, par exemple lorsque vous devez garder votre tableau initial intact."
   ]
  },
  {
   "cell_type": "markdown",
   "id": "8d5073d6",
   "metadata": {
    "tags": [
     "level_intermediate"
    ]
   },
   "source": [
    "Pour les avancés: quelle est la base de `matc` ?"
   ]
  },
  {
   "cell_type": "code",
   "execution_count": 61,
   "id": "c7ff7a58",
   "metadata": {
    "tags": [
     "level_intermediate"
    ]
   },
   "outputs": [],
   "source": [
    "# votre code ici"
   ]
  },
  {
   "cell_type": "markdown",
   "id": "fe9157db",
   "metadata": {},
   "source": [
    "À vous tous de jouer (exercice sur les deux matrices renversées).  \n",
    "On veut créer un tableau qui est formé des deux matrices  \n",
    "$[\\begin{pmatrix} 2 & 4 & 6\\\\ 8 & 10 & 12 \\end{pmatrix}, \\begin{pmatrix} 14 & 16 & 18 \\\\ 20 & 22 & 24 \\end{pmatrix}]$.  \n",
    "\n",
    "On veut ensuite le *slicer* pour obtenir  \n",
    "$[\\begin{pmatrix} 24 & 22 & 20 \\\\ 18 & 16 & 14 \\\\ \\end{pmatrix}, \\begin{pmatrix} 12 & 10 & 8 \\\\ 6 & 4 & 2\\end{pmatrix}] $, \n",
    "\n",
    "et on veut mettre 999 à la place de 2 et afficher le premier tableau."
   ]
  },
  {
   "cell_type": "code",
   "execution_count": 62,
   "id": "461146f2",
   "metadata": {},
   "outputs": [],
   "source": [
    "# votre code ici"
   ]
  },
  {
   "cell_type": "markdown",
   "id": "08dfdb0d",
   "metadata": {},
   "source": [
    "Nous l'avons déjà bien dit mais il est important de le rappeler: ces tranches de tableaux (slices) ne sont que des vues sur le tableau initial et non des copies. Si vous les modifiez, c'est bien le tableau initial qui est modifié.\n",
    "\n",
    "Le seul objet qui est créé est une nouvelle vue sur votre tableau, un nouvel `np.ndarray` qui sait qu'il est une vue !\n",
    "\n",
    "Et là c'est très différent de Python, où les sous-listes obtenues par slicing sont des copies de la liste initiale !"
   ]
  },
  {
   "cell_type": "markdown",
   "id": "605c8af3",
   "metadata": {},
   "source": [
    "## modifier les sous-tableaux"
   ]
  },
  {
   "cell_type": "markdown",
   "id": "da191bcf",
   "metadata": {},
   "source": [
    "Maintenant que vous savez accéder à une slice d'un tableau, naturellement vous allez vouloir la modifier ?\n",
    "\n",
    "Il va falloir faire attention:  \n",
    "i) au type des éléments  \n",
    "ii), mais aussi maintenant à la forme du tableau"
   ]
  },
  {
   "cell_type": "markdown",
   "id": "86dc6130",
   "metadata": {},
   "source": [
    "Prenons un vecteur `vec`:"
   ]
  },
  {
   "cell_type": "code",
   "execution_count": 63,
   "id": "6a35b88f",
   "metadata": {},
   "outputs": [
    {
     "data": {
      "text/plain": [
       "array([1, 2, 3, 4, 5, 6])"
      ]
     },
     "execution_count": 63,
     "metadata": {},
     "output_type": "execute_result"
    }
   ],
   "source": [
    "vec = np.arange(1, 7)\n",
    "vec"
   ]
  },
  {
   "cell_type": "markdown",
   "id": "77bddaf4",
   "metadata": {},
   "source": [
    "Prenons une vue sur les nombres pairs du vecteur `vec`"
   ]
  },
  {
   "cell_type": "code",
   "execution_count": 64,
   "id": "8f481032",
   "metadata": {},
   "outputs": [
    {
     "data": {
      "text/plain": [
       "array([2, 4, 6])"
      ]
     },
     "execution_count": 64,
     "metadata": {},
     "output_type": "execute_result"
    }
   ],
   "source": [
    "vec[1::2]"
   ]
  },
  {
   "cell_type": "markdown",
   "id": "7449d675",
   "metadata": {},
   "source": [
    "Modifions ces nombres tous en une seule fois:"
   ]
  },
  {
   "cell_type": "code",
   "execution_count": 65,
   "id": "872da062",
   "metadata": {},
   "outputs": [
    {
     "data": {
      "text/plain": [
       "array([ 1, 20,  3, 40,  5, 60])"
      ]
     },
     "execution_count": 65,
     "metadata": {},
     "output_type": "execute_result"
    }
   ],
   "source": [
    "vec[1::2] = [20, 40, 60]\n",
    "vec"
   ]
  },
  {
   "cell_type": "markdown",
   "id": "9be9f99f",
   "metadata": {},
   "source": [
    "Il l'a fait.\n",
    "\n",
    "Essayons de le tromper ? si je ne lui donne pas assez d'éléments pour remplir sa slice :"
   ]
  },
  {
   "cell_type": "code",
   "execution_count": 66,
   "id": "2daceba7",
   "metadata": {
    "tags": [
     "raises-exception"
    ]
   },
   "outputs": [
    {
     "ename": "ValueError",
     "evalue": "could not broadcast input array from shape (2,) into shape (3,)",
     "output_type": "error",
     "traceback": [
      "\u001b[0;31m---------------------------------------------------------------------------\u001b[0m",
      "\u001b[0;31mValueError\u001b[0m                                Traceback (most recent call last)",
      "\u001b[0;32m/tmp/ipykernel_2195/4077494719.py\u001b[0m in \u001b[0;36m<module>\u001b[0;34m\u001b[0m\n\u001b[0;32m----> 1\u001b[0;31m \u001b[0mvec\u001b[0m\u001b[0;34m[\u001b[0m\u001b[0;36m1\u001b[0m\u001b[0;34m:\u001b[0m\u001b[0;34m:\u001b[0m\u001b[0;36m2\u001b[0m\u001b[0;34m]\u001b[0m \u001b[0;34m=\u001b[0m \u001b[0;34m[\u001b[0m\u001b[0;36m2\u001b[0m\u001b[0;34m,\u001b[0m \u001b[0;36m4\u001b[0m\u001b[0;34m]\u001b[0m\u001b[0;34m\u001b[0m\u001b[0;34m\u001b[0m\u001b[0m\n\u001b[0m",
      "\u001b[0;31mValueError\u001b[0m: could not broadcast input array from shape (2,) into shape (3,)"
     ]
    }
   ],
   "source": [
    "vec[1::2] = [2, 4]"
   ]
  },
  {
   "cell_type": "markdown",
   "id": "d3eeb75d",
   "metadata": {},
   "source": [
    "Il s'en apercoit: il ne sait donc pas déduire un tableau de taille 3 à partir de \\[2, 4\\]. Et on le comprend ! Quelle valeur choisir pour l'élément manquant ? Rien de logique ne nous vient à l'esprit.\n",
    "\n",
    "Essayons d'une autre manière:"
   ]
  },
  {
   "cell_type": "code",
   "execution_count": 67,
   "id": "eb59f65b",
   "metadata": {},
   "outputs": [
    {
     "data": {
      "text/plain": [
       "array([  1, 999,   3, 999,   5, 999])"
      ]
     },
     "execution_count": 67,
     "metadata": {},
     "output_type": "execute_result"
    }
   ],
   "source": [
    "vec[1::2] = [ 999 ]\n",
    "vec"
   ]
  },
  {
   "cell_type": "markdown",
   "id": "1d4379e6",
   "metadata": {},
   "source": [
    "Que s'est-il passé ! `numpy` a  parfaitement accepté de faire l'affectation !\n",
    "\n",
    "Comment a-t-il considéré \\[999\\] ?\n",
    "\n",
    "Il a considéré \\[ 999 \\] comme étant \\[ 999, 999, 999 \\] !\n",
    "\n",
    "Et oui là il trouve une manière intelligente de transformer (d'élargir, d'agrandir), un tableau réduit à un seul élément (\\[ 999 \\]) en tableau à 3 éléments: il met 3 fois le même !\n",
    "\n",
    "Vous auriez indiqué juste 999 il l'aurait fait aussi !\n",
    "\n",
    "C'est ce qu'on appelle le *broadcasting*, on y reviendra plus tard. C'est super utile ! Quand c'est possible `numpy` *élargit* vos tableaux de manière à pouvoir faire l'opération."
   ]
  },
  {
   "cell_type": "code",
   "execution_count": 68,
   "id": "ec156673",
   "metadata": {},
   "outputs": [],
   "source": [
    "# la manière classique de faire, mais l'autre est plus jolie et plus rapide\n",
    "vec[1::2] = [ 999, 999, 999 ] "
   ]
  },
  {
   "cell_type": "markdown",
   "id": "745bffd4",
   "metadata": {},
   "source": [
    "Et en plus, ça va même plus vite ! En effet quand vous voulez faire une opération du genre \"*ajouter 10 à tous les éléments d'un vecteur de taille 800*\", `numpy` va éviter de créer un nouveau tableau de taille 800 rempli de 10, avant de l'ajouter, il va donc être plus rapide que vous !"
   ]
  },
  {
   "cell_type": "markdown",
   "id": "2047c6f3",
   "metadata": {},
   "source": [
    "On essaie ?"
   ]
  },
  {
   "cell_type": "code",
   "execution_count": 69,
   "id": "739b743a",
   "metadata": {},
   "outputs": [],
   "source": [
    "m = np.ones(800) # des tas de 1"
   ]
  },
  {
   "cell_type": "markdown",
   "id": "7010651f",
   "metadata": {},
   "source": [
    "Combien de temps pour ajouter 10 à chacune des cases de ce tableau:"
   ]
  },
  {
   "cell_type": "code",
   "execution_count": 70,
   "id": "4fbe8550",
   "metadata": {},
   "outputs": [
    {
     "name": "stdout",
     "output_type": "stream",
     "text": [
      "1.3 µs ± 2.85 ns per loop (mean ± std. dev. of 7 runs, 1000000 loops each)\n"
     ]
    }
   ],
   "source": [
    "%%timeit\n",
    "m+10"
   ]
  },
  {
   "cell_type": "markdown",
   "id": "98a7a087",
   "metadata": {},
   "source": [
    "Et combien de temps si on doit créer le tableau de 10 ?"
   ]
  },
  {
   "cell_type": "code",
   "execution_count": 71,
   "id": "057534f2",
   "metadata": {},
   "outputs": [
    {
     "name": "stdout",
     "output_type": "stream",
     "text": [
      "5.21 µs ± 5.61 ns per loop (mean ± std. dev. of 7 runs, 100000 loops each)\n"
     ]
    }
   ],
   "source": [
    "%%timeit\n",
    "m10 = np.ones(800)*10 # l'utilisation classique de la fonction ones (on utilise là aussi le broadcast)\n",
    "m+m10"
   ]
  },
  {
   "cell_type": "markdown",
   "id": "80fe5955",
   "metadata": {},
   "source": [
    "Et bien oui on met naturellement la création du tableau dans le code dont le temps d'exécution est mesurée, sinon naturellement `numpy` sera plus rapide si il n'a pas de broadcasting à faire !"
   ]
  },
  {
   "cell_type": "markdown",
   "id": "b047b9ae",
   "metadata": {},
   "source": [
    "On y reviendra. Oublions pour le moment le broadcasting,"
   ]
  },
  {
   "cell_type": "markdown",
   "id": "4b30348d",
   "metadata": {},
   "source": [
    "## exercices"
   ]
  },
  {
   "cell_type": "markdown",
   "id": "935225fe",
   "metadata": {},
   "source": [
    "avant d'aborder ces exercices, je vous signale un utilitaire très pratique (parmi les 2347 que nous n'avons pas eu le temps de couvrir ;); il s'agit de `numpy.indices()`\n",
    "\n",
    "commençons par un exemple :"
   ]
  },
  {
   "cell_type": "code",
   "execution_count": 72,
   "id": "f5944c6d",
   "metadata": {},
   "outputs": [],
   "source": [
    "lignes, colonnes = np.indices((3, 5))"
   ]
  },
  {
   "cell_type": "code",
   "execution_count": 73,
   "id": "35b96522",
   "metadata": {
    "cell_style": "split"
   },
   "outputs": [
    {
     "data": {
      "text/plain": [
       "array([[0, 0, 0, 0, 0],\n",
       "       [1, 1, 1, 1, 1],\n",
       "       [2, 2, 2, 2, 2]])"
      ]
     },
     "execution_count": 73,
     "metadata": {},
     "output_type": "execute_result"
    }
   ],
   "source": [
    "lignes"
   ]
  },
  {
   "cell_type": "code",
   "execution_count": 74,
   "id": "8c4d92f1",
   "metadata": {
    "cell_style": "split"
   },
   "outputs": [
    {
     "data": {
      "text/plain": [
       "array([[0, 1, 2, 3, 4],\n",
       "       [0, 1, 2, 3, 4],\n",
       "       [0, 1, 2, 3, 4]])"
      ]
     },
     "execution_count": 74,
     "metadata": {},
     "output_type": "execute_result"
    }
   ],
   "source": [
    "colonnes"
   ]
  },
  {
   "cell_type": "markdown",
   "id": "d44173f1",
   "metadata": {},
   "source": [
    "vous remarquerez que dans le tableau qui s'appelle `lignes`, la valeur dans le tableau correspond au numéro de ligne; dit autrement :\n",
    "\n",
    "* `lignes[i, j] == i` pour tous les $(i, j)$,\n",
    "    \n",
    "et dans l'autre sens bien sûr \n",
    "\n",
    "* `colonnes[i, j] == j`"
   ]
  },
  {
   "cell_type": "code",
   "execution_count": 75,
   "id": "b0e9864d",
   "metadata": {
    "cell_style": "split"
   },
   "outputs": [
    {
     "data": {
      "text/plain": [
       "1"
      ]
     },
     "execution_count": 75,
     "metadata": {},
     "output_type": "execute_result"
    }
   ],
   "source": [
    "lignes[1, 4]"
   ]
  },
  {
   "cell_type": "code",
   "execution_count": 76,
   "id": "3cd1627f",
   "metadata": {
    "cell_style": "split"
   },
   "outputs": [
    {
     "data": {
      "text/plain": [
       "4"
      ]
     },
     "execution_count": 76,
     "metadata": {},
     "output_type": "execute_result"
    }
   ],
   "source": [
    "colonnes[1, 4]"
   ]
  },
  {
   "cell_type": "markdown",
   "id": "c88dda77",
   "metadata": {},
   "source": [
    "Pourquoi est-ce qu'on parle de ça me direz-vous ? \n",
    "\n",
    "Eh bien en guise d'indice, je vous renvoie à la notion de programmation vectorielle.\n",
    "\n",
    "Ainsi par exemple si je veux créer une matrice de taille (3,5) dans laquelle `M[i, j] == i + j`, je **ne vais surtout par écrire une boucle `for`**, et au contraire je vais écrire simplement"
   ]
  },
  {
   "cell_type": "code",
   "execution_count": 77,
   "id": "81136e60",
   "metadata": {},
   "outputs": [
    {
     "data": {
      "text/plain": [
       "array([[0, 1, 2, 3, 4],\n",
       "       [1, 2, 3, 4, 5],\n",
       "       [2, 3, 4, 5, 6]])"
      ]
     },
     "execution_count": 77,
     "metadata": {},
     "output_type": "execute_result"
    }
   ],
   "source": [
    "I, J = np.indices((3, 5))\n",
    "M = I + J\n",
    "M"
   ]
  },
  {
   "cell_type": "markdown",
   "id": "e7ec4676",
   "metadata": {},
   "source": [
    "### les rayures"
   ]
  },
  {
   "cell_type": "markdown",
   "id": "28796706",
   "metadata": {},
   "source": [
    "Écrivez une fonction `zebre`, qui prend en argument un entier *n* et qui fabrique un tableau carré de coté $n$, formé d'une alternance de colonnes de 0 et de colonnes de 1."
   ]
  },
  {
   "cell_type": "markdown",
   "id": "75aded63",
   "metadata": {},
   "source": [
    "par exemple pour $n=4$ on s'attend à ceci\n",
    "\n",
    "```console\n",
    "0 1 0 1 \n",
    "0 1 0 1 \n",
    "0 1 0 1 \n",
    "0 1 0 1 \n",
    "```"
   ]
  },
  {
   "cell_type": "markdown",
   "id": "54403506",
   "metadata": {},
   "source": [
    "### le damier\n",
    "\n",
    "Écrivez une fonction *checkers*, qui prend en argument la taille *n* du damier, et un paramètre optionnel qui indique la valeur de la case (0, 0), et qui crée un tableau `numpy` carré de coté $n$, et le remplit avec des 0 et 1 comme un damier (0 pour les cases noires et 1 pour les cases blanches).\n",
    "\n",
    "\n",
    "https://nbhosting.inria.fr/auditor/notebook/python-mooc:exos/w7/w7-s05-x1-checkers"
   ]
  },
  {
   "cell_type": "markdown",
   "id": "36dbfa80",
   "metadata": {
    "tags": [
     "level_advanced"
    ]
   },
   "source": [
    "### le damier (variante)"
   ]
  },
  {
   "cell_type": "markdown",
   "id": "0ed49212",
   "metadata": {
    "tags": [
     "level_advanced"
    ]
   },
   "source": [
    "Il y a beaucoup de méthodes pour faire cet exercice de damier; elles ne vont pas toutes se généraliser pour la variante :\n",
    "\n",
    "**Variante** écrivez une fonction `super_checkers` qui crée \n",
    "\n",
    "* un damier de coté $k.n \\times k.n$ \n",
    "* composé de blocs de $k\\times k$ homogènes (tous à 0 ou tous à 1)\n",
    "* eux mêmes en damiers\n",
    "* on décide que le premier bloc (en 0,0) vaut 0\n",
    "\n",
    "c'est-à-dire par exemple pour $n=4$ et $k=3$ cela donnerait ceci :\n",
    "\n",
    "```\n",
    "0 0 0 1 1 1 0 0 0 1 1 1 \n",
    "0 0 0 1 1 1 0 0 0 1 1 1 \n",
    "0 0 0 1 1 1 0 0 0 1 1 1 \n",
    "1 1 1 0 0 0 1 1 1 0 0 0 \n",
    "1 1 1 0 0 0 1 1 1 0 0 0 \n",
    "1 1 1 0 0 0 1 1 1 0 0 0 \n",
    "0 0 0 1 1 1 0 0 0 1 1 1 \n",
    "0 0 0 1 1 1 0 0 0 1 1 1 \n",
    "0 0 0 1 1 1 0 0 0 1 1 1 \n",
    "1 1 1 0 0 0 1 1 1 0 0 0 \n",
    "1 1 1 0 0 0 1 1 1 0 0 0 \n",
    "1 1 1 0 0 0 1 1 1 0 0 0 \n",
    "```"
   ]
  },
  {
   "cell_type": "code",
   "execution_count": 78,
   "id": "435cfdbe",
   "metadata": {
    "tags": [
     "level_advanced"
    ]
   },
   "outputs": [],
   "source": [
    "def super_checkers(n, k):\n",
    "    ..."
   ]
  },
  {
   "cell_type": "code",
   "execution_count": 79,
   "id": "6f89b34b",
   "metadata": {
    "tags": [
     "level_advanced"
    ]
   },
   "outputs": [],
   "source": [
    "# doit vous donner la figure ci-dessus\n",
    "# éventuellement avec des False/True au lieu de 0/1\n",
    "super_checkers(4, 3)"
   ]
  },
  {
   "cell_type": "markdown",
   "id": "9b0ec326",
   "metadata": {},
   "source": [
    "### les escaliers"
   ]
  },
  {
   "cell_type": "markdown",
   "id": "fc558fb2",
   "metadata": {},
   "source": [
    "Écrivez une fonction *escalier*, qui prend en argument un entier *n*, qui crée un tableau de taille *2n+1*, et qui le remplit de manière à ce que:\n",
    "   - aux quatre coins du tableau on trouve la valeur *0*\n",
    "   - dans la case centrale on trouve la valeur *2n*\n",
    "   - et si vous partez de n'importe quelle case  et que vous vous déplacez d'une case (horizontalement ou verticalement), en vous dirigeant vers une case plus proche du centre, la valeur que vous trouvez est *1* de plus que la valeur de la case où vous étiez."
   ]
  },
  {
   "cell_type": "markdown",
   "id": "d48baea2",
   "metadata": {},
   "source": [
    "https://nbhosting.inria.fr/auditor/notebook/python-mooc:exos/w7/w7-s05-x3-stairs"
   ]
  },
  {
   "cell_type": "markdown",
   "id": "b46cd17a",
   "metadata": {
    "tags": [
     "level_advanced"
    ]
   },
   "source": [
    "### calculs imbriqués (avancé)"
   ]
  },
  {
   "cell_type": "markdown",
   "id": "6da435a3",
   "metadata": {
    "tags": [
     "level_advanced"
    ]
   },
   "source": [
    "Regardez le code suivant :"
   ]
  },
  {
   "cell_type": "code",
   "execution_count": 80,
   "id": "0ccde3b9",
   "metadata": {
    "tags": [
     "level_advanced"
    ]
   },
   "outputs": [],
   "source": [
    "# une fonction vectorisée\n",
    "def pipeline(array):\n",
    "    array2a = np.sin(array)\n",
    "    array2b = np.cos(array)\n",
    "    array3 = np.exp(array2a + array2b)\n",
    "    array4 = np.log(array3+1)\n",
    "    return array4"
   ]
  },
  {
   "cell_type": "markdown",
   "id": "b557ed59",
   "metadata": {
    "tags": [
     "level_advanced"
    ]
   },
   "source": [
    "Les questions : j'ai un tableau `X` typé `float64` et de forme `(1000,)`\n",
    "\n",
    "* j'appelle `pipeline(X)`, combien de mémoire est-ce que `pipeline` va devoir allouer pour faire son travail ?\n",
    "* quel serait le minimum de mémoire dont on a besoin pour faire cette opération ?\n",
    "* voyez-vous un moyen d'optimiser `pipeline` pour atteindre ce minimum ?"
   ]
  },
  {
   "cell_type": "markdown",
   "id": "cba37ce4",
   "metadata": {
    "tags": [
     "level_advanced"
    ]
   },
   "source": [
    "**indice**\n",
    "\n",
    "* l'exercice vous invite à réfléchir à l'utilisation du paramètre `out=` qui est supporté dans les fonction vectorisées de numpy\n",
    "* dans ce cadre, sachez qu'on peut presque toujours remplacer l'usage d'un opérateur (comme ici `+`) par une fonction vectorisée (ici `np.add`)"
   ]
  }
 ],
 "metadata": {
  "jupytext": {
   "cell_metadata_filter": "all,-hidden,-heading_collapsed",
   "cell_metadata_json": true,
   "notebook_metadata_filter": "all,-language_info,-toc,-jupytext.text_representation.jupytext_version,-jupytext.text_representation.format_version",
   "text_representation": {
    "extension": ".md",
    "format_name": "myst"
   }
  },
  "kernelspec": {
   "display_name": "Python 3",
   "language": "python",
   "name": "python3"
  },
  "language_info": {
   "codemirror_mode": {
    "name": "ipython",
    "version": 3
   },
   "file_extension": ".py",
   "mimetype": "text/x-python",
   "name": "python",
   "nbconvert_exporter": "python",
   "pygments_lexer": "ipython3",
   "version": "3.9.5"
  },
  "notebookname": "indexation & slicing",
  "source_map": [
   14,
   23,
   29,
   31,
   35,
   39,
   49,
   53,
   61,
   65,
   69,
   72,
   76,
   78,
   82,
   87,
   91,
   94,
   104,
   108,
   118,
   122,
   125,
   129,
   132,
   136,
   139,
   143,
   150,
   157,
   169,
   173,
   175,
   179,
   183,
   187,
   193,
   197,
   203,
   207,
   213,
   220,
   226,
   231,
   235,
   239,
   241,
   245,
   249,
   253,
   257,
   259,
   263,
   269,
   277,
   279,
   283,
   291,
   295,
   299,
   304,
   306,
   318,
   322,
   324,
   328,
   332,
   338,
   340,
   347,
   349,
   355,
   361,
   365,
   367,
   371,
   373,
   377,
   381,
   390,
   394,
   402,
   406,
   408,
   412,
   414,
   418,
   420,
   424,
   433,
   436,
   446,
   450,
   457,
   462,
   468,
   472,
   476,
   489,
   493,
   497,
   501,
   508,
   514,
   520,
   528,
   535,
   539,
   545,
   549,
   553,
   559,
   565,
   571,
   577,
   585,
   592,
   597,
   601,
   607,
   614,
   619,
   623,
   627,
   631,
   642,
   644,
   652,
   656,
   664,
   668,
   671,
   675,
   677,
   681,
   684,
   690,
   694,
   700,
   703,
   717,
   720,
   724,
   728,
   730,
   734,
   737,
   741,
   745,
   749,
   753,
   757,
   763,
   767,
   773,
   777,
   787,
   793,
   797,
   805,
   809,
   813,
   817,
   828,
   837,
   841,
   869,
   876,
   882,
   886,
   893,
   897,
   901,
   905,
   917,
   925
  ]
 },
 "nbformat": 4,
 "nbformat_minor": 5
}