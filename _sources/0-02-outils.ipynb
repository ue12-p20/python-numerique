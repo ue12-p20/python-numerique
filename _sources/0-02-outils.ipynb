{
 "cells": [
  {
   "cell_type": "markdown",
   "id": "57e0d023",
   "metadata": {},
   "source": [
    "<div class=\"licence\">\n",
    "<span>Licence CC BY-NC-ND</span>\n",
    "<div style=\"display:grid\">\n",
    "    <span>Thierry Parmentelat</span>\n",
    "    <span>Valérie Roy</span>\n",
    "</div>\n",
    "</div>\n",
    "\n",
    "<span><img src=\"media/inria-25-alpha.png\" /></span>\n",
    "<span><img src=\"media/ensmp-25-alpha.png\" /></span>"
   ]
  },
  {
   "cell_type": "markdown",
   "id": "7aaa1738",
   "metadata": {},
   "source": [
    "# outils de base\n",
    "\n",
    "## éditeur de code"
   ]
  },
  {
   "cell_type": "markdown",
   "id": "d2ee71f1",
   "metadata": {},
   "source": [
    "pour pouvoir facilement modifier le contenu de nos fichiers texte, comme tout à l'heure le\n",
    "fichier `foo.txt`, on va utiliser un programme qui s'appelle un **éditeur de code**\n",
    "\n",
    "en effet, il ne faut **pas utiliser un outil comme Word** pour éditer des programmes:\n",
    "c'est un éditeur de texte pas un éditeur de code !\n",
    "\n",
    "> l'enseignant lance Visual Studio Code et le montre très très rapidement"
   ]
  },
  {
   "cell_type": "markdown",
   "id": "280d9726",
   "metadata": {},
   "source": [
    "### installation éditeur de code"
   ]
  },
  {
   "cell_type": "markdown",
   "id": "c8f1c5a6",
   "metadata": {},
   "source": [
    "forts de notre expérience de l'année dernière, cette année 2020-2021, nous demandons à\n",
    "**tous** les élèves d'installer et de savoir utiliser vs-code\n",
    "\n",
    "et **ATTENTION** il y a eu **beaucoup de problèmes** l'an passé avec les éditeurs de type\n",
    "*pyzo*, ne les utilisez surtout pas dans nos cours, vous allez perdre un temps précieux et\n",
    "en faire perdre à vos enseignants pour des raisons inintéressantes et extérieures à Python"
   ]
  },
  {
   "cell_type": "markdown",
   "id": "0a88733e",
   "metadata": {},
   "source": [
    "On y va. Le site est là <https://code.visualstudio.com/>. Vous voulez installer donc il va\n",
    "falloir que vous alliez dans une section *download* ... vous la voyez ? à vous de jouer\n",
    "maintenant, l'enseignant va montrer les étapes pour les élèves sous Windows. Lisez bien\n",
    "les messages et posez nous vos questions."
   ]
  },
  {
   "cell_type": "markdown",
   "id": "cdac16f1",
   "metadata": {},
   "source": [
    "**conseil**\n",
    "\n",
    "en cochant ces cases lors de l'installation, vous pourrez lancer vs-code avec un clic\n",
    "droit depuis un dossier ou un fichier\n",
    "\n",
    "![](media/fig-explorer-vs-code.png)"
   ]
  },
  {
   "cell_type": "markdown",
   "id": "c0434624",
   "metadata": {},
   "source": [
    "### micro-démo vs-code"
   ]
  },
  {
   "cell_type": "markdown",
   "id": "c62b10c5",
   "metadata": {},
   "source": [
    "Que vous ayez réussi à installer visual studio code sur votre portable ou pas encore,\n",
    "suivez maintenant ce que montre l'enseignant.\n",
    "\n",
    "Si vous avez rencontré des problèmes imprévus lors de l'installation (ce qui n'est pas\n",
    "rare en informatique), venez nous voir plus tard pour que nous vous aidions et postez vos\n",
    "problèmes/questions sur *discourse* pour qu'on y regroupe les réponses aux mêmes\n",
    "problèmes."
   ]
  },
  {
   "cell_type": "markdown",
   "id": "47ec7726",
   "metadata": {
    "tags": []
   },
   "source": [
    "> micro démo de Visual Code sur le fichier `foo.txt`\n",
    "\n",
    "* depuis le terminal, aller dans le bon répertoire et lancer\n",
    "  ```\n",
    "  code .\n",
    "  ```\n",
    "\n",
    "***\n",
    "\n",
    "* manipulations simples\n",
    "  * afficher/cacher l'explorateur de fichiers\n",
    "  * modifier `foo.txt`, sauver la version modifiée\n",
    "  * créer un nouveau fichier `bar.txt`, le sauver\n",
    "  * observer le contenu des fichiers depuis le terminal avec `cat`\n",
    "  * montrer comment se manifeste la fin de ligne\n",
    "\n",
    "***\n",
    "\n",
    "* montrer des manipulations élémentaires de fenêtres\n",
    "  * afficher les deux fichiers côte à côte\n",
    "  * puis l'un au dessus de l'autre\n",
    "\n",
    "***\n",
    "\n",
    "* montrer comment :\n",
    "  * chercher une extension  (prétexte : l'extension Python)\n",
    "  * installer/désinstaller\n",
    "  * activer/désactiver une nouvelle extension\n",
    "\n",
    "***\n",
    "\n",
    "* montrer comment :\n",
    "  * passer d'une application à une autre avec `⌥ ⇥` (Alt-Tab)\n",
    "  * typiquement pour basculer entre vscode et terminal\n",
    " \n",
    "***\n",
    "\n",
    "* de retour dans vs-code, montrer la palette :\n",
    "  * `⇧ ⌘ P` Shift-Command-P (mac)\n",
    "  * `⇧ ⌃ P` Shift-Control-P (windows)\n",
    "\n",
    "* sur Windows, pour choisir 'bash' comme terminal\n",
    "  * utiliser la palette et taper\n",
    "  * `Select Default Shell`\n",
    "\n",
    "* montrer comment lancer le terminal\n",
    "  * Control \\` - la deuxième fois on le ferme"
   ]
  },
  {
   "cell_type": "markdown",
   "id": "55680927",
   "metadata": {},
   "source": [
    "voir aussi  \n",
    "https://code.visualstudio.com/docs/getstarted/userinterface"
   ]
  },
  {
   "cell_type": "markdown",
   "id": "bba2d64a",
   "metadata": {},
   "source": [
    "exercice :\n",
    "\n",
    "* refaire les manipulations vous-mêmes une fois l'installation de l'éditeur de code\n",
    "  terminée."
   ]
  },
  {
   "cell_type": "markdown",
   "id": "fb966b1f",
   "metadata": {
    "tags": [
     "level_intermediate"
    ]
   },
   "source": [
    "il est recommandé, avec vs-code, de prendre l'habitude d'ouvrir un **répertoire** plutôt\n",
    "qu'un fichier\n",
    "\n",
    "si vous ouvrez un fichier (par exemple par un clic droit sur le fichier dans l'explorateur\n",
    "de fichiers), vs-code va vous ouvrir le fichier dans une fenêtre déjà ouverte - souvent ça\n",
    "va arriver comme un cheveu sur la soupe, dans un autre répertoire; si votre objectif c'est\n",
    "d'ouvrir une nouvelle fenêtre, préfèrez ouvrir le dossier (toujours avec le clic droit,\n",
    "mais sur le dossier lui-même et non le fichier)"
   ]
  },
  {
   "cell_type": "markdown",
   "id": "0fd1f456",
   "metadata": {},
   "source": [
    "## markdown"
   ]
  },
  {
   "cell_type": "markdown",
   "id": "b11af363",
   "metadata": {},
   "source": [
    "c'est un format simple, léger et bien pensé pour mettre en forme facilement vos textes, il\n",
    "est devenu le couteau suisse pour écrire des documents\n",
    "\n",
    "* avec un minimum de présentation\n",
    "  * sections\n",
    "  * listes\n",
    "  * gras, italique, code\n",
    "  * liens\n",
    "  * maths\n",
    "* toujours dans un **fichier texte** (à nouveau, ≠ Word)"
   ]
  },
  {
   "cell_type": "markdown",
   "id": "805079f6",
   "metadata": {},
   "source": [
    "format **très populaire** en ce moment, supporté e.g. :\n",
    "\n",
    "* dans les notebooks, justement,\n",
    "* dans discourse\n",
    "* dans github\n",
    "* sur whatsapp (en partie), …\n",
    "\n",
    "et plus généralement dans tous les sites web de forums/blogs, où on peut entrer du texte\n",
    "directement depuis le navigateur"
   ]
  },
  {
   "cell_type": "markdown",
   "id": "b2fe3c80",
   "metadata": {},
   "source": [
    "### micro-démo sous vs-code\n",
    "\n",
    "> sous vs-code\n",
    "\n",
    "* créer un fichier `foo.md`\n",
    "* remarquer la petite icône ![](media/fig-vscode-markdown.png)\n",
    "  * afficher côte à côte le markdown brut et rendu\n",
    "* rapide survol\n",
    "  * sections\n",
    "  * listes avec et sans numérotation\n",
    "  * gras, italique\n",
    "* insister sur les plusieurs façons de mettre du code,\n",
    "  * soit `inline` sans saut de ligne, ou alors\n",
    "  * avec des \"triple ticks\" <code>```</code>\n",
    "  * avec 4 espaces de marge\n",
    "* images et liens\n",
    "  * montrer le code markdown de cette cellule notebook\n",
    "\n",
    "cheatsheet <https://guides.github.com/pdfs/markdown-cheatsheet-online.pdf>"
   ]
  },
  {
   "cell_type": "markdown",
   "id": "5f876841",
   "metadata": {},
   "source": [
    "### mathjax"
   ]
  },
  {
   "cell_type": "markdown",
   "id": "169c8a4b",
   "metadata": {},
   "source": [
    "on peut aussi écrire des maths en markdown  \n",
    "ça se fait en utilisant le langage $\\LaTeX$  \n",
    "c'est un peu abscons au début mais on s'y habitue vite  \n",
    "parce que c'est vraiment très joli\n",
    "\n",
    "***\n",
    "\n",
    "$$\n",
    "\\forall \\epsilon \\in \\mathbb{R}^+, \\exists\\alpha\\in\\mathbb{R}^+,\n",
    "\\forall x, |x-x_0| < \\alpha\\implies |f(x)-f(x_0)| < \\epsilon\n",
    "$$\n",
    "\n",
    "***\n",
    "\n",
    "$$\n",
    "\\sum_{i=0}^n i^2 = \\frac{(n^2+n)(2n+1)}{6}\n",
    "$$"
   ]
  },
  {
   "cell_type": "markdown",
   "id": "cceb6c71",
   "metadata": {},
   "source": [
    "#### *inline*\n",
    "\n",
    "à la base markdown utilise pour ça le signe `$`\n",
    "\n",
    "si vous voulez mettre des maths dans un paragraphe (on dit *inline*), vous utilisez un\n",
    "seul `$` au début et à la fin de l'équation; c-a-d si vous écrivez\n",
    "\n",
    "```latex\n",
    "voici une petite équation $y = x^2 +2x +1$ au milieu de la ligne\n",
    "```\n",
    "\n",
    "vous obtenez\n",
    "\n",
    "voici une petite équation $y = x^2 +2x +1$ au milieu de la ligne"
   ]
  },
  {
   "cell_type": "markdown",
   "id": "831e1f2b",
   "metadata": {},
   "source": [
    "#### paragraphe séparé\n",
    "\n",
    "pour mettre une équation dans un paragraphe séparé on double le dollar de début et de fin\n",
    "\n",
    "du coup\n",
    "\n",
    "```latex\n",
    "$$\n",
    "\\forall x \\in \\mathbb{R}, \\forall \\epsilon \\in \\mathbb{R}^+, \\exists\\alpha\\in\\mathbb{R}^+ \\\\\n",
    " |x'-x| < \\alpha\\implies |f(x')-f(x)| < \\epsilon\n",
    "$$\n",
    "```\n",
    "\n",
    "se présentera comme ceci :\n",
    "\n",
    "$$\n",
    "\\forall x \\in \\mathbb{R}, \\forall \\epsilon \\in \\mathbb{R}^+, \\exists\\alpha\\in\\mathbb{R}^+ \\\\\n",
    " |x'-x| < \\alpha\\implies |f(x')-f(x)| < \\epsilon\n",
    "$$"
   ]
  },
  {
   "cell_type": "markdown",
   "id": "3706b0da",
   "metadata": {},
   "source": [
    "au passage, vous remarquez que les commandes $\\LaTeX$  commencent par `\\`"
   ]
  },
  {
   "cell_type": "markdown",
   "id": "07062636",
   "metadata": {},
   "source": [
    "#### les mots du jargon $\\LaTeX$"
   ]
  },
  {
   "cell_type": "markdown",
   "id": "c605f797",
   "metadata": {},
   "source": [
    "ça dépasse complètement notre périmètre que d'essayer de faire le tour de $\\LaTeX$; je\n",
    "préfère commencer par quelques exemples qui devraient vous permettre de démarrer"
   ]
  },
  {
   "cell_type": "markdown",
   "id": "4b6d44be",
   "metadata": {
    "cell_style": "split"
   },
   "source": [
    "$$\n",
    "\\forall x\\in \\mathbb{R},\n",
    "\\; \\exists y \\leq \\epsilon\n",
    "$$"
   ]
  },
  {
   "cell_type": "markdown",
   "id": "bc5df8ce",
   "metadata": {
    "cell_style": "split"
   },
   "source": [
    "```\n",
    "\\forall x \\in \\mathbb{R},\n",
    "\\; \\exists y \\leq \\epsilon\n",
    "```"
   ]
  },
  {
   "cell_type": "markdown",
   "id": "487f296b",
   "metadata": {
    "cell_style": "split"
   },
   "source": [
    "$$x_1=\\frac{-b+\\sqrt{b^2-4ac}}{2a}$$"
   ]
  },
  {
   "cell_type": "markdown",
   "id": "6e585968",
   "metadata": {
    "cell_style": "split"
   },
   "source": [
    "```\n",
    "x_1=\\frac{-b+\\sqrt{b^2-4ac}}{2a}\n",
    "```"
   ]
  },
  {
   "cell_type": "markdown",
   "id": "2533c470",
   "metadata": {
    "cell_style": "split"
   },
   "source": [
    "$$\n",
    "A_{m,n} =\n",
    " \\begin{pmatrix}\n",
    "  a_{1,1} & a_{1,2} & \\cdots & a_{1,n} \\\\\n",
    "  a_{2,1} & a_{2,2} & \\cdots & a_{2,n} \\\\\n",
    "  \\vdots  & \\vdots  & \\ddots & \\vdots  \\\\\n",
    "  a_{m,1} & a_{m,2} & \\cdots & a_{m,n}\n",
    " \\end{pmatrix}\n",
    "$$"
   ]
  },
  {
   "cell_type": "markdown",
   "id": "4c4e6560",
   "metadata": {
    "cell_style": "split"
   },
   "source": [
    "```\n",
    "$$\n",
    "A_{m,n} =\n",
    " \\begin{pmatrix}\n",
    "  a_{1,1} & a_{1,2} & \\cdots & a_{1,n} \\\\\n",
    "  a_{2,1} & a_{2,2} & \\cdots & a_{2,n} \\\\\n",
    "  \\vdots  & \\vdots  & \\ddots & \\vdots  \\\\\n",
    "  a_{m,1} & a_{m,2} & \\cdots & a_{m,n}\n",
    " \\end{pmatrix}\n",
    "$$\n",
    "```"
   ]
  },
  {
   "cell_type": "markdown",
   "id": "ece319fb",
   "metadata": {
    "cell_style": "split"
   },
   "source": [
    "$$\n",
    "\\sum_{i=0}^n i^2 = \\frac{(n^2+n)(2n+1)}{6}\n",
    "$$"
   ]
  },
  {
   "cell_type": "markdown",
   "id": "6493526f",
   "metadata": {
    "cell_style": "split",
    "slideshow": {
     "slide_type": ""
    }
   },
   "source": [
    "```\n",
    "\\sum_{i=0}^n i^2 = \\frac{(n^2+n)(2n+1)}{6}\n",
    "```"
   ]
  },
  {
   "cell_type": "markdown",
   "id": "bb2698c2",
   "metadata": {
    "tags": [
     "level_intermediate"
    ]
   },
   "source": [
    "ceux qui veulent creuser peuvent\n",
    "\n",
    "* s'exercer avec un outil en ligne <https://www.codecogs.com/latex/eqneditor.php>\n",
    "\n",
    "* commencer par cet article \n",
    "<https://www.physicsoverflow.org/15329/mathjax-basic-tutorial-and-quick-reference>\n",
    "\n",
    "* approfondir avec celui-ci <https://en.wikibooks.org/wiki/LaTeX/Mathematics>"
   ]
  },
  {
   "cell_type": "markdown",
   "id": "0bb386b1",
   "metadata": {},
   "source": [
    "## Python"
   ]
  },
  {
   "cell_type": "markdown",
   "id": "1aade538",
   "metadata": {
    "tags": []
   },
   "source": [
    "### installation de base\n",
    "\n",
    "* il y a de très nombreuses distributions disponibles\n",
    "* notre recommandation : miniconda\n",
    "  * relativement léger\n",
    "  * permet d'installer en mode \"user\" i.e. sans droits administrateur\n",
    "* (ça va sans le dire mais ne prenez **surtout pas Python 2.7** !)\n",
    "\n",
    "nous allons\n",
    "\n",
    "* faire une démonstration de l'installation miniconda sur Windows à partir de\n",
    "  <https://docs.conda.io/en/latest/miniconda.html> (les linux et les macos le font pour\n",
    "  leur OS + architectures)\n",
    "* puis écrire un ou deux programmes Python très simples\n",
    "* et les exécuter dans un terminal"
   ]
  },
  {
   "cell_type": "markdown",
   "id": "37d05c5b",
   "metadata": {},
   "source": [
    "### préparation : création d'un dossier `c:\\miniconda`"
   ]
  },
  {
   "cell_type": "markdown",
   "id": "c211a1ef",
   "metadata": {},
   "source": [
    "nous allons pour commencer créer un dossier dont le nom est court et simple,\n",
    "et **qui ne contient pas d'accent** (c'est très important que le chemin complet pour\n",
    "accéder au dossier où on installe miniconda ne comporte pas d'accents.)\n",
    "\n",
    "pour cela nous allons lancer la console Windows qui s'appelle `PowerShell`, et créer le\n",
    "dossier `c:/miniconda`\n",
    "\n",
    "en deux étapes, ça se présente comme ceci :"
   ]
  },
  {
   "cell_type": "markdown",
   "id": "561b559d",
   "metadata": {},
   "source": [
    "(1) pour lancer la console `PowerShell`\n",
    "\n",
    "![](media/fig-miniconda-powershell-locate.png)"
   ]
  },
  {
   "cell_type": "markdown",
   "id": "58a76c99",
   "metadata": {},
   "source": [
    "(2) on va créer maintenant le dossier dans lequel on installera ensuite miniconda,\n",
    "et pour cela il y a une seule ligne à taper\n",
    "\n",
    "```console\n",
    "md c:/miniconda\n",
    "```\n",
    "\n",
    "![](media/fig-miniconda-powershell-md.png)"
   ]
  },
  {
   "cell_type": "markdown",
   "id": "37b95fc0",
   "metadata": {},
   "source": [
    "une fois la commande tapée vous pouvez sortir de PowerShell (utiliser la croix en haut à\n",
    "droite par exemple)"
   ]
  },
  {
   "cell_type": "markdown",
   "id": "ce68bbbe",
   "metadata": {},
   "source": [
    "### installation de miniconda"
   ]
  },
  {
   "cell_type": "markdown",
   "id": "7fcc10e8",
   "metadata": {},
   "source": [
    "à ce stade on peut lancer l'installation de miniconda\n",
    "\n",
    "![](media/fig-miniconda-download.png)"
   ]
  },
  {
   "cell_type": "markdown",
   "id": "533258e2",
   "metadata": {},
   "source": [
    "vous lancez le `.exe`, vous prenez toutes les options par défaut lorsqu'on vous pose une\n",
    "question, **sauf pour les deux écrans qui suivent**"
   ]
  },
  {
   "cell_type": "markdown",
   "id": "6f83918a",
   "metadata": {},
   "source": [
    "(1) sur cet écran vous remplacez le chemin qu'on vous propose par défaut, et vous\n",
    "choisissez à la place le dossier qu'on a créé dans l'étape précédente, c'est-à-dire\n",
    "`c:\\miniconda`\n",
    "\n",
    "![](media/fig-miniconda-set-install-dir.png)"
   ]
  },
  {
   "cell_type": "markdown",
   "id": "64cca771",
   "metadata": {},
   "source": [
    "(2) il est important de bien cocher la case en rouge; l'autre est recommandée également\n",
    "\n",
    "![](media/fig-miniconda-install.png)"
   ]
  },
  {
   "cell_type": "markdown",
   "id": "eec7f331",
   "metadata": {},
   "source": [
    "<div style=\"background-color:#cccccc; border-radius: 6px; margin:12px; padding: 12px;\">\n",
    "\n",
    "en théorie c'est tout ce qu'il y a à faire pour installer conda\n",
    "\n",
    "toutefois certains élèves nous ont signalé un souci, aussi on vous recommande de lancer à\n",
    "ce stade dans un terminal\n",
    "\n",
    "`conda init bash`\n",
    "\n",
    "</div>"
   ]
  },
  {
   "cell_type": "markdown",
   "id": "3d2662fc",
   "metadata": {},
   "source": [
    "### première utilisation / vérification"
   ]
  },
  {
   "cell_type": "markdown",
   "id": "f59c45eb",
   "metadata": {},
   "source": [
    "juste après l'installation de conda, **quittez vos terminaux actifs**; conda a modifié la\n",
    "séquence d'initialisation des terminaux bash, il faut donc faire les tests qui suivent\n",
    "dans un terminal tout neuf."
   ]
  },
  {
   "cell_type": "markdown",
   "id": "49a39b13",
   "metadata": {},
   "source": [
    "***\n",
    "**attention**\n",
    "\n",
    "* les signes `$ ` ou `>>> ` ne font pas partie de ce que vous devez taper\n",
    "* c'est juste une indication pour dire\n",
    "  * avec `$ ` :  que la commande s'adresse au terminal  \n",
    "  c-à-d à nouveau : GitBash sur Windows, Terminal sur MacOS,  \n",
    "  et n'importe quel terminal bash sur linux\n",
    "  * avec `>>> ` : que la commande s'adresse à l'interpréteur Python\n",
    "***\n",
    "\n",
    "ça signifie que ce que vous voyez ici correspond à ce qui sera affiché dans le terminal,\n",
    "mais si vous suivez bien les indications vous n'avez pas à taper le `$` ou les `>>>`, ce\n",
    "sera déjà affiché lorsque vous taperez vos commandes"
   ]
  },
  {
   "cell_type": "markdown",
   "id": "025da502",
   "metadata": {},
   "source": [
    "#### vérifier que Python est bien installé\n",
    "\n",
    "```console\n",
    "$ type python\n",
    "python is /c/Users/Thierry Parmentelat/miniconda3/python\n",
    "```\n",
    "\n",
    "si à ce stade vous avez un `python: not found* c'est que vous n'avez pas bien coché la case  \n",
    "*Add Miniconda3 to my PATH environment variable*"
   ]
  },
  {
   "cell_type": "markdown",
   "id": "a436e9e6",
   "metadata": {},
   "source": [
    "#### lancer python en mode interactif\n",
    "\n",
    "depuis `GitBash`, on va lancer un Python interactif et lui faire calculer $2^{100}$,\n",
    "afficher un texte, puis quitter l'interpréteur.\n",
    "\n",
    "***\n",
    "\n",
    "<div style=\"background-color:#cccccc; border-radius: 6px; margin:12px; padding: 12px;\">\n",
    "\n",
    "<span style=\"background-color:red; padding:4px; border-radius: 4px;\">quelques limitations connues :</span>\n",
    "\n",
    "* lancer simplement `python` dans `GitBash` ne fonctionne pas  \n",
    "  (le programme n'affiche pas le prompt et semble boucler sans rien afficher)\n",
    "* dans `GitBash` vous **devez** tapez à la place `python -i`  \n",
    "  (le `-i` est pour *interactive*) pour avoir un interpréteur interactif\n",
    "* depuis le terminal embarqué dans vscode, vous pouvez faire simplement `python`  \n",
    "  (`python -i` fonctionne bien aussi d'ailleurs)\n",
    "* depuis GitBash et le terminal vs-code, vous pouvez lancer normalement `ipython`  \n",
    "  (dont on parle un peu plus bas)\n",
    "\n",
    "</div>\n",
    "\n",
    "***\n",
    "\n",
    "```console\n",
    "# pensez à bien mettre le -i - voyez ci-dessus\n",
    "$ python -i\n",
    ">>> 2 ** 100\n",
    "1267650600228229401496703205376\n",
    ">>> print(\"hello world\")\n",
    "hello world\n",
    ">>> exit()\n",
    "```"
   ]
  },
  {
   "cell_type": "markdown",
   "id": "73734d88",
   "metadata": {},
   "source": [
    "#### créer et lancer un premier script"
   ]
  },
  {
   "cell_type": "markdown",
   "id": "6cde286e",
   "metadata": {},
   "source": [
    "dans le répertoire de votre choix, ouvrez *vs-code* et créez un fichier qui s'appelle\n",
    "`fact.py` contenant ce texte (n'hésitez pas à copier-coller) :"
   ]
  },
  {
   "cell_type": "code",
   "execution_count": 1,
   "id": "232d9c09",
   "metadata": {},
   "outputs": [
    {
     "name": "stdout",
     "output_type": "stream",
     "text": [
      "# une fonction qui calcule factorielle\r\n",
      "def fact(n):\r\n",
      "    return 1 if n <= 1 else n * fact(n-1)\r\n",
      "\r\n",
      "\r\n",
      "# on affiche quelques résultats\r\n",
      "for n in [4, 25]:\r\n",
      "    print(f\"fact({n}) = {fact(n)}\")\r\n",
      "\n"
     ]
    }
   ],
   "source": [
    "cat ../demo/fact.py"
   ]
  },
  {
   "cell_type": "markdown",
   "id": "65d62e46",
   "metadata": {},
   "source": [
    "et dans le même répertoire lancez python pour calculer le factoriel d'un nombre"
   ]
  },
  {
   "cell_type": "code",
   "execution_count": 2,
   "id": "dcfa8be1",
   "metadata": {},
   "outputs": [
    {
     "name": "stdout",
     "output_type": "stream",
     "text": [
      "fact(4) = 24\r\n",
      "fact(25) = 15511210043330985984000000\r\n",
      "\n"
     ]
    }
   ],
   "source": [
    "python ../demo/fact.py 10"
   ]
  },
  {
   "cell_type": "markdown",
   "id": "9b1c0cf4",
   "metadata": {},
   "source": [
    "#### afficher le numéro de version de Python"
   ]
  },
  {
   "cell_type": "markdown",
   "id": "0aaa25c7",
   "metadata": {},
   "source": [
    "c'est toujours utile d'être bien sûr de la version qu'on a sous la main (surtout avec les\n",
    "environnments virtuels)"
   ]
  },
  {
   "cell_type": "code",
   "execution_count": 3,
   "id": "13323986",
   "metadata": {},
   "outputs": [
    {
     "name": "stdout",
     "output_type": "stream",
     "text": [
      "Python 3.9.5\r\n",
      "\n"
     ]
    }
   ],
   "source": [
    "python --version"
   ]
  },
  {
   "cell_type": "markdown",
   "id": "7dc58b27",
   "metadata": {},
   "source": [
    "### installation de IPython avec `pip`"
   ]
  },
  {
   "cell_type": "markdown",
   "id": "82cd6643",
   "metadata": {},
   "source": [
    "lorsqu'on installe Python on installe un ensemble minimal de **librairies**  \n",
    "par exemple dans `fact.py` on a fait `import sys`  \n",
    "pour pouvoir utiliser la librairie `sys`"
   ]
  },
  {
   "cell_type": "markdown",
   "id": "02c2f6de",
   "metadata": {},
   "source": [
    "c'est très facile d'installer d'autres librairies au delà de cet ensemble minimal  \n",
    "pour cela python vient avec une commande qui s'appelle `pip`  \n",
    "qui s'utilise directement **depuis le terminal**"
   ]
  },
  {
   "cell_type": "code",
   "execution_count": 4,
   "id": "eae227d5",
   "metadata": {},
   "outputs": [
    {
     "name": "stdout",
     "output_type": "stream",
     "text": [
      "Package                           Version\r\n",
      "--------------------------------- -------------------\r\n",
      "alabaster                         0.7.12\r\n",
      "anyio                             3.3.0\r\n",
      "argon2-cffi                       20.1.0\r\n",
      "async-generator                   1.10\r\n",
      "attrs                             20.3.0\r\n",
      "Babel                             2.9.1\r\n",
      "backcall                          0.2.0\r\n",
      "beautifulsoup4                    4.9.3\r\n",
      "bleach                            3.3.1\r\n",
      "calysto-bash                      0.2.2\r\n",
      "certifi                           2021.5.30\r\n",
      "cffi                              1.14.6\r\n",
      "charset-normalizer                2.0.3\r\n",
      "click                             7.1.2\r\n",
      "colorama                          0.4.4\r\n",
      "cycler                            0.10.0\r\n",
      "debugpy                           1.4.1\r\n",
      "decorator                         5.0.9\r\n",
      "defusedxml                        0.7.1\r\n",
      "docutils                          0.16\r\n",
      "entrypoints                       0.3\r\n",
      "gitdb                             4.0.7\r\n",
      "GitPython                         3.1.18\r\n",
      "idna                              3.2\r\n",
      "imagesize                         1.2.0\r\n",
      "importlib-metadata                4.6.1\r\n",
      "ipykernel                         6.0.3\r\n",
      "ipython                           7.25.0\r\n",
      "ipython-genutils                  0.2.0\r\n",
      "ipythontutor                      0.2.0\r\n",
      "ipywidgets                        7.6.3\r\n",
      "jedi                              0.18.0\r\n",
      "Jinja2                            3.0.1\r\n",
      "jsonschema                        3.2.0\r\n",
      "jupyter-book                      0.11.2\r\n",
      "jupyter-cache                     0.4.2\r\n",
      "jupyter-client                    6.1.12\r\n",
      "jupyter-contrib-core              0.3.3\r\n",
      "jupyter-contrib-nbextensions      0.5.1\r\n",
      "jupyter-core                      4.7.1\r\n",
      "jupyter-highlight-selected-word   0.2.0\r\n",
      "jupyter-latex-envs                1.4.6\r\n",
      "jupyter-nbextensions-configurator 0.4.1\r\n",
      "jupyter-server                    1.10.1\r\n",
      "jupyter-server-mathjax            0.2.3\r\n",
      "jupyter-sphinx                    0.3.2\r\n",
      "jupyterlab-widgets                1.0.0\r\n",
      "jupytext                          1.10.3\r\n",
      "kiwisolver                        1.3.1\r\n",
      "latexcodec                        2.0.1\r\n",
      "linkify-it-py                     1.0.1\r\n",
      "lxml                              4.6.3\r\n",
      "markdown-it-py                    0.6.2\r\n",
      "MarkupSafe                        2.0.1\r\n",
      "matplotlib                        3.4.2\r\n",
      "matplotlib-inline                 0.1.2\r\n",
      "mdit-py-plugins                   0.2.6\r\n",
      "metakernel                        0.27.5\r\n",
      "mistune                           0.8.4\r\n",
      "myst-nb                           0.12.3\r\n",
      "myst-parser                       0.13.7\r\n",
      "nbautoeval                        1.7.0\r\n",
      "nbclient                          0.5.3\r\n",
      "nbconvert                         5.6.1\r\n",
      "nbdime                            3.1.0\r\n",
      "nbformat                          5.1.3\r\n",
      "nest-asyncio                      1.5.1\r\n",
      "notebook                          6.4.0\r\n",
      "numpy                             1.21.1\r\n",
      "packaging                         21.0\r\n",
      "pandas                            1.3.1\r\n",
      "pandocfilters                     1.4.3\r\n",
      "parso                             0.8.2\r\n",
      "pexpect                           4.8.0\r\n",
      "pickleshare                       0.7.5\r\n",
      "Pillow                            8.3.1\r\n",
      "pip                               21.1.3\r\n",
      "prometheus-client                 0.11.0\r\n",
      "prompt-toolkit                    3.0.19\r\n",
      "ptyprocess                        0.7.0\r\n",
      "pybtex                            0.24.0\r\n",
      "pybtex-docutils                   1.0.0\r\n",
      "pycparser                         2.20\r\n",
      "pydata-sphinx-theme               0.6.3\r\n",
      "Pygments                          2.9.0\r\n",
      "pyparsing                         2.4.7\r\n",
      "pyrsistent                        0.18.0\r\n",
      "python-dateutil                   2.8.2\r\n",
      "pytz                              2021.1\r\n",
      "PyYAML                            5.4.1\r\n",
      "pyzmq                             22.1.0\r\n",
      "requests                          2.26.0\r\n",
      "requests-unixsocket               0.2.0\r\n",
      "rise                              5.7.1\r\n",
      "Send2Trash                        1.7.1\r\n",
      "setuptools                        52.0.0.post20210125\r\n",
      "six                               1.16.0\r\n",
      "smmap                             4.0.0\r\n",
      "sniffio                           1.2.0\r\n",
      "snowballstemmer                   2.1.0\r\n",
      "soupsieve                         2.2.1\r\n",
      "Sphinx                            3.5.4\r\n",
      "sphinx-book-theme                 0.1.1\r\n",
      "sphinx-comments                   0.0.3\r\n",
      "sphinx-copybutton                 0.4.0\r\n",
      "sphinx-external-toc               0.2.2\r\n",
      "sphinx-jupyterbook-latex          0.4.2\r\n",
      "sphinx-multitoc-numbering         0.1.3\r\n",
      "sphinx-panels                     0.5.2\r\n",
      "sphinx-rtd-theme                  0.5.2\r\n",
      "sphinx-thebe                      0.0.8\r\n",
      "sphinx-togglebutton               0.2.3\r\n",
      "sphinxcontrib-applehelp           1.0.2\r\n",
      "sphinxcontrib-bibtex              2.2.1\r\n",
      "sphinxcontrib-devhelp             1.0.2\r\n",
      "sphinxcontrib-htmlhelp            2.0.0\r\n",
      "sphinxcontrib-jsmath              1.0.1\r\n",
      "sphinxcontrib-qthelp              1.0.3\r\n",
      "sphinxcontrib-serializinghtml     1.1.5\r\n",
      "SQLAlchemy                        1.3.24\r\n",
      "terminado                         0.10.1\r\n",
      "testpath                          0.5.0\r\n",
      "toml                              0.10.2\r\n",
      "tornado                           6.1\r\n",
      "traitlets                         5.0.5\r\n",
      "uc-micro-py                       1.0.1\r\n",
      "urllib3                           1.26.6\r\n",
      "wcwidth                           0.2.5\r\n",
      "webencodings                      0.5.1\r\n",
      "websocket-client                  1.1.0\r\n",
      "wheel                             0.36.2\r\n",
      "widgetsnbextension                3.5.1\r\n",
      "zipp                              3.5.0\r\n",
      "\n"
     ]
    }
   ],
   "source": [
    "# pour avoir la liste des librairies installées on peut faire\n",
    "pip list"
   ]
  },
  {
   "cell_type": "markdown",
   "id": "46a5208a",
   "metadata": {},
   "source": [
    "#### installer d'autres librairies avec `pip install`\n",
    "\n",
    "nous allons utliser `pip install` pour installer IPython, et pour ça vous allez taper\n",
    "(dans un terminal)\n",
    "\n",
    "```console\n",
    "pip install ipython\n",
    "```"
   ]
  },
  {
   "cell_type": "code",
   "execution_count": 5,
   "id": "16ad7261",
   "metadata": {},
   "outputs": [
    {
     "name": "stdout",
     "output_type": "stream",
     "text": [
      "Requirement already satisfied: ipython in /usr/share/miniconda/envs/python-numérique/lib/python3.9/site-packages (7.25.0)\r\n",
      "Requirement already satisfied: setuptools>=18.5 in /usr/share/miniconda/envs/python-numérique/lib/python3.9/site-packages (from ipython) (52.0.0.post20210125)\r\n",
      "Requirement already satisfied: prompt-toolkit!=3.0.0,!=3.0.1,<3.1.0,>=2.0.0 in /usr/share/miniconda/envs/python-numérique/lib/python3.9/site-packages (from ipython) (3.0.19)\r\n",
      "Requirement already satisfied: pygments in /usr/share/miniconda/envs/python-numérique/lib/python3.9/site-packages (from ipython) (2.9.0)\r\n",
      "Requirement already satisfied: pexpect>4.3 in /usr/share/miniconda/envs/python-numérique/lib/python3.9/site-packages (from ipython) (4.8.0)\r\n",
      "Requirement already satisfied: pickleshare in /usr/share/miniconda/envs/python-numérique/lib/python3.9/site-packages (from ipython) (0.7.5)\r\n",
      "Requirement already satisfied: decorator in /usr/share/miniconda/envs/python-numérique/lib/python3.9/site-packages (from ipython) (5.0.9)\r\n",
      "Requirement already satisfied: jedi>=0.16 in /usr/share/miniconda/envs/python-numérique/lib/python3.9/site-packages (from ipython) (0.18.0)\r\n",
      "Requirement already satisfied: backcall in /usr/share/miniconda/envs/python-numérique/lib/python3.9/site-packages (from ipython) (0.2.0)\r\n",
      "Requirement already satisfied: matplotlib-inline in /usr/share/miniconda/envs/python-numérique/lib/python3.9/site-packages (from ipython) (0.1.2)\r\n",
      "Requirement already satisfied: traitlets>=4.2 in /usr/share/miniconda/envs/python-numérique/lib/python3.9/site-packages (from ipython) (5.0.5)\r\n",
      "Requirement already satisfied: parso<0.9.0,>=0.8.0 in /usr/share/miniconda/envs/python-numérique/lib/python3.9/site-packages (from jedi>=0.16->ipython) (0.8.2)\r\n",
      "Requirement already satisfied: ptyprocess>=0.5 in /usr/share/miniconda/envs/python-numérique/lib/python3.9/site-packages (from pexpect>4.3->ipython) (0.7.0)\r\n",
      "Requirement already satisfied: wcwidth in /usr/share/miniconda/envs/python-numérique/lib/python3.9/site-packages (from prompt-toolkit!=3.0.0,!=3.0.1,<3.1.0,>=2.0.0->ipython) (0.2.5)\r\n",
      "Requirement already satisfied: ipython-genutils in /usr/share/miniconda/envs/python-numérique/lib/python3.9/site-packages (from traitlets>=4.2->ipython) (0.2.0)\r\n",
      "\n"
     ]
    }
   ],
   "source": [
    "# la première fois qu'on installe une librairie, ça peut prendre\n",
    "# un petit moment pour aller chercher les packages\n",
    "# sur Internet et les installer\n",
    "\n",
    "pip install ipython"
   ]
  },
  {
   "cell_type": "markdown",
   "id": "502d3a58",
   "metadata": {},
   "source": [
    "### micro-démo `ipython`"
   ]
  },
  {
   "cell_type": "markdown",
   "id": "aa97f6c0",
   "metadata": {},
   "source": [
    "si vous devez taper du code Python directement dans le terminal, je vous recommande\n",
    "d'utiliser la commande `ipython` plutôt que l'interpréteur standard `python`\n",
    "\n",
    "voilà à quoi ça ressemblerait si on devait refaire le calcul de $2^{100}$ comme on l'a\n",
    "fait plus haut\n",
    "\n",
    "\n",
    "```console\n",
    "$ ipython\n",
    "Python 3.8.3 (default, Jul  2 2020, 11:26:31)\n",
    "Type 'copyright', 'credits' or 'license' for more information\n",
    "IPython 7.16.1 -- An enhanced Interactive Python. Type '?' for help.\n",
    "\n",
    "In [1]: 2 ** 100\n",
    "Out[1]: 1267650600228229401496703205376\n",
    "\n",
    "In [2]: print(\"hello world\")\n",
    "hello world\n",
    "\n",
    "In [3]: exit()\n",
    "```\n",
    "\n",
    "comme vous le voyez c'est presque pareil; simplement avec ipython c'est beaucoup plus\n",
    "pratique dès qu'on va au delà de ce genre de session de démo, notamment pour\n",
    "\n",
    "* remonter et modifier l'historique\n",
    "* obtenir de l'aide en ligne\n",
    "* utiliser la complétion"
   ]
  },
  {
   "cell_type": "markdown",
   "id": "9ec7a714",
   "metadata": {},
   "source": [
    "### installation de numpy / pandas / matplotlib"
   ]
  },
  {
   "cell_type": "markdown",
   "id": "66cfd323",
   "metadata": {},
   "source": [
    "le calcul scientifique en Python se fait avec 3 librairies très très communes, sur\n",
    "lesquelles on reviendra très prochainement\n",
    "\n",
    "pour l'instant nous allons les installer avec la commande\n",
    "\n",
    "```console\n",
    "pip install numpy pandas matplotlib\n",
    "```"
   ]
  },
  {
   "cell_type": "markdown",
   "id": "9af6878e",
   "metadata": {},
   "source": [
    "#### vérification\n",
    "\n",
    "pour vérifier, vous pouvez d'abord, depuis le terminal, faire\n",
    "\n",
    "    pip show numpy\n",
    "\n",
    "qui vous montrera en plus le numéro de version de `numpy`"
   ]
  },
  {
   "cell_type": "markdown",
   "id": "e45be1de",
   "metadata": {},
   "source": [
    "vous pouvez aussi importer la librairie `numpy` depuis `ipython`, ça donne une session qui\n",
    "ressemble à ceci (vous ne devez pas avoir d'erreur du type `ModuleNotFound`)\n",
    "\n",
    "```\n",
    "$ ipython\n",
    "Python 3.8.3 (default, Jul  2 2020, 11:26:31)\n",
    "<blabla>\n",
    "\n",
    "In [1]: import numpy\n",
    "\n",
    "In [2]: numpy.__version__\n",
    "Out[2]: '1.19.1'\n",
    "```"
   ]
  },
  {
   "cell_type": "markdown",
   "id": "1891c1e1",
   "metadata": {},
   "source": [
    "### la complétion"
   ]
  },
  {
   "cell_type": "markdown",
   "id": "244e8c66",
   "metadata": {},
   "source": [
    "ce qu'on appelle complétion, c'est la capacité d'un outil à vous aider à taper votre code;\n",
    "exemple :\n",
    "\n",
    "* on lance `ipython`\n",
    "* on tape le début d'une commande, par exemple `import frac`\n",
    "* à ce point, on appuie sur la touche `Tabulation`\n",
    "* ipython se rend compte que le seul mot qui fait du sens dans ce contexte et qui commence\n",
    "  par `frac` est `fractions`, du coup il remplit la commande"
   ]
  },
  {
   "cell_type": "markdown",
   "id": "eff2e3d2",
   "metadata": {},
   "source": [
    "la complétion est un outil **indispensable** pour ne pas perdre un temps précieux;\n",
    "apprenez à la maitriser\n",
    "\n",
    "notez d'ailleurs que **ça existe aussi dans le terminal**, typiquement très utile avec les\n",
    "noms de fichiers, entre autres"
   ]
  },
  {
   "cell_type": "markdown",
   "id": "1848e135",
   "metadata": {},
   "source": [
    "### *RTFEM*"
   ]
  },
  {
   "cell_type": "markdown",
   "id": "aab7472f",
   "metadata": {},
   "source": [
    "il est normal de faire des erreurs quand on code, tout le monde en fait\n",
    "\n",
    "on verra un peu plus loin comment les détecter le plus tôt possible (grâce à des\n",
    "extensions dans un éditeur de code)  \n",
    "mais les cas où ça se produit quand même, la première chose à faire est bien entendu de\n",
    "**lire le message d'erreur**\n",
    "\n",
    "le langage Python s'efforce de vous donner des indications plutôt claires dans ces cas-là"
   ]
  },
  {
   "cell_type": "markdown",
   "id": "6870fbb0",
   "metadata": {},
   "source": [
    "voici par exemple un fichier très proche de `fact.py` qu'on vient de faire tourner  \n",
    "mais j'y ai intentionnellement glissé une petite erreur de syntaxe  \n",
    "voici le code, et ce qui se produit si on essaie de le faire tourner"
   ]
  },
  {
   "cell_type": "code",
   "execution_count": 6,
   "id": "ff3e810f",
   "metadata": {
    "cell_style": "split"
   },
   "outputs": [
    {
     "name": "stdout",
     "output_type": "stream",
     "text": [
      "# ce fichier est intentionnellement cassé\r\n",
      "\r\n",
      "def factorial(n)\r\n",
      "    if n <= 1:\r\n",
      "        return 1\r\n",
      "    else:\r\n",
      "        return n * factorial(n-1)\r\n",
      "\r\n",
      "\r\n",
      "import sys\r\n",
      "n = int(sys.argv[1])\r\n",
      "\r\n",
      "print(f\"fact({n}) = {factorial(n)}\")\r\n",
      "\n"
     ]
    }
   ],
   "source": [
    "cat ../demo/fact-broken.py"
   ]
  },
  {
   "cell_type": "code",
   "execution_count": 7,
   "id": "28ca760e",
   "metadata": {
    "cell_style": "split"
   },
   "outputs": [
    {
     "name": "stdout",
     "output_type": "stream",
     "text": [
      "  File \"/home/runner/work/python-numerique/python-numerique/notebooks/../demo/fact-broken.py\", line 3\r\n",
      "    def factorial(n)\r\n",
      "                    ^\r\n",
      "SyntaxError: invalid syntax\r\n",
      "\n"
     ]
    }
   ],
   "source": [
    "python ../demo/fact-broken.py"
   ]
  },
  {
   "cell_type": "markdown",
   "id": "df07005b",
   "metadata": {},
   "source": [
    "je vous demande en exercice de trouver l'erreur en question"
   ]
  },
  {
   "cell_type": "markdown",
   "id": "e983c345",
   "metadata": {},
   "source": [
    "en pratique il arrive qu'on se trouve face à des erreurs plus difficiles à diagnostiquer,\n",
    "mais dans tous les cas **commencez par *RTFEM***  \n",
    "ça va de soi mais ça va mieux en le disant, je suis certain qu'on aura l'occasion de le\n",
    "rappeler pendant les cours de langage :)"
   ]
  },
  {
   "cell_type": "markdown",
   "id": "fd30781f",
   "metadata": {},
   "source": [
    "## git"
   ]
  },
  {
   "cell_type": "markdown",
   "id": "59d77220",
   "metadata": {},
   "source": [
    "### survol"
   ]
  },
  {
   "cell_type": "markdown",
   "id": "c1236671",
   "metadata": {},
   "source": [
    "`git` fait partie des outils dits de \"SCM\" *source code management*\n",
    "\n",
    "son rôle est d'aider les développeurs à s'y retrouver dans la gestion des versions d'un\n",
    "projet\n",
    "\n",
    "un projet est constitué d'un ensemble de fichiers dont vous souhaitez conserver un\n",
    "historique des modifications"
   ]
  },
  {
   "cell_type": "markdown",
   "id": "c367d84f",
   "metadata": {},
   "source": [
    "d'ailleurs ça n'est pas limité aux logiciels :\n",
    "\n",
    "* jeux de données\n",
    "* documentation\n",
    "* lois (très utile pour gérer les modifications)\n",
    "* …"
   ]
  },
  {
   "cell_type": "markdown",
   "id": "21abf31d",
   "metadata": {},
   "source": [
    "### à quoi ça sert - quand on travaille seul"
   ]
  },
  {
   "cell_type": "markdown",
   "id": "63ff3813",
   "metadata": {},
   "source": [
    "en première approximation, on peut se servir de `git` pour :\n",
    "\n",
    "* travailler \"avec un filet\"  \n",
    "  pour facilement **revenir en arrière** à une version qui marche  \n",
    "  ça sert donc en particulier de **sauvegarde de luxe**\n",
    "* lorsqu'on travaille sur plusieurs améliorations en même temps  \n",
    "  on peut facilement créer **des branches**  \n",
    "  pour traiter les améliorations séparément  \n",
    "  avant de tout (re)mettre ensemble"
   ]
  },
  {
   "cell_type": "markdown",
   "id": "23c8d3ef",
   "metadata": {},
   "source": [
    "### à quoi ça sert - en équipe"
   ]
  },
  {
   "cell_type": "markdown",
   "id": "82700beb",
   "metadata": {},
   "source": [
    "on peut aussi :\n",
    "\n",
    "* **synchroniser** le travail entre groupes / personnes\n",
    "* dans un sens ou dans l'autre  \n",
    "  c-a-d: chacun travaille de son coté, et on réconcilie le tout ensuite\n",
    "\n",
    "git ne fait pas de supposition sur le workflow ou l'organisation,  \n",
    "on peut l'adapter à tous les cas d'usage (un seule personne, un petit groupe, plusieurs\n",
    "groupes, open-source, …)"
   ]
  },
  {
   "cell_type": "markdown",
   "id": "a791635a",
   "metadata": {},
   "source": [
    "### les notions de base"
   ]
  },
  {
   "cell_type": "markdown",
   "id": "2b780b2a",
   "metadata": {
    "tags": []
   },
   "source": [
    "* un dépôt (en anglais *repo*) :\n",
    "  * ça ressemble à **un répertoire** avec **tout son contenu**\n",
    "  * mais ça contient aussi **toutes les versions** successives\n",
    "* un *commit* :\n",
    "  * ça correspond à une version particulière du dépôt (de tous les fichiers du dépôt)\n",
    "\n",
    "et donc un dépôt contient autant de commits que de versions successives"
   ]
  },
  {
   "cell_type": "markdown",
   "id": "1d525bae",
   "metadata": {},
   "source": [
    "### alice et bob"
   ]
  },
  {
   "cell_type": "markdown",
   "id": "ec3fa0da",
   "metadata": {},
   "source": [
    "un exemple de workflow [sous forme de présentation pdf](media/git-workflow-animations.pdf)\n",
    "\n",
    "(le pdf fait partie du dépôt git,  \n",
    "dans `media/git-workflow-animations.pdf`)"
   ]
  },
  {
   "cell_type": "markdown",
   "id": "7f0a12e9",
   "metadata": {},
   "source": [
    "### compte sous github"
   ]
  },
  {
   "cell_type": "markdown",
   "id": "87d2bf5e",
   "metadata": {},
   "source": [
    "Dans la petite présentation alice a choisi `GitHub` pour rendre son travail disponible à\n",
    "tout le monde en open-source sur Internet.\n",
    "\n",
    "En effet, `GitHub` est un service web dédié à l'hébergement et à la gestion du\n",
    "développement de logiciels (open source ou pas). Il utilise le logiciel de gestion de\n",
    "versions `Git`. Il est actuellement le plus grand hébergeur de code source au monde aussi\n",
    "c'est celui que nous allons vous demander d'utiliser.\n",
    "\n",
    "Vous devrez (pas tout de suite) allez sur <https://github.com/join> pour y créez un\n",
    "compte. Il va naturellement vous falloir un nom d'utilisateur ... attention depuis janvier\n",
    "2020, il y a plus de 40 millions d'utilisateurs donc il se peut que le nom que vous\n",
    "vouliez soit déjà pris.\n",
    "\n",
    "Nous vous demanderons de nous *faire passer* vos identifiants `GitHub` vu que c'est le\n",
    "moyen que plusieurs UE vont employer pour *relever* vos projets.\n",
    "\n",
    "Pour prendre des projets dans `GitHub` vous n'avez pas besoin d'un nom d'utilisateur,\n",
    "c'est pour y mettre des projets que vous en avez besoin."
   ]
  },
  {
   "cell_type": "markdown",
   "id": "c4649db8",
   "metadata": {},
   "source": [
    "### installation"
   ]
  },
  {
   "cell_type": "markdown",
   "id": "28983ae5",
   "metadata": {},
   "source": [
    "* les Windows : à ce stade, vous avez déjà installé *git for windows*, rien de plus à faire\n",
    "* les MacOS: utilisez ce lien <https://www.atlassian.com/git/tutorials/install-git#mac-os-x>\n",
    "* les linux : utilisez ce lien <https://www.atlassian.com/git/tutorials/install-git#linux>"
   ]
  },
  {
   "cell_type": "markdown",
   "id": "6cd66d04",
   "metadata": {},
   "source": [
    "**vérification**"
   ]
  },
  {
   "cell_type": "markdown",
   "id": "217338ef",
   "metadata": {},
   "source": [
    "pour vérifier votre installation, vous devez pouvoir taper dans le terminal"
   ]
  },
  {
   "cell_type": "code",
   "execution_count": 8,
   "id": "9474c1e1",
   "metadata": {},
   "outputs": [
    {
     "name": "stdout",
     "output_type": "stream",
     "text": [
      "git version 2.32.0\r\n",
      "\n"
     ]
    }
   ],
   "source": [
    "git --version"
   ]
  },
  {
   "cell_type": "markdown",
   "id": "2c921b21",
   "metadata": {},
   "source": [
    "### digression : URL"
   ]
  },
  {
   "cell_type": "markdown",
   "id": "1a9dde19",
   "metadata": {},
   "source": [
    "lorsque bob copie le travail qu'alice a publié sur github, il va utiliser `git clone` (on\n",
    "va le faire dans un tout petit moment)\n",
    "\n",
    "mais il faut évidemment qu'il puisse dire à `git clone` exactement **quoi copier**, parce\n",
    "que l'Internet, c'est grand…\n",
    "\n",
    "pour ça il a besoin [d'une URL (Uniform Resource\n",
    "Locator)](https://en.wikipedia.org/wiki/URL), pour désigner le dépôt d'Alice\n",
    "\n",
    "c'est quoi une URL ? vous en connaissez déjà plein d'exemples, comme  \n",
    "http://google.com/  \n",
    "https://en.wikipedia.org/wiki/URL\n",
    "\n",
    "* le premier terme (`http` ou `https`) désigne **le protocole** à utiliser pour joindre la\n",
    "  ressource\n",
    "* le second morceau (`google.com` ou `en.wikipedia.org`) désigne le *hostname* qu'il faut\n",
    "  joindre; en fait on utilise un service réseau [qui s'appelle le DNS (Domain Name\n",
    "  Server](https://en.wikipedia.org/wiki/Domain_Name_System) pour traduire le nom\n",
    "  `www.google.com` en une adresse réseau (et c'est comme ça qu'en fait deux requêtes\n",
    "  n'aboutissent pas forcément sur le même serveur, heureusement d'ailleurs)\n",
    "* la suite est optionnelle et permet de désigner un item particulier à l'intérieur de ce\n",
    "  serveur; c'est comme ça qu'on peut ranger des milliers de pages à l'intérieur du serveur\n",
    "  wikipedia"
   ]
  },
  {
   "cell_type": "markdown",
   "id": "1cba5838",
   "metadata": {},
   "source": [
    "#### les URLs sur `github`"
   ]
  },
  {
   "cell_type": "markdown",
   "id": "dee8c194",
   "metadata": {},
   "source": [
    "à l'intérieur du serveur github, les URLs des dépôts ressemblent toutes à celles-ci\n",
    "\n",
    "https://github.com/python/cpython  \n",
    "https://github.com/gvanrossum/cpython\n",
    "\n",
    "* le premier étage (`python` ou `gvanrossum`) désigne une organisation ou un individu\n",
    "* le second étage (`cpython`) désigne un dépôt  \n",
    "  (ici par exemple `cpython` pour l'implémetation classique du langage Python)"
   ]
  },
  {
   "cell_type": "markdown",
   "id": "d6cc4c1b",
   "metadata": {},
   "source": [
    "### cloner le dépôt du cours"
   ]
  },
  {
   "cell_type": "markdown",
   "id": "9d177e98",
   "metadata": {},
   "source": [
    "vous avez maintenant tout le bagage pour pouvoir copier le dépôt du cours\n",
    "\n",
    "il vous suffit pour ça de faire\n",
    "\n",
    "    git clone https://github.com/ue12/python-numerique\n",
    "\n",
    "**Attention toutefois**\n",
    "\n",
    "* cette commande va créer sur votre disque tout un répertoire, dont le nom est\n",
    "  `python-numerique`\n",
    "* notez qu'il sera créé **dans votre répertoire de travail** (`pwd`)\n",
    "* donc commencez par **vous mettre au bon endroit**\n",
    "* le nom `python-numerique` est déduit de la dernière partie de l'URL  \n",
    "  et si cela ne vous convient pas comme nom vous pouvez en choisir un autre :\n",
    "\n",
    "      git clone https://github.com/ue12/python-numerique ue12-python-numerique"
   ]
  },
  {
   "cell_type": "markdown",
   "id": "7c07ba1d",
   "metadata": {},
   "source": [
    "pour vérifier que tout s'est bien passé :\n",
    "\n",
    "    # si vous avez utilisé la deuxième forme\n",
    "    # votre répertoire local s'appelle ue12-python-numerique et pas juste python-numerique\n",
    "    cd ue12-python-numerique\n",
    "\n",
    "    # le répertoire est rempli avec la dernière version du cours\n",
    "    cat README.md"
   ]
  },
  {
   "cell_type": "markdown",
   "id": "5194dd5a",
   "metadata": {},
   "source": [
    "### suivre les évolutions"
   ]
  },
  {
   "cell_type": "markdown",
   "id": "5a5bd72b",
   "metadata": {},
   "source": [
    "pour terminer cette micro-introduction : imaginez que demain je publie des modifications\n",
    "dans ce dépôt\n",
    "\n",
    "alors pour mettre à jour votre dépôt local, il vous suffira de faire\n",
    "\n",
    "    # toujours dans le même répertoire bien sûr\n",
    "    git pull"
   ]
  },
  {
   "cell_type": "markdown",
   "id": "b8a4e291",
   "metadata": {},
   "source": [
    "bon en pratique il arrive que ce soit un peu plus compliqué que ça, mais c'est l'idée\n",
    "générale\n",
    "\n",
    "on creusera tout ceci dans le cours dédié à git dans quelques semaines"
   ]
  },
  {
   "cell_type": "markdown",
   "id": "b9794cdb",
   "metadata": {},
   "source": [
    "## notebooks Jupyter"
   ]
  },
  {
   "cell_type": "markdown",
   "id": "3b83034b",
   "metadata": {},
   "source": [
    "Les notebooks sont de petits *cahiers* d'exercices exécutables. Ils sont très pratiques\n",
    "pour expliquer pas à pas ce qu'on fait, comme dans ces cours mais ils ne servent pas\n",
    "uniquement aux cours.\n",
    "\n",
    "Nous allons vous montrer dans cette section comment installer et lancer `jupyter`, créer\n",
    "des notebooks avec des cellules de texte et des cellules de code..."
   ]
  },
  {
   "cell_type": "markdown",
   "id": "c3359b24",
   "metadata": {},
   "source": [
    "### installation"
   ]
  },
  {
   "cell_type": "markdown",
   "id": "5fefc319",
   "metadata": {},
   "source": [
    "le socle s'installe comme ceci (ça peut prendre un moment) :\n",
    "\n",
    "```console\n",
    "pip install jupyter\n",
    "```"
   ]
  },
  {
   "cell_type": "markdown",
   "id": "612e417b",
   "metadata": {},
   "source": [
    "je vous invite à installer également ceci; c'est optionnel pour débuter avec Jupyter, mais\n",
    "ça sera nécessaire très vite pour lire les notebooks du cours\n",
    "\n",
    "```console\n",
    "pip install jupytext\n",
    "```"
   ]
  },
  {
   "cell_type": "markdown",
   "id": "de8981c5",
   "metadata": {
    "tags": []
   },
   "source": [
    "#### vérification"
   ]
  },
  {
   "cell_type": "markdown",
   "id": "3af8cca9",
   "metadata": {},
   "source": [
    "si tout s'est bien passé vous devez pouvoir voir les versions des différents morceaux de\n",
    "Jupyter comme ceci :"
   ]
  },
  {
   "cell_type": "code",
   "execution_count": 9,
   "id": "7fec5ec2",
   "metadata": {},
   "outputs": [
    {
     "name": "stdout",
     "output_type": "stream",
     "text": [
      "jupyter core     : 4.7.1\r\n",
      "jupyter-notebook : 6.4.0\r\n",
      "qtconsole        : not installed\r\n",
      "ipython          : 7.25.0\r\n",
      "ipykernel        : 6.0.3\r\n",
      "jupyter client   : 6.1.12\r\n",
      "jupyter lab      : not installed\r\n",
      "nbconvert        : 5.6.1\r\n",
      "ipywidgets       : 7.6.3\r\n",
      "nbformat         : 5.1.3\r\n",
      "traitlets        : 5.0.5\r\n",
      "\n"
     ]
    }
   ],
   "source": [
    "jupyter --version"
   ]
  },
  {
   "cell_type": "markdown",
   "id": "54b66efe",
   "metadata": {},
   "source": [
    "### utilisation de base"
   ]
  },
  {
   "cell_type": "markdown",
   "id": "0be142a1",
   "metadata": {},
   "source": [
    "pour lancer un serveur jupyter vous tapez dans le terminal la commande\n",
    "\n",
    "```\n",
    "jupyter notebook\n",
    "```\n",
    "\n",
    "![](media/notebooks-001-run.png)"
   ]
  },
  {
   "cell_type": "markdown",
   "id": "86846c7d",
   "metadata": {},
   "source": [
    "ce qui va avoir pour effet d'ouvrir une fenêtre ou un onglet dans votre navigateur Web\n",
    "\n",
    "![](media/notebooks-002-welcome.png)"
   ]
  },
  {
   "cell_type": "markdown",
   "id": "e3cbf11c",
   "metadata": {},
   "source": [
    "### le processus serveur\n",
    "\n",
    "en fait là on fait deux choses complémentaires\n",
    "\n",
    "* on lance un programme (le serveur Jupyter) qui tourne dans le terminal\n",
    "* on demande au browser de créer une page qui interagit avec ce serveur\n",
    "\n",
    "du coup ça signifie que **le serveur Jupyter doit tourner en permanence**\n",
    "\n",
    "* si vous le tuez depuis le terminal, le notebook dans le browser va cesser de fonctionner\n",
    "* ça signifie aussi que cette session du terminal n'est plus utilisable pour autre chose…"
   ]
  },
  {
   "cell_type": "markdown",
   "id": "113aa550",
   "metadata": {},
   "source": [
    "### micro-démo Jupyter classic"
   ]
  },
  {
   "cell_type": "markdown",
   "id": "3a3d8608",
   "metadata": {},
   "source": [
    "* un notebook est associé à **un langage**\n",
    "* nos supports de cours :\n",
    "  * le plus souvent le langage est **Python**\n",
    "  * le présent notebook est une exception, son langage est **bash** \n",
    "* chaque cellule est *typée* comme **markdown** ou **code**\n",
    "* et bien sûr celles typées **code** sont exécutées par … le langage du notebook"
   ]
  },
  {
   "cell_type": "markdown",
   "id": "75d86518",
   "metadata": {
    "tags": [
     "level_intermediate"
    ]
   },
   "source": [
    "(il est possible aussi de mélanger plusieurs langages dans un notebook, mais c'est d'un\n",
    "usage plus complexe)"
   ]
  },
  {
   "cell_type": "markdown",
   "id": "206eb50a",
   "metadata": {},
   "source": [
    "pour créer un nouveau notebook\n",
    "\n",
    "![](media/notebooks-003-creating-py3.png)"
   ]
  },
  {
   "cell_type": "markdown",
   "id": "a7994a75",
   "metadata": {},
   "source": [
    "pour renommer le notebook menu  *File* → *Rename*\n",
    "\n",
    "![](media/notebooks-004-renaming.png)\n",
    "\n",
    "![](media/notebooks-005-named.png)"
   ]
  },
  {
   "cell_type": "markdown",
   "id": "732631bc",
   "metadata": {},
   "source": [
    "comme toujours il faut sauver son travail régulièrement;  \n",
    "remarquez dans le terminal où vous avez lancé le serveur, un message de confirmation\n",
    "\n",
    "![](media/notebooks-006-saved.png)"
   ]
  },
  {
   "cell_type": "markdown",
   "id": "99d3a774",
   "metadata": {},
   "source": [
    "choisir le type de la cellule; on peut aussi faire\n",
    "\n",
    "* `Control-M M` pour markdown\n",
    "* `Control-M Y` pour code (y comme pYthon)\n",
    "\n",
    "![](media/notebooks-007-markdown.png)\n",
    "\n",
    "il y a aussi des raccourcis pratiques pour créer directement des sections\n",
    "\n",
    "* `Control-M 1` met la cellule en markdown, et insère si nécessaire un `#` au début de la\n",
    "  cellule; on crée ainsi une cellule de titre de rang 1\n",
    "* `Control-M 2` : de rang 2, etc…"
   ]
  },
  {
   "cell_type": "markdown",
   "id": "979487e3",
   "metadata": {},
   "source": [
    "insérer une cellule; souvent on fait aussi/plutôt\n",
    "\n",
    "* `⌥-Enter` pour évaluer la cellule et en insérer une dessous\n",
    "\n",
    "![](media/notebooks-008-insert-cell.png)"
   ]
  },
  {
   "cell_type": "markdown",
   "id": "78e15ef0",
   "metadata": {},
   "source": [
    "une cellule de code\n",
    "\n",
    "![](media/notebooks-009-code-cell.png)"
   ]
  },
  {
   "cell_type": "markdown",
   "id": "6b0eda80",
   "metadata": {},
   "source": [
    "on est toujours dans un des deux modes :\n",
    "\n",
    "* édition : pour changer le contenu d'une cellule\n",
    "* commande : pour voir le résultat\n",
    "* la couleur du bandeau vous dit dans quel mode vous êtes\n",
    "* pour sortir du mode édition : tapez `Escape` ou encore `Control-M`\n",
    "\n",
    "![](media/notebooks-010-edit-mode.png)\n",
    "\n",
    "![](media/notebooks-011-cmd-mode.png)"
   ]
  },
  {
   "cell_type": "markdown",
   "id": "72d5d069",
   "metadata": {},
   "source": [
    "à partir du menu, faites *Help* → *Keyboard Shortcuts*\n",
    "\n",
    "![](media/notebooks-020-keyboard-shortcuts.png)"
   ]
  },
  {
   "cell_type": "markdown",
   "id": "7faf0f81",
   "metadata": {},
   "source": [
    "sélection multiple\n",
    "\n",
    "* en général on a exactement **une** cellule courante\n",
    "* mais avec `Shift-⬆` ou `Shift-⬇` on peut sélectionner plusieurs cellules contigües\n",
    "\n",
    "![](media/notebooks-030-sel-mult.png)"
   ]
  },
  {
   "cell_type": "markdown",
   "id": "78a6a6aa",
   "metadata": {},
   "source": [
    "du coup on peut par exemple les déplacer toutes ensemble\n",
    "\n",
    "![](media/notebooks-031-sel-moved-down.png)"
   ]
  },
  {
   "cell_type": "markdown",
   "id": "6a55ebc3",
   "metadata": {},
   "source": [
    "## lire le cours localement (sur votre portable)"
   ]
  },
  {
   "cell_type": "markdown",
   "id": "52e08a95",
   "metadata": {},
   "source": [
    "### prérequis"
   ]
  },
  {
   "cell_type": "markdown",
   "id": "680015fe",
   "metadata": {},
   "source": [
    "#### indispensable\n",
    "\n",
    "pour pouvoir ouvrir un notebook du cours - n'importe lequel - il faut avoir fait ceci\n",
    "\n",
    "```console\n",
    "pip install jupytext\n",
    "```\n",
    "\n",
    "autrement, vous allez avoir un affichage bizarre…"
   ]
  },
  {
   "cell_type": "markdown",
   "id": "133e6a14",
   "metadata": {},
   "source": [
    "#### utile pour ce notebook\n",
    "\n",
    "pour pouvoir exécuter les notebooks en bash (dont celui-ci, donc), il vous faut également\n",
    "faire\n",
    "\n",
    "    pip install calysto_bash"
   ]
  },
  {
   "cell_type": "markdown",
   "id": "b7a92372",
   "metadata": {},
   "source": [
    "### épilogue"
   ]
  },
  {
   "cell_type": "markdown",
   "id": "efdb0be2",
   "metadata": {},
   "source": [
    "à ce stade vous avez tout ce qu'il faut pour tout mettre ensemble, c'est-à-dire :\n",
    "\n",
    "* cloner le repo du cours\n",
    "* lancer jupyter à la racine"
   ]
  },
  {
   "cell_type": "markdown",
   "id": "f4e65003",
   "metadata": {},
   "source": [
    "puis vous pouvez\n",
    "\n",
    "* ouvrir le notebook de démonstration  (*0-10-demonstration.md*)  \n",
    "  (je ne recommande pas forcément de commencer avec le présent notebook, car il utilise un\n",
    "  kernel `bash` qui n'est pas standard…)\n",
    "* l'exécuter localement\n",
    "* et vous amuser à le modifier"
   ]
  },
  {
   "cell_type": "markdown",
   "id": "0f3a50bf",
   "metadata": {},
   "source": [
    "je vous demande surtout de\n",
    "\n",
    "* ouvrir le notebook de checklist, qui résume les compétences attendues\n",
    "* et vérifier que vous avez bien tout installé\n",
    "* et si vous êtes en avance, attaquez-vous à l'exercice qui figure à la fin de la\n",
    "  checklist"
   ]
  },
  {
   "cell_type": "markdown",
   "id": "2bafca97",
   "metadata": {
    "tags": [
     "level_advanced"
    ]
   },
   "source": [
    "### jupyter lab"
   ]
  },
  {
   "cell_type": "markdown",
   "id": "93efaf88",
   "metadata": {
    "tags": [
     "level_advanced"
    ]
   },
   "source": [
    "pour les curieux, sachez qu'il existe une nouvelle interface Jupyter qui s'appelle\n",
    "JupyterLab\n",
    "\n",
    "c'est un plus moderne que Jupyter classic que nous utilisons, mais c'est beaucoup plus\n",
    "compliqué à intégrer… quoi qu'il en soit, si vous voulez jeter un coup d'oeil à cet outil,\n",
    "il faut savoir que\n",
    "\n",
    "* on le lance en tapant `jupyter lab` au lieu de `jupyter notebook`\n",
    "* et pour ouvrir un notebook en `.md` - comme ceux du cours donc - on ne peut pas\n",
    "  double-cliquer dans le .md, il faut utiliser `Open with` comme ceci\n",
    "\n",
    "![](media/fig-jupyter-lab-open-md.png)"
   ]
  },
  {
   "cell_type": "markdown",
   "id": "f7f1dcd5",
   "metadata": {},
   "source": [
    "***\n",
    "***\n",
    "***"
   ]
  },
  {
   "cell_type": "markdown",
   "id": "faf78cc1",
   "metadata": {},
   "source": [
    "**Partie optionnelle**"
   ]
  },
  {
   "cell_type": "markdown",
   "id": "8b74e62e",
   "metadata": {
    "tags": [
     "level_intermediate"
    ]
   },
   "source": [
    "## Python et vs-code"
   ]
  },
  {
   "cell_type": "markdown",
   "id": "5a8031a3",
   "metadata": {},
   "source": [
    "si vous avez le temps (section intermédiaire)"
   ]
  },
  {
   "cell_type": "markdown",
   "id": "d7563ab5",
   "metadata": {},
   "source": [
    "maintenant qu'on a installé Python, on peut retourner dans vs-code pour voir à quoi\n",
    "ressemble l'extension Python (vérifiez que vous l'avez bien installée)\n",
    "\n",
    "il y a quelques réglages à faire la toute première fois qu'on s'en sert, voyons cela :"
   ]
  },
  {
   "cell_type": "markdown",
   "id": "6455149c",
   "metadata": {},
   "source": [
    "### `pylint`\n",
    "\n",
    "* `pylint` est un outil pour trouver les erreurs dans le code Python\n",
    "* il détecte beaucoup d'erreurs (erreurs de syntaxe, variables mal orthographiées, etc..)\n",
    "\n",
    "vs-code vous montre les erreurs :\n",
    "\n",
    "* l'extension Python de vs-code permet d'afficher **en permanence**  (à chaque sauvegarde)\n",
    "  les soucis détectés par `pylint`\n",
    "* c'est pourquoi si `pylint` n'est pas installé, vs-code va automatiquement vous proposer\n",
    "  de le faire (choisissez alors de préférence l'option *install with pip*)"
   ]
  },
  {
   "cell_type": "markdown",
   "id": "20b2ab99",
   "metadata": {
    "tags": []
   },
   "source": [
    "pour information, le terme `lint` ou `linter` désigne, de manière générique, un outil qui\n",
    "fait des vérifications statiques (i.e. sans faire tourner le code); ça existe pour\n",
    "beaucoup de langages"
   ]
  },
  {
   "cell_type": "markdown",
   "id": "226ebd28",
   "metadata": {},
   "source": [
    "### l'interpréteur Python"
   ]
  },
  {
   "cell_type": "markdown",
   "id": "35c6b2af",
   "metadata": {},
   "source": [
    "vs-code a besoin de savoir où est installé Python, pour pouvoir le lancer\n",
    "\n",
    "ne serait-ce que pour lancer `pylint`,   \n",
    "mais il peut aussi, dans un usage plus avancé, vous aider à exécuter votre code;   \n",
    "bref il a besoin de savoir où se trouve l'interpréteur Python  \n",
    "\n",
    "en fait il est malin et il sait trouver **tous** les interpréteurs qui sont installés  \n",
    "et donc ce dont il a besoin c'est que vous lui disiez **lequel** vous voulez utiliser"
   ]
  },
  {
   "cell_type": "markdown",
   "id": "be188c68",
   "metadata": {
    "tags": [
     "level_advanced"
    ]
   },
   "source": [
    "lorsqu'on fait du développement professionnel, on a habituellement une installation Python\n",
    "par projet; une partie optionnelle avancée sera consacrée à ce sujet un peu plus loin"
   ]
  },
  {
   "cell_type": "markdown",
   "id": "085a6cf2",
   "metadata": {},
   "source": [
    "![](media/fig-vscode-select-python.png)"
   ]
  },
  {
   "cell_type": "markdown",
   "id": "3b9b869b",
   "metadata": {},
   "source": [
    "### voir les erreurs"
   ]
  },
  {
   "cell_type": "markdown",
   "id": "2f8f33ce",
   "metadata": {},
   "source": [
    "votre premier objectif est de pouvoir trouver les erreurs visuellement au fur et à mesure\n",
    "que vous écrivez votre code Python\n",
    "\n",
    "dans l'illustration suivante j'ai fait exprès d'importer le module `mathematic` qui est\n",
    "fantaisiste (on verra que la librarie mathématique s'appelle en fait simplement `math`)\n",
    "\n",
    "si votre installation est correcte vous devez pouvoir sauver un fichier qui se termine en\n",
    "`.py`, et si vous y insérez la même erreur (et que vous sauvez le fichier) vous devez voir\n",
    "apparaître un *zigouigoui* comme ceci ![](media/fig-vscode-zigouigoui.png)\n",
    "\n",
    "lorsque le texte est souligné de cette manière, cela indique une erreur; apprenez à les\n",
    "lire et à les corriger **avant même** d'essayer de faire tourner votre code, cela vous\n",
    "fera gagner du temps"
   ]
  },
  {
   "cell_type": "markdown",
   "id": "98b9fdc6",
   "metadata": {},
   "source": [
    "![](media/fig-vscode-show-errors.png)"
   ]
  },
  {
   "cell_type": "markdown",
   "id": "5deb4247",
   "metadata": {
    "tags": []
   },
   "source": [
    "**Avertissement**\n",
    "\n",
    "Il faut toutefois toujours garder à l'esprit que cette phase de détection préliminaire des\n",
    "erreurs de programmation n'a **qu'une valeur indicative**\n",
    "\n",
    "`pylint` fait tous ses efforts pour vous faire gagner du temps en trouvant le maximum\n",
    "d'erreurs le plus tôt possible, **mais** :\n",
    "\n",
    "* ce n'est pas parce qu'un programme n'a pas de zigouigoui qu'il va tourner à coup sûr\n",
    "* et réciproquement, il y a des programmes qui tournent alors qu'ils ont exhibé des erreurs\n",
    "\n",
    "donc il faut garder votre cerveau en marche, et ne pas se fier aveuglément à cette\n",
    "information"
   ]
  },
  {
   "cell_type": "markdown",
   "id": "1fae6c79",
   "metadata": {
    "tags": [
     "level_intermediate"
    ]
   },
   "source": [
    "## extensions Jupyter"
   ]
  },
  {
   "cell_type": "markdown",
   "id": "3f9fcf93",
   "metadata": {},
   "source": [
    "si vous avez le temps (section intermédiaire)"
   ]
  },
  {
   "cell_type": "markdown",
   "id": "e843a35b",
   "metadata": {},
   "source": [
    "vous remarquerez que certaines *features*, disponibles sur nbhosting, ne le sont pas sur\n",
    "votre ordinateur à ce stade; par exemple, les codes de couleur des cellules par niveau, ou\n",
    "la table des matières navigable sur le coté\n",
    "\n",
    "Jupyter est un système extensible; sur nbhosting on a activé quelques-unes de ces\n",
    "extensions, et voici comment vous pouvez les activer également de votre côté"
   ]
  },
  {
   "cell_type": "code",
   "execution_count": 10,
   "id": "ebbb7690",
   "metadata": {
    "tags": []
   },
   "outputs": [
    {
     "name": "stdout",
     "output_type": "stream",
     "text": [
      "Requirement already satisfied: ipywidgets in /usr/share/miniconda/envs/python-numérique/lib/python3.9/site-packages (7.6.3)\r\n",
      "Requirement already satisfied: jupyterlab-widgets>=1.0.0 in /usr/share/miniconda/envs/python-numérique/lib/python3.9/site-packages (from ipywidgets) (1.0.0)\r\n",
      "Requirement already satisfied: ipython>=4.0.0 in /usr/share/miniconda/envs/python-numérique/lib/python3.9/site-packages (from ipywidgets) (7.25.0)\r\n",
      "Requirement already satisfied: traitlets>=4.3.1 in /usr/share/miniconda/envs/python-numérique/lib/python3.9/site-packages (from ipywidgets) (5.0.5)\r\n",
      "Requirement already satisfied: nbformat>=4.2.0 in /usr/share/miniconda/envs/python-numérique/lib/python3.9/site-packages (from ipywidgets) (5.1.3)\r\n",
      "Requirement already satisfied: ipykernel>=4.5.1 in /usr/share/miniconda/envs/python-numérique/lib/python3.9/site-packages (from ipywidgets) (6.0.3)\r\n",
      "Requirement already satisfied: widgetsnbextension~=3.5.0 in /usr/share/miniconda/envs/python-numérique/lib/python3.9/site-packages (from ipywidgets) (3.5.1)\r\n",
      "Requirement already satisfied: debugpy<2.0,>=1.0.0 in /usr/share/miniconda/envs/python-numérique/lib/python3.9/site-packages (from ipykernel>=4.5.1->ipywidgets) (1.4.1)\r\n",
      "Requirement already satisfied: matplotlib-inline<0.2.0,>=0.1.0 in /usr/share/miniconda/envs/python-numérique/lib/python3.9/site-packages (from ipykernel>=4.5.1->ipywidgets) (0.1.2)\r\n",
      "Requirement already satisfied: tornado<7.0,>=4.2 in /usr/share/miniconda/envs/python-numérique/lib/python3.9/site-packages (from ipykernel>=4.5.1->ipywidgets) (6.1)\r\n",
      "Requirement already satisfied: jupyter-client<7.0 in /usr/share/miniconda/envs/python-numérique/lib/python3.9/site-packages (from ipykernel>=4.5.1->ipywidgets) (6.1.12)\r\n",
      "Requirement already satisfied: pygments in /usr/share/miniconda/envs/python-numérique/lib/python3.9/site-packages (from ipython>=4.0.0->ipywidgets) (2.9.0)\r\n",
      "Requirement already satisfied: pickleshare in /usr/share/miniconda/envs/python-numérique/lib/python3.9/site-packages (from ipython>=4.0.0->ipywidgets) (0.7.5)\r\n",
      "Requirement already satisfied: decorator in /usr/share/miniconda/envs/python-numérique/lib/python3.9/site-packages (from ipython>=4.0.0->ipywidgets) (5.0.9)\r\n",
      "Requirement already satisfied: setuptools>=18.5 in /usr/share/miniconda/envs/python-numérique/lib/python3.9/site-packages (from ipython>=4.0.0->ipywidgets) (52.0.0.post20210125)\r\n",
      "Requirement already satisfied: prompt-toolkit!=3.0.0,!=3.0.1,<3.1.0,>=2.0.0 in /usr/share/miniconda/envs/python-numérique/lib/python3.9/site-packages (from ipython>=4.0.0->ipywidgets) (3.0.19)\r\n",
      "Requirement already satisfied: backcall in /usr/share/miniconda/envs/python-numérique/lib/python3.9/site-packages (from ipython>=4.0.0->ipywidgets) (0.2.0)\r\n",
      "Requirement already satisfied: pexpect>4.3 in /usr/share/miniconda/envs/python-numérique/lib/python3.9/site-packages (from ipython>=4.0.0->ipywidgets) (4.8.0)\r\n",
      "Requirement already satisfied: jedi>=0.16 in /usr/share/miniconda/envs/python-numérique/lib/python3.9/site-packages (from ipython>=4.0.0->ipywidgets) (0.18.0)\r\n",
      "Requirement already satisfied: parso<0.9.0,>=0.8.0 in /usr/share/miniconda/envs/python-numérique/lib/python3.9/site-packages (from jedi>=0.16->ipython>=4.0.0->ipywidgets) (0.8.2)\r\n",
      "Requirement already satisfied: jupyter-core>=4.6.0 in /usr/share/miniconda/envs/python-numérique/lib/python3.9/site-packages (from jupyter-client<7.0->ipykernel>=4.5.1->ipywidgets) (4.7.1)\r\n",
      "Requirement already satisfied: python-dateutil>=2.1 in /usr/share/miniconda/envs/python-numérique/lib/python3.9/site-packages (from jupyter-client<7.0->ipykernel>=4.5.1->ipywidgets) (2.8.2)\r\n",
      "Requirement already satisfied: pyzmq>=13 in /usr/share/miniconda/envs/python-numérique/lib/python3.9/site-packages (from jupyter-client<7.0->ipykernel>=4.5.1->ipywidgets) (22.1.0)\r\n",
      "Requirement already satisfied: ipython-genutils in /usr/share/miniconda/envs/python-numérique/lib/python3.9/site-packages (from nbformat>=4.2.0->ipywidgets) (0.2.0)\r\n",
      "Requirement already satisfied: jsonschema!=2.5.0,>=2.4 in /usr/share/miniconda/envs/python-numérique/lib/python3.9/site-packages (from nbformat>=4.2.0->ipywidgets) (3.2.0)\r\n",
      "Requirement already satisfied: pyrsistent>=0.14.0 in /usr/share/miniconda/envs/python-numérique/lib/python3.9/site-packages (from jsonschema!=2.5.0,>=2.4->nbformat>=4.2.0->ipywidgets) (0.18.0)\r\n",
      "Requirement already satisfied: six>=1.11.0 in /usr/share/miniconda/envs/python-numérique/lib/python3.9/site-packages (from jsonschema!=2.5.0,>=2.4->nbformat>=4.2.0->ipywidgets) (1.16.0)\r\n",
      "Requirement already satisfied: attrs>=17.4.0 in /usr/share/miniconda/envs/python-numérique/lib/python3.9/site-packages (from jsonschema!=2.5.0,>=2.4->nbformat>=4.2.0->ipywidgets) (20.3.0)\r\n",
      "Requirement already satisfied: ptyprocess>=0.5 in /usr/share/miniconda/envs/python-numérique/lib/python3.9/site-packages (from pexpect>4.3->ipython>=4.0.0->ipywidgets) (0.7.0)\r\n",
      "Requirement already satisfied: wcwidth in /usr/share/miniconda/envs/python-numérique/lib/python3.9/site-packages (from prompt-toolkit!=3.0.0,!=3.0.1,<3.1.0,>=2.0.0->ipython>=4.0.0->ipywidgets) (0.2.5)\r\n",
      "Requirement already satisfied: notebook>=4.4.1 in /usr/share/miniconda/envs/python-numérique/lib/python3.9/site-packages (from widgetsnbextension~=3.5.0->ipywidgets) (6.4.0)\r\n",
      "Requirement already satisfied: prometheus-client in /usr/share/miniconda/envs/python-numérique/lib/python3.9/site-packages (from notebook>=4.4.1->widgetsnbextension~=3.5.0->ipywidgets) (0.11.0)\r\n",
      "Requirement already satisfied: Send2Trash>=1.5.0 in /usr/share/miniconda/envs/python-numérique/lib/python3.9/site-packages (from notebook>=4.4.1->widgetsnbextension~=3.5.0->ipywidgets) (1.7.1)\r\n",
      "Requirement already satisfied: terminado>=0.8.3 in /usr/share/miniconda/envs/python-numérique/lib/python3.9/site-packages (from notebook>=4.4.1->widgetsnbextension~=3.5.0->ipywidgets) (0.10.1)\r\n",
      "Requirement already satisfied: argon2-cffi in /usr/share/miniconda/envs/python-numérique/lib/python3.9/site-packages (from notebook>=4.4.1->widgetsnbextension~=3.5.0->ipywidgets) (20.1.0)\r\n",
      "Requirement already satisfied: jinja2 in /usr/share/miniconda/envs/python-numérique/lib/python3.9/site-packages (from notebook>=4.4.1->widgetsnbextension~=3.5.0->ipywidgets) (3.0.1)\r\n",
      "Requirement already satisfied: nbconvert in /usr/share/miniconda/envs/python-numérique/lib/python3.9/site-packages (from notebook>=4.4.1->widgetsnbextension~=3.5.0->ipywidgets) (5.6.1)\r\n",
      "Requirement already satisfied: cffi>=1.0.0 in /usr/share/miniconda/envs/python-numérique/lib/python3.9/site-packages (from argon2-cffi->notebook>=4.4.1->widgetsnbextension~=3.5.0->ipywidgets) (1.14.6)\r\n",
      "Requirement already satisfied: pycparser in /usr/share/miniconda/envs/python-numérique/lib/python3.9/site-packages (from cffi>=1.0.0->argon2-cffi->notebook>=4.4.1->widgetsnbextension~=3.5.0->ipywidgets) (2.20)\r\n",
      "Requirement already satisfied: MarkupSafe>=2.0 in /usr/share/miniconda/envs/python-numérique/lib/python3.9/site-packages (from jinja2->notebook>=4.4.1->widgetsnbextension~=3.5.0->ipywidgets) (2.0.1)\r\n",
      "Requirement already satisfied: pandocfilters>=1.4.1 in /usr/share/miniconda/envs/python-numérique/lib/python3.9/site-packages (from nbconvert->notebook>=4.4.1->widgetsnbextension~=3.5.0->ipywidgets) (1.4.3)\r\n",
      "Requirement already satisfied: mistune<2,>=0.8.1 in /usr/share/miniconda/envs/python-numérique/lib/python3.9/site-packages (from nbconvert->notebook>=4.4.1->widgetsnbextension~=3.5.0->ipywidgets) (0.8.4)\r\n",
      "Requirement already satisfied: entrypoints>=0.2.2 in /usr/share/miniconda/envs/python-numérique/lib/python3.9/site-packages (from nbconvert->notebook>=4.4.1->widgetsnbextension~=3.5.0->ipywidgets) (0.3)\r\n",
      "Requirement already satisfied: testpath in /usr/share/miniconda/envs/python-numérique/lib/python3.9/site-packages (from nbconvert->notebook>=4.4.1->widgetsnbextension~=3.5.0->ipywidgets) (0.5.0)\r\n",
      "Requirement already satisfied: defusedxml in /usr/share/miniconda/envs/python-numérique/lib/python3.9/site-packages (from nbconvert->notebook>=4.4.1->widgetsnbextension~=3.5.0->ipywidgets) (0.7.1)\r\n",
      "Requirement already satisfied: bleach in /usr/share/miniconda/envs/python-numérique/lib/python3.9/site-packages (from nbconvert->notebook>=4.4.1->widgetsnbextension~=3.5.0->ipywidgets) (3.3.1)\r\n",
      "Requirement already satisfied: packaging in /usr/share/miniconda/envs/python-numérique/lib/python3.9/site-packages (from bleach->nbconvert->notebook>=4.4.1->widgetsnbextension~=3.5.0->ipywidgets) (21.0)\r\n",
      "Requirement already satisfied: webencodings in /usr/share/miniconda/envs/python-numérique/lib/python3.9/site-packages (from bleach->nbconvert->notebook>=4.4.1->widgetsnbextension~=3.5.0->ipywidgets) (0.5.1)\r\n",
      "Requirement already satisfied: pyparsing>=2.0.2 in /usr/share/miniconda/envs/python-numérique/lib/python3.9/site-packages (from packaging->bleach->nbconvert->notebook>=4.4.1->widgetsnbextension~=3.5.0->ipywidgets) (2.4.7)\r\n",
      "Enabling notebook extension jupyter-js-widgets/extension...\r\n",
      "      - Validating: \u001b[32mOK\u001b[0m\r\n",
      "Requirement already satisfied: jupyter_contrib_nbextensions in /usr/share/miniconda/envs/python-numérique/lib/python3.9/site-packages (0.5.1)\r\n",
      "Requirement already satisfied: nbconvert>=4.2 in /usr/share/miniconda/envs/python-numérique/lib/python3.9/site-packages (from jupyter_contrib_nbextensions) (5.6.1)\r\n",
      "Requirement already satisfied: notebook>=4.0 in /usr/share/miniconda/envs/python-numérique/lib/python3.9/site-packages (from jupyter_contrib_nbextensions) (6.4.0)\r\n",
      "Requirement already satisfied: jupyter-highlight-selected-word>=0.1.1 in /usr/share/miniconda/envs/python-numérique/lib/python3.9/site-packages (from jupyter_contrib_nbextensions) (0.2.0)\r\n",
      "Requirement already satisfied: jupyter-contrib-core>=0.3.3 in /usr/share/miniconda/envs/python-numérique/lib/python3.9/site-packages (from jupyter_contrib_nbextensions) (0.3.3)\r\n",
      "Requirement already satisfied: jupyter-latex-envs>=1.3.8 in /usr/share/miniconda/envs/python-numérique/lib/python3.9/site-packages (from jupyter_contrib_nbextensions) (1.4.6)\r\n",
      "Requirement already satisfied: jupyter-nbextensions-configurator>=0.4.0 in /usr/share/miniconda/envs/python-numérique/lib/python3.9/site-packages (from jupyter_contrib_nbextensions) (0.4.1)\r\n",
      "Requirement already satisfied: lxml in /usr/share/miniconda/envs/python-numérique/lib/python3.9/site-packages (from jupyter_contrib_nbextensions) (4.6.3)\r\n",
      "Requirement already satisfied: pyyaml in /usr/share/miniconda/envs/python-numérique/lib/python3.9/site-packages (from jupyter_contrib_nbextensions) (5.4.1)\r\n",
      "Requirement already satisfied: traitlets>=4.1 in /usr/share/miniconda/envs/python-numérique/lib/python3.9/site-packages (from jupyter_contrib_nbextensions) (5.0.5)\r\n",
      "Requirement already satisfied: jupyter-core in /usr/share/miniconda/envs/python-numérique/lib/python3.9/site-packages (from jupyter_contrib_nbextensions) (4.7.1)\r\n",
      "Requirement already satisfied: tornado in /usr/share/miniconda/envs/python-numérique/lib/python3.9/site-packages (from jupyter_contrib_nbextensions) (6.1)\r\n",
      "Requirement already satisfied: ipython-genutils in /usr/share/miniconda/envs/python-numérique/lib/python3.9/site-packages (from jupyter_contrib_nbextensions) (0.2.0)\r\n",
      "Requirement already satisfied: setuptools in /usr/share/miniconda/envs/python-numérique/lib/python3.9/site-packages (from jupyter-contrib-core>=0.3.3->jupyter_contrib_nbextensions) (52.0.0.post20210125)\r\n",
      "Requirement already satisfied: ipython in /usr/share/miniconda/envs/python-numérique/lib/python3.9/site-packages (from jupyter-latex-envs>=1.3.8->jupyter_contrib_nbextensions) (7.25.0)\r\n",
      "Requirement already satisfied: bleach in /usr/share/miniconda/envs/python-numérique/lib/python3.9/site-packages (from nbconvert>=4.2->jupyter_contrib_nbextensions) (3.3.1)\r\n",
      "Requirement already satisfied: nbformat>=4.4 in /usr/share/miniconda/envs/python-numérique/lib/python3.9/site-packages (from nbconvert>=4.2->jupyter_contrib_nbextensions) (5.1.3)\r\n",
      "Requirement already satisfied: jinja2>=2.4 in /usr/share/miniconda/envs/python-numérique/lib/python3.9/site-packages (from nbconvert>=4.2->jupyter_contrib_nbextensions) (3.0.1)\r\n",
      "Requirement already satisfied: testpath in /usr/share/miniconda/envs/python-numérique/lib/python3.9/site-packages (from nbconvert>=4.2->jupyter_contrib_nbextensions) (0.5.0)\r\n",
      "Requirement already satisfied: defusedxml in /usr/share/miniconda/envs/python-numérique/lib/python3.9/site-packages (from nbconvert>=4.2->jupyter_contrib_nbextensions) (0.7.1)\r\n",
      "Requirement already satisfied: entrypoints>=0.2.2 in /usr/share/miniconda/envs/python-numérique/lib/python3.9/site-packages (from nbconvert>=4.2->jupyter_contrib_nbextensions) (0.3)\r\n",
      "Requirement already satisfied: pandocfilters>=1.4.1 in /usr/share/miniconda/envs/python-numérique/lib/python3.9/site-packages (from nbconvert>=4.2->jupyter_contrib_nbextensions) (1.4.3)\r\n",
      "Requirement already satisfied: mistune<2,>=0.8.1 in /usr/share/miniconda/envs/python-numérique/lib/python3.9/site-packages (from nbconvert>=4.2->jupyter_contrib_nbextensions) (0.8.4)\r\n",
      "Requirement already satisfied: pygments in /usr/share/miniconda/envs/python-numérique/lib/python3.9/site-packages (from nbconvert>=4.2->jupyter_contrib_nbextensions) (2.9.0)\r\n",
      "Requirement already satisfied: MarkupSafe>=2.0 in /usr/share/miniconda/envs/python-numérique/lib/python3.9/site-packages (from jinja2>=2.4->nbconvert>=4.2->jupyter_contrib_nbextensions) (2.0.1)\r\n",
      "Requirement already satisfied: jsonschema!=2.5.0,>=2.4 in /usr/share/miniconda/envs/python-numérique/lib/python3.9/site-packages (from nbformat>=4.4->nbconvert>=4.2->jupyter_contrib_nbextensions) (3.2.0)\r\n",
      "Requirement already satisfied: pyrsistent>=0.14.0 in /usr/share/miniconda/envs/python-numérique/lib/python3.9/site-packages (from jsonschema!=2.5.0,>=2.4->nbformat>=4.4->nbconvert>=4.2->jupyter_contrib_nbextensions) (0.18.0)\r\n",
      "Requirement already satisfied: six>=1.11.0 in /usr/share/miniconda/envs/python-numérique/lib/python3.9/site-packages (from jsonschema!=2.5.0,>=2.4->nbformat>=4.4->nbconvert>=4.2->jupyter_contrib_nbextensions) (1.16.0)\r\n",
      "Requirement already satisfied: attrs>=17.4.0 in /usr/share/miniconda/envs/python-numérique/lib/python3.9/site-packages (from jsonschema!=2.5.0,>=2.4->nbformat>=4.4->nbconvert>=4.2->jupyter_contrib_nbextensions) (20.3.0)\r\n",
      "Requirement already satisfied: terminado>=0.8.3 in /usr/share/miniconda/envs/python-numérique/lib/python3.9/site-packages (from notebook>=4.0->jupyter_contrib_nbextensions) (0.10.1)\r\n",
      "Requirement already satisfied: jupyter-client>=5.3.4 in /usr/share/miniconda/envs/python-numérique/lib/python3.9/site-packages (from notebook>=4.0->jupyter_contrib_nbextensions) (6.1.12)\r\n",
      "Requirement already satisfied: ipykernel in /usr/share/miniconda/envs/python-numérique/lib/python3.9/site-packages (from notebook>=4.0->jupyter_contrib_nbextensions) (6.0.3)\r\n",
      "Requirement already satisfied: Send2Trash>=1.5.0 in /usr/share/miniconda/envs/python-numérique/lib/python3.9/site-packages (from notebook>=4.0->jupyter_contrib_nbextensions) (1.7.1)\r\n",
      "Requirement already satisfied: prometheus-client in /usr/share/miniconda/envs/python-numérique/lib/python3.9/site-packages (from notebook>=4.0->jupyter_contrib_nbextensions) (0.11.0)\r\n",
      "Requirement already satisfied: pyzmq>=17 in /usr/share/miniconda/envs/python-numérique/lib/python3.9/site-packages (from notebook>=4.0->jupyter_contrib_nbextensions) (22.1.0)\r\n",
      "Requirement already satisfied: argon2-cffi in /usr/share/miniconda/envs/python-numérique/lib/python3.9/site-packages (from notebook>=4.0->jupyter_contrib_nbextensions) (20.1.0)\r\n",
      "Requirement already satisfied: python-dateutil>=2.1 in /usr/share/miniconda/envs/python-numérique/lib/python3.9/site-packages (from jupyter-client>=5.3.4->notebook>=4.0->jupyter_contrib_nbextensions) (2.8.2)\r\n",
      "Requirement already satisfied: ptyprocess in /usr/share/miniconda/envs/python-numérique/lib/python3.9/site-packages (from terminado>=0.8.3->notebook>=4.0->jupyter_contrib_nbextensions) (0.7.0)\r\n",
      "Requirement already satisfied: cffi>=1.0.0 in /usr/share/miniconda/envs/python-numérique/lib/python3.9/site-packages (from argon2-cffi->notebook>=4.0->jupyter_contrib_nbextensions) (1.14.6)\r\n",
      "Requirement already satisfied: pycparser in /usr/share/miniconda/envs/python-numérique/lib/python3.9/site-packages (from cffi>=1.0.0->argon2-cffi->notebook>=4.0->jupyter_contrib_nbextensions) (2.20)\r\n",
      "Requirement already satisfied: packaging in /usr/share/miniconda/envs/python-numérique/lib/python3.9/site-packages (from bleach->nbconvert>=4.2->jupyter_contrib_nbextensions) (21.0)\r\n",
      "Requirement already satisfied: webencodings in /usr/share/miniconda/envs/python-numérique/lib/python3.9/site-packages (from bleach->nbconvert>=4.2->jupyter_contrib_nbextensions) (0.5.1)\r\n",
      "Requirement already satisfied: debugpy<2.0,>=1.0.0 in /usr/share/miniconda/envs/python-numérique/lib/python3.9/site-packages (from ipykernel->notebook>=4.0->jupyter_contrib_nbextensions) (1.4.1)\r\n",
      "Requirement already satisfied: matplotlib-inline<0.2.0,>=0.1.0 in /usr/share/miniconda/envs/python-numérique/lib/python3.9/site-packages (from ipykernel->notebook>=4.0->jupyter_contrib_nbextensions) (0.1.2)\r\n",
      "Requirement already satisfied: prompt-toolkit!=3.0.0,!=3.0.1,<3.1.0,>=2.0.0 in /usr/share/miniconda/envs/python-numérique/lib/python3.9/site-packages (from ipython->jupyter-latex-envs>=1.3.8->jupyter_contrib_nbextensions) (3.0.19)\r\n",
      "Requirement already satisfied: jedi>=0.16 in /usr/share/miniconda/envs/python-numérique/lib/python3.9/site-packages (from ipython->jupyter-latex-envs>=1.3.8->jupyter_contrib_nbextensions) (0.18.0)\r\n",
      "Requirement already satisfied: decorator in /usr/share/miniconda/envs/python-numérique/lib/python3.9/site-packages (from ipython->jupyter-latex-envs>=1.3.8->jupyter_contrib_nbextensions) (5.0.9)\r\n",
      "Requirement already satisfied: pickleshare in /usr/share/miniconda/envs/python-numérique/lib/python3.9/site-packages (from ipython->jupyter-latex-envs>=1.3.8->jupyter_contrib_nbextensions) (0.7.5)\r\n",
      "Requirement already satisfied: pexpect>4.3 in /usr/share/miniconda/envs/python-numérique/lib/python3.9/site-packages (from ipython->jupyter-latex-envs>=1.3.8->jupyter_contrib_nbextensions) (4.8.0)\r\n",
      "Requirement already satisfied: backcall in /usr/share/miniconda/envs/python-numérique/lib/python3.9/site-packages (from ipython->jupyter-latex-envs>=1.3.8->jupyter_contrib_nbextensions) (0.2.0)\r\n",
      "Requirement already satisfied: parso<0.9.0,>=0.8.0 in /usr/share/miniconda/envs/python-numérique/lib/python3.9/site-packages (from jedi>=0.16->ipython->jupyter-latex-envs>=1.3.8->jupyter_contrib_nbextensions) (0.8.2)\r\n",
      "Requirement already satisfied: wcwidth in /usr/share/miniconda/envs/python-numérique/lib/python3.9/site-packages (from prompt-toolkit!=3.0.0,!=3.0.1,<3.1.0,>=2.0.0->ipython->jupyter-latex-envs>=1.3.8->jupyter_contrib_nbextensions) (0.2.5)\r\n",
      "Requirement already satisfied: pyparsing>=2.0.2 in /usr/share/miniconda/envs/python-numérique/lib/python3.9/site-packages (from packaging->bleach->nbconvert>=4.2->jupyter_contrib_nbextensions) (2.4.7)\r\n",
      "[I 17:25:51 InstallContribNbextensionsApp] jupyter contrib nbextension install \r\n",
      "[I 17:25:51 InstallContribNbextensionsApp] Installing jupyter_contrib_nbextensions nbextension files to jupyter data directory\r\n",
      "[I 17:25:51 InstallContribNbextensionsApp] Installing /usr/share/miniconda/envs/python-numérique/lib/python3.9/site-packages/jupyter_contrib_nbextensions/nbextensions/contrib_nbextensions_help_item -> contrib_nbextensions_help_item\r\n",
      "Traceback (most recent call last):\r\n",
      "  File \"/usr/share/miniconda/envs/python-numérique/bin/jupyter-contrib\", line 8, in <module>\r\n",
      "    sys.exit(main())\r\n",
      "  File \"/usr/share/miniconda/envs/python-numérique/lib/python3.9/site-packages/jupyter_core/application.py\", line 254, in launch_instance\r\n",
      "    return super(JupyterApp, cls).launch_instance(argv=argv, **kwargs)\r\n",
      "  File \"/usr/share/miniconda/envs/python-numérique/lib/python3.9/site-packages/traitlets/config/application.py\", line 845, in launch_instance\r\n",
      "    app.start()\r\n",
      "  File \"/usr/share/miniconda/envs/python-numérique/lib/python3.9/site-packages/jupyter_contrib_core/application.py\", line 50, in start\r\n",
      "    super(JupyterContribApp, self).start()\r\n",
      "  File \"/usr/share/miniconda/envs/python-numérique/lib/python3.9/site-packages/jupyter_core/application.py\", line 243, in start\r\n",
      "    self.subapp.start()\r\n",
      "  File \"/usr/share/miniconda/envs/python-numérique/lib/python3.9/site-packages/jupyter_contrib_nbextensions/application.py\", line 231, in start\r\n",
      "    super(ContribNbextensionsApp, self).start()\r\n",
      "  File \"/usr/share/miniconda/envs/python-numérique/lib/python3.9/site-packages/jupyter_core/application.py\", line 243, in start\r\n",
      "    self.subapp.start()\r\n",
      "  File \"/usr/share/miniconda/envs/python-numérique/lib/python3.9/site-packages/jupyter_contrib_nbextensions/application.py\", line 178, in start\r\n",
      "    toggle_install_files(self._toggle_value, **kwargs_files)\r\n",
      "  File \"/usr/share/miniconda/envs/python-numérique/lib/python3.9/site-packages/jupyter_contrib_nbextensions/install.py\", line 74, in toggle_install_files\r\n",
      "    nbextensions.install_nbextension_python(\r\n",
      "  File \"/usr/share/miniconda/envs/python-numérique/lib/python3.9/site-packages/notebook/nbextensions.py\", line 214, in install_nbextension_python\r\n",
      "    full_dest = install_nbextension(\r\n",
      "  File \"/usr/share/miniconda/envs/python-numérique/lib/python3.9/site-packages/notebook/nbextensions.py\", line 118, in install_nbextension\r\n",
      "    ensure_dir_exists(nbext)\r\n",
      "  File \"/usr/share/miniconda/envs/python-numérique/lib/python3.9/site-packages/jupyter_core/utils/__init__.py\", line 11, in ensure_dir_exists\r\n",
      "    os.makedirs(path, mode=mode)\r\n",
      "  File \"/usr/share/miniconda/envs/python-numérique/lib/python3.9/os.py\", line 215, in makedirs\r\n",
      "    makedirs(head, exist_ok=exist_ok)\r\n",
      "  File \"/usr/share/miniconda/envs/python-numérique/lib/python3.9/os.py\", line 225, in makedirs\r\n",
      "    mkdir(name, mode)\r\n",
      "PermissionError: [Errno 13] Permission denied: '/usr/local/share/jupyter'\r\n",
      "\n"
     ]
    }
   ],
   "source": [
    "# d'abord on installe les extensions standard\n",
    "\n",
    "pip install -U ipywidgets\n",
    "jupyter nbextension enable --py widgetsnbextension\n",
    "\n",
    "pip install -U jupyter_contrib_nbextensions\n",
    "jupyter contrib nbextension install"
   ]
  },
  {
   "cell_type": "code",
   "execution_count": 11,
   "id": "6b505bff",
   "metadata": {
    "tags": []
   },
   "outputs": [
    {
     "name": "stdout",
     "output_type": "stream",
     "text": [
      "Enabling notebook extension toc2/main...\r\n",
      "      - Validating: problems found:\r\n",
      "        - require? \u001b[31m X\u001b[0m toc2/main\r\n",
      "Enabling notebook extension splitcell/splitcell...\r\n",
      "      - Validating: problems found:\r\n",
      "        - require? \u001b[31m X\u001b[0m splitcell/splitcell\r\n",
      "Collecting nb-courselevels\r\n",
      "  Downloading nb_courselevels-0.4.0-py3-none-any.whl (8.9 kB)\r\n",
      "Requirement already satisfied: jupyter-nbextensions-configurator in /usr/share/miniconda/envs/python-numérique/lib/python3.9/site-packages (from nb-courselevels) (0.4.1)\r\n",
      "Requirement already satisfied: notebook in /usr/share/miniconda/envs/python-numérique/lib/python3.9/site-packages (from nb-courselevels) (6.4.0)\r\n",
      "Requirement already satisfied: traitlets in /usr/share/miniconda/envs/python-numérique/lib/python3.9/site-packages (from jupyter-nbextensions-configurator->nb-courselevels) (5.0.5)\r\n",
      "Requirement already satisfied: jupyter-contrib-core>=0.3.3 in /usr/share/miniconda/envs/python-numérique/lib/python3.9/site-packages (from jupyter-nbextensions-configurator->nb-courselevels) (0.3.3)\r\n",
      "Requirement already satisfied: tornado in /usr/share/miniconda/envs/python-numérique/lib/python3.9/site-packages (from jupyter-nbextensions-configurator->nb-courselevels) (6.1)\r\n",
      "Requirement already satisfied: jupyter-core in /usr/share/miniconda/envs/python-numérique/lib/python3.9/site-packages (from jupyter-nbextensions-configurator->nb-courselevels) (4.7.1)\r\n",
      "Requirement already satisfied: pyyaml in /usr/share/miniconda/envs/python-numérique/lib/python3.9/site-packages (from jupyter-nbextensions-configurator->nb-courselevels) (5.4.1)\r\n",
      "Requirement already satisfied: setuptools in /usr/share/miniconda/envs/python-numérique/lib/python3.9/site-packages (from jupyter-contrib-core>=0.3.3->jupyter-nbextensions-configurator->nb-courselevels) (52.0.0.post20210125)\r\n",
      "Requirement already satisfied: Send2Trash>=1.5.0 in /usr/share/miniconda/envs/python-numérique/lib/python3.9/site-packages (from notebook->nb-courselevels) (1.7.1)\r\n",
      "Requirement already satisfied: nbformat in /usr/share/miniconda/envs/python-numérique/lib/python3.9/site-packages (from notebook->nb-courselevels) (5.1.3)\r\n",
      "Requirement already satisfied: argon2-cffi in /usr/share/miniconda/envs/python-numérique/lib/python3.9/site-packages (from notebook->nb-courselevels) (20.1.0)\r\n",
      "Requirement already satisfied: ipykernel in /usr/share/miniconda/envs/python-numérique/lib/python3.9/site-packages (from notebook->nb-courselevels) (6.0.3)\r\n",
      "Requirement already satisfied: pyzmq>=17 in /usr/share/miniconda/envs/python-numérique/lib/python3.9/site-packages (from notebook->nb-courselevels) (22.1.0)\r\n",
      "Requirement already satisfied: ipython-genutils in /usr/share/miniconda/envs/python-numérique/lib/python3.9/site-packages (from notebook->nb-courselevels) (0.2.0)\r\n",
      "Requirement already satisfied: jinja2 in /usr/share/miniconda/envs/python-numérique/lib/python3.9/site-packages (from notebook->nb-courselevels) (3.0.1)\r\n",
      "Requirement already satisfied: prometheus-client in /usr/share/miniconda/envs/python-numérique/lib/python3.9/site-packages (from notebook->nb-courselevels) (0.11.0)\r\n",
      "Requirement already satisfied: nbconvert in /usr/share/miniconda/envs/python-numérique/lib/python3.9/site-packages (from notebook->nb-courselevels) (5.6.1)\r\n",
      "Requirement already satisfied: terminado>=0.8.3 in /usr/share/miniconda/envs/python-numérique/lib/python3.9/site-packages (from notebook->nb-courselevels) (0.10.1)\r\n",
      "Requirement already satisfied: jupyter-client>=5.3.4 in /usr/share/miniconda/envs/python-numérique/lib/python3.9/site-packages (from notebook->nb-courselevels) (6.1.12)\r\n",
      "Requirement already satisfied: python-dateutil>=2.1 in /usr/share/miniconda/envs/python-numérique/lib/python3.9/site-packages (from jupyter-client>=5.3.4->notebook->nb-courselevels) (2.8.2)\r\n",
      "Requirement already satisfied: six>=1.5 in /usr/share/miniconda/envs/python-numérique/lib/python3.9/site-packages (from python-dateutil>=2.1->jupyter-client>=5.3.4->notebook->nb-courselevels) (1.16.0)\r\n",
      "Requirement already satisfied: ptyprocess in /usr/share/miniconda/envs/python-numérique/lib/python3.9/site-packages (from terminado>=0.8.3->notebook->nb-courselevels) (0.7.0)\r\n",
      "Requirement already satisfied: cffi>=1.0.0 in /usr/share/miniconda/envs/python-numérique/lib/python3.9/site-packages (from argon2-cffi->notebook->nb-courselevels) (1.14.6)\r\n",
      "Requirement already satisfied: pycparser in /usr/share/miniconda/envs/python-numérique/lib/python3.9/site-packages (from cffi>=1.0.0->argon2-cffi->notebook->nb-courselevels) (2.20)\r\n",
      "Requirement already satisfied: debugpy<2.0,>=1.0.0 in /usr/share/miniconda/envs/python-numérique/lib/python3.9/site-packages (from ipykernel->notebook->nb-courselevels) (1.4.1)\r\n",
      "Requirement already satisfied: matplotlib-inline<0.2.0,>=0.1.0 in /usr/share/miniconda/envs/python-numérique/lib/python3.9/site-packages (from ipykernel->notebook->nb-courselevels) (0.1.2)\r\n",
      "Requirement already satisfied: ipython<8.0,>=7.23.1 in /usr/share/miniconda/envs/python-numérique/lib/python3.9/site-packages (from ipykernel->notebook->nb-courselevels) (7.25.0)\r\n",
      "Requirement already satisfied: decorator in /usr/share/miniconda/envs/python-numérique/lib/python3.9/site-packages (from ipython<8.0,>=7.23.1->ipykernel->notebook->nb-courselevels) (5.0.9)\r\n",
      "Requirement already satisfied: backcall in /usr/share/miniconda/envs/python-numérique/lib/python3.9/site-packages (from ipython<8.0,>=7.23.1->ipykernel->notebook->nb-courselevels) (0.2.0)\r\n",
      "Requirement already satisfied: pygments in /usr/share/miniconda/envs/python-numérique/lib/python3.9/site-packages (from ipython<8.0,>=7.23.1->ipykernel->notebook->nb-courselevels) (2.9.0)\r\n",
      "Requirement already satisfied: prompt-toolkit!=3.0.0,!=3.0.1,<3.1.0,>=2.0.0 in /usr/share/miniconda/envs/python-numérique/lib/python3.9/site-packages (from ipython<8.0,>=7.23.1->ipykernel->notebook->nb-courselevels) (3.0.19)\r\n",
      "Requirement already satisfied: pexpect>4.3 in /usr/share/miniconda/envs/python-numérique/lib/python3.9/site-packages (from ipython<8.0,>=7.23.1->ipykernel->notebook->nb-courselevels) (4.8.0)\r\n",
      "Requirement already satisfied: jedi>=0.16 in /usr/share/miniconda/envs/python-numérique/lib/python3.9/site-packages (from ipython<8.0,>=7.23.1->ipykernel->notebook->nb-courselevels) (0.18.0)\r\n",
      "Requirement already satisfied: pickleshare in /usr/share/miniconda/envs/python-numérique/lib/python3.9/site-packages (from ipython<8.0,>=7.23.1->ipykernel->notebook->nb-courselevels) (0.7.5)\r\n",
      "Requirement already satisfied: parso<0.9.0,>=0.8.0 in /usr/share/miniconda/envs/python-numérique/lib/python3.9/site-packages (from jedi>=0.16->ipython<8.0,>=7.23.1->ipykernel->notebook->nb-courselevels) (0.8.2)\r\n",
      "Requirement already satisfied: wcwidth in /usr/share/miniconda/envs/python-numérique/lib/python3.9/site-packages (from prompt-toolkit!=3.0.0,!=3.0.1,<3.1.0,>=2.0.0->ipython<8.0,>=7.23.1->ipykernel->notebook->nb-courselevels) (0.2.5)\r\n",
      "Requirement already satisfied: MarkupSafe>=2.0 in /usr/share/miniconda/envs/python-numérique/lib/python3.9/site-packages (from jinja2->notebook->nb-courselevels) (2.0.1)\r\n",
      "Requirement already satisfied: pandocfilters>=1.4.1 in /usr/share/miniconda/envs/python-numérique/lib/python3.9/site-packages (from nbconvert->notebook->nb-courselevels) (1.4.3)\r\n",
      "Requirement already satisfied: mistune<2,>=0.8.1 in /usr/share/miniconda/envs/python-numérique/lib/python3.9/site-packages (from nbconvert->notebook->nb-courselevels) (0.8.4)\r\n",
      "Requirement already satisfied: entrypoints>=0.2.2 in /usr/share/miniconda/envs/python-numérique/lib/python3.9/site-packages (from nbconvert->notebook->nb-courselevels) (0.3)\r\n",
      "Requirement already satisfied: testpath in /usr/share/miniconda/envs/python-numérique/lib/python3.9/site-packages (from nbconvert->notebook->nb-courselevels) (0.5.0)\r\n",
      "Requirement already satisfied: bleach in /usr/share/miniconda/envs/python-numérique/lib/python3.9/site-packages (from nbconvert->notebook->nb-courselevels) (3.3.1)\r\n",
      "Requirement already satisfied: defusedxml in /usr/share/miniconda/envs/python-numérique/lib/python3.9/site-packages (from nbconvert->notebook->nb-courselevels) (0.7.1)\r\n",
      "Requirement already satisfied: jsonschema!=2.5.0,>=2.4 in /usr/share/miniconda/envs/python-numérique/lib/python3.9/site-packages (from nbformat->notebook->nb-courselevels) (3.2.0)\r\n",
      "Requirement already satisfied: pyrsistent>=0.14.0 in /usr/share/miniconda/envs/python-numérique/lib/python3.9/site-packages (from jsonschema!=2.5.0,>=2.4->nbformat->notebook->nb-courselevels) (0.18.0)\r\n",
      "Requirement already satisfied: attrs>=17.4.0 in /usr/share/miniconda/envs/python-numérique/lib/python3.9/site-packages (from jsonschema!=2.5.0,>=2.4->nbformat->notebook->nb-courselevels) (20.3.0)\r\n",
      "Requirement already satisfied: packaging in /usr/share/miniconda/envs/python-numérique/lib/python3.9/site-packages (from bleach->nbconvert->notebook->nb-courselevels) (21.0)\r\n",
      "Requirement already satisfied: webencodings in /usr/share/miniconda/envs/python-numérique/lib/python3.9/site-packages (from bleach->nbconvert->notebook->nb-courselevels) (0.5.1)\r\n",
      "Requirement already satisfied: pyparsing>=2.0.2 in /usr/share/miniconda/envs/python-numérique/lib/python3.9/site-packages (from packaging->bleach->nbconvert->notebook->nb-courselevels) (2.4.7)\r\n",
      "Installing collected packages: nb-courselevels\r\n",
      "Successfully installed nb-courselevels-0.4.0\r\n",
      "Enabling notebook extension courselevels/index...\r\n",
      "      - Validating: \u001b[32mOK\u001b[0m\r\n",
      "\n"
     ]
    }
   ],
   "source": [
    "# puis on active celles qui nous intéressent\n",
    "\n",
    "# la table des matières navigable\n",
    "jupyter nbextension enable toc2/main\n",
    "# les cellules qui ne prennent que la moitié de la largeur\n",
    "jupyter nbextension enable splitcell/splitcell\n",
    "\n",
    "# les codes de couleur\n",
    "pip install nb-courselevels\n",
    "jupyter nbextension enable courselevels/index"
   ]
  },
  {
   "cell_type": "markdown",
   "id": "d097887a",
   "metadata": {
    "tags": [
     "level_advanced"
    ]
   },
   "source": [
    "## multiples environnements Python"
   ]
  },
  {
   "cell_type": "markdown",
   "id": "247c810e",
   "metadata": {},
   "source": [
    "pour ceux qui sont très en avance (section niveau avancée)"
   ]
  },
  {
   "cell_type": "markdown",
   "id": "ecd58640",
   "metadata": {},
   "source": [
    "on l'a mentionné un peu plus haut, cela peut être utile de créer plusieurs environnements\n",
    "Python différents; c'est utile notamment :\n",
    "\n",
    "* si vous travaillez sur plusieurs projets différents, qui ont chacun leur ensemble de\n",
    "  dépendances, pas forcément compatibles entre elles; par exemple, l'un utilise Django-2.x\n",
    "  et l'autre Django-3.x\n",
    "* et aussi, lors de la sortie d'une nouvelle release de Python, que vous voulez essayer\n",
    "  sans tout casser"
   ]
  },
  {
   "cell_type": "markdown",
   "id": "b9e77206",
   "metadata": {},
   "source": [
    "il existe plusieurs solutions pour gérer cela, notamment la solution `virtualenv`, mais\n",
    "nous allons pour notre part nous concentrer sur miniconda, puisque c'est ce qu'on a\n",
    "installé"
   ]
  },
  {
   "cell_type": "markdown",
   "id": "c2d50c46",
   "metadata": {},
   "source": [
    "### miniconda"
   ]
  },
  {
   "cell_type": "markdown",
   "id": "831b8c22",
   "metadata": {},
   "source": [
    "c'est un des points forts de miniconda, que de permettre de facilement\n",
    "créer/activer/détruire des environnements multiples; on entend par environnement :\n",
    "\n",
    "* un socle `Python` accessible par les commandes `python` et `pip`\n",
    "* installé au départ sans aucune librairie tierce (enfin si, disons plutôt le strict\n",
    "  minimum, comme `pip`), pour que vous puissiez construire votre environnement de scratch"
   ]
  },
  {
   "cell_type": "markdown",
   "id": "3cc474e1",
   "metadata": {},
   "source": [
    "les commandes utiles sont\n",
    "\n",
    "* `conda env list`\n",
    "* `conda create -n mon_environnement python=3.8`\n",
    "* `conda env remove -n mon_environnement`"
   ]
  },
  {
   "cell_type": "markdown",
   "id": "65094910",
   "metadata": {},
   "source": [
    "et pour gérer tout cela, on dispose de commandes pour changer d'environnement; le modèle\n",
    "mental est simple :\n",
    "\n",
    "* lorsque vous créez un terminal, vous êtes dans l'environnement qui s'appelle `base`,\n",
    "  c'est celui que vous avez utilisé jusqu'ici\n",
    "* vous pouvez passer dans un autre environnement avec  \n",
    "  `conda activate mon_environnement`  \n",
    "  qui a pour effet, entre autres, de modifier votre `PATH` pour que la commande `python`\n",
    "  soit cherchée ailleurs\n",
    "* pour en sortir, et revenir dans `base`, vous faites  \n",
    "  `conda deactivate`"
   ]
  },
  {
   "cell_type": "markdown",
   "id": "4e7ef1a7",
   "metadata": {},
   "source": [
    "### exemple de session"
   ]
  },
  {
   "cell_type": "markdown",
   "id": "47b95ae9",
   "metadata": {},
   "source": [
    "voici à titre indicatif une session sous MacOS pour illustrer tout ceci\n",
    "\n",
    "vous remarquerez comme le *prompt* bash reflète **l'environnement dans lequel on se\n",
    "trouve**, ça semble **relativement impératif** si on ne veut pas s'emmêler les pinceaux;\n",
    "surtout n'utilisez pas cette technologie si votre prompt ne montre pas l'environnement\n",
    "courant, c'est beaucoup trop facile de se tirer une balle dans le pied si on n'a pas cet\n",
    "aide-mémoire"
   ]
  },
  {
   "cell_type": "markdown",
   "id": "def8bad3",
   "metadata": {},
   "source": [
    "#### la liste de mes environnements\n",
    "```\n",
    "[base] ~ $ conda env list\n",
    "# conda environments:\n",
    "#\n",
    "base                  *  /Users/tparment/miniconda3\n",
    "<snip ...>\n",
    "```"
   ]
  },
  {
   "cell_type": "markdown",
   "id": "dadee703",
   "metadata": {},
   "source": [
    "#### j'en crée un nouveau avec Python-3.8\n",
    "\n",
    "```\n",
    "[base] ~ $ conda create -n demo-py38 python=3.8\n",
    "Collecting package metadata (current_repodata.json): done\n",
    "Solving environment: done\n",
    "<snip ...>\n",
    "```"
   ]
  },
  {
   "cell_type": "markdown",
   "id": "b3ff9071",
   "metadata": {},
   "source": [
    "#### on le voit\n",
    "```\n",
    "[base] ~ $ conda env list\n",
    "# conda environments:\n",
    "#\n",
    "base                  *  /Users/tparment/miniconda3\n",
    "demo-py38                /Users/tparment/miniconda3/envs/demo-py38\n",
    "<snip...>\n",
    "```"
   ]
  },
  {
   "cell_type": "markdown",
   "id": "2d515f2c",
   "metadata": {},
   "source": [
    "##### pour entrer dans le nouvel environnement\n",
    "\n",
    "```\n",
    "[base] ~ $ conda activate demo-py38\n",
    "[demo-py38] ~ $\n",
    "```"
   ]
  },
  {
   "cell_type": "markdown",
   "id": "c67826cd",
   "metadata": {},
   "source": [
    "#### les packages installés\n",
    "\n",
    "très peu de choses\n",
    "\n",
    "```\n",
    "[demo-py38] ~ $ pip list\n",
    "Package    Version\n",
    "---------- -------------------\n",
    "certifi    2020.4.5.1\n",
    "pip        20.0.2\n",
    "setuptools 46.2.0.post20200511\n",
    "wheel      0.34.2\n",
    "```"
   ]
  },
  {
   "cell_type": "markdown",
   "id": "b93d493e",
   "metadata": {},
   "source": [
    "#### on y installe ce qu'on veut\n",
    "```\n",
    "[demo-py38] ~ $ pip install numpy==1.15.3\n",
    "```"
   ]
  },
  {
   "cell_type": "markdown",
   "id": "dbf078d9",
   "metadata": {},
   "source": [
    "#### la version de python\n",
    "```\n",
    "[demo-py38] ~ $ python --version\n",
    "Python 3.8.2\n",
    "```"
   ]
  },
  {
   "cell_type": "markdown",
   "id": "645a934c",
   "metadata": {},
   "source": [
    "#### sortir \n",
    "```\n",
    "[demo-py38] ~ $ conda deactivate\n",
    "[base] ~ $\n",
    "```"
   ]
  },
  {
   "cell_type": "markdown",
   "id": "6bd40e8a",
   "metadata": {},
   "source": [
    "#### la version de python\n",
    "```\n",
    "[base] ~ $ python --version\n",
    "Python 3.7.6\n",
    "```"
   ]
  },
  {
   "cell_type": "markdown",
   "id": "88ec8225",
   "metadata": {},
   "source": [
    "#### on n'a pas perturbé l'environnement de départ\n",
    "```\n",
    "[base] ~ $ pip show numpy\n",
    "Name: numpy\n",
    "Version: 1.18.1\n",
    "```"
   ]
  },
  {
   "cell_type": "markdown",
   "id": "96857265",
   "metadata": {},
   "source": [
    "#### pour détruire l'environnement en question\n",
    "```\n",
    "[base] ~ $ conda env remove -n demo-py38\n",
    "\n",
    "Remove all packages in environment /Users/tparment/miniconda3/envs/demo-py38:\n",
    "```"
   ]
  },
  {
   "cell_type": "markdown",
   "id": "75a07be9",
   "metadata": {},
   "source": [
    "### retour dans vs-code"
   ]
  },
  {
   "cell_type": "markdown",
   "id": "d36ee8c1",
   "metadata": {},
   "source": [
    "* créez un nouvel environnement miniconda avec Python-3.8\n",
    "* de retour dans vs-code, sélectionnez cet environnement\n",
    "\n",
    "notez que ce réglage est associé au *workspace* vs-code\n",
    "\n",
    "c'est quoi un *workspace* ? ça correspond en gros à la sauvegarde de l'état de l'éditeur\n",
    "lui-même : la liste des fichiers en cours d'édition, les onglets ouverts, etc…  \n",
    "\n",
    "pour expérimenter, créez une session vs-code dans un directory, choisissez votre\n",
    "environnement Python, sortez de la session; ré-ouvrez vs-code sur le même répertoire, vous\n",
    "devez retrouver ce réglage"
   ]
  }
 ],
 "metadata": {
  "jupytext": {
   "cell_metadata_filter": "all, -hidden, -heading_collapsed, -run_control, -trusted",
   "notebook_metadata_filter": "all, -jupytext.text_representation.jupytext_version, -jupytext.text_representation.format_version, -language_info.version, -language_info.codemirror_mode.version, -language_info.codemirror_mode, -language_info.file_extension, -language_info.mimetype, -toc",
   "text_representation": {
    "extension": ".md",
    "format_name": "myst"
   }
  },
  "kernelspec": {
   "display_name": "Calysto Bash",
   "language": "bash",
   "name": "calysto_bash"
  },
  "language_info": {
   "file_extension": ".sh",
   "help_links": [
    {
     "text": "MetaKernel Magics",
     "url": "https://metakernel.readthedocs.io/en/latest/source/README.html"
    }
   ],
   "mimetype": "text/x-sh",
   "name": "bash",
   "version": "0.2.2"
  },
  "notebookname": "outils de base",
  "source_map": [
   21,
   34,
   40,
   50,
   54,
   63,
   70,
   79,
   83,
   93,
   143,
   148,
   155,
   166,
   170,
   183,
   195,
   217,
   221,
   241,
   258,
   280,
   284,
   288,
   293,
   300,
   307,
   311,
   317,
   329,
   343,
   349,
   355,
   366,
   370,
   388,
   392,
   403,
   409,
   420,
   425,
   429,
   435,
   440,
   448,
   454,
   467,
   471,
   477,
   494,
   506,
   542,
   546,
   551,
   553,
   557,
   559,
   563,
   568,
   570,
   574,
   580,
   586,
   589,
   600,
   606,
   610,
   641,
   645,
   656,
   666,
   682,
   686,
   697,
   705,
   709,
   720,
   726,
   732,
   736,
   740,
   747,
   751,
   755,
   765,
   774,
   778,
   790,
   794,
   806,
   810,
   820,
   824,
   831,
   835,
   856,
   860,
   866,
   870,
   874,
   876,
   880,
   906,
   910,
   921,
   925,
   944,
   955,
   959,
   969,
   976,
   980,
   989,
   993,
   1001,
   1010,
   1014,
   1019,
   1021,
   1025,
   1035,
   1041,
   1055,
   1059,
   1068,
   1073,
   1079,
   1087,
   1094,
   1109,
   1117,
   1123,
   1136,
   1142,
   1151,
   1157,
   1161,
   1165,
   1177,
   1186,
   1190,
   1197,
   1207,
   1216,
   1220,
   1235,
   1241,
   1245,
   1249,
   1253,
   1260,
   1274,
   1280,
   1284,
   1295,
   1300,
   1304,
   1308,
   1324,
   1328,
   1344,
   1348,
   1352,
   1361,
   1373,
   1388,
   1392,
   1396,
   1407,
   1413,
   1417,
   1426,
   1434,
   1448,
   1452,
   1462,
   1473,
   1484,
   1496,
   1505,
   1521,
   1528,
   1536,
   1544,
   1552,
   1561,
   1570,
   1574
  ],
  "version": "1.0"
 },
 "nbformat": 4,
 "nbformat_minor": 5
}