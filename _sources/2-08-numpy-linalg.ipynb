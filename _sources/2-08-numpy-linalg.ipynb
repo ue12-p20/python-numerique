{
 "cells": [
  {
   "cell_type": "markdown",
   "id": "d7388183",
   "metadata": {},
   "source": [
    "<div class=\"licence\">\n",
    "<span>Licence CC BY-NC-ND</span>\n",
    "<span>Valérie Roy</span>\n",
    "</div>\n",
    "\n",
    "<img src=\"media/ensmp-25-alpha.png\" />"
   ]
  },
  {
   "cell_type": "code",
   "execution_count": 1,
   "id": "7632f589",
   "metadata": {},
   "outputs": [],
   "source": [
    "import numpy as np"
   ]
  },
  {
   "cell_type": "markdown",
   "id": "30b9c0b5",
   "metadata": {},
   "source": [
    "# algèbre linéaire"
   ]
  },
  {
   "cell_type": "markdown",
   "id": "a36e9eb0",
   "metadata": {},
   "source": [
    "Un des premières utilisations de la librarie `numpy` sera faite dans le cadre des cours de mathématiques et de la manipulation de matrices.\n",
    "\n",
    "Aussi allons-nous voir dans ce notebook les quelques fonctions d'algèbre linéaire qui vont vous être utiles, naturellement il vous faudra vous référer au site de Python-scientifique pour chercher des fonctions plus avancées."
   ]
  },
  {
   "cell_type": "markdown",
   "id": "00cd610d",
   "metadata": {
    "tags": [
     "level_intermediate"
    ]
   },
   "source": [
    "Il faut savoir que les fonctions d'algèbre linéaire des libraries `np.linalg` sont tout particulièrement efficaces et ce pour plusieurs raisons:\n",
    "   1. déjà ces fontions s'appuient sur les algorithmes efficaces \n",
    "   1. ensuite ces fonctions sont codées dans des langages de *bas niveau* très proches de la mémoire donc rapides\n",
    "   1. enfin les implémentations tirent parti du multithreading (où un programme est découpé en sous-programmes s'exécutant *en même temps*) qui permet de grandement améliorer les temps de calculs.\n",
    "\n",
    "Il existe des différences entre les fonctions de `numpy` et de `scipy` mais nous n'en dirons pas plus référez vous aux explications des concepteurs de ces librairies comme là  https://docs.scipy.org/doc/numpy/reference/routines.linalg.html"
   ]
  },
  {
   "cell_type": "code",
   "execution_count": 2,
   "id": "68c9805e",
   "metadata": {},
   "outputs": [],
   "source": [
    "import numpy as np"
   ]
  },
  {
   "cell_type": "markdown",
   "id": "d645929a",
   "metadata": {},
   "source": [
    "La première chose à savoir c'est que naturellement les fonctions `numpy` vont s'appliquer sur des tableaux de dimensions supérieures à 2 mais, nous n'allons voir ici, que les vecteurs et matrices donc rester en dimension < à 3."
   ]
  },
  {
   "cell_type": "markdown",
   "id": "ac61e6d2",
   "metadata": {},
   "source": [
    "Nous n'avons vu pour l'instant que des opérations élément par élément. Comme par exemple le `np.mult` ou encore `*`, qui est le *produit matriciel de Hadamard*. Voyons maintenant les fonctions dédiées à l'algèbre linéaire."
   ]
  },
  {
   "cell_type": "markdown",
   "id": "c30011ce",
   "metadata": {},
   "source": [
    "## application linéaire"
   ]
  },
  {
   "cell_type": "markdown",
   "id": "27871633",
   "metadata": {},
   "source": [
    "On va se mettre d'accord sur matrice, vecteur et produit en `numpy`.\n",
    "\n",
    "Attention, comme les matrices et les vecteurs seront des `np.ndarray`, il faudra naturellement faire attention au type des éléments, lors d'éventuelles modifications. Si on tente de modifier un élément d'une matrice de type entier avec un nombre flottant, celui-ci sera tronqué et transformé en entier: vous perdrez de l'information."
   ]
  },
  {
   "cell_type": "markdown",
   "id": "3495d341",
   "metadata": {},
   "source": [
    "### la matrice"
   ]
  },
  {
   "cell_type": "markdown",
   "id": "741548e3",
   "metadata": {},
   "source": [
    "Une matrice $A$ de dimension $m$ lignes et $n$ colonnes, qui représente une application linéaire $f$ d'un espace de dimension $n$ vers un espace de dimension $m$, est un `np.ndarray` de forme $(m, n)$."
   ]
  },
  {
   "cell_type": "markdown",
   "id": "97aec344",
   "metadata": {},
   "source": [
    "Voila un exemple d'une matrice $A$ de dimension $(2 \\times 3)$"
   ]
  },
  {
   "cell_type": "code",
   "execution_count": 3,
   "id": "05ba8971",
   "metadata": {},
   "outputs": [
    {
     "data": {
      "text/plain": [
       "array([[ 2,  3, -7],\n",
       "       [ 6, -4,  5]])"
      ]
     },
     "execution_count": 3,
     "metadata": {},
     "output_type": "execute_result"
    }
   ],
   "source": [
    "A = np.array([[2, 3, -7], [6, -4, 5]])\n",
    "A"
   ]
  },
  {
   "cell_type": "markdown",
   "id": "1595f487",
   "metadata": {},
   "source": [
    "### le vecteur"
   ]
  },
  {
   "cell_type": "markdown",
   "id": "f0dfd658",
   "metadata": {},
   "source": [
    "Un vecteur $V$ de taille $n$, qui représente un vecteur d'un espace vectoriel de dimension $n$, est un `np.ndarray` de forme $(n,)$."
   ]
  },
  {
   "cell_type": "markdown",
   "id": "563143d1",
   "metadata": {},
   "source": [
    "Voila un exemple de vecteur $V$ de dimension $(3,)$"
   ]
  },
  {
   "cell_type": "code",
   "execution_count": 4,
   "id": "9bf2e763",
   "metadata": {},
   "outputs": [
    {
     "data": {
      "text/plain": [
       "array([ 1, -3,  8])"
      ]
     },
     "execution_count": 4,
     "metadata": {},
     "output_type": "execute_result"
    }
   ],
   "source": [
    "V = np.array([1, -3, 8])\n",
    "V"
   ]
  },
  {
   "cell_type": "markdown",
   "id": "d8ade274",
   "metadata": {},
   "source": [
    "Attention les `numpy.ndarray` suivant ne sont pas des vecteurs mais des matrices. Il y a bien deux dimensions."
   ]
  },
  {
   "cell_type": "code",
   "execution_count": 5,
   "id": "e7940f29",
   "metadata": {},
   "outputs": [
    {
     "data": {
      "text/plain": [
       "(1, 3)"
      ]
     },
     "execution_count": 5,
     "metadata": {},
     "output_type": "execute_result"
    }
   ],
   "source": [
    "np.array([[100, 200, 300]]).shape"
   ]
  },
  {
   "cell_type": "code",
   "execution_count": 6,
   "id": "0c6e301e",
   "metadata": {},
   "outputs": [
    {
     "data": {
      "text/plain": [
       "(3, 1)"
      ]
     },
     "execution_count": 6,
     "metadata": {},
     "output_type": "execute_result"
    }
   ],
   "source": [
    "np.array([[100], [200], [300]]).shape"
   ]
  },
  {
   "cell_type": "markdown",
   "id": "7de4056e",
   "metadata": {},
   "source": [
    "Celui là est un vecteur au sens de l'UE11."
   ]
  },
  {
   "cell_type": "code",
   "execution_count": 7,
   "id": "09c5c572",
   "metadata": {},
   "outputs": [
    {
     "data": {
      "text/plain": [
       "(3,)"
      ]
     },
     "execution_count": 7,
     "metadata": {},
     "output_type": "execute_result"
    }
   ],
   "source": [
    "np.array([100, 200, 300]).shape"
   ]
  },
  {
   "cell_type": "markdown",
   "id": "580214d0",
   "metadata": {},
   "source": [
    "### le produit d'une matrice et d'un vecteur"
   ]
  },
  {
   "cell_type": "markdown",
   "id": "6fb32c80",
   "metadata": {},
   "source": [
    "Le produit $A \\cdot V$ représente $f(V)$."
   ]
  },
  {
   "cell_type": "markdown",
   "id": "d40e6010",
   "metadata": {},
   "source": [
    "Quel est en `numpy` le produit qu'on appelle ici $\\times$ ? C'est la fonction `np.dot` (ou encore la méthode `np.ndarray.dot`)."
   ]
  },
  {
   "cell_type": "markdown",
   "id": "03a9a02c",
   "metadata": {},
   "source": [
    "Calculons $A \\cdot V$"
   ]
  },
  {
   "cell_type": "code",
   "execution_count": 8,
   "id": "5eefbae8",
   "metadata": {
    "cell_style": "split"
   },
   "outputs": [
    {
     "data": {
      "text/plain": [
       "array([-63,  58])"
      ]
     },
     "execution_count": 8,
     "metadata": {},
     "output_type": "execute_result"
    }
   ],
   "source": [
    "# la fonction\n",
    "np.dot(A, V)"
   ]
  },
  {
   "cell_type": "code",
   "execution_count": 9,
   "id": "5caabd27",
   "metadata": {
    "cell_style": "split"
   },
   "outputs": [
    {
     "data": {
      "text/plain": [
       "array([-63,  58])"
      ]
     },
     "execution_count": 9,
     "metadata": {},
     "output_type": "execute_result"
    }
   ],
   "source": [
    "# la méthode\n",
    "A.dot(V)"
   ]
  },
  {
   "cell_type": "markdown",
   "id": "29b61151",
   "metadata": {},
   "source": [
    "### le produit de deux matrices"
   ]
  },
  {
   "cell_type": "markdown",
   "id": "728812d1",
   "metadata": {},
   "source": [
    "Maintenant prenons $A$ et $B$, deux matrices représentant respectivement les applications linéaires $f$ et $g$, le produit de matrices $A \\cdot B$ est la composition des applications $ƒ ￮ g$."
   ]
  },
  {
   "cell_type": "markdown",
   "id": "e0a8683d",
   "metadata": {},
   "source": [
    "$A$ on l'a déjà, prenons $B$"
   ]
  },
  {
   "cell_type": "code",
   "execution_count": 10,
   "id": "0183bff3",
   "metadata": {},
   "outputs": [
    {
     "data": {
      "text/plain": [
       "array([[-5,  4],\n",
       "       [ 3,  9],\n",
       "       [-4,  2]])"
      ]
     },
     "execution_count": 10,
     "metadata": {},
     "output_type": "execute_result"
    }
   ],
   "source": [
    "B = np.array([[-5, 4], [3, 9], [-4, 2]])\n",
    "B"
   ]
  },
  {
   "cell_type": "code",
   "execution_count": 11,
   "id": "64c7a180",
   "metadata": {
    "cell_style": "split"
   },
   "outputs": [
    {
     "data": {
      "text/plain": [
       "array([[ 27,  21],\n",
       "       [-62,  -2]])"
      ]
     },
     "execution_count": 11,
     "metadata": {},
     "output_type": "execute_result"
    }
   ],
   "source": [
    "np.dot(A, B)"
   ]
  },
  {
   "cell_type": "code",
   "execution_count": 12,
   "id": "5cc1c888",
   "metadata": {
    "cell_style": "split"
   },
   "outputs": [
    {
     "data": {
      "text/plain": [
       "array([[ 27,  21],\n",
       "       [-62,  -2]])"
      ]
     },
     "execution_count": 12,
     "metadata": {},
     "output_type": "execute_result"
    }
   ],
   "source": [
    "A.dot(B)"
   ]
  },
  {
   "cell_type": "markdown",
   "id": "e492d76b",
   "metadata": {},
   "source": [
    "### raccourci  *@* pour le produit matriciel\n",
    "\n",
    "Il s'avère que `numpy` possède un fonction `np.matmul` (qui en dimension 2 est à peu près équivalente à `np.dot`) et qui s'écrit aussi sous la forme *@*"
   ]
  },
  {
   "cell_type": "code",
   "execution_count": 13,
   "id": "138165c4",
   "metadata": {},
   "outputs": [
    {
     "data": {
      "text/plain": [
       "array([[ 27,  21],\n",
       "       [-62,  -2]])"
      ]
     },
     "execution_count": 13,
     "metadata": {},
     "output_type": "execute_result"
    }
   ],
   "source": [
    "np.matmul(A, B)"
   ]
  },
  {
   "cell_type": "code",
   "execution_count": 14,
   "id": "5f435f18",
   "metadata": {
    "cell_style": "center"
   },
   "outputs": [
    {
     "data": {
      "text/plain": [
       "array([[ 27,  21],\n",
       "       [-62,  -2]])"
      ]
     },
     "execution_count": 14,
     "metadata": {},
     "output_type": "execute_result"
    }
   ],
   "source": [
    "A @ B"
   ]
  },
  {
   "cell_type": "markdown",
   "id": "bf015419",
   "metadata": {},
   "source": [
    "Il existe des différences entre `np.matmul` et `np.dot`  tout d'abord , la multiplication par un scalaire n'est possible qu'avec `np.dot` mais surtout en dimensions supérieure à 2 leur comportement diffère complètement.\n",
    "\n",
    "Préférer utiliser `np.dot` (ou demandez à votre professeur de math)."
   ]
  },
  {
   "cell_type": "markdown",
   "id": "336bd909",
   "metadata": {},
   "source": [
    "## le produit scalaire"
   ]
  },
  {
   "cell_type": "markdown",
   "id": "30a0ee71",
   "metadata": {},
   "source": [
    "Si on applique le produit `np.dot` à deux vecteurs on en obtient le produit scalaire."
   ]
  },
  {
   "cell_type": "code",
   "execution_count": 15,
   "id": "5f434ac5",
   "metadata": {},
   "outputs": [
    {
     "data": {
      "text/plain": [
       "array([ 1, -3,  8])"
      ]
     },
     "execution_count": 15,
     "metadata": {},
     "output_type": "execute_result"
    }
   ],
   "source": [
    "V1 = np.array([1, -3, 8])\n",
    "V1"
   ]
  },
  {
   "cell_type": "code",
   "execution_count": 16,
   "id": "ec1c4efc",
   "metadata": {},
   "outputs": [
    {
     "data": {
      "text/plain": [
       "array([-6,  4, -7])"
      ]
     },
     "execution_count": 16,
     "metadata": {},
     "output_type": "execute_result"
    }
   ],
   "source": [
    "V2 = np.array([-6, 4, -7])\n",
    "V2"
   ]
  },
  {
   "cell_type": "code",
   "execution_count": 17,
   "id": "8691e159",
   "metadata": {
    "cell_style": "split"
   },
   "outputs": [
    {
     "data": {
      "text/plain": [
       "-74"
      ]
     },
     "execution_count": 17,
     "metadata": {},
     "output_type": "execute_result"
    }
   ],
   "source": [
    "np.dot(V1, V2)"
   ]
  },
  {
   "cell_type": "markdown",
   "id": "5eb595ec",
   "metadata": {},
   "source": [
    "## la norme de vecteur"
   ]
  },
  {
   "cell_type": "markdown",
   "id": "c2dab717",
   "metadata": {},
   "source": [
    "Pour un vecteur $V1 =[v_1, ..., v_n]$, , la norme `np.linalg.norm` sera la racine carré du produit scalaire par lui-même $\\displaystyle \\left\\|{ {V}}\\right\\|_{2}={\\sqrt {v_{1}^{2}+\\cdots +v_{n}^{2}}}$"
   ]
  },
  {
   "cell_type": "code",
   "execution_count": 18,
   "id": "4697f6d2",
   "metadata": {
    "cell_style": "split"
   },
   "outputs": [
    {
     "data": {
      "text/plain": [
       "8.602325267042627"
      ]
     },
     "execution_count": 18,
     "metadata": {},
     "output_type": "execute_result"
    }
   ],
   "source": [
    "# la fonction idoine\n",
    "np.linalg.norm(V1)"
   ]
  },
  {
   "cell_type": "code",
   "execution_count": 19,
   "id": "805f65fd",
   "metadata": {
    "cell_style": "split"
   },
   "outputs": [
    {
     "data": {
      "text/plain": [
       "8.602325267042627"
      ]
     },
     "execution_count": 19,
     "metadata": {},
     "output_type": "execute_result"
    }
   ],
   "source": [
    "# qu'on peut naturellement paraphraser en\n",
    "np.sqrt(V1.dot(V1))"
   ]
  },
  {
   "cell_type": "markdown",
   "id": "3c69ba2d",
   "metadata": {},
   "source": [
    "Pour les autres normes de matrices et vecteurs regardez là https://np.org/doc/stable/reference/generated/np.linalg.norm.html#np.linalg.norm"
   ]
  },
  {
   "cell_type": "markdown",
   "id": "7aa37130",
   "metadata": {},
   "source": [
    "## la transposée d'une matrice"
   ]
  },
  {
   "cell_type": "markdown",
   "id": "260c33a4",
   "metadata": {},
   "source": [
    "C'est la fonction `np.transpose`. Elle a une version courte `.T` pour écrire des codes plus lisibles."
   ]
  },
  {
   "cell_type": "code",
   "execution_count": 20,
   "id": "3669e6e2",
   "metadata": {},
   "outputs": [
    {
     "data": {
      "text/plain": [
       "array([[ 1,  2,  3],\n",
       "       [ 4,  5,  6],\n",
       "       [ 7,  8,  9],\n",
       "       [10, 11, 12]])"
      ]
     },
     "execution_count": 20,
     "metadata": {},
     "output_type": "execute_result"
    }
   ],
   "source": [
    "A = np.arange(1, 13).reshape(4, 3)\n",
    "A"
   ]
  },
  {
   "cell_type": "code",
   "execution_count": 21,
   "id": "38b86959",
   "metadata": {
    "cell_style": "split"
   },
   "outputs": [
    {
     "data": {
      "text/plain": [
       "array([[ 1,  4,  7, 10],\n",
       "       [ 2,  5,  8, 11],\n",
       "       [ 3,  6,  9, 12]])"
      ]
     },
     "execution_count": 21,
     "metadata": {},
     "output_type": "execute_result"
    }
   ],
   "source": [
    "np.transpose(A)"
   ]
  },
  {
   "cell_type": "code",
   "execution_count": 22,
   "id": "65fa8fda",
   "metadata": {
    "cell_style": "split"
   },
   "outputs": [
    {
     "data": {
      "text/plain": [
       "array([[ 1,  4,  7, 10],\n",
       "       [ 2,  5,  8, 11],\n",
       "       [ 3,  6,  9, 12]])"
      ]
     },
     "execution_count": 22,
     "metadata": {},
     "output_type": "execute_result"
    }
   ],
   "source": [
    "A.T"
   ]
  },
  {
   "cell_type": "markdown",
   "id": "470e386a",
   "metadata": {},
   "source": [
    "## les matrices identité"
   ]
  },
  {
   "cell_type": "markdown",
   "id": "9a412067",
   "metadata": {},
   "source": [
    "En `numpy` la fonction porte le très joli nom de `eye` (parce que *eye* et *I* se prononcent pareil), elle renvoie des matrices de type flottant."
   ]
  },
  {
   "cell_type": "code",
   "execution_count": 23,
   "id": "f227f6ed",
   "metadata": {},
   "outputs": [
    {
     "data": {
      "text/plain": [
       "array([[1., 0., 0., 0., 0.],\n",
       "       [0., 1., 0., 0., 0.],\n",
       "       [0., 0., 1., 0., 0.],\n",
       "       [0., 0., 0., 1., 0.],\n",
       "       [0., 0., 0., 0., 1.]])"
      ]
     },
     "execution_count": 23,
     "metadata": {},
     "output_type": "execute_result"
    }
   ],
   "source": [
    "A = np.eye(5)\n",
    "A"
   ]
  },
  {
   "cell_type": "markdown",
   "id": "a84f6fe1",
   "metadata": {},
   "source": [
    "## le déterminant d'une matrice\n",
    "\n",
    "Il est donné par la fonction `np.linalg.det`"
   ]
  },
  {
   "cell_type": "code",
   "execution_count": 24,
   "id": "9cda0c13",
   "metadata": {},
   "outputs": [
    {
     "data": {
      "text/plain": [
       "array([[2., 0., 0.],\n",
       "       [0., 2., 0.],\n",
       "       [0., 0., 2.]])"
      ]
     },
     "execution_count": 24,
     "metadata": {},
     "output_type": "execute_result"
    }
   ],
   "source": [
    "A = 2*np.eye(3)\n",
    "A"
   ]
  },
  {
   "cell_type": "code",
   "execution_count": 25,
   "id": "67495255",
   "metadata": {},
   "outputs": [
    {
     "data": {
      "text/plain": [
       "7.999999999999998"
      ]
     },
     "execution_count": 25,
     "metadata": {},
     "output_type": "execute_result"
    }
   ],
   "source": [
    "np.linalg.det(A)"
   ]
  },
  {
   "cell_type": "markdown",
   "id": "36d9b443",
   "metadata": {},
   "source": [
    "Essayez de l'appliquer à une matrice qui n'est pas carrée ? Vous allez recevoir une `np.linalg.LinAlgError` !"
   ]
  },
  {
   "cell_type": "code",
   "execution_count": 26,
   "id": "3ccaa819",
   "metadata": {},
   "outputs": [
    {
     "name": "stdout",
     "output_type": "stream",
     "text": [
      "Oups pas bon ! ou en mieux dit \"Last 2 dimensions of the array must be square\"\n"
     ]
    }
   ],
   "source": [
    "B = np.random.random(size=(3, 4))*10\n",
    "try:\n",
    "    np.linalg.det(B)\n",
    "except np.linalg.LinAlgError as e:\n",
    "    print(f'Oups pas bon ! ou en mieux dit \"{e}\"')"
   ]
  },
  {
   "cell_type": "markdown",
   "id": "86836743",
   "metadata": {
    "tags": [
     "level_basic"
    ]
   },
   "source": [
    "A vous de jouer. Faites une isométrie (une transformation qui conserve les longueurs) et calculez son déterminant."
   ]
  },
  {
   "cell_type": "code",
   "execution_count": 27,
   "id": "cf0775da",
   "metadata": {},
   "outputs": [],
   "source": [
    "# votre code ici (une solution dessous)"
   ]
  },
  {
   "cell_type": "code",
   "execution_count": 28,
   "id": "bf2d0fe0",
   "metadata": {},
   "outputs": [
    {
     "name": "stdout",
     "output_type": "stream",
     "text": [
      "[[ 0 -1]\n",
      " [ 1  0]]\n"
     ]
    },
    {
     "data": {
      "text/plain": [
       "1.0"
      ]
     },
     "execution_count": 28,
     "metadata": {},
     "output_type": "execute_result"
    }
   ],
   "source": [
    "M = np.array([[0, -1], [1, 0]])\n",
    "print(M)\n",
    "np.linalg.det(M)"
   ]
  },
  {
   "cell_type": "code",
   "execution_count": 29,
   "id": "dba4ff19",
   "metadata": {},
   "outputs": [
    {
     "name": "stdout",
     "output_type": "stream",
     "text": [
      "[[ 0 -1]\n",
      " [ 1  0]]\n"
     ]
    },
    {
     "data": {
      "text/plain": [
       "1.0"
      ]
     },
     "execution_count": 29,
     "metadata": {},
     "output_type": "execute_result"
    }
   ],
   "source": [
    "# une isométrie\n",
    "M = np.array([[0, -1], [1, 0]])\n",
    "print(M)\n",
    "np.linalg.det(M)"
   ]
  },
  {
   "cell_type": "markdown",
   "id": "b430d351",
   "metadata": {},
   "source": [
    "## les matrices diagonales\n",
    "\n",
    "On peut créer une matrice diagonale à partir de la liste des éléments de sa diagonale"
   ]
  },
  {
   "cell_type": "code",
   "execution_count": 30,
   "id": "6f6634d3",
   "metadata": {},
   "outputs": [
    {
     "data": {
      "text/plain": [
       "array([[1., 0., 0.],\n",
       "       [0., 2., 0.],\n",
       "       [0., 0., 3.]])"
      ]
     },
     "execution_count": 30,
     "metadata": {},
     "output_type": "execute_result"
    }
   ],
   "source": [
    "np.diag([1., 2, 3])"
   ]
  },
  {
   "cell_type": "markdown",
   "id": "7edbea44",
   "metadata": {},
   "source": [
    "On peut aussi extraire la matrice diagonale d'une matrice."
   ]
  },
  {
   "cell_type": "code",
   "execution_count": 31,
   "id": "4f425d0b",
   "metadata": {},
   "outputs": [
    {
     "data": {
      "text/plain": [
       "array([[-19,  58,   1],\n",
       "       [-57, -52,  65],\n",
       "       [-84,  83, -21]])"
      ]
     },
     "execution_count": 31,
     "metadata": {},
     "output_type": "execute_result"
    }
   ],
   "source": [
    "A = np.random.randint(-100, +100, size=(3, 3))\n",
    "A"
   ]
  },
  {
   "cell_type": "code",
   "execution_count": 32,
   "id": "736d9917",
   "metadata": {
    "cell_style": "center"
   },
   "outputs": [
    {
     "data": {
      "text/plain": [
       "array([-19, -52, -21])"
      ]
     },
     "execution_count": 32,
     "metadata": {},
     "output_type": "execute_result"
    }
   ],
   "source": [
    "# returns the diagonal of b\n",
    "np.diag(A) "
   ]
  },
  {
   "cell_type": "code",
   "execution_count": 33,
   "id": "c934a305",
   "metadata": {
    "cell_style": "split"
   },
   "outputs": [
    {
     "data": {
      "text/plain": [
       "array([[1, 0, 0],\n",
       "       [0, 2, 0],\n",
       "       [0, 0, 3]])"
      ]
     },
     "execution_count": 33,
     "metadata": {},
     "output_type": "execute_result"
    }
   ],
   "source": [
    "# creates a diagonal matrix\n",
    "np.diag([1, 2, 3])"
   ]
  },
  {
   "cell_type": "markdown",
   "id": "94de59ed",
   "metadata": {},
   "source": [
    "## la trace d'une matrice\n",
    "\n",
    "C'est la somme des éléments de sa diagonale."
   ]
  },
  {
   "cell_type": "code",
   "execution_count": 34,
   "id": "8b81b91a",
   "metadata": {},
   "outputs": [
    {
     "data": {
      "text/plain": [
       "array([[ 0,  1,  2,  3],\n",
       "       [ 4,  5,  6,  7],\n",
       "       [ 8,  9, 10, 11],\n",
       "       [12, 13, 14, 15]])"
      ]
     },
     "execution_count": 34,
     "metadata": {},
     "output_type": "execute_result"
    }
   ],
   "source": [
    "A = np.arange(16).reshape(4, 4)\n",
    "A"
   ]
  },
  {
   "cell_type": "code",
   "execution_count": 35,
   "id": "ab08fce8",
   "metadata": {
    "cell_style": "split"
   },
   "outputs": [
    {
     "data": {
      "text/plain": [
       "30"
      ]
     },
     "execution_count": 35,
     "metadata": {},
     "output_type": "execute_result"
    }
   ],
   "source": [
    "np.trace(A)"
   ]
  },
  {
   "cell_type": "code",
   "execution_count": 36,
   "id": "2d4feb9d",
   "metadata": {
    "cell_style": "split"
   },
   "outputs": [
    {
     "data": {
      "text/plain": [
       "30"
      ]
     },
     "execution_count": 36,
     "metadata": {},
     "output_type": "execute_result"
    }
   ],
   "source": [
    "np.sum(np.diag(A))"
   ]
  },
  {
   "cell_type": "markdown",
   "id": "c6fd110e",
   "metadata": {},
   "source": [
    "## l'inversion d'une matrice\n",
    "\n",
    "c'est le calcul de $A^{-1}$"
   ]
  },
  {
   "cell_type": "code",
   "execution_count": 37,
   "id": "c3b97234",
   "metadata": {
    "cell_style": "center"
   },
   "outputs": [
    {
     "data": {
      "text/plain": [
       "array([[0, 1, 0],\n",
       "       [0, 0, 1],\n",
       "       [1, 0, 0]])"
      ]
     },
     "execution_count": 37,
     "metadata": {},
     "output_type": "execute_result"
    }
   ],
   "source": [
    "# prenons une rotation\n",
    "R = np.array([0, 1, 0, 0, 0, 1, 1, 0, 0]).reshape(3, 3)\n",
    "R"
   ]
  },
  {
   "cell_type": "code",
   "execution_count": 38,
   "id": "cdb65e77",
   "metadata": {},
   "outputs": [
    {
     "data": {
      "text/plain": [
       "array([[0., 0., 1.],\n",
       "       [1., 0., 0.],\n",
       "       [0., 1., 0.]])"
      ]
     },
     "execution_count": 38,
     "metadata": {},
     "output_type": "execute_result"
    }
   ],
   "source": [
    "# pour calculer son inverse\n",
    "np.linalg.inv(R)"
   ]
  },
  {
   "cell_type": "markdown",
   "id": "cde982ab",
   "metadata": {},
   "source": [
    "pour nous convaincre que ça fonctionne comme attendu :  \n",
    "lorsqu'en maths on écrit $A^{-1}A = I$, en informatique c'est $A^{-1}A \\approx I$ (presque égal à cause des approximations)  \n",
    "\n",
    "c'est l'intérêt de `np.close` que de comparer si deux tableaux sont presque identiques"
   ]
  },
  {
   "cell_type": "code",
   "execution_count": 39,
   "id": "ce5a9e85",
   "metadata": {
    "cell_style": "center"
   },
   "outputs": [
    {
     "data": {
      "text/plain": [
       "array([[0.93373119, 0.10523338, 0.87603714],\n",
       "       [0.49950209, 0.36287213, 0.33904144],\n",
       "       [0.61549253, 0.16558198, 0.41256615]])"
      ]
     },
     "execution_count": 39,
     "metadata": {},
     "output_type": "execute_result"
    }
   ],
   "source": [
    "# on prend maintenant une matrice quelconque\n",
    "n = 3\n",
    "A = np.random.random(size=(n, n))\n",
    "A"
   ]
  },
  {
   "cell_type": "code",
   "execution_count": 40,
   "id": "f9ef68be",
   "metadata": {},
   "outputs": [],
   "source": [
    "# son inverse\n",
    "Ainv = np.linalg.inv(A)"
   ]
  },
  {
   "cell_type": "markdown",
   "id": "ddcce94a",
   "metadata": {},
   "source": [
    "Vérifions que leur produit fait bien l'identité"
   ]
  },
  {
   "cell_type": "code",
   "execution_count": 41,
   "id": "f7efa1f0",
   "metadata": {},
   "outputs": [
    {
     "data": {
      "text/plain": [
       "array([[False, False, False],\n",
       "       [False,  True, False],\n",
       "       [False, False, False]])"
      ]
     },
     "execution_count": 41,
     "metadata": {},
     "output_type": "execute_result"
    }
   ],
   "source": [
    "np.dot(Ainv, A) == np.eye(n)"
   ]
  },
  {
   "cell_type": "markdown",
   "id": "183a29d8",
   "metadata": {},
   "source": [
    "Et bien oui on a des valeurs approchées."
   ]
  },
  {
   "cell_type": "code",
   "execution_count": 42,
   "id": "3cc2ca0f",
   "metadata": {},
   "outputs": [
    {
     "data": {
      "text/plain": [
       "array([[ True,  True,  True],\n",
       "       [ True,  True,  True],\n",
       "       [ True,  True,  True]])"
      ]
     },
     "execution_count": 42,
     "metadata": {},
     "output_type": "execute_result"
    }
   ],
   "source": [
    "np.isclose(  Ainv @ A,  np.eye(n))"
   ]
  },
  {
   "cell_type": "markdown",
   "id": "85d9284d",
   "metadata": {},
   "source": [
    "## les valeurs propres d'une matrice (eigen values)\n",
    "\n",
    "On va calculer les $v$ tels que:\n",
    "   - $f(v) = \\lambda v$ \n",
    "   - $M \\cdot v = \\lambda v$"
   ]
  },
  {
   "cell_type": "code",
   "execution_count": 43,
   "id": "2e09ca08",
   "metadata": {
    "cell_style": "center"
   },
   "outputs": [
    {
     "data": {
      "text/plain": [
       "array([[0.90883611, 0.21673222, 0.05352073],\n",
       "       [0.35403477, 0.19018926, 0.92288848],\n",
       "       [0.83103052, 0.18245235, 0.80158241]])"
      ]
     },
     "execution_count": 43,
     "metadata": {},
     "output_type": "execute_result"
    }
   ],
   "source": [
    "M = np.random.random(size=(3, 3))\n",
    "M"
   ]
  },
  {
   "cell_type": "code",
   "execution_count": 44,
   "id": "e382ff03",
   "metadata": {
    "cell_style": "center"
   },
   "outputs": [
    {
     "data": {
      "text/plain": [
       "(array([1.39735699, 0.29976419, 0.20348659]),\n",
       " array([[ 0.35556501,  0.34410149,  0.30018621],\n",
       "        [ 0.63124008, -0.90779779, -0.94514836],\n",
       "        [ 0.68928186, -0.23978603, -0.12877429]]))"
      ]
     },
     "execution_count": 44,
     "metadata": {},
     "output_type": "execute_result"
    }
   ],
   "source": [
    "ls, vs = np.linalg.eig(M)  # eigen_values, eigen_vectors\n",
    "ls, vs"
   ]
  },
  {
   "cell_type": "markdown",
   "id": "743f53e4",
   "metadata": {},
   "source": [
    "Vérifions qu'on a bien $M \\cdot v = \\lambda v$\n",
    "\n",
    "Attention les vecteurs propres sont dans une matrice (3, 3) et chacun d'eux est une des 3 colonnes de la matrice."
   ]
  },
  {
   "cell_type": "code",
   "execution_count": 45,
   "id": "ab84ce80",
   "metadata": {
    "cell_style": "center"
   },
   "outputs": [
    {
     "data": {
      "text/plain": [
       "True"
      ]
     },
     "execution_count": 45,
     "metadata": {},
     "output_type": "execute_result"
    }
   ],
   "source": [
    "# le premier vecteur propre\n",
    "v0 = vs[:, 0] # toutes les lignes et la colonne 0\n",
    "# la première valeur propre\n",
    "l0 = ls[0]\n",
    "np.all(np.isclose(np.dot(M, v0),  l0*v0))"
   ]
  },
  {
   "cell_type": "markdown",
   "id": "3274f9fd",
   "metadata": {},
   "source": [
    "À vous de jouer, à l'aide d'une boucle for-Python, parcourez les valeurs et les vecteurs propres de $M$ et vérifiez $M \\cdot v = \\lambda v$."
   ]
  },
  {
   "cell_type": "code",
   "execution_count": 46,
   "id": "7f3df314",
   "metadata": {},
   "outputs": [],
   "source": [
    "# votre code ici"
   ]
  },
  {
   "cell_type": "markdown",
   "id": "cc8d3c03",
   "metadata": {},
   "source": [
    "Prenons la symétrie x↔︎y et calculons ses valeurs et vecteurs propres."
   ]
  },
  {
   "cell_type": "code",
   "execution_count": 47,
   "id": "038eced3",
   "metadata": {},
   "outputs": [
    {
     "name": "stdout",
     "output_type": "stream",
     "text": [
      "[ 1. -1.]\n",
      "[[ 0.70710678 -0.70710678]\n",
      " [ 0.70710678  0.70710678]]\n"
     ]
    }
   ],
   "source": [
    "S = np.array([[0, 1], [1, 0]])\n",
    "values, vectors = np.linalg.eig(S)\n",
    "\n",
    "print(values)\n",
    "\n",
    "# les vecteurs sont normés, naturellement\n",
    "print(vectors)"
   ]
  },
  {
   "cell_type": "markdown",
   "id": "f17557ef",
   "metadata": {},
   "source": [
    "## résolution d'un système linéaire\n",
    "\n",
    "On va trouver les racines du système linéaire $A \\cdot x = b$\n",
    "\n",
    "Prenons une matrice $A$."
   ]
  },
  {
   "cell_type": "code",
   "execution_count": 48,
   "id": "496802fb",
   "metadata": {},
   "outputs": [
    {
     "data": {
      "text/plain": [
       "array([[0.35244108, 0.57865216, 0.39428728],\n",
       "       [0.74993315, 0.58481961, 0.26170331],\n",
       "       [0.03769719, 0.55532896, 0.32309592]])"
      ]
     },
     "execution_count": 48,
     "metadata": {},
     "output_type": "execute_result"
    }
   ],
   "source": [
    "A = np.random.random(size=(3, 3))\n",
    "A"
   ]
  },
  {
   "cell_type": "markdown",
   "id": "3f44c283",
   "metadata": {},
   "source": [
    "Prenons un vecteur $b$."
   ]
  },
  {
   "cell_type": "code",
   "execution_count": 49,
   "id": "35954e33",
   "metadata": {},
   "outputs": [],
   "source": [
    "b = np.array([1, 2, 3])"
   ]
  },
  {
   "cell_type": "markdown",
   "id": "57a32a03",
   "metadata": {},
   "source": [
    "Calculons la racine de l'équation $A \\cdot x = b$"
   ]
  },
  {
   "cell_type": "code",
   "execution_count": 50,
   "id": "4bdc2e30",
   "metadata": {},
   "outputs": [],
   "source": [
    "np.linalg.solve?"
   ]
  },
  {
   "cell_type": "code",
   "execution_count": 51,
   "id": "467f18b0",
   "metadata": {},
   "outputs": [
    {
     "data": {
      "text/plain": [
       "array([ -3.56816561,  15.82819328, -17.50360792])"
      ]
     },
     "execution_count": 51,
     "metadata": {},
     "output_type": "execute_result"
    }
   ],
   "source": [
    "x = np.linalg.solve(A, b)\n",
    "x"
   ]
  },
  {
   "cell_type": "code",
   "execution_count": 52,
   "id": "140397ea",
   "metadata": {},
   "outputs": [
    {
     "data": {
      "text/plain": [
       "True"
      ]
     },
     "execution_count": 52,
     "metadata": {},
     "output_type": "execute_result"
    }
   ],
   "source": [
    "np.all( np.isclose( np.dot(A, x), b) )"
   ]
  },
  {
   "cell_type": "markdown",
   "id": "2140156d",
   "metadata": {},
   "source": [
    "Si la matrice n'est pas inversible ou si elle n'est pas carrée, une erreur `np.linalg.LinAlgError` sera levée\n",
    "\n",
    "## les fonctions dont nous avons parlé (rapidement)\n",
    "\n",
    "| fonctions           |   comportement |\n",
    "|-----------------|--------|\n",
    "| `np.dot` | produit de matrice |\n",
    "| `np.linalg.norm` | normes de matrice |\n",
    "| `np.transpose` | transposition de matrice |\n",
    "| `np.linalg.det` | déterminant |\n",
    "| `np.linalg.inv` | inversion |\n",
    "| `np.linalg.eig` | valeurs propres |\n",
    "| `np.linalg.solve` | résolution de système linéaire |\n",
    "| `np.eye`       |matrice identité  |\n",
    "| `np.diag`      | matrice diagonale|"
   ]
  },
  {
   "cell_type": "markdown",
   "id": "960753ff",
   "metadata": {},
   "source": [
    "Les exercices intéressants seront faits dans l'UE11."
   ]
  },
  {
   "cell_type": "markdown",
   "id": "6dd71b83",
   "metadata": {
    "tags": [
     "level_advanced"
    ]
   },
   "source": [
    "## exercices"
   ]
  },
  {
   "cell_type": "markdown",
   "id": "a3b09b64",
   "metadata": {
    "tags": [
     "level_advanced"
    ]
   },
   "source": [
    "### construire une matrice diagonale à-la-main (peu d'intérêt)"
   ]
  },
  {
   "cell_type": "markdown",
   "id": "14fee486",
   "metadata": {
    "tags": [
     "level_advanced"
    ]
   },
   "source": [
    "On vous demande d'écrire une fonction `matdiag` qui \n",
    "\n",
    "1. accepte un paramètre qui est une liste de flottants [$x_1$, $x_2$, …, $x_n$] \n",
    "1. retourne une matrice carrée diagonale dont les éléments valent\n",
    "\n",
    "$$\n",
    "m_{ii} = x_i \n",
    "$$\n",
    "$$\n",
    "m_{ij} = 0 \\ pour\\  i ≠ j\n",
    "$$\n",
    "* Retournez toujours un tableau de type `float64`\n",
    "* Programmez une approche naïve et une approche à base de slicing.\n",
    "\n",
    "https://nbhosting.inria.fr/auditor/notebook/python-mooc:exos/w7/w7-s05-x5-matdiag"
   ]
  },
  {
   "cell_type": "markdown",
   "id": "4fa9f932",
   "metadata": {
    "tags": [
     "level_advanced"
    ]
   },
   "source": [
    "### remplir une matrice : m(i, j) = xi * xj"
   ]
  },
  {
   "cell_type": "markdown",
   "id": "3978e6aa",
   "metadata": {
    "tags": [
     "level_advanced"
    ]
   },
   "source": [
    "On vous demande d'écrire une fonction qui \n",
    "\n",
    "1. accepte un nombre quelconque de paramètres, $x_1$, $x_2$, ..., $x_n$, tous des flottants\n",
    "1. retourne une matrice carrée symétrique $M$ dont les termes valent\n",
    "\n",
    "$$\n",
    "m_{ij} = x_i . x_j\n",
    "$$\n",
    "\n",
    "Indices. Vous pouvez utiliser l'opérateur `@`, la méthode `array.dot()`, le broadcasting, la transposée d'une matrice `.T`.\n",
    "\n",
    "https://nbhosting.inria.fr/auditor/notebook/python-mooc:exos/w7/w7-s05-x6-xixj"
   ]
  }
 ],
 "metadata": {
  "jupytext": {
   "cell_metadata_filter": "all,-hidden,-heading_collapsed",
   "cell_metadata_json": true,
   "notebook_metadata_filter": "all,-language_info,-toc,-jupytext.text_representation.jupytext_version,-jupytext.text_representation.format_version",
   "text_representation": {
    "extension": ".md",
    "format_name": "myst"
   }
  },
  "kernelspec": {
   "display_name": "Python 3",
   "language": "python",
   "name": "python3"
  },
  "language_info": {
   "codemirror_mode": {
    "name": "ipython",
    "version": 3
   },
   "file_extension": ".py",
   "mimetype": "text/x-python",
   "name": "python",
   "nbconvert_exporter": "python",
   "pygments_lexer": "ipython3",
   "version": "3.9.5"
  },
  "notebookname": "algèbre linéaire",
  "source_map": [
   14,
   23,
   25,
   29,
   35,
   44,
   46,
   50,
   54,
   58,
   64,
   68,
   72,
   76,
   79,
   83,
   87,
   91,
   94,
   98,
   102,
   104,
   108,
   110,
   114,
   118,
   122,
   126,
   133,
   138,
   142,
   146,
   150,
   155,
   161,
   165,
   171,
   175,
   179,
   185,
   189,
   193,
   198,
   203,
   207,
   211,
   215,
   222,
   227,
   231,
   235,
   239,
   244,
   250,
   254,
   258,
   262,
   265,
   271,
   276,
   278,
   282,
   290,
   294,
   298,
   304,
   309,
   315,
   317,
   321,
   326,
   333,
   338,
   344,
   349,
   355,
   359,
   365,
   373,
   376,
   383,
   392,
   395,
   399,
   401,
   405,
   407,
   415,
   422,
   427,
   433,
   441,
   445,
   447,
   451,
   459,
   467,
   470,
   474,
   476,
   480,
   484,
   489,
   491,
   509,
   513,
   517,
   521,
   539,
   543
  ]
 },
 "nbformat": 4,
 "nbformat_minor": 5
}