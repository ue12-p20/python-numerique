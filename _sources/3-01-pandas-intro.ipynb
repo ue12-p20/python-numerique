{
 "cells": [
  {
   "cell_type": "markdown",
   "id": "906a896c",
   "metadata": {},
   "source": [
    "# UE12 - pandas et matplotlib"
   ]
  },
  {
   "cell_type": "markdown",
   "id": "000c5ad1",
   "metadata": {},
   "source": [
    "Où on découvre les deux dernières bibliothèques socles de l'écosystème Python :\n",
    "\n",
    "* `pandas` pour la data-science (importation et mise en forme de données)\n",
    "* `matplotlib` pour la visualisation de données, en abrégé *dataviz*"
   ]
  },
  {
   "cell_type": "markdown",
   "id": "a510b2c8",
   "metadata": {},
   "source": [
    "Et nous commençons par étudier les bases de `pandas`"
   ]
  },
  {
   "cell_type": "markdown",
   "id": "f13cd650",
   "metadata": {},
   "source": [
    "## contextualisons Python et les tables de données"
   ]
  },
  {
   "cell_type": "markdown",
   "id": "16428811",
   "metadata": {},
   "source": [
    "Nous venons de voir quelques fonctions de base de la librairie numérique de Python `numpy`. Nous savons désormais faires des manipulations simples de tableaux `np.ndarray` qui sont des tableaux multidimensionnels, homogènes, d'éléments de taille fixe.\n",
    "\n",
    "Revenons à notre introduction à `numpy` où nous avons vu différents styles de tableaux, la matrice que nous avons déjà bien manipulée dans les notebooks précédents, l'image que nous ne traiterons pas plus en avant dans ces cours introductifs, la série temporelle que nous ne verrons pas plus loin ... attardons-nous sur les tables d'informations comme celle de 891 naufragés du Titanic, nous la montrons à nouveau:\n",
    "\n",
    "<img src='media/titanic.png' width=\"1000\"></img>"
   ]
  },
  {
   "cell_type": "markdown",
   "id": "623cfb5e",
   "metadata": {},
   "source": [
    "En ligne vous avez toute une série d'observations, une par ligne (ici les passagers du Titanic), et en colonne vous avez les 12 informations que nous savons d'eux, comme leur nom, leur âge, leur genre, leur classe de cabine, si ils ont survécu ... quand on regarde la table chaque information forme une colonne.\n",
    "\n",
    "Ce genre de tables sera très fréquent en data-science.\n",
    "\n",
    "Pour les stocker en mémoire, vous pensez à un type particulièrement utile que nous venons de voir dans une librairie numérique ... mais oui bien sûr un `np.ndarray` de dimension 2 et de forme (891, 12) !"
   ]
  },
  {
   "cell_type": "markdown",
   "id": "168a4beb",
   "metadata": {},
   "source": [
    "Voilà nous savons quel va être le type de ces tables. Mais bien sûr, vous n'allez pas entrer ces tables *à-la-main* dans votre code (comme on l'a fait parfois pour nos matrices !) ces tables seront déjà décrites dans un fichier que vous allez simplement lire afin que son contenu soit transformé en une structure de données Python.\n",
    "\n",
    "Quel est le format le plus simple pour ces tables dans un fichier ? Il suffit de mettre chaque observation sur une ligne et, dans les lignes, de séparer chaque information par un caractère choisi, toujours le même.\n",
    "\n",
    "C'est ce qui a été fait: ces tables sont décrites dans des fichiers de type *csv* pour *comma-separated-values*, littéralement des *valeurs séparées par des virgules*. Ces fichiers porteront l'extension *.csv* ainsi la description de notre fichier de données du titanic a pour nom `titanic.csv` ! Gardons-le dans  une variable!"
   ]
  },
  {
   "cell_type": "code",
   "execution_count": 1,
   "id": "b203ec90",
   "metadata": {},
   "outputs": [],
   "source": [
    "file = 'titanic.csv'"
   ]
  },
  {
   "cell_type": "markdown",
   "id": "3db037b5",
   "metadata": {},
   "source": [
    "Regardons le début de la table du Titanic:\n",
    "\n",
    "```\n",
    "PassengerId,Survived,Pclass,Name,Sex,Age,SibSp,Parch,Ticket,Fare,Cabin,Embarked\n",
    "1,0,3,\"Braund, Mr. Owen Harris\",male,22,1,0,A/5 21171,7.25,,S\n",
    "2,1,1,\"Cumings, Mrs. John Bradley (Florence Briggs Thayer)\",female,38,1,0,PC 17599,71.2833,C85,C\n",
    "3,1,3,\"Heikkinen, Miss. Laina\",female,26,0,0,STON/O2. 3101282,7.925,,S\n",
    "4,1,1,\"Futrelle, Mrs. Jacques Heath (Lily May Peel)\",female,35,1,0,113803,53.1,C123,S\n",
    "5,0,3,\"Allen, Mr. William Henry\",male,35,0,0,373450,8.05,,S\n",
    "6,0,3,\"Moran, Mr. James\",male,,0,0,330877,8.4583,,Q\n",
    "7,0,1,\"McCarthy, Mr. Timothy J\",male,54,0,0,17463,51.8625,E46,S\n",
    "8,0,3,\"Palsson, Master. Gosta Leonard\",male,2,3,1,349909,21.075,,S\n",
    ".../...\n",
    "```"
   ]
  },
  {
   "cell_type": "markdown",
   "id": "e1ae6a99",
   "metadata": {},
   "source": [
    "Vous remarquez que les champs sont bien séparés par des `,` et que la première ligne contient le nom des colonnes. Deux questions se posent:\n",
    "\n",
    "   - *Les champs peuvent-ils être séparés par un autre caractère que la virgule dans un fichier csv ?*\n",
    "\n",
    "   Oui vous pouvez mettre le caractère que vous voulez pour séparer les champs dans un *csv*: le tout sera (pour les utilisateurs du fichier) d'indiquer ce caractère lors de la lecture de la table (la fonction de lecture ne pourra pas le deviner). Par exemple le `;` qui apparaîtra souvent. Un fichier portera, le plus souvent, l'extension *.csv*, mais vous allez pouvoir trouver des `.tsv`.\n",
    "   \n",
    "   \n",
    "   - *Trouve-t-on toujours les noms des colonnes en première ligne des fichiers *.csv* ?*\n",
    "   \n",
    "   Non ce n'est pas obligatoire ! Certains fichiers ne comporteront pas d'entête, certains fichiers auront des lignes de commentaires en début de fichier suivies ou non du la ligne d'entête ... oui vous commencez à vous dire qu'il va falloir bien indiquer tout cela lors de la lecture du fichier  \n",
    "   (la fonction de lecture aura un comportement par défaut que vous pourrez paramétrer)"
   ]
  },
  {
   "cell_type": "markdown",
   "id": "ff21662b",
   "metadata": {
    "tags": [
     "level_intermediate"
    ]
   },
   "source": [
    "Uniquement pour les avancés, deux autres remarques:\n",
    "\n",
    "Certains champs - comme `\"Braund, Mr. Owen Harris\"` - sont mis dans des chaînes entre `\"\"` et les autres champs non. Pourquoi ? Est-ce parce qu'il y a des espaces ? Non, une fonction sait prendre tous les caractères entre deux `,` ... heu ... tous ? non ! pas le séparateur lui-même (ici la `,`), bien sûr ! Les champs qui contiennent le séparateur doivent du coup être protégés, c'est le propos de ces `\"\"`.\n",
    "   \n",
    "   \n",
    "Une dernière chose ? oui il n'y a PAS d'espace autour des virgules ... pourquoi ? et bien parce que ce n'est pas un caractère séparateur mais un vrai caractère, et il sera pris dans le champ ! Et si on avait mis des espace après les séparateurs (comme on le fait quand on écrit) ?\n",
    "   \n",
    "```\n",
    "1 ,0 ,3 ,\"Braund, Mr. Owen Harris\",male ,22 ,1 ,0 ,A/5 21171 ,7.25 , ,S\\\n",
    "```\n",
    "   \n",
    "Là monsieur \"Braund, Mr. Owen Harris\" aura pour `PassengerId` le nombre 1 suivi d'un espace (\"1 \") quel drôle de nombre, la fonction qui va le traiter pourra-t-elle y voir un nombre ? sûrement pas, elle verra une chaîne de caractères contenant un 1 et un espace. \n",
    "\n",
    "Bien sûr il va exister des (tas de) paramètres pour régler ce genre de petits problèmes, là ce sera `skipinitialspace` qui est à `False` par défaut et que donc vous passerez avec la valeur `True` pour *Skip spaces after delimiter*."
   ]
  },
  {
   "cell_type": "markdown",
   "id": "63bcf124",
   "metadata": {},
   "source": [
    "Un constat: `numpy` ne comporte pas de fonction pour lire ces tables !\n",
    "\n",
    "Ce rôle est pris depuis 2008 par une autre librairie qui s'appelle `pandas` et qui repose entièrement sur `numpy`: toutes les données que vous allez manipuler en `pandas` sont en mémoire des tableaux `np.ndarray`.\n",
    "\n",
    "`pandas` va vous en faciliter l'utilisation en leur donnant un type évolué de table de données `pandas.DataFrame`. Un autre type permettra de gérer les séries le `pandas.Series`."
   ]
  },
  {
   "cell_type": "markdown",
   "id": "49dc53a2",
   "metadata": {},
   "source": [
    "Une dernière chose à préciser, si le langage Python favorise la simplicité, l'uniformité et la lisibilité du code sur son efficacité ... `pandas` comme `numpy` va favoriser très clairement l'efficacité au détriment du reste. Ou dit plus simplement: \"*Ne vous attendez pas au même niveau de maturité et de cohérence dans `numpy` et `pandas` que celui que vous avez dans Python*\"  \n",
    "Ils n'ont pas trouvé leur *BDFL* comme Python avec Guido van Rossum."
   ]
  },
  {
   "cell_type": "markdown",
   "id": "d74c4deb",
   "metadata": {},
   "source": [
    "## lisons une table de données (`pandas.read_csv`)"
   ]
  },
  {
   "cell_type": "markdown",
   "id": "784866ee",
   "metadata": {},
   "source": [
    "Sans plus attendre on importe la librairie `pandas` (son petit nom standard est `pd`) et on lit notre table du titanic dans une variable `df` (pour dataframe, c'est un nom très couramment utilisé)!\n",
    "\n",
    "Avec quelle fonction lisons-nous le fichier ? Avec la fonction `pandas.read_csv` !"
   ]
  },
  {
   "cell_type": "markdown",
   "id": "55b9225b",
   "metadata": {},
   "source": [
    "Vous n'avez pas `pandas` ? Qu'à cela ne tienne ! Importez-le à partir d'un terminal (ou du notebook si vous savez le faire).\n",
    "```\n",
    "pip install pandas\n",
    "```"
   ]
  },
  {
   "cell_type": "code",
   "execution_count": 2,
   "id": "dd27a66c",
   "metadata": {},
   "outputs": [],
   "source": [
    "import pandas as pd"
   ]
  },
  {
   "cell_type": "markdown",
   "id": "67c37bd7",
   "metadata": {
    "tags": [
     "level_intermediate"
    ]
   },
   "source": [
    "Pour les avancés, les nouveautés des différentes versions sorties (releases) sont ici https://pandas.pydata.org/docs/whatsnew/index.html. Si nous voulons savoir le numéro de version d'une librairie, il faut regarder l'attribut `__version__` de la librairie, donc ici `pandas.__version__` (enfin `pd.__version__`, mais on a choisi de toujours mettre le nom complet de la librairie dans les notebooks)."
   ]
  },
  {
   "cell_type": "code",
   "execution_count": 3,
   "id": "e4a5a13f",
   "metadata": {
    "tags": [
     "level_intermediate"
    ]
   },
   "outputs": [
    {
     "data": {
      "text/plain": [
       "'1.3.1'"
      ]
     },
     "execution_count": 3,
     "metadata": {},
     "output_type": "execute_result"
    }
   ],
   "source": [
    "pd.__version__"
   ]
  },
  {
   "cell_type": "markdown",
   "id": "08a64bd1",
   "metadata": {},
   "source": [
    "Au passage importons donc `numpy` puisque les deux librairies sont très liées ..."
   ]
  },
  {
   "cell_type": "code",
   "execution_count": 4,
   "id": "a3fbf033",
   "metadata": {},
   "outputs": [],
   "source": [
    "import numpy as np"
   ]
  },
  {
   "cell_type": "markdown",
   "id": "c798e680",
   "metadata": {},
   "source": [
    "Plutôt que de détailler les fonctionnalités de `pandas`, partons d'un exemple existant et lisons la table des passagers du titanic:"
   ]
  },
  {
   "cell_type": "code",
   "execution_count": 5,
   "id": "05ff477c",
   "metadata": {},
   "outputs": [],
   "source": [
    "df0 = pd.read_csv(file)"
   ]
  },
  {
   "cell_type": "markdown",
   "id": "eb39d5ae",
   "metadata": {},
   "source": [
    "Regardons les quelques premières lignes (le header) de la table avec la méthode `pandas.DataFrame.head` qui par défaut en affiche 5."
   ]
  },
  {
   "cell_type": "code",
   "execution_count": 6,
   "id": "aa61e03e",
   "metadata": {},
   "outputs": [
    {
     "data": {
      "text/html": [
       "<div>\n",
       "<style scoped>\n",
       "    .dataframe tbody tr th:only-of-type {\n",
       "        vertical-align: middle;\n",
       "    }\n",
       "\n",
       "    .dataframe tbody tr th {\n",
       "        vertical-align: top;\n",
       "    }\n",
       "\n",
       "    .dataframe thead th {\n",
       "        text-align: right;\n",
       "    }\n",
       "</style>\n",
       "<table border=\"1\" class=\"dataframe\">\n",
       "  <thead>\n",
       "    <tr style=\"text-align: right;\">\n",
       "      <th></th>\n",
       "      <th>PassengerId</th>\n",
       "      <th>Survived</th>\n",
       "      <th>Pclass</th>\n",
       "      <th>Name</th>\n",
       "      <th>Sex</th>\n",
       "      <th>Age</th>\n",
       "      <th>SibSp</th>\n",
       "      <th>Parch</th>\n",
       "      <th>Ticket</th>\n",
       "      <th>Fare</th>\n",
       "      <th>Cabin</th>\n",
       "      <th>Embarked</th>\n",
       "    </tr>\n",
       "  </thead>\n",
       "  <tbody>\n",
       "    <tr>\n",
       "      <th>0</th>\n",
       "      <td>1</td>\n",
       "      <td>0</td>\n",
       "      <td>3</td>\n",
       "      <td>Braund, Mr. Owen Harris</td>\n",
       "      <td>male</td>\n",
       "      <td>22.0</td>\n",
       "      <td>1</td>\n",
       "      <td>0</td>\n",
       "      <td>A/5 21171</td>\n",
       "      <td>7.2500</td>\n",
       "      <td>NaN</td>\n",
       "      <td>S</td>\n",
       "    </tr>\n",
       "    <tr>\n",
       "      <th>1</th>\n",
       "      <td>2</td>\n",
       "      <td>1</td>\n",
       "      <td>1</td>\n",
       "      <td>Cumings, Mrs. John Bradley (Florence Briggs Th...</td>\n",
       "      <td>female</td>\n",
       "      <td>38.0</td>\n",
       "      <td>1</td>\n",
       "      <td>0</td>\n",
       "      <td>PC 17599</td>\n",
       "      <td>71.2833</td>\n",
       "      <td>C85</td>\n",
       "      <td>C</td>\n",
       "    </tr>\n",
       "    <tr>\n",
       "      <th>2</th>\n",
       "      <td>3</td>\n",
       "      <td>1</td>\n",
       "      <td>3</td>\n",
       "      <td>Heikkinen, Miss. Laina</td>\n",
       "      <td>female</td>\n",
       "      <td>26.0</td>\n",
       "      <td>0</td>\n",
       "      <td>0</td>\n",
       "      <td>STON/O2. 3101282</td>\n",
       "      <td>7.9250</td>\n",
       "      <td>NaN</td>\n",
       "      <td>S</td>\n",
       "    </tr>\n",
       "    <tr>\n",
       "      <th>3</th>\n",
       "      <td>4</td>\n",
       "      <td>1</td>\n",
       "      <td>1</td>\n",
       "      <td>Futrelle, Mrs. Jacques Heath (Lily May Peel)</td>\n",
       "      <td>female</td>\n",
       "      <td>35.0</td>\n",
       "      <td>1</td>\n",
       "      <td>0</td>\n",
       "      <td>113803</td>\n",
       "      <td>53.1000</td>\n",
       "      <td>C123</td>\n",
       "      <td>S</td>\n",
       "    </tr>\n",
       "    <tr>\n",
       "      <th>4</th>\n",
       "      <td>5</td>\n",
       "      <td>0</td>\n",
       "      <td>3</td>\n",
       "      <td>Allen, Mr. William Henry</td>\n",
       "      <td>male</td>\n",
       "      <td>35.0</td>\n",
       "      <td>0</td>\n",
       "      <td>0</td>\n",
       "      <td>373450</td>\n",
       "      <td>8.0500</td>\n",
       "      <td>NaN</td>\n",
       "      <td>S</td>\n",
       "    </tr>\n",
       "  </tbody>\n",
       "</table>\n",
       "</div>"
      ],
      "text/plain": [
       "   PassengerId  Survived  Pclass  \\\n",
       "0            1         0       3   \n",
       "1            2         1       1   \n",
       "2            3         1       3   \n",
       "3            4         1       1   \n",
       "4            5         0       3   \n",
       "\n",
       "                                                Name     Sex   Age  SibSp  \\\n",
       "0                            Braund, Mr. Owen Harris    male  22.0      1   \n",
       "1  Cumings, Mrs. John Bradley (Florence Briggs Th...  female  38.0      1   \n",
       "2                             Heikkinen, Miss. Laina  female  26.0      0   \n",
       "3       Futrelle, Mrs. Jacques Heath (Lily May Peel)  female  35.0      1   \n",
       "4                           Allen, Mr. William Henry    male  35.0      0   \n",
       "\n",
       "   Parch            Ticket     Fare Cabin Embarked  \n",
       "0      0         A/5 21171   7.2500   NaN        S  \n",
       "1      0          PC 17599  71.2833   C85        C  \n",
       "2      0  STON/O2. 3101282   7.9250   NaN        S  \n",
       "3      0            113803  53.1000  C123        S  \n",
       "4      0            373450   8.0500   NaN        S  "
      ]
     },
     "execution_count": 6,
     "metadata": {},
     "output_type": "execute_result"
    }
   ],
   "source": [
    "df0.head()"
   ]
  },
  {
   "cell_type": "markdown",
   "id": "4ee4b473",
   "metadata": {},
   "source": [
    "Nous remarquons là une chose importante qui va être la clé pour comprendre l'intérêt de `pandas`: **les lignes et les colonnes sont indexées**."
   ]
  },
  {
   "cell_type": "markdown",
   "id": "6167d042",
   "metadata": {},
   "source": [
    "## la notion d'index dans les bases de données"
   ]
  },
  {
   "cell_type": "markdown",
   "id": "08ca1073",
   "metadata": {},
   "source": [
    "En guise de digression, et pour bien comprendre cette histoire d'index, on va parler d'une notion qui est bien plus ancienne que `pandas`, et qu'on a inventée au départ dans le contexte des bases de données relationnelles.\n",
    "\n",
    "L'idée tourne toujours autour de cette affaire de recherche dans les listes, qui est très inefficace. C'est comme dans les bibliothèques (à l'époque où elles existaient encore sous une forme physique) : lorsque vous cherchez un livre vous n'allez **pas reparcourir tous les rayons** jusqu'à trouver le livre qui vous intéresse; non, vous allez demander au guichet, où l'on dispose d'un **index** qui vous indique où se trouve le livre; c'est quand même beaucoup plus rapide !\n",
    "\n",
    "C'est un peu pareil avec les données; imaginez que vous avez des données à propos de 10 millions de personnes; si vous vous **contentez de modéliser ça sous la forme d'une liste** de personnes, il vous faut en moyenne 5 millions d'essais pour localiser quelqu'un.\n",
    "\n",
    "La technique de l'index consiste simplement à trouver une caractéristique qui identifie la personne de manière unique (disons le numéro de sécurité sociale), et à **calculer un index** qui permette un accès rapide - pour ça on utilise une table de hachage, exactement comme avec les dictionnaires Python.\n",
    "\n",
    "De cette façon, l'opération qui consiste à localiser (les informations concernant) une personne, à partir de son numéro de sécu, peut être en grossière approximation considérée comme en temps constant."
   ]
  },
  {
   "cell_type": "markdown",
   "id": "4d73eda6",
   "metadata": {},
   "source": [
    "## les tables `pandas` sont indexées"
   ]
  },
  {
   "cell_type": "markdown",
   "id": "5490efd8",
   "metadata": {},
   "source": [
    "Fort de cette expérience avec les bases de données, `pandas` a choisi d'indexer ses tables, dans les deux directions : ligne et colonne.\n",
    "\n",
    "Le travail de `pandas` va consister à rendre les opérations sur ces index les plus efficaces possible\n",
    "(on pourrait discuter de l'intérêt d'indexer les colonnes qui sont généralement moins nombreuses, disons que ça rend le design plus homogène, et aussi, *qui peut le plus peut le moins*, ça ne nuit pas du tout d'indexer les colonnes)"
   ]
  },
  {
   "cell_type": "code",
   "execution_count": 7,
   "id": "1d388a5d",
   "metadata": {},
   "outputs": [
    {
     "data": {
      "text/html": [
       "<div>\n",
       "<style scoped>\n",
       "    .dataframe tbody tr th:only-of-type {\n",
       "        vertical-align: middle;\n",
       "    }\n",
       "\n",
       "    .dataframe tbody tr th {\n",
       "        vertical-align: top;\n",
       "    }\n",
       "\n",
       "    .dataframe thead th {\n",
       "        text-align: right;\n",
       "    }\n",
       "</style>\n",
       "<table border=\"1\" class=\"dataframe\">\n",
       "  <thead>\n",
       "    <tr style=\"text-align: right;\">\n",
       "      <th></th>\n",
       "      <th>PassengerId</th>\n",
       "      <th>Survived</th>\n",
       "      <th>Pclass</th>\n",
       "      <th>Name</th>\n",
       "      <th>Sex</th>\n",
       "      <th>Age</th>\n",
       "      <th>SibSp</th>\n",
       "      <th>Parch</th>\n",
       "      <th>Ticket</th>\n",
       "      <th>Fare</th>\n",
       "      <th>Cabin</th>\n",
       "      <th>Embarked</th>\n",
       "    </tr>\n",
       "  </thead>\n",
       "  <tbody>\n",
       "    <tr>\n",
       "      <th>0</th>\n",
       "      <td>1</td>\n",
       "      <td>0</td>\n",
       "      <td>3</td>\n",
       "      <td>Braund, Mr. Owen Harris</td>\n",
       "      <td>male</td>\n",
       "      <td>22.0</td>\n",
       "      <td>1</td>\n",
       "      <td>0</td>\n",
       "      <td>A/5 21171</td>\n",
       "      <td>7.2500</td>\n",
       "      <td>NaN</td>\n",
       "      <td>S</td>\n",
       "    </tr>\n",
       "    <tr>\n",
       "      <th>1</th>\n",
       "      <td>2</td>\n",
       "      <td>1</td>\n",
       "      <td>1</td>\n",
       "      <td>Cumings, Mrs. John Bradley (Florence Briggs Th...</td>\n",
       "      <td>female</td>\n",
       "      <td>38.0</td>\n",
       "      <td>1</td>\n",
       "      <td>0</td>\n",
       "      <td>PC 17599</td>\n",
       "      <td>71.2833</td>\n",
       "      <td>C85</td>\n",
       "      <td>C</td>\n",
       "    </tr>\n",
       "    <tr>\n",
       "      <th>2</th>\n",
       "      <td>3</td>\n",
       "      <td>1</td>\n",
       "      <td>3</td>\n",
       "      <td>Heikkinen, Miss. Laina</td>\n",
       "      <td>female</td>\n",
       "      <td>26.0</td>\n",
       "      <td>0</td>\n",
       "      <td>0</td>\n",
       "      <td>STON/O2. 3101282</td>\n",
       "      <td>7.9250</td>\n",
       "      <td>NaN</td>\n",
       "      <td>S</td>\n",
       "    </tr>\n",
       "    <tr>\n",
       "      <th>3</th>\n",
       "      <td>4</td>\n",
       "      <td>1</td>\n",
       "      <td>1</td>\n",
       "      <td>Futrelle, Mrs. Jacques Heath (Lily May Peel)</td>\n",
       "      <td>female</td>\n",
       "      <td>35.0</td>\n",
       "      <td>1</td>\n",
       "      <td>0</td>\n",
       "      <td>113803</td>\n",
       "      <td>53.1000</td>\n",
       "      <td>C123</td>\n",
       "      <td>S</td>\n",
       "    </tr>\n",
       "    <tr>\n",
       "      <th>4</th>\n",
       "      <td>5</td>\n",
       "      <td>0</td>\n",
       "      <td>3</td>\n",
       "      <td>Allen, Mr. William Henry</td>\n",
       "      <td>male</td>\n",
       "      <td>35.0</td>\n",
       "      <td>0</td>\n",
       "      <td>0</td>\n",
       "      <td>373450</td>\n",
       "      <td>8.0500</td>\n",
       "      <td>NaN</td>\n",
       "      <td>S</td>\n",
       "    </tr>\n",
       "  </tbody>\n",
       "</table>\n",
       "</div>"
      ],
      "text/plain": [
       "   PassengerId  Survived  Pclass  \\\n",
       "0            1         0       3   \n",
       "1            2         1       1   \n",
       "2            3         1       3   \n",
       "3            4         1       1   \n",
       "4            5         0       3   \n",
       "\n",
       "                                                Name     Sex   Age  SibSp  \\\n",
       "0                            Braund, Mr. Owen Harris    male  22.0      1   \n",
       "1  Cumings, Mrs. John Bradley (Florence Briggs Th...  female  38.0      1   \n",
       "2                             Heikkinen, Miss. Laina  female  26.0      0   \n",
       "3       Futrelle, Mrs. Jacques Heath (Lily May Peel)  female  35.0      1   \n",
       "4                           Allen, Mr. William Henry    male  35.0      0   \n",
       "\n",
       "   Parch            Ticket     Fare Cabin Embarked  \n",
       "0      0         A/5 21171   7.2500   NaN        S  \n",
       "1      0          PC 17599  71.2833   C85        C  \n",
       "2      0  STON/O2. 3101282   7.9250   NaN        S  \n",
       "3      0            113803  53.1000  C123        S  \n",
       "4      0            373450   8.0500   NaN        S  "
      ]
     },
     "execution_count": 7,
     "metadata": {},
     "output_type": "execute_result"
    }
   ],
   "source": [
    "# revenons à nos moutons\n",
    "df0.head()"
   ]
  },
  {
   "cell_type": "markdown",
   "id": "36bff186",
   "metadata": {},
   "source": [
    "Les index apparaissent **en gras** dans la sortie de `head()`, si bien que sur notre exemple, on voit que :\n",
    "\n",
    "* les **colonnes** ont été **indexées par leur nom**, *naturellement*,\n",
    "* et que, comme nous n'avons **rien** précisé **de particulier**, les **lignes** ont, elles, été **indexées par leur indice**  \n",
    "i.e. une simple numérotation à partir de 0"
   ]
  },
  {
   "cell_type": "markdown",
   "id": "b855c979",
   "metadata": {},
   "source": [
    "Mais si vous regardez bien le contenu de notre dataframe, il y a là une colonne `PassengerId`; rien qu'avec le nom, on devine que cette colonne contient effectivement un identifiant unique pour chaque passager; (c'est d'ailleurs presque toujours le cas dans les bases de données aussi, vous allez trouver des noms de colonne en `PersonId`, `BookId`, etc...);  \n",
    "Du coup, ça devient un réflexe que d'utiliser cette colonne-là comme **clé** pour l'index des lignes; et pour faire ça il suffit de l'indiquer à pandas, comme ceci :"
   ]
  },
  {
   "cell_type": "code",
   "execution_count": 8,
   "id": "9217404d",
   "metadata": {},
   "outputs": [],
   "source": [
    "# on charge le même fichier\n",
    "# on choisit la colonne qui sert d'index\n",
    "\n",
    "df = pd.read_csv(file, index_col='PassengerId')"
   ]
  },
  {
   "cell_type": "code",
   "execution_count": 9,
   "id": "314d862d",
   "metadata": {},
   "outputs": [
    {
     "data": {
      "text/html": [
       "<div>\n",
       "<style scoped>\n",
       "    .dataframe tbody tr th:only-of-type {\n",
       "        vertical-align: middle;\n",
       "    }\n",
       "\n",
       "    .dataframe tbody tr th {\n",
       "        vertical-align: top;\n",
       "    }\n",
       "\n",
       "    .dataframe thead th {\n",
       "        text-align: right;\n",
       "    }\n",
       "</style>\n",
       "<table border=\"1\" class=\"dataframe\">\n",
       "  <thead>\n",
       "    <tr style=\"text-align: right;\">\n",
       "      <th></th>\n",
       "      <th>Survived</th>\n",
       "      <th>Pclass</th>\n",
       "      <th>Name</th>\n",
       "      <th>Sex</th>\n",
       "      <th>Age</th>\n",
       "      <th>SibSp</th>\n",
       "      <th>Parch</th>\n",
       "      <th>Ticket</th>\n",
       "      <th>Fare</th>\n",
       "      <th>Cabin</th>\n",
       "      <th>Embarked</th>\n",
       "    </tr>\n",
       "    <tr>\n",
       "      <th>PassengerId</th>\n",
       "      <th></th>\n",
       "      <th></th>\n",
       "      <th></th>\n",
       "      <th></th>\n",
       "      <th></th>\n",
       "      <th></th>\n",
       "      <th></th>\n",
       "      <th></th>\n",
       "      <th></th>\n",
       "      <th></th>\n",
       "      <th></th>\n",
       "    </tr>\n",
       "  </thead>\n",
       "  <tbody>\n",
       "    <tr>\n",
       "      <th>1</th>\n",
       "      <td>0</td>\n",
       "      <td>3</td>\n",
       "      <td>Braund, Mr. Owen Harris</td>\n",
       "      <td>male</td>\n",
       "      <td>22.0</td>\n",
       "      <td>1</td>\n",
       "      <td>0</td>\n",
       "      <td>A/5 21171</td>\n",
       "      <td>7.2500</td>\n",
       "      <td>NaN</td>\n",
       "      <td>S</td>\n",
       "    </tr>\n",
       "    <tr>\n",
       "      <th>2</th>\n",
       "      <td>1</td>\n",
       "      <td>1</td>\n",
       "      <td>Cumings, Mrs. John Bradley (Florence Briggs Th...</td>\n",
       "      <td>female</td>\n",
       "      <td>38.0</td>\n",
       "      <td>1</td>\n",
       "      <td>0</td>\n",
       "      <td>PC 17599</td>\n",
       "      <td>71.2833</td>\n",
       "      <td>C85</td>\n",
       "      <td>C</td>\n",
       "    </tr>\n",
       "    <tr>\n",
       "      <th>3</th>\n",
       "      <td>1</td>\n",
       "      <td>3</td>\n",
       "      <td>Heikkinen, Miss. Laina</td>\n",
       "      <td>female</td>\n",
       "      <td>26.0</td>\n",
       "      <td>0</td>\n",
       "      <td>0</td>\n",
       "      <td>STON/O2. 3101282</td>\n",
       "      <td>7.9250</td>\n",
       "      <td>NaN</td>\n",
       "      <td>S</td>\n",
       "    </tr>\n",
       "    <tr>\n",
       "      <th>4</th>\n",
       "      <td>1</td>\n",
       "      <td>1</td>\n",
       "      <td>Futrelle, Mrs. Jacques Heath (Lily May Peel)</td>\n",
       "      <td>female</td>\n",
       "      <td>35.0</td>\n",
       "      <td>1</td>\n",
       "      <td>0</td>\n",
       "      <td>113803</td>\n",
       "      <td>53.1000</td>\n",
       "      <td>C123</td>\n",
       "      <td>S</td>\n",
       "    </tr>\n",
       "    <tr>\n",
       "      <th>5</th>\n",
       "      <td>0</td>\n",
       "      <td>3</td>\n",
       "      <td>Allen, Mr. William Henry</td>\n",
       "      <td>male</td>\n",
       "      <td>35.0</td>\n",
       "      <td>0</td>\n",
       "      <td>0</td>\n",
       "      <td>373450</td>\n",
       "      <td>8.0500</td>\n",
       "      <td>NaN</td>\n",
       "      <td>S</td>\n",
       "    </tr>\n",
       "  </tbody>\n",
       "</table>\n",
       "</div>"
      ],
      "text/plain": [
       "             Survived  Pclass  \\\n",
       "PassengerId                     \n",
       "1                   0       3   \n",
       "2                   1       1   \n",
       "3                   1       3   \n",
       "4                   1       1   \n",
       "5                   0       3   \n",
       "\n",
       "                                                          Name     Sex   Age  \\\n",
       "PassengerId                                                                    \n",
       "1                                      Braund, Mr. Owen Harris    male  22.0   \n",
       "2            Cumings, Mrs. John Bradley (Florence Briggs Th...  female  38.0   \n",
       "3                                       Heikkinen, Miss. Laina  female  26.0   \n",
       "4                 Futrelle, Mrs. Jacques Heath (Lily May Peel)  female  35.0   \n",
       "5                                     Allen, Mr. William Henry    male  35.0   \n",
       "\n",
       "             SibSp  Parch            Ticket     Fare Cabin Embarked  \n",
       "PassengerId                                                          \n",
       "1                1      0         A/5 21171   7.2500   NaN        S  \n",
       "2                1      0          PC 17599  71.2833   C85        C  \n",
       "3                0      0  STON/O2. 3101282   7.9250   NaN        S  \n",
       "4                1      0            113803  53.1000  C123        S  \n",
       "5                0      0            373450   8.0500   NaN        S  "
      ]
     },
     "execution_count": 9,
     "metadata": {},
     "output_type": "execute_result"
    }
   ],
   "source": [
    "df.head()"
   ]
  },
  {
   "cell_type": "markdown",
   "id": "84277edf",
   "metadata": {},
   "source": [
    "On a vu que ce n'était pas indispensable, mais c'est une **bonne pratique** que de choisir comme index une colonne qui puisse jouer ce rôle d'identifiant unique."
   ]
  },
  {
   "cell_type": "markdown",
   "id": "33169f86",
   "metadata": {},
   "source": [
    "## le type d'une table (`pandas.DataFrame`)"
   ]
  },
  {
   "cell_type": "markdown",
   "id": "c11d29f4",
   "metadata": {},
   "source": [
    "Maintenant regardons d'un peu plus près les attributs de cette table."
   ]
  },
  {
   "cell_type": "markdown",
   "id": "153d9072",
   "metadata": {},
   "source": [
    "Nous allons comprendre à travers cette table du Titanic comment sont composées les tables, et quels sont leurs attributs utiles (à notre niveau) et comment les utiliser pour exploiter nos données."
   ]
  },
  {
   "cell_type": "markdown",
   "id": "abe68e52",
   "metadata": {
    "tags": []
   },
   "source": [
    "Si vous êtes familier de Python, le premier réflexe est d'afficher le type de la table; \n",
    "c'est utile de connaitre le type des objets, car c'est le type qui détermine les opérations qu'on a le droit de faire sur ces objets;"
   ]
  },
  {
   "cell_type": "code",
   "execution_count": 10,
   "id": "d1ce53d4",
   "metadata": {
    "tags": []
   },
   "outputs": [
    {
     "data": {
      "text/plain": [
       "pandas.core.frame.DataFrame"
      ]
     },
     "execution_count": 10,
     "metadata": {},
     "output_type": "execute_result"
    }
   ],
   "source": [
    "type(df)"
   ]
  },
  {
   "cell_type": "markdown",
   "id": "a0c65edf",
   "metadata": {
    "tags": []
   },
   "source": [
    "Le type de `df` est `pandas.core.frame.DataFrame`, un nom plus court pour ce type est `pandas.DataFrame`."
   ]
  },
  {
   "cell_type": "markdown",
   "id": "8d95f171",
   "metadata": {},
   "source": [
    "## la dimension et la forme de la table (`ndim`, `shape`)"
   ]
  },
  {
   "cell_type": "markdown",
   "id": "1d010ea6",
   "metadata": {},
   "source": [
    "Quelle est la dimension et la forme de cette table ?  \n",
    "on va retrouver les attributs classiques que nous avions en `numpy` soit `ndim`, `shape`... qui seront là des noms de méthodes des dataframes."
   ]
  },
  {
   "cell_type": "code",
   "execution_count": 11,
   "id": "b91c9322",
   "metadata": {},
   "outputs": [
    {
     "data": {
      "text/plain": [
       "2"
      ]
     },
     "execution_count": 11,
     "metadata": {},
     "output_type": "execute_result"
    }
   ],
   "source": [
    "# une dataframe est toujours de dimension 2 \n",
    "df.ndim"
   ]
  },
  {
   "cell_type": "markdown",
   "id": "b90e9788",
   "metadata": {},
   "source": [
    "Notre table est une `pandas.DataFrame` de dimension 2, on s'y attendait."
   ]
  },
  {
   "cell_type": "code",
   "execution_count": 12,
   "id": "3bfa60d9",
   "metadata": {},
   "outputs": [
    {
     "name": "stdout",
     "output_type": "stream",
     "text": [
      "(891, 11)\n"
     ]
    }
   ],
   "source": [
    "print(df.shape)"
   ]
  },
  {
   "cell_type": "markdown",
   "id": "110767e8",
   "metadata": {},
   "source": [
    "Sa forme est 891 lignes et 11 colonnes."
   ]
  },
  {
   "cell_type": "markdown",
   "id": "f296a926",
   "metadata": {},
   "source": [
    "Nous avons dit que `pandas` est fondé sur `numpy`. Donc où `numpy` intervient-il ? Vous l'avez compris bien sûr : il va s'occuper du stockage et de la gestion du tableau de dimension 2 sous-jacent.\n",
    "\n",
    "Et `pandas` ? il va nous *décorer* ce tableau avec des fonctions très pratiques, et de plus haut-niveau que `numpy`, pour manipuler plus facilement qu'en `numpy` notre table de lignes et de colonnes, de manière à faire du data-science."
   ]
  },
  {
   "cell_type": "markdown",
   "id": "a401dbe2",
   "metadata": {},
   "source": [
    "## les colonnes de la table"
   ]
  },
  {
   "cell_type": "markdown",
   "id": "85581fae",
   "metadata": {},
   "source": [
    "Quels sont les noms des colonnes ?\n",
    "\n",
    "Ils sont accessibles par la *property* `pandas.DataFrame.columns` qui va vous renvoyer un objet de type ... de type ? oui `Index` ! puisque les noms des colonnes sont les index des colonnes !"
   ]
  },
  {
   "cell_type": "code",
   "execution_count": 13,
   "id": "abf6ed61",
   "metadata": {},
   "outputs": [
    {
     "data": {
      "text/plain": [
       "Index(['Survived', 'Pclass', 'Name', 'Sex', 'Age', 'SibSp', 'Parch', 'Ticket',\n",
       "       'Fare', 'Cabin', 'Embarked'],\n",
       "      dtype='object')"
      ]
     },
     "execution_count": 13,
     "metadata": {},
     "output_type": "execute_result"
    }
   ],
   "source": [
    "df.columns"
   ]
  },
  {
   "cell_type": "markdown",
   "id": "1f2087c9",
   "metadata": {},
   "source": [
    "Oui je sais, on voit le type `dtype='object'` des éléments mais nous parlerons des types après, on ne peut pas tout faire en même temps ! et il va falloir comprendre de petites choses avant."
   ]
  },
  {
   "cell_type": "markdown",
   "id": "974eb04c",
   "metadata": {},
   "source": [
    "Qui dit index dit accès, donc nous allons bien pouvoir accéder aux colonnes de la table."
   ]
  },
  {
   "cell_type": "markdown",
   "id": "b969fa44",
   "metadata": {},
   "source": [
    "Les colonnes ont un traitement un peu priviligié en `pandas`. En fait une table `pandas` est un peu comme un dictionnaire où les clés sont les noms des colonnes, et où les valeurs sont les colonnes.\n",
    "\n",
    "Un peu comme un dictionnaire ? la dataframe ? Donc nous pouvons accéder à une colonne par sa clé, par exemple, `Age` ou encore `Name` !"
   ]
  },
  {
   "cell_type": "code",
   "execution_count": 14,
   "id": "1a0fd17f",
   "metadata": {},
   "outputs": [
    {
     "data": {
      "text/plain": [
       "PassengerId\n",
       "1      22.0\n",
       "2      38.0\n",
       "3      26.0\n",
       "4      35.0\n",
       "5      35.0\n",
       "       ... \n",
       "887    27.0\n",
       "888    19.0\n",
       "889     NaN\n",
       "890    26.0\n",
       "891    32.0\n",
       "Name: Age, Length: 891, dtype: float64"
      ]
     },
     "execution_count": 14,
     "metadata": {},
     "output_type": "execute_result"
    }
   ],
   "source": [
    "df['Age']"
   ]
  },
  {
   "cell_type": "markdown",
   "id": "099ae5f1",
   "metadata": {},
   "source": [
    "C'est bien la colonne des 891 âges. Et là on peut regarder le type des éléments, ce sont des `float64`, pas de problème, les âges ne sont pas toujours des nombres entiers.\n",
    "\n",
    "Nous allons regarder quel est le type de la structure de donnée de colonnes."
   ]
  },
  {
   "cell_type": "markdown",
   "id": "590e11ef",
   "metadata": {},
   "source": [
    "### le type d'une colonne (`pandas.Series`)"
   ]
  },
  {
   "cell_type": "markdown",
   "id": "dcb59a36",
   "metadata": {},
   "source": [
    "Reprenons notre dataframe favorite, des malheureux passagers du Titanic, et regardons le type utilisé par `pandas` pour la structure de donnée de colonne."
   ]
  },
  {
   "cell_type": "code",
   "execution_count": 15,
   "id": "de985759",
   "metadata": {},
   "outputs": [
    {
     "data": {
      "text/plain": [
       "pandas.core.series.Series"
      ]
     },
     "execution_count": 15,
     "metadata": {},
     "output_type": "execute_result"
    }
   ],
   "source": [
    "type(df['Age'])"
   ]
  },
  {
   "cell_type": "markdown",
   "id": "58a079fc",
   "metadata": {},
   "source": [
    "Voilà, qu'apparaît le second type de `pandas`, celui des `Series` ... Une colonne est une série de données ! Le nom de la colonne est la clé dans un pseudo-dictionnaire pour accéder à cette série de données ! On commence à y voir un peu plus clair !\n",
    "\n",
    "Je dis pseudo parce que `pandas` accepte que plusieurs colonnes portent le même nom. Et si vous demandez d'aller chercher les colonnes correspondant à cette clé ... il vous les donne toutes."
   ]
  },
  {
   "cell_type": "markdown",
   "id": "1e85ab3d",
   "metadata": {
    "tags": [
     "level_intermediate"
    ]
   },
   "source": [
    "`pandas` ne va pas imposer que les clés des lignes ou des colonnes soient uniques. Lors de la recherche d'une clé non unique, il vous donnera toutes les entrées correspondantes."
   ]
  },
  {
   "cell_type": "code",
   "execution_count": 16,
   "id": "36e909eb",
   "metadata": {
    "tags": [
     "level_intermediate"
    ]
   },
   "outputs": [
    {
     "data": {
      "text/html": [
       "<div>\n",
       "<style scoped>\n",
       "    .dataframe tbody tr th:only-of-type {\n",
       "        vertical-align: middle;\n",
       "    }\n",
       "\n",
       "    .dataframe tbody tr th {\n",
       "        vertical-align: top;\n",
       "    }\n",
       "\n",
       "    .dataframe thead th {\n",
       "        text-align: right;\n",
       "    }\n",
       "</style>\n",
       "<table border=\"1\" class=\"dataframe\">\n",
       "  <thead>\n",
       "    <tr style=\"text-align: right;\">\n",
       "      <th></th>\n",
       "      <th>a</th>\n",
       "      <th>a</th>\n",
       "    </tr>\n",
       "  </thead>\n",
       "  <tbody>\n",
       "    <tr>\n",
       "      <th>1</th>\n",
       "      <td>1</td>\n",
       "      <td>2</td>\n",
       "    </tr>\n",
       "    <tr>\n",
       "      <th>1</th>\n",
       "      <td>5</td>\n",
       "      <td>6</td>\n",
       "    </tr>\n",
       "  </tbody>\n",
       "</table>\n",
       "</div>"
      ],
      "text/plain": [
       "   a  a\n",
       "1  1  2\n",
       "1  5  6"
      ]
     },
     "execution_count": 16,
     "metadata": {},
     "output_type": "execute_result"
    }
   ],
   "source": [
    "df1 = pd.DataFrame(np.array([[1, 2, 3, 4], [5, 6, 7, 8]]),\n",
    "                   index=(1, 1),\n",
    "                   columns=('a', 'a', 'b', 'c'))\n",
    "df1['a']"
   ]
  },
  {
   "cell_type": "markdown",
   "id": "15f62d5b",
   "metadata": {},
   "source": [
    "Que peut-on faire comme calculs sur nos colonnes ? Des tas de choses dont nous allons voir quelques exemples."
   ]
  },
  {
   "cell_type": "markdown",
   "id": "ddcc3283",
   "metadata": {},
   "source": [
    "### les petites fonctions statistiques sur les colonnes"
   ]
  },
  {
   "cell_type": "markdown",
   "id": "c441e2d0",
   "metadata": {},
   "source": [
    "Que peut-on faire sur une série de valeurs ?\n",
    "\n",
    "Si les valeurs sont quantitatives (comme l'âge) on peut essayer de mieux décrire cette colonne en calculant des fonctions comme le minimum, le maximun, la moyenne, l'écart-type, les quartiles ...\n",
    "\n",
    "Appliquons le à la colonne des âges :"
   ]
  },
  {
   "cell_type": "code",
   "execution_count": 17,
   "id": "c7cad150",
   "metadata": {},
   "outputs": [
    {
     "data": {
      "text/plain": [
       "count    714.000000\n",
       "mean      29.699118\n",
       "std       14.526497\n",
       "min        0.420000\n",
       "25%       20.125000\n",
       "50%       28.000000\n",
       "75%       38.000000\n",
       "max       80.000000\n",
       "Name: Age, dtype: float64"
      ]
     },
     "execution_count": 17,
     "metadata": {},
     "output_type": "execute_result"
    }
   ],
   "source": [
    "df['Age'].describe()"
   ]
  },
  {
   "cell_type": "markdown",
   "id": "e41c05a5",
   "metadata": {},
   "source": [
    "Ces calculs sont regroupées dans une méthode appelée `pandas.Series.describe`. On y voit que le plus jeune avait dans les 5 mois et le plus vieux 80 ans, que la moyenne d'âge est de presque 30 ans, que 75% des passagers avaient en dessous de 38 ans."
   ]
  },
  {
   "cell_type": "markdown",
   "id": "29d44c50",
   "metadata": {},
   "source": [
    "Si la valeur est qualitatives, ou catégorielle (comme le genre), on peut calculer le nombre des valeurs différentes et les fréquences de chacune de ces valeurs."
   ]
  },
  {
   "cell_type": "code",
   "execution_count": 18,
   "id": "ca7e5ab9",
   "metadata": {},
   "outputs": [
    {
     "data": {
      "text/plain": [
       "male      577\n",
       "female    314\n",
       "Name: Sex, dtype: int64"
      ]
     },
     "execution_count": 18,
     "metadata": {},
     "output_type": "execute_result"
    }
   ],
   "source": [
    "df['Sex'].value_counts()"
   ]
  },
  {
   "cell_type": "markdown",
   "id": "4d5c401e",
   "metadata": {},
   "source": [
    "Vous remarquez que les fonctions appliquées sont naturellement des fonctions **vectorisées** i.e. qui s'appliquent à tout un tableau à la fois (ici à toute une colonne à la fois)."
   ]
  },
  {
   "cell_type": "markdown",
   "id": "79fdfb49",
   "metadata": {},
   "source": [
    "### programmation vectorielle - conditions sur les éléments d'une colonne"
   ]
  },
  {
   "cell_type": "markdown",
   "id": "e3965ca0",
   "metadata": {},
   "source": [
    "Revenons à l'âge des passagers. Et si je voulais savoir, combien de passager avaient moins de 12 ans ? ou combien avaient plus de 65 ?"
   ]
  },
  {
   "cell_type": "markdown",
   "id": "98c8c19f",
   "metadata": {},
   "source": [
    "Rappelez-vous qu'en `numpy` on fait de la **programmation vectorielle**, i.e. on applique les fonctions à tout un tableau ou à tout un sous-tableau, et non en itérant sur les valeurs avec un for-Python ! et cela par souci d'efficacité !\n",
    "\n",
    "Il faut faire **pareil en `pandas`**: éviter les itérations sur les données, utiliser les fonctions vectorisées; ainsi l'itération sur les éléments sera faite dans le langage dans lequel sont écrits `numpy` et `pandas`, rapide et proche de la mémoire."
   ]
  },
  {
   "cell_type": "markdown",
   "id": "273565eb",
   "metadata": {},
   "source": [
    "Voici un premier exemple, avec les opérateurs de comparaison: ils s'appliquent à toute la colonne. Ainsi pour les moins de 12 ans je vais écrire simplement\n",
    "\n",
    "    df['Age'] < 12\n",
    "    \n",
    "et avec cette expression, je récupère un tableau de booléens qui me disent, pour chaque valeur de la colonne, comment elle répond à cette condition; en fait cette expression va me retourner un objet `Series` (comme une colonne)\n",
    "\n",
    "Ce tableau contient des `False` et des `True`. Et comment puis-je compter le nombre de résultats `True` qui me donnera le nombre d'enfants ?"
   ]
  },
  {
   "cell_type": "markdown",
   "id": "b69f6217",
   "metadata": {},
   "source": [
    "On le fait. Alors il va y avoir plusieurs manières.  \n",
    "(i)Je peux faire la somme de toutes les réponses (les `True` seront des 1 et les `False` des 0, c'est très pratique les booléens);  \n",
    "(ii) je peux aussi utiliser la fonction `value_counts`;\n",
    "\n",
    "Et il y a sûrement d'autres manières de faire ... On va montrer les deux (essayez de faire *\\%timeit* sur les deux lignes de code si vous voulez en comparer les performances):"
   ]
  },
  {
   "cell_type": "code",
   "execution_count": 19,
   "id": "ddd54c69",
   "metadata": {},
   "outputs": [
    {
     "data": {
      "text/plain": [
       "False    823\n",
       "True      68\n",
       "Name: Age, dtype: int64"
      ]
     },
     "execution_count": 19,
     "metadata": {},
     "output_type": "execute_result"
    }
   ],
   "source": [
    "# value_counts marche avec toutes les Series\n",
    "# pour compter le nombre d'occurrence des\n",
    "# différentes valeurs trouvées dans la colonne\n",
    "\n",
    "(df['Age']<12).value_counts()"
   ]
  },
  {
   "cell_type": "markdown",
   "id": "f62f3e4a",
   "metadata": {},
   "source": [
    "Donc on a 68 passagers de moins de 12 ans dans cette table."
   ]
  },
  {
   "cell_type": "code",
   "execution_count": 20,
   "id": "892bd6f1",
   "metadata": {},
   "outputs": [
    {
     "data": {
      "text/plain": [
       "68"
      ]
     },
     "execution_count": 20,
     "metadata": {},
     "output_type": "execute_result"
    }
   ],
   "source": [
    "# on peut faire la somme lorsqu'on \n",
    "# sait qu'on n'a que des booléens\n",
    "\n",
    "(df['Age'] < 12).sum()"
   ]
  },
  {
   "cell_type": "markdown",
   "id": "9084bd54",
   "metadata": {},
   "source": [
    "Oui, voilà la même chose calculée différemment."
   ]
  },
  {
   "cell_type": "markdown",
   "id": "d4564c0b",
   "metadata": {},
   "source": [
    "Est-ce qu'on peut dire qu'il y a *823* passagers de plus de 12 ans (attention piège ...) ?\n",
    "\n",
    "En fait on ne peut pas le dire en regardant les âges. Pourquoi ? Affichez la table des âges."
   ]
  },
  {
   "cell_type": "code",
   "execution_count": 21,
   "id": "4076eb6c",
   "metadata": {},
   "outputs": [
    {
     "data": {
      "text/plain": [
       "PassengerId\n",
       "1      22.0\n",
       "2      38.0\n",
       "3      26.0\n",
       "4      35.0\n",
       "5      35.0\n",
       "       ... \n",
       "887    27.0\n",
       "888    19.0\n",
       "889     NaN\n",
       "890    26.0\n",
       "891    32.0\n",
       "Name: Age, Length: 891, dtype: float64"
      ]
     },
     "execution_count": 21,
     "metadata": {},
     "output_type": "execute_result"
    }
   ],
   "source": [
    "df['Age']"
   ]
  },
  {
   "cell_type": "markdown",
   "id": "4e039a29",
   "metadata": {},
   "source": [
    "Effectivement on remarque que le passager 889 à un âge un peu particulier qui est *NaN* ! Allons-y voir de plus prés ! Quel est donc cet étrange `Age` et son type ?"
   ]
  },
  {
   "cell_type": "markdown",
   "id": "df81ea3b",
   "metadata": {},
   "source": [
    "## les valeurs manquantes, NA (non-available) ou NaN (not-a-number)"
   ]
  },
  {
   "cell_type": "markdown",
   "id": "597885a9",
   "metadata": {},
   "source": [
    "Donc nous venons de nous rendre compte que dans la colonne `Age` le passager d'index *889* a un *NaN* et pas un nombre flottant ! Élucidons vite ce mystère !\n",
    "\n",
    "Affichons cet élément."
   ]
  },
  {
   "cell_type": "code",
   "execution_count": 22,
   "id": "f77e3a83",
   "metadata": {},
   "outputs": [
    {
     "data": {
      "text/plain": [
       "nan"
      ]
     },
     "execution_count": 22,
     "metadata": {},
     "output_type": "execute_result"
    }
   ],
   "source": [
    "df['Age'][889]"
   ]
  },
  {
   "cell_type": "markdown",
   "id": "261ba7ed",
   "metadata": {},
   "source": [
    "C'est bien toujours un `nan` (en fait `np.nan`)"
   ]
  },
  {
   "cell_type": "markdown",
   "id": "3dd50778",
   "metadata": {},
   "source": [
    "Regardons le type de l'élément `nan` ... heu ... `pandas` a dit `float64`, on pourrait peut-être le croire ! oui mais vérifions quand même:"
   ]
  },
  {
   "cell_type": "code",
   "execution_count": 23,
   "id": "af97a4e1",
   "metadata": {},
   "outputs": [
    {
     "data": {
      "text/plain": [
       "numpy.float64"
      ]
     },
     "execution_count": 23,
     "metadata": {},
     "output_type": "execute_result"
    }
   ],
   "source": [
    "type(df['Age'][889])"
   ]
  },
  {
   "cell_type": "markdown",
   "id": "324331ee",
   "metadata": {},
   "source": [
    "Oh c'est bien un flottant ! Mais quel est donc de drôle de flottant ? Une idée ?\n",
    "\n",
    "Et bien c'est le flottant qui signifie *Not A Number* parce que là, tout simplement, cette table ne connait pas l'âge de cette personne et elle l'indique avec cette valeur `nan` de type flottant.\n",
    "\n",
    "Regardons dans le fichier *csv* comment est indiquée cette absence de valeur ... une idée ?\n",
    "\n",
    "```\n",
    "889,0,3,\"Johnston, Miss. Catherine Helen \"\"Carrie\"\"\",female,,1,2,W./C. 6607,23.45,,S\n",
    "```\n",
    "\n",
    "Alors cette absence de valeur ? ahhh ce sont tout simplement  `,,`  deux virgules qui se suivent avec rien entre elles, pas bête ! Cette valeur est aussi appelée *NA* pour *Not Available*."
   ]
  },
  {
   "cell_type": "markdown",
   "id": "38d1bddc",
   "metadata": {},
   "source": [
    "Ainsi nous ne connaissons pas l'âge de certains passagers. Pouvons-nous dire combien il nous manque d'informations dans la colonne des âges ?\n",
    "\n",
    "Pour cela, on peut utiliser (par exemple) la fonction `pandas.Series.notna` qui va nous rendre une colonne de `True` et de `False` et tout simplement - comme pour le test de l'âge inférieur à 12 ans ci-dessus - on va compter les `True` (qui sont donc les passagers pour lesquels la valeur de l'âge est `notna` !)."
   ]
  },
  {
   "cell_type": "code",
   "execution_count": 24,
   "id": "28ad1a99",
   "metadata": {},
   "outputs": [
    {
     "data": {
      "text/plain": [
       "714"
      ]
     },
     "execution_count": 24,
     "metadata": {},
     "output_type": "execute_result"
    }
   ],
   "source": [
    "np.sum(df['Age'].notna())"
   ]
  },
  {
   "cell_type": "markdown",
   "id": "576bf742",
   "metadata": {},
   "source": [
    "On connait l'âge de 714 passagers."
   ]
  },
  {
   "cell_type": "markdown",
   "id": "afd36100",
   "metadata": {
    "tags": []
   },
   "source": [
    "Pour combien de passagers nous manque-t-il l'information d'âge ? On a l'embarras du choix ... \n",
    "   - Soit on utilise *714* qu'on retranche au nombre total de passagers (qui est le nombre de lignes ou encore la longueur `len` de la table).\n",
    "   - Soit on prend la négation de la colonne de booléen (`np.logical_not` or `~`) et on compte les `True`.\n",
    "   - Soit on utilise la fonction `pandas.Series.isna` qui nous renvoie une colonne de `True` et `False` et on compte le nombre de `True`.\n",
    "   - Soit on utilise `pandas.value_counts` sur le tableau de booléens...\n",
    "   \n",
    "je vous montre l'une des solutions les plus rapides: compter le nombre de `True` dans la colonne résultant du test."
   ]
  },
  {
   "cell_type": "code",
   "execution_count": 25,
   "id": "25bba02f",
   "metadata": {},
   "outputs": [
    {
     "data": {
      "text/plain": [
       "177"
      ]
     },
     "execution_count": 25,
     "metadata": {},
     "output_type": "execute_result"
    }
   ],
   "source": [
    "(df['Age'].isna()).sum()"
   ]
  },
  {
   "cell_type": "markdown",
   "id": "89462e0a",
   "metadata": {},
   "source": [
    "Donc 177 informations sur l'âge sont manquantes."
   ]
  },
  {
   "cell_type": "markdown",
   "id": "0303502f",
   "metadata": {},
   "source": [
    "Si vous voulions faires des opérations booléennes entre les colonnes, il faut utiliser les fonctions dédiées `np.logical_not`, `np.logical_and`, `np.logical_or`... ou leur contrepartie resp. `~`, `&` et `|`."
   ]
  },
  {
   "cell_type": "code",
   "execution_count": 26,
   "id": "a441a2ee",
   "metadata": {},
   "outputs": [
    {
     "data": {
      "text/plain": [
       "714"
      ]
     },
     "execution_count": 26,
     "metadata": {},
     "output_type": "execute_result"
    }
   ],
   "source": [
    "np.sum(np.logical_not(df['Age'].isna()))"
   ]
  },
  {
   "cell_type": "markdown",
   "id": "67141c4a",
   "metadata": {},
   "source": [
    "Reprenons dans le fichier *csv* la passagère *889*.\n",
    "\n",
    "```\n",
    "889,0,3,\"Johnston, Miss. Catherine Helen \"\"Carrie\"\"\",female,,1,2,W./C. 6607,23.45,,S\n",
    "```"
   ]
  },
  {
   "cell_type": "markdown",
   "id": "3065820f",
   "metadata": {},
   "source": [
    "On remarque que la valeur de son avant-dernière colonne n'est pas non plus indiquée. Regardons alors quelle est l'avant dernière colonne et accédons à sa série de valeurs. Les colonnes sont données par le champ `columns` et l'indice de l'avant-dernier sera `-2`."
   ]
  },
  {
   "cell_type": "code",
   "execution_count": 27,
   "id": "70a07577",
   "metadata": {},
   "outputs": [
    {
     "data": {
      "text/plain": [
       "'Cabin'"
      ]
     },
     "execution_count": 27,
     "metadata": {},
     "output_type": "execute_result"
    }
   ],
   "source": [
    "df.columns[-2]"
   ]
  },
  {
   "cell_type": "markdown",
   "id": "3c140f95",
   "metadata": {},
   "source": [
    "Regardons la colonne des `Cabin`."
   ]
  },
  {
   "cell_type": "code",
   "execution_count": 28,
   "id": "7153773a",
   "metadata": {},
   "outputs": [
    {
     "data": {
      "text/plain": [
       "PassengerId\n",
       "1       NaN\n",
       "2       C85\n",
       "3       NaN\n",
       "4      C123\n",
       "5       NaN\n",
       "       ... \n",
       "887     NaN\n",
       "888     B42\n",
       "889     NaN\n",
       "890    C148\n",
       "891     NaN\n",
       "Name: Cabin, Length: 891, dtype: object"
      ]
     },
     "execution_count": 28,
     "metadata": {},
     "output_type": "execute_result"
    }
   ],
   "source": [
    "df['Cabin']"
   ]
  },
  {
   "cell_type": "markdown",
   "id": "07df48de",
   "metadata": {},
   "source": [
    "Vous remarquez que dans ce cas là aussi, la valeur manquante est indiquée par un *NaN*, avec un type des éléments `object` (on reviendra plus tard sur les types).\n",
    "\n",
    "À vous de jouer. Calculez le nombre de valeurs manquantes dans la colonne des numéros des cabines."
   ]
  },
  {
   "cell_type": "code",
   "execution_count": 29,
   "id": "02c26e9a",
   "metadata": {},
   "outputs": [],
   "source": [
    "# votre code ici"
   ]
  },
  {
   "cell_type": "markdown",
   "id": "6d03e5d7",
   "metadata": {},
   "source": [
    "Une `pandas.DataFrame` a aussi des lignes, nous allons les voir dans la section suivante..."
   ]
  },
  {
   "cell_type": "markdown",
   "id": "420b6bf8",
   "metadata": {},
   "source": [
    "## les lignes de la table"
   ]
  },
  {
   "cell_type": "markdown",
   "id": "d911702d",
   "metadata": {},
   "source": [
    "### index et indice"
   ]
  },
  {
   "cell_type": "markdown",
   "id": "7c51f2df",
   "metadata": {},
   "source": [
    "On a vu que `pandas` tend à favoriser l'utilisation des index.\n",
    "\n",
    "Il est important avec `pandas` de bien faire la différence entre ***index*** et ***indice*** :\n",
    "\n",
    "* les **index** peuvent être un peu ce qu'on veut, ici on a des entiers, ça pourrait être aussi bien des **chaînes de caractères**\n",
    "* les **indices** sont **toujours(( des **entiers** qui **commencent à 0** (comme les indices des listes et des tableau)\n",
    "\n",
    "Une autre différence importante, c'est que l'**index appartient à la ligne**, et sera préservé par exemple lors d'un tri ou d'une insertion; alors qu'au contraire bien sûr, les indices eux se retrouvent tout chamboulés"
   ]
  },
  {
   "cell_type": "markdown",
   "id": "dd244cea",
   "metadata": {},
   "source": [
    "Dans l'état actuel de la dataframe, l'index (qui coincide ici avec `PassengerId`, et qui commence à 1), est très voisin de l'indice (qui commence toujours à 0). \n",
    "\n",
    "Du coup les deux sont très proches, et on risque de s'emmêler; pour rendre les choses plus claires, nous allons trier la table - disons selon les âges des passager."
   ]
  },
  {
   "cell_type": "code",
   "execution_count": 30,
   "id": "9d609069",
   "metadata": {},
   "outputs": [
    {
     "data": {
      "text/html": [
       "<div>\n",
       "<style scoped>\n",
       "    .dataframe tbody tr th:only-of-type {\n",
       "        vertical-align: middle;\n",
       "    }\n",
       "\n",
       "    .dataframe tbody tr th {\n",
       "        vertical-align: top;\n",
       "    }\n",
       "\n",
       "    .dataframe thead th {\n",
       "        text-align: right;\n",
       "    }\n",
       "</style>\n",
       "<table border=\"1\" class=\"dataframe\">\n",
       "  <thead>\n",
       "    <tr style=\"text-align: right;\">\n",
       "      <th></th>\n",
       "      <th>Survived</th>\n",
       "      <th>Pclass</th>\n",
       "      <th>Name</th>\n",
       "      <th>Sex</th>\n",
       "      <th>Age</th>\n",
       "      <th>SibSp</th>\n",
       "      <th>Parch</th>\n",
       "      <th>Ticket</th>\n",
       "      <th>Fare</th>\n",
       "      <th>Cabin</th>\n",
       "      <th>Embarked</th>\n",
       "    </tr>\n",
       "    <tr>\n",
       "      <th>PassengerId</th>\n",
       "      <th></th>\n",
       "      <th></th>\n",
       "      <th></th>\n",
       "      <th></th>\n",
       "      <th></th>\n",
       "      <th></th>\n",
       "      <th></th>\n",
       "      <th></th>\n",
       "      <th></th>\n",
       "      <th></th>\n",
       "      <th></th>\n",
       "    </tr>\n",
       "  </thead>\n",
       "  <tbody>\n",
       "    <tr>\n",
       "      <th>1</th>\n",
       "      <td>0</td>\n",
       "      <td>3</td>\n",
       "      <td>Braund, Mr. Owen Harris</td>\n",
       "      <td>male</td>\n",
       "      <td>22.0</td>\n",
       "      <td>1</td>\n",
       "      <td>0</td>\n",
       "      <td>A/5 21171</td>\n",
       "      <td>7.2500</td>\n",
       "      <td>NaN</td>\n",
       "      <td>S</td>\n",
       "    </tr>\n",
       "    <tr>\n",
       "      <th>2</th>\n",
       "      <td>1</td>\n",
       "      <td>1</td>\n",
       "      <td>Cumings, Mrs. John Bradley (Florence Briggs Th...</td>\n",
       "      <td>female</td>\n",
       "      <td>38.0</td>\n",
       "      <td>1</td>\n",
       "      <td>0</td>\n",
       "      <td>PC 17599</td>\n",
       "      <td>71.2833</td>\n",
       "      <td>C85</td>\n",
       "      <td>C</td>\n",
       "    </tr>\n",
       "    <tr>\n",
       "      <th>3</th>\n",
       "      <td>1</td>\n",
       "      <td>3</td>\n",
       "      <td>Heikkinen, Miss. Laina</td>\n",
       "      <td>female</td>\n",
       "      <td>26.0</td>\n",
       "      <td>0</td>\n",
       "      <td>0</td>\n",
       "      <td>STON/O2. 3101282</td>\n",
       "      <td>7.9250</td>\n",
       "      <td>NaN</td>\n",
       "      <td>S</td>\n",
       "    </tr>\n",
       "    <tr>\n",
       "      <th>4</th>\n",
       "      <td>1</td>\n",
       "      <td>1</td>\n",
       "      <td>Futrelle, Mrs. Jacques Heath (Lily May Peel)</td>\n",
       "      <td>female</td>\n",
       "      <td>35.0</td>\n",
       "      <td>1</td>\n",
       "      <td>0</td>\n",
       "      <td>113803</td>\n",
       "      <td>53.1000</td>\n",
       "      <td>C123</td>\n",
       "      <td>S</td>\n",
       "    </tr>\n",
       "    <tr>\n",
       "      <th>5</th>\n",
       "      <td>0</td>\n",
       "      <td>3</td>\n",
       "      <td>Allen, Mr. William Henry</td>\n",
       "      <td>male</td>\n",
       "      <td>35.0</td>\n",
       "      <td>0</td>\n",
       "      <td>0</td>\n",
       "      <td>373450</td>\n",
       "      <td>8.0500</td>\n",
       "      <td>NaN</td>\n",
       "      <td>S</td>\n",
       "    </tr>\n",
       "  </tbody>\n",
       "</table>\n",
       "</div>"
      ],
      "text/plain": [
       "             Survived  Pclass  \\\n",
       "PassengerId                     \n",
       "1                   0       3   \n",
       "2                   1       1   \n",
       "3                   1       3   \n",
       "4                   1       1   \n",
       "5                   0       3   \n",
       "\n",
       "                                                          Name     Sex   Age  \\\n",
       "PassengerId                                                                    \n",
       "1                                      Braund, Mr. Owen Harris    male  22.0   \n",
       "2            Cumings, Mrs. John Bradley (Florence Briggs Th...  female  38.0   \n",
       "3                                       Heikkinen, Miss. Laina  female  26.0   \n",
       "4                 Futrelle, Mrs. Jacques Heath (Lily May Peel)  female  35.0   \n",
       "5                                     Allen, Mr. William Henry    male  35.0   \n",
       "\n",
       "             SibSp  Parch            Ticket     Fare Cabin Embarked  \n",
       "PassengerId                                                          \n",
       "1                1      0         A/5 21171   7.2500   NaN        S  \n",
       "2                1      0          PC 17599  71.2833   C85        C  \n",
       "3                0      0  STON/O2. 3101282   7.9250   NaN        S  \n",
       "4                1      0            113803  53.1000  C123        S  \n",
       "5                0      0            373450   8.0500   NaN        S  "
      ]
     },
     "execution_count": 30,
     "metadata": {},
     "output_type": "execute_result"
    }
   ],
   "source": [
    "# on recharge la table\n",
    "df = pd.read_csv(\"titanic.csv\").set_index('PassengerId')\n",
    "\n",
    "# avant de trier: la première ligne a\n",
    "# son indice = 0 (c'est la premiere)\n",
    "# son index = 1 (PassengerId)\n",
    "\n",
    "df.head()"
   ]
  },
  {
   "cell_type": "code",
   "execution_count": 31,
   "id": "16e607ee",
   "metadata": {},
   "outputs": [
    {
     "data": {
      "text/html": [
       "<div>\n",
       "<style scoped>\n",
       "    .dataframe tbody tr th:only-of-type {\n",
       "        vertical-align: middle;\n",
       "    }\n",
       "\n",
       "    .dataframe tbody tr th {\n",
       "        vertical-align: top;\n",
       "    }\n",
       "\n",
       "    .dataframe thead th {\n",
       "        text-align: right;\n",
       "    }\n",
       "</style>\n",
       "<table border=\"1\" class=\"dataframe\">\n",
       "  <thead>\n",
       "    <tr style=\"text-align: right;\">\n",
       "      <th></th>\n",
       "      <th>Survived</th>\n",
       "      <th>Pclass</th>\n",
       "      <th>Name</th>\n",
       "      <th>Sex</th>\n",
       "      <th>Age</th>\n",
       "      <th>SibSp</th>\n",
       "      <th>Parch</th>\n",
       "      <th>Ticket</th>\n",
       "      <th>Fare</th>\n",
       "      <th>Cabin</th>\n",
       "      <th>Embarked</th>\n",
       "    </tr>\n",
       "    <tr>\n",
       "      <th>PassengerId</th>\n",
       "      <th></th>\n",
       "      <th></th>\n",
       "      <th></th>\n",
       "      <th></th>\n",
       "      <th></th>\n",
       "      <th></th>\n",
       "      <th></th>\n",
       "      <th></th>\n",
       "      <th></th>\n",
       "      <th></th>\n",
       "      <th></th>\n",
       "    </tr>\n",
       "  </thead>\n",
       "  <tbody>\n",
       "    <tr>\n",
       "      <th>804</th>\n",
       "      <td>1</td>\n",
       "      <td>3</td>\n",
       "      <td>Thomas, Master. Assad Alexander</td>\n",
       "      <td>male</td>\n",
       "      <td>0.42</td>\n",
       "      <td>0</td>\n",
       "      <td>1</td>\n",
       "      <td>2625</td>\n",
       "      <td>8.5167</td>\n",
       "      <td>NaN</td>\n",
       "      <td>C</td>\n",
       "    </tr>\n",
       "    <tr>\n",
       "      <th>756</th>\n",
       "      <td>1</td>\n",
       "      <td>2</td>\n",
       "      <td>Hamalainen, Master. Viljo</td>\n",
       "      <td>male</td>\n",
       "      <td>0.67</td>\n",
       "      <td>1</td>\n",
       "      <td>1</td>\n",
       "      <td>250649</td>\n",
       "      <td>14.5000</td>\n",
       "      <td>NaN</td>\n",
       "      <td>S</td>\n",
       "    </tr>\n",
       "    <tr>\n",
       "      <th>645</th>\n",
       "      <td>1</td>\n",
       "      <td>3</td>\n",
       "      <td>Baclini, Miss. Eugenie</td>\n",
       "      <td>female</td>\n",
       "      <td>0.75</td>\n",
       "      <td>2</td>\n",
       "      <td>1</td>\n",
       "      <td>2666</td>\n",
       "      <td>19.2583</td>\n",
       "      <td>NaN</td>\n",
       "      <td>C</td>\n",
       "    </tr>\n",
       "    <tr>\n",
       "      <th>470</th>\n",
       "      <td>1</td>\n",
       "      <td>3</td>\n",
       "      <td>Baclini, Miss. Helene Barbara</td>\n",
       "      <td>female</td>\n",
       "      <td>0.75</td>\n",
       "      <td>2</td>\n",
       "      <td>1</td>\n",
       "      <td>2666</td>\n",
       "      <td>19.2583</td>\n",
       "      <td>NaN</td>\n",
       "      <td>C</td>\n",
       "    </tr>\n",
       "    <tr>\n",
       "      <th>79</th>\n",
       "      <td>1</td>\n",
       "      <td>2</td>\n",
       "      <td>Caldwell, Master. Alden Gates</td>\n",
       "      <td>male</td>\n",
       "      <td>0.83</td>\n",
       "      <td>0</td>\n",
       "      <td>2</td>\n",
       "      <td>248738</td>\n",
       "      <td>29.0000</td>\n",
       "      <td>NaN</td>\n",
       "      <td>S</td>\n",
       "    </tr>\n",
       "  </tbody>\n",
       "</table>\n",
       "</div>"
      ],
      "text/plain": [
       "             Survived  Pclass                             Name     Sex   Age  \\\n",
       "PassengerId                                                                    \n",
       "804                 1       3  Thomas, Master. Assad Alexander    male  0.42   \n",
       "756                 1       2        Hamalainen, Master. Viljo    male  0.67   \n",
       "645                 1       3           Baclini, Miss. Eugenie  female  0.75   \n",
       "470                 1       3    Baclini, Miss. Helene Barbara  female  0.75   \n",
       "79                  1       2    Caldwell, Master. Alden Gates    male  0.83   \n",
       "\n",
       "             SibSp  Parch  Ticket     Fare Cabin Embarked  \n",
       "PassengerId                                                \n",
       "804              0      1    2625   8.5167   NaN        C  \n",
       "756              1      1  250649  14.5000   NaN        S  \n",
       "645              2      1    2666  19.2583   NaN        C  \n",
       "470              2      1    2666  19.2583   NaN        C  \n",
       "79               0      2  248738  29.0000   NaN        S  "
      ]
     },
     "execution_count": 31,
     "metadata": {},
     "output_type": "execute_result"
    }
   ],
   "source": [
    "# je trie la dataframe (sans faire de copie)\n",
    "# on reparlera plus longuement des méthodes de tri plus tard\n",
    "\n",
    "df.sort_values(by='Age', inplace=True)\n",
    "\n",
    "df.head()"
   ]
  },
  {
   "cell_type": "markdown",
   "id": "e2880213",
   "metadata": {},
   "source": [
    "Dans cette version triée, la ligne correspondant à Miss Eugenie Baclini a  pour index `645`, et pour indice `2`."
   ]
  },
  {
   "cell_type": "markdown",
   "id": "9cf63b9c",
   "metadata": {},
   "source": [
    "### contenu de l'index"
   ]
  },
  {
   "cell_type": "markdown",
   "id": "046e3e6a",
   "metadata": {},
   "source": [
    "Comment connaître les index des lignes ?\n",
    "\n",
    "Ils sont accessibles grâce à la méthode `pandas.DataFrame.index`."
   ]
  },
  {
   "cell_type": "code",
   "execution_count": 32,
   "id": "74572d0a",
   "metadata": {},
   "outputs": [
    {
     "data": {
      "text/plain": [
       "Int64Index([804, 756, 645, 470,  79, 832, 306, 828, 382, 165,\n",
       "            ...\n",
       "            833, 838, 840, 847, 850, 860, 864, 869, 879, 889],\n",
       "           dtype='int64', name='PassengerId', length=891)"
      ]
     },
     "execution_count": 32,
     "metadata": {},
     "output_type": "execute_result"
    }
   ],
   "source": [
    "# comme pour df.columns, le résultat est un Index\n",
    "\n",
    "df.index"
   ]
  },
  {
   "cell_type": "code",
   "execution_count": 33,
   "id": "57cb6bac",
   "metadata": {
    "cell_style": "split"
   },
   "outputs": [
    {
     "data": {
      "text/plain": [
       "True"
      ]
     },
     "execution_count": 33,
     "metadata": {},
     "output_type": "execute_result"
    }
   ],
   "source": [
    "# par exemple pour savoir s'il existe \n",
    "# dans la table un PassengerId qui vaut 645\n",
    "\n",
    "645 in df.index"
   ]
  },
  {
   "cell_type": "code",
   "execution_count": 34,
   "id": "e77a3e5c",
   "metadata": {
    "cell_style": "split"
   },
   "outputs": [
    {
     "data": {
      "text/plain": [
       "False"
      ]
     },
     "execution_count": 34,
     "metadata": {},
     "output_type": "execute_result"
    }
   ],
   "source": [
    "1000 in df.index"
   ]
  },
  {
   "cell_type": "markdown",
   "id": "2747332e",
   "metadata": {
    "tags": [
     "level_advanced"
    ]
   },
   "source": [
    "pour les curieux, qui s'interrogeraient sur la relation entre `Index` et `Int64Index` :  \n",
    "\n",
    "* il se trouve que dans cette dataframe, l'index a des valeurs entières,  \n",
    "  c'est pourquoi `pandas` a choisi pour lui le type `Int64Index`  \n",
    "* on peut vérifier que cet objet est bien aussi un `Index` :"
   ]
  },
  {
   "cell_type": "code",
   "execution_count": 35,
   "id": "cff715c5",
   "metadata": {
    "tags": [
     "level_advanced"
    ]
   },
   "outputs": [
    {
     "data": {
      "text/plain": [
       "True"
      ]
     },
     "execution_count": 35,
     "metadata": {},
     "output_type": "execute_result"
    }
   ],
   "source": [
    "# Int64Index est bien une sous-classe de Index\n",
    "\n",
    "issubclass(pd.Int64Index, pd.Index)"
   ]
  },
  {
   "cell_type": "code",
   "execution_count": 36,
   "id": "7f44ab85",
   "metadata": {
    "tags": [
     "level_advanced"
    ]
   },
   "outputs": [
    {
     "data": {
      "text/plain": [
       "True"
      ]
     },
     "execution_count": 36,
     "metadata": {},
     "output_type": "execute_result"
    }
   ],
   "source": [
    "# on peut le vérifer aussi comme ceci,\n",
    "# de manière équivalente\n",
    "\n",
    "isinstance(df.index, pd.Index)"
   ]
  },
  {
   "cell_type": "markdown",
   "id": "6a351376",
   "metadata": {},
   "source": [
    "### accéder aux lignes et cellules : utilisez `loc`"
   ]
  },
  {
   "cell_type": "markdown",
   "id": "61df47dc",
   "metadata": {},
   "source": [
    "La **méthode recommandée** pour accéder à une ligne, (ou à une cellule d'ailleurs, on en reparlera), consiste à **utiliser les index**. \n",
    "\n",
    "La philosophie de `pandas`, de façon générale, consiste à **favoriser** les accès par **index** - par opposition aux accès par indices."
   ]
  },
  {
   "cell_type": "markdown",
   "id": "f852b0b0",
   "metadata": {},
   "source": [
    "Les accès par **index** se font au travers de `loc`; voici comment ça se présente :"
   ]
  },
  {
   "cell_type": "code",
   "execution_count": 37,
   "id": "92e9a112",
   "metadata": {},
   "outputs": [
    {
     "data": {
      "text/plain": [
       "Survived                                           0\n",
       "Pclass                                             3\n",
       "Name        Johnston, Miss. Catherine Helen \"Carrie\"\n",
       "Sex                                           female\n",
       "Age                                              NaN\n",
       "SibSp                                              1\n",
       "Parch                                              2\n",
       "Ticket                                    W./C. 6607\n",
       "Fare                                           23.45\n",
       "Cabin                                            NaN\n",
       "Embarked                                           S\n",
       "Name: 889, dtype: object"
      ]
     },
     "execution_count": 37,
     "metadata": {},
     "output_type": "execute_result"
    }
   ],
   "source": [
    "# pour accéder à la personne dont le PassengerId est 889\n",
    "\n",
    "df.loc[889]"
   ]
  },
  {
   "cell_type": "code",
   "execution_count": 38,
   "id": "e2578800",
   "metadata": {},
   "outputs": [
    {
     "data": {
      "text/plain": [
       "pandas.core.series.Series"
      ]
     },
     "execution_count": 38,
     "metadata": {},
     "output_type": "execute_result"
    }
   ],
   "source": [
    "# remarquez que le résultat est, à nouveau, de type `Series`\n",
    "\n",
    "type(df.loc[889])"
   ]
  },
  {
   "cell_type": "markdown",
   "id": "d18fdcc5",
   "metadata": {},
   "source": [
    "La property `loc` permet aussi d'accéder aux cellules :"
   ]
  },
  {
   "cell_type": "code",
   "execution_count": 39,
   "id": "24d09afd",
   "metadata": {
    "cell_style": "center"
   },
   "outputs": [
    {
     "data": {
      "text/plain": [
       "3"
      ]
     },
     "execution_count": 39,
     "metadata": {},
     "output_type": "execute_result"
    }
   ],
   "source": [
    "df.loc[889, 'Pclass'] # le nom de la cellule est en seconde position"
   ]
  },
  {
   "cell_type": "markdown",
   "id": "e8e680ef",
   "metadata": {},
   "source": [
    "***RÉSUMÉ*** pour les accès en lecture\n",
    "\n",
    "* la forme `df['Age']` fonctionne bien pour **accéder aux colonnes** \n",
    "* la forme `df.loc[889]` permet **d'accéder aux lignes** d'après leur **index**\n",
    "* pour accéder à une cellule, on utilise\n",
    "  * `df.loc[889, 'Age']` ou\n",
    "  * `df['Age'][889]`\n",
    "* sauf que les deux formes ont **leurs indices renversés**; et de plus l'un utilise une virgule et l'autre des crochets !\n",
    "  * `df[colonne][ligne]` et   \n",
    "  * `df.loc[ligne, colonne]`  \n",
    "  c'est parmi les choses assez confusantes au sujet de pandas"
   ]
  },
  {
   "cell_type": "markdown",
   "id": "4847a9f5",
   "metadata": {},
   "source": [
    "On décompose l'expression `df['Age'][889]`  (*remarquez ici le chaînage des index `[][]`*) :\n",
    "* on accède à la colonne d'index `Age` de la DataFrame `df`\n",
    "* cet accès rend la série (`pandas.Series`) représentant la colonne `df['Age']`\n",
    "* on accède à l'index `889` de cette série"
   ]
  },
  {
   "cell_type": "markdown",
   "id": "3ff1b74c",
   "metadata": {},
   "source": [
    "**RÉSUMÉ** à propos des types\n",
    "\n",
    "* les tables pandas sont représentées par le type `DataFrame`\n",
    "* une dataframe a un index pour accéder aux colonnes (`df.columns`)  \n",
    "  et un index pour accéder aux lignes (`df.index`)  \n",
    "  ces deux objets sont de type `Index` \n",
    "* une colonne, ou une ligne, sont de type `Series` - qui correspond si on veut à des données en 1 seule dimension"
   ]
  },
  {
   "cell_type": "markdown",
   "id": "9194e60d",
   "metadata": {},
   "source": [
    "### modifier une cellule"
   ]
  },
  {
   "cell_type": "markdown",
   "id": "b32e9e7b",
   "metadata": {},
   "source": [
    "***MISE EN GARDE*** \n",
    "\n",
    "Pour modifier (écrire dans) une cellule, on pourrait penser écrire du code de ce genre\n",
    "\n",
    "* ~~`df.loc[889]['Age'] = 10`~~  \n",
    "  ou encore\n",
    "* ~~`df['Age'][889] = 10`~~\n",
    "\n",
    "**il ne faut PAS le faire**; \n",
    "si vous essayez l'une ou l'autre de ces formes, vous obtenez un gros avertissement (*A value is trying to be set on a copy of a slice from a DataFrame*) et parfois *miraculeusement* ça marche tout de même, mais c'est accidentel !"
   ]
  },
  {
   "cell_type": "code",
   "execution_count": 40,
   "id": "4443e0d5",
   "metadata": {},
   "outputs": [],
   "source": [
    "# df['Age'][889] = 10"
   ]
  },
  {
   "cell_type": "markdown",
   "id": "9f59e10a",
   "metadata": {},
   "source": [
    "La **bonne méthode**, je vous engage à en prendre l'habitude, consiste à utiliser cet idiome :\n",
    "\n",
    "* `df.loc[889, 'Age'] = 10`"
   ]
  },
  {
   "cell_type": "markdown",
   "id": "9894f404",
   "metadata": {
    "tags": [
     "level_intermediate"
    ]
   },
   "source": [
    "vous remarquez qu'ici \n",
    "\n",
    "* on a indexé l'objet `df.loc` **au travers d'un tuple**  \n",
    "  (souvenez-vous qu'en Python `889, 'Age'` est un tuple), \n",
    "* et **non pas en indexant deux fois**  \n",
    "  (quand on utilise une des deux formes à éviter  \n",
    "  on indexe une première fois par `889`  \n",
    "  puis on indexe le résultat par `'Age'`  \n",
    "  en anglais on parle de *chained indexing*)"
   ]
  },
  {
   "cell_type": "code",
   "execution_count": 41,
   "id": "ccb7241d",
   "metadata": {},
   "outputs": [
    {
     "data": {
      "text/plain": [
       "10.0"
      ]
     },
     "execution_count": 41,
     "metadata": {},
     "output_type": "execute_result"
    }
   ],
   "source": [
    "df.loc[889, 'Age'] = 10\n",
    "\n",
    "# pour vérifier \n",
    "df.loc[889, 'Age']\n",
    "# ou df['Age'][889] puisque vous ne modifiez pas !"
   ]
  },
  {
   "cell_type": "markdown",
   "id": "da42fc65",
   "metadata": {},
   "source": [
    "## accès par indices : `iloc` et `iat`"
   ]
  },
  {
   "cell_type": "markdown",
   "id": "ed601552",
   "metadata": {},
   "source": [
    "Bien que la plupart du temps on utilise les index pour accéder aux contenus, il se trouve parfois des situations où l'accès par indices peut être ponctuellement intéressant.\n",
    "\n",
    "Et en fait c'est **très** simple : pour **utiliser des indices** plutôt que des index, il sufit de **remplacer `loc` par `iloc`**\n",
    "\n",
    "Pour s'en souvenir, on peut se rappeler que le *i* veut dire *integer*, donc indices et non pas index"
   ]
  },
  {
   "cell_type": "code",
   "execution_count": 42,
   "id": "e02601c5",
   "metadata": {},
   "outputs": [
    {
     "data": {
      "text/html": [
       "<div>\n",
       "<style scoped>\n",
       "    .dataframe tbody tr th:only-of-type {\n",
       "        vertical-align: middle;\n",
       "    }\n",
       "\n",
       "    .dataframe tbody tr th {\n",
       "        vertical-align: top;\n",
       "    }\n",
       "\n",
       "    .dataframe thead th {\n",
       "        text-align: right;\n",
       "    }\n",
       "</style>\n",
       "<table border=\"1\" class=\"dataframe\">\n",
       "  <thead>\n",
       "    <tr style=\"text-align: right;\">\n",
       "      <th></th>\n",
       "      <th>Survived</th>\n",
       "      <th>Pclass</th>\n",
       "      <th>Name</th>\n",
       "      <th>Sex</th>\n",
       "      <th>Age</th>\n",
       "      <th>SibSp</th>\n",
       "      <th>Parch</th>\n",
       "      <th>Ticket</th>\n",
       "      <th>Fare</th>\n",
       "      <th>Cabin</th>\n",
       "      <th>Embarked</th>\n",
       "    </tr>\n",
       "    <tr>\n",
       "      <th>PassengerId</th>\n",
       "      <th></th>\n",
       "      <th></th>\n",
       "      <th></th>\n",
       "      <th></th>\n",
       "      <th></th>\n",
       "      <th></th>\n",
       "      <th></th>\n",
       "      <th></th>\n",
       "      <th></th>\n",
       "      <th></th>\n",
       "      <th></th>\n",
       "    </tr>\n",
       "  </thead>\n",
       "  <tbody>\n",
       "    <tr>\n",
       "      <th>804</th>\n",
       "      <td>1</td>\n",
       "      <td>3</td>\n",
       "      <td>Thomas, Master. Assad Alexander</td>\n",
       "      <td>male</td>\n",
       "      <td>0.42</td>\n",
       "      <td>0</td>\n",
       "      <td>1</td>\n",
       "      <td>2625</td>\n",
       "      <td>8.5167</td>\n",
       "      <td>NaN</td>\n",
       "      <td>C</td>\n",
       "    </tr>\n",
       "    <tr>\n",
       "      <th>756</th>\n",
       "      <td>1</td>\n",
       "      <td>2</td>\n",
       "      <td>Hamalainen, Master. Viljo</td>\n",
       "      <td>male</td>\n",
       "      <td>0.67</td>\n",
       "      <td>1</td>\n",
       "      <td>1</td>\n",
       "      <td>250649</td>\n",
       "      <td>14.5000</td>\n",
       "      <td>NaN</td>\n",
       "      <td>S</td>\n",
       "    </tr>\n",
       "    <tr>\n",
       "      <th>645</th>\n",
       "      <td>1</td>\n",
       "      <td>3</td>\n",
       "      <td>Baclini, Miss. Eugenie</td>\n",
       "      <td>female</td>\n",
       "      <td>0.75</td>\n",
       "      <td>2</td>\n",
       "      <td>1</td>\n",
       "      <td>2666</td>\n",
       "      <td>19.2583</td>\n",
       "      <td>NaN</td>\n",
       "      <td>C</td>\n",
       "    </tr>\n",
       "    <tr>\n",
       "      <th>470</th>\n",
       "      <td>1</td>\n",
       "      <td>3</td>\n",
       "      <td>Baclini, Miss. Helene Barbara</td>\n",
       "      <td>female</td>\n",
       "      <td>0.75</td>\n",
       "      <td>2</td>\n",
       "      <td>1</td>\n",
       "      <td>2666</td>\n",
       "      <td>19.2583</td>\n",
       "      <td>NaN</td>\n",
       "      <td>C</td>\n",
       "    </tr>\n",
       "    <tr>\n",
       "      <th>79</th>\n",
       "      <td>1</td>\n",
       "      <td>2</td>\n",
       "      <td>Caldwell, Master. Alden Gates</td>\n",
       "      <td>male</td>\n",
       "      <td>0.83</td>\n",
       "      <td>0</td>\n",
       "      <td>2</td>\n",
       "      <td>248738</td>\n",
       "      <td>29.0000</td>\n",
       "      <td>NaN</td>\n",
       "      <td>S</td>\n",
       "    </tr>\n",
       "  </tbody>\n",
       "</table>\n",
       "</div>"
      ],
      "text/plain": [
       "             Survived  Pclass                             Name     Sex   Age  \\\n",
       "PassengerId                                                                    \n",
       "804                 1       3  Thomas, Master. Assad Alexander    male  0.42   \n",
       "756                 1       2        Hamalainen, Master. Viljo    male  0.67   \n",
       "645                 1       3           Baclini, Miss. Eugenie  female  0.75   \n",
       "470                 1       3    Baclini, Miss. Helene Barbara  female  0.75   \n",
       "79                  1       2    Caldwell, Master. Alden Gates    male  0.83   \n",
       "\n",
       "             SibSp  Parch  Ticket     Fare Cabin Embarked  \n",
       "PassengerId                                                \n",
       "804              0      1    2625   8.5167   NaN        C  \n",
       "756              1      1  250649  14.5000   NaN        S  \n",
       "645              2      1    2666  19.2583   NaN        C  \n",
       "470              2      1    2666  19.2583   NaN        C  \n",
       "79               0      2  248738  29.0000   NaN        S  "
      ]
     },
     "execution_count": 42,
     "metadata": {},
     "output_type": "execute_result"
    }
   ],
   "source": [
    "# le contexte \n",
    "\n",
    "df.head()"
   ]
  },
  {
   "cell_type": "code",
   "execution_count": 43,
   "id": "ca3404f2",
   "metadata": {},
   "outputs": [
    {
     "data": {
      "text/plain": [
       "3"
      ]
     },
     "execution_count": 43,
     "metadata": {},
     "output_type": "execute_result"
    }
   ],
   "source": [
    "# on va upgrader un passager qui est en 3-ème classe\n",
    "\n",
    "# ligne d'indice 2 = PassengerId 645\n",
    "# colonne d'indice 1 = PClass\n",
    "df.iloc[2, 1]"
   ]
  },
  {
   "cell_type": "code",
   "execution_count": 44,
   "id": "60c9a6ae",
   "metadata": {},
   "outputs": [
    {
     "data": {
      "text/html": [
       "<div>\n",
       "<style scoped>\n",
       "    .dataframe tbody tr th:only-of-type {\n",
       "        vertical-align: middle;\n",
       "    }\n",
       "\n",
       "    .dataframe tbody tr th {\n",
       "        vertical-align: top;\n",
       "    }\n",
       "\n",
       "    .dataframe thead th {\n",
       "        text-align: right;\n",
       "    }\n",
       "</style>\n",
       "<table border=\"1\" class=\"dataframe\">\n",
       "  <thead>\n",
       "    <tr style=\"text-align: right;\">\n",
       "      <th></th>\n",
       "      <th>Survived</th>\n",
       "      <th>Pclass</th>\n",
       "      <th>Name</th>\n",
       "      <th>Sex</th>\n",
       "      <th>Age</th>\n",
       "      <th>SibSp</th>\n",
       "      <th>Parch</th>\n",
       "      <th>Ticket</th>\n",
       "      <th>Fare</th>\n",
       "      <th>Cabin</th>\n",
       "      <th>Embarked</th>\n",
       "    </tr>\n",
       "    <tr>\n",
       "      <th>PassengerId</th>\n",
       "      <th></th>\n",
       "      <th></th>\n",
       "      <th></th>\n",
       "      <th></th>\n",
       "      <th></th>\n",
       "      <th></th>\n",
       "      <th></th>\n",
       "      <th></th>\n",
       "      <th></th>\n",
       "      <th></th>\n",
       "      <th></th>\n",
       "    </tr>\n",
       "  </thead>\n",
       "  <tbody>\n",
       "    <tr>\n",
       "      <th>804</th>\n",
       "      <td>1</td>\n",
       "      <td>3</td>\n",
       "      <td>Thomas, Master. Assad Alexander</td>\n",
       "      <td>male</td>\n",
       "      <td>0.42</td>\n",
       "      <td>0</td>\n",
       "      <td>1</td>\n",
       "      <td>2625</td>\n",
       "      <td>8.5167</td>\n",
       "      <td>NaN</td>\n",
       "      <td>C</td>\n",
       "    </tr>\n",
       "    <tr>\n",
       "      <th>756</th>\n",
       "      <td>1</td>\n",
       "      <td>2</td>\n",
       "      <td>Hamalainen, Master. Viljo</td>\n",
       "      <td>male</td>\n",
       "      <td>0.67</td>\n",
       "      <td>1</td>\n",
       "      <td>1</td>\n",
       "      <td>250649</td>\n",
       "      <td>14.5000</td>\n",
       "      <td>NaN</td>\n",
       "      <td>S</td>\n",
       "    </tr>\n",
       "    <tr>\n",
       "      <th>645</th>\n",
       "      <td>1</td>\n",
       "      <td>2</td>\n",
       "      <td>Baclini, Miss. Eugenie</td>\n",
       "      <td>female</td>\n",
       "      <td>0.75</td>\n",
       "      <td>2</td>\n",
       "      <td>1</td>\n",
       "      <td>2666</td>\n",
       "      <td>19.2583</td>\n",
       "      <td>NaN</td>\n",
       "      <td>C</td>\n",
       "    </tr>\n",
       "    <tr>\n",
       "      <th>470</th>\n",
       "      <td>1</td>\n",
       "      <td>3</td>\n",
       "      <td>Baclini, Miss. Helene Barbara</td>\n",
       "      <td>female</td>\n",
       "      <td>0.75</td>\n",
       "      <td>2</td>\n",
       "      <td>1</td>\n",
       "      <td>2666</td>\n",
       "      <td>19.2583</td>\n",
       "      <td>NaN</td>\n",
       "      <td>C</td>\n",
       "    </tr>\n",
       "    <tr>\n",
       "      <th>79</th>\n",
       "      <td>1</td>\n",
       "      <td>2</td>\n",
       "      <td>Caldwell, Master. Alden Gates</td>\n",
       "      <td>male</td>\n",
       "      <td>0.83</td>\n",
       "      <td>0</td>\n",
       "      <td>2</td>\n",
       "      <td>248738</td>\n",
       "      <td>29.0000</td>\n",
       "      <td>NaN</td>\n",
       "      <td>S</td>\n",
       "    </tr>\n",
       "  </tbody>\n",
       "</table>\n",
       "</div>"
      ],
      "text/plain": [
       "             Survived  Pclass                             Name     Sex   Age  \\\n",
       "PassengerId                                                                    \n",
       "804                 1       3  Thomas, Master. Assad Alexander    male  0.42   \n",
       "756                 1       2        Hamalainen, Master. Viljo    male  0.67   \n",
       "645                 1       2           Baclini, Miss. Eugenie  female  0.75   \n",
       "470                 1       3    Baclini, Miss. Helene Barbara  female  0.75   \n",
       "79                  1       2    Caldwell, Master. Alden Gates    male  0.83   \n",
       "\n",
       "             SibSp  Parch  Ticket     Fare Cabin Embarked  \n",
       "PassengerId                                                \n",
       "804              0      1    2625   8.5167   NaN        C  \n",
       "756              1      1  250649  14.5000   NaN        S  \n",
       "645              2      1    2666  19.2583   NaN        C  \n",
       "470              2      1    2666  19.2583   NaN        C  \n",
       "79               0      2  248738  29.0000   NaN        S  "
      ]
     },
     "execution_count": 44,
     "metadata": {},
     "output_type": "execute_result"
    }
   ],
   "source": [
    "# si vous voulez coder par indices, utilisez iloc \n",
    "\n",
    "# regardez la nouvelle valeur de Pclass sur le passager 645\n",
    "df.iloc[2, 1] = 2\n",
    "df.head()"
   ]
  },
  {
   "cell_type": "markdown",
   "id": "e5ef1c68",
   "metadata": {},
   "source": [
    "## exercice"
   ]
  },
  {
   "cell_type": "markdown",
   "id": "f3e38bef",
   "metadata": {},
   "source": [
    "### lecture d'un petit-titanic"
   ]
  },
  {
   "cell_type": "markdown",
   "id": "d019f527",
   "metadata": {},
   "source": [
    "Là aussi deux niveaux d'exercices, le premier pour les débutants et le second pour les avancés (ou les débutants une fois compris le premier)."
   ]
  },
  {
   "cell_type": "markdown",
   "id": "f40ebfc3",
   "metadata": {},
   "source": [
    "Le fichier `petit-titanic.csv` contient les 10 premières lignes de passagers."
   ]
  },
  {
   "cell_type": "code",
   "execution_count": 45,
   "id": "380b6832",
   "metadata": {},
   "outputs": [],
   "source": [
    "file = 'petit-titanic.csv'"
   ]
  },
  {
   "cell_type": "code",
   "execution_count": 46,
   "id": "96a6aeea",
   "metadata": {},
   "outputs": [
    {
     "name": "stdout",
     "output_type": "stream",
     "text": [
      "1;0;3;\"Braund, Mr. Owen Harris\";male;22;1;0;A/5 21171;7.25;;S\n",
      "2;1;1;\"Cumings, Mrs. John Bradley (Florence Briggs Thayer)\";female;38;1;0;PC 17599;71.2833;C85;C\n",
      "3;1;3;\"Heikkinen, Miss. Laina\";female;26;0;0;STON/O2. 3101282;7.925;;S\n",
      "4;1;1;\"Futrelle, Mrs. Jacques Heath (Lily May Peel)\";female;35;1;0;113803;53.1;C123;S\n",
      "5;0;3;\"Allen, Mr. William Henry\";male;35;0;0;373450;8.05;;S\n",
      "6;0;3;\"Moran, Mr. James\";male;;0;0;330877;8.4583;;Q\n",
      "7;0;1;\"McCarthy, Mr. Timothy J\";male;54;0;0;17463;51.8625;E46;S\n",
      "8;0;3;\"Palsson, Master. Gosta Leonard\";male;2;3;1;349909;21.075;;S\n",
      "9;1;3;\"Johnson, Mrs. Oscar W (Elisabeth Vilhelmina Berg)\";female;27;0;2;347742;11.1333;;S\n",
      "10;1;2;\"Nasser, Mrs. Nicholas (Adele Achem)\";female;14;1;0;237736;30.0708;;C\n"
     ]
    }
   ],
   "source": [
    "# pour voir le contenu de ce fichier\n",
    "with open(\"petit-titanic.csv\") as feed:\n",
    "    print(feed.read(), end=\"\")"
   ]
  },
  {
   "cell_type": "markdown",
   "id": "dcaa9842",
   "metadata": {},
   "source": [
    "####  le petit-titanic pas à pas"
   ]
  },
  {
   "cell_type": "markdown",
   "id": "6e369b37",
   "metadata": {},
   "source": [
    "Pas à pas\n",
    "* Lisez le fichier avec les paramètres par défaut de `pd.read_csv`\n",
    "* Afficher les quelques (5) premières lignes. Cette data-frame vous-convient-elle ? non !!\n",
    "* Déjouer les deux pièges ! En cas de problème ? Lisez le help !\n",
    "* Combien y-a-t-il de colonnes ? et de lignes ?\n",
    "* Afficher l'index des colonnes. Changez le en mettant des noms à vos colonnes  \n",
    "* Afficher l'index des lignes. Changer le en mettant la colonnes des identificateurs des passagers\n",
    "* Comptez le nombre de valeurs manquantes dans toutes les colonnes de data-frame"
   ]
  },
  {
   "cell_type": "code",
   "execution_count": 47,
   "id": "11e04c47",
   "metadata": {},
   "outputs": [],
   "source": [
    "# décommentez pour lire le help de read_csv:\n",
    "#pd.read_csv?"
   ]
  },
  {
   "cell_type": "code",
   "execution_count": 48,
   "id": "8a9aa923",
   "metadata": {},
   "outputs": [],
   "source": [
    "# votre code ici\n",
    "petit_df = ..."
   ]
  },
  {
   "cell_type": "code",
   "execution_count": 49,
   "id": "bd880e41",
   "metadata": {},
   "outputs": [
    {
     "data": {
      "text/html": [
       "<div>\n",
       "<style scoped>\n",
       "    .dataframe tbody tr th:only-of-type {\n",
       "        vertical-align: middle;\n",
       "    }\n",
       "\n",
       "    .dataframe tbody tr th {\n",
       "        vertical-align: top;\n",
       "    }\n",
       "\n",
       "    .dataframe thead th {\n",
       "        text-align: right;\n",
       "    }\n",
       "</style>\n",
       "<table border=\"1\" class=\"dataframe\">\n",
       "  <thead>\n",
       "    <tr style=\"text-align: right;\">\n",
       "      <th></th>\n",
       "      <th>Survived</th>\n",
       "      <th>Pclass</th>\n",
       "      <th>Name</th>\n",
       "      <th>Sex</th>\n",
       "      <th>Age</th>\n",
       "      <th>SibSp</th>\n",
       "      <th>Parch</th>\n",
       "      <th>Ticket</th>\n",
       "      <th>Fare</th>\n",
       "      <th>Cabin</th>\n",
       "      <th>Embarked</th>\n",
       "    </tr>\n",
       "    <tr>\n",
       "      <th>PassengerId</th>\n",
       "      <th></th>\n",
       "      <th></th>\n",
       "      <th></th>\n",
       "      <th></th>\n",
       "      <th></th>\n",
       "      <th></th>\n",
       "      <th></th>\n",
       "      <th></th>\n",
       "      <th></th>\n",
       "      <th></th>\n",
       "      <th></th>\n",
       "    </tr>\n",
       "  </thead>\n",
       "  <tbody>\n",
       "    <tr>\n",
       "      <th>1</th>\n",
       "      <td>0</td>\n",
       "      <td>3</td>\n",
       "      <td>Braund, Mr. Owen Harris</td>\n",
       "      <td>male</td>\n",
       "      <td>22.0</td>\n",
       "      <td>1</td>\n",
       "      <td>0</td>\n",
       "      <td>A/5 21171</td>\n",
       "      <td>7.2500</td>\n",
       "      <td>NaN</td>\n",
       "      <td>S</td>\n",
       "    </tr>\n",
       "    <tr>\n",
       "      <th>2</th>\n",
       "      <td>1</td>\n",
       "      <td>1</td>\n",
       "      <td>Cumings, Mrs. John Bradley (Florence Briggs Th...</td>\n",
       "      <td>female</td>\n",
       "      <td>38.0</td>\n",
       "      <td>1</td>\n",
       "      <td>0</td>\n",
       "      <td>PC 17599</td>\n",
       "      <td>71.2833</td>\n",
       "      <td>C85</td>\n",
       "      <td>C</td>\n",
       "    </tr>\n",
       "    <tr>\n",
       "      <th>3</th>\n",
       "      <td>1</td>\n",
       "      <td>3</td>\n",
       "      <td>Heikkinen, Miss. Laina</td>\n",
       "      <td>female</td>\n",
       "      <td>26.0</td>\n",
       "      <td>0</td>\n",
       "      <td>0</td>\n",
       "      <td>STON/O2. 3101282</td>\n",
       "      <td>7.9250</td>\n",
       "      <td>NaN</td>\n",
       "      <td>S</td>\n",
       "    </tr>\n",
       "    <tr>\n",
       "      <th>4</th>\n",
       "      <td>1</td>\n",
       "      <td>1</td>\n",
       "      <td>Futrelle, Mrs. Jacques Heath (Lily May Peel)</td>\n",
       "      <td>female</td>\n",
       "      <td>35.0</td>\n",
       "      <td>1</td>\n",
       "      <td>0</td>\n",
       "      <td>113803</td>\n",
       "      <td>53.1000</td>\n",
       "      <td>C123</td>\n",
       "      <td>S</td>\n",
       "    </tr>\n",
       "    <tr>\n",
       "      <th>5</th>\n",
       "      <td>0</td>\n",
       "      <td>3</td>\n",
       "      <td>Allen, Mr. William Henry</td>\n",
       "      <td>male</td>\n",
       "      <td>35.0</td>\n",
       "      <td>0</td>\n",
       "      <td>0</td>\n",
       "      <td>373450</td>\n",
       "      <td>8.0500</td>\n",
       "      <td>NaN</td>\n",
       "      <td>S</td>\n",
       "    </tr>\n",
       "    <tr>\n",
       "      <th>6</th>\n",
       "      <td>0</td>\n",
       "      <td>3</td>\n",
       "      <td>Moran, Mr. James</td>\n",
       "      <td>male</td>\n",
       "      <td>NaN</td>\n",
       "      <td>0</td>\n",
       "      <td>0</td>\n",
       "      <td>330877</td>\n",
       "      <td>8.4583</td>\n",
       "      <td>NaN</td>\n",
       "      <td>Q</td>\n",
       "    </tr>\n",
       "    <tr>\n",
       "      <th>7</th>\n",
       "      <td>0</td>\n",
       "      <td>1</td>\n",
       "      <td>McCarthy, Mr. Timothy J</td>\n",
       "      <td>male</td>\n",
       "      <td>54.0</td>\n",
       "      <td>0</td>\n",
       "      <td>0</td>\n",
       "      <td>17463</td>\n",
       "      <td>51.8625</td>\n",
       "      <td>E46</td>\n",
       "      <td>S</td>\n",
       "    </tr>\n",
       "    <tr>\n",
       "      <th>8</th>\n",
       "      <td>0</td>\n",
       "      <td>3</td>\n",
       "      <td>Palsson, Master. Gosta Leonard</td>\n",
       "      <td>male</td>\n",
       "      <td>2.0</td>\n",
       "      <td>3</td>\n",
       "      <td>1</td>\n",
       "      <td>349909</td>\n",
       "      <td>21.0750</td>\n",
       "      <td>NaN</td>\n",
       "      <td>S</td>\n",
       "    </tr>\n",
       "    <tr>\n",
       "      <th>9</th>\n",
       "      <td>1</td>\n",
       "      <td>3</td>\n",
       "      <td>Johnson, Mrs. Oscar W (Elisabeth Vilhelmina Berg)</td>\n",
       "      <td>female</td>\n",
       "      <td>27.0</td>\n",
       "      <td>0</td>\n",
       "      <td>2</td>\n",
       "      <td>347742</td>\n",
       "      <td>11.1333</td>\n",
       "      <td>NaN</td>\n",
       "      <td>S</td>\n",
       "    </tr>\n",
       "    <tr>\n",
       "      <th>10</th>\n",
       "      <td>1</td>\n",
       "      <td>2</td>\n",
       "      <td>Nasser, Mrs. Nicholas (Adele Achem)</td>\n",
       "      <td>female</td>\n",
       "      <td>14.0</td>\n",
       "      <td>1</td>\n",
       "      <td>0</td>\n",
       "      <td>237736</td>\n",
       "      <td>30.0708</td>\n",
       "      <td>NaN</td>\n",
       "      <td>C</td>\n",
       "    </tr>\n",
       "  </tbody>\n",
       "</table>\n",
       "</div>"
      ],
      "text/plain": [
       "             Survived  Pclass  \\\n",
       "PassengerId                     \n",
       "1                   0       3   \n",
       "2                   1       1   \n",
       "3                   1       3   \n",
       "4                   1       1   \n",
       "5                   0       3   \n",
       "6                   0       3   \n",
       "7                   0       1   \n",
       "8                   0       3   \n",
       "9                   1       3   \n",
       "10                  1       2   \n",
       "\n",
       "                                                          Name     Sex   Age  \\\n",
       "PassengerId                                                                    \n",
       "1                                      Braund, Mr. Owen Harris    male  22.0   \n",
       "2            Cumings, Mrs. John Bradley (Florence Briggs Th...  female  38.0   \n",
       "3                                       Heikkinen, Miss. Laina  female  26.0   \n",
       "4                 Futrelle, Mrs. Jacques Heath (Lily May Peel)  female  35.0   \n",
       "5                                     Allen, Mr. William Henry    male  35.0   \n",
       "6                                             Moran, Mr. James    male   NaN   \n",
       "7                                      McCarthy, Mr. Timothy J    male  54.0   \n",
       "8                               Palsson, Master. Gosta Leonard    male   2.0   \n",
       "9            Johnson, Mrs. Oscar W (Elisabeth Vilhelmina Berg)  female  27.0   \n",
       "10                         Nasser, Mrs. Nicholas (Adele Achem)  female  14.0   \n",
       "\n",
       "             SibSp  Parch            Ticket     Fare Cabin Embarked  \n",
       "PassengerId                                                          \n",
       "1                1      0         A/5 21171   7.2500   NaN        S  \n",
       "2                1      0          PC 17599  71.2833   C85        C  \n",
       "3                0      0  STON/O2. 3101282   7.9250   NaN        S  \n",
       "4                1      0            113803  53.1000  C123        S  \n",
       "5                0      0            373450   8.0500   NaN        S  \n",
       "6                0      0            330877   8.4583   NaN        Q  \n",
       "7                0      0             17463  51.8625   E46        S  \n",
       "8                3      1            349909  21.0750   NaN        S  \n",
       "9                0      2            347742  11.1333   NaN        S  \n",
       "10               1      0            237736  30.0708   NaN        C  "
      ]
     },
     "execution_count": 49,
     "metadata": {},
     "output_type": "execute_result"
    }
   ],
   "source": [
    "# vous devez retrouver ces passagers\n",
    "# avec peut être des différences au niveau des colonnes (noms et nombre)\n",
    "df.sort_index().head(10)"
   ]
  },
  {
   "cell_type": "markdown",
   "id": "54985ea1",
   "metadata": {
    "tags": [
     "level_intermediate"
    ]
   },
   "source": [
    "####  le petit-titanic en un seul coup"
   ]
  },
  {
   "cell_type": "markdown",
   "id": "25e3e504",
   "metadata": {
    "tags": [
     "level_intermediate"
    ]
   },
   "source": [
    "Passez les bons paramètres à `pandas.read_csv` de manière à ce que le test indiqué ci-dessous renvoie un tableau avec majoritairement des `True`.\n",
    "\n",
    "Mais deux colonnes vont néanmoins contenir quelques `False`. Comprenez-vous pourquoi ?"
   ]
  },
  {
   "cell_type": "code",
   "execution_count": 50,
   "id": "7a2b3455",
   "metadata": {
    "tags": [
     "level_intermediate"
    ]
   },
   "outputs": [],
   "source": [
    "# votre code ici\n",
    "petit_df = ..."
   ]
  },
  {
   "cell_type": "code",
   "execution_count": 51,
   "id": "978cec44",
   "metadata": {
    "tags": [
     "level_intermediate"
    ]
   },
   "outputs": [
    {
     "data": {
      "text/html": [
       "<div>\n",
       "<style scoped>\n",
       "    .dataframe tbody tr th:only-of-type {\n",
       "        vertical-align: middle;\n",
       "    }\n",
       "\n",
       "    .dataframe tbody tr th {\n",
       "        vertical-align: top;\n",
       "    }\n",
       "\n",
       "    .dataframe thead th {\n",
       "        text-align: right;\n",
       "    }\n",
       "</style>\n",
       "<table border=\"1\" class=\"dataframe\">\n",
       "  <thead>\n",
       "    <tr style=\"text-align: right;\">\n",
       "      <th></th>\n",
       "      <th>Survived</th>\n",
       "      <th>Pclass</th>\n",
       "      <th>Name</th>\n",
       "      <th>Sex</th>\n",
       "      <th>Age</th>\n",
       "      <th>SibSp</th>\n",
       "      <th>Parch</th>\n",
       "      <th>Ticket</th>\n",
       "      <th>Fare</th>\n",
       "      <th>Cabin</th>\n",
       "      <th>Embarked</th>\n",
       "    </tr>\n",
       "    <tr>\n",
       "      <th>PassengerId</th>\n",
       "      <th></th>\n",
       "      <th></th>\n",
       "      <th></th>\n",
       "      <th></th>\n",
       "      <th></th>\n",
       "      <th></th>\n",
       "      <th></th>\n",
       "      <th></th>\n",
       "      <th></th>\n",
       "      <th></th>\n",
       "      <th></th>\n",
       "    </tr>\n",
       "  </thead>\n",
       "  <tbody>\n",
       "    <tr>\n",
       "      <th>1</th>\n",
       "      <td>False</td>\n",
       "      <td>False</td>\n",
       "      <td>False</td>\n",
       "      <td>False</td>\n",
       "      <td>False</td>\n",
       "      <td>False</td>\n",
       "      <td>False</td>\n",
       "      <td>False</td>\n",
       "      <td>False</td>\n",
       "      <td>False</td>\n",
       "      <td>False</td>\n",
       "    </tr>\n",
       "    <tr>\n",
       "      <th>2</th>\n",
       "      <td>False</td>\n",
       "      <td>False</td>\n",
       "      <td>False</td>\n",
       "      <td>False</td>\n",
       "      <td>False</td>\n",
       "      <td>False</td>\n",
       "      <td>False</td>\n",
       "      <td>False</td>\n",
       "      <td>False</td>\n",
       "      <td>False</td>\n",
       "      <td>False</td>\n",
       "    </tr>\n",
       "    <tr>\n",
       "      <th>3</th>\n",
       "      <td>False</td>\n",
       "      <td>False</td>\n",
       "      <td>False</td>\n",
       "      <td>False</td>\n",
       "      <td>False</td>\n",
       "      <td>False</td>\n",
       "      <td>False</td>\n",
       "      <td>False</td>\n",
       "      <td>False</td>\n",
       "      <td>False</td>\n",
       "      <td>False</td>\n",
       "    </tr>\n",
       "    <tr>\n",
       "      <th>4</th>\n",
       "      <td>False</td>\n",
       "      <td>False</td>\n",
       "      <td>False</td>\n",
       "      <td>False</td>\n",
       "      <td>False</td>\n",
       "      <td>False</td>\n",
       "      <td>False</td>\n",
       "      <td>False</td>\n",
       "      <td>False</td>\n",
       "      <td>False</td>\n",
       "      <td>False</td>\n",
       "    </tr>\n",
       "    <tr>\n",
       "      <th>5</th>\n",
       "      <td>False</td>\n",
       "      <td>False</td>\n",
       "      <td>False</td>\n",
       "      <td>False</td>\n",
       "      <td>False</td>\n",
       "      <td>False</td>\n",
       "      <td>False</td>\n",
       "      <td>False</td>\n",
       "      <td>False</td>\n",
       "      <td>False</td>\n",
       "      <td>False</td>\n",
       "    </tr>\n",
       "    <tr>\n",
       "      <th>6</th>\n",
       "      <td>False</td>\n",
       "      <td>False</td>\n",
       "      <td>False</td>\n",
       "      <td>False</td>\n",
       "      <td>False</td>\n",
       "      <td>False</td>\n",
       "      <td>False</td>\n",
       "      <td>False</td>\n",
       "      <td>False</td>\n",
       "      <td>False</td>\n",
       "      <td>False</td>\n",
       "    </tr>\n",
       "    <tr>\n",
       "      <th>7</th>\n",
       "      <td>False</td>\n",
       "      <td>False</td>\n",
       "      <td>False</td>\n",
       "      <td>False</td>\n",
       "      <td>False</td>\n",
       "      <td>False</td>\n",
       "      <td>False</td>\n",
       "      <td>False</td>\n",
       "      <td>False</td>\n",
       "      <td>False</td>\n",
       "      <td>False</td>\n",
       "    </tr>\n",
       "    <tr>\n",
       "      <th>8</th>\n",
       "      <td>False</td>\n",
       "      <td>False</td>\n",
       "      <td>False</td>\n",
       "      <td>False</td>\n",
       "      <td>False</td>\n",
       "      <td>False</td>\n",
       "      <td>False</td>\n",
       "      <td>False</td>\n",
       "      <td>False</td>\n",
       "      <td>False</td>\n",
       "      <td>False</td>\n",
       "    </tr>\n",
       "    <tr>\n",
       "      <th>9</th>\n",
       "      <td>False</td>\n",
       "      <td>False</td>\n",
       "      <td>False</td>\n",
       "      <td>False</td>\n",
       "      <td>False</td>\n",
       "      <td>False</td>\n",
       "      <td>False</td>\n",
       "      <td>False</td>\n",
       "      <td>False</td>\n",
       "      <td>False</td>\n",
       "      <td>False</td>\n",
       "    </tr>\n",
       "    <tr>\n",
       "      <th>10</th>\n",
       "      <td>False</td>\n",
       "      <td>False</td>\n",
       "      <td>False</td>\n",
       "      <td>False</td>\n",
       "      <td>False</td>\n",
       "      <td>False</td>\n",
       "      <td>False</td>\n",
       "      <td>False</td>\n",
       "      <td>False</td>\n",
       "      <td>False</td>\n",
       "      <td>False</td>\n",
       "    </tr>\n",
       "  </tbody>\n",
       "</table>\n",
       "</div>"
      ],
      "text/plain": [
       "             Survived  Pclass   Name    Sex    Age  SibSp  Parch  Ticket  \\\n",
       "PassengerId                                                                \n",
       "1               False   False  False  False  False  False  False   False   \n",
       "2               False   False  False  False  False  False  False   False   \n",
       "3               False   False  False  False  False  False  False   False   \n",
       "4               False   False  False  False  False  False  False   False   \n",
       "5               False   False  False  False  False  False  False   False   \n",
       "6               False   False  False  False  False  False  False   False   \n",
       "7               False   False  False  False  False  False  False   False   \n",
       "8               False   False  False  False  False  False  False   False   \n",
       "9               False   False  False  False  False  False  False   False   \n",
       "10              False   False  False  False  False  False  False   False   \n",
       "\n",
       "              Fare  Cabin  Embarked  \n",
       "PassengerId                          \n",
       "1            False  False     False  \n",
       "2            False  False     False  \n",
       "3            False  False     False  \n",
       "4            False  False     False  \n",
       "5            False  False     False  \n",
       "6            False  False     False  \n",
       "7            False  False     False  \n",
       "8            False  False     False  \n",
       "9            False  False     False  \n",
       "10           False  False     False  "
      ]
     },
     "execution_count": 51,
     "metadata": {},
     "output_type": "execute_result"
    }
   ],
   "source": [
    "# pour vérifier votre code, ceci doit renvoyer un tableau avec majoritairement des 'True'\n",
    "# on utilise sort_index() pour remettre dans le bon ordre (on les avait triés par age)\n",
    "# vous remarquez quelque chose dans loc ? le passager d'index de ligne 10 est ? oui il est compris\n",
    "df.sort_index().loc[:10, :] == petit_df"
   ]
  },
  {
   "cell_type": "code",
   "execution_count": 52,
   "id": "29726136",
   "metadata": {
    "cell_style": "split",
    "tags": [
     "level_intermediate"
    ]
   },
   "outputs": [
    {
     "data": {
      "text/html": [
       "<div>\n",
       "<style scoped>\n",
       "    .dataframe tbody tr th:only-of-type {\n",
       "        vertical-align: middle;\n",
       "    }\n",
       "\n",
       "    .dataframe tbody tr th {\n",
       "        vertical-align: top;\n",
       "    }\n",
       "\n",
       "    .dataframe thead th {\n",
       "        text-align: right;\n",
       "    }\n",
       "</style>\n",
       "<table border=\"1\" class=\"dataframe\">\n",
       "  <thead>\n",
       "    <tr style=\"text-align: right;\">\n",
       "      <th></th>\n",
       "      <th>Survived</th>\n",
       "      <th>Pclass</th>\n",
       "      <th>Name</th>\n",
       "      <th>Sex</th>\n",
       "      <th>Age</th>\n",
       "      <th>SibSp</th>\n",
       "      <th>Parch</th>\n",
       "      <th>Ticket</th>\n",
       "      <th>Fare</th>\n",
       "      <th>Cabin</th>\n",
       "      <th>Embarked</th>\n",
       "    </tr>\n",
       "    <tr>\n",
       "      <th>PassengerId</th>\n",
       "      <th></th>\n",
       "      <th></th>\n",
       "      <th></th>\n",
       "      <th></th>\n",
       "      <th></th>\n",
       "      <th></th>\n",
       "      <th></th>\n",
       "      <th></th>\n",
       "      <th></th>\n",
       "      <th></th>\n",
       "      <th></th>\n",
       "    </tr>\n",
       "  </thead>\n",
       "  <tbody>\n",
       "    <tr>\n",
       "      <th>1</th>\n",
       "      <td>0</td>\n",
       "      <td>3</td>\n",
       "      <td>Braund, Mr. Owen Harris</td>\n",
       "      <td>male</td>\n",
       "      <td>22.0</td>\n",
       "      <td>1</td>\n",
       "      <td>0</td>\n",
       "      <td>A/5 21171</td>\n",
       "      <td>7.2500</td>\n",
       "      <td>NaN</td>\n",
       "      <td>S</td>\n",
       "    </tr>\n",
       "    <tr>\n",
       "      <th>2</th>\n",
       "      <td>1</td>\n",
       "      <td>1</td>\n",
       "      <td>Cumings, Mrs. John Bradley (Florence Briggs Th...</td>\n",
       "      <td>female</td>\n",
       "      <td>38.0</td>\n",
       "      <td>1</td>\n",
       "      <td>0</td>\n",
       "      <td>PC 17599</td>\n",
       "      <td>71.2833</td>\n",
       "      <td>C85</td>\n",
       "      <td>C</td>\n",
       "    </tr>\n",
       "    <tr>\n",
       "      <th>3</th>\n",
       "      <td>1</td>\n",
       "      <td>3</td>\n",
       "      <td>Heikkinen, Miss. Laina</td>\n",
       "      <td>female</td>\n",
       "      <td>26.0</td>\n",
       "      <td>0</td>\n",
       "      <td>0</td>\n",
       "      <td>STON/O2. 3101282</td>\n",
       "      <td>7.9250</td>\n",
       "      <td>NaN</td>\n",
       "      <td>S</td>\n",
       "    </tr>\n",
       "    <tr>\n",
       "      <th>4</th>\n",
       "      <td>1</td>\n",
       "      <td>1</td>\n",
       "      <td>Futrelle, Mrs. Jacques Heath (Lily May Peel)</td>\n",
       "      <td>female</td>\n",
       "      <td>35.0</td>\n",
       "      <td>1</td>\n",
       "      <td>0</td>\n",
       "      <td>113803</td>\n",
       "      <td>53.1000</td>\n",
       "      <td>C123</td>\n",
       "      <td>S</td>\n",
       "    </tr>\n",
       "    <tr>\n",
       "      <th>5</th>\n",
       "      <td>0</td>\n",
       "      <td>3</td>\n",
       "      <td>Allen, Mr. William Henry</td>\n",
       "      <td>male</td>\n",
       "      <td>35.0</td>\n",
       "      <td>0</td>\n",
       "      <td>0</td>\n",
       "      <td>373450</td>\n",
       "      <td>8.0500</td>\n",
       "      <td>NaN</td>\n",
       "      <td>S</td>\n",
       "    </tr>\n",
       "    <tr>\n",
       "      <th>6</th>\n",
       "      <td>0</td>\n",
       "      <td>3</td>\n",
       "      <td>Moran, Mr. James</td>\n",
       "      <td>male</td>\n",
       "      <td>NaN</td>\n",
       "      <td>0</td>\n",
       "      <td>0</td>\n",
       "      <td>330877</td>\n",
       "      <td>8.4583</td>\n",
       "      <td>NaN</td>\n",
       "      <td>Q</td>\n",
       "    </tr>\n",
       "    <tr>\n",
       "      <th>7</th>\n",
       "      <td>0</td>\n",
       "      <td>1</td>\n",
       "      <td>McCarthy, Mr. Timothy J</td>\n",
       "      <td>male</td>\n",
       "      <td>54.0</td>\n",
       "      <td>0</td>\n",
       "      <td>0</td>\n",
       "      <td>17463</td>\n",
       "      <td>51.8625</td>\n",
       "      <td>E46</td>\n",
       "      <td>S</td>\n",
       "    </tr>\n",
       "    <tr>\n",
       "      <th>8</th>\n",
       "      <td>0</td>\n",
       "      <td>3</td>\n",
       "      <td>Palsson, Master. Gosta Leonard</td>\n",
       "      <td>male</td>\n",
       "      <td>2.0</td>\n",
       "      <td>3</td>\n",
       "      <td>1</td>\n",
       "      <td>349909</td>\n",
       "      <td>21.0750</td>\n",
       "      <td>NaN</td>\n",
       "      <td>S</td>\n",
       "    </tr>\n",
       "    <tr>\n",
       "      <th>9</th>\n",
       "      <td>1</td>\n",
       "      <td>3</td>\n",
       "      <td>Johnson, Mrs. Oscar W (Elisabeth Vilhelmina Berg)</td>\n",
       "      <td>female</td>\n",
       "      <td>27.0</td>\n",
       "      <td>0</td>\n",
       "      <td>2</td>\n",
       "      <td>347742</td>\n",
       "      <td>11.1333</td>\n",
       "      <td>NaN</td>\n",
       "      <td>S</td>\n",
       "    </tr>\n",
       "    <tr>\n",
       "      <th>10</th>\n",
       "      <td>1</td>\n",
       "      <td>2</td>\n",
       "      <td>Nasser, Mrs. Nicholas (Adele Achem)</td>\n",
       "      <td>female</td>\n",
       "      <td>14.0</td>\n",
       "      <td>1</td>\n",
       "      <td>0</td>\n",
       "      <td>237736</td>\n",
       "      <td>30.0708</td>\n",
       "      <td>NaN</td>\n",
       "      <td>C</td>\n",
       "    </tr>\n",
       "  </tbody>\n",
       "</table>\n",
       "</div>"
      ],
      "text/plain": [
       "             Survived  Pclass  \\\n",
       "PassengerId                     \n",
       "1                   0       3   \n",
       "2                   1       1   \n",
       "3                   1       3   \n",
       "4                   1       1   \n",
       "5                   0       3   \n",
       "6                   0       3   \n",
       "7                   0       1   \n",
       "8                   0       3   \n",
       "9                   1       3   \n",
       "10                  1       2   \n",
       "\n",
       "                                                          Name     Sex   Age  \\\n",
       "PassengerId                                                                    \n",
       "1                                      Braund, Mr. Owen Harris    male  22.0   \n",
       "2            Cumings, Mrs. John Bradley (Florence Briggs Th...  female  38.0   \n",
       "3                                       Heikkinen, Miss. Laina  female  26.0   \n",
       "4                 Futrelle, Mrs. Jacques Heath (Lily May Peel)  female  35.0   \n",
       "5                                     Allen, Mr. William Henry    male  35.0   \n",
       "6                                             Moran, Mr. James    male   NaN   \n",
       "7                                      McCarthy, Mr. Timothy J    male  54.0   \n",
       "8                               Palsson, Master. Gosta Leonard    male   2.0   \n",
       "9            Johnson, Mrs. Oscar W (Elisabeth Vilhelmina Berg)  female  27.0   \n",
       "10                         Nasser, Mrs. Nicholas (Adele Achem)  female  14.0   \n",
       "\n",
       "             SibSp  Parch            Ticket     Fare Cabin Embarked  \n",
       "PassengerId                                                          \n",
       "1                1      0         A/5 21171   7.2500   NaN        S  \n",
       "2                1      0          PC 17599  71.2833   C85        C  \n",
       "3                0      0  STON/O2. 3101282   7.9250   NaN        S  \n",
       "4                1      0            113803  53.1000  C123        S  \n",
       "5                0      0            373450   8.0500   NaN        S  \n",
       "6                0      0            330877   8.4583   NaN        Q  \n",
       "7                0      0             17463  51.8625   E46        S  \n",
       "8                3      1            349909  21.0750   NaN        S  \n",
       "9                0      2            347742  11.1333   NaN        S  \n",
       "10               1      0            237736  30.0708   NaN        C  "
      ]
     },
     "execution_count": 52,
     "metadata": {},
     "output_type": "execute_result"
    }
   ],
   "source": [
    "# hints pour comparer vous devez retrouver ceci\n",
    "# mais avec quelques colonnes en moins\n",
    "df.sort_index().head(10)"
   ]
  }
 ],
 "metadata": {
  "jupytext": {
   "cell_metadata_filter": "all,-hidden,-heading_collapsed",
   "notebook_metadata_filter": "all,-language_info,-toc,-jupytext.text_representation.jupytext_version,-jupytext.text_representation.format_version",
   "text_representation": {
    "extension": ".md",
    "format_name": "myst"
   }
  },
  "kernelspec": {
   "display_name": "Python 3",
   "language": "python",
   "name": "python3"
  },
  "language_info": {
   "codemirror_mode": {
    "name": "ipython",
    "version": 3
   },
   "file_extension": ".py",
   "mimetype": "text/x-python",
   "name": "python",
   "nbconvert_exporter": "python",
   "pygments_lexer": "ipython3",
   "version": "3.9.5"
  },
  "notebookname": "intro à pandas",
  "source_map": [
   14,
   18,
   25,
   29,
   33,
   41,
   49,
   57,
   59,
   76,
   90,
   107,
   115,
   120,
   124,
   130,
   137,
   141,
   145,
   149,
   153,
   155,
   159,
   161,
   165,
   167,
   171,
   175,
   187,
   191,
   198,
   201,
   209,
   214,
   221,
   223,
   227,
   231,
   235,
   239,
   244,
   250,
   254,
   258,
   263,
   266,
   270,
   272,
   276,
   282,
   286,
   292,
   294,
   298,
   302,
   308,
   310,
   316,
   320,
   324,
   326,
   332,
   336,
   343,
   347,
   351,
   359,
   361,
   365,
   369,
   371,
   375,
   379,
   383,
   389,
   399,
   407,
   413,
   417,
   422,
   426,
   432,
   434,
   438,
   442,
   448,
   450,
   454,
   458,
   460,
   474,
   480,
   482,
   486,
   496,
   498,
   502,
   506,
   508,
   516,
   520,
   522,
   526,
   528,
   534,
   536,
   540,
   544,
   548,
   559,
   565,
   576,
   583,
   587,
   591,
   597,
   603,
   612,
   618,
   626,
   634,
   641,
   645,
   651,
   655,
   661,
   665,
   669,
   673,
   687,
   694,
   704,
   708,
   721,
   723,
   729,
   741,
   747,
   751,
   759,
   765,
   773,
   779,
   783,
   787,
   791,
   795,
   799,
   803,
   807,
   818,
   823,
   828,
   834,
   838,
   844,
   851,
   860
  ],
  "version": "1.0"
 },
 "nbformat": 4,
 "nbformat_minor": 5
}