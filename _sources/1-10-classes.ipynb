{
 "cells": [
  {
   "cell_type": "markdown",
   "id": "afd6f582",
   "metadata": {},
   "source": [
    "<div class=\"licence\">\n",
    "<span>Licence CC BY-NC-ND</span>\n",
    "<span>Thierry Parmentelat</span>\n",
    "</div>\n",
    "\n",
    "<img src=\"media/inria-25-alpha.png\" />"
   ]
  },
  {
   "cell_type": "markdown",
   "id": "5324b468",
   "metadata": {
    "slideshow": {
     "slide_type": ""
    }
   },
   "source": [
    "# classes"
   ]
  },
  {
   "cell_type": "markdown",
   "id": "374996ad",
   "metadata": {
    "slideshow": {
     "slide_type": "slide"
    }
   },
   "source": [
    "## types prédéfinis et monde réel\n",
    "\n",
    "les types prédéfinis que l'on a vus jusqu'ici  \n",
    "i.e. nombres, chaines, containers  \n",
    "(pour rappel: `bool`, `int`, `float`, `str`, `list`, `set`, `dict`)  \n",
    "sont pratiques et puissants"
   ]
  },
  {
   "cell_type": "markdown",
   "id": "a717787d",
   "metadata": {},
   "source": [
    "**MAIS** souvent cela n'est pas suffisant\n",
    "pour traiter des problèmes réels"
   ]
  },
  {
   "cell_type": "markdown",
   "id": "83becced",
   "metadata": {
    "slideshow": {
     "slide_type": "slide"
    }
   },
   "source": [
    "## typiquement\n",
    "\n",
    "on a très souvent besoin de manipuler des données 'composites'  \n",
    "e.g. un ensemble de personnes, de villes, de compagnies aériennes  \n",
    "en termes de modèle de données, ce sont des 'enregistrements'  \n",
    "c'est-à-dire en fait des données composites"
   ]
  },
  {
   "cell_type": "code",
   "execution_count": 1,
   "id": "10c007c0",
   "metadata": {},
   "outputs": [],
   "source": [
    "# une façon naive d'implémenter une donnée composite\n",
    "# est d'utiliser un dictionnaire\n",
    "\n",
    "personne = {'name': 'Dupont', 'age': 32}"
   ]
  },
  {
   "cell_type": "markdown",
   "id": "b47439f1",
   "metadata": {},
   "source": [
    "utiliser un dictionnaire peut faire l'affaire  \n",
    "pour des applications simples  \n",
    "(c'est par exemple ce qu'on récupère d'un fichier JSON)  \n",
    "mais c'est vite un peu lourd et très limité"
   ]
  },
  {
   "cell_type": "markdown",
   "id": "4104009e",
   "metadata": {
    "cell_style": "center",
    "slideshow": {
     "slide_type": "slide"
    }
   },
   "source": [
    "## `class`  \n",
    "dans ces cas-là (et dans bien d'autres)  \n",
    "il est plus flexible de se définir **un nouveau type**  \n",
    "qui permette de créer des objets qui ont les propriétés en question  \n",
    "que dans ce contexte on appelle **des attributs**"
   ]
  },
  {
   "cell_type": "code",
   "execution_count": 2,
   "id": "67277fd9",
   "metadata": {
    "cell_style": "split"
   },
   "outputs": [],
   "source": [
    "# voici comment définir\n",
    "# une classe `User`\n",
    "\n",
    "class User:\n",
    "\n",
    "    def __init__(self, name, age):\n",
    "        self.name = name\n",
    "        self.age = age"
   ]
  },
  {
   "cell_type": "code",
   "execution_count": 3,
   "id": "7080e2e6",
   "metadata": {
    "cell_style": "split"
   },
   "outputs": [],
   "source": [
    "# une fois qu'on a défini une classe,\n",
    "# on peut s'en servir pour créer\n",
    "# des objets - on dit des instances\n",
    "# de la classe\n",
    "\n",
    "user1 = User(\"Lambert\", 25)"
   ]
  },
  {
   "cell_type": "markdown",
   "id": "7d65d5ea",
   "metadata": {
    "cell_style": "center",
    "slideshow": {
     "slide_type": "slide"
    }
   },
   "source": [
    "## instances"
   ]
  },
  {
   "cell_type": "markdown",
   "id": "e26a5595",
   "metadata": {},
   "source": [
    "remarquez qu'ici\n",
    "\n",
    "* on a défini la méthode spéciale `__init__` avec **3** paramètres\n",
    "```\n",
    "def __init__(self, name, age)\n",
    "```\n",
    "\n",
    "* ce qui fait qu'on peut appeler (une fonction du nom de) la classe avec **2** paramètres\n",
    "```\n",
    "User(\"Lambert\", 25)`\n",
    "```\n",
    "\n",
    "* car le **premier paramètre** est l'objet en cours de création !\n",
    "\n",
    "* et la phrase `self.name = name`  \n",
    "  signifie que l'on attache le paramètre `name`  \n",
    "  dans l'attribut `name` de l'objet en cours de création"
   ]
  },
  {
   "cell_type": "markdown",
   "id": "585a440b",
   "metadata": {
    "slideshow": {
     "slide_type": "slide"
    }
   },
   "source": [
    "## affichage"
   ]
  },
  {
   "cell_type": "code",
   "execution_count": 4,
   "id": "36d41394",
   "metadata": {
    "cell_style": "split"
   },
   "outputs": [
    {
     "data": {
      "text/plain": [
       "<__main__.User at 0x7f0dc0b369d0>"
      ]
     },
     "execution_count": 4,
     "metadata": {},
     "output_type": "execute_result"
    }
   ],
   "source": [
    "# si on ne fait rien de spécial,\n",
    "# l'affichage est vraiment vilain\n",
    "user1\n",
    "# qui vous dit que user1 est un objet dans le module __main__\n",
    "# qu'il est de de type User\n",
    "# et où il est dans la mémoire de votre ordi\n",
    "# mais ce n'est sûrement pas ce que vous voulez voir !"
   ]
  },
  {
   "cell_type": "code",
   "execution_count": 5,
   "id": "d0f774db",
   "metadata": {
    "cell_style": "split"
   },
   "outputs": [],
   "source": [
    "# pour améliorer cela:\n",
    "# vous définissez la représentation de vos objets de type User\n",
    "class User:\n",
    "\n",
    "    def __init__(self, name, age):\n",
    "        self.name = name\n",
    "        self.age = age\n",
    "\n",
    "    # définit comment afficher\n",
    "    # les objets de cette classe\n",
    "    def __repr__(self):\n",
    "        return f\"{self.name}, {self.age} ans\""
   ]
  },
  {
   "cell_type": "code",
   "execution_count": 6,
   "id": "97fd8f2b",
   "metadata": {},
   "outputs": [
    {
     "data": {
      "text/plain": [
       "Martin, 22 ans"
      ]
     },
     "execution_count": 6,
     "metadata": {},
     "output_type": "execute_result"
    }
   ],
   "source": [
    "user2 = User(\"Martin\", 22)\n",
    "user2"
   ]
  },
  {
   "cell_type": "markdown",
   "id": "c39b5942",
   "metadata": {
    "slideshow": {
     "slide_type": "slide"
    }
   },
   "source": [
    "## méthodes"
   ]
  },
  {
   "cell_type": "markdown",
   "id": "05891ac4",
   "metadata": {},
   "source": [
    "comme on l'a évoqué dans la section \"objets, types et méthodes\"  \n",
    "dans une classe on peut définir **des méthodes**  \n",
    "qui sont des fonctions qui s'appliquent sur un objet (de cette classe)"
   ]
  },
  {
   "cell_type": "code",
   "execution_count": 7,
   "id": "fad23b49",
   "metadata": {
    "cell_style": "split"
   },
   "outputs": [],
   "source": [
    "# une implémentation très simple\n",
    "# d'une file FILO\n",
    "# premier entré dernier sorti\n",
    "\n",
    "class Stack:\n",
    "\n",
    "    def __init__(self):\n",
    "        self.frames = []\n",
    "\n",
    "    def push(self, item):\n",
    "        self.frames.append(item)\n",
    "\n",
    "    def pop(self):\n",
    "        return self.frames.pop()\n",
    "\n",
    "    def __repr__(self):\n",
    "        return \" > \".join(self.frames)"
   ]
  },
  {
   "cell_type": "code",
   "execution_count": 8,
   "id": "0baec1fe",
   "metadata": {
    "cell_style": "split"
   },
   "outputs": [
    {
     "data": {
      "text/plain": [
       "fact(3) > fact(2) > fact(1)"
      ]
     },
     "execution_count": 8,
     "metadata": {},
     "output_type": "execute_result"
    }
   ],
   "source": [
    "# instance\n",
    "stack = Stack()\n",
    "\n",
    "stack.push('fact(3)')\n",
    "stack.push('fact(2)')\n",
    "stack.push('fact(1)')\n",
    "\n",
    "stack"
   ]
  },
  {
   "cell_type": "code",
   "execution_count": 9,
   "id": "810abf18",
   "metadata": {
    "cell_style": "split"
   },
   "outputs": [
    {
     "data": {
      "text/plain": [
       "'fact(1)'"
      ]
     },
     "execution_count": 9,
     "metadata": {},
     "output_type": "execute_result"
    }
   ],
   "source": [
    "stack.pop()"
   ]
  },
  {
   "cell_type": "code",
   "execution_count": 10,
   "id": "4959cf4d",
   "metadata": {
    "cell_style": "split"
   },
   "outputs": [
    {
     "data": {
      "text/plain": [
       "fact(3) > fact(2)"
      ]
     },
     "execution_count": 10,
     "metadata": {},
     "output_type": "execute_result"
    }
   ],
   "source": [
    "stack"
   ]
  },
  {
   "cell_type": "markdown",
   "id": "b1f58e46",
   "metadata": {
    "slideshow": {
     "slide_type": "slide"
    }
   },
   "source": [
    "## méthodes - suite"
   ]
  },
  {
   "cell_type": "markdown",
   "id": "c1ff22f8",
   "metadata": {},
   "source": [
    "à nouveau, remarquez que la **définition** d'une méthode  \n",
    "prévoit un paramètre de plus que l'appel de la méthode  \n",
    "car `obj.methode(...)`  \n",
    "est équivalent à\n",
    "`methode(obj, ...)`"
   ]
  },
  {
   "cell_type": "markdown",
   "id": "349c8bb4",
   "metadata": {
    "slideshow": {
     "slide_type": "slide"
    }
   },
   "source": [
    "## intérêts de cette approche"
   ]
  },
  {
   "cell_type": "markdown",
   "id": "3e107daa",
   "metadata": {},
   "source": [
    "* définir vos propres types de données\n",
    "\n",
    "* grouper les données qui vont ensemble dans un objet  \n",
    "  facile à passer à d'autres fonctions\n",
    "\n",
    "* invariants: garantir de bonnes propriétés  \n",
    "  si on utilise les objets au travers des méthodes  \n",
    "* organise les espaces de noms  \n",
    "  e.g. pas de conflit entre Class1.name et Class2.name\n",
    "\n",
    "* héritage - ne sera pas détaillé dans ce cours"
   ]
  },
  {
   "cell_type": "markdown",
   "id": "72b55f53",
   "metadata": {
    "slideshow": {
     "slide_type": "slide"
    }
   },
   "source": [
    "## objets et langage"
   ]
  },
  {
   "cell_type": "markdown",
   "id": "49055d8d",
   "metadata": {},
   "source": [
    "le langage \"connaît\" bien sûr les types prédéfinis  \n",
    "c'-à-d qu'il sait \"faire la bonne chose\"  \n",
    "selon le type des objets qu'il manipule"
   ]
  },
  {
   "cell_type": "markdown",
   "id": "c7ee533d",
   "metadata": {},
   "source": [
    "exemples, selon le type de `obj` :  \n",
    "\n",
    "* `print(obj)`\n",
    "* opérateurs comme `obj + x`\n",
    "* itération `for item in obj`\n",
    "* `len(obj)`\n",
    "* test d'appartenance `x in obj`\n",
    "* indexation `obj[x]`\n",
    "* etc.."
   ]
  },
  {
   "cell_type": "markdown",
   "id": "c4f4ebae",
   "metadata": {
    "cell_style": "center",
    "slideshow": {
     "slide_type": "slide"
    }
   },
   "source": [
    "## exemple - `if obj:`\n",
    "\n",
    "remarquez qu'on peut toujours écrire un test `if` (ou `while`)\n",
    "même si le sujet du test n'est pas un booléen"
   ]
  },
  {
   "cell_type": "code",
   "execution_count": 11,
   "id": "6b7cc6d0",
   "metadata": {
    "cell_style": "split"
   },
   "outputs": [],
   "source": [
    "if 0:\n",
    "    print('bingo')"
   ]
  },
  {
   "cell_type": "code",
   "execution_count": 12,
   "id": "2114f855",
   "metadata": {
    "cell_style": "split"
   },
   "outputs": [
    {
     "name": "stdout",
     "output_type": "stream",
     "text": [
      "bingo\n"
     ]
    }
   ],
   "source": [
    "if 2:\n",
    "    print('bingo')"
   ]
  },
  {
   "cell_type": "code",
   "execution_count": 13,
   "id": "b40dfbaa",
   "metadata": {
    "cell_style": "split"
   },
   "outputs": [],
   "source": [
    "if []:\n",
    "    print('bingo')"
   ]
  },
  {
   "cell_type": "code",
   "execution_count": 14,
   "id": "a1274bc9",
   "metadata": {
    "cell_style": "split"
   },
   "outputs": [
    {
     "name": "stdout",
     "output_type": "stream",
     "text": [
      "bingo\n"
     ]
    }
   ],
   "source": [
    "if [1]:\n",
    "    print('bingo')"
   ]
  },
  {
   "cell_type": "markdown",
   "id": "db093751",
   "metadata": {
    "cell_style": "center"
   },
   "source": [
    "la règle pour les types prédéfinis est que dans un test  \n",
    "`0`, `0.0`, `\"\"`, `[]`, `set()`, `{}` sont considérés comme `False`  \n",
    "les autres valeurs sont considérées comme `True`"
   ]
  },
  {
   "cell_type": "markdown",
   "id": "02cd5d8a",
   "metadata": {
    "slideshow": {
     "slide_type": "slide"
    }
   },
   "source": [
    "## méthodes spéciales"
   ]
  },
  {
   "cell_type": "markdown",
   "id": "a86477a0",
   "metadata": {},
   "source": [
    "les méthodes spéciales sont toutes de la forme `__bidule__`  \n",
    "on en a déjà vu 2 : `__init__` et `__repr__`  \n",
    "le langage en prévoit plusieurs dizaines (optionnelles)"
   ]
  },
  {
   "cell_type": "markdown",
   "id": "711765b9",
   "metadata": {
    "slideshow": {
     "slide_type": "slide"
    }
   },
   "source": [
    "## exemple de méthode spéciale"
   ]
  },
  {
   "cell_type": "markdown",
   "id": "b771c87a",
   "metadata": {},
   "source": [
    "**exemple**  \n",
    "lorsqu'un objet est utilisé dans un `if obj:`  \n",
    "il est d'abord converti en booléen par `bool(obj)`  \n",
    "\n",
    "pour redéfinir ce que cela veut dire sur une classe  \n",
    "on peut définir la méthode spéciale `__bool__`"
   ]
  },
  {
   "cell_type": "code",
   "execution_count": 15,
   "id": "b6d23fd1",
   "metadata": {
    "cell_style": "split",
    "slideshow": {
     "slide_type": "slide"
    }
   },
   "outputs": [],
   "source": [
    "# une classe jouet\n",
    "# uniquement à but pédagogique ...\n",
    "\n",
    "class Fool:\n",
    "    \"\"\"\n",
    "    les objets de cette classe\n",
    "    se comportent à l'envers\n",
    "    par rapport aux tests\n",
    "    if ou while\n",
    "    \"\"\"\n",
    "\n",
    "    def __init__(self, value):\n",
    "        self.value = value\n",
    "\n",
    "    # on triche, le test\n",
    "    # va marcher à l'envers !\n",
    "    def __bool__(self):\n",
    "        return not bool(self.value)"
   ]
  },
  {
   "cell_type": "code",
   "execution_count": 16,
   "id": "e0948abf",
   "metadata": {
    "cell_style": "split"
   },
   "outputs": [],
   "source": [
    "# un test sur un objet\n",
    "# de cette classe\n",
    "fool_true = Fool(True)\n",
    "\n",
    "# a un comportement inattendu\n",
    "if fool_true:\n",
    "    print('bingo')"
   ]
  },
  {
   "cell_type": "code",
   "execution_count": 17,
   "id": "da992b8f",
   "metadata": {
    "cell_style": "split"
   },
   "outputs": [
    {
     "name": "stdout",
     "output_type": "stream",
     "text": [
      "bingo\n"
     ]
    }
   ],
   "source": [
    "if Fool([]):\n",
    "    print('bingo')"
   ]
  },
  {
   "cell_type": "markdown",
   "id": "90ec11e6",
   "metadata": {
    "slideshow": {
     "slide_type": "slide"
    }
   },
   "source": [
    "## résumé\n",
    "\n",
    "* on définit une classe avec le mot clé `class`\n",
    "* avec les classes on peut étendre les types prédéfinis `int`, `str`, `list`, …\n",
    "* un objet dans une classe contient typiquement des attributs\n",
    "* une classe définit typiquement des méthodes\n",
    "* on accède aux attributs et méthodes avec la syntaxe  \n",
    "  `object.attribut`  ou `object.methode()`\n",
    "\n",
    "* grâce aux méthodes spéciales, on peut bien intégrer une classe dans le langage"
   ]
  },
  {
   "cell_type": "markdown",
   "id": "6e370f5c",
   "metadata": {
    "slideshow": {
     "slide_type": "slide"
    }
   },
   "source": [
    "## la classe `Quaternion`"
   ]
  },
  {
   "cell_type": "markdown",
   "id": "0c379f91",
   "metadata": {
    "slideshow": {
     "slide_type": ""
    }
   },
   "source": [
    "**En option**\n",
    "\n",
    "on peut aussi redéfinir les opérateurs arithmétiques  \n",
    "comme `+` et `*` avec les  \n",
    "méthodes spéciales `__add__` et `__mul__`\n",
    "\n",
    "Application: une micro-classe qui implémente les quaternions\n",
    "\n",
    "* https://fr.wikipedia.org/wiki/Quaternion\n",
    "* le corps non commutatif engendré sur $\\mathbb{R}$\n",
    "  par trois éléments $i, j, k$ tels que\n",
    "\n",
    "  $$i^2 = j^2 = k^2 = ijk = -1$$\n",
    "\n",
    "* un quaternion s'écrit donc\n",
    "\n",
    "  $q = a + bi + cj + dk$ avec $(a, b, c, d) \\in \\mathbb{R}^4$"
   ]
  },
  {
   "cell_type": "code",
   "execution_count": 18,
   "id": "e37bc960",
   "metadata": {
    "slideshow": {
     "slide_type": "slide"
    }
   },
   "outputs": [],
   "source": [
    "class Quaternion:\n",
    "\n",
    "    def __init__(self, a, b, c, d):\n",
    "        self.implem = (a, b, c, d)  \n",
    "    # c'est la partie intéressante\n",
    "    def __add__(self, other):\n",
    "        \"\"\"defines q1 + q2)\"\"\"\n",
    "        return Quaternion(*(x+y for x, y in zip(self.implem, other.implem)))  \n",
    "    def __mul__(self, other):\n",
    "        \"\"\"defines q1 * q2\"\"\"\n",
    "        a1, b1, c1, d1 = self.implem\n",
    "        a2, b2, c2, d2 = other.implem\n",
    "        a = a1 * a2 - b1 * b2 - c1 * c2 - d1 * d2\n",
    "        b = a1 * b2 + b1 * a2 + c1 * d2 - d1 * c2\n",
    "        c = a1 * c2 + c1 * a2 + d1 * b2 - b1 * d2\n",
    "        d = a1 * d2 + d1 * a2 + b1 * c2 - c1 * b2\n",
    "        return Quaternion(a, b, c, d)  \n",
    "    def __eq__(self, other):\n",
    "        \"\"\"implements q1 == q2\"\"\"\n",
    "        return self.implem == other.implem  \n",
    "    def __repr__(self):\n",
    "        a, b, c, d = self.implem\n",
    "        return f\"({a}, {b}, {c}, {d})\""
   ]
  },
  {
   "cell_type": "code",
   "execution_count": 19,
   "id": "492595e7",
   "metadata": {
    "cell_style": "split",
    "slideshow": {
     "slide_type": "slide"
    }
   },
   "outputs": [
    {
     "data": {
      "text/plain": [
       "(-1, 0, 0, 0)"
      ]
     },
     "execution_count": 19,
     "metadata": {},
     "output_type": "execute_result"
    }
   ],
   "source": [
    "q0 = Quaternion(0, 0, 0, 0)\n",
    "q1 = Quaternion(1, 0, 0, 0)\n",
    "q_1 = Quaternion(-1, 0, 0, 0); q_1"
   ]
  },
  {
   "cell_type": "code",
   "execution_count": 20,
   "id": "c12c6786",
   "metadata": {
    "cell_style": "split"
   },
   "outputs": [
    {
     "data": {
      "text/plain": [
       "(0, 0, 0, 1)"
      ]
     },
     "execution_count": 20,
     "metadata": {},
     "output_type": "execute_result"
    }
   ],
   "source": [
    "i = Quaternion(0, 1, 0, 0)\n",
    "j = Quaternion(0, 0, 1, 0)\n",
    "k = Quaternion(0, 0, 0, 1)\n",
    "k"
   ]
  },
  {
   "cell_type": "code",
   "execution_count": 21,
   "id": "3e2da4f2",
   "metadata": {
    "cell_style": "split"
   },
   "outputs": [
    {
     "data": {
      "text/plain": [
       "(-1, 0, 0, 0)"
      ]
     },
     "execution_count": 21,
     "metadata": {},
     "output_type": "execute_result"
    }
   ],
   "source": [
    "i * i"
   ]
  },
  {
   "cell_type": "code",
   "execution_count": 22,
   "id": "a0efeeb7",
   "metadata": {
    "cell_style": "split"
   },
   "outputs": [
    {
     "data": {
      "text/plain": [
       "True"
      ]
     },
     "execution_count": 22,
     "metadata": {},
     "output_type": "execute_result"
    }
   ],
   "source": [
    "i*i == j*j == k*k == i*j*k == q_1"
   ]
  },
  {
   "cell_type": "code",
   "execution_count": 23,
   "id": "795e63e2",
   "metadata": {
    "cell_style": "split"
   },
   "outputs": [],
   "source": [
    "q = Quaternion(1, 2, 3, 4)"
   ]
  },
  {
   "cell_type": "code",
   "execution_count": 24,
   "id": "d6e3462d",
   "metadata": {
    "cell_style": "split"
   },
   "outputs": [
    {
     "data": {
      "text/plain": [
       "(-28, 4, 6, 8)"
      ]
     },
     "execution_count": 24,
     "metadata": {},
     "output_type": "execute_result"
    }
   ],
   "source": [
    "q * q"
   ]
  },
  {
   "cell_type": "code",
   "execution_count": 25,
   "id": "bf42fb04",
   "metadata": {
    "cell_style": "split"
   },
   "outputs": [
    {
     "data": {
      "text/plain": [
       "(-2, 1, 4, -3)"
      ]
     },
     "execution_count": 25,
     "metadata": {},
     "output_type": "execute_result"
    }
   ],
   "source": [
    "q * i"
   ]
  },
  {
   "cell_type": "code",
   "execution_count": 26,
   "id": "c0ced149",
   "metadata": {
    "cell_style": "split"
   },
   "outputs": [
    {
     "data": {
      "text/plain": [
       "(-2, 1, -4, 3)"
      ]
     },
     "execution_count": 26,
     "metadata": {},
     "output_type": "execute_result"
    }
   ],
   "source": [
    "i * q"
   ]
  },
  {
   "cell_type": "markdown",
   "id": "28cdb70b",
   "metadata": {
    "slideshow": {
     "slide_type": "slide"
    }
   },
   "source": [
    "limitations pour cette version rustique :\n",
    "\n",
    "* manque des opérations\n",
    "* égalité sans doute trop stricte (arrondis)\n",
    "* ne sait pas interagir avec `int` ou `float`\n",
    "* affichage\n",
    "* ..."
   ]
  },
  {
   "cell_type": "code",
   "execution_count": 27,
   "id": "7590e0a2",
   "metadata": {
    "slideshow": {
     "slide_type": "skip"
    }
   },
   "outputs": [],
   "source": [
    "    # pour affichage\n",
    "    labels = ['', 'i', 'j', 'k']  \n",
    "    # un code possible pour un affichage plus élégant\n",
    "\n",
    "    # affichage\n",
    "    def __repr__(self):\n",
    "        # on prépare des morceaux comme '3', '2i', '4j', '5k'\n",
    "        # mais seulement si la dimension en question n'est pas nulle\n",
    "        parts = (f\"{x:.1f}{label}\" for x, label in zip(self.implem, labels) if x)\n",
    "\n",
    "        # on les assemble avec un + au milieu\n",
    "        full = \" + \".join(parts)\n",
    "\n",
    "        # si c'est vide c'est que self est nul\n",
    "        return full if full != \"\" else \"0\"\n",
    "\n",
    "        # ce qui donnerait aussi en version un peu plus condensée\n",
    "        # mais beaucoup moins lisible\n",
    "        # return (\" + \".join(f\"{x:.2f}{label}\" for x, label in zip(self.implem, labels) if x) or \"0\")"
   ]
  }
 ],
 "metadata": {
  "jupytext": {
   "cell_metadata_filter": "all, -hidden, -heading_collapsed, -run_control, -trusted",
   "notebook_metadata_filter": "all, -jupytext.text_representation.jupytext_version, -jupytext.text_representation.format_version, -language_info.version, -language_info.codemirror_mode.version, -language_info.codemirror_mode, -language_info.file_extension, -language_info.mimetype, -toc",
   "text_representation": {
    "extension": ".md",
    "format_name": "myst"
   }
  },
  "kernelspec": {
   "display_name": "Python 3",
   "language": "python",
   "name": "python3"
  },
  "language_info": {
   "codemirror_mode": {
    "name": "ipython",
    "version": 3
   },
   "file_extension": ".py",
   "mimetype": "text/x-python",
   "name": "python",
   "nbconvert_exporter": "python",
   "pygments_lexer": "ipython3",
   "version": "3.9.5"
  },
  "notebookname": "classes et objets",
  "rise": {
   "autolaunch": true,
   "slideNumber": "c/t",
   "start_slideshow_at": "selected",
   "theme": "sky",
   "transition": "cube"
  },
  "source_map": [
   25,
   34,
   38,
   47,
   52,
   61,
   66,
   73,
   81,
   94,
   105,
   109,
   129,
   133,
   145,
   162,
   167,
   171,
   177,
   199,
   212,
   218,
   224,
   228,
   236,
   240,
   254,
   258,
   264,
   276,
   283,
   290,
   297,
   304,
   311,
   317,
   321,
   327,
   331,
   340,
   366,
   378,
   385,
   398,
   402,
   422,
   452,
   463,
   472,
   478,
   484,
   490,
   496,
   502,
   508,
   518
  ],
  "version": "1.0"
 },
 "nbformat": 4,
 "nbformat_minor": 5
}