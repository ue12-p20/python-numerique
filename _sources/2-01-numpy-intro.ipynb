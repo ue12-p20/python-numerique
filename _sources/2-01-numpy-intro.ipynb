{
 "cells": [
  {
   "cell_type": "markdown",
   "id": "90b00a33",
   "metadata": {},
   "source": [
    "<div class=\"licence\">\n",
    "<span>Licence CC BY-NC-ND</span>\n",
    "<span>Valérie Roy</span>\n",
    "</div>\n",
    "\n",
    "<img src=\"media/ensmp-25-alpha.png\" />"
   ]
  },
  {
   "cell_type": "markdown",
   "id": "d2e6dbea",
   "metadata": {
    "tags": []
   },
   "source": [
    "<div style=\"background-color:LightYellow; padding:20px 50px; font-size:120%\"> \n",
    "    \n",
    "**Avertissement pour les lecteurs: élèves et enseignants**\n",
    "\n",
    "Après l'introduction à *Python* viennent les cours d'introduction à python-numérique en *numpy*, aux tables de données sous *pandas* et à leur visualisation avec *matplotlib*.\n",
    "\n",
    "Ces cours ne sont pas sous forme de diaporamas (comme ceux sur *Python* que vous venez d'avoir).\n",
    "\n",
    "Cette année nous tentons une expérience, un nouveau format de cours, où les noteboooks prennent la forme de petites histoires ...\n",
    "\n",
    "Les notebooks déroulent des explications détaillées, qui soulèvent des questions et y répondent, le tout entrecoupés, parfois, de toutes petites choses à faire ou sur lesquelles on peut réfléchir rapidement.\n",
    "\n",
    "Ces notebooks jouent deux rôles: celui de *poly exécutable* (que les élèves peuvent relire en autonomie à-la-Meuh) et celui d'un scénario de base lors des cours en présentiel.\n",
    "\n",
    "L'idée serait que l'enseignant déroule les notebooks avec les élèves d'une manière interactive en instaurant un dialogue (rapide) avec la classe autour des questions en bleu qui jalonnent les notebooks.  \n",
    "L'idée n'est pas que les notebooks soient lus en autonomie par les élèves lors des cours en présentiel.\n",
    "\n",
    "Il faut garder un rythme assez soutenu si on veut faire le tour des notobooks. Les questions qui ne sont pas vertes peuvent être regardées par les élèves à-la-maison, et les petites question de code peuvent être sautées ou faites par les élèves qui vont très vite. La correction étant dessous ces petites questions servent à ré-utiliser les fonctions.\n",
    "</div>"
   ]
  },
  {
   "cell_type": "markdown",
   "id": "6201f6ee",
   "metadata": {
    "tags": [
     "level_advanced"
    ]
   },
   "source": [
    "# UE12 - numpy : introduction"
   ]
  },
  {
   "cell_type": "markdown",
   "id": "ce34e99f",
   "metadata": {},
   "source": [
    "Cours #3 : Python et le numérique avec `numpy`"
   ]
  },
  {
   "cell_type": "markdown",
   "id": "0a179baa",
   "metadata": {},
   "source": [
    "## contextualisons un peu Python et le numérique"
   ]
  },
  {
   "cell_type": "markdown",
   "id": "e3934f09",
   "metadata": {},
   "source": [
    "Alors maintenant vous avez des rudiments du langage de programmation Python, que ce soit grâce à vos années de prépa ou à l'introduction (rapide) que nous venons de faire ou pour toute autre raison.\n",
    "\n",
    "Ce langage est plutôt élégant, simple à utiliser, il comporte tout un tas de structures de base pour ranger des données: dictionnaires, ensembles, listes, tuples ... et les fonctions afférantes pour les manipuler. On essaie ?"
   ]
  },
  {
   "cell_type": "code",
   "execution_count": 1,
   "id": "f444c112",
   "metadata": {},
   "outputs": [
    {
     "name": "stdout",
     "output_type": "stream",
     "text": [
      "[-65, -17, 1, 23, 45, 45, 67, 90, 124]\n"
     ]
    }
   ],
   "source": [
    "l = [124, 1, 45, 67, 23, -17, 90, 45, -65]\n",
    "l.sort()\n",
    "print(l)"
   ]
  },
  {
   "cell_type": "markdown",
   "id": "30a07f57",
   "metadata": {},
   "source": [
    "La liste ressort triée, c'est beau ! Tout ceci est top: vous allez pouvoir réaliser les super TP de math1 et de data science en math2."
   ]
  },
  {
   "cell_type": "markdown",
   "id": "eb79d1d6",
   "metadata": {},
   "source": [
    "Qui dit data science dit données, jusque là vous nous suivez. Toutes ces données il va donc falloir les stocker quelque part à l'intérieur des programmes écrits en Python, pour les manipuler."
   ]
  },
  {
   "cell_type": "markdown",
   "id": "b6c45cda",
   "metadata": {},
   "source": [
    "Si vous avez une grande, voire une très grande, quantité de données, il serait judicieux:\n",
    "   1. que leur stockage soit bien optimisé en espace mémoire et en temps d'accès à cet espace mémoire\n",
    "   1. que les calculs soient simples à appliquer et s'exécutent le plus rapide possible.\n",
    "\n",
    "Nous sommes tous d'accord."
   ]
  },
  {
   "cell_type": "markdown",
   "id": "afe7be36",
   "metadata": {
    "tags": [
     "level_basic"
    ]
   },
   "source": [
    "Alors ces données quelle forme vont-elles prendre ? Des idées ?"
   ]
  },
  {
   "cell_type": "markdown",
   "id": "0d1085ca",
   "metadata": {},
   "source": [
    "Oui vous pouvez avoir des matrices, des tables d'observations, des séries de mesures (par exemple temporelles), des images ... on regarde des exemples ?"
   ]
  },
  {
   "cell_type": "markdown",
   "id": "10211ed7",
   "metadata": {},
   "source": [
    "### un exemple de matrice"
   ]
  },
  {
   "cell_type": "markdown",
   "id": "b9b3e017",
   "metadata": {},
   "source": [
    "Vous avez là une très jolie matrice (4 x 5) et sa transposée (5 x 4).\n",
    "\n",
    "<img src='media/matrice.png'></img>"
   ]
  },
  {
   "cell_type": "markdown",
   "id": "b1f0de4f",
   "metadata": {
    "tags": [
     "level_basic"
    ]
   },
   "source": [
    "Comment pourrions nous représenter cette matrice en Python ? Une idée ? Essayez ?"
   ]
  },
  {
   "cell_type": "code",
   "execution_count": 2,
   "id": "3a09cff1",
   "metadata": {},
   "outputs": [],
   "source": [
    "# votre code ici (ne regardez pas dessous)"
   ]
  },
  {
   "cell_type": "markdown",
   "id": "840b07a8",
   "metadata": {},
   "source": [
    "En voici une solution sous la forme d'un tuple de tuples:"
   ]
  },
  {
   "cell_type": "code",
   "execution_count": 3,
   "id": "cdce5614",
   "metadata": {},
   "outputs": [],
   "source": [
    "matrice = (\n",
    "    (1, 2, 3, 4, 5), \n",
    "    (6, 7, 8, 9, 10),\n",
    "    (11, 12, 13, 14, 15),\n",
    "    (16, 17, 18, 19, 20)\n",
    ")"
   ]
  },
  {
   "cell_type": "markdown",
   "id": "73442ba7",
   "metadata": {},
   "source": [
    "ou une autre sous la forme d'une liste de listes"
   ]
  },
  {
   "cell_type": "code",
   "execution_count": 4,
   "id": "96ea24c4",
   "metadata": {},
   "outputs": [],
   "source": [
    "matrice = [\n",
    "    [1, 2, 3, 4, 5], \n",
    "    [6, 7, 8, 9, 10],\n",
    "    [11, 12, 13, 14, 15],\n",
    "    [16, 17, 18, 19, 20]\n",
    "]"
   ]
  },
  {
   "cell_type": "markdown",
   "id": "5aa464bb",
   "metadata": {
    "tags": [
     "level_basic"
    ]
   },
   "source": [
    "Quelle est la différence entre les deux solutions ?"
   ]
  },
  {
   "cell_type": "markdown",
   "id": "7d53c4e2",
   "metadata": {},
   "source": [
    "Oui les tuples ne sont pas mutables."
   ]
  },
  {
   "cell_type": "markdown",
   "id": "b0f33d01",
   "metadata": {},
   "source": [
    "Maintenant, si nous avions besoin de transposer cette matrice.\n",
    "\n",
    "Naturellement nous serions capable de coder la fonction, mais franchement quand une fonction est à ce point utile, il doit bien exister une version, déjà codée par d'autres, qui de plus sera débuggée, testée par de nombreux autres utilisateurs ...  donc sûrement plus fiable que votre version et plus rapide à utiliser !"
   ]
  },
  {
   "cell_type": "markdown",
   "id": "da3f423e",
   "metadata": {},
   "source": [
    "Premier principe de programmation: être le plus paresseux possible et toujours toujours toujours chercher avant de la coder si la fonction dont vous avez besoin n'existe pas déjà !"
   ]
  },
  {
   "cell_type": "markdown",
   "id": "b873fd51",
   "metadata": {},
   "source": [
    "### un exemple de table de données"
   ]
  },
  {
   "cell_type": "markdown",
   "id": "4f76e1d5",
   "metadata": {},
   "source": [
    "Maintenant un autre exemple de données. Voici ci-dessous la table de passagers du (pourtant *unsinkable*) titanic. Oui oui cette table est disponible dans le domaine public (comme des tas de données), par exemple, là https://public.opendatasoft.com/explore/dataset/titanic-passengers/table)."
   ]
  },
  {
   "cell_type": "markdown",
   "id": "cd2f8959",
   "metadata": {},
   "source": [
    "Vous voyez en ligne les passagers et en colonnes les quelques informations que nous avons sur eux: numéro d'idenmtification, survie à l'accident, classe (première, seconde, troisième), nom, genre, age, *SibSp*, *Parch*, ...\n",
    "\n",
    "heu ... *SibSp* et *Parch* ? Vous ne comprennez pas ce que c'est ? Oui nous sommes bien d'accord, ils auraient quand même pu choisir des noms un peu plus parlants (comme vous le faites sûrement toujours dans vos codes). Des indices ? SiblingsSpouse et ParentChildren. Et pour plus de details regardez là https://www.kaggle.com/c/titanic/data (mais pas pendant le cours).\n",
    "\n",
    "<img src='media/titanic.png' width=\"1000\"></img>"
   ]
  },
  {
   "cell_type": "markdown",
   "id": "c8bb92d2",
   "metadata": {},
   "source": [
    "### un exemple de série temporelle"
   ]
  },
  {
   "cell_type": "markdown",
   "id": "a3922635",
   "metadata": {},
   "source": [
    "Cédons là à l'actualité. Voici la courbe des valeurs cumulées du *nombre d'infections* au covid en France entre janvier et août. Où trouve-t-on ce genre d'information ? Nous avons pris nos données là https://www.data.gouv.fr/fr/datasets/coronavirus-covid19-evolution-par-pays-et-dans-le-monde-maj-quotidienne/\n",
    "\n",
    "Vous remarquez dans cette figure les abcisses qui sont des dates c'est bien une série temporelle.\n",
    "\n",
    "<img src='media/corona-france.jpg' width=\"500\"></img>"
   ]
  },
  {
   "cell_type": "markdown",
   "id": "a6c916e9",
   "metadata": {},
   "source": [
    "### un exemple d'image"
   ]
  },
  {
   "cell_type": "markdown",
   "id": "0be5b69a",
   "metadata": {},
   "source": [
    "Encore un exemple de données ? Voici une belle photo, d'un endroit que vous allez apprendre à connaître (si on ne confine pas trop souvent ...)\n",
    "\n",
    "<img src='media/les-mines.jpg' width=\"500\">"
   ]
  },
  {
   "cell_type": "markdown",
   "id": "ef3943e4",
   "metadata": {},
   "source": [
    "### que sont ces données ?"
   ]
  },
  {
   "cell_type": "markdown",
   "id": "e650d869",
   "metadata": {},
   "source": [
    "Je rappelle notre problème qui est de stocker ces données en mémoire afin de leur appliquer des fonctions."
   ]
  },
  {
   "cell_type": "markdown",
   "id": "c00d2482",
   "metadata": {},
   "source": [
    " Ces données semblent (à première vue) très différentes, mais nous allons souvent vouloir leur appliquer le même genre de fonctions (comme rechercher le passager le plus agé du titanic, les pixels de la couleur la plus foncée, les maxima des lignes de la matrice)."
   ]
  },
  {
   "cell_type": "markdown",
   "id": "248de1d3",
   "metadata": {
    "tags": [
     "level_basic"
    ]
   },
   "source": [
    "Ces données vous font-elles penser à quelque chose ? Des idéees ?"
   ]
  },
  {
   "cell_type": "markdown",
   "id": "137cae40",
   "metadata": {},
   "source": [
    "Oui bien sûr à des tableaux !\n",
    "   - la matrice est un tableau de 5 lignes et 4 colonnes, donc une taille (4 x 5)\n",
    "   - la table des passagers du Titanic est un tableau de 891 lignes et de 9 colonnes (891 x 9)\n",
    "   - l'image couleur, en codage RGB rouge-vert-bleu, est constituée de trois tables de couleurs primaires de 533 lignes et de 800 colonnes (grâce auxquelles votre écran va reconstituer une jolie image en couleur).\n",
    "   - la série temporelle sera une suite de valeurs chacune repérée par une date"
   ]
  },
  {
   "cell_type": "markdown",
   "id": "904179eb",
   "metadata": {},
   "source": [
    "Les structures de données de Python sont très bien mais, malheureusement, elles ne sont pas du tout adaptées à stocker et manipuler les tableaux de ce genre.\n",
    "\n",
    "Pour pallier à ce problème, depuis 2006 une librairie numérique appelée `numpy` est développée.\n",
    "\n",
    "Il a même été proposé au concepteur de Python de l'intégrer dans son langage, comme la structure de données de tableaux Python, mais celui-ci a refusé pour des soucis de maintenance de code."
   ]
  },
  {
   "cell_type": "markdown",
   "id": "c3c0c88f",
   "metadata": {},
   "source": [
    "`numpy` est une très bonne librarie numérique de manipulation de tableaux multi-dimensionnels qui, elle, comporte *toutes* les fonctionnalités numériques dont vous avez besoin.\n",
    "\n",
    "`numpy` n'est (définitivement) pas très facile à utiliser contrairement à Python, et si elle s'est imposée comme LA librarie numérique incontournable de Python, c'est parce qu'il n'en existe pas (encore) de meilleure, donc c'est naturellement celle-ci que les mines ont choisi de vous apprendre.\n",
    "\n",
    "\n",
    "`numpy` est donc considérée comme **LA** bibliothèque qui permet d'étendre le langage de programmation Python avec la manipulation de tableaux multidimensionnels.\n",
    "\n",
    "\n",
    "C'est une bibliothèque logicielle libre et open source. Elle va vous fournir des tas de fonctions de création et manipulation de tableaux.\n",
    "\n",
    "\n",
    "`numpy` est la base de SciPy (ScientificPython) qui est un regroupement de bibliothèques Python pour le calcul scientifique."
   ]
  },
  {
   "cell_type": "markdown",
   "id": "3cc12981",
   "metadata": {},
   "source": [
    "## apprenons à faire des tableaux `numpy.array`"
   ]
  },
  {
   "cell_type": "markdown",
   "id": "6b6e722e",
   "metadata": {},
   "source": [
    "Puisque nous allons parler ici de la librarie `numpy`, importons là. Et donnons lui, par convention, son petit-nom `np` qui est le petit-nom standard pour `numpy`: c'est sous ce nom que l'utiliseront la plupart des codes existants, donc utilisez-le aussi !"
   ]
  },
  {
   "cell_type": "code",
   "execution_count": 5,
   "id": "2c8782fb",
   "metadata": {},
   "outputs": [],
   "source": [
    "import numpy as np"
   ]
  },
  {
   "cell_type": "markdown",
   "id": "6bb9fff3",
   "metadata": {},
   "source": [
    "Maintenant nous allons créer un tableau et regarder les informations qu'il contient."
   ]
  },
  {
   "cell_type": "markdown",
   "id": "8190c1f2",
   "metadata": {},
   "source": [
    "### le type de donnée `numpy.ndarray`"
   ]
  },
  {
   "cell_type": "markdown",
   "id": "ae9c7846",
   "metadata": {},
   "source": [
    "`numpy` possède donc **un type** de tableau appelé `numpy.ndarray`. Alors effectivement ici `np.ndarray` serait plus juste mais nous allons écrire `numpy.` (et non `np.`) dans nos explications pour plus de clarté."
   ]
  },
  {
   "cell_type": "markdown",
   "id": "b19c8058",
   "metadata": {},
   "source": [
    "Voilà le type `numpy.ndarray`:"
   ]
  },
  {
   "cell_type": "code",
   "execution_count": 6,
   "id": "935b45bb",
   "metadata": {},
   "outputs": [
    {
     "data": {
      "text/plain": [
       "numpy.ndarray"
      ]
     },
     "execution_count": 6,
     "metadata": {},
     "output_type": "execute_result"
    }
   ],
   "source": [
    "np.ndarray"
   ]
  },
  {
   "cell_type": "markdown",
   "id": "50e66b3d",
   "metadata": {},
   "source": [
    "Ce type est une structure de donnée, qui va comporter toutes les fonctions nous permettant de construire et de manipuler des tableaux multi-dimentionnels. Super, on essaie ça."
   ]
  },
  {
   "cell_type": "markdown",
   "id": "72b182c1",
   "metadata": {},
   "source": [
    "### création de notre premier `np.ndarray`"
   ]
  },
  {
   "cell_type": "markdown",
   "id": "3f6ad17f",
   "metadata": {
    "tags": [
     "level_basic"
    ]
   },
   "source": [
    "Pour construire un tableau, de quelles informations peut-t-on avoir besoin ?"
   ]
  },
  {
   "cell_type": "markdown",
   "id": "6304fe22",
   "metadata": {},
   "source": [
    "   - de sa forme, disons par exemple que le tableau est une matrice 4 x 5.\n",
    "\n",
    "   - du type des éléments que `numpy` va pouvoir inférer (*deviner*) à partir des valeurs initiales fournies\n",
    "\n",
    "   - des valeurs, disons que cette matrice est celle que nous avons vu en début du notebook et qui s'appelle `matrice`"
   ]
  },
  {
   "cell_type": "markdown",
   "id": "38895b8a",
   "metadata": {},
   "source": [
    "La voila:"
   ]
  },
  {
   "cell_type": "code",
   "execution_count": 7,
   "id": "1b8998f1",
   "metadata": {},
   "outputs": [
    {
     "data": {
      "text/plain": [
       "[[1, 2, 3, 4, 5], [6, 7, 8, 9, 10], [11, 12, 13, 14, 15], [16, 17, 18, 19, 20]]"
      ]
     },
     "execution_count": 7,
     "metadata": {},
     "output_type": "execute_result"
    }
   ],
   "source": [
    "matrice"
   ]
  },
  {
   "cell_type": "markdown",
   "id": "94ab88ef",
   "metadata": {},
   "source": [
    "Pour construire un tableau on n'utilise pas directement la fonction de bas niveau (le constructeur) `numpy.ndarray`.\n",
    "\n",
    "D'autres fonctions sont définies pour cela, comme `numpy.array`, `numpy.zeros` et `numpy.empty`.\n",
    "\n",
    "Utilisons la première fonction. Elle initialise ses éléments à partir d'un objet décrivant un tableau, par exemple la liste de listes décrivant la matrice 4 x 5 ci-dessus.\n",
    "\n",
    "Comment savons nous tout cela ? Grâce au help sur `numpy.ndarray` !"
   ]
  },
  {
   "cell_type": "code",
   "execution_count": 8,
   "id": "1112c989",
   "metadata": {},
   "outputs": [],
   "source": [
    "# pour avoir de l'aide dans un notebook,\n",
    "# le plus simple c'est avec le ? comme ceci\n",
    "np.array?\n",
    "\n",
    "# l'évaluation de cette cellule déclenche l'affichage de l'aide\n",
    "# cliquez sur la croix en haut à droite pour effacer le pop-up"
   ]
  },
  {
   "cell_type": "markdown",
   "id": "a468f19f",
   "metadata": {},
   "source": [
    "Dès que vous avez un doute sur quelque chose, utilisez le help !"
   ]
  },
  {
   "cell_type": "markdown",
   "id": "74623958",
   "metadata": {},
   "source": [
    "Disons que la fonction `numpy.array` peut être vue comme la manière de convertir \"quelque chose qui en Python décrit un tableau\" en une structure de donnée de type `numpy.ndarray`."
   ]
  },
  {
   "cell_type": "code",
   "execution_count": 9,
   "id": "8da22e7c",
   "metadata": {},
   "outputs": [],
   "source": [
    "mat = np.array(matrice)"
   ]
  },
  {
   "cell_type": "markdown",
   "id": "f6959ea1",
   "metadata": {},
   "source": [
    "et voilà à quoi ressemble le résultat"
   ]
  },
  {
   "cell_type": "code",
   "execution_count": 10,
   "id": "e19496cf",
   "metadata": {},
   "outputs": [
    {
     "data": {
      "text/plain": [
       "array([[ 1,  2,  3,  4,  5],\n",
       "       [ 6,  7,  8,  9, 10],\n",
       "       [11, 12, 13, 14, 15],\n",
       "       [16, 17, 18, 19, 20]])"
      ]
     },
     "execution_count": 10,
     "metadata": {},
     "output_type": "execute_result"
    }
   ],
   "source": [
    "mat"
   ]
  },
  {
   "cell_type": "markdown",
   "id": "54c5fa81",
   "metadata": {},
   "source": [
    "Voila `mat`. Elle est super ! Et nous n'avons même pas eu à indiquer ni la forme du tableau, `numpy` l'a déduite de la forme de la liste de listes passée en argument (heureusement) ni le type des éléments, `numpy` l'a déterminé à partir des valeurs initiales (ouf)."
   ]
  },
  {
   "cell_type": "markdown",
   "id": "be2d75bf",
   "metadata": {
    "tags": [
     "level_basic"
    ]
   },
   "source": [
    "Maintenant à vous de jouer. Créer la matrice $\\begin{pmatrix} 5.2 & 9 & 2 \\\\ 6 & 8 & 1 \\\\ 0 & 3 & -7 \\\\ -5 & -8 & 7 \\end{pmatrix}$. Appelez la `ma_mat`"
   ]
  },
  {
   "cell_type": "code",
   "execution_count": 11,
   "id": "171637fd",
   "metadata": {},
   "outputs": [],
   "source": [
    "# votre code ici (correction ci-dessous)"
   ]
  },
  {
   "cell_type": "code",
   "execution_count": 12,
   "id": "e9eefa9d",
   "metadata": {},
   "outputs": [
    {
     "data": {
      "text/plain": [
       "array([[ 5.2,  9. ,  2. ],\n",
       "       [ 6. ,  8. ,  1. ],\n",
       "       [ 0. ,  3. , -7. ],\n",
       "       [-5. , -8. ,  7. ]])"
      ]
     },
     "execution_count": 12,
     "metadata": {},
     "output_type": "execute_result"
    }
   ],
   "source": [
    "ma_mat = np.array([[5.2, 9, 2], [6, 8, 1], [0, 3, -7], [-5, -8, 7]])\n",
    "ma_mat"
   ]
  },
  {
   "cell_type": "markdown",
   "id": "92b18ea3",
   "metadata": {
    "tags": [
     "level_basic"
    ]
   },
   "source": [
    "Essayer de créer un tableau unidimensionnel que vous appelez `vec`. Mettez lui les entiers pairs de 0 à 12 compris."
   ]
  },
  {
   "cell_type": "code",
   "execution_count": 13,
   "id": "b8d66e11",
   "metadata": {},
   "outputs": [],
   "source": [
    "# votre code ici"
   ]
  },
  {
   "cell_type": "markdown",
   "id": "434dcf60",
   "metadata": {},
   "source": [
    "Oui, on peut bien sûr aussi créer un tableau de dimension 1."
   ]
  },
  {
   "cell_type": "code",
   "execution_count": 14,
   "id": "c2012d44",
   "metadata": {},
   "outputs": [
    {
     "data": {
      "text/plain": [
       "array([ 0,  2,  4,  6,  8, 10, 12])"
      ]
     },
     "execution_count": 14,
     "metadata": {},
     "output_type": "execute_result"
    }
   ],
   "source": [
    "vec = np.array([i for i in range(13) if i%2==0])\n",
    "vec"
   ]
  },
  {
   "cell_type": "markdown",
   "id": "c87273b7",
   "metadata": {},
   "source": [
    "### le type des éléments d'un tableau `numpy.ndarray`"
   ]
  },
  {
   "cell_type": "markdown",
   "id": "551962e2",
   "metadata": {},
   "source": [
    "Notre belle matrice, dans la variable Python `mat` est de type `numpy.ndarray`.\n",
    "\n",
    "On va lui demander quel est le type de ses éléments."
   ]
  },
  {
   "cell_type": "code",
   "execution_count": 15,
   "id": "3c985b1b",
   "metadata": {},
   "outputs": [
    {
     "data": {
      "text/plain": [
       "dtype('int64')"
      ]
     },
     "execution_count": 15,
     "metadata": {},
     "output_type": "execute_result"
    }
   ],
   "source": [
    "mat.dtype"
   ]
  },
  {
   "cell_type": "markdown",
   "id": "d9540d89",
   "metadata": {},
   "source": [
    "Ok des entiers codés sur 64 bits (on y reviendra)."
   ]
  },
  {
   "cell_type": "markdown",
   "id": "3731f24d",
   "metadata": {
    "tags": [
     "level_basic"
    ]
   },
   "source": [
    "Maintenant à vous de jouer. Regardez le type des éléments de votre matrice `ma_mat`."
   ]
  },
  {
   "cell_type": "code",
   "execution_count": 16,
   "id": "754a27d5",
   "metadata": {},
   "outputs": [],
   "source": [
    "# votre code ici la correction ci-dessous"
   ]
  },
  {
   "cell_type": "code",
   "execution_count": 17,
   "id": "180a32f6",
   "metadata": {},
   "outputs": [
    {
     "data": {
      "text/plain": [
       "dtype('float64')"
      ]
     },
     "execution_count": 17,
     "metadata": {},
     "output_type": "execute_result"
    }
   ],
   "source": [
    "ma_mat.dtype"
   ]
  },
  {
   "cell_type": "markdown",
   "id": "36a183f7",
   "metadata": {},
   "source": [
    "Bon dans les deux cas `numpy` a vu large ! Il a choisi d'encoder ses entiers sur 64 bits et leur permettre d'être négatifs. Et cela pour stocker des nombres tous positifs entre 1 et 20...\n",
    "\n",
    "64 bits ? ca ne vous dit plus grand chose ? au cas où, un petit rappel\n",
    "   - le plus petit élément de la mémoire est le bit qui ne prend que deux valeurs 0 et 1\n",
    "   - le regroupement de 8 bits forme un `octet` (ou `byte` en anglais)\n",
    "   - la quantité de mémoire peut s'exprimer en nombres d'`octets`"
   ]
  },
  {
   "cell_type": "markdown",
   "id": "9acda55a",
   "metadata": {
    "tags": [
     "level_basic"
    ]
   },
   "source": [
    "Combien notre matrice `mat` occupe-t-elle d'octets en mémoire ?"
   ]
  },
  {
   "cell_type": "markdown",
   "id": "26c298a7",
   "metadata": {},
   "source": [
    "Il y a 4 x 5 éléments, chacun sur 64 bits, donc sur 8 octets. On a 4x5x8=160 octets."
   ]
  },
  {
   "cell_type": "markdown",
   "id": "8c046c7c",
   "metadata": {
    "tags": [
     "level_advanced"
    ]
   },
   "source": [
    "Si nous sommes sûrs que nos entiers seront toujours positifs ou nuls et toujours strictements inférieurs à 256 (vous nous voyez venir ?) de combien d'octets aurons-nous besoin ? (la couleur est saumon pas-très-frais: c'est donc une question avancée)"
   ]
  },
  {
   "cell_type": "markdown",
   "id": "e9d08631",
   "metadata": {
    "tags": [
     "level_advanced"
    ]
   },
   "source": [
    "Oui il suffira d'avoir des entiers non signés sur 8 bits ! (non signés afin de récupérer le bit qui sert normalement à indiquer le signe pour stocker un bit de la valeur).\n",
    "\n",
    "Les valeurs iront de `00000000` soit 0 à `11111111` soit 255 ($2^8-1$).\n",
    "\n",
    "Ce type s'appelle `numpy.uint8` (*u* pour *u*nsigned)."
   ]
  },
  {
   "cell_type": "markdown",
   "id": "59ef6796",
   "metadata": {
    "tags": [
     "level_advanced"
    ]
   },
   "source": [
    "**avec n bits**\n",
    "   - on représente $2^n$ valeurs entières\n",
    "      - soit des entiers signés $\\in [ -2^{n-1}$, $2^{n-1}-1]$\n",
    "      - soit des entiers non signés $\\in [0, 2^n-1]$"
   ]
  },
  {
   "cell_type": "markdown",
   "id": "e4b86ddb",
   "metadata": {},
   "source": [
    "Alors indiquons donc à `numpy.array`, à la construction du tableau, que nous voulons ce type précis pour nos éléments.\n",
    "\n",
    "Nous faisons cela, grâce au paramètre `dtype` de la fonction `numpy.array`"
   ]
  },
  {
   "cell_type": "code",
   "execution_count": 18,
   "id": "34aaaf12",
   "metadata": {},
   "outputs": [],
   "source": [
    "mat8 = np.array(matrice, dtype=np.uint8) # vous pouvez aussi dire dtype='uint8' mais c'est moins joli "
   ]
  },
  {
   "cell_type": "code",
   "execution_count": 19,
   "id": "7c315c10",
   "metadata": {},
   "outputs": [
    {
     "data": {
      "text/plain": [
       "dtype('uint8')"
      ]
     },
     "execution_count": 19,
     "metadata": {},
     "output_type": "execute_result"
    }
   ],
   "source": [
    "mat8.dtype"
   ]
  },
  {
   "cell_type": "markdown",
   "id": "0f5d9c20",
   "metadata": {},
   "source": [
    "Combien notre tableau occupe-t-il en mémoire maintenant ... alors oui on peut le calculer mais nous rappelons la première règle de la programmation *être le plus paresseux possible* donc ne jamais calculer quelque chose qui est déjà connu !\n",
    "\n",
    "Nous allons donc demander directement à `mat8` de nous indiquer sa taille en octets (1 octet = 8 bits) parce que i) on est sûr qu'il la connait parfaitement et ii) il ne fera pas d'erreur en nous l'indiquant alors que nous pourrions faire des erreurs en la calculant (oui en fin de journée un peu fatigué et hop on oublie de multiplier par le nombre de lignes ... et après on a un bug).\n",
    "\n",
    "On utilise pour cela un attribut (ou encore *champ*) de l'objet `mat8`. Ce n'est pas une fonction, juste un champ à consulter qui s'appelle `numpy.ndarray.nbytes` (bytes==octets)"
   ]
  },
  {
   "cell_type": "code",
   "execution_count": 20,
   "id": "aa9bd2bb",
   "metadata": {},
   "outputs": [
    {
     "data": {
      "text/plain": [
       "20"
      ]
     },
     "execution_count": 20,
     "metadata": {},
     "output_type": "execute_result"
    }
   ],
   "source": [
    "mat8.nbytes"
   ]
  },
  {
   "cell_type": "markdown",
   "id": "8be76410",
   "metadata": {},
   "source": [
    "Oui 20 octets 1 par élément !"
   ]
  },
  {
   "cell_type": "markdown",
   "id": "945ea24c",
   "metadata": {
    "tags": [
     "level_basic"
    ]
   },
   "source": [
    "Maintenant à vous de jouer: Re-construisez votre matrice `ma_mat8` en lui imposant le type `uint8` pour ses éléments. Affichez-là."
   ]
  },
  {
   "cell_type": "code",
   "execution_count": 21,
   "id": "23e1f62a",
   "metadata": {},
   "outputs": [],
   "source": [
    "# votre code ici"
   ]
  },
  {
   "cell_type": "code",
   "execution_count": 22,
   "id": "d85bfd05",
   "metadata": {},
   "outputs": [
    {
     "data": {
      "text/plain": [
       "array([[  5,   9,   2],\n",
       "       [  6,   8,   1],\n",
       "       [  0,   3, 249],\n",
       "       [251, 248,   7]], dtype=uint8)"
      ]
     },
     "execution_count": 22,
     "metadata": {},
     "output_type": "execute_result"
    }
   ],
   "source": [
    "ma_mat8 = np.array([[5.2, 9, 2], [6, 8, 1], [0, 3, -7], [-5, -8, 7]], dtype=np.uint8)\n",
    "ma_mat8"
   ]
  },
  {
   "cell_type": "markdown",
   "id": "364fb191",
   "metadata": {},
   "source": [
    "Vous voyez un problème ? Oui bien sûr: vous avez demandé (i) que vos éléments soient entre 0 et 255 et (ii) qu'ils soient des entiers. Il vous obéit et convertit vos valeurs !\n",
    "\n",
    "Nous reviendrons là dessus plus tard, mais `numpy` fait en sorte que tous les éléments du tableau tiennent dans la taille que vous avez demandé et aient tous le même type (on ne mélange pas des int et des float)."
   ]
  },
  {
   "cell_type": "markdown",
   "id": "9edf516a",
   "metadata": {},
   "source": [
    "A partir de l'objet `numpy.ndarray` on peut accéder à de nombreuses autres informations sur le tableau."
   ]
  },
  {
   "cell_type": "markdown",
   "id": "cd605528",
   "metadata": {},
   "source": [
    "### la taille `size` du tableau"
   ]
  },
  {
   "cell_type": "markdown",
   "id": "570cade4",
   "metadata": {},
   "source": [
    "Si on veut connaître le nombre d'éléments du tableau, on utilise le champ `size`"
   ]
  },
  {
   "cell_type": "code",
   "execution_count": 23,
   "id": "e489fb40",
   "metadata": {},
   "outputs": [
    {
     "data": {
      "text/plain": [
       "20"
      ]
     },
     "execution_count": 23,
     "metadata": {},
     "output_type": "execute_result"
    }
   ],
   "source": [
    "mat8.size"
   ]
  },
  {
   "cell_type": "markdown",
   "id": "f65ce832",
   "metadata": {},
   "source": [
    "### taille des éléments en mémoire `itemsize` et `nbytes`"
   ]
  },
  {
   "cell_type": "markdown",
   "id": "43bd58f5",
   "metadata": {},
   "source": [
    "Si on veut connaître la taille qu'occupe en mémoire (en octets) chaque élément, on utilise `itemsize`"
   ]
  },
  {
   "cell_type": "code",
   "execution_count": 24,
   "id": "f735dad1",
   "metadata": {},
   "outputs": [
    {
     "data": {
      "text/plain": [
       "1"
      ]
     },
     "execution_count": 24,
     "metadata": {},
     "output_type": "execute_result"
    }
   ],
   "source": [
    "mat8.itemsize"
   ]
  },
  {
   "cell_type": "markdown",
   "id": "2cd08bd2",
   "metadata": {},
   "source": [
    "Si on veut connaître le nombre d'octets total qu'occupe notre tableau en mémoire (on l'a déjà vu), on utilise `nbytes`."
   ]
  },
  {
   "cell_type": "code",
   "execution_count": 25,
   "id": "38e0e732",
   "metadata": {},
   "outputs": [
    {
     "data": {
      "text/plain": [
       "20"
      ]
     },
     "execution_count": 25,
     "metadata": {},
     "output_type": "execute_result"
    }
   ],
   "source": [
    "mat8.nbytes"
   ]
  },
  {
   "cell_type": "markdown",
   "id": "efb0a569",
   "metadata": {
    "tags": [
     "level_basic"
    ]
   },
   "source": [
    "Maintenant dégourdissez vous les doigts, consultez (i) la taille, (i) la taille des éléments, (iii) le nombre total d'octets et (iv) le type des éléments de votre matrice `ma_mat8`"
   ]
  },
  {
   "cell_type": "code",
   "execution_count": 26,
   "id": "1d0e9db8",
   "metadata": {},
   "outputs": [],
   "source": [
    "# votre code ici"
   ]
  },
  {
   "cell_type": "markdown",
   "id": "a3368702",
   "metadata": {},
   "source": [
    "### la forme `shape` et la dimension  `dim`du tableau"
   ]
  },
  {
   "cell_type": "markdown",
   "id": "8eea5aba",
   "metadata": {},
   "source": [
    "Si on veut connaître la forme d'un tableau, on utilise ? Oui `shape` !"
   ]
  },
  {
   "cell_type": "code",
   "execution_count": 27,
   "id": "88c935ba",
   "metadata": {},
   "outputs": [
    {
     "data": {
      "text/plain": [
       "(4, 5)"
      ]
     },
     "execution_count": 27,
     "metadata": {},
     "output_type": "execute_result"
    }
   ],
   "source": [
    "mat.shape"
   ]
  },
  {
   "cell_type": "markdown",
   "id": "75aba352",
   "metadata": {},
   "source": [
    "Et enfin, si on veut connaître la dimension du tableau (non on ne la calcule pas avec la longueur de la liste indiquant la forme) ! On utilise `dim`"
   ]
  },
  {
   "cell_type": "code",
   "execution_count": 28,
   "id": "b91f1523",
   "metadata": {},
   "outputs": [
    {
     "data": {
      "text/plain": [
       "True"
      ]
     },
     "execution_count": 28,
     "metadata": {},
     "output_type": "execute_result"
    }
   ],
   "source": [
    "mat.ndim == len(mat.shape)"
   ]
  },
  {
   "cell_type": "markdown",
   "id": "38525fc6",
   "metadata": {
    "tags": [
     "level_basic"
    ]
   },
   "source": [
    "Maintenant à vous de jouer: Demandez la forme et la dimension de votre `ma_mat`. Oui je sais c'est juste au dessus mais c'est pour que vous utilisiez au moins une fois ces deux fonctions."
   ]
  },
  {
   "cell_type": "code",
   "execution_count": 29,
   "id": "1cb033cd",
   "metadata": {},
   "outputs": [],
   "source": [
    "# votre code ici"
   ]
  },
  {
   "cell_type": "markdown",
   "id": "fd661511",
   "metadata": {},
   "source": [
    "### on récapitule les méthodes des ndarrays"
   ]
  },
  {
   "cell_type": "markdown",
   "id": "e987aa62",
   "metadata": {},
   "source": [
    "Un petit tableau pour récapituler les méthodes des `numpy.ndarray` (on les a déjà toutes vues, vous pouvez passer très rapidement).\n",
    "\n",
    "| les méthodes             | ce qu'elles font                                 |\n",
    "|--------------------------|--------------------------------------------------|\n",
    "| `numpy.ndarray.shape`    | la forme du tableau (tuple)                      |\n",
    "| `numpy.ndarray.ndim`     | le nombre de dimensions du tableau               |\n",
    "| `numpy.ndarray.dtype`    | le type des éléments                             |\n",
    "| `numpy.ndarray.size`     | le nombre d'éléments du tableau                  |\n",
    "| `numpy.ndarray.itemsize` | la taille en octet d'un élément                  |\n",
    "| `numpy.ndarray.nbytes`   | la taille totale du tableau sous-jacent en octet |"
   ]
  },
  {
   "cell_type": "markdown",
   "id": "781de614",
   "metadata": {},
   "source": [
    "### création d'un tableau de zéros `numpy.zeros`"
   ]
  },
  {
   "cell_type": "markdown",
   "id": "dac691de",
   "metadata": {},
   "source": [
    "Il existe une deuxième fonction pour créer des tableaux dont les éléments sont initialisés à 0. Qui s'appelle `numpy.zeros`. Alors là vous allez devoir donner la forme de votre tableau, la fonction ne peut pas la deviner ... comme elle le faisait dans l'exemple précécent."
   ]
  },
  {
   "cell_type": "code",
   "execution_count": 30,
   "id": "d375be4e",
   "metadata": {},
   "outputs": [
    {
     "data": {
      "text/plain": [
       "array([[0., 0., 0., 0., 0.],\n",
       "       [0., 0., 0., 0., 0.],\n",
       "       [0., 0., 0., 0., 0.],\n",
       "       [0., 0., 0., 0., 0.]])"
      ]
     },
     "execution_count": 30,
     "metadata": {},
     "output_type": "execute_result"
    }
   ],
   "source": [
    "zorro = np.zeros(shape=(4, 5))\n",
    "zorro"
   ]
  },
  {
   "cell_type": "markdown",
   "id": "4ff90d0a",
   "metadata": {
    "tags": [
     "level_basic"
    ]
   },
   "source": [
    "Dans votre idée, vu l'affichage de *zorro*, quel est le type choisi ici, par défaut, par `numpy` ?"
   ]
  },
  {
   "cell_type": "code",
   "execution_count": 31,
   "id": "cbcdc754",
   "metadata": {},
   "outputs": [],
   "source": [
    "# votre code ici"
   ]
  },
  {
   "cell_type": "markdown",
   "id": "d09bd534",
   "metadata": {
    "tags": [
     "level_basic"
    ]
   },
   "source": [
    "Encore à vous de jouer ! Créer une matrice de 6 lignes et 2 colonnes de zéros entiers de simples `int` et afficher le type choisi."
   ]
  },
  {
   "cell_type": "code",
   "execution_count": 32,
   "id": "b46d1524",
   "metadata": {},
   "outputs": [],
   "source": [
    "# votre code ici"
   ]
  },
  {
   "cell_type": "markdown",
   "id": "b85ad49c",
   "metadata": {},
   "source": [
    "La correction ci-dessous."
   ]
  },
  {
   "cell_type": "code",
   "execution_count": 33,
   "id": "b73beb50",
   "metadata": {},
   "outputs": [
    {
     "data": {
      "text/plain": [
       "dtype('int64')"
      ]
     },
     "execution_count": 33,
     "metadata": {},
     "output_type": "execute_result"
    }
   ],
   "source": [
    "np.zeros(shape=(6, 2), dtype=int).dtype"
   ]
  },
  {
   "cell_type": "markdown",
   "id": "139f1750",
   "metadata": {},
   "source": [
    "### création d'un tableau de *rien* `numpy.empty`"
   ]
  },
  {
   "cell_type": "markdown",
   "id": "fd759227",
   "metadata": {
    "tags": [
     "level_basic"
    ]
   },
   "source": [
    "Il existe une fonction qui permet de ne pas initialiser les éléments du tableau. Alors bien sûr on se pose des tas des questions, au moins deux: A quoi ca sert ? Dans quel cas est-il intéressant de l'utiliser ? Qu'en pensez-vous ?"
   ]
  },
  {
   "cell_type": "markdown",
   "id": "09796160",
   "metadata": {},
   "source": [
    "A quoi ca sert ? À ne pas perdre de temps à initialiser ! Quand votre tableau est très très très grand, faire mettre inutilement une valeur dans chaque case par `numpy` est une très très très grande perte de temps. Bien sûr, en traitement de données, surtout quand on a beaucoup de données, on essaie de ne pas faire de choses qui ne servent à rien.\n",
    "\n",
    "Dans quels cas ? Et bien par exemple vous savez que vous allez initialiser ces éléments par la suite."
   ]
  },
  {
   "cell_type": "markdown",
   "id": "8af96c1a",
   "metadata": {},
   "source": [
    "Allons-y. Faisons un tableau non-initialisé de taille 3 x 6 et demandons lui comme type des éléments des entiers 8 bits signés (par exemple)."
   ]
  },
  {
   "cell_type": "code",
   "execution_count": 34,
   "id": "ecbe3dfc",
   "metadata": {},
   "outputs": [],
   "source": [
    "rien = np.empty(shape=(3, 6), dtype=np.int8)"
   ]
  },
  {
   "cell_type": "markdown",
   "id": "ebe96d67",
   "metadata": {
    "tags": [
     "level_basic"
    ]
   },
   "source": [
    "C'est le moment où vous vous dites, à juste titre, que pourtant ces cases vont exister en mémoire. Oui bien sûr. Donc vous allez pouvoir regarder ce qu'elles contiennent ! Oui tout à fait ! Mais alors que pensez-vous trouver comme valeur dans une case non initialisée ?"
   ]
  },
  {
   "cell_type": "markdown",
   "id": "e797538e",
   "metadata": {},
   "source": [
    "Ben non pas 0, sauf si ... sauf si c'est la valeur qui se trouvait dans la mémoire avant que cette case n'y soit crée, pur hasard.\n",
    "\n",
    "Affichez votre tableau `rien`"
   ]
  },
  {
   "cell_type": "code",
   "execution_count": 35,
   "id": "214edd21",
   "metadata": {},
   "outputs": [
    {
     "data": {
      "text/plain": [
       "array([[-48, -28, -10, -68,  52,  86],\n",
       "       [  0,   0,   0,   0,   0,   0],\n",
       "       [  0,   0,   0,   0,  32,   0]], dtype=int8)"
      ]
     },
     "execution_count": 35,
     "metadata": {},
     "output_type": "execute_result"
    }
   ],
   "source": [
    "rien"
   ]
  },
  {
   "cell_type": "markdown",
   "id": "ce12363e",
   "metadata": {
    "tags": [
     "level_basic"
    ]
   },
   "source": [
    "Et oui vous voyez que vous avez n'importe quoi comme valeurs: `numpy` laisse simplement la mémoire comme elle était avant la création du tableau. Puisque toute case mémoire contient soit un 0 soit un 1, le contenu des cases est mis dans le type des éléments de votre tableau, avec 8 bits je vais avoir des nombres compris entre -128 à 127."
   ]
  },
  {
   "cell_type": "markdown",
   "id": "def6ef5e",
   "metadata": {},
   "source": [
    "### on récapitule les fonctions de créationde `numpy.ndarray`"
   ]
  },
  {
   "cell_type": "markdown",
   "id": "bbc98689",
   "metadata": {},
   "source": [
    "les fonctions que nous avons vues jusqu'à présent"
   ]
  },
  {
   "cell_type": "markdown",
   "id": "fa69e3fa",
   "metadata": {},
   "source": [
    "| les méthodes | ce qu'elles font |\n",
    "| --------------------------- | --------------------- ---------------------- |\n",
    "| `numpy.array` | renvoie la version ndarray d'un tableau existant |\n",
    "| `numpy.empty` | renvoie un ndarray vide i.e. sans initialiser ses éléments |\n",
    "| `numpy.zeros` | renvoie un ndarray rempli de *0.* (float) |\n",
    "| `numpy.ones` | renvoie un ndarray rempli de *1.* (float) |"
   ]
  },
  {
   "cell_type": "markdown",
   "id": "e73c1382",
   "metadata": {},
   "source": [
    "Les cours étant très condensés, les quiz et les exercices sont plutôt à faire en temps réel avec les élèves ou en fin de séance si il reste du temps"
   ]
  },
  {
   "cell_type": "markdown",
   "id": "c828ac4f",
   "metadata": {
    "tags": [
     "level_intermediate"
    ]
   },
   "source": [
    "## quiz"
   ]
  },
  {
   "cell_type": "markdown",
   "id": "0cb58955",
   "metadata": {
    "tags": [
     "level_intermediate"
    ]
   },
   "source": [
    "considérons le tableau `np.array([[1, 2, 3], [ 4, 5, 6]])`\n",
    "   - quelle est sa forme `(2, 3)` ou `(3, 2)`\n",
    "   - quelle est la taille de ce tableau `2` ou `6`"
   ]
  },
  {
   "cell_type": "markdown",
   "id": "8b711208",
   "metadata": {
    "tags": [
     "level_intermediate"
    ]
   },
   "source": [
    "Qu'obtient-on si on fait:\n",
    "   - `np.array([256, 257, 258]).astype('uint8')` ? `[256, 257, 258]` ou `[0, 1, 2]`"
   ]
  },
  {
   "cell_type": "markdown",
   "id": "c4276ee7",
   "metadata": {
    "tags": [
     "level_intermediate"
    ]
   },
   "source": [
    "Que donne la méthode `size` d'un `numpy.ndarray` ?\n",
    "   - `le nombre d'éléments` ou `la taille du tableau` ou `la taille d'un élément`"
   ]
  },
  {
   "cell_type": "markdown",
   "id": "69509ef9",
   "metadata": {
    "tags": [
     "level_intermediate"
    ]
   },
   "source": [
    "## quelques petits exercices"
   ]
  },
  {
   "cell_type": "markdown",
   "id": "9d0f061e",
   "metadata": {
    "tags": [
     "level_intermediate"
    ]
   },
   "source": [
    "### on s'échauffe"
   ]
  },
  {
   "cell_type": "markdown",
   "id": "04a89632",
   "metadata": {
    "tags": [
     "level_intermediate"
    ]
   },
   "source": [
    "Créez une matrice de 1 de taille 2 x 3 x 4 et affichez là. Qu'est-ce-que vous obtenez ?"
   ]
  },
  {
   "cell_type": "code",
   "execution_count": 36,
   "id": "f6c0f494",
   "metadata": {
    "tags": [
     "level_intermediate"
    ]
   },
   "outputs": [],
   "source": [
    "# votre code ici"
   ]
  },
  {
   "cell_type": "code",
   "execution_count": 37,
   "id": "2d97abad",
   "metadata": {
    "tags": [
     "level_intermediate"
    ]
   },
   "outputs": [
    {
     "data": {
      "text/plain": [
       "array([[[1., 1., 1., 1.],\n",
       "        [1., 1., 1., 1.],\n",
       "        [1., 1., 1., 1.]],\n",
       "\n",
       "       [[1., 1., 1., 1.],\n",
       "        [1., 1., 1., 1.],\n",
       "        [1., 1., 1., 1.]]])"
      ]
     },
     "execution_count": 37,
     "metadata": {},
     "output_type": "execute_result"
    }
   ],
   "source": [
    "np.ones(shape=(2, 3, 4))"
   ]
  },
  {
   "cell_type": "markdown",
   "id": "61f568e1",
   "metadata": {
    "tags": [
     "level_intermediate"
    ]
   },
   "source": [
    "### comparaison des temps de constructions de tableaux initialisés et non"
   ]
  },
  {
   "cell_type": "markdown",
   "id": "0c333af2",
   "metadata": {
    "tags": [
     "level_intermediate"
    ]
   },
   "source": [
    "Pour comparer des temps de calcul, nous allons utiliser une fonction (un peu magique) des notebooks qui s'appelle `timeit` et qui va appeler de nombreuses fois le calcul et faire la moyenne des temps d'exécution.\n",
    "\n",
    "En voici un exemple l'exécution de la cellule suivante vous donnera la moyenne des temps d'exécution d'un certain nombre d'exécution du code *1 + 1*"
   ]
  },
  {
   "cell_type": "markdown",
   "id": "bda51e22",
   "metadata": {
    "tags": [
     "level_intermediate"
    ]
   },
   "source": [
    "Temps calculé sur l'exécution de la ligne (avec un seul `%`)"
   ]
  },
  {
   "cell_type": "code",
   "execution_count": 38,
   "id": "9119bdee",
   "metadata": {
    "tags": [
     "level_intermediate"
    ]
   },
   "outputs": [
    {
     "name": "stdout",
     "output_type": "stream",
     "text": [
      "7.38 ns ± 0.0225 ns per loop (mean ± std. dev. of 7 runs, 100000000 loops each)\n"
     ]
    }
   ],
   "source": [
    "%timeit 1 + 1"
   ]
  },
  {
   "cell_type": "markdown",
   "id": "dbd28573",
   "metadata": {
    "tags": [
     "level_intermediate"
    ]
   },
   "source": [
    "Temps calculé sur l'exécution de toute la cellule (avec deux `%%`)"
   ]
  },
  {
   "cell_type": "code",
   "execution_count": 39,
   "id": "fe3eaee9",
   "metadata": {
    "tags": [
     "level_intermediate"
    ]
   },
   "outputs": [
    {
     "name": "stdout",
     "output_type": "stream",
     "text": [
      "7.36 ns ± 0.000645 ns per loop (mean ± std. dev. of 7 runs, 100000000 loops each)\n"
     ]
    }
   ],
   "source": [
    "%%timeit\n",
    "1 + 1"
   ]
  },
  {
   "cell_type": "markdown",
   "id": "db9e14af",
   "metadata": {
    "tags": [
     "level_intermediate"
    ]
   },
   "source": [
    "Mon ordi met 6.12 nano-secondes."
   ]
  },
  {
   "cell_type": "markdown",
   "id": "ecaf8516",
   "metadata": {
    "tags": [
     "level_intermediate"
    ]
   },
   "source": [
    "Maintenant utiliser ce calcul des temps d'exécution pour comparer:\n",
    "   1. la création d'un `numpy.ndarray` à partir d'une liste Python comportant 10.000 floats initialisés à 0.\n",
    "   1. la création d'un `numpy.ndarray` de 10.000 éléments initialisés à 0.\n",
    "   1. la création d'un `numpy.ndarray` de 10.000 éléments non-initialisés.\n",
    "   \n",
    "Pour la version Python créez la liste Python avant de calculer le temps de calcul."
   ]
  },
  {
   "cell_type": "code",
   "execution_count": 40,
   "id": "c735d222",
   "metadata": {
    "tags": [
     "level_intermediate"
    ]
   },
   "outputs": [],
   "source": [
    "# votre code ici"
   ]
  },
  {
   "cell_type": "code",
   "execution_count": 41,
   "id": "925517cb",
   "metadata": {
    "tags": [
     "level_intermediate"
    ]
   },
   "outputs": [],
   "source": [
    "# votre code ici"
   ]
  },
  {
   "cell_type": "code",
   "execution_count": 42,
   "id": "f757f8a2",
   "metadata": {
    "tags": [
     "level_intermediate"
    ]
   },
   "outputs": [],
   "source": [
    "# votre code ici"
   ]
  },
  {
   "cell_type": "code",
   "execution_count": 43,
   "id": "0cf06025",
   "metadata": {
    "tags": [
     "level_intermediate"
    ]
   },
   "outputs": [],
   "source": [
    "# votre code ici"
   ]
  },
  {
   "cell_type": "markdown",
   "id": "a079c2b6",
   "metadata": {
    "tags": [
     "level_intermediate"
    ]
   },
   "source": [
    "Qu'en concluez-vous ?"
   ]
  }
 ],
 "metadata": {
  "jupytext": {
   "cell_metadata_filter": "all, -hidden, -heading_collapsed, -run_control, -trusted",
   "notebook_metadata_filter": "all, -jupytext.text_representation.jupytext_version, -jupytext.text_representation.format_version, -language_info.version, -language_info.codemirror_mode.version, -language_info.codemirror_mode, -language_info.file_extension, -language_info.mimetype, -toc",
   "text_representation": {
    "extension": ".md",
    "format_name": "myst"
   }
  },
  "kernelspec": {
   "display_name": "Python 3",
   "language": "python",
   "name": "python3"
  },
  "language_info": {
   "codemirror_mode": {
    "name": "ipython",
    "version": 3
   },
   "file_extension": ".py",
   "mimetype": "text/x-python",
   "name": "python",
   "nbconvert_exporter": "python",
   "pygments_lexer": "ipython3",
   "version": "3.9.5"
  },
  "notebookname": "intro à numpy",
  "source_map": [
   18,
   27,
   49,
   53,
   57,
   61,
   67,
   71,
   75,
   79,
   87,
   91,
   95,
   99,
   105,
   109,
   111,
   115,
   122,
   126,
   135,
   139,
   143,
   149,
   153,
   157,
   161,
   169,
   173,
   181,
   185,
   191,
   195,
   199,
   203,
   207,
   215,
   223,
   238,
   242,
   246,
   248,
   252,
   256,
   260,
   264,
   266,
   270,
   274,
   278,
   286,
   290,
   292,
   302,
   309,
   313,
   317,
   319,
   323,
   325,
   329,
   333,
   337,
   342,
   346,
   348,
   352,
   355,
   359,
   365,
   367,
   371,
   375,
   379,
   381,
   390,
   394,
   398,
   402,
   410,
   417,
   423,
   427,
   429,
   437,
   439,
   443,
   447,
   451,
   454,
   460,
   464,
   468,
   472,
   474,
   478,
   482,
   484,
   488,
   492,
   496,
   498,
   502,
   506,
   508,
   512,
   516,
   520,
   522,
   526,
   539,
   543,
   547,
   552,
   556,
   560,
   564,
   566,
   570,
   572,
   576,
   580,
   586,
   590,
   594,
   598,
   604,
   608,
   612,
   616,
   620,
   629,
   633,
   637,
   643,
   648,
   653,
   657,
   661,
   665,
   671,
   677,
   681,
   687,
   691,
   697,
   701,
   708,
   712,
   721,
   727,
   733,
   739,
   745
  ]
 },
 "nbformat": 4,
 "nbformat_minor": 5
}