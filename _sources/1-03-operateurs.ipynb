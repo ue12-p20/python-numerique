{
 "cells": [
  {
   "cell_type": "markdown",
   "id": "a3c887ce",
   "metadata": {
    "slideshow": {
     "slide_type": "slide"
    }
   },
   "source": [
    "<div class=\"licence\">\n",
    "<span>Licence CC BY-NC-ND</span>\n",
    "<span>Thierry Parmentelat</span>\n",
    "</div>\n",
    "\n",
    "<img src=\"media/inria-25-alpha.png\" />"
   ]
  },
  {
   "cell_type": "markdown",
   "id": "44dda284",
   "metadata": {
    "slideshow": {
     "slide_type": ""
    }
   },
   "source": [
    "# opérateurs"
   ]
  },
  {
   "cell_type": "markdown",
   "id": "5379dd2e",
   "metadata": {
    "slideshow": {
     "slide_type": "slide"
    }
   },
   "source": [
    "## arithmétiques"
   ]
  },
  {
   "cell_type": "code",
   "execution_count": 1,
   "id": "70530680",
   "metadata": {},
   "outputs": [
    {
     "data": {
      "text/plain": [
       "525"
      ]
     },
     "execution_count": 1,
     "metadata": {},
     "output_type": "execute_result"
    }
   ],
   "source": [
    "# sans surprise, les 4 opérations arithmétiques\n",
    "a = 10\n",
    "b = 25\n",
    "\n",
    "(a + b) * (b - a)"
   ]
  },
  {
   "cell_type": "code",
   "execution_count": 2,
   "id": "0f6f67ba",
   "metadata": {
    "cell_style": "split"
   },
   "outputs": [
    {
     "data": {
      "text/plain": [
       "2.5"
      ]
     },
     "execution_count": 2,
     "metadata": {},
     "output_type": "execute_result"
    }
   ],
   "source": [
    "# une petite subtilité\n",
    "# toutefois avec la division\n",
    "# ceci retourne TOUJOURS\n",
    "# un flottant\n",
    "\n",
    "25 / 10"
   ]
  },
  {
   "cell_type": "code",
   "execution_count": 3,
   "id": "991b0796",
   "metadata": {
    "cell_style": "split"
   },
   "outputs": [
    {
     "data": {
      "text/plain": [
       "2"
      ]
     },
     "execution_count": 3,
     "metadata": {},
     "output_type": "execute_result"
    }
   ],
   "source": [
    "# la division entière\n",
    "# quant a elle\n",
    "# se note //\n",
    "\n",
    "25 // 10"
   ]
  },
  {
   "cell_type": "markdown",
   "id": "bd18494e",
   "metadata": {
    "slideshow": {
     "slide_type": "slide"
    }
   },
   "source": [
    "## typage\n",
    "\n",
    "en Python tous les objets sont typés  \n",
    "le comportement des opérateurs dépend du type"
   ]
  },
  {
   "cell_type": "code",
   "execution_count": 4,
   "id": "2445cb25",
   "metadata": {
    "cell_style": "split"
   },
   "outputs": [
    {
     "data": {
      "text/plain": [
       "'abcdef'"
      ]
     },
     "execution_count": 4,
     "metadata": {},
     "output_type": "execute_result"
    }
   ],
   "source": [
    "# ajouter deux chaines permet\n",
    "# de les concatener\n",
    "'abc' + 'def'"
   ]
  },
  {
   "cell_type": "code",
   "execution_count": 5,
   "id": "5f8fddea",
   "metadata": {
    "cell_style": "split"
   },
   "outputs": [
    {
     "data": {
      "text/plain": [
       "'abcabcabc'"
      ]
     },
     "execution_count": 5,
     "metadata": {},
     "output_type": "execute_result"
    }
   ],
   "source": [
    "# on peut même multiplier\n",
    "# par un entier\n",
    "3 * 'abc'"
   ]
  },
  {
   "cell_type": "markdown",
   "id": "31b95264",
   "metadata": {
    "slideshow": {
     "slide_type": "slide"
    }
   },
   "source": [
    "## arithmétiques - suite"
   ]
  },
  {
   "cell_type": "code",
   "execution_count": 6,
   "id": "41d5b282",
   "metadata": {
    "cell_style": "split"
   },
   "outputs": [],
   "source": [
    "# division euclidienne\n",
    "c = 64\n",
    "d = 5"
   ]
  },
  {
   "cell_type": "code",
   "execution_count": 7,
   "id": "d917c703",
   "metadata": {
    "cell_style": "split"
   },
   "outputs": [
    {
     "data": {
      "text/plain": [
       "4"
      ]
     },
     "execution_count": 7,
     "metadata": {},
     "output_type": "execute_result"
    }
   ],
   "source": [
    "# le reste\n",
    "c % d"
   ]
  },
  {
   "cell_type": "code",
   "execution_count": 8,
   "id": "06123fa6",
   "metadata": {
    "cell_style": "split"
   },
   "outputs": [
    {
     "data": {
      "text/plain": [
       "12"
      ]
     },
     "execution_count": 8,
     "metadata": {},
     "output_type": "execute_result"
    }
   ],
   "source": [
    "# le quotient\n",
    "\n",
    "c // d"
   ]
  },
  {
   "cell_type": "code",
   "execution_count": 9,
   "id": "4c64d45d",
   "metadata": {
    "cell_style": "split"
   },
   "outputs": [
    {
     "data": {
      "text/plain": [
       "542101086242752217003726400434970855712890625"
      ]
     },
     "execution_count": 9,
     "metadata": {},
     "output_type": "execute_result"
    }
   ],
   "source": [
    "# puissance\n",
    "\n",
    "d ** c # qu'il est grand !"
   ]
  },
  {
   "cell_type": "code",
   "execution_count": 10,
   "id": "b7477b63",
   "metadata": {
    "cell_style": "split"
   },
   "outputs": [
    {
     "data": {
      "text/plain": [
       "True"
      ]
     },
     "execution_count": 10,
     "metadata": {},
     "output_type": "execute_result"
    }
   ],
   "source": [
    "# remarque: pas de limite\n",
    "# de précision avec les entiers\n",
    "\n",
    "d ** c > 2 ** 64"
   ]
  },
  {
   "cell_type": "markdown",
   "id": "95cd62b0",
   "metadata": {
    "slideshow": {
     "slide_type": "slide"
    }
   },
   "source": [
    "## comparaisons"
   ]
  },
  {
   "cell_type": "code",
   "execution_count": 11,
   "id": "ff5d02a2",
   "metadata": {},
   "outputs": [],
   "source": [
    "a = 10\n",
    "b = 25"
   ]
  },
  {
   "cell_type": "code",
   "execution_count": 12,
   "id": "7c49f694",
   "metadata": {
    "cell_style": "split"
   },
   "outputs": [
    {
     "data": {
      "text/plain": [
       "False"
      ]
     },
     "execution_count": 12,
     "metadata": {},
     "output_type": "execute_result"
    }
   ],
   "source": [
    "a == b"
   ]
  },
  {
   "cell_type": "code",
   "execution_count": 13,
   "id": "b34f2985",
   "metadata": {
    "cell_style": "split"
   },
   "outputs": [
    {
     "data": {
      "text/plain": [
       "True"
      ]
     },
     "execution_count": 13,
     "metadata": {},
     "output_type": "execute_result"
    }
   ],
   "source": [
    "a != b"
   ]
  },
  {
   "cell_type": "code",
   "execution_count": 14,
   "id": "95e94f58",
   "metadata": {
    "cell_style": "split"
   },
   "outputs": [
    {
     "data": {
      "text/plain": [
       "True"
      ]
     },
     "execution_count": 14,
     "metadata": {},
     "output_type": "execute_result"
    }
   ],
   "source": [
    "a <= b"
   ]
  },
  {
   "cell_type": "code",
   "execution_count": 15,
   "id": "300827b8",
   "metadata": {
    "cell_style": "split"
   },
   "outputs": [
    {
     "data": {
      "text/plain": [
       "True"
      ]
     },
     "execution_count": 15,
     "metadata": {},
     "output_type": "execute_result"
    }
   ],
   "source": [
    "a < b"
   ]
  },
  {
   "cell_type": "code",
   "execution_count": 16,
   "id": "cf45c783",
   "metadata": {
    "cell_style": "split"
   },
   "outputs": [
    {
     "data": {
      "text/plain": [
       "True"
      ]
     },
     "execution_count": 16,
     "metadata": {},
     "output_type": "execute_result"
    }
   ],
   "source": [
    "# une curiosité\n",
    "6 <= a <= 20"
   ]
  },
  {
   "cell_type": "code",
   "execution_count": 17,
   "id": "13312789",
   "metadata": {
    "cell_style": "split"
   },
   "outputs": [
    {
     "data": {
      "text/plain": [
       "True"
      ]
     },
     "execution_count": 17,
     "metadata": {},
     "output_type": "execute_result"
    }
   ],
   "source": [
    "6 <= a <= 25 <= b <= 30"
   ]
  },
  {
   "cell_type": "markdown",
   "id": "d09d02bb",
   "metadata": {
    "slideshow": {
     "slide_type": "slide"
    }
   },
   "source": [
    "## logiques"
   ]
  },
  {
   "cell_type": "code",
   "execution_count": 18,
   "id": "d83c2b20",
   "metadata": {
    "cell_style": "split"
   },
   "outputs": [
    {
     "data": {
      "text/plain": [
       "False"
      ]
     },
     "execution_count": 18,
     "metadata": {},
     "output_type": "execute_result"
    }
   ],
   "source": [
    "6 <= a and b <= 10"
   ]
  },
  {
   "cell_type": "code",
   "execution_count": 19,
   "id": "45e5f92d",
   "metadata": {
    "cell_style": "split"
   },
   "outputs": [
    {
     "data": {
      "text/plain": [
       "True"
      ]
     },
     "execution_count": 19,
     "metadata": {},
     "output_type": "execute_result"
    }
   ],
   "source": [
    "6 <= a or b <= 10"
   ]
  },
  {
   "cell_type": "markdown",
   "id": "722946b7",
   "metadata": {
    "slideshow": {
     "slide_type": "slide"
    }
   },
   "source": [
    "## indexation avec `[]`"
   ]
  },
  {
   "cell_type": "markdown",
   "id": "db59d1d9",
   "metadata": {},
   "source": [
    "sur tous les objets de type 'séquence'  \n",
    "c'est-à-dire pour nous à ce stade les chaines  \n",
    "mais on verra que ça s'applique à d'autres, comme les listes (un peu de patience..)"
   ]
  },
  {
   "cell_type": "code",
   "execution_count": 20,
   "id": "56fddd5c",
   "metadata": {},
   "outputs": [
    {
     "data": {
      "text/plain": [
       "10"
      ]
     },
     "execution_count": 20,
     "metadata": {},
     "output_type": "execute_result"
    }
   ],
   "source": [
    "chaine = 'abcdefghij'\n",
    "len(chaine)"
   ]
  },
  {
   "cell_type": "code",
   "execution_count": 21,
   "id": "70da7170",
   "metadata": {
    "cell_style": "split"
   },
   "outputs": [
    {
     "data": {
      "text/plain": [
       "'a'"
      ]
     },
     "execution_count": 21,
     "metadata": {},
     "output_type": "execute_result"
    }
   ],
   "source": [
    "# en python les index commencent à 0\n",
    "chaine[0]"
   ]
  },
  {
   "cell_type": "code",
   "execution_count": 22,
   "id": "73afb476",
   "metadata": {
    "cell_style": "split"
   },
   "outputs": [
    {
     "data": {
      "text/plain": [
       "'j'"
      ]
     },
     "execution_count": 22,
     "metadata": {},
     "output_type": "execute_result"
    }
   ],
   "source": [
    "# les index négatifs commencent à la fin\n",
    "chaine[-1]"
   ]
  },
  {
   "cell_type": "markdown",
   "id": "bc67db51",
   "metadata": {
    "slideshow": {
     "slide_type": "slide"
    }
   },
   "source": [
    "## slices"
   ]
  },
  {
   "cell_type": "code",
   "execution_count": 23,
   "id": "614ce11f",
   "metadata": {
    "cell_style": "split"
   },
   "outputs": [
    {
     "data": {
      "text/plain": [
       "'bcd'"
      ]
     },
     "execution_count": 23,
     "metadata": {},
     "output_type": "execute_result"
    }
   ],
   "source": [
    "# une 'slice' permet de découper un morceau\n",
    "# là du caractère d'indice 1 à celui d'indice 4 exclus\n",
    "chaine[1:4]"
   ]
  },
  {
   "cell_type": "code",
   "execution_count": 24,
   "id": "093bed49",
   "metadata": {
    "cell_style": "split"
   },
   "outputs": [
    {
     "data": {
      "text/plain": [
       "'bdfh'"
      ]
     },
     "execution_count": 24,
     "metadata": {},
     "output_type": "execute_result"
    }
   ],
   "source": [
    "# et même de choisir un pas\n",
    "chaine[1:8:2]"
   ]
  },
  {
   "cell_type": "code",
   "execution_count": 25,
   "id": "85a8125a",
   "metadata": {
    "cell_style": "split"
   },
   "outputs": [
    {
     "data": {
      "text/plain": [
       "'defghij'"
      ]
     },
     "execution_count": 25,
     "metadata": {},
     "output_type": "execute_result"
    }
   ],
   "source": [
    "# dans un slice on peut omettre\n",
    "# n'importe lequel des 3 termes\n",
    "chaine[3::]"
   ]
  },
  {
   "cell_type": "code",
   "execution_count": 26,
   "id": "01d961ef",
   "metadata": {
    "cell_style": "split"
   },
   "outputs": [
    {
     "data": {
      "text/plain": [
       "'defghij'"
      ]
     },
     "execution_count": 26,
     "metadata": {},
     "output_type": "execute_result"
    }
   ],
   "source": [
    "# ce qui serait ici\n",
    "# identique à juste\n",
    "chaine[3:]"
   ]
  },
  {
   "cell_type": "code",
   "execution_count": 27,
   "id": "80bb09b5",
   "metadata": {
    "cell_style": "split"
   },
   "outputs": [
    {
     "data": {
      "text/plain": [
       "'abcd'"
      ]
     },
     "execution_count": 27,
     "metadata": {},
     "output_type": "execute_result"
    }
   ],
   "source": [
    "# dans un slice on peut omettre\n",
    "# n'importe lequel des 3 termes\n",
    "chaine[:4:]"
   ]
  },
  {
   "cell_type": "code",
   "execution_count": 28,
   "id": "c2bfaa0e",
   "metadata": {
    "cell_style": "split"
   },
   "outputs": [
    {
     "data": {
      "text/plain": [
       "'abcd'"
      ]
     },
     "execution_count": 28,
     "metadata": {},
     "output_type": "execute_result"
    }
   ],
   "source": [
    "# ce qui serait ici\n",
    "# identique à juste\n",
    "chaine[:4]"
   ]
  },
  {
   "cell_type": "markdown",
   "id": "1fbd5f04",
   "metadata": {
    "slideshow": {
     "slide_type": "slide"
    }
   },
   "source": [
    "## slices et bornes\n",
    "\n",
    "la forme générale est donc `debut:fin:pas`  \n",
    "**ATTENTION** que l'index `fin` **n'est pas inclus**"
   ]
  },
  {
   "cell_type": "code",
   "execution_count": 29,
   "id": "420772a7",
   "metadata": {},
   "outputs": [
    {
     "data": {
      "text/plain": [
       "True"
      ]
     },
     "execution_count": 29,
     "metadata": {},
     "output_type": "execute_result"
    }
   ],
   "source": [
    "# la convention permet de facilement emboiter les résultats\n",
    "chaine[0:3] + chaine [3:6] + chaine[6:] == chaine"
   ]
  },
  {
   "cell_type": "code",
   "execution_count": 30,
   "id": "bafef79d",
   "metadata": {},
   "outputs": [
    {
     "data": {
      "text/plain": [
       "'jihgfedcba'"
      ]
     },
     "execution_count": 30,
     "metadata": {},
     "output_type": "execute_result"
    }
   ],
   "source": [
    "# notez enfin que le pas peut être négatif aussi\n",
    "# ce qui donne cette forme idiomatique\n",
    "# pour renverser une séquence\n",
    "chaine[::-1]"
   ]
  }
 ],
 "metadata": {
  "jupytext": {
   "cell_metadata_filter": "all, -hidden, -heading_collapsed, -run_control, -trusted",
   "notebook_metadata_filter": "all, -jupytext.text_representation.jupytext_version, -jupytext.text_representation.format_version, -language_info.version, -language_info.codemirror_mode.version, -language_info.codemirror_mode, -language_info.file_extension, -language_info.mimetype, -toc",
   "text_representation": {
    "extension": ".md",
    "format_name": "myst"
   }
  },
  "kernelspec": {
   "display_name": "Python 3",
   "language": "python",
   "name": "python3"
  },
  "language_info": {
   "codemirror_mode": {
    "name": "ipython",
    "version": 3
   },
   "file_extension": ".py",
   "mimetype": "text/x-python",
   "name": "python",
   "nbconvert_exporter": "python",
   "pygments_lexer": "ipython3",
   "version": "3.9.5"
  },
  "notebookname": "opérateurs",
  "rise": {
   "autolaunch": true,
   "slideNumber": "c/t",
   "start_slideshow_at": "selected",
   "theme": "sky",
   "transition": "cube"
  },
  "source_map": [
   27,
   36,
   40,
   44,
   52,
   63,
   73,
   80,
   88,
   96,
   100,
   108,
   115,
   123,
   131,
   140,
   144,
   149,
   155,
   161,
   167,
   173,
   180,
   186,
   190,
   196,
   202,
   206,
   212,
   217,
   224,
   231,
   235,
   243,
   250,
   258,
   266,
   274,
   282,
   289,
   294
  ],
  "version": "1.0"
 },
 "nbformat": 4,
 "nbformat_minor": 5
}