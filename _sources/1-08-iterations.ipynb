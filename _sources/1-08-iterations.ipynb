{
 "cells": [
  {
   "cell_type": "markdown",
   "id": "5b9f9495",
   "metadata": {
    "slideshow": {
     "slide_type": "slide"
    }
   },
   "source": [
    "<div class=\"licence\">\n",
    "<span>Licence CC BY-NC-ND</span>\n",
    "<span>Thierry Parmentelat</span>\n",
    "</div>\n",
    "\n",
    "<img src=\"media/inria-25-alpha.png\" />"
   ]
  },
  {
   "cell_type": "markdown",
   "id": "dc95075b",
   "metadata": {
    "slideshow": {
     "slide_type": "slide"
    }
   },
   "source": [
    "# itérations"
   ]
  },
  {
   "cell_type": "markdown",
   "id": "984c07ba",
   "metadata": {
    "slideshow": {
     "slide_type": "slide"
    }
   },
   "source": [
    "## boucle `for`"
   ]
  },
  {
   "cell_type": "markdown",
   "id": "abe30793",
   "metadata": {
    "cell_style": "split"
   },
   "source": [
    "**rappel** pour itérer sur une liste ou un ensemble :\n",
    "\n",
    "```python\n",
    "for item in container:\n",
    "   ...\n",
    "```"
   ]
  },
  {
   "cell_type": "markdown",
   "id": "33fab2d3",
   "metadata": {
    "cell_style": "split"
   },
   "source": [
    "sur un dictionnaire\n",
    "\n",
    "```python\n",
    "for cle, valeur in d.items():\n",
    "    ...\n",
    "```"
   ]
  },
  {
   "cell_type": "markdown",
   "id": "1854ab05",
   "metadata": {},
   "source": [
    "en fait on peut itérer sur un grand nombre d'objets  \n",
    "que par définition on appelle **itérables**  \n",
    "dont une sous-famille remarquable est celle des **itérateurs**"
   ]
  },
  {
   "cell_type": "markdown",
   "id": "783b144c",
   "metadata": {
    "slideshow": {
     "slide_type": "slide"
    }
   },
   "source": [
    "## itérateurs\n",
    "\n",
    "vous voulez faire une boucle `for` sur les entiers de 0 à $10^6$  \n",
    "avec ce qu'on a vu jusqu'ici, on serait tenté de  \n",
    "1. construire une liste avec les entiers de 0 à 1 million  \n",
    "2. et itérer sur cette liste avec un `for`"
   ]
  },
  {
   "cell_type": "markdown",
   "id": "ba18ce1c",
   "metadata": {},
   "source": [
    "**MAIS** ce n'est pas une bonne idée  \n",
    "notamment car ça demande une grosse **allocation mémoire**  \n",
    "qui est loin d'être gratuite en termes de performance  \n",
    "en fait pour faire cette énumération  \n",
    "on n'a besoin que d'**une seule case mémoire**  \n",
    "```c++\n",
    "// en C++ on écrirait quelque chose comme\n",
    "for (int i=0; i<=1000000; i++) {\n",
    "    ...\n",
    "}\n",
    "```"
   ]
  },
  {
   "cell_type": "markdown",
   "id": "41da0ba4",
   "metadata": {
    "slideshow": {
     "slide_type": "slide"
    }
   },
   "source": [
    "## `range()`"
   ]
  },
  {
   "cell_type": "markdown",
   "id": "0c54ef09",
   "metadata": {
    "cell_style": "split"
   },
   "source": [
    "Python offre pour cela une fonction prédéfinie `range(n)`"
   ]
  },
  {
   "cell_type": "code",
   "execution_count": 1,
   "id": "cb4ea95b",
   "metadata": {
    "cell_style": "split"
   },
   "outputs": [
    {
     "name": "stdout",
     "output_type": "stream",
     "text": [
      "0\n",
      "1\n",
      "2\n",
      "3\n"
     ]
    }
   ],
   "source": [
    "for i in range(4):\n",
    "    print(i)"
   ]
  },
  {
   "cell_type": "markdown",
   "id": "3e84748f",
   "metadata": {},
   "source": [
    "le résultat de la fonction `range()` **n'est pas une liste**  \n",
    "c'est ce qu'on appelle un **itérateur**  \n",
    "c'est à dire un **tout petit objet** (en terme d'occupation mémoire)  \n",
    "qui ne fait que **mémoriser où on en est** dans l'itération"
   ]
  },
  {
   "cell_type": "markdown",
   "id": "ff4b2551",
   "metadata": {
    "slideshow": {
     "slide_type": "slide"
    }
   },
   "source": [
    "## `range()` - suite"
   ]
  },
  {
   "cell_type": "markdown",
   "id": "b4a19836",
   "metadata": {},
   "source": [
    "l'impact sur les performances est majeur !"
   ]
  },
  {
   "cell_type": "code",
   "execution_count": 2,
   "id": "b2af00d0",
   "metadata": {
    "cell_style": "split"
   },
   "outputs": [
    {
     "name": "stdout",
     "output_type": "stream",
     "text": [
      "176 ns ± 1.75 ns per loop (mean ± std. dev. of 7 runs, 1000 loops each)\n"
     ]
    },
    {
     "data": {
      "text/plain": [
       "48"
      ]
     },
     "execution_count": 2,
     "metadata": {},
     "output_type": "execute_result"
    }
   ],
   "source": [
    "# option avec itérateur\n",
    "\n",
    "# temps de construction\n",
    "# de l'objet range\n",
    "%timeit -n 1000  range(10**6)\n",
    "\n",
    "# espace mémoire occupé\n",
    "# par le range - en octets\n",
    "iterateur = range(10**6)\n",
    "import sys\n",
    "sys.getsizeof(iterateur)"
   ]
  },
  {
   "cell_type": "code",
   "execution_count": 3,
   "id": "8ff17520",
   "metadata": {
    "cell_style": "split"
   },
   "outputs": [
    {
     "name": "stdout",
     "output_type": "stream",
     "text": [
      "33.6 ms ± 907 µs per loop (mean ± std. dev. of 7 runs, 5 loops each)\n"
     ]
    },
    {
     "data": {
      "text/plain": [
       "8000056"
      ]
     },
     "execution_count": 3,
     "metadata": {},
     "output_type": "execute_result"
    }
   ],
   "source": [
    "# option avec liste\n",
    "\n",
    "# ici je construis une liste explicite\n",
    "# et le plus simple en Python est\n",
    "# d'appeler list() sur l'itérateur\n",
    "\n",
    "# temps de construction\n",
    "%timeit -n 5 list(range(10**6))\n",
    "\n",
    "# espace mémoire\n",
    "explicit = list(range(10**6))\n",
    "import sys\n",
    "sys.getsizeof(explicit)"
   ]
  },
  {
   "cell_type": "markdown",
   "id": "107e9c68",
   "metadata": {
    "slideshow": {
     "slide_type": "slide"
    }
   },
   "source": [
    "## `enumerate()`"
   ]
  },
  {
   "cell_type": "code",
   "execution_count": 4,
   "id": "36508f1d",
   "metadata": {
    "cell_style": "split"
   },
   "outputs": [],
   "source": [
    "sujets = ['james', 'henri', 'louis']\n",
    "\n",
    "# on veut lister les éléments\n",
    "# avec leur indice, c'-à-d produire\n",
    "# 0: james\n",
    "# 1: henri\n",
    "# 2: louis"
   ]
  },
  {
   "cell_type": "markdown",
   "id": "4b07a55c",
   "metadata": {
    "cell_style": "split"
   },
   "source": [
    "quand on itère sur une  \n",
    "liste, comment faire quand  \n",
    "à l'intérieur de la boucle  \n",
    "on a besoin de l'indice  \n",
    "d'énumération ?"
   ]
  },
  {
   "cell_type": "code",
   "execution_count": 5,
   "id": "c8c61967",
   "metadata": {
    "cell_style": "split"
   },
   "outputs": [
    {
     "name": "stdout",
     "output_type": "stream",
     "text": [
      "0: james\n",
      "1: henri\n",
      "2: louis\n"
     ]
    }
   ],
   "source": [
    "# bien que ça marche ..\n",
    "# IL NE FAUT PAS faire comme ça !\n",
    "for i in range(len(sujets)):\n",
    "    item = sujets[i]\n",
    "    print(f\"{i}: {item}\")"
   ]
  },
  {
   "cell_type": "code",
   "execution_count": 6,
   "id": "5a895107",
   "metadata": {
    "cell_style": "split"
   },
   "outputs": [
    {
     "name": "stdout",
     "output_type": "stream",
     "text": [
      "0: james\n",
      "1: henri\n",
      "2: louis\n"
     ]
    }
   ],
   "source": [
    "# c'est à ça que sert enumerate()\n",
    "\n",
    "for i, item in enumerate(sujets):\n",
    "    print(f\"{i}: {item}\")"
   ]
  },
  {
   "cell_type": "markdown",
   "id": "d1c833af",
   "metadata": {
    "cell_style": "center"
   },
   "source": [
    "c'est le propos de la fonction `enumerate()`"
   ]
  },
  {
   "cell_type": "markdown",
   "id": "c9c92b48",
   "metadata": {
    "slideshow": {
     "slide_type": "notes"
    }
   },
   "source": [
    "ce style de programmation à base d'indices est tentant, surtout lorsqu'on vient d'un autre\n",
    "langage, mais c'est considéré comme pas du tout pythonique. Il est important de prendre\n",
    "l'habitude d'utiliser la boucle `for` de la bonne façon, notamment car la programmation\n",
    "par indice ne se prête pas du tout aux itérations plus sophistiquées que nous allons\n",
    "étudier."
   ]
  },
  {
   "cell_type": "markdown",
   "id": "8613a97d",
   "metadata": {
    "slideshow": {
     "slide_type": "slide"
    }
   },
   "source": [
    "## boucle `for` - généralisation\n",
    "\n",
    "de manière générale, on peut écrire une boucle `for` sur un très grand nombre d'objets :\n",
    "\n",
    "* fichiers en lecture (voir plus loin)\n",
    "* itérables du [module `itertools`](https://docs.python.org/3/library/itertools.html)\n",
    "* ..."
   ]
  },
  {
   "cell_type": "code",
   "execution_count": 7,
   "id": "7c1a959c",
   "metadata": {},
   "outputs": [],
   "source": [
    "# itertools contient des itérateurs pour\n",
    "# matérialiser la plupart des combinatoires\n",
    "# habituelles\n",
    "\n",
    "import itertools"
   ]
  },
  {
   "cell_type": "code",
   "execution_count": 8,
   "id": "ec131d5a",
   "metadata": {
    "cell_style": "split",
    "slideshow": {
     "slide_type": "slide"
    }
   },
   "outputs": [
    {
     "name": "stdout",
     "output_type": "stream",
     "text": [
      "V de ♢\n",
      "V de ♧\n",
      "V de ♡\n",
      "V de ♤\n",
      "D de ♢\n",
      "D de ♧\n",
      "D de ♡\n",
      "D de ♤\n",
      "R de ♢\n",
      "R de ♧\n",
      "R de ♡\n",
      "R de ♤\n",
      "As de ♢\n",
      "As de ♧\n",
      "As de ♡\n",
      "As de ♤\n"
     ]
    }
   ],
   "source": [
    "from itertools import product # produit carthésien\n",
    "\n",
    "cartes = ['V', 'D', 'R', 'As']\n",
    "couleurs = ['♢', '♧', '♡', '♤']\n",
    "\n",
    "for carte, couleur in product(cartes, couleurs):\n",
    "    print(f\"{carte} de {couleur}\")"
   ]
  },
  {
   "cell_type": "code",
   "execution_count": 9,
   "id": "b3009e89",
   "metadata": {
    "cell_style": "split"
   },
   "outputs": [
    {
     "name": "stdout",
     "output_type": "stream",
     "text": [
      "('♢', '♧', '♡', '♤')\n",
      "('♢', '♧', '♤', '♡')\n",
      "('♢', '♡', '♧', '♤')\n",
      "('♢', '♡', '♤', '♧')\n",
      "('♢', '♤', '♧', '♡')\n",
      "('♢', '♤', '♡', '♧')\n",
      "('♧', '♢', '♡', '♤')\n",
      "('♧', '♢', '♤', '♡')\n",
      "('♧', '♡', '♢', '♤')\n",
      "('♧', '♡', '♤', '♢')\n",
      "('♧', '♤', '♢', '♡')\n",
      "('♧', '♤', '♡', '♢')\n",
      "('♡', '♢', '♧', '♤')\n",
      "('♡', '♢', '♤', '♧')\n",
      "('♡', '♧', '♢', '♤')\n",
      "('♡', '♧', '♤', '♢')\n",
      "('♡', '♤', '♢', '♧')\n",
      "('♡', '♤', '♧', '♢')\n",
      "('♤', '♢', '♧', '♡')\n",
      "('♤', '♢', '♡', '♧')\n",
      "('♤', '♧', '♢', '♡')\n",
      "('♤', '♧', '♡', '♢')\n",
      "('♤', '♡', '♢', '♧')\n",
      "('♤', '♡', '♧', '♢')\n"
     ]
    }
   ],
   "source": [
    "from itertools import permutations\n",
    "\n",
    "for tirage in permutations(couleurs):\n",
    "    print(tirage)"
   ]
  },
  {
   "cell_type": "markdown",
   "id": "1531317d",
   "metadata": {
    "slideshow": {
     "slide_type": "notes"
    }
   },
   "source": [
    "Dans le cas de la fonction `itertools.product`, remarquez que notre code revient à faire\n",
    "deux boucles imbriquées."
   ]
  },
  {
   "cell_type": "markdown",
   "id": "aace7c02",
   "metadata": {
    "slideshow": {
     "slide_type": "slide"
    }
   },
   "source": [
    "## `break` et `continue`\n",
    "\n",
    "dans le corps d'une boucle (`for` ou `while`), on peut utiliser:\n",
    "\n",
    "* `break` pour terminer directement la boucle\n",
    "* `continue` pour passer directement à l'itération suivante"
   ]
  },
  {
   "cell_type": "code",
   "execution_count": 10,
   "id": "c2745043",
   "metadata": {
    "cell_style": "split"
   },
   "outputs": [
    {
     "name": "stdout",
     "output_type": "stream",
     "text": [
      "('♢', '♧', '♡', '♤')\n",
      "('♢', '♧', '♤', '♡')\n",
      "('♢', '♡', '♧', '♤')\n",
      "('♢', '♡', '♤', '♧')\n",
      "('♢', '♤', '♧', '♡')\n"
     ]
    }
   ],
   "source": [
    "# pour illustrer break\n",
    "\n",
    "# les 4 premières permutations seulement\n",
    "# remarquez l'emploi de enumerate\n",
    "for index, tirage in enumerate(\n",
    "    permutations(couleurs)):\n",
    "    print(tirage)\n",
    "    if index >= 4:\n",
    "        break"
   ]
  },
  {
   "cell_type": "code",
   "execution_count": 11,
   "id": "05249c0b",
   "metadata": {
    "cell_style": "split"
   },
   "outputs": [
    {
     "name": "stdout",
     "output_type": "stream",
     "text": [
      "V de ♢\n",
      "D de ♢\n",
      "R de ♢\n",
      "As de ♢\n",
      "V de ♡\n",
      "D de ♡\n",
      "R de ♡\n",
      "As de ♡\n"
     ]
    }
   ],
   "source": [
    "# pour illustrer continue\n",
    "\n",
    "# les cartes rouges seulement\n",
    "\n",
    "for couleur in couleurs:\n",
    "    if couleur in '♤♧':\n",
    "        continue\n",
    "    for carte in cartes:\n",
    "        print(f\"{carte} de {couleur}\")"
   ]
  },
  {
   "cell_type": "markdown",
   "id": "ab8d53c1",
   "metadata": {
    "slideshow": {
     "slide_type": "slide"
    }
   },
   "source": [
    "`break` et `continue` sont toujours relatives  \n",
    "à la boucle la plus imbriquée"
   ]
  },
  {
   "cell_type": "code",
   "execution_count": 12,
   "id": "cf77187c",
   "metadata": {
    "cell_style": "split"
   },
   "outputs": [
    {
     "name": "stdout",
     "output_type": "stream",
     "text": [
      "V de ♢\n",
      "V de ♧\n",
      "D de ♢\n",
      "D de ♧\n"
     ]
    }
   ],
   "source": [
    "# une seule boucle\n",
    "for x, y in product(cartes[:2],\n",
    "                    couleurs[:2]):\n",
    "    print(f\"{x} de {y}\")"
   ]
  },
  {
   "cell_type": "code",
   "execution_count": 13,
   "id": "832e62c4",
   "metadata": {
    "cell_style": "split"
   },
   "outputs": [
    {
     "name": "stdout",
     "output_type": "stream",
     "text": [
      "V de ♢\n",
      "V de ♧\n",
      "D de ♢\n",
      "D de ♧\n"
     ]
    }
   ],
   "source": [
    "# idem mais avec\n",
    "# deux boucles imbriquées\n",
    "for x in cartes[:2]:\n",
    "    for y in couleurs[:2]:\n",
    "        print(f\"{x} de {y}\")"
   ]
  },
  {
   "cell_type": "code",
   "execution_count": 14,
   "id": "9c662ee3",
   "metadata": {
    "cell_style": "split"
   },
   "outputs": [
    {
     "name": "stdout",
     "output_type": "stream",
     "text": [
      "V de ♢\n"
     ]
    }
   ],
   "source": [
    "# mais le break n'a pas le même\n",
    "# comportement dans les deux cas\n",
    "for x, y in product(cartes[:2],\n",
    "                    couleurs[:2]):\n",
    "    if y == '♧':\n",
    "        break\n",
    "    print(f\"{x} de {y}\")"
   ]
  },
  {
   "cell_type": "code",
   "execution_count": 15,
   "id": "5b6fbc86",
   "metadata": {
    "cell_style": "split"
   },
   "outputs": [
    {
     "name": "stdout",
     "output_type": "stream",
     "text": [
      "V de ♢\n",
      "D de ♢\n"
     ]
    }
   ],
   "source": [
    "# car ici il sort que\n",
    "# de la boucle intérieure\n",
    "for x in cartes[:2]:\n",
    "    for y in couleurs[:2]:\n",
    "        if y in '♧':\n",
    "            break\n",
    "        print(f\"{x} de {y}\")"
   ]
  },
  {
   "cell_type": "markdown",
   "id": "fa1129b5",
   "metadata": {
    "slideshow": {
     "slide_type": "slide"
    }
   },
   "source": [
    "## compréhension"
   ]
  },
  {
   "cell_type": "markdown",
   "id": "501bf99d",
   "metadata": {},
   "source": [
    "un raccourci syntaxique pour construire des containers par itération"
   ]
  },
  {
   "cell_type": "code",
   "execution_count": 16,
   "id": "8520b77f",
   "metadata": {
    "cell_style": "center"
   },
   "outputs": [],
   "source": [
    "entrees = [10, -10, 421]"
   ]
  },
  {
   "cell_type": "code",
   "execution_count": 17,
   "id": "873ac52c",
   "metadata": {
    "cell_style": "split"
   },
   "outputs": [
    {
     "data": {
      "text/plain": [
       "[100, 100, 177241]"
      ]
     },
     "execution_count": 17,
     "metadata": {},
     "output_type": "execute_result"
    }
   ],
   "source": [
    "# compréhension de liste\n",
    "[x**2 for x in entrees]"
   ]
  },
  {
   "cell_type": "code",
   "execution_count": 18,
   "id": "61db081b",
   "metadata": {
    "cell_style": "split"
   },
   "outputs": [
    {
     "data": {
      "text/plain": [
       "{100, 177241}"
      ]
     },
     "execution_count": 18,
     "metadata": {},
     "output_type": "execute_result"
    }
   ],
   "source": [
    "# compréhension d'ensemble\n",
    "{x**2 for x in entrees}"
   ]
  },
  {
   "cell_type": "code",
   "execution_count": 19,
   "id": "6e4529f2",
   "metadata": {
    "cell_style": "split"
   },
   "outputs": [
    {
     "data": {
      "text/plain": [
       "{10: 100, -10: 100, 421: 177241}"
      ]
     },
     "execution_count": 19,
     "metadata": {},
     "output_type": "execute_result"
    }
   ],
   "source": [
    "# compréhension de dictionnaire\n",
    "{x : x**2 for x in entrees}"
   ]
  },
  {
   "cell_type": "code",
   "execution_count": 20,
   "id": "5d1172e1",
   "metadata": {
    "cell_style": "split",
    "slideshow": {
     "slide_type": ""
    }
   },
   "outputs": [
    {
     "data": {
      "text/plain": [
       "{100}"
      ]
     },
     "execution_count": 20,
     "metadata": {},
     "output_type": "execute_result"
    }
   ],
   "source": [
    "# avec filtrage - avec toutes\n",
    "# les variétés de compréhensions\n",
    "{x**2 for x in entrees if x % 2 == 0}"
   ]
  },
  {
   "cell_type": "markdown",
   "id": "c640b918",
   "metadata": {
    "slideshow": {
     "slide_type": "slide"
    }
   },
   "source": [
    "## expressions génératrices"
   ]
  },
  {
   "cell_type": "markdown",
   "id": "70ef7858",
   "metadata": {},
   "source": [
    "la compréhension est souvent élégante  \n",
    "mais elle souffre du même problème qu'on a vu plus haut  \n",
    "elle **alloue de la mémoire** pour ranger les résultats  \n",
    "et dans ces cas-là un **itérateur** est un bien meilleur choix"
   ]
  },
  {
   "cell_type": "markdown",
   "id": "57bce43e",
   "metadata": {},
   "source": [
    "dans ces cas-là, il suffit de prendre la compréhension de liste  \n",
    "et remplacer les `[]` par `()`  \n",
    "cela s'appelle une **expression génératrice**"
   ]
  },
  {
   "cell_type": "markdown",
   "id": "20e0329e",
   "metadata": {
    "slideshow": {
     "slide_type": "notes"
    }
   },
   "source": [
    "Le fait de devoir allouer de la mémoire a plusieurs inconvénients. Tout d'abord bien\n",
    "entendu, la mémoire est une ressource finie, qu'il faut donc utiliser avec parcimonie. De\n",
    "plus, lorsqu'un programme a besoin de mémoire il la demande au système d'exploitation, et\n",
    "c'est une opération bien plus lente qu'on pourrait le soupçonner naïvement ; et même sur\n",
    "une machine dotée d'une mémoire énorme, ce temps d'allocation pénalise les performances."
   ]
  },
  {
   "cell_type": "markdown",
   "id": "63ecde56",
   "metadata": {
    "cell_style": "center",
    "slideshow": {
     "slide_type": "slide"
    }
   },
   "source": [
    "Benchmark : la somme des premiers entiers."
   ]
  },
  {
   "cell_type": "code",
   "execution_count": 21,
   "id": "a0b248b7",
   "metadata": {
    "cell_style": "split"
   },
   "outputs": [
    {
     "name": "stdout",
     "output_type": "stream",
     "text": [
      "57.2 ms ± 578 µs per loop (mean ± std. dev. of 7 runs, 10 loops each)\n"
     ]
    }
   ],
   "source": [
    "# avec une compréhension\n",
    "\n",
    "%timeit sum([x for x in range(10**6)])"
   ]
  },
  {
   "cell_type": "code",
   "execution_count": 22,
   "id": "46b0f0ce",
   "metadata": {
    "cell_style": "split"
   },
   "outputs": [
    {
     "name": "stdout",
     "output_type": "stream",
     "text": [
      "42.4 ms ± 87.6 µs per loop (mean ± std. dev. of 7 runs, 10 loops each)\n"
     ]
    }
   ],
   "source": [
    "# même chose mais avec\n",
    "# une expression génératrice\n",
    "\n",
    "%timeit sum(x for x in range(10**6))"
   ]
  },
  {
   "cell_type": "code",
   "execution_count": 23,
   "id": "cf0c8d19",
   "metadata": {
    "cell_style": "split"
   },
   "outputs": [
    {
     "data": {
      "text/plain": [
       "8448728"
      ]
     },
     "execution_count": 23,
     "metadata": {},
     "output_type": "execute_result"
    }
   ],
   "source": [
    "# taille mémoire\n",
    "\n",
    "comprehension = [x for x in range(10**6)]\n",
    "\n",
    "sys.getsizeof(comprehension)"
   ]
  },
  {
   "cell_type": "code",
   "execution_count": 24,
   "id": "41b40667",
   "metadata": {
    "cell_style": "split"
   },
   "outputs": [
    {
     "data": {
      "text/plain": [
       "112"
      ]
     },
     "execution_count": 24,
     "metadata": {},
     "output_type": "execute_result"
    }
   ],
   "source": [
    "# aucune comparaison !\n",
    "\n",
    "generatrice = (x for x in range(10**6))\n",
    "\n",
    "sys.getsizeof(generatrice)"
   ]
  },
  {
   "cell_type": "markdown",
   "id": "a9d4c42b",
   "metadata": {
    "slideshow": {
     "slide_type": "slide"
    }
   },
   "source": [
    "## résumé\n",
    "\n",
    "pour itérer sur une suite (un itérable) d'entrées\n",
    "\n",
    "* on peut écrire un `for`,\n",
    "* ou une compréhension,\n",
    "* ou une expression génératrice\n",
    "\n",
    "on n'itère **jamais** sur `range(len(iterable))`  \n",
    "on utilise `enumerate` à la place\n",
    "\n",
    "dans tous les cas où c'est possible\n",
    "\n",
    "* on recommande d'utiliser un itérateur\n",
    "* de préférence à une allocation explicite des résultats"
   ]
  }
 ],
 "metadata": {
  "jupytext": {
   "cell_metadata_filter": "all, -hidden, -heading_collapsed, -run_control, -trusted",
   "notebook_metadata_filter": "all, -jupytext.text_representation.jupytext_version, -jupytext.text_representation.format_version, -language_info.version, -language_info.codemirror_mode.version, -language_info.codemirror_mode, -language_info.file_extension, -language_info.mimetype, -toc",
   "text_representation": {
    "extension": ".md",
    "format_name": "myst"
   }
  },
  "kernelspec": {
   "display_name": "Python 3 (ipykernel)",
   "language": "python",
   "name": "python3"
  },
  "language_info": {
   "codemirror_mode": {
    "name": "ipython",
    "version": 3
   },
   "file_extension": ".py",
   "mimetype": "text/x-python",
   "name": "python",
   "nbconvert_exporter": "python",
   "pygments_lexer": "ipython3",
   "version": "3.9.5"
  },
  "notebookname": "itérations",
  "rise": {
   "autolaunch": true,
   "slideNumber": "c/t",
   "start_slideshow_at": "selected",
   "theme": "sky",
   "transition": "cube"
  },
  "source_map": [
   28,
   37,
   41,
   45,
   54,
   63,
   69,
   78,
   92,
   96,
   100,
   105,
   112,
   116,
   120,
   136,
   154,
   158,
   170,
   178,
   188,
   197,
   201,
   209,
   219,
   227,
   242,
   251,
   256,
   265,
   279,
   293,
   298,
   307,
   317,
   329,
   341,
   345,
   349,
   355,
   362,
   369,
   376,
   387,
   391,
   398,
   404,
   412,
   416,
   424,
   433,
   443,
   453
  ],
  "version": "1.0"
 },
 "nbformat": 4,
 "nbformat_minor": 5
}