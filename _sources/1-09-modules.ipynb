{
 "cells": [
  {
   "cell_type": "markdown",
   "id": "1daf0c5e",
   "metadata": {
    "slideshow": {
     "slide_type": "slide"
    }
   },
   "source": [
    "<div class=\"licence\">\n",
    "<span>Licence CC BY-NC-ND</span>\n",
    "<span>Thierry Parmentelat</span>\n",
    "</div>\n",
    "\n",
    "<img src=\"media/inria-25-alpha.png\" />"
   ]
  },
  {
   "cell_type": "code",
   "execution_count": 1,
   "id": "d7e016e6",
   "metadata": {
    "slideshow": {
     "slide_type": "skip"
    }
   },
   "outputs": [],
   "source": [
    "%load_ext autoreload\n",
    "%autoreload 2"
   ]
  },
  {
   "cell_type": "markdown",
   "id": "8b46e81b",
   "metadata": {
    "slideshow": {
     "slide_type": ""
    }
   },
   "source": [
    "# modules"
   ]
  },
  {
   "cell_type": "markdown",
   "id": "8e8ef8c8",
   "metadata": {
    "slideshow": {
     "slide_type": "slide"
    }
   },
   "source": [
    "## bibliothèque standard\n",
    "\n",
    "un grand nombre d'outils installés d'office  \n",
    "pour des tâches très variées\n",
    "[voir liste complète](https://docs.python.org/3/library/#the-python-standard-library)  \n",
    "\n",
    "\n",
    "cette boite à outils est exposée au travers de **modules**  \n",
    "que l'on peut charger dans son appli grâce au mot-clé `import`"
   ]
  },
  {
   "cell_type": "markdown",
   "id": "a4fa05e1",
   "metadata": {
    "slideshow": {
     "slide_type": "slide"
    }
   },
   "source": [
    "## `import`"
   ]
  },
  {
   "cell_type": "code",
   "execution_count": 2,
   "id": "acf4a143",
   "metadata": {
    "cell_style": "split"
   },
   "outputs": [],
   "source": [
    "# import permet de charger un code\n",
    "import math"
   ]
  },
  {
   "cell_type": "code",
   "execution_count": 3,
   "id": "41e9ebb7",
   "metadata": {
    "cell_style": "split"
   },
   "outputs": [
    {
     "data": {
      "text/plain": [
       "<module 'math' from '/usr/share/miniconda/envs/python-numérique/lib/python3.9/lib-dynload/math.cpython-39-x86_64-linux-gnu.so'>"
      ]
     },
     "execution_count": 3,
     "metadata": {},
     "output_type": "execute_result"
    }
   ],
   "source": [
    "# cela définit une variable, ici 'math'\n",
    "# qui est une référence\n",
    "# vers un objet module\n",
    "math"
   ]
  },
  {
   "cell_type": "code",
   "execution_count": 4,
   "id": "72b39972",
   "metadata": {
    "cell_style": "split"
   },
   "outputs": [
    {
     "data": {
      "text/plain": [
       "module"
      ]
     },
     "execution_count": 4,
     "metadata": {},
     "output_type": "execute_result"
    }
   ],
   "source": [
    "type(math)"
   ]
  },
  {
   "cell_type": "code",
   "execution_count": 5,
   "id": "ae9a3754",
   "metadata": {
    "cell_style": "split"
   },
   "outputs": [
    {
     "data": {
      "text/plain": [
       "3.141592653589793"
      ]
     },
     "execution_count": 5,
     "metadata": {},
     "output_type": "execute_result"
    }
   ],
   "source": [
    "# cet objet possède des attributs\n",
    "# auxquels on peut accéder\n",
    "# avec la notation module.attribut\n",
    "\n",
    "math.pi"
   ]
  },
  {
   "cell_type": "markdown",
   "id": "13bbf926",
   "metadata": {
    "slideshow": {
     "slide_type": "slide"
    }
   },
   "source": [
    "## autres formes"
   ]
  },
  {
   "cell_type": "code",
   "execution_count": 6,
   "id": "1039458d",
   "metadata": {
    "cell_style": "split"
   },
   "outputs": [
    {
     "data": {
      "text/plain": [
       "3.141592653589793"
      ]
     },
     "execution_count": 6,
     "metadata": {},
     "output_type": "execute_result"
    }
   ],
   "source": [
    "# avec cette forme on ne définit pas la variable math\n",
    "# mais directement la variable pi\n",
    "\n",
    "from math import pi\n",
    "pi"
   ]
  },
  {
   "cell_type": "code",
   "execution_count": 7,
   "id": "6f9cc56c",
   "metadata": {
    "cell_style": "split"
   },
   "outputs": [
    {
     "data": {
      "text/plain": [
       "-1.0"
      ]
     },
     "execution_count": 7,
     "metadata": {},
     "output_type": "execute_result"
    }
   ],
   "source": [
    "# ici cos n'est pas défini, math.cos l'est\n",
    "\n",
    "math.cos(pi)"
   ]
  },
  {
   "cell_type": "markdown",
   "id": "b4b975c6",
   "metadata": {
    "slideshow": {
     "slide_type": "slide"
    }
   },
   "source": [
    "## installation de librairies tierces\n",
    "\n",
    "si on a besoin d'installer un module  \n",
    "qui ne fait pas partie de la bibliothèque standard :\n",
    "\n",
    "* répertoire disponible sur <https://pypi.org/>\n",
    "* installation à faire avec l'outil `pip`  \n",
    "  (se lance depuis le terminal)"
   ]
  },
  {
   "cell_type": "code",
   "execution_count": 8,
   "id": "e00ede30",
   "metadata": {
    "slideshow": {
     "slide_type": "slide"
    }
   },
   "outputs": [
    {
     "name": "stdout",
     "output_type": "stream",
     "text": [
      "\u001b[31mERROR: XMLRPC request failed [code: -32500]\r\n",
      "RuntimeError: PyPI's XMLRPC API is currently disabled due to unmanageable load and will be deprecated in the near future. See https://status.python.org/ for more information.\u001b[0m\r\n"
     ]
    }
   ],
   "source": [
    "# cette astuce avec le ! me permet\n",
    "# d'appeler une commande normalement destinée au terminal\n",
    "# mais depuis Python\n",
    "  \n",
    "!pip search nbautoeval"
   ]
  },
  {
   "cell_type": "code",
   "execution_count": 9,
   "id": "38c24fe4",
   "metadata": {},
   "outputs": [
    {
     "name": "stdout",
     "output_type": "stream",
     "text": [
      "Requirement already satisfied: nbautoeval in /usr/share/miniconda/envs/python-numérique/lib/python3.9/site-packages (1.7.0)\r\n"
     ]
    },
    {
     "name": "stdout",
     "output_type": "stream",
     "text": [
      "Requirement already satisfied: numpy in /usr/share/miniconda/envs/python-numérique/lib/python3.9/site-packages (from nbautoeval) (1.21.1)\r\n",
      "Requirement already satisfied: ipywidgets in /usr/share/miniconda/envs/python-numérique/lib/python3.9/site-packages (from nbautoeval) (7.6.3)\r\n",
      "Requirement already satisfied: ipython in /usr/share/miniconda/envs/python-numérique/lib/python3.9/site-packages (from nbautoeval) (7.25.0)\r\n",
      "Requirement already satisfied: myst-parser in /usr/share/miniconda/envs/python-numérique/lib/python3.9/site-packages (from nbautoeval) (0.13.7)\r\n",
      "Requirement already satisfied: PyYAML in /usr/share/miniconda/envs/python-numérique/lib/python3.9/site-packages (from nbautoeval) (5.4.1)\r\n",
      "Requirement already satisfied: prompt-toolkit!=3.0.0,!=3.0.1,<3.1.0,>=2.0.0 in /usr/share/miniconda/envs/python-numérique/lib/python3.9/site-packages (from ipython->nbautoeval) (3.0.19)\r\n",
      "Requirement already satisfied: setuptools>=18.5 in /usr/share/miniconda/envs/python-numérique/lib/python3.9/site-packages (from ipython->nbautoeval) (52.0.0.post20210125)\r\n",
      "Requirement already satisfied: jedi>=0.16 in /usr/share/miniconda/envs/python-numérique/lib/python3.9/site-packages (from ipython->nbautoeval) (0.18.0)\r\n"
     ]
    },
    {
     "name": "stdout",
     "output_type": "stream",
     "text": [
      "Requirement already satisfied: pickleshare in /usr/share/miniconda/envs/python-numérique/lib/python3.9/site-packages (from ipython->nbautoeval) (0.7.5)\r\n",
      "Requirement already satisfied: pygments in /usr/share/miniconda/envs/python-numérique/lib/python3.9/site-packages (from ipython->nbautoeval) (2.9.0)\r\n",
      "Requirement already satisfied: backcall in /usr/share/miniconda/envs/python-numérique/lib/python3.9/site-packages (from ipython->nbautoeval) (0.2.0)\r\n",
      "Requirement already satisfied: matplotlib-inline in /usr/share/miniconda/envs/python-numérique/lib/python3.9/site-packages (from ipython->nbautoeval) (0.1.2)\r\n",
      "Requirement already satisfied: pexpect>4.3 in /usr/share/miniconda/envs/python-numérique/lib/python3.9/site-packages (from ipython->nbautoeval) (4.8.0)\r\n",
      "Requirement already satisfied: decorator in /usr/share/miniconda/envs/python-numérique/lib/python3.9/site-packages (from ipython->nbautoeval) (5.0.9)\r\n",
      "Requirement already satisfied: traitlets>=4.2 in /usr/share/miniconda/envs/python-numérique/lib/python3.9/site-packages (from ipython->nbautoeval) (5.0.5)\r\n",
      "Requirement already satisfied: parso<0.9.0,>=0.8.0 in /usr/share/miniconda/envs/python-numérique/lib/python3.9/site-packages (from jedi>=0.16->ipython->nbautoeval) (0.8.2)\r\n",
      "Requirement already satisfied: ptyprocess>=0.5 in /usr/share/miniconda/envs/python-numérique/lib/python3.9/site-packages (from pexpect>4.3->ipython->nbautoeval) (0.7.0)\r\n",
      "Requirement already satisfied: wcwidth in /usr/share/miniconda/envs/python-numérique/lib/python3.9/site-packages (from prompt-toolkit!=3.0.0,!=3.0.1,<3.1.0,>=2.0.0->ipython->nbautoeval) (0.2.5)\r\n",
      "Requirement already satisfied: ipython-genutils in /usr/share/miniconda/envs/python-numérique/lib/python3.9/site-packages (from traitlets>=4.2->ipython->nbautoeval) (0.2.0)\r\n",
      "Requirement already satisfied: jupyterlab-widgets>=1.0.0 in /usr/share/miniconda/envs/python-numérique/lib/python3.9/site-packages (from ipywidgets->nbautoeval) (1.0.0)\r\n",
      "Requirement already satisfied: nbformat>=4.2.0 in /usr/share/miniconda/envs/python-numérique/lib/python3.9/site-packages (from ipywidgets->nbautoeval) (5.1.3)\r\n",
      "Requirement already satisfied: ipykernel>=4.5.1 in /usr/share/miniconda/envs/python-numérique/lib/python3.9/site-packages (from ipywidgets->nbautoeval) (6.0.3)\r\n",
      "Requirement already satisfied: widgetsnbextension~=3.5.0 in /usr/share/miniconda/envs/python-numérique/lib/python3.9/site-packages (from ipywidgets->nbautoeval) (3.5.1)\r\n",
      "Requirement already satisfied: debugpy<2.0,>=1.0.0 in /usr/share/miniconda/envs/python-numérique/lib/python3.9/site-packages (from ipykernel>=4.5.1->ipywidgets->nbautoeval) (1.4.1)\r\n",
      "Requirement already satisfied: jupyter-client<7.0 in /usr/share/miniconda/envs/python-numérique/lib/python3.9/site-packages (from ipykernel>=4.5.1->ipywidgets->nbautoeval) (6.1.12)\r\n",
      "Requirement already satisfied: tornado<7.0,>=4.2 in /usr/share/miniconda/envs/python-numérique/lib/python3.9/site-packages (from ipykernel>=4.5.1->ipywidgets->nbautoeval) (6.1)\r\n"
     ]
    },
    {
     "name": "stdout",
     "output_type": "stream",
     "text": [
      "Requirement already satisfied: python-dateutil>=2.1 in /usr/share/miniconda/envs/python-numérique/lib/python3.9/site-packages (from jupyter-client<7.0->ipykernel>=4.5.1->ipywidgets->nbautoeval) (2.8.2)\r\n",
      "Requirement already satisfied: jupyter-core>=4.6.0 in /usr/share/miniconda/envs/python-numérique/lib/python3.9/site-packages (from jupyter-client<7.0->ipykernel>=4.5.1->ipywidgets->nbautoeval) (4.7.1)\r\n",
      "Requirement already satisfied: pyzmq>=13 in /usr/share/miniconda/envs/python-numérique/lib/python3.9/site-packages (from jupyter-client<7.0->ipykernel>=4.5.1->ipywidgets->nbautoeval) (22.1.0)\r\n",
      "Requirement already satisfied: jsonschema!=2.5.0,>=2.4 in /usr/share/miniconda/envs/python-numérique/lib/python3.9/site-packages (from nbformat>=4.2.0->ipywidgets->nbautoeval) (3.2.0)\r\n",
      "Requirement already satisfied: pyrsistent>=0.14.0 in /usr/share/miniconda/envs/python-numérique/lib/python3.9/site-packages (from jsonschema!=2.5.0,>=2.4->nbformat>=4.2.0->ipywidgets->nbautoeval) (0.18.0)\r\n",
      "Requirement already satisfied: attrs>=17.4.0 in /usr/share/miniconda/envs/python-numérique/lib/python3.9/site-packages (from jsonschema!=2.5.0,>=2.4->nbformat>=4.2.0->ipywidgets->nbautoeval) (20.3.0)\r\n",
      "Requirement already satisfied: six>=1.11.0 in /usr/share/miniconda/envs/python-numérique/lib/python3.9/site-packages (from jsonschema!=2.5.0,>=2.4->nbformat>=4.2.0->ipywidgets->nbautoeval) (1.16.0)\r\n"
     ]
    },
    {
     "name": "stdout",
     "output_type": "stream",
     "text": [
      "Requirement already satisfied: notebook>=4.4.1 in /usr/share/miniconda/envs/python-numérique/lib/python3.9/site-packages (from widgetsnbextension~=3.5.0->ipywidgets->nbautoeval) (6.4.0)\r\n",
      "Requirement already satisfied: jinja2 in /usr/share/miniconda/envs/python-numérique/lib/python3.9/site-packages (from notebook>=4.4.1->widgetsnbextension~=3.5.0->ipywidgets->nbautoeval) (3.0.1)\r\n",
      "Requirement already satisfied: terminado>=0.8.3 in /usr/share/miniconda/envs/python-numérique/lib/python3.9/site-packages (from notebook>=4.4.1->widgetsnbextension~=3.5.0->ipywidgets->nbautoeval) (0.10.1)\r\n",
      "Requirement already satisfied: prometheus-client in /usr/share/miniconda/envs/python-numérique/lib/python3.9/site-packages (from notebook>=4.4.1->widgetsnbextension~=3.5.0->ipywidgets->nbautoeval) (0.11.0)\r\n",
      "Requirement already satisfied: argon2-cffi in /usr/share/miniconda/envs/python-numérique/lib/python3.9/site-packages (from notebook>=4.4.1->widgetsnbextension~=3.5.0->ipywidgets->nbautoeval) (20.1.0)\r\n",
      "Requirement already satisfied: Send2Trash>=1.5.0 in /usr/share/miniconda/envs/python-numérique/lib/python3.9/site-packages (from notebook>=4.4.1->widgetsnbextension~=3.5.0->ipywidgets->nbautoeval) (1.7.1)\r\n",
      "Requirement already satisfied: nbconvert in /usr/share/miniconda/envs/python-numérique/lib/python3.9/site-packages (from notebook>=4.4.1->widgetsnbextension~=3.5.0->ipywidgets->nbautoeval) (5.6.1)\r\n"
     ]
    },
    {
     "name": "stdout",
     "output_type": "stream",
     "text": [
      "Requirement already satisfied: cffi>=1.0.0 in /usr/share/miniconda/envs/python-numérique/lib/python3.9/site-packages (from argon2-cffi->notebook>=4.4.1->widgetsnbextension~=3.5.0->ipywidgets->nbautoeval) (1.14.6)\r\n",
      "Requirement already satisfied: pycparser in /usr/share/miniconda/envs/python-numérique/lib/python3.9/site-packages (from cffi>=1.0.0->argon2-cffi->notebook>=4.4.1->widgetsnbextension~=3.5.0->ipywidgets->nbautoeval) (2.20)\r\n",
      "Requirement already satisfied: MarkupSafe>=2.0 in /usr/share/miniconda/envs/python-numérique/lib/python3.9/site-packages (from jinja2->notebook>=4.4.1->widgetsnbextension~=3.5.0->ipywidgets->nbautoeval) (2.0.1)\r\n",
      "Requirement already satisfied: sphinx<4,>=2.1 in /usr/share/miniconda/envs/python-numérique/lib/python3.9/site-packages (from myst-parser->nbautoeval) (3.5.4)\r\n",
      "Requirement already satisfied: mdit-py-plugins~=0.2.5 in /usr/share/miniconda/envs/python-numérique/lib/python3.9/site-packages (from myst-parser->nbautoeval) (0.2.6)\r\n",
      "Requirement already satisfied: docutils<0.18,>=0.15 in /usr/share/miniconda/envs/python-numérique/lib/python3.9/site-packages (from myst-parser->nbautoeval) (0.16)\r\n",
      "Requirement already satisfied: markdown-it-py~=0.6.2 in /usr/share/miniconda/envs/python-numérique/lib/python3.9/site-packages (from myst-parser->nbautoeval) (0.6.2)\r\n"
     ]
    },
    {
     "name": "stdout",
     "output_type": "stream",
     "text": [
      "Requirement already satisfied: sphinxcontrib-htmlhelp in /usr/share/miniconda/envs/python-numérique/lib/python3.9/site-packages (from sphinx<4,>=2.1->myst-parser->nbautoeval) (2.0.0)\r\n",
      "Requirement already satisfied: sphinxcontrib-devhelp in /usr/share/miniconda/envs/python-numérique/lib/python3.9/site-packages (from sphinx<4,>=2.1->myst-parser->nbautoeval) (1.0.2)\r\n",
      "Requirement already satisfied: sphinxcontrib-jsmath in /usr/share/miniconda/envs/python-numérique/lib/python3.9/site-packages (from sphinx<4,>=2.1->myst-parser->nbautoeval) (1.0.1)\r\n",
      "Requirement already satisfied: sphinxcontrib-qthelp in /usr/share/miniconda/envs/python-numérique/lib/python3.9/site-packages (from sphinx<4,>=2.1->myst-parser->nbautoeval) (1.0.3)\r\n",
      "Requirement already satisfied: snowballstemmer>=1.1 in /usr/share/miniconda/envs/python-numérique/lib/python3.9/site-packages (from sphinx<4,>=2.1->myst-parser->nbautoeval) (2.1.0)\r\n",
      "Requirement already satisfied: babel>=1.3 in /usr/share/miniconda/envs/python-numérique/lib/python3.9/site-packages (from sphinx<4,>=2.1->myst-parser->nbautoeval) (2.9.1)\r\n",
      "Requirement already satisfied: imagesize in /usr/share/miniconda/envs/python-numérique/lib/python3.9/site-packages (from sphinx<4,>=2.1->myst-parser->nbautoeval) (1.2.0)\r\n",
      "Requirement already satisfied: requests>=2.5.0 in /usr/share/miniconda/envs/python-numérique/lib/python3.9/site-packages (from sphinx<4,>=2.1->myst-parser->nbautoeval) (2.26.0)\r\n"
     ]
    },
    {
     "name": "stdout",
     "output_type": "stream",
     "text": [
      "Requirement already satisfied: alabaster<0.8,>=0.7 in /usr/share/miniconda/envs/python-numérique/lib/python3.9/site-packages (from sphinx<4,>=2.1->myst-parser->nbautoeval) (0.7.12)\r\n",
      "Requirement already satisfied: packaging in /usr/share/miniconda/envs/python-numérique/lib/python3.9/site-packages (from sphinx<4,>=2.1->myst-parser->nbautoeval) (21.0)\r\n",
      "Requirement already satisfied: sphinxcontrib-serializinghtml in /usr/share/miniconda/envs/python-numérique/lib/python3.9/site-packages (from sphinx<4,>=2.1->myst-parser->nbautoeval) (1.1.5)\r\n",
      "Requirement already satisfied: sphinxcontrib-applehelp in /usr/share/miniconda/envs/python-numérique/lib/python3.9/site-packages (from sphinx<4,>=2.1->myst-parser->nbautoeval) (1.0.2)\r\n",
      "Requirement already satisfied: pytz>=2015.7 in /usr/share/miniconda/envs/python-numérique/lib/python3.9/site-packages (from babel>=1.3->sphinx<4,>=2.1->myst-parser->nbautoeval) (2021.1)\r\n",
      "Requirement already satisfied: certifi>=2017.4.17 in /usr/share/miniconda/envs/python-numérique/lib/python3.9/site-packages (from requests>=2.5.0->sphinx<4,>=2.1->myst-parser->nbautoeval) (2021.5.30)\r\n",
      "Requirement already satisfied: idna<4,>=2.5 in /usr/share/miniconda/envs/python-numérique/lib/python3.9/site-packages (from requests>=2.5.0->sphinx<4,>=2.1->myst-parser->nbautoeval) (3.2)\r\n",
      "Requirement already satisfied: charset-normalizer~=2.0.0 in /usr/share/miniconda/envs/python-numérique/lib/python3.9/site-packages (from requests>=2.5.0->sphinx<4,>=2.1->myst-parser->nbautoeval) (2.0.3)\r\n",
      "Requirement already satisfied: urllib3<1.27,>=1.21.1 in /usr/share/miniconda/envs/python-numérique/lib/python3.9/site-packages (from requests>=2.5.0->sphinx<4,>=2.1->myst-parser->nbautoeval) (1.26.6)\r\n"
     ]
    },
    {
     "name": "stdout",
     "output_type": "stream",
     "text": [
      "Requirement already satisfied: testpath in /usr/share/miniconda/envs/python-numérique/lib/python3.9/site-packages (from nbconvert->notebook>=4.4.1->widgetsnbextension~=3.5.0->ipywidgets->nbautoeval) (0.5.0)\r\n",
      "Requirement already satisfied: pandocfilters>=1.4.1 in /usr/share/miniconda/envs/python-numérique/lib/python3.9/site-packages (from nbconvert->notebook>=4.4.1->widgetsnbextension~=3.5.0->ipywidgets->nbautoeval) (1.4.3)\r\n",
      "Requirement already satisfied: mistune<2,>=0.8.1 in /usr/share/miniconda/envs/python-numérique/lib/python3.9/site-packages (from nbconvert->notebook>=4.4.1->widgetsnbextension~=3.5.0->ipywidgets->nbautoeval) (0.8.4)\r\n",
      "Requirement already satisfied: entrypoints>=0.2.2 in /usr/share/miniconda/envs/python-numérique/lib/python3.9/site-packages (from nbconvert->notebook>=4.4.1->widgetsnbextension~=3.5.0->ipywidgets->nbautoeval) (0.3)\r\n",
      "Requirement already satisfied: bleach in /usr/share/miniconda/envs/python-numérique/lib/python3.9/site-packages (from nbconvert->notebook>=4.4.1->widgetsnbextension~=3.5.0->ipywidgets->nbautoeval) (3.3.1)\r\n",
      "Requirement already satisfied: defusedxml in /usr/share/miniconda/envs/python-numérique/lib/python3.9/site-packages (from nbconvert->notebook>=4.4.1->widgetsnbextension~=3.5.0->ipywidgets->nbautoeval) (0.7.1)\r\n",
      "Requirement already satisfied: webencodings in /usr/share/miniconda/envs/python-numérique/lib/python3.9/site-packages (from bleach->nbconvert->notebook>=4.4.1->widgetsnbextension~=3.5.0->ipywidgets->nbautoeval) (0.5.1)\r\n",
      "Requirement already satisfied: pyparsing>=2.0.2 in /usr/share/miniconda/envs/python-numérique/lib/python3.9/site-packages (from packaging->sphinx<4,>=2.1->myst-parser->nbautoeval) (2.4.7)\r\n"
     ]
    }
   ],
   "source": [
    "!pip install nbautoeval"
   ]
  },
  {
   "cell_type": "code",
   "execution_count": 10,
   "id": "73db5da8",
   "metadata": {},
   "outputs": [],
   "source": [
    "import nbautoeval"
   ]
  },
  {
   "cell_type": "markdown",
   "id": "d8673ff2",
   "metadata": {
    "slideshow": {
     "slide_type": "slide"
    }
   },
   "source": [
    "## c'est quoi un module ?"
   ]
  },
  {
   "cell_type": "markdown",
   "id": "634c176b",
   "metadata": {},
   "source": [
    "un module est un objet Python qui correspond à un fichier (ou répertoire) source  \n",
    "depuis cet objet vous pouvez accéder à des **attributs**  \n",
    "avec la notation `module.attribut`  \n",
    "  (qui est la même notion que, par ex., `str.capitalize`)  \n",
    "le module a autant d'attributs que d'objets globaux dans le source  \n",
    "dans le cas d'un répertoire les attributs référencent d'autres modules"
   ]
  },
  {
   "cell_type": "code",
   "execution_count": 11,
   "id": "d7fa49cd",
   "metadata": {
    "cell_style": "split",
    "slideshow": {
     "slide_type": "slide"
    }
   },
   "outputs": [
    {
     "name": "stdout",
     "output_type": "stream",
     "text": [
      "# variable globale au module\r\n",
      "foo = 1\r\n",
      "\r\n",
      "# fonction globale au module\r\n",
      "def bar(n):\r\n",
      "    x = 10\r\n",
      "    print(f\"dans bar, n={n} et x={x}\")\r\n",
      "\r\n"
     ]
    }
   ],
   "source": [
    "# regarder le contenu\n",
    "!cat mod.py"
   ]
  },
  {
   "cell_type": "code",
   "execution_count": 12,
   "id": "7144de79",
   "metadata": {
    "cell_style": "split"
   },
   "outputs": [
    {
     "data": {
      "text/plain": [
       "['__builtins__',\n",
       " '__cached__',\n",
       " '__doc__',\n",
       " '__file__',\n",
       " '__loader__',\n",
       " '__name__',\n",
       " '__package__',\n",
       " '__spec__',\n",
       " 'bar',\n",
       " 'foo']"
      ]
     },
     "execution_count": 12,
     "metadata": {},
     "output_type": "execute_result"
    }
   ],
   "source": [
    "import mod\n",
    "\n",
    "# tous les noms dans le module (y compris les noms \"internes\")\n",
    "dir(mod)"
   ]
  },
  {
   "cell_type": "code",
   "execution_count": 13,
   "id": "6909f842",
   "metadata": {
    "cell_style": "split"
   },
   "outputs": [
    {
     "data": {
      "text/plain": [
       "['bar', 'foo']"
      ]
     },
     "execution_count": 13,
     "metadata": {},
     "output_type": "execute_result"
    }
   ],
   "source": [
    "# une fois le bruit éliminé\n",
    "[x for x in dir(mod) if '__' not in x]"
   ]
  },
  {
   "cell_type": "markdown",
   "id": "34d14d6c",
   "metadata": {
    "slideshow": {
     "slide_type": "slide"
    }
   },
   "source": [
    "## notion de point d'entrée"
   ]
  },
  {
   "cell_type": "markdown",
   "id": "966f290a",
   "metadata": {},
   "source": [
    "votre programme Python est toujours exécuté par un interpréteur  \n",
    "qui \"commence\" quelque part: c'est le point d'entrée"
   ]
  },
  {
   "cell_type": "markdown",
   "id": "e1b4feb2",
   "metadata": {
    "cell_style": "split"
   },
   "source": [
    "si vous lancez  \n",
    "```bash\n",
    "$ python3 foo.py\n",
    "```"
   ]
  },
  {
   "cell_type": "markdown",
   "id": "e9a8572c",
   "metadata": {
    "cell_style": "split"
   },
   "source": [
    "le point d'entrée dans ce cas est\n",
    "(le module correspondant à) `foo.py`"
   ]
  },
  {
   "cell_type": "markdown",
   "id": "584f2560",
   "metadata": {
    "slideshow": {
     "slide_type": "slide"
    }
   },
   "source": [
    "## recherche des modules\n",
    "\n",
    "Python recherche les modules dans plusieurs d'endroits (répertoires)\n",
    "\n",
    "* le répertoire qui contient le point d'entrée  \n",
    "* en option, la variable d'environnement `PYTHONPATH`\n",
    "* là où sont installés les morceaux de la librairie standard\n",
    "\n",
    "conseil : évitez de bidouiller `PYTHONPATH`"
   ]
  },
  {
   "cell_type": "markdown",
   "id": "8409395d",
   "metadata": {
    "slideshow": {
     "slide_type": "slide"
    }
   },
   "source": [
    "## organisation de votre code\n",
    "\n",
    "cela signifie que pour commencer,  \n",
    "on peut sans souci couper son code en fichiers  \n",
    "et les mettre tous dans le même répertoire"
   ]
  },
  {
   "cell_type": "markdown",
   "id": "64edef6b",
   "metadata": {
    "slideshow": {
     "slide_type": ""
    }
   },
   "source": [
    "c'est une pratique courante et recommandée  \n",
    "il faut apprendre à découper  \n",
    "notamment pour augmenter la réutilisabilité"
   ]
  },
  {
   "cell_type": "markdown",
   "id": "0365e9f9",
   "metadata": {
    "slideshow": {
     "slide_type": "slide"
    }
   },
   "source": [
    "## librairies utiles\n",
    "\n",
    "liste largement non exhaustive\n",
    "\n",
    "* gestion des fichiers: `from pathlib import Path`  \n",
    "* génération de nombres aléatoires `import random`\n",
    "* télécharger depuis Internet: `import requests`\n",
    "* ouverture de fichiers au format JSON: `import json` (standard)\n",
    "\n",
    "* Python scientifique: `numpy`, `pandas`, `matplotlib`, ..."
   ]
  },
  {
   "cell_type": "markdown",
   "id": "bf078822",
   "metadata": {
    "slideshow": {
     "slide_type": "slide"
    }
   },
   "source": [
    "## module `pathlib`"
   ]
  },
  {
   "cell_type": "markdown",
   "id": "820f5a5e",
   "metadata": {},
   "source": [
    "fait partie de la librairie standard  \n",
    "permet de faire des calculs sur les fichiers  \n",
    "\n",
    "* lister les fichiers présents\n",
    "* calculs sur les chemins et noms de fichier  \n",
    "* accéder aux métadata (taille, date, ...)"
   ]
  },
  {
   "cell_type": "code",
   "execution_count": 14,
   "id": "2ab5fca3",
   "metadata": {
    "cell_style": "center",
    "slideshow": {
     "slide_type": "slide"
    }
   },
   "outputs": [],
   "source": [
    "# ici Path correspond à une classe\n",
    "# on verra la théorie très bientôt\n",
    "from pathlib import Path\n",
    "\n",
    "# on recherche dans le répertoire courant '.'\n",
    "# les fichiers/répertoires d'extension '.ipynb'\n",
    "local_files = Path('.').glob('*.ipynb')\n",
    "\n",
    "# observons les fichiers trouvés\n",
    "for file in local_files:\n",
    "    print('name', file.name)\n",
    "    print('stem', file.stem)\n",
    "    print('suffix', file.suffix)\n",
    "    print('absolute()', file.absolute())\n",
    "    print('size', file.stat().st_size)\n",
    "    break"
   ]
  },
  {
   "cell_type": "markdown",
   "id": "f42cdb10",
   "metadata": {
    "slideshow": {
     "slide_type": "slide"
    }
   },
   "source": [
    "## module `random`"
   ]
  },
  {
   "cell_type": "markdown",
   "id": "f2b50f00",
   "metadata": {},
   "source": [
    "une fois que vous avez le nom du module,  \n",
    "il vous suffit de consulter [la doc\n",
    "complète](https://docs.python.org/3/library/random.html)  \n",
    "pour cela taper dans google `python random module`  \n",
    "(nous reviendrons sur ce module lors de l'étude des librairies numériques)"
   ]
  },
  {
   "cell_type": "code",
   "execution_count": 15,
   "id": "6307e4aa",
   "metadata": {
    "cell_style": "split"
   },
   "outputs": [
    {
     "data": {
      "text/plain": [
       "0.6366640476498368"
      ]
     },
     "execution_count": 15,
     "metadata": {},
     "output_type": "execute_result"
    }
   ],
   "source": [
    "import random\n",
    "\n",
    "# entre 0 et 1\n",
    "random.random()"
   ]
  },
  {
   "cell_type": "code",
   "execution_count": 16,
   "id": "6fc54f4c",
   "metadata": {
    "cell_style": "split"
   },
   "outputs": [
    {
     "data": {
      "text/plain": [
       "1"
      ]
     },
     "execution_count": 16,
     "metadata": {},
     "output_type": "execute_result"
    }
   ],
   "source": [
    "# un entier entre deux bornes\n",
    "# inclusivement\n",
    "random.randint(0, 10)"
   ]
  },
  {
   "cell_type": "markdown",
   "id": "6b21bf17",
   "metadata": {
    "slideshow": {
     "slide_type": "slide"
    }
   },
   "source": [
    "## module `requests`"
   ]
  },
  {
   "cell_type": "markdown",
   "id": "928bcba0",
   "metadata": {},
   "source": [
    "télécharger du contenu depuis une URL  \n",
    "accéder à l'entête http\n",
    "plus flexible que l'équivalent dans la librairie standard `urllib2`"
   ]
  },
  {
   "cell_type": "code",
   "execution_count": 17,
   "id": "5e29cb43",
   "metadata": {
    "slideshow": {
     "slide_type": "slide"
    }
   },
   "outputs": [
    {
     "name": "stdout",
     "output_type": "stream",
     "text": [
      "code de retour HTTP: 410\n"
     ]
    }
   ],
   "source": [
    "import requests\n",
    "\n",
    "url = \"\"\n",
    "url = \"https://github.com/timeline.json\"\n",
    "\n",
    "request = requests.get(url)\n",
    "\n",
    "print(f\"code de retour HTTP: {request.status_code}\")"
   ]
  },
  {
   "cell_type": "code",
   "execution_count": 18,
   "id": "81db4f30",
   "metadata": {
    "cell_style": "split"
   },
   "outputs": [
    {
     "data": {
      "text/plain": [
       "str"
      ]
     },
     "execution_count": 18,
     "metadata": {},
     "output_type": "execute_result"
    }
   ],
   "source": [
    "raw_content = request.text\n",
    "# une chaine de caractères\n",
    "type(raw_content)"
   ]
  },
  {
   "cell_type": "code",
   "execution_count": 19,
   "id": "500f96d3",
   "metadata": {
    "cell_style": "split"
   },
   "outputs": [
    {
     "data": {
      "text/plain": [
       "'{\"message\":\"Hello there, wayfaring stranger. If you’re reading this then you probably didn’t see our blog post a couple '"
      ]
     },
     "execution_count": 19,
     "metadata": {},
     "output_type": "execute_result"
    }
   ],
   "source": [
    "# le début de cette chaine\n",
    "raw_content[:120]\n",
    "# son contenu est en format json (voir slide suivante)"
   ]
  },
  {
   "cell_type": "markdown",
   "id": "3e1e2263",
   "metadata": {
    "slideshow": {
     "slide_type": "slide"
    }
   },
   "source": [
    "## module `json`\n",
    "\n",
    "le cas qu'on vient de voir est très fréquent  \n",
    "JSON est un format texte (compatible réseau donc Internet)  \n",
    "mais qui conserve un minimum de structure :\n",
    "permet de transmettre listes et dictionnaires"
   ]
  },
  {
   "cell_type": "code",
   "execution_count": 20,
   "id": "557a2494",
   "metadata": {
    "cell_style": "split"
   },
   "outputs": [
    {
     "data": {
      "text/plain": [
       "dict"
      ]
     },
     "execution_count": 20,
     "metadata": {},
     "output_type": "execute_result"
    }
   ],
   "source": [
    "# pour décoder le JSON qu'on a lu\n",
    "# et qui est dans la str raw_content\n",
    "import json\n",
    "\n",
    "decoded = json.loads(raw_content)\n",
    "type(decoded) # la chaîne contenait un dict Pyhon"
   ]
  },
  {
   "cell_type": "code",
   "execution_count": 21,
   "id": "2639b257",
   "metadata": {
    "cell_style": "split"
   },
   "outputs": [
    {
     "name": "stdout",
     "output_type": "stream",
     "text": [
      "message\n",
      "\tHello there, wayfari...\n",
      "documentation_url\n",
      "\thttps://docs.github....\n"
     ]
    }
   ],
   "source": [
    "# cette fois on a un peu\n",
    "# de structure\n",
    "for k, v in decoded.items():\n",
    "    print(f\"{k}\\n\\t{v[:20]}...\")"
   ]
  },
  {
   "cell_type": "markdown",
   "id": "59cc7a28",
   "metadata": {
    "slideshow": {
     "slide_type": "slide"
    }
   },
   "source": [
    "## gestion de fichiers"
   ]
  },
  {
   "cell_type": "code",
   "execution_count": 22,
   "id": "5c3d0c34",
   "metadata": {
    "cell_style": "center"
   },
   "outputs": [],
   "source": [
    "# pour écrire dans un fichier\n",
    "with open(\"tutu.txt\", \"w\") as writer:\n",
    "    for i in range(4):\n",
    "        print(f\"i={i}\", file=writer)"
   ]
  },
  {
   "cell_type": "markdown",
   "id": "011aefa5",
   "metadata": {
    "cell_style": "center"
   },
   "source": [
    "`with open...` ouvre le fichier `tutu.txt` en écriture `\"w\"`  \n",
    "  et crée la variable `writer` de type `File`  \n",
    "`writer` n'est visible que dans le `with`  \n",
    "`print(..., file=writer)` écrit dans ce fichier  \n",
    "`with` ferme le fichier à la sortie  \n",
    "(nous allons maintenant lire ce fichier)"
   ]
  },
  {
   "cell_type": "markdown",
   "id": "1509e887",
   "metadata": {
    "slideshow": {
     "slide_type": "slide"
    }
   },
   "source": [
    "## fichiers - suite"
   ]
  },
  {
   "cell_type": "code",
   "execution_count": 23,
   "id": "18a5b8ff",
   "metadata": {
    "cell_style": "split"
   },
   "outputs": [
    {
     "name": "stdout",
     "output_type": "stream",
     "text": [
      "i=0\n",
      "i=1\n",
      "i=2\n",
      "i=3\n"
     ]
    }
   ],
   "source": [
    "# à l'envers, on relit le fichier\n",
    "with open('tutu.txt') as reader:\n",
    "    for line in reader:\n",
    "        print(line, end=\"\")"
   ]
  },
  {
   "cell_type": "markdown",
   "id": "c8f52928",
   "metadata": {
    "cell_style": "split"
   },
   "source": [
    "sans préciser le mode d'ouverture  \n",
    "`open` ouvre le fichier en lecture  \n",
    "l'objet `reader` est **itérable**\n",
    "\n",
    "\n",
    "la variable `line` contient une fin de ligne  \n",
    "pas besoin que `print` en rajoute une"
   ]
  },
  {
   "cell_type": "markdown",
   "id": "e0ddce42",
   "metadata": {
    "slideshow": {
     "slide_type": "slide"
    }
   },
   "source": [
    "## exercice\n",
    "\n",
    "écrire une fonction `json_random()` qui retourne :\n",
    "* une chaine de caractères\n",
    "* qui correspond à l'encodage en JSON\n",
    "* d'une liste contenant - au hasard - entre 2 et 5 valeurs numériques\n",
    "* elles-mêmes tirées au hasard dans l'intervalle $[2 .. 5]$"
   ]
  },
  {
   "cell_type": "code",
   "execution_count": 24,
   "id": "b8d91b31",
   "metadata": {
    "cell_style": "center"
   },
   "outputs": [],
   "source": [
    " # n'oubliez pas d'importer les modules\n",
    "# dont vous avez besoin\n",
    "def random_json():\n",
    "    \"\"\"\n",
    "    returns a JSON-encoded of a list\n",
    "    of 2 to 5 values between 2 and 5\n",
    "    \"\"\"\n",
    "    # votre code ici\n",
    "    pass"
   ]
  },
  {
   "cell_type": "code",
   "execution_count": 25,
   "id": "c7959e70",
   "metadata": {},
   "outputs": [
    {
     "name": "stderr",
     "output_type": "stream",
     "text": [
      "ERROR:root:result None is not a str\n"
     ]
    },
    {
     "name": "stderr",
     "output_type": "stream",
     "text": [
      "ERROR:root:nope, try again\n"
     ]
    }
   ],
   "source": [
    "from check_random_json import check_random_json\n",
    "\n",
    "check_random_json(random_json)"
   ]
  }
 ],
 "metadata": {
  "jupytext": {
   "cell_metadata_filter": "all, -hidden, -heading_collapsed, -run_control, -trusted",
   "notebook_metadata_filter": "all, -jupytext.text_representation.jupytext_version, -jupytext.text_representation.format_version, -language_info.version, -language_info.codemirror_mode.version, -language_info.codemirror_mode, -language_info.file_extension, -language_info.mimetype, -toc",
   "text_representation": {
    "extension": ".md",
    "format_name": "myst"
   }
  },
  "kernelspec": {
   "display_name": "Python 3",
   "language": "python",
   "name": "python3"
  },
  "language_info": {
   "codemirror_mode": {
    "name": "ipython",
    "version": 3
   },
   "file_extension": ".py",
   "mimetype": "text/x-python",
   "name": "python",
   "nbconvert_exporter": "python",
   "pygments_lexer": "ipython3",
   "version": "3.9.5"
  },
  "notebookname": "modules et imports",
  "rise": {
   "autolaunch": true,
   "slideNumber": "c/t",
   "start_slideshow_at": "selected",
   "theme": "sky",
   "transition": "cube"
  },
  "source_map": [
   27,
   37,
   46,
   50,
   62,
   66,
   73,
   82,
   88,
   98,
   102,
   112,
   120,
   131,
   143,
   147,
   151,
   155,
   164,
   174,
   183,
   190,
   194,
   199,
   206,
   211,
   223,
   231,
   237,
   250,
   254,
   263,
   287,
   291,
   299,
   308,
   316,
   320,
   326,
   341,
   349,
   357,
   366,
   377,
   386,
   390,
   399,
   408,
   412,
   421,
   431,
   441,
   455
  ],
  "version": "1.0"
 },
 "nbformat": 4,
 "nbformat_minor": 5
}