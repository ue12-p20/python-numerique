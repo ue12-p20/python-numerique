{
 "cells": [
  {
   "cell_type": "markdown",
   "id": "f173d6af",
   "metadata": {},
   "source": [
    "<div class=\"licence\">\n",
    "<span>Licence CC BY-NC-ND</span>\n",
    "<span>Valérie Roy</span>\n",
    "</div>\n",
    "\n",
    "<img src=\"media/ensmp-25-alpha.png\" />"
   ]
  },
  {
   "cell_type": "markdown",
   "id": "d8c51f9a",
   "metadata": {},
   "source": [
    "# masques et tableaux booléens"
   ]
  },
  {
   "cell_type": "markdown",
   "id": "9c981c74",
   "metadata": {},
   "source": [
    "ou comment tester en même temps *tous les éléments d'un tableau*"
   ]
  },
  {
   "cell_type": "markdown",
   "id": "376d019e",
   "metadata": {},
   "source": [
    "Nous avons vu les fonctions vectorisées (qui s'appliquent à tout un tableau sans recours à une boucle for-Python). Nous avons aussi vu les fonctions qui aggrègent les valeurs suivant les axes des `np.ndarray` et permettent par exemple de sommer les lignes ou les colonnes d'une matrice ou encore trouver le plus petit élément ou son index dans la `np.ndarray`.\n",
    "\n",
    "Nous allons voir une dernière chose qui consiste à tester tous les éléments d'un `np.ndarray` (ou bien sûr d'une slice d'un `np.ndarray`).\n",
    "\n",
    "Il y a deux manières de tester:\n",
    "   - tester tous les éléments et combiner les résultats des tests unitaires en un seul résultat global (le nombre de valeurs paires de votre tableau)\n",
    "   - obtenir le `np.ndarray` de booléens résultats des tests individuels (les éléments qui sont pairs)\n",
    "\n",
    "Nous allons voir rapidement ces deux manières de tester."
   ]
  },
  {
   "cell_type": "code",
   "execution_count": 1,
   "id": "bfb4c9f4",
   "metadata": {},
   "outputs": [],
   "source": [
    "import numpy as np"
   ]
  },
  {
   "cell_type": "markdown",
   "id": "6466110e",
   "metadata": {},
   "source": [
    "## appliquons une condition à un `np.ndarray`"
   ]
  },
  {
   "cell_type": "markdown",
   "id": "29c5aa35",
   "metadata": {},
   "source": [
    "Les conditions s'appliquent à tous les éléments d'un tableau en une seule fois, ce qui signifie que vous ne devez pas écrire de boucle en Python mais laisser les fonctions vectorisées le faire pour vous.\n",
    "\n",
    "Les opérateurs de comparaison sont des fonctions vectorisées (les fameuses *UFuncs*). Elles vont retourner un tableau contenant les résultats des comparaisons éléments-par-élément.\n",
    "   \n",
    "Ce tableau est un *masque booléen* que vous pouvez ensuite utiliser pour filtrer les éléments de votre tableau pour, par exemple, ne garder que ceux pour lesquels la condition est vraie.\n",
    "\n",
    "On va faire tout de suite un exemple. Construisons une matrice de forme `(3 x 4)` qui contient des entiers générés aléatoirement entre `-10` et `10`.\n",
    "\n",
    "Vous rappelez-vous comment faire une telle matrice ? Essayer avec `np.random.randint` et `reshape`:"
   ]
  },
  {
   "cell_type": "code",
   "execution_count": 2,
   "id": "7d898afa",
   "metadata": {},
   "outputs": [],
   "source": [
    "# votre code ici - la correction ci-dessous"
   ]
  },
  {
   "cell_type": "code",
   "execution_count": 3,
   "id": "00c10832",
   "metadata": {
    "cell_style": "center"
   },
   "outputs": [
    {
     "data": {
      "text/plain": [
       "array([[ -3,  -5, -10,  -5],\n",
       "       [  9,   8,   1,   1],\n",
       "       [ -8,  -2,  -9,  -1]])"
      ]
     },
     "execution_count": 3,
     "metadata": {},
     "output_type": "execute_result"
    }
   ],
   "source": [
    "a = np.random.randint(-10, 10, 12).reshape(3, 4)\n",
    "a"
   ]
  },
  {
   "cell_type": "markdown",
   "id": "fca2ee46",
   "metadata": {},
   "source": [
    "Testons la parité des élements (avec le modulo `%`)."
   ]
  },
  {
   "cell_type": "code",
   "execution_count": 4,
   "id": "6f2afbc8",
   "metadata": {},
   "outputs": [
    {
     "data": {
      "text/plain": [
       "array([[1, 1, 0, 1],\n",
       "       [1, 0, 1, 1],\n",
       "       [0, 0, 1, 1]])"
      ]
     },
     "execution_count": 4,
     "metadata": {},
     "output_type": "execute_result"
    }
   ],
   "source": [
    "a%2"
   ]
  },
  {
   "cell_type": "markdown",
   "id": "8d99bf91",
   "metadata": {},
   "source": [
    "Comparons les résultats à `0`:"
   ]
  },
  {
   "cell_type": "code",
   "execution_count": 5,
   "id": "654bae87",
   "metadata": {},
   "outputs": [
    {
     "data": {
      "text/plain": [
       "array([[False, False,  True, False],\n",
       "       [False,  True, False, False],\n",
       "       [ True,  True, False, False]])"
      ]
     },
     "execution_count": 5,
     "metadata": {},
     "output_type": "execute_result"
    }
   ],
   "source": [
    "a%2 == 0"
   ]
  },
  {
   "cell_type": "markdown",
   "id": "b03cc7c4",
   "metadata": {},
   "source": [
    "Nous obtenons un tableau un *masque* de booléens.\n",
    "\n",
    "Les deux manières d'utiliser ce masque sont:\n",
    "\n",
    "* soit de manière globale pour savoir, par exemple, le nombre d'éléments pairs de votre tableau \n",
    "* soit pour filtrer votre matrice initiale, en ne gardant par exemple que les éléments pairs."
   ]
  },
  {
   "cell_type": "markdown",
   "id": "f45a14fb",
   "metadata": {},
   "source": [
    "## prendre le résultat global d'une condition"
   ]
  },
  {
   "cell_type": "markdown",
   "id": "1b9ab025",
   "metadata": {},
   "source": [
    "Vous pouvez faire des manipulations, de la matrice des résultats d'une condition, de manière globale avec `np.all` et `np.any` - qu'on a déjà rencontrés, rappelez-vous, dans la section sur les agrégations\n",
    "\n",
    "La permière fonction vous dit si tous les éléments de votre matrice répondent à la condition et la seconde si au moins un élément de votre matrice répond à la condition."
   ]
  },
  {
   "cell_type": "markdown",
   "id": "2a1f911d",
   "metadata": {},
   "source": [
    "Tous les éléments de la matrice sont-ils pairs ?"
   ]
  },
  {
   "cell_type": "code",
   "execution_count": 6,
   "id": "d5229270",
   "metadata": {},
   "outputs": [
    {
     "data": {
      "text/plain": [
       "False"
      ]
     },
     "execution_count": 6,
     "metadata": {},
     "output_type": "execute_result"
    }
   ],
   "source": [
    "np.all(a%2==0)"
   ]
  },
  {
   "cell_type": "markdown",
   "id": "77581bbe",
   "metadata": {},
   "source": [
    "Non (ou alors vous avez une chance incroyable, une chance sur 4096 que ça se produise).\n",
    "\n",
    "Y-a-t-il au moins un élément pair ?"
   ]
  },
  {
   "cell_type": "code",
   "execution_count": 7,
   "id": "822bec78",
   "metadata": {},
   "outputs": [
    {
     "data": {
      "text/plain": [
       "True"
      ]
     },
     "execution_count": 7,
     "metadata": {},
     "output_type": "execute_result"
    }
   ],
   "source": [
    "# sans doute vrai \n",
    "np.any(a%2==0)"
   ]
  },
  {
   "cell_type": "markdown",
   "id": "1843d04f",
   "metadata": {},
   "source": [
    "Pour information, il existe aussi une fonction qui permet de compter les éléments qui ne sont pas nuls:"
   ]
  },
  {
   "cell_type": "code",
   "execution_count": 8,
   "id": "4c3c97de",
   "metadata": {},
   "outputs": [
    {
     "data": {
      "text/plain": [
       "4"
      ]
     },
     "execution_count": 8,
     "metadata": {},
     "output_type": "execute_result"
    }
   ],
   "source": [
    "np.count_nonzero(a%2==0)"
   ]
  },
  {
   "cell_type": "markdown",
   "id": "d0e69b3b",
   "metadata": {},
   "source": [
    "## filtrer les éléments d'un tableau par une condition"
   ]
  },
  {
   "cell_type": "markdown",
   "id": "645957df",
   "metadata": {},
   "source": [
    "Reprenons notre matrice des 12 entiers générés aléatoirement entre `-10` et `10`. Nous ne voulons garder que les éléments pairs de notre matrice.\n",
    "\n",
    "Générons le masque booléen des nombres pairs:"
   ]
  },
  {
   "cell_type": "code",
   "execution_count": 9,
   "id": "88d8ac03",
   "metadata": {},
   "outputs": [
    {
     "data": {
      "text/plain": [
       "array([[False, False,  True, False],\n",
       "       [False,  True, False, False],\n",
       "       [ True,  True, False, False]])"
      ]
     },
     "execution_count": 9,
     "metadata": {},
     "output_type": "execute_result"
    }
   ],
   "source": [
    "pairs = (a%2==0)\n",
    "pairs"
   ]
  },
  {
   "cell_type": "markdown",
   "id": "d1e08d45",
   "metadata": {},
   "source": [
    "Ce masque a naturellement la même forme que votre matrice. Pour **ne garder que** les éléments pairs, (on dit qu'on filtre les éléments de la matrice par ce masque de booléens), nous allons **indexer** la matrice par ce masque:"
   ]
  },
  {
   "cell_type": "code",
   "execution_count": 10,
   "id": "f550a8e0",
   "metadata": {},
   "outputs": [
    {
     "data": {
      "text/plain": [
       "array([-10,   8,  -8,  -2])"
      ]
     },
     "execution_count": 10,
     "metadata": {},
     "output_type": "execute_result"
    }
   ],
   "source": [
    "# cette construction n'est pas anodine\n",
    "# l'expression dans les [] est **elle-même un tableau** !\n",
    "a[a%2==0] # ou faire a[pairs]"
   ]
  },
  {
   "cell_type": "code",
   "execution_count": 11,
   "id": "c797591a",
   "metadata": {
    "cell_style": "split"
   },
   "outputs": [
    {
     "data": {
      "text/plain": [
       "numpy.ndarray"
      ]
     },
     "execution_count": 11,
     "metadata": {},
     "output_type": "execute_result"
    }
   ],
   "source": [
    "# comme on peut le voir ici\n",
    "type(pairs)"
   ]
  },
  {
   "cell_type": "code",
   "execution_count": 12,
   "id": "cc0a8b3a",
   "metadata": {
    "cell_style": "split"
   },
   "outputs": [
    {
     "data": {
      "text/plain": [
       "numpy.ndarray"
      ]
     },
     "execution_count": 12,
     "metadata": {},
     "output_type": "execute_result"
    }
   ],
   "source": [
    "type(a[pairs])"
   ]
  },
  {
   "cell_type": "markdown",
   "id": "42a657e4",
   "metadata": {},
   "source": [
    "Vous avez obtenu un nouveau tableau de type `np.ndarray` qui contient les éléments pairs. Maintenant essayons de composer les conditions sous forme d'une expression logique (e.g. pour faire des `et` ou des `ou` et `non` entre expressions)"
   ]
  },
  {
   "cell_type": "markdown",
   "id": "7d78fb68",
   "metadata": {},
   "source": [
    "## composer les conditions"
   ]
  },
  {
   "cell_type": "markdown",
   "id": "b1c5ada3",
   "metadata": {},
   "source": [
    "Pour composer les conditions\n",
    "\n",
    "* vous **devez** utiliser les opérateurs logiques *bit-à-bit* (ou ***bitwise***) `&` (pour et), `|` (pour ou), `~` (pour non) \n",
    "* ou leur contrepartie `numpy` qui sont respectivement `np.logical_and`, `np.logical_or`, `np.logical_not`.\n",
    "\n",
    "Et vous devez parenthéser les sous-termes de vos expressions."
   ]
  },
  {
   "cell_type": "markdown",
   "id": "6133787f",
   "metadata": {},
   "source": [
    "Si nous voulons les éléments qui ne sont pas pairs et qui sont strictement inférieurs à 6, calculons le masque et indexons notre matrice avec ce masque:"
   ]
  },
  {
   "cell_type": "code",
   "execution_count": 13,
   "id": "0f23c46d",
   "metadata": {},
   "outputs": [
    {
     "data": {
      "text/plain": [
       "array([[ True,  True, False,  True],\n",
       "       [False, False,  True,  True],\n",
       "       [False, False,  True,  True]])"
      ]
     },
     "execution_count": 13,
     "metadata": {},
     "output_type": "execute_result"
    }
   ],
   "source": [
    "(a < 6) & ~(a%2==0) # le masque"
   ]
  },
  {
   "cell_type": "code",
   "execution_count": 14,
   "id": "45cb64f8",
   "metadata": {},
   "outputs": [
    {
     "data": {
      "text/plain": [
       "array([-3, -5, -5,  1,  1, -9, -1])"
      ]
     },
     "execution_count": 14,
     "metadata": {},
     "output_type": "execute_result"
    }
   ],
   "source": [
    "a[(a < 6) & ~(a%2==0)] # l'indexation du tableau par le masque"
   ]
  },
  {
   "cell_type": "markdown",
   "id": "cfdc649c",
   "metadata": {},
   "source": [
    "Ou en version *loooongue*"
   ]
  },
  {
   "cell_type": "code",
   "execution_count": 15,
   "id": "51d534fb",
   "metadata": {},
   "outputs": [
    {
     "data": {
      "text/plain": [
       "array([-3, -5, -5,  1,  1, -9, -1])"
      ]
     },
     "execution_count": 15,
     "metadata": {},
     "output_type": "execute_result"
    }
   ],
   "source": [
    "a[np.logical_and(a < 6, np.logical_not(a%2==0))]"
   ]
  },
  {
   "cell_type": "markdown",
   "id": "d114e543",
   "metadata": {},
   "source": [
    "### mise en garde"
   ]
  },
  {
   "cell_type": "markdown",
   "id": "200e8c16",
   "metadata": {},
   "source": [
    "Cette façon de faire à base d'opérateurs *bitwise* n'est pas forcément très intuitive… \n",
    "en Python on aurait eu envie d'utiliser par exemple les opérateurs `and` et `not`, au lieu de `&` et `~`\n",
    "\n",
    "Il ne faut pas le faire, et **ça ne fonctionne pas** de toutes façons (les opérateurs logiques Python `and`, `or` et `not` ne sont PAS vectorisés)"
   ]
  },
  {
   "cell_type": "code",
   "execution_count": 16,
   "id": "02752859",
   "metadata": {
    "tags": [
     "raises-exception"
    ]
   },
   "outputs": [
    {
     "ename": "ValueError",
     "evalue": "The truth value of an array with more than one element is ambiguous. Use a.any() or a.all()",
     "output_type": "error",
     "traceback": [
      "\u001b[0;31m---------------------------------------------------------------------------\u001b[0m",
      "\u001b[0;31mValueError\u001b[0m                                Traceback (most recent call last)",
      "\u001b[0;32m/tmp/ipykernel_1942/3948634469.py\u001b[0m in \u001b[0;36m<module>\u001b[0;34m\u001b[0m\n\u001b[1;32m      1\u001b[0m \u001b[0;31m# au lieu de (a < 6) & ~(a%2==0)\u001b[0m\u001b[0;34m\u001b[0m\u001b[0;34m\u001b[0m\u001b[0;34m\u001b[0m\u001b[0m\n\u001b[1;32m      2\u001b[0m \u001b[0;31m# on pourrait avoir envie d'écrire\u001b[0m\u001b[0;34m\u001b[0m\u001b[0;34m\u001b[0m\u001b[0;34m\u001b[0m\u001b[0m\n\u001b[0;32m----> 3\u001b[0;31m \u001b[0;34m(\u001b[0m\u001b[0ma\u001b[0m \u001b[0;34m<\u001b[0m \u001b[0;36m6\u001b[0m\u001b[0;34m)\u001b[0m \u001b[0;32mand\u001b[0m \u001b[0;32mnot\u001b[0m \u001b[0;34m(\u001b[0m\u001b[0ma\u001b[0m\u001b[0;34m%\u001b[0m\u001b[0;36m2\u001b[0m\u001b[0;34m==\u001b[0m\u001b[0;36m0\u001b[0m\u001b[0;34m)\u001b[0m\u001b[0;34m\u001b[0m\u001b[0;34m\u001b[0m\u001b[0m\n\u001b[0m\u001b[1;32m      4\u001b[0m \u001b[0;34m\u001b[0m\u001b[0m\n\u001b[1;32m      5\u001b[0m \u001b[0;31m# mais ça ne marche pas...\u001b[0m\u001b[0;34m\u001b[0m\u001b[0;34m\u001b[0m\u001b[0;34m\u001b[0m\u001b[0m\n",
      "\u001b[0;31mValueError\u001b[0m: The truth value of an array with more than one element is ambiguous. Use a.any() or a.all()"
     ]
    }
   ],
   "source": [
    "# au lieu de (a < 6) & ~(a%2==0)\n",
    "# on pourrait avoir envie d'écrire\n",
    "(a < 6) and not (a%2==0)\n",
    "\n",
    "# mais ça ne marche pas..."
   ]
  },
  {
   "cell_type": "markdown",
   "id": "113f4d18",
   "metadata": {},
   "source": [
    "## compter les éléments répondant à une condition"
   ]
  },
  {
   "cell_type": "markdown",
   "id": "8c82e579",
   "metadata": {},
   "source": [
    "Nous allons compter les éléments répondant à une condition:"
   ]
  },
  {
   "cell_type": "code",
   "execution_count": 17,
   "id": "8cff0ebb",
   "metadata": {},
   "outputs": [
    {
     "data": {
      "text/plain": [
       "7"
      ]
     },
     "execution_count": 17,
     "metadata": {},
     "output_type": "execute_result"
    }
   ],
   "source": [
    "# on pourrait à la rigueur utiliser sum() aussi\n",
    "np.count_nonzero((a < 6) & ~(a%2==0))"
   ]
  },
  {
   "cell_type": "markdown",
   "id": "bb6d2bc3",
   "metadata": {},
   "source": [
    "Et naturellement vous pouvez compter ces éléments le long des axes de votre `np.ndarray`. Par exemple pour avoir le nombre d'éléments impairs inférieurs à 6 de chaque colonne, je vais travailler dans l'axe des lignes (axe 0 ici):"
   ]
  },
  {
   "cell_type": "code",
   "execution_count": 18,
   "id": "37aea778",
   "metadata": {},
   "outputs": [
    {
     "data": {
      "text/plain": [
       "array([1, 1, 2, 3])"
      ]
     },
     "execution_count": 18,
     "metadata": {},
     "output_type": "execute_result"
    }
   ],
   "source": [
    "np.count_nonzero((a < 6) & ~(a%2==0), axis=0)"
   ]
  },
  {
   "cell_type": "markdown",
   "id": "192a38a6",
   "metadata": {},
   "source": [
    "Si on veut le nombre d'éléments impairs inférieurs à 6 dans les lignes, je vais compter dans l'axe des colonnes:"
   ]
  },
  {
   "cell_type": "code",
   "execution_count": 19,
   "id": "3820abe3",
   "metadata": {},
   "outputs": [
    {
     "data": {
      "text/plain": [
       "array([3, 2, 2])"
      ]
     },
     "execution_count": 19,
     "metadata": {},
     "output_type": "execute_result"
    }
   ],
   "source": [
    "np.count_nonzero((a < 6) & ~(a%2==0), axis=1)"
   ]
  },
  {
   "cell_type": "markdown",
   "id": "debb9336",
   "metadata": {},
   "source": [
    "Et maintenant que nous avons extrait les éléments d'un `np.ndarray` avec une condition, donnons-lui un nom et essayons de modifier un de ses éléments. Faisons simple, prenons le tableau des éléments négatifs et modifions (si il existe) le premier."
   ]
  },
  {
   "cell_type": "code",
   "execution_count": 20,
   "id": "2457fedf",
   "metadata": {},
   "outputs": [
    {
     "data": {
      "text/plain": [
       "array([ -3,  -5, -10,  -5,  -8,  -2,  -9,  -1])"
      ]
     },
     "execution_count": 20,
     "metadata": {},
     "output_type": "execute_result"
    }
   ],
   "source": [
    "nouveau_tableau = a[a<0]\n",
    "nouveau_tableau"
   ]
  },
  {
   "cell_type": "code",
   "execution_count": 21,
   "id": "53a44114",
   "metadata": {},
   "outputs": [
    {
     "data": {
      "text/plain": [
       "array([-999,   -5,  -10,   -5,   -8,   -2,   -9,   -1])"
      ]
     },
     "execution_count": 21,
     "metadata": {},
     "output_type": "execute_result"
    }
   ],
   "source": [
    "nouveau_tableau[0] = -999\n",
    "nouveau_tableau"
   ]
  },
  {
   "cell_type": "markdown",
   "id": "81daead8",
   "metadata": {},
   "source": [
    "Notre `nouveau_tableau` est bien modifié. Pensez-vous qu'il en soit de même dans la matrice d'origine ? Non, ce `np.ndarray` est un tableau complètement différent où les éléments de la matrice d'origine ont été recopiés ! Ce n'est pas une vue sur le tableau d'origine. Pour le voir affichons-le:"
   ]
  },
  {
   "cell_type": "code",
   "execution_count": 22,
   "id": "2cb1f301",
   "metadata": {},
   "outputs": [
    {
     "data": {
      "text/plain": [
       "array([[ -3,  -5, -10,  -5],\n",
       "       [  9,   8,   1,   1],\n",
       "       [ -8,  -2,  -9,  -1]])"
      ]
     },
     "execution_count": 22,
     "metadata": {},
     "output_type": "execute_result"
    }
   ],
   "source": [
    "a"
   ]
  },
  {
   "cell_type": "markdown",
   "id": "c48e390d",
   "metadata": {},
   "source": [
    "Si nous voulions modifier les éléments de la matrice d'origine vous devez les repérer par leurs indices.\n",
    "\n",
    "Nous allons prendre les indices de ces éléments dans la matrice d'origine, accéder à ces eléments et les modifier les modifier."
   ]
  },
  {
   "cell_type": "markdown",
   "id": "115fb60f",
   "metadata": {},
   "source": [
    "## calculer les indices des éléments dans le tableau d'origine"
   ]
  },
  {
   "cell_type": "markdown",
   "id": "a320307e",
   "metadata": {},
   "source": [
    "Nous venons de voir que quand nous \"isolons\" les éléments, d'une matrice, qui obéissent à une condition, ils sont recopiés dans un nouvel `np.ndarray` et nous ne pouvons pas les modifier à partir de ce nouveau tableau.\n",
    "\n",
    "Si nous voulons accéder aux éléments, qui obéissent à la condition, dans la matrice d'origine: il faut passer par leurs indices.\n",
    "\n",
    "Ainsi il va nous falloir des fonctions qui nous retournent les indices de ces éléments. Non, il n'est toujours pas question de le faire à-la-main en parcourant le `np.ndarray` avec des boucles for-Python: ce serait beaucoup trop cher en temps.\n",
    "\n",
    "Nous allons voir plusieurs manières de faire."
   ]
  },
  {
   "cell_type": "markdown",
   "id": "5914d9f1",
   "metadata": {},
   "source": [
    "### la fonction `np.nonzero`"
   ]
  },
  {
   "cell_type": "markdown",
   "id": "ff4f2497",
   "metadata": {},
   "source": [
    "La fonction `np.nonzero` renvoie les indices des éléments, qui ne sont pas `False` ou `0`, sous la forme d'un tuple de liste d'indices, le tuple étant de la même dimension que le tableau.\n",
    "\n",
    "Par exemple si notre tableau `num.ndarray` est de dimension 2: la fonction renvoie deux listes d'indices, la première liste contient les indices des lignes et la seconde des colonnes."
   ]
  },
  {
   "cell_type": "markdown",
   "id": "1a3cc488",
   "metadata": {},
   "source": [
    "À vous de jouer. Créez une matrice *b* de taille *(3, 4)* qui contient les entiers entre 1 et 12. Créez le masque des éléments qui sont divisibles par *3* et appliquez la fonction `np.nonzero` à ce masque.\n",
    "\n",
    "Que devez-vous obtenir ? Les éléments 3, 6, 9, 12 étant respectivement aux indices *(0, 2), (1, 1), (2, 0)* et *(2, 3)*, si on sépare les indices de lignes et les indices de colonne, on obtient un tuple contenant les deux ndarray *(0, 1, 2, 2)* et *(2, 1, 0, 3)*.\n",
    "\n",
    "Essayez de le faire:"
   ]
  },
  {
   "cell_type": "code",
   "execution_count": 23,
   "id": "cd2659a4",
   "metadata": {},
   "outputs": [],
   "source": [
    "# votre code ici (la correction ci-dessous)"
   ]
  },
  {
   "cell_type": "code",
   "execution_count": 24,
   "id": "0a0b1a1d",
   "metadata": {
    "cell_style": "split"
   },
   "outputs": [
    {
     "data": {
      "text/plain": [
       "array([[ 1,  2,  3,  4],\n",
       "       [ 5,  6,  7,  8],\n",
       "       [ 9, 10, 11, 12]])"
      ]
     },
     "execution_count": 24,
     "metadata": {},
     "output_type": "execute_result"
    }
   ],
   "source": [
    "# la correction\n",
    "b = np.arange(1, 13).reshape(3, 4)\n",
    "b"
   ]
  },
  {
   "cell_type": "code",
   "execution_count": 25,
   "id": "d513ac79",
   "metadata": {
    "cell_style": "split"
   },
   "outputs": [
    {
     "data": {
      "text/plain": [
       "(array([0, 1, 2, 2]), array([2, 1, 0, 3]))"
      ]
     },
     "execution_count": 25,
     "metadata": {},
     "output_type": "execute_result"
    }
   ],
   "source": [
    "view_index = np.nonzero(b%3==0)\n",
    "\n",
    "# comme b est de dimension 2,\n",
    "# view_index est un tuple de 2 ndarray\n",
    "view_index"
   ]
  },
  {
   "cell_type": "markdown",
   "id": "1dbf7b44",
   "metadata": {},
   "source": [
    "C'est là que ça devient un peu **magique**  \n",
    "car si je prends la matrice `b`, je peux **l'indicer avec ce tuple** et créer ainsi **une vue** sur la matrice `b` qui ne contient **QUE les éléments** qui nous intéressent et les modifier !"
   ]
  },
  {
   "cell_type": "code",
   "execution_count": 26,
   "id": "1a657e7e",
   "metadata": {
    "cell_style": "center"
   },
   "outputs": [
    {
     "data": {
      "text/plain": [
       "array([ 3,  6,  9, 12])"
      ]
     },
     "execution_count": 26,
     "metadata": {},
     "output_type": "execute_result"
    }
   ],
   "source": [
    "b[view_index] # voila les éléments"
   ]
  },
  {
   "cell_type": "markdown",
   "id": "20f2a671",
   "metadata": {},
   "source": [
    "Que je peux donc modifier !"
   ]
  },
  {
   "cell_type": "code",
   "execution_count": 27,
   "id": "e8556696",
   "metadata": {},
   "outputs": [
    {
     "data": {
      "text/plain": [
       "array([[  1,   2,  30,   4],\n",
       "       [  5,  60,   7,   8],\n",
       "       [ 90,  10,  11, 120]])"
      ]
     },
     "execution_count": 27,
     "metadata": {},
     "output_type": "execute_result"
    }
   ],
   "source": [
    "b[view_index] = b[view_index] * 10\n",
    "b"
   ]
  },
  {
   "cell_type": "markdown",
   "id": "ee0a5d33",
   "metadata": {},
   "source": [
    "Voila qui est bien utile pour créer une vue sur un ensemble d'arbitraire d'éléments donnés par leurs indices."
   ]
  },
  {
   "cell_type": "markdown",
   "id": "3c362dbd",
   "metadata": {
    "tags": []
   },
   "source": [
    "### la fonction `np.argwhere`"
   ]
  },
  {
   "cell_type": "markdown",
   "id": "328b8d4b",
   "metadata": {
    "tags": []
   },
   "source": [
    "La fonction `np.argwhere` renvoie les indices des éléments pour lesquels un masque est vrai. Elle renvoie un tableau (`np.ndarray`), de dimension 2, avec autant de lignes que d'éléments qui *matchent* et chaque ligne donne les index de l'élément dans chacune des colonnes de la matrice d'origine.\n",
    "\n",
    "si on cherche les éléments pairs de la matrice $\\begin{bmatrix} [1 & 2 & 3] \\\\ [4 & 5 & 6] \\end{bmatrix}$ on obtient le `np.ndarray` suivant $\\begin{bmatrix}[ 0&1 ]\\\\ [1&0]\\\\ [1&2]\\\\\\end{bmatrix}$"
   ]
  },
  {
   "cell_type": "code",
   "execution_count": 28,
   "id": "f176d24b",
   "metadata": {
    "tags": []
   },
   "outputs": [
    {
     "data": {
      "text/plain": [
       "array([[1, 2, 3],\n",
       "       [4, 5, 6]])"
      ]
     },
     "execution_count": 28,
     "metadata": {},
     "output_type": "execute_result"
    }
   ],
   "source": [
    "aux = np.array([[1, 2, 3], [4, 5, 6]])\n",
    "aux"
   ]
  },
  {
   "cell_type": "code",
   "execution_count": 29,
   "id": "ea872f15",
   "metadata": {
    "tags": []
   },
   "outputs": [
    {
     "data": {
      "text/plain": [
       "array([[0, 1],\n",
       "       [1, 0],\n",
       "       [1, 2]])"
      ]
     },
     "execution_count": 29,
     "metadata": {},
     "output_type": "execute_result"
    }
   ],
   "source": [
    "np.argwhere(aux%2==0)"
   ]
  },
  {
   "cell_type": "markdown",
   "id": "f9e53b45",
   "metadata": {
    "tags": [
     "level_advanced"
    ]
   },
   "source": [
    "En fait donc les deux utilitaires `np.nonzero` et `np.argwhere` font à peu près le même travail, simplement les coordonnées des points qui *matchent* sont retournés dans des formats qui sont différents"
   ]
  },
  {
   "cell_type": "code",
   "execution_count": 30,
   "id": "452dcfcf",
   "metadata": {
    "tags": [
     "level_advanced"
    ]
   },
   "outputs": [
    {
     "data": {
      "text/plain": [
       "array([[ 1,  2,  3,  4],\n",
       "       [ 5,  6,  7,  8],\n",
       "       [ 9, 10, 11, 12]])"
      ]
     },
     "execution_count": 30,
     "metadata": {},
     "output_type": "execute_result"
    }
   ],
   "source": [
    "# si on reprend l'exemple précédent\n",
    "b = np.arange(1, 13).reshape(3, 4)\n",
    "b"
   ]
  },
  {
   "cell_type": "code",
   "execution_count": 31,
   "id": "510ea611",
   "metadata": {
    "cell_style": "split",
    "tags": [
     "level_advanced"
    ]
   },
   "outputs": [
    {
     "data": {
      "text/plain": [
       "(array([0, 1, 2, 2]), array([2, 1, 0, 3]))"
      ]
     },
     "execution_count": 31,
     "metadata": {},
     "output_type": "execute_result"
    }
   ],
   "source": [
    "# le résultat de nonzero\n",
    "# est un tuple conçu \n",
    "# pour pouvoir créer une vue\n",
    "\n",
    "np.nonzero(b%3==0)"
   ]
  },
  {
   "cell_type": "code",
   "execution_count": 32,
   "id": "0b1c329c",
   "metadata": {
    "cell_style": "split",
    "tags": [
     "level_advanced"
    ]
   },
   "outputs": [
    {
     "data": {
      "text/plain": [
       "array([[0, 2],\n",
       "       [1, 1],\n",
       "       [2, 0],\n",
       "       [2, 3]])"
      ]
     },
     "execution_count": 32,
     "metadata": {},
     "output_type": "execute_result"
    }
   ],
   "source": [
    "# le résultat de argwhere est\n",
    "# disons plus *human-friendly*\n",
    "np.argwhere(b%3==0)"
   ]
  },
  {
   "cell_type": "code",
   "execution_count": 33,
   "id": "819e3e0d",
   "metadata": {
    "tags": [
     "level_advanced"
    ]
   },
   "outputs": [
    {
     "data": {
      "text/plain": [
       "[(0, 2), (1, 1), (2, 0), (2, 3)]"
      ]
     },
     "execution_count": 33,
     "metadata": {},
     "output_type": "execute_result"
    }
   ],
   "source": [
    "# remarquez que pour reconstruire le résultat de argwhere\n",
    "# à partir de celui de nonzero \n",
    "# on pourrait faire par exemple\n",
    "list(zip(*view_index))"
   ]
  },
  {
   "cell_type": "markdown",
   "id": "f40fb32e",
   "metadata": {
    "tags": []
   },
   "source": [
    "À vous de jouer. Faites un tableau de dimension 3 de taille `(2, 3, 4)` initialisé avec les entiers de `1` à `25` et demandez les indices des nombres divisibles par `5`.\n",
    "\n",
    "Imprimer le masque et sa forme:"
   ]
  },
  {
   "cell_type": "code",
   "execution_count": 34,
   "id": "fc18c432",
   "metadata": {},
   "outputs": [],
   "source": [
    "# votre code ici (la correction dessous)"
   ]
  },
  {
   "cell_type": "code",
   "execution_count": 35,
   "id": "ab24fe86",
   "metadata": {
    "cell_style": "split"
   },
   "outputs": [
    {
     "data": {
      "text/plain": [
       "array([[[False, False, False, False],\n",
       "        [ True, False, False, False],\n",
       "        [False,  True, False, False]],\n",
       "\n",
       "       [[False, False,  True, False],\n",
       "        [False, False, False,  True],\n",
       "        [False, False, False, False]]])"
      ]
     },
     "execution_count": 35,
     "metadata": {},
     "output_type": "execute_result"
    }
   ],
   "source": [
    "# la correction\n",
    "a = np.arange(1, 25).reshape(2, 3, 4)\n",
    "a%5 == 0"
   ]
  },
  {
   "cell_type": "code",
   "execution_count": 36,
   "id": "68e53595",
   "metadata": {
    "cell_style": "split"
   },
   "outputs": [
    {
     "data": {
      "text/plain": [
       "array([[0, 1, 0],\n",
       "       [0, 2, 1],\n",
       "       [1, 0, 2],\n",
       "       [1, 1, 3]])"
      ]
     },
     "execution_count": 36,
     "metadata": {},
     "output_type": "execute_result"
    }
   ],
   "source": [
    "indices = np.argwhere(a%5==0)\n",
    "indices"
   ]
  },
  {
   "cell_type": "code",
   "execution_count": 37,
   "id": "22e79358",
   "metadata": {},
   "outputs": [
    {
     "data": {
      "text/plain": [
       "(4, 3)"
      ]
     },
     "execution_count": 37,
     "metadata": {},
     "output_type": "execute_result"
    }
   ],
   "source": [
    "# il y a 4 points qui matchent\n",
    "# et pour chacun 3 dimensions, c'est pourquoi\n",
    "indices.shape"
   ]
  },
  {
   "cell_type": "markdown",
   "id": "0df7f71a",
   "metadata": {},
   "source": [
    "Il n'y a pas de manière directe d'indices votre tableau `a` par ces indices, il faudrait reconstruire le tuple des listes d'indices dans toutes les dimensions.\n",
    "\n",
    "Ici il faudrait reconstruire: `([0, 0, 1, 1], [1, 2, 0, 1], [0, 1, 2, 3])` et faire:"
   ]
  },
  {
   "cell_type": "code",
   "execution_count": 38,
   "id": "ab09ea3b",
   "metadata": {},
   "outputs": [
    {
     "data": {
      "text/plain": [
       "array([ 5, 10, 15, 20])"
      ]
     },
     "execution_count": 38,
     "metadata": {},
     "output_type": "execute_result"
    }
   ],
   "source": [
    "a[([0, 0, 1, 1], [1, 2, 0, 1], [0, 1, 2, 3])] # oui on utilise un tuple de listes et pas de ndarray"
   ]
  },
  {
   "cell_type": "markdown",
   "id": "b1482ac6",
   "metadata": {
    "tags": [
     "level_advanced"
    ]
   },
   "source": [
    "Maintenant que vous avez calculé les indices des éléments divisibles par 5 de votre tableau `a`, comment atteindre ces éléments dans la matrice `a` ?\n",
    "\n",
    "À vous de jouer. Essayez, à partir du tableau `indices` de modifier les éléments de votre tableau `a` (par exemple pour les remplacer par *999*)."
   ]
  },
  {
   "cell_type": "code",
   "execution_count": 39,
   "id": "05e05d79",
   "metadata": {
    "tags": [
     "level_advanced"
    ]
   },
   "outputs": [],
   "source": [
    "# votre code ici (une correction ci-dessous)"
   ]
  },
  {
   "cell_type": "code",
   "execution_count": 40,
   "id": "ae3116a5",
   "metadata": {
    "tags": [
     "level_advanced"
    ]
   },
   "outputs": [
    {
     "data": {
      "text/plain": [
       "array([ 5, 10, 15, 20])"
      ]
     },
     "execution_count": 40,
     "metadata": {},
     "output_type": "execute_result"
    }
   ],
   "source": [
    "# une correction\n",
    "a[tuple(indices[:, i] for i in range(indices.shape[1]))]"
   ]
  },
  {
   "cell_type": "code",
   "execution_count": 41,
   "id": "50f941a7",
   "metadata": {
    "tags": [
     "level_advanced"
    ]
   },
   "outputs": [
    {
     "data": {
      "text/plain": [
       "array([ 5, 10, 15, 20])"
      ]
     },
     "execution_count": 41,
     "metadata": {},
     "output_type": "execute_result"
    }
   ],
   "source": [
    "# une autre correction qui utilise la transposition de matrice (que nous verrons un peu après)\n",
    "a[tuple(indices.T)]"
   ]
  },
  {
   "cell_type": "markdown",
   "id": "03beaaff",
   "metadata": {},
   "source": [
    "## modifier les éléments d'un `np.ndarray` avec `putmask`"
   ]
  },
  {
   "cell_type": "markdown",
   "id": "46548691",
   "metadata": {},
   "source": [
    "Dans un `numpy.ndarray`, la fonction `np.putmask` remplace, les éléments obéissant à un masque, par une valeur donnée en argument. On ne verra que l'exemple avec une valeur unique.\n",
    "\n",
    "La modification est effectuée dans le tableau (en place).\n",
    "\n",
    "On va voir l'exemple avec une seule valeur. Construisons un tableau de forme *(2, 5)* de *10* nombre aléatoires de loi normale $N(0, 1)$ (avec `np.random.randn`) et remplacons tous les éléments entre *-0.5* et *0.5* par 1."
   ]
  },
  {
   "cell_type": "code",
   "execution_count": 42,
   "id": "2edae6dc",
   "metadata": {},
   "outputs": [
    {
     "data": {
      "text/plain": [
       "array([[-1.441431  ,  0.28528017, -0.24982733, -1.78841097,  0.63434839],\n",
       "       [-1.16390808, -1.71645579, -0.62590701,  0.87624943,  0.39401518]])"
      ]
     },
     "execution_count": 42,
     "metadata": {},
     "output_type": "execute_result"
    }
   ],
   "source": [
    "a = np.random.randn(10).reshape(2, 5)\n",
    "a"
   ]
  },
  {
   "cell_type": "code",
   "execution_count": 43,
   "id": "c976195d",
   "metadata": {},
   "outputs": [],
   "source": [
    "np.putmask(a, (-0.5 < a) & (a < 0.5), 0)"
   ]
  },
  {
   "cell_type": "code",
   "execution_count": 44,
   "id": "7dc0a99c",
   "metadata": {},
   "outputs": [
    {
     "data": {
      "text/plain": [
       "array([[-1.441431  ,  0.        ,  0.        , -1.78841097,  0.63434839],\n",
       "       [-1.16390808, -1.71645579, -0.62590701,  0.87624943,  0.        ]])"
      ]
     },
     "execution_count": 44,
     "metadata": {},
     "output_type": "execute_result"
    }
   ],
   "source": [
    "a"
   ]
  },
  {
   "cell_type": "markdown",
   "id": "2ff73549",
   "metadata": {},
   "source": [
    "## exercices"
   ]
  },
  {
   "cell_type": "markdown",
   "id": "1b7780fc",
   "metadata": {},
   "source": [
    "### modifier la gaussienne"
   ]
  },
  {
   "cell_type": "markdown",
   "id": "adb20a62",
   "metadata": {},
   "source": [
    "À vous de jouer. Faites un `np.ndarray` que vous initialisez-le avec des nombres aléatoirement tirés d'une distribution de loi normale de moyenne *3* et de variance *6.25* ($N(3, 6.25)$ avec `np.random.randn`. Comptez les éléments qui sont inférieurs à *-5* ainsi que ceux qui sont supérieurs à *10* et remplacez les tous par la moyenne. Faites le de plusieurs manières différentes."
   ]
  },
  {
   "cell_type": "markdown",
   "id": "b7228020",
   "metadata": {},
   "source": [
    "Avant de commencer, dans la cellule suivante je vous montre comment afficher un histogramme d'un vecteur de points. Afin que nous voyez graphiquement ce qui se passe:"
   ]
  },
  {
   "cell_type": "code",
   "execution_count": 45,
   "id": "29ba9364",
   "metadata": {},
   "outputs": [
    {
     "data": {
      "text/plain": [
       "(array([  2.,   1.,  12.,  12.,  36.,  52., 110., 165., 280., 411., 579.,\n",
       "        668., 782., 949., 966., 969., 904., 814., 696., 517., 374., 286.,\n",
       "        183., 100.,  80.,  28.,  13.,   6.,   4.,   1.]),\n",
       " array([-3.69336082, -3.44771811, -3.20207541, -2.95643271, -2.71079001,\n",
       "        -2.4651473 , -2.2195046 , -1.9738619 , -1.72821919, -1.48257649,\n",
       "        -1.23693379, -0.99129108, -0.74564838, -0.50000568, -0.25436297,\n",
       "        -0.00872027,  0.23692243,  0.48256513,  0.72820784,  0.97385054,\n",
       "         1.21949324,  1.46513595,  1.71077865,  1.95642135,  2.20206406,\n",
       "         2.44770676,  2.69334946,  2.93899216,  3.18463487,  3.43027757,\n",
       "         3.67592027]),\n",
       " <BarContainer object of 30 artists>)"
      ]
     },
     "execution_count": 45,
     "metadata": {},
     "output_type": "execute_result"
    },
    {
     "data": {
      "image/png": "[encoded data removed]",
      "text/plain": [
       "<Figure size 432x288 with 1 Axes>"
      ]
     },
     "metadata": {
      "filenames": {
       "image/png": "/home/runner/work/python-numerique/python-numerique/notebooks/_build/jupyter_execute/2-07-numpy-array-testing_95_1.png"
      },
      "needs_background": "light"
     },
     "output_type": "display_data"
    }
   ],
   "source": [
    "import matplotlib.pyplot as plt\n",
    "%matplotlib inline\n",
    "b = np.random.randn(10000)\n",
    "# vous avez une gaussienne de moyenne 0 et d'écart-type 1\n",
    "plt.hist(b, bins=30)"
   ]
  },
  {
   "cell_type": "markdown",
   "id": "0bbeca90",
   "metadata": {},
   "source": [
    "## correction"
   ]
  },
  {
   "cell_type": "markdown",
   "id": "a518f585",
   "metadata": {},
   "source": [
    "### modifier la gaussienne"
   ]
  },
  {
   "cell_type": "markdown",
   "id": "f95c4c54",
   "metadata": {},
   "source": [
    "Une solution avec `putmask`"
   ]
  },
  {
   "cell_type": "code",
   "execution_count": 46,
   "id": "97ab8ae6",
   "metadata": {},
   "outputs": [
    {
     "data": {
      "image/png": "[encoded data removed]",
      "text/plain": [
       "<Figure size 432x288 with 1 Axes>"
      ]
     },
     "metadata": {
      "filenames": {
       "image/png": "/home/runner/work/python-numerique/python-numerique/notebooks/_build/jupyter_execute/2-07-numpy-array-testing_99_0.png"
      },
      "needs_background": "light"
     },
     "output_type": "display_data"
    }
   ],
   "source": [
    "b = np.random.randn(10000)*np.sqrt(6.25)+3\n",
    "plt.hist(b, bins=30);"
   ]
  },
  {
   "cell_type": "code",
   "execution_count": 47,
   "id": "d2097b2a",
   "metadata": {},
   "outputs": [],
   "source": [
    "np.putmask(b, (b < -5) | (b > 10), 3)"
   ]
  },
  {
   "cell_type": "code",
   "execution_count": 48,
   "id": "7937af1d",
   "metadata": {},
   "outputs": [
    {
     "data": {
      "image/png": "[encoded data removed]",
      "text/plain": [
       "<Figure size 432x288 with 1 Axes>"
      ]
     },
     "metadata": {
      "filenames": {
       "image/png": "/home/runner/work/python-numerique/python-numerique/notebooks/_build/jupyter_execute/2-07-numpy-array-testing_101_0.png"
      },
      "needs_background": "light"
     },
     "output_type": "display_data"
    }
   ],
   "source": [
    "plt.hist(b, bins=30);"
   ]
  },
  {
   "cell_type": "code",
   "execution_count": null,
   "id": "e3851ec7",
   "metadata": {},
   "outputs": [],
   "source": []
  }
 ],
 "metadata": {
  "jupytext": {
   "cell_metadata_filter": "all,-hidden,-heading_collapsed",
   "cell_metadata_json": true,
   "notebook_metadata_filter": "all,-language_info,-toc,-jupytext.text_representation.jupytext_version,-jupytext.text_representation.format_version",
   "text_representation": {
    "extension": ".md",
    "format_name": "myst"
   }
  },
  "kernelspec": {
   "display_name": "Python 3",
   "language": "python",
   "name": "python3"
  },
  "language_info": {
   "codemirror_mode": {
    "name": "ipython",
    "version": 3
   },
   "file_extension": ".py",
   "mimetype": "text/x-python",
   "name": "python",
   "nbconvert_exporter": "python",
   "pygments_lexer": "ipython3",
   "version": "3.9.5"
  },
  "notebookname": "masques pour tester les tableaux",
  "source_map": [
   14,
   24,
   28,
   32,
   44,
   46,
   50,
   62,
   66,
   71,
   75,
   77,
   81,
   83,
   92,
   96,
   102,
   106,
   108,
   114,
   117,
   121,
   123,
   127,
   133,
   136,
   140,
   146,
   153,
   157,
   161,
   165,
   174,
   178,
   182,
   184,
   188,
   190,
   194,
   201,
   209,
   213,
   217,
   220,
   224,
   226,
   230,
   232,
   236,
   241,
   244,
   248,
   250,
   256,
   260,
   270,
   274,
   280,
   288,
   292,
   300,
   308,
   313,
   317,
   321,
   324,
   328,
   332,
   338,
   345,
   351,
   355,
   363,
   374,
   383,
   392,
   398,
   402,
   410,
   417,
   421,
   427,
   431,
   437,
   443,
   450,
   455,
   459,
   467,
   472,
   476,
   478,
   482,
   486,
   490,
   494,
   500,
   504,
   508,
   512,
   517,
   521,
   525
  ]
 },
 "nbformat": 4,
 "nbformat_minor": 5
}