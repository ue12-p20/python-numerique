{
 "cells": [
  {
   "cell_type": "markdown",
   "id": "0afb8d64",
   "metadata": {},
   "source": [
    "# la vectorisation"
   ]
  },
  {
   "cell_type": "markdown",
   "id": "591a91f8",
   "metadata": {},
   "source": [
    "ou comment écrire du code efficace; ou encore comment **ne jamais faire de boucle `for`** sur un tableau `numpy`."
   ]
  },
  {
   "cell_type": "markdown",
   "id": "3cb581f5",
   "metadata": {},
   "source": [
    "Nous avons appris que la librairie numpy est utilisée pour la création et la manipulation de tableaux.\n",
    "\n",
    "`numpy` est d'autant plus intéressante si vos tableaux sont gourmands en place mémoire ou si vous avez besoin de calculs spécifiques (genre algèbre linéaire).\n",
    "\n",
    "Si vous n'avez besoin que de petits tableaux et de fonctionnalités de base, les listes de listes de Python peuvent vous suffire.  \n",
    "\n",
    "\n",
    "(Pour avoir une idée de ce que représente *petit*, on peut comparer les temps d'exécution de deux codes)"
   ]
  },
  {
   "cell_type": "markdown",
   "id": "c35a7f80",
   "metadata": {},
   "source": [
    "Les tableaux `numpy`, contrairement aux listes Python, sont homogènes. Tous les éléments d'un tableau numpy ont le même type.\n",
    "\n",
    "Par extension, tous les éléments ont la même taille et bingo ! cela leur permet de représenter dans la mémoire nos données dans un segment continu où les éléments sont contigus.\n",
    "\n",
    "Ainsi à partir du moment où vous *êtes* à un endroit du tableau, passer (relativement) un autre endroit de ce même tableau est presque immédiat (décalage, offset). Cela ne demande pas à l'ordi de rechercher une nouvelle adresse en mémoire (indirection)."
   ]
  },
  {
   "cell_type": "markdown",
   "id": "800d4322",
   "metadata": {},
   "source": [
    "Pourquoi nous vous racontons cela ? Pour vous expliquer comment les fonctions, appelées *fonctions vectorisées*, de `numpy` vont faire pour aller **beaucoup** plus vite que d'applique la même fonction successivement à chaque élément d'un tableau, par exemple dans un for-Python."
   ]
  },
  {
   "cell_type": "code",
   "execution_count": 1,
   "id": "136c2380",
   "metadata": {},
   "outputs": [],
   "source": [
    "import numpy as np"
   ]
  },
  {
   "cell_type": "markdown",
   "id": "1d80e807",
   "metadata": {},
   "source": [
    "## appliquons une fonction à un `ndarray`"
   ]
  },
  {
   "cell_type": "markdown",
   "id": "7add1bac",
   "metadata": {},
   "source": [
    "Il existe de tas de fonctions dans `numpy`, comme par exemple les fonctions trigonométriques. Prenons la fonction `np.sin` et appliquons là pour créer un tableau `abscisse` de 10.000 nombres flottants linéairement espacés entre 0 et 2π.    \n",
    "Vous rappelez vous comment créer un tel tableau ?"
   ]
  },
  {
   "cell_type": "code",
   "execution_count": 2,
   "id": "30481b5a",
   "metadata": {},
   "outputs": [],
   "source": [
    "abscisse = np.linspace(0, 2*np.pi, 10000)"
   ]
  },
  {
   "cell_type": "markdown",
   "id": "4d86c1be",
   "metadata": {},
   "source": [
    "Maintenant nous allons appliquer la fonction `np.sin` à tout le `np.ndarray` d'un seul coup."
   ]
  },
  {
   "cell_type": "code",
   "execution_count": 3,
   "id": "d7cfd674",
   "metadata": {},
   "outputs": [
    {
     "data": {
      "text/plain": [
       "array([ 0.00000000e+00,  6.28381328e-04,  1.25676241e-03, ...,\n",
       "       -1.25676241e-03, -6.28381328e-04, -2.44929360e-16])"
      ]
     },
     "execution_count": 3,
     "metadata": {},
     "output_type": "execute_result"
    }
   ],
   "source": [
    "np.sin(abscisse)"
   ]
  },
  {
   "cell_type": "markdown",
   "id": "1408c555",
   "metadata": {},
   "source": [
    "Ces fonctions qui s'appliquent à tout un tableau sans avoir besoin d'écrire de boucle d'itération s'appellent des fonctions **vectorisées**."
   ]
  },
  {
   "cell_type": "markdown",
   "id": "aeace21e",
   "metadata": {},
   "source": [
    "Maintenant calculez le temps d'exécution du calcul vectorisé du sinus sur la tableau *abscisse*."
   ]
  },
  {
   "cell_type": "code",
   "execution_count": 4,
   "id": "3f523c05",
   "metadata": {},
   "outputs": [],
   "source": [
    "#timeit?"
   ]
  },
  {
   "cell_type": "code",
   "execution_count": 5,
   "id": "2f5ad442",
   "metadata": {},
   "outputs": [
    {
     "name": "stdout",
     "output_type": "stream",
     "text": [
      "119 µs ± 22.5 ns per loop (mean ± std. dev. of 7 runs, 10000 loops each)\n"
     ]
    }
   ],
   "source": [
    "%timeit np.sin(abscisse)"
   ]
  },
  {
   "cell_type": "markdown",
   "id": "1abfe9f7",
   "metadata": {},
   "source": [
    "Parcourons ensuite le tableau *abscisses* avec une boucle Python et calculons les 10.000 sinus. Comme un `np.ndarray` est un itérable (quelque chose qui se parcourt avec un *for* Python), parcourons et appliquons à chaque élément la fonction `np.sin`."
   ]
  },
  {
   "cell_type": "code",
   "execution_count": 6,
   "id": "2e00059f",
   "metadata": {},
   "outputs": [
    {
     "name": "stdout",
     "output_type": "stream",
     "text": [
      "11.2 ms ± 93.8 µs per loop (mean ± std. dev. of 7 runs, 100 loops each)\n"
     ]
    }
   ],
   "source": [
    "%%timeit\n",
    "for i in abscisse:\n",
    "    np.sin(i)"
   ]
  },
  {
   "cell_type": "markdown",
   "id": "268effdb",
   "metadata": {},
   "source": [
    "Que constatez-vous ? Que la version vectorisée prend autour de 25 micro-secondes (sur mon ordi) alors que la version Python non vectorisée prend ... autour de 15 milli-secondes ! on gagne un facteur ... ? combien ? ouhla c'est vraiment beaucoup non ?"
   ]
  },
  {
   "cell_type": "markdown",
   "id": "fd1622e7",
   "metadata": {},
   "source": [
    "Ainsi, appliquer une fonction vectorisée à tout un tableau `np.ndarray` est **très très très efficace** et c'est l'ingrédient **principal** d'un **code numérique rapide**.\n",
    "\n",
    "Il ne faut **jamais** jamais jamais parcourir un tableau `numpy` avec une boucle for-Python pour appliquer une fonction qu'on peut appliquer de manière **vectorisée**.\n",
    "\n",
    "Il faut utiliser les fonctions **vectorisées** de manière vectorisée.\n",
    "\n",
    "Bien sûr, le tableau sera bien parcouru à un moment donné ! mais le parcours est codé dans un langage proche de la machine (à-la c/c++) qui, pour passer d'un élément à l'élément suivant, fait un simple décalage en mémoire et ne vas pas rechercher une *nouvelle* adresse en mémoire."
   ]
  },
  {
   "cell_type": "markdown",
   "id": "90f6a38e",
   "metadata": {},
   "source": [
    "Parce qu'il est plus simple de voir les résultats des calculs de manière graphique, nous allons importer une librairie de visualisation de données qui s'appelle `matplotlib`. Elle sera expliquée plus en détails dans un autre notebook, commencons à l'utiliser très simplement."
   ]
  },
  {
   "cell_type": "code",
   "execution_count": 7,
   "id": "10c43dd3",
   "metadata": {},
   "outputs": [],
   "source": [
    "# plt est le nom standard donné à matplotlib.pyplot (qui lui est super looooong à utiliser) \n",
    "import matplotlib.pyplot as plt"
   ]
  },
  {
   "cell_type": "code",
   "execution_count": 8,
   "id": "de767b8b",
   "metadata": {},
   "outputs": [],
   "source": [
    "# on va demander à ce que les courbes s'affichent dans le notebook\n",
    "%matplotlib inline"
   ]
  },
  {
   "cell_type": "markdown",
   "id": "35374d6c",
   "metadata": {},
   "source": [
    "On dessine le sinus de 0 à 2$\\pi$"
   ]
  },
  {
   "cell_type": "code",
   "execution_count": 9,
   "id": "be0659f7",
   "metadata": {},
   "outputs": [
    {
     "data": {
      "text/plain": [
       "[<matplotlib.lines.Line2D at 0x7f2027c2d970>]"
      ]
     },
     "execution_count": 9,
     "metadata": {},
     "output_type": "execute_result"
    },
    {
     "data": {
      "image/png": "[encoded data removed]",
      "text/plain": [
       "<Figure size 432x288 with 1 Axes>"
      ]
     },
     "metadata": {
      "filenames": {
       "image/png": "/home/runner/work/python-numerique/python-numerique/notebooks/_build/jupyter_execute/2-03-numpy-vectorization_23_1.png"
      },
      "needs_background": "light"
     },
     "output_type": "display_data"
    }
   ],
   "source": [
    "plt.plot(abscisse, np.sin(abscisse)) # plot(x, f(x))"
   ]
  },
  {
   "cell_type": "markdown",
   "id": "a95b00d1",
   "metadata": {},
   "source": [
    "Signalons tout de suite un petite astuce; vous voyez sur cet affichage, avant la courbe qui nous intéresse, une scorie  \n",
    "`[<matplotlib.lines.Line2D at ...>]`  \n",
    "qui est le résultat (l'objet Python) de l'évaluation; si on veut s'en débarrasser il suffit d'ajouter un `;` à la fin comme ceci :"
   ]
  },
  {
   "cell_type": "code",
   "execution_count": 10,
   "id": "d5d12526",
   "metadata": {},
   "outputs": [
    {
     "data": {
      "image/png": "[encoded data removed]",
      "text/plain": [
       "<Figure size 432x288 with 1 Axes>"
      ]
     },
     "metadata": {
      "filenames": {
       "image/png": "/home/runner/work/python-numerique/python-numerique/notebooks/_build/jupyter_execute/2-03-numpy-vectorization_25_0.png"
      },
      "needs_background": "light"
     },
     "output_type": "display_data"
    }
   ],
   "source": [
    "# on peut enlever la scorie \n",
    "# en ajoutant le point virgule ici   ⬇\n",
    "plt.plot(abscisse, np.sin(abscisse)) ;"
   ]
  },
  {
   "cell_type": "markdown",
   "id": "a89032a8",
   "metadata": {},
   "source": [
    "pourquoi ça marche ? en fait on demande à Python d'évaluer deux choses, le plot, et une instruction vide - qui est là à cause du point-virgule  \n",
    "bref, ça n'est pas super propre mais ça fonctionne bien et c'est un idiome utilisé très souvent dans les notebooks"
   ]
  },
  {
   "cell_type": "markdown",
   "id": "b1e1506e",
   "metadata": {},
   "source": [
    "Sauriez-vous dessiner un cercle d'un rayon *r* ? Réfléchissez ? Un indice ci-dessous ..."
   ]
  },
  {
   "cell_type": "markdown",
   "id": "7742bdcd",
   "metadata": {},
   "source": [
    "Le truc qu'il faut remarquer ici, c'est que les deux tableaux qu'on passe à `plot` sont des couples (x, y), donc rien ne vous contraint à une fonction explicite (dans le sens $f: \\mathbb{R}\\rightarrow\\mathbb{R}$), et une représentation paramétrique est tout à fait possible !"
   ]
  },
  {
   "cell_type": "code",
   "execution_count": 11,
   "id": "bbbdf9fc",
   "metadata": {},
   "outputs": [],
   "source": [
    "# votre code ici - la correction un peu plus loin ci-dessous"
   ]
  },
  {
   "cell_type": "markdown",
   "id": "0534ef50",
   "metadata": {},
   "source": [
    "Il suffit donc de dessiner deux tableaux de points contenant les $r \\times \\sin(\\theta)$ et $r \\times \\cos(\\theta)$ avec $x$ qui varie de 0 à 2$\\pi$ ..."
   ]
  },
  {
   "cell_type": "code",
   "execution_count": 12,
   "id": "c85fb831",
   "metadata": {},
   "outputs": [
    {
     "data": {
      "image/png": "[encoded data removed]",
      "text/plain": [
       "<Figure size 432x288 with 1 Axes>"
      ]
     },
     "metadata": {
      "filenames": {
       "image/png": "/home/runner/work/python-numerique/python-numerique/notebooks/_build/jupyter_execute/2-03-numpy-vectorization_31_0.png"
      },
      "needs_background": "light"
     },
     "output_type": "display_data"
    }
   ],
   "source": [
    "# correction (pzas encore parfaite)\n",
    "r = 2.5\n",
    "theta = np.linspace(0, 2*np.pi)\n",
    "x = r*np.sin(theta)\n",
    "y = r*np.cos(theta)\n",
    "\n",
    "plt.plot(x, y); # oups on obtient une ellipse !"
   ]
  },
  {
   "cell_type": "markdown",
   "id": "abcb6409",
   "metadata": {},
   "source": [
    "Une dernière astuce enfin, si on ne fait rien de spécial, `matplotlib` va choisir les échelles pour nous; du coup pour bien voir le cercle et pas une ellipse, il faut imposer à *matplotlib.pyplot* de garder ses axes à la même échelle (égaux):\n",
    "```\n",
    "plt.axis('equal')\n",
    "```"
   ]
  },
  {
   "cell_type": "code",
   "execution_count": 13,
   "id": "b7ce571c",
   "metadata": {},
   "outputs": [
    {
     "data": {
      "image/png": "[encoded data removed]",
      "text/plain": [
       "<Figure size 432x288 with 1 Axes>"
      ]
     },
     "metadata": {
      "filenames": {
       "image/png": "/home/runner/work/python-numerique/python-numerique/notebooks/_build/jupyter_execute/2-03-numpy-vectorization_33_0.png"
      },
      "needs_background": "light"
     },
     "output_type": "display_data"
    }
   ],
   "source": [
    "# correction\n",
    "r = 2.5\n",
    "theta = np.linspace(0, 2*np.pi)\n",
    "x = r*np.sin(theta)\n",
    "y = r*np.cos(theta)\n",
    "\n",
    "plt.plot(x, y)\n",
    "plt.axis('equal'); # (attention le notebook montre la figure i.e. il fait un plt.show)"
   ]
  },
  {
   "cell_type": "markdown",
   "id": "628da9d0",
   "metadata": {},
   "source": [
    "Remarquez que nous faisons tous ces calculs *sans même savoir comment accéder aux éléments d'un tableau*, vous vous doutez bien qu'on va pouvoir le faire et on le fera, mais pour l'instant nous n'en avons pas eu besoin... nous avons laissé `numpy` accéder aux éléments."
   ]
  },
  {
   "cell_type": "markdown",
   "id": "960c54bf",
   "metadata": {},
   "source": [
    "Faites une fonction polynomiale qui retourne par exemple $x^3 + 2x^2 -5x +1$, appliquez la à un `np.ndarray`. Que se passe-t-il ?"
   ]
  },
  {
   "cell_type": "code",
   "execution_count": 14,
   "id": "8bcf6e21",
   "metadata": {},
   "outputs": [],
   "source": [
    "def scalar_function(x):\n",
    "    # votre code ici\n",
    "    pass"
   ]
  },
  {
   "cell_type": "code",
   "execution_count": 15,
   "id": "79259e95",
   "metadata": {
    "tags": [
     "raises-exception"
    ]
   },
   "outputs": [],
   "source": [
    "scalar_function(np.array((10, 20)))"
   ]
  },
  {
   "cell_type": "markdown",
   "id": "ad699f69",
   "metadata": {},
   "source": [
    "Mais oui tout se passe très bien ... il est tout à fait possible de mettre un tableau `np.ndarray` à une puissance que ce soit à l'aide de l'opérateur `**` de Python, ou de `np.power`"
   ]
  },
  {
   "cell_type": "markdown",
   "id": "5c61de53",
   "metadata": {},
   "source": [
    "Le mécanisme général qui applique une fonction à un tableau est connu sous le terme de *Universal function*, ou \n",
    "`ufunc`, ça peut vous être utile avec les moteurs de recherche !"
   ]
  },
  {
   "cell_type": "markdown",
   "id": "b2d51872",
   "metadata": {},
   "source": [
    "En conclusion *y-a pas photo !* Utilisez toujours les fonctions vectorisées de `numpy` !\n",
    "\n",
    "Même si cela peut vous paraître, au début, un peu plus difficile que la version utilisant une boucle for-Python, vous ne pouvez pas y échapper par souci de la **performance en temps**.\n",
    "\n",
    "C'est juste une autre manière de penser le code et franchement vous allez écrire des codes tellement plus compacts et lisibles (élégants)."
   ]
  },
  {
   "cell_type": "markdown",
   "id": "4b06cde4",
   "metadata": {},
   "source": [
    "## Quelles sont les fonctions vectorisées ?"
   ]
  },
  {
   "cell_type": "markdown",
   "id": "8bdea872",
   "metadata": {},
   "source": [
    "### les opérateurs arithmétiques classiques"
   ]
  },
  {
   "cell_type": "markdown",
   "id": "03bd2ee3",
   "metadata": {},
   "source": [
    "Les opérateurs classiques quand ils sont appliqués sur des `np.ndarray` sont en fait de nouvelles fonctions vectorisées (des *UFuncs*) de `numpy` en voici la correspondance."
   ]
  },
  {
   "cell_type": "markdown",
   "id": "bc0dad01",
   "metadata": {},
   "source": [
    "Voici les opérateurs arithmétiques classiques avec leur contre-partie `numpy` (*Ufuncs*):\n",
    "\n",
    "\n",
    "| opérateur | `numpy` fonction    |\n",
    "|----------|-------------------|\n",
    "|   $+$    | `np.add` |\n",
    "|   $-$    | `np.substract`|\n",
    "|   $*$    | `np.multiply` |\n",
    "|   $/$    | `np.divide` |\n",
    "|   $//$   | `np.floor_divide` |\n",
    "|   $\\%$   | `np.mod` |\n",
    "|   $**$   | `np.power` |"
   ]
  },
  {
   "cell_type": "markdown",
   "id": "bdcdb10e",
   "metadata": {},
   "source": [
    "### les fonctions trigonométriques, de comparaison..."
   ]
  },
  {
   "cell_type": "markdown",
   "id": "0ef492bb",
   "metadata": {},
   "source": [
    "| fonction         | `numpy` fonction    |\n",
    "|------------------|-------------------|\n",
    "| comparaison       | `np.greater`, `np.less`, `np.equal`, ...|\n",
    "|   valeur absolue       | `np.absolute` or `np.abs` |\n",
    "|   trigonometrie   | `np.sin`, `np.cos`, ... |\n",
    "|   exponentielle | `np.exp`, `np.exp2`, .. |\n",
    "|   logarithme      | `np.log`, `np.log2`, `np.log10` |"
   ]
  },
  {
   "cell_type": "markdown",
   "id": "3eecc65c",
   "metadata": {},
   "source": [
    "La plupart du temps vous allez les utiliser sans même vous en rendre compte..."
   ]
  },
  {
   "cell_type": "markdown",
   "id": "5d1b9bd9",
   "metadata": {},
   "source": [
    "Pour le savoir ? Demandez à une fonction quel est son type:"
   ]
  },
  {
   "cell_type": "code",
   "execution_count": 16,
   "id": "f715cf60",
   "metadata": {},
   "outputs": [
    {
     "data": {
      "text/plain": [
       "<ufunc 'add'>"
      ]
     },
     "execution_count": 16,
     "metadata": {},
     "output_type": "execute_result"
    }
   ],
   "source": [
    "np.add"
   ]
  },
  {
   "cell_type": "code",
   "execution_count": 17,
   "id": "7a894d4c",
   "metadata": {},
   "outputs": [
    {
     "data": {
      "text/plain": [
       "<ufunc 'power'>"
      ]
     },
     "execution_count": 17,
     "metadata": {},
     "output_type": "execute_result"
    }
   ],
   "source": [
    "np.power"
   ]
  },
  {
   "cell_type": "markdown",
   "id": "dfe41054",
   "metadata": {},
   "source": [
    "## résultats intermédiaires des calculs"
   ]
  },
  {
   "cell_type": "markdown",
   "id": "3cf7f13a",
   "metadata": {},
   "source": [
    "Puisque nous appliquons plusieurs opérations à la suite les unes des autres à des tableaux,  \n",
    "des espaces mémoire intermédiaires doivent bien être crées pour recevoir les résultats de ces calculs.\n",
    "\n",
    "Prenons une fonction:"
   ]
  },
  {
   "cell_type": "code",
   "execution_count": 18,
   "id": "56fb31be",
   "metadata": {},
   "outputs": [],
   "source": [
    "def trigo_function_compact (x):\n",
    "    return 4*np.exp(np.cos(x))**2"
   ]
  },
  {
   "cell_type": "code",
   "execution_count": 19,
   "id": "096e52d9",
   "metadata": {},
   "outputs": [
    {
     "data": {
      "image/png": "[encoded data removed]",
      "text/plain": [
       "<Figure size 432x288 with 1 Axes>"
      ]
     },
     "metadata": {
      "filenames": {
       "image/png": "/home/runner/work/python-numerique/python-numerique/notebooks/_build/jupyter_execute/2-03-numpy-vectorization_54_0.png"
      },
      "needs_background": "light"
     },
     "output_type": "display_data"
    }
   ],
   "source": [
    "plt.plot(trigo_function_compact(np.linspace(0, 2*np.pi, 1000)));"
   ]
  },
  {
   "cell_type": "markdown",
   "id": "771f25ac",
   "metadata": {},
   "source": [
    "De combien de tableaux intermédiaires avez vous besoin pour le calcul de la fonction *trigo_function* ? beaucoup ! Comptez-les en développant les calculs i.e. en créant un tableau intermédiaire par calcul unitaire nécessaire."
   ]
  },
  {
   "cell_type": "code",
   "execution_count": 20,
   "id": "d863e7ec",
   "metadata": {},
   "outputs": [],
   "source": [
    "# votre code ici (la solution est juste dessous)"
   ]
  },
  {
   "cell_type": "code",
   "execution_count": 21,
   "id": "e77480c4",
   "metadata": {},
   "outputs": [],
   "source": [
    "def trigo_function_developpee (x):\n",
    "    int_1 = np.cos(x)\n",
    "    int_2 = np.exp(int_1)\n",
    "    int_3 = np.power(int_2, 2)\n",
    "    result = 4*int_3\n",
    "    return result"
   ]
  },
  {
   "cell_type": "markdown",
   "id": "c854bf23",
   "metadata": {},
   "source": [
    "On peut remplacer la multiplication * par la fonction `np.multiply` (element-wise ou Hadamard product) qui est équivalente."
   ]
  },
  {
   "cell_type": "code",
   "execution_count": 22,
   "id": "1dfdc677",
   "metadata": {},
   "outputs": [],
   "source": [
    "def trigo_function_developpee (x):\n",
    "    int_1 = np.cos(x)\n",
    "    int_2 = np.exp(int_1)\n",
    "    int_3 = np.power(int_2, 2)\n",
    "    result = np.multiply(4, int_3)\n",
    "    return result"
   ]
  },
  {
   "cell_type": "code",
   "execution_count": 23,
   "id": "42528d61",
   "metadata": {},
   "outputs": [
    {
     "data": {
      "image/png": "[encoded data removed]",
      "text/plain": [
       "<Figure size 432x288 with 1 Axes>"
      ]
     },
     "metadata": {
      "filenames": {
       "image/png": "/home/runner/work/python-numerique/python-numerique/notebooks/_build/jupyter_execute/2-03-numpy-vectorization_60_0.png"
      },
      "needs_background": "light"
     },
     "output_type": "display_data"
    }
   ],
   "source": [
    "plt.plot(trigo_function_developpee(np.linspace(0, 2*np.pi, 1000)));"
   ]
  },
  {
   "cell_type": "markdown",
   "id": "544c88f0",
   "metadata": {},
   "source": [
    "Donc notre calcul crée trois tableaux intermédiaires (*int_1*, *int_2*, *int_3*) et un tableau pour le résustat final (*result*), donc *3 x abscisse.nbytes* octets (*180.000*) perdus."
   ]
  },
  {
   "cell_type": "markdown",
   "id": "b006ffcb",
   "metadata": {},
   "source": [
    "En effet lorsque l'on fait du calcul vectoriel, on va avoir tendance à créer de nombreux tableaux intermédiaires qui coûtent cher en mémoire.\n",
    "\n",
    "Pour cette raison, pratiquement tous les opérateurs de `numpy` sont dotés d'un paramètre optionnel `out=` qui permet de spécifier un tableau déjà alloué, dans lequel ranger le résultat. Prenons un exemple plus simple:"
   ]
  },
  {
   "cell_type": "markdown",
   "id": "518f9553",
   "metadata": {},
   "source": [
    "Voici la même fonction sans créer de tableaux intermédiaires inutiles."
   ]
  },
  {
   "cell_type": "code",
   "execution_count": 24,
   "id": "7919e95e",
   "metadata": {},
   "outputs": [],
   "source": [
    "def trigo_function_developpee_out (x):\n",
    "    result = np.cos(x)      # il m'en faut bien un pour le résultat !\n",
    "    np.exp(result, out=result)\n",
    "    np.power(result, 2, out=result)\n",
    "    np.multiply(4, result, out=result)\n",
    "    return result"
   ]
  },
  {
   "cell_type": "code",
   "execution_count": 25,
   "id": "576e45ec",
   "metadata": {},
   "outputs": [
    {
     "data": {
      "image/png": "[encoded data removed]",
      "text/plain": [
       "<Figure size 432x288 with 1 Axes>"
      ]
     },
     "metadata": {
      "filenames": {
       "image/png": "/home/runner/work/python-numerique/python-numerique/notebooks/_build/jupyter_execute/2-03-numpy-vectorization_65_0.png"
      },
      "needs_background": "light"
     },
     "output_type": "display_data"
    }
   ],
   "source": [
    "plt.plot(trigo_function_developpee_out(np.linspace(0, 2*np.pi, 1000)));"
   ]
  },
  {
   "cell_type": "markdown",
   "id": "a3c4c87e",
   "metadata": {},
   "source": [
    "**important** Vous pouvez remarquer que ce code est beaucoup plus compliqué à écrire que dans sa version compacte simple et \"directe\". Il sera donc beaucoup plus propice à des erreurs ...  et il est franchement très difficile à lire !  \n",
    "En conclusion: ne faites surtout pas cela systématiquement.\n",
    "\n",
    "Vous savez que ça existe. Vous y penserez si, dans un de vos codes numériques, la création de tableaux intermédiaires commence à prendre une place bien trop importante."
   ]
  },
  {
   "cell_type": "markdown",
   "id": "48311dd9",
   "metadata": {},
   "source": [
    "## on vectorise sa fonction"
   ]
  },
  {
   "cell_type": "markdown",
   "id": "9a00f8cf",
   "metadata": {},
   "source": [
    "A vous de jouer, vous allez écrire la fonction `my_absolute` qui calcule la valeur absolue d'un scalaire x sans utiliser  `numpy` ni `abs` de Python."
   ]
  },
  {
   "cell_type": "code",
   "execution_count": 26,
   "id": "faa2e0a9",
   "metadata": {},
   "outputs": [],
   "source": [
    "#votre code ici (pas de correction le code est évident)\n",
    "\n",
    "def my_absolute (x):\n",
    "    ..."
   ]
  },
  {
   "cell_type": "markdown",
   "id": "dbca12d3",
   "metadata": {},
   "source": [
    "Appelez la fonction sur le scalaire *-20* ? Elle fonctionne super bien !"
   ]
  },
  {
   "cell_type": "code",
   "execution_count": 27,
   "id": "400b47c8",
   "metadata": {},
   "outputs": [],
   "source": [
    "my_absolute(-20)"
   ]
  },
  {
   "cell_type": "markdown",
   "id": "03bbff4c",
   "metadata": {},
   "source": [
    "Créez un `np.ndarray` avec \\[-10, -20, 30\\] et appliquez lui la fonction *my_absolute*."
   ]
  },
  {
   "cell_type": "code",
   "execution_count": 28,
   "id": "f89900c9",
   "metadata": {},
   "outputs": [],
   "source": [
    "# votre code ici"
   ]
  },
  {
   "cell_type": "markdown",
   "id": "934d61c4",
   "metadata": {},
   "source": [
    "Que se passe-t-il ? Ca ne va plus du tout ! Vous recevez une ValueError et un message (un peu cryptique) à propos de l'ambiguité d'utiliser le résultat de l'application d'une comparaison logique à un tableau avec plus d'un élément ...\n",
    "\n",
    "Alors le tableau c'est bien sûr votre `np.ndarray` \\[-10, -20, 30\\]. Et ce qu'on vous reproche n'est pas d'appliquer la fonction de comparaison à ce tableau `np.ndarray`, qui se fait comme cela:"
   ]
  },
  {
   "cell_type": "code",
   "execution_count": 29,
   "id": "3b2781c8",
   "metadata": {},
   "outputs": [
    {
     "data": {
      "text/plain": [
       "array([ True,  True, False])"
      ]
     },
     "execution_count": 29,
     "metadata": {},
     "output_type": "execute_result"
    }
   ],
   "source": [
    "np.array([-10, -20, 30]) < 0"
   ]
  },
  {
   "cell_type": "markdown",
   "id": "75a2c74c",
   "metadata": {},
   "source": [
    "`numpy` sait parfaitement le faire ! L'opérateur de comparaison *\\<* a sa version vectorisée en `numpy` ! Et il vous rend un joli tableau de booléens (regardez son type). Nous y reviendrons dans un futur notebook sur les tests de tableaux."
   ]
  },
  {
   "cell_type": "markdown",
   "id": "bd725fcd",
   "metadata": {},
   "source": [
    "... mais ensuite vous testez chacun des éléments de votre tableau afin de n'appliquer le changement de signe qu'aux négatifs."
   ]
  },
  {
   "cell_type": "code",
   "execution_count": 30,
   "id": "4344b253",
   "metadata": {
    "tags": [
     "raises-exception"
    ]
   },
   "outputs": [
    {
     "ename": "ValueError",
     "evalue": "The truth value of an array with more than one element is ambiguous. Use a.any() or a.all()",
     "output_type": "error",
     "traceback": [
      "\u001b[0;31m---------------------------------------------------------------------------\u001b[0m",
      "\u001b[0;31mValueError\u001b[0m                                Traceback (most recent call last)",
      "\u001b[0;32m/tmp/ipykernel_2389/3295331149.py\u001b[0m in \u001b[0;36m<module>\u001b[0;34m\u001b[0m\n\u001b[0;32m----> 1\u001b[0;31m \u001b[0;32mif\u001b[0m \u001b[0mnp\u001b[0m\u001b[0;34m.\u001b[0m\u001b[0marray\u001b[0m\u001b[0;34m(\u001b[0m\u001b[0;34m[\u001b[0m\u001b[0;36m10\u001b[0m\u001b[0;34m,\u001b[0m \u001b[0;36m20\u001b[0m\u001b[0;34m,\u001b[0m \u001b[0;36m30\u001b[0m\u001b[0;34m]\u001b[0m\u001b[0;34m)\u001b[0m\u001b[0;34m:\u001b[0m\u001b[0;34m\u001b[0m\u001b[0;34m\u001b[0m\u001b[0m\n\u001b[0m\u001b[1;32m      2\u001b[0m     \u001b[0;32mpass\u001b[0m\u001b[0;34m\u001b[0m\u001b[0;34m\u001b[0m\u001b[0m\n",
      "\u001b[0;31mValueError\u001b[0m: The truth value of an array with more than one element is ambiguous. Use a.any() or a.all()"
     ]
    }
   ],
   "source": [
    "if np.array([10, 20, 30]):\n",
    "    pass"
   ]
  },
  {
   "cell_type": "markdown",
   "id": "d0089a21",
   "metadata": {},
   "source": [
    "Que vous reproche-t-il dans l'utilisation de ce *if* ?\n",
    "\n",
    "Il vous reproche de tester, avec un *if*, un tableau de booléens (ici \\[ True,  True, False \\]) sans préciser comment vous voulez considérer chacun des booleens du tableau dans votre test:\n",
    "   - voulez vous que le *if* soit vrai si tous les éléments sont vrais ? `np.all`\n",
    "   - voulez-vous que le *if* soit vrai si au moins un élément du tableau est vrai ? `np.any`\n",
    "   \n",
    "Mais vous ne voulez rien de tout cela ! vous voulez que `numpy` applique le *if* à-chaque-élément donc vous voulez qu'il le fasse de manière vectorisée !\n",
    "\n",
    "Et bien il ne peut pas le deviner (lui il voit d'autres possibilités qu'il juge tout à fait pertinentes) ... il faut lui dire que vous voulez que les opérations faites dans votre fonction soient faites de manière vectorisée i.e élément-par-élément.\n",
    "\n",
    "Il existe pour cela une fonction `numpy` qui \"*vectorise*\" une fonctions i.e. lui demande de considérer que son argument peut être un tableau sur lequel les fonctions seront appelées de manière vectorisée.\n",
    "\n",
    "C'est la fonction `np.vectorize`. On l'applique:"
   ]
  },
  {
   "cell_type": "code",
   "execution_count": 31,
   "id": "b216ef68",
   "metadata": {},
   "outputs": [],
   "source": [
    "# d'abord je définis la fonction \n",
    "# \"normale\" ou simple, qui travaille sur un scalaire\n",
    "def my_absolute (x):\n",
    "    if x < 0:\n",
    "        return -x\n",
    "    else:\n",
    "        return x"
   ]
  },
  {
   "cell_type": "code",
   "execution_count": 32,
   "id": "8f648fff",
   "metadata": {},
   "outputs": [],
   "source": [
    "# et de là je peux créer la fonction vectorisée correspondante   \n",
    "my_absolute_vectorised = np.vectorize(my_absolute)"
   ]
  },
  {
   "cell_type": "code",
   "execution_count": 33,
   "id": "5b8b237b",
   "metadata": {},
   "outputs": [
    {
     "data": {
      "text/plain": [
       "array([10, 20, 30])"
      ]
     },
     "execution_count": 33,
     "metadata": {},
     "output_type": "execute_result"
    }
   ],
   "source": [
    "# que je peux appeler sur un tableau !\n",
    "my_absolute_vectorised(np.array([-10, -20, 30]))"
   ]
  },
  {
   "cell_type": "markdown",
   "id": "b44ac0d3",
   "metadata": {},
   "source": [
    "Et voilà c'est magique ! La fonction s'applique désormais parfaitement à votre tableau `numpy`, ou même à une simple liste Python d'ailleurs ..."
   ]
  },
  {
   "cell_type": "code",
   "execution_count": 34,
   "id": "720f66a3",
   "metadata": {},
   "outputs": [
    {
     "data": {
      "text/plain": [
       "array([10, 20, 30])"
      ]
     },
     "execution_count": 34,
     "metadata": {},
     "output_type": "execute_result"
    }
   ],
   "source": [
    "# elle marche même sur une simple liste !\n",
    "my_absolute_vectorised([-10, -20, 30])"
   ]
  },
  {
   "cell_type": "markdown",
   "id": "f296603c",
   "metadata": {},
   "source": [
    "Pour les avancés et les curieux: afficher le type de la fonction Python `abs` et celui de la fonction `numpy` `np.abs`. Que constatez-vous ?"
   ]
  },
  {
   "cell_type": "markdown",
   "id": "e5389c8c",
   "metadata": {},
   "source": [
    "Oui `np.abs` est bien vectorielle alors que `abs` ne l'est pas. Essayez !"
   ]
  },
  {
   "cell_type": "markdown",
   "id": "9edd2adb",
   "metadata": {},
   "source": [
    "## Exercices"
   ]
  },
  {
   "cell_type": "markdown",
   "id": "5381f0a9",
   "metadata": {},
   "source": [
    "### calcul du temps d'exécution de l'élévation d'un tableau à la puissance 2"
   ]
  },
  {
   "cell_type": "markdown",
   "id": "e39d1d92",
   "metadata": {},
   "source": [
    "Vous allez prendre un tableau *a* des entiers de 1 à 10000 et les élever à la puissance 2 de plusieurs manière en calculant le temps d'exécution. Pour calculer $e^2$, vous pouvez essayer: `e*e`, `e**2`, `np.power(e, 2)` ou `np.square(e)`:\n",
    "\n",
    "   1. Vous créer une liste Python vide. Vous itérez sur les éléments du tableau *a*, avec un for-Python, en ajoutant chaque élément élévé à la puissance 2 **dans la liste**.   \n",
    "   \n",
    "   1. Vous créez un *`np.ndarray`*, non initialisé, pour stocker les éléments. Vous itérez sur les éléments du tableau *a* avec un for-Python, en ajoutant chaque élément élevé à la puissance 2 (`x**2`) dans le `np.ndarray`\n",
    "      \n",
    "   1. Vous construisez la liste Python, initialisée avec les puissances 2 des éléments de *a*, avec une compréhension Python.\n",
    "   \n",
    "   1. Vous le faites de manière vectorisée en utilisant l'opérateur de puissance (**2).\n",
    "\n",
    "   1. Vous le faites de manière vectorisée en utilisant l'opération de puissance (`np.power`).\n",
    "   \n",
    "Quelles sont les manières de faire les plus rapides ?"
   ]
  },
  {
   "cell_type": "markdown",
   "id": "a50c17e8",
   "metadata": {},
   "source": [
    "## Correction"
   ]
  },
  {
   "cell_type": "markdown",
   "id": "ff8017ee",
   "metadata": {},
   "source": [
    "### calcul du temps d'exécution de l'élévation d'un tableau à la puissance 2"
   ]
  },
  {
   "cell_type": "code",
   "execution_count": 35,
   "id": "14115702",
   "metadata": {},
   "outputs": [],
   "source": [
    "a = np.arange(1, 10001)"
   ]
  },
  {
   "cell_type": "markdown",
   "id": "fff79dc1",
   "metadata": {},
   "source": [
    "1) Vous créer une liste Python vide. Vous itérer sur les éléments du tableau *a* en ajoutant chaque élément élévé à la puissance 2 dans la liste"
   ]
  },
  {
   "cell_type": "code",
   "execution_count": 36,
   "id": "14c1ad4c",
   "metadata": {
    "cell_style": "center"
   },
   "outputs": [
    {
     "name": "stdout",
     "output_type": "stream",
     "text": [
      "1.18 ms ± 425 ns per loop (mean ± std. dev. of 7 runs, 1000 loops each)\n"
     ]
    }
   ],
   "source": [
    "%%timeit\n",
    "l = []\n",
    "for e in a:\n",
    "    l.append(e*e)"
   ]
  },
  {
   "cell_type": "markdown",
   "id": "ad868bad",
   "metadata": {},
   "source": [
    "2) Vous créez un *`np.ndarray`*, non initialisé, pour stocker les éléments. Vous itérez sur les éléments du tableau *a* avec un for-Python, en ajoutant chaque élément élevé à la puissance 2 dans le `np.ndarray`"
   ]
  },
  {
   "cell_type": "code",
   "execution_count": 37,
   "id": "ccc368f4",
   "metadata": {},
   "outputs": [
    {
     "name": "stdout",
     "output_type": "stream",
     "text": [
      "2.5 ms ± 61.6 µs per loop (mean ± std. dev. of 7 runs, 100 loops each)\n"
     ]
    }
   ],
   "source": [
    "%%timeit\n",
    "l = np.empty(a.shape[0])\n",
    "for e, i in zip(a, range(a.shape[0])):\n",
    "    l[i] = e*e"
   ]
  },
  {
   "cell_type": "markdown",
   "id": "7cb6df2a",
   "metadata": {},
   "source": [
    "3) Vous construisez la liste Python, initialisée avec les puissances 2 des éléments de *a*, avec une compréhension Python."
   ]
  },
  {
   "cell_type": "code",
   "execution_count": 38,
   "id": "3296a4ae",
   "metadata": {},
   "outputs": [
    {
     "name": "stdout",
     "output_type": "stream",
     "text": [
      "896 µs ± 583 ns per loop (mean ± std. dev. of 7 runs, 1000 loops each)\n"
     ]
    }
   ],
   "source": [
    "%timeit [e*e for e in a]"
   ]
  },
  {
   "cell_type": "markdown",
   "id": "87803bdd",
   "metadata": {},
   "source": [
    "4) Vous le faites de manière vectorisée en utilisant l'opérateur de puissance (**2)."
   ]
  },
  {
   "cell_type": "code",
   "execution_count": 39,
   "id": "a9634f86",
   "metadata": {},
   "outputs": [
    {
     "name": "stdout",
     "output_type": "stream",
     "text": [
      "4.84 µs ± 8.65 ns per loop (mean ± std. dev. of 7 runs, 100000 loops each)\n"
     ]
    }
   ],
   "source": [
    "%timeit a**2"
   ]
  },
  {
   "cell_type": "markdown",
   "id": "6ad30b9f",
   "metadata": {},
   "source": [
    "5) Vous le faites de manière vectorisée en utilisant l'opération de puissance (`np.power`)."
   ]
  },
  {
   "cell_type": "code",
   "execution_count": 40,
   "id": "a634d08d",
   "metadata": {},
   "outputs": [
    {
     "name": "stdout",
     "output_type": "stream",
     "text": [
      "24.8 µs ± 21.1 ns per loop (mean ± std. dev. of 7 runs, 10000 loops each)\n"
     ]
    }
   ],
   "source": [
    "%%timeit\n",
    "np.power(a, 2)"
   ]
  },
  {
   "cell_type": "code",
   "execution_count": 41,
   "id": "6e86930e",
   "metadata": {},
   "outputs": [
    {
     "name": "stdout",
     "output_type": "stream",
     "text": [
      "4.84 µs ± 2.88 ns per loop (mean ± std. dev. of 7 runs, 100000 loops each)\n"
     ]
    }
   ],
   "source": [
    "%%timeit\n",
    "np.square(a)"
   ]
  }
 ],
 "metadata": {
  "jupytext": {
   "cell_metadata_filter": "all, -hidden, -heading_collapsed, -run_control, -trusted",
   "notebook_metadata_filter": "all, -jupytext.text_representation.jupytext_version, -jupytext.text_representation.format_version, -language_info.version, -language_info.codemirror_mode.version, -language_info.codemirror_mode, -language_info.file_extension, -language_info.mimetype, -toc",
   "text_representation": {
    "extension": ".md",
    "format_name": "myst"
   }
  },
  "kernelspec": {
   "display_name": "Python 3",
   "language": "python",
   "name": "python3"
  },
  "language_info": {
   "codemirror_mode": {
    "name": "ipython",
    "version": 3
   },
   "file_extension": ".py",
   "mimetype": "text/x-python",
   "name": "python",
   "nbconvert_exporter": "python",
   "pygments_lexer": "ipython3",
   "version": "3.9.5"
  },
  "notebookname": "programmation vectorielle",
  "source_map": [
   18,
   22,
   26,
   37,
   45,
   49,
   51,
   55,
   60,
   62,
   66,
   68,
   72,
   76,
   80,
   82,
   86,
   90,
   94,
   104,
   108,
   113,
   116,
   120,
   122,
   128,
   132,
   137,
   141,
   145,
   147,
   151,
   159,
   166,
   175,
   179,
   183,
   189,
   193,
   197,
   202,
   210,
   214,
   218,
   222,
   237,
   241,
   251,
   255,
   259,
   263,
   265,
   269,
   276,
   281,
   283,
   287,
   291,
   298,
   302,
   311,
   313,
   317,
   323,
   327,
   336,
   338,
   345,
   349,
   353,
   358,
   362,
   364,
   368,
   370,
   376,
   378,
   382,
   386,
   391,
   407,
   417,
   422,
   425,
   429,
   432,
   436,
   440,
   444,
   448,
   464,
   468,
   472,
   474,
   478,
   485,
   489,
   494,
   498,
   500,
   504,
   506,
   510,
   515
  ]
 },
 "nbformat": 4,
 "nbformat_minor": 5
}