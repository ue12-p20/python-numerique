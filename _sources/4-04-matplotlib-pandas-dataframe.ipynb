{
 "cells": [
  {
   "cell_type": "markdown",
   "id": "bb7464c0",
   "metadata": {},
   "source": [
    "<div class=\"licence\">\n",
    "<span>Licence CC BY-NC-ND</span>\n",
    "<span>Valérie Roy</span>\n",
    "</div>\n",
    "\n",
    "<img src=\"media/ensmp-25-alpha.png\" />"
   ]
  },
  {
   "cell_type": "markdown",
   "id": "b02a4772",
   "metadata": {},
   "source": [
    "# `matplotlib` & `pandas`\n",
    "\n",
    "\n",
    "Les fonctions de `matplotlib` ont été intégrées avec la librairie `pandas` de manière à faciliter leur utilisation à partir d'une dataframe. Nous allons voir quelques unes de ces fonctions. Référez-vous à la documentation pour aller plus loin dans cette utilisation. \n",
    "\n",
    "Une dataframe est un table de données en dimension 2 où chacune des colonnes peut être vue comme une variable aléatoire avec une certaine distribution représentant une information: un âge, un genre, une taille...\n",
    "\n",
    "`matplotlib` va apporter à `pandas` des facilités pour visualiser les données des colonnes sous des formes classiques comme: les boxplots (boîtes à moustaches), les histogrammes, les barcharts (diagrammes à bandes)...\n",
    "\n",
    "Ou encore pour visualiser les paires de valeurs des colonnes comme la taille en fonction de l'âge...\n",
    "\n",
    "Nous allons illustrer les quelques fonctions sur un exemple simple."
   ]
  },
  {
   "cell_type": "markdown",
   "id": "041445c5",
   "metadata": {},
   "source": [
    "Importons les librairies:"
   ]
  },
  {
   "cell_type": "code",
   "execution_count": 1,
   "id": "98d3c0e9",
   "metadata": {},
   "outputs": [],
   "source": [
    "import matplotlib.pyplot as plt\n",
    "%matplotlib inline"
   ]
  },
  {
   "cell_type": "code",
   "execution_count": 2,
   "id": "705f5703",
   "metadata": {},
   "outputs": [],
   "source": [
    "import pandas as pd\n",
    "import numpy as np"
   ]
  },
  {
   "cell_type": "markdown",
   "id": "2299dd7c",
   "metadata": {},
   "source": [
    "## importons un jeu de données"
   ]
  },
  {
   "cell_type": "markdown",
   "id": "190ea8ba",
   "metadata": {},
   "source": [
    "Importons le jeu de données classiques sur trois types d'iris (Versicolor, Virginica et Setosa) décrits par quatre paramètres qui sont les longueur et largeurs des pétales et des sépales.\n",
    "\n",
    "Exemple des 4 mesures décrites sur un iris versicolor:\n",
    "\n",
    "<img src='media/versicolor-petal-sepal.jpg' width=200>"
   ]
  },
  {
   "cell_type": "code",
   "execution_count": 3,
   "id": "517f5ef9",
   "metadata": {},
   "outputs": [
    {
     "data": {
      "text/html": [
       "<div>\n",
       "<style scoped>\n",
       "    .dataframe tbody tr th:only-of-type {\n",
       "        vertical-align: middle;\n",
       "    }\n",
       "\n",
       "    .dataframe tbody tr th {\n",
       "        vertical-align: top;\n",
       "    }\n",
       "\n",
       "    .dataframe thead th {\n",
       "        text-align: right;\n",
       "    }\n",
       "</style>\n",
       "<table border=\"1\" class=\"dataframe\">\n",
       "  <thead>\n",
       "    <tr style=\"text-align: right;\">\n",
       "      <th></th>\n",
       "      <th>SepalLength</th>\n",
       "      <th>SepalWidth</th>\n",
       "      <th>PetalLength</th>\n",
       "      <th>PetalWidth</th>\n",
       "      <th>Name</th>\n",
       "    </tr>\n",
       "  </thead>\n",
       "  <tbody>\n",
       "    <tr>\n",
       "      <th>0</th>\n",
       "      <td>5.1</td>\n",
       "      <td>3.5</td>\n",
       "      <td>1.4</td>\n",
       "      <td>0.2</td>\n",
       "      <td>Iris-setosa</td>\n",
       "    </tr>\n",
       "    <tr>\n",
       "      <th>1</th>\n",
       "      <td>4.9</td>\n",
       "      <td>3.0</td>\n",
       "      <td>1.4</td>\n",
       "      <td>0.2</td>\n",
       "      <td>Iris-setosa</td>\n",
       "    </tr>\n",
       "    <tr>\n",
       "      <th>2</th>\n",
       "      <td>4.7</td>\n",
       "      <td>3.2</td>\n",
       "      <td>1.3</td>\n",
       "      <td>0.2</td>\n",
       "      <td>Iris-setosa</td>\n",
       "    </tr>\n",
       "    <tr>\n",
       "      <th>3</th>\n",
       "      <td>4.6</td>\n",
       "      <td>3.1</td>\n",
       "      <td>1.5</td>\n",
       "      <td>0.2</td>\n",
       "      <td>Iris-setosa</td>\n",
       "    </tr>\n",
       "    <tr>\n",
       "      <th>4</th>\n",
       "      <td>5.0</td>\n",
       "      <td>3.6</td>\n",
       "      <td>1.4</td>\n",
       "      <td>0.2</td>\n",
       "      <td>Iris-setosa</td>\n",
       "    </tr>\n",
       "  </tbody>\n",
       "</table>\n",
       "</div>"
      ],
      "text/plain": [
       "   SepalLength  SepalWidth  PetalLength  PetalWidth         Name\n",
       "0          5.1         3.5          1.4         0.2  Iris-setosa\n",
       "1          4.9         3.0          1.4         0.2  Iris-setosa\n",
       "2          4.7         3.2          1.3         0.2  Iris-setosa\n",
       "3          4.6         3.1          1.5         0.2  Iris-setosa\n",
       "4          5.0         3.6          1.4         0.2  Iris-setosa"
      ]
     },
     "execution_count": 3,
     "metadata": {},
     "output_type": "execute_result"
    }
   ],
   "source": [
    "file = 'iris.csv'\n",
    "df = pd.read_csv(file)\n",
    "df.head()"
   ]
  },
  {
   "cell_type": "markdown",
   "id": "7cd936e7",
   "metadata": {},
   "source": [
    "Nous voici avec une table qui décrit 150 iris avec 5 paramètres (les 4 mesures et le type):"
   ]
  },
  {
   "cell_type": "code",
   "execution_count": 4,
   "id": "c574ea72",
   "metadata": {},
   "outputs": [
    {
     "data": {
      "text/plain": [
       "(150, 5)"
      ]
     },
     "execution_count": 4,
     "metadata": {},
     "output_type": "execute_result"
    }
   ],
   "source": [
    "df.shape"
   ]
  },
  {
   "cell_type": "markdown",
   "id": "93e0ea38",
   "metadata": {},
   "source": [
    "Les colonnes sont des nombres flottants pour les 4 mesures et de type `object` pour les types."
   ]
  },
  {
   "cell_type": "code",
   "execution_count": 5,
   "id": "c3b0056a",
   "metadata": {},
   "outputs": [
    {
     "data": {
      "text/plain": [
       "SepalLength    float64\n",
       "SepalWidth     float64\n",
       "PetalLength    float64\n",
       "PetalWidth     float64\n",
       "Name            object\n",
       "dtype: object"
      ]
     },
     "execution_count": 5,
     "metadata": {},
     "output_type": "execute_result"
    }
   ],
   "source": [
    "df.dtypes"
   ]
  },
  {
   "cell_type": "markdown",
   "id": "b727259e",
   "metadata": {},
   "source": [
    "et s'agissant de `Name`, nous en avons bien 3"
   ]
  },
  {
   "cell_type": "code",
   "execution_count": 6,
   "id": "f4000c81",
   "metadata": {},
   "outputs": [
    {
     "data": {
      "text/plain": [
       "Name\n",
       "Iris-setosa        50\n",
       "Iris-versicolor    50\n",
       "Iris-virginica     50\n",
       "dtype: int64"
      ]
     },
     "execution_count": 6,
     "metadata": {},
     "output_type": "execute_result"
    }
   ],
   "source": [
    "df.groupby('Name').size()"
   ]
  },
  {
   "cell_type": "markdown",
   "id": "4c649b23",
   "metadata": {},
   "source": [
    "## encodons les catégories par des entiers"
   ]
  },
  {
   "cell_type": "markdown",
   "id": "d6f05475",
   "metadata": {},
   "source": [
    "Nous allons créer dans la dataframe une nouvelle colonne, de nom `Type`, qui va coder ces trois noms par trois entiers (0, 1 et 2)\n",
    "\n",
    "Pourquoi on a envie de faire ça ? eh bien lorsqu'on parle de visualisation, c'est toujours plus facile de visualiser des nombres que des textes"
   ]
  },
  {
   "cell_type": "markdown",
   "id": "df673f33",
   "metadata": {},
   "source": [
    "Pour y arriver :\n",
    "\n",
    "1. on prend la colonne `name` qui est de type `object`\n",
    "1. on la transforme en une colonne de type `category` grâce à la fonction `astype` des dataframes\n",
    "1. on extrait les codes générés par `pandas` pour les trois noms de types d'iris `cat.codes`\n",
    "1. on ajoute cette colonne de codes (de type entier) à la dataframe, en l'appelant `Type`"
   ]
  },
  {
   "cell_type": "code",
   "execution_count": 7,
   "id": "c55dccf4",
   "metadata": {},
   "outputs": [],
   "source": [
    "# on crée une nouvelle colonne\n",
    "df['Type'] = df['Name'].astype('category').cat.codes"
   ]
  },
  {
   "cell_type": "markdown",
   "id": "a21898f6",
   "metadata": {},
   "source": [
    "Vérifions"
   ]
  },
  {
   "cell_type": "code",
   "execution_count": 8,
   "id": "e1f34f8e",
   "metadata": {},
   "outputs": [
    {
     "data": {
      "text/plain": [
       "SepalLength    float64\n",
       "SepalWidth     float64\n",
       "PetalLength    float64\n",
       "PetalWidth     float64\n",
       "Name            object\n",
       "Type              int8\n",
       "dtype: object"
      ]
     },
     "execution_count": 8,
     "metadata": {},
     "output_type": "execute_result"
    }
   ],
   "source": [
    "df.dtypes"
   ]
  },
  {
   "cell_type": "markdown",
   "id": "0131638e",
   "metadata": {},
   "source": [
    "On voit la nouvelle colonne de type `int8`, et elle contient bien ce qu'on veut :"
   ]
  },
  {
   "cell_type": "code",
   "execution_count": 9,
   "id": "50bfce22",
   "metadata": {},
   "outputs": [
    {
     "data": {
      "text/html": [
       "<div>\n",
       "<style scoped>\n",
       "    .dataframe tbody tr th:only-of-type {\n",
       "        vertical-align: middle;\n",
       "    }\n",
       "\n",
       "    .dataframe tbody tr th {\n",
       "        vertical-align: top;\n",
       "    }\n",
       "\n",
       "    .dataframe thead th {\n",
       "        text-align: right;\n",
       "    }\n",
       "</style>\n",
       "<table border=\"1\" class=\"dataframe\">\n",
       "  <thead>\n",
       "    <tr style=\"text-align: right;\">\n",
       "      <th></th>\n",
       "      <th>SepalLength</th>\n",
       "      <th>SepalWidth</th>\n",
       "      <th>PetalLength</th>\n",
       "      <th>PetalWidth</th>\n",
       "      <th>Name</th>\n",
       "      <th>Type</th>\n",
       "    </tr>\n",
       "  </thead>\n",
       "  <tbody>\n",
       "    <tr>\n",
       "      <th>0</th>\n",
       "      <td>5.1</td>\n",
       "      <td>3.5</td>\n",
       "      <td>1.4</td>\n",
       "      <td>0.2</td>\n",
       "      <td>Iris-setosa</td>\n",
       "      <td>0</td>\n",
       "    </tr>\n",
       "    <tr>\n",
       "      <th>1</th>\n",
       "      <td>4.9</td>\n",
       "      <td>3.0</td>\n",
       "      <td>1.4</td>\n",
       "      <td>0.2</td>\n",
       "      <td>Iris-setosa</td>\n",
       "      <td>0</td>\n",
       "    </tr>\n",
       "    <tr>\n",
       "      <th>2</th>\n",
       "      <td>4.7</td>\n",
       "      <td>3.2</td>\n",
       "      <td>1.3</td>\n",
       "      <td>0.2</td>\n",
       "      <td>Iris-setosa</td>\n",
       "      <td>0</td>\n",
       "    </tr>\n",
       "    <tr>\n",
       "      <th>3</th>\n",
       "      <td>4.6</td>\n",
       "      <td>3.1</td>\n",
       "      <td>1.5</td>\n",
       "      <td>0.2</td>\n",
       "      <td>Iris-setosa</td>\n",
       "      <td>0</td>\n",
       "    </tr>\n",
       "    <tr>\n",
       "      <th>4</th>\n",
       "      <td>5.0</td>\n",
       "      <td>3.6</td>\n",
       "      <td>1.4</td>\n",
       "      <td>0.2</td>\n",
       "      <td>Iris-setosa</td>\n",
       "      <td>0</td>\n",
       "    </tr>\n",
       "  </tbody>\n",
       "</table>\n",
       "</div>"
      ],
      "text/plain": [
       "   SepalLength  SepalWidth  PetalLength  PetalWidth         Name  Type\n",
       "0          5.1         3.5          1.4         0.2  Iris-setosa     0\n",
       "1          4.9         3.0          1.4         0.2  Iris-setosa     0\n",
       "2          4.7         3.2          1.3         0.2  Iris-setosa     0\n",
       "3          4.6         3.1          1.5         0.2  Iris-setosa     0\n",
       "4          5.0         3.6          1.4         0.2  Iris-setosa     0"
      ]
     },
     "execution_count": 9,
     "metadata": {},
     "output_type": "execute_result"
    }
   ],
   "source": [
    "df.head()"
   ]
  },
  {
   "cell_type": "markdown",
   "id": "cc78984f",
   "metadata": {},
   "source": [
    "## dessinons la dataframe - `df.plot()`"
   ]
  },
  {
   "cell_type": "markdown",
   "id": "fdcc226d",
   "metadata": {},
   "source": [
    "Nous pouvons voir dans cet exemple, qu'une simple visualisation des colonnes numériques apporte beaucoup d'informations sur ces données.\n",
    "\n",
    "Par exemple, dans ce jeu de données, les mesures semblent discriminer les 3 types d'Iris."
   ]
  },
  {
   "cell_type": "code",
   "execution_count": 10,
   "id": "dab26d35",
   "metadata": {},
   "outputs": [
    {
     "data": {
      "image/png": "[encoded data removed]",
      "text/plain": [
       "<Figure size 432x288 with 1 Axes>"
      ]
     },
     "metadata": {
      "filenames": {
       "image/png": "/home/runner/work/python-numerique/python-numerique/notebooks/_build/jupyter_execute/4-04-matplotlib-pandas-dataframe_24_0.png"
      },
      "needs_background": "light"
     },
     "output_type": "display_data"
    }
   ],
   "source": [
    "df.plot();"
   ]
  },
  {
   "cell_type": "markdown",
   "id": "57e6738e",
   "metadata": {},
   "source": [
    "Naturellement la fonction `pandas.DataFrame.plot` aura les mêmes paramètres que la fonction `matplotlib.pyplot.plot` ! elles utilisent toutes les deux la même fonction ! Donc vous pourrez changer le titre, les noms des axes..."
   ]
  },
  {
   "cell_type": "markdown",
   "id": "9d03a53c",
   "metadata": {},
   "source": [
    "Remarquez ici que l'encodage de la famille par notre colonne d'entiers `Type` nous permet de voir immédiatement les 3 familles de fleurs !"
   ]
  },
  {
   "cell_type": "markdown",
   "id": "d79feba2",
   "metadata": {},
   "source": [
    "## dessinons des boxplots des colonnes - `df.boxplot`\n",
    "\n",
    "Nous pouvons les dessiner ensemble de manière à ce que les boxplots soient sur la même échelle, et puissent être comparés. Les boxplots comportent: le minimun, le maximum, la médiane, le premier et le troisième quartile..."
   ]
  },
  {
   "cell_type": "code",
   "execution_count": 11,
   "id": "939be7cb",
   "metadata": {},
   "outputs": [
    {
     "data": {
      "image/png": "[encoded data removed]",
      "text/plain": [
       "<Figure size 432x288 with 1 Axes>"
      ]
     },
     "metadata": {
      "filenames": {
       "image/png": "/home/runner/work/python-numerique/python-numerique/notebooks/_build/jupyter_execute/4-04-matplotlib-pandas-dataframe_28_0.png"
      },
      "needs_background": "light"
     },
     "output_type": "display_data"
    }
   ],
   "source": [
    "df.boxplot();"
   ]
  },
  {
   "cell_type": "markdown",
   "id": "7a558ffa",
   "metadata": {},
   "source": [
    "Nous pouvons dessiner en donnant la liste des colonnes à afficher."
   ]
  },
  {
   "cell_type": "code",
   "execution_count": 12,
   "id": "43d0dbd3",
   "metadata": {},
   "outputs": [
    {
     "data": {
      "image/png": "[encoded data removed]",
      "text/plain": [
       "<Figure size 432x288 with 1 Axes>"
      ]
     },
     "metadata": {
      "filenames": {
       "image/png": "/home/runner/work/python-numerique/python-numerique/notebooks/_build/jupyter_execute/4-04-matplotlib-pandas-dataframe_30_0.png"
      },
      "needs_background": "light"
     },
     "output_type": "display_data"
    }
   ],
   "source": [
    "df.boxplot(['SepalLength', 'SepalWidth', 'PetalLength', 'PetalWidth']);"
   ]
  },
  {
   "cell_type": "markdown",
   "id": "348274cc",
   "metadata": {},
   "source": [
    "On remarque des outliers dans la colonne des `SepalWidth`. Les outliers sont des points en *dehors* de bornes *calculées* indiquées par les moustaches. Ces points sont potentiellement des points *aberrants*. Pour comprendre comment sont calculés les points *extrèmes* lisez les documentations des boîtes à moustache.\n",
    "\n",
    "Affichons le boxplot de la colonne `SepalWidth`"
   ]
  },
  {
   "cell_type": "code",
   "execution_count": 13,
   "id": "7b9d4dd1",
   "metadata": {},
   "outputs": [
    {
     "data": {
      "image/png": "[encoded data removed]",
      "text/plain": [
       "<Figure size 432x288 with 1 Axes>"
      ]
     },
     "metadata": {
      "filenames": {
       "image/png": "/home/runner/work/python-numerique/python-numerique/notebooks/_build/jupyter_execute/4-04-matplotlib-pandas-dataframe_32_0.png"
      },
      "needs_background": "light"
     },
     "output_type": "display_data"
    }
   ],
   "source": [
    "df.boxplot(['SepalWidth']);"
   ]
  },
  {
   "cell_type": "markdown",
   "id": "d53f706b",
   "metadata": {},
   "source": [
    "Nous pouvons grouper les boxplots suivant les valeurs d'une colonne. Vous vous rappelez `groupby`. C'est très utile:"
   ]
  },
  {
   "cell_type": "code",
   "execution_count": 14,
   "id": "1b942b0f",
   "metadata": {},
   "outputs": [
    {
     "data": {
      "image/png": "[encoded data removed]",
      "text/plain": [
       "<Figure size 432x288 with 1 Axes>"
      ]
     },
     "metadata": {
      "filenames": {
       "image/png": "/home/runner/work/python-numerique/python-numerique/notebooks/_build/jupyter_execute/4-04-matplotlib-pandas-dataframe_34_0.png"
      },
      "needs_background": "light"
     },
     "output_type": "display_data"
    }
   ],
   "source": [
    "df.boxplot(['PetalLength'], by='Name');"
   ]
  },
  {
   "cell_type": "markdown",
   "id": "d9c0a5ba",
   "metadata": {},
   "source": [
    "Nous remarquons que les iris *Setosa* ont des `PetalLength` bien plus petits que ceux des autres types d'iris."
   ]
  },
  {
   "cell_type": "markdown",
   "id": "96c7db20",
   "metadata": {},
   "source": [
    "## dessinons des histogrammes - `df.hist`\n",
    "\n",
    "Nous pouvons dessiner les histogrammes de nos dataframes. Ils représentent la distribution des valeurs d'une colonne. Les valeurs de la colonne sont rangées dans des intervalles (ou *bins*) et les nombres de valeurs par intervalles sont affichés."
   ]
  },
  {
   "cell_type": "code",
   "execution_count": 15,
   "id": "760df8f1",
   "metadata": {
    "cell_style": "center"
   },
   "outputs": [
    {
     "data": {
      "image/png": "[encoded data removed]",
      "text/plain": [
       "<Figure size 432x288 with 6 Axes>"
      ]
     },
     "metadata": {
      "filenames": {
       "image/png": "/home/runner/work/python-numerique/python-numerique/notebooks/_build/jupyter_execute/4-04-matplotlib-pandas-dataframe_37_0.png"
      },
      "needs_background": "light"
     },
     "output_type": "display_data"
    }
   ],
   "source": [
    "df.hist();"
   ]
  },
  {
   "cell_type": "markdown",
   "id": "816e914d",
   "metadata": {},
   "source": [
    "On peut dessiner l'histogramme d'une seule colonne, on peut décider du nombre d'intervalles (*bins=*), de la couleur (*color=*)..."
   ]
  },
  {
   "cell_type": "code",
   "execution_count": 16,
   "id": "2886d163",
   "metadata": {
    "cell_style": "center"
   },
   "outputs": [
    {
     "data": {
      "image/png": "[encoded data removed]",
      "text/plain": [
       "<Figure size 432x288 with 1 Axes>"
      ]
     },
     "metadata": {
      "filenames": {
       "image/png": "/home/runner/work/python-numerique/python-numerique/notebooks/_build/jupyter_execute/4-04-matplotlib-pandas-dataframe_39_0.png"
      },
      "needs_background": "light"
     },
     "output_type": "display_data"
    }
   ],
   "source": [
    "df.hist('SepalLength', bins = 10, color='lightblue');"
   ]
  },
  {
   "cell_type": "markdown",
   "id": "13169bf0",
   "metadata": {},
   "source": [
    "## dessinons des barcharts (`DataFrame.plot.bar`)\n",
    "\n",
    "On va prendre un exemple qui illustre mieux cette possibilité. Celui des animaux, de leur vitesse et de leur durée de vie."
   ]
  },
  {
   "cell_type": "code",
   "execution_count": 17,
   "id": "748eb483",
   "metadata": {},
   "outputs": [
    {
     "data": {
      "text/html": [
       "<div>\n",
       "<style scoped>\n",
       "    .dataframe tbody tr th:only-of-type {\n",
       "        vertical-align: middle;\n",
       "    }\n",
       "\n",
       "    .dataframe tbody tr th {\n",
       "        vertical-align: top;\n",
       "    }\n",
       "\n",
       "    .dataframe thead th {\n",
       "        text-align: right;\n",
       "    }\n",
       "</style>\n",
       "<table border=\"1\" class=\"dataframe\">\n",
       "  <thead>\n",
       "    <tr style=\"text-align: right;\">\n",
       "      <th></th>\n",
       "      <th>speed</th>\n",
       "      <th>lifespan</th>\n",
       "    </tr>\n",
       "  </thead>\n",
       "  <tbody>\n",
       "    <tr>\n",
       "      <th>snail</th>\n",
       "      <td>0.1</td>\n",
       "      <td>2.0</td>\n",
       "    </tr>\n",
       "    <tr>\n",
       "      <th>pig</th>\n",
       "      <td>17.5</td>\n",
       "      <td>8.0</td>\n",
       "    </tr>\n",
       "    <tr>\n",
       "      <th>elephant</th>\n",
       "      <td>40.0</td>\n",
       "      <td>70.0</td>\n",
       "    </tr>\n",
       "    <tr>\n",
       "      <th>rabbit</th>\n",
       "      <td>48.0</td>\n",
       "      <td>1.5</td>\n",
       "    </tr>\n",
       "    <tr>\n",
       "      <th>giraffe</th>\n",
       "      <td>52.0</td>\n",
       "      <td>25.0</td>\n",
       "    </tr>\n",
       "    <tr>\n",
       "      <th>coyote</th>\n",
       "      <td>69.0</td>\n",
       "      <td>12.0</td>\n",
       "    </tr>\n",
       "    <tr>\n",
       "      <th>horse</th>\n",
       "      <td>88.0</td>\n",
       "      <td>28.0</td>\n",
       "    </tr>\n",
       "  </tbody>\n",
       "</table>\n",
       "</div>"
      ],
      "text/plain": [
       "          speed  lifespan\n",
       "snail       0.1       2.0\n",
       "pig        17.5       8.0\n",
       "elephant   40.0      70.0\n",
       "rabbit     48.0       1.5\n",
       "giraffe    52.0      25.0\n",
       "coyote     69.0      12.0\n",
       "horse      88.0      28.0"
      ]
     },
     "execution_count": 17,
     "metadata": {},
     "output_type": "execute_result"
    }
   ],
   "source": [
    "df_animals = pd.DataFrame({'speed' : [0.1, 17.5, 40, 48, 52, 69, 88],\n",
    "                   'lifespan' : [2, 8, 70, 1.5, 25, 12, 28]},\n",
    "                  index = ['snail', 'pig', 'elephant',\n",
    "                           'rabbit', 'giraffe', 'coyote', 'horse'])\n",
    "df_animals"
   ]
  },
  {
   "cell_type": "markdown",
   "id": "bf9c7ea0",
   "metadata": {},
   "source": [
    "On peut avoir des barres verticales:"
   ]
  },
  {
   "cell_type": "code",
   "execution_count": 18,
   "id": "23982463",
   "metadata": {},
   "outputs": [
    {
     "data": {
      "image/png": "[encoded data removed]",
      "text/plain": [
       "<Figure size 432x288 with 1 Axes>"
      ]
     },
     "metadata": {
      "filenames": {
       "image/png": "/home/runner/work/python-numerique/python-numerique/notebooks/_build/jupyter_execute/4-04-matplotlib-pandas-dataframe_43_0.png"
      },
      "needs_background": "light"
     },
     "output_type": "display_data"
    }
   ],
   "source": [
    "df_animals.plot.bar();"
   ]
  },
  {
   "cell_type": "markdown",
   "id": "5d9d5ad2",
   "metadata": {},
   "source": [
    "Des barres horizontales:"
   ]
  },
  {
   "cell_type": "code",
   "execution_count": 19,
   "id": "7fc8d4da",
   "metadata": {
    "cell_style": "center"
   },
   "outputs": [
    {
     "data": {
      "image/png": "[encoded data removed]",
      "text/plain": [
       "<Figure size 432x288 with 1 Axes>"
      ]
     },
     "metadata": {
      "filenames": {
       "image/png": "/home/runner/work/python-numerique/python-numerique/notebooks/_build/jupyter_execute/4-04-matplotlib-pandas-dataframe_45_0.png"
      },
      "needs_background": "light"
     },
     "output_type": "display_data"
    }
   ],
   "source": [
    "df_animals.plot.barh();"
   ]
  },
  {
   "cell_type": "markdown",
   "id": "8d16393f",
   "metadata": {},
   "source": [
    "On peut indiquer la vitesse par durée de vie:"
   ]
  },
  {
   "cell_type": "code",
   "execution_count": 20,
   "id": "48ffb482",
   "metadata": {
    "cell_style": "center"
   },
   "outputs": [
    {
     "data": {
      "image/png": "[encoded data removed]",
      "text/plain": [
       "<Figure size 432x288 with 1 Axes>"
      ]
     },
     "metadata": {
      "filenames": {
       "image/png": "/home/runner/work/python-numerique/python-numerique/notebooks/_build/jupyter_execute/4-04-matplotlib-pandas-dataframe_47_0.png"
      },
      "needs_background": "light"
     },
     "output_type": "display_data"
    }
   ],
   "source": [
    "df_animals.plot.bar(x='lifespan', y='speed');"
   ]
  },
  {
   "cell_type": "markdown",
   "id": "7e4a0357",
   "metadata": {},
   "source": [
    "## dessiner des paires de colonnes - `df.plot.scatter`\n",
    "\n",
    "Dessiner en 2D les colonnes les unes par rapport aux autres peut mettre en valeur des informations intéressantes, surtout quand on ajoute des informations d'autres colonnes par des couleurs ou des tailles de points."
   ]
  },
  {
   "cell_type": "markdown",
   "id": "d01fdcb8",
   "metadata": {},
   "source": [
    "Dans le jeu des données des iris, on peut dessiner une colonne par rapport à une autre en mettant des couleurs différentes aux points suivant le type des iris."
   ]
  },
  {
   "cell_type": "code",
   "execution_count": 21,
   "id": "3f0a2d92",
   "metadata": {},
   "outputs": [
    {
     "data": {
      "image/png": "[encoded data removed]",
      "text/plain": [
       "<Figure size 432x288 with 1 Axes>"
      ]
     },
     "metadata": {
      "filenames": {
       "image/png": "/home/runner/work/python-numerique/python-numerique/notebooks/_build/jupyter_execute/4-04-matplotlib-pandas-dataframe_50_0.png"
      },
      "needs_background": "light"
     },
     "output_type": "display_data"
    }
   ],
   "source": [
    "df.plot.scatter(x='SepalLength', y='SepalWidth');"
   ]
  },
  {
   "cell_type": "markdown",
   "id": "a25c9dfe",
   "metadata": {},
   "source": [
    "Ce serait bien plus intéressant si on ajoute le type en utilisant une couleur. Par exemple on va considérer que les 3 types, donnés par des entiers, sont 3 couleurs différentes i.e. ces 3 valeurs seront des codes de couleur différents dans la table de couleur par défaut.\n",
    "\n",
    "Il faut utiliser le paramètre *c=* de la fonction `scatter`."
   ]
  },
  {
   "cell_type": "code",
   "execution_count": 22,
   "id": "2bfb8471",
   "metadata": {},
   "outputs": [
    {
     "data": {
      "image/png": "[encoded data removed]",
      "text/plain": [
       "<Figure size 432x288 with 1 Axes>"
      ]
     },
     "metadata": {
      "filenames": {
       "image/png": "/home/runner/work/python-numerique/python-numerique/notebooks/_build/jupyter_execute/4-04-matplotlib-pandas-dataframe_52_0.png"
      },
      "needs_background": "light"
     },
     "output_type": "display_data"
    }
   ],
   "source": [
    "plt.scatter(df['SepalLength'], df['SepalWidth'], c=df['Type']);"
   ]
  },
  {
   "cell_type": "markdown",
   "id": "a3350691",
   "metadata": {},
   "source": [
    "On va donner aux points, une taille proportionnelle à la largeur des pétales."
   ]
  },
  {
   "cell_type": "code",
   "execution_count": 23,
   "id": "504e6701",
   "metadata": {},
   "outputs": [
    {
     "data": {
      "image/png": "[encoded data removed]",
      "text/plain": [
       "<Figure size 432x288 with 1 Axes>"
      ]
     },
     "metadata": {
      "filenames": {
       "image/png": "/home/runner/work/python-numerique/python-numerique/notebooks/_build/jupyter_execute/4-04-matplotlib-pandas-dataframe_54_0.png"
      },
      "needs_background": "light"
     },
     "output_type": "display_data"
    }
   ],
   "source": [
    "plt.scatter(df['SepalLength'], df['SepalWidth'], c=df['Type'], s=df['PetalWidth']*50); # parameter s"
   ]
  },
  {
   "cell_type": "markdown",
   "id": "1346ecd5",
   "metadata": {},
   "source": [
    "## Exercice"
   ]
  },
  {
   "cell_type": "markdown",
   "id": "972999cf",
   "metadata": {},
   "source": [
    "### visualisation de données sur des vins italiens"
   ]
  },
  {
   "cell_type": "markdown",
   "id": "c178ca7a",
   "metadata": {},
   "source": [
    "Ces données sont le résultat d'analyses chimiques de vins, cultivés dans une même région d'Italie, mais issus de trois cultivateurs différents. Les données sont les quantités, trouvées dans les vins, de 13 constituants.\n",
    "\n",
    "Le fichier s'appelle `wine.csv`. La première ligne contient les noms des colonnes et la première colonne identifie le cultivaleur 1, 2 et 3.\n",
    "   1. lisez le fichier *csv* en ne gardant que les colonnes \\['cultivator', 'alcohol', 'malic-acid', 'ash','total-phenols', 'flavanoids','Color-intensity', 'Hue'\\]  \n",
    "   (indice utilisez: `use_cols`)\n",
    "   1. afficher le header de la dataframe\n",
    "   1. afficher les types déterminés par `pandas`\n",
    "   1. afficher les statistiques simples (minimum, maximum, moyenne, écart-type...)\n",
    "   1. plottez la dataframe en lui passant le paramètre *figsize=(10, 10)*\n",
    "   1. plottez la dataframe restreinte aux deux colonnes \\['flavanoids', 'cultivator'\\]\n",
    "   1. visualisez les boxplots de la dataframe utilisez la fonction *plt.xticks(rotation=90)* pour mieux voir les labels des abscisses\n",
    "   1. visualisez des histogrammes avec des regroupements de 20 éléments\n",
    "   1. afficher l'alcool en fonction de l'acide malique avec comme couleur les numéros des cultivateurs."
   ]
  }
 ],
 "metadata": {
  "jupytext": {
   "cell_metadata_filter": "all,-hidden,-heading_collapsed",
   "cell_metadata_json": true,
   "notebook_metadata_filter": "all,-language_info,-toc,-jupytext.text_representation.jupytext_version,-jupytext.text_representation.format_version",
   "text_representation": {
    "extension": ".md",
    "format_name": "myst"
   }
  },
  "kernelspec": {
   "display_name": "Python 3",
   "language": "python",
   "name": "python3"
  },
  "language_info": {
   "codemirror_mode": {
    "name": "ipython",
    "version": 3
   },
   "file_extension": ".py",
   "mimetype": "text/x-python",
   "name": "python",
   "nbconvert_exporter": "python",
   "pygments_lexer": "ipython3",
   "version": "3.9.5"
  },
  "notebookname": "matplotlib & pandas",
  "source_map": [
   15,
   25,
   40,
   44,
   49,
   52,
   56,
   64,
   68,
   72,
   74,
   78,
   80,
   84,
   86,
   90,
   96,
   105,
   108,
   112,
   114,
   118,
   120,
   124,
   130,
   132,
   136,
   140,
   146,
   148,
   152,
   154,
   160,
   162,
   166,
   168,
   172,
   178,
   182,
   186,
   190,
   196,
   202,
   206,
   208,
   212,
   216,
   220,
   224,
   230,
   234,
   236,
   242,
   244,
   248,
   250,
   254,
   258
  ],
  "version": "1.0"
 },
 "nbformat": 4,
 "nbformat_minor": 5
}