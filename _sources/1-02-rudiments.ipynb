{
 "cells": [
  {
   "cell_type": "markdown",
   "id": "d4f8825d",
   "metadata": {
    "slideshow": {
     "slide_type": "slide"
    }
   },
   "source": [
    "<div class=\"licence\">\n",
    "<span>Licence CC BY-NC-ND</span>\n",
    "<span>Thierry Parmentelat</span>\n",
    "</div>\n",
    "\n",
    "<img src=\"media/inria-25-alpha.png\" />"
   ]
  },
  {
   "cell_type": "markdown",
   "id": "1d77d4d5",
   "metadata": {
    "slideshow": {
     "slide_type": ""
    }
   },
   "source": [
    "# rudiments de Python"
   ]
  },
  {
   "cell_type": "markdown",
   "id": "01923002",
   "metadata": {
    "slideshow": {
     "slide_type": "slide"
    }
   },
   "source": [
    "## commentaires\n",
    "\n",
    "tout ce qui est après un `#` est un commentaire,  \n",
    "et sera ignoré par l'interpréteur Python"
   ]
  },
  {
   "cell_type": "code",
   "execution_count": 1,
   "id": "5e9424bd",
   "metadata": {},
   "outputs": [
    {
     "data": {
      "text/plain": [
       "100"
      ]
     },
     "execution_count": 1,
     "metadata": {},
     "output_type": "execute_result"
    }
   ],
   "source": [
    "# ceci est un commentaire\n",
    "\n",
    "10 * 10   # et ici aussi"
   ]
  },
  {
   "cell_type": "markdown",
   "id": "ed21b8ff",
   "metadata": {
    "slideshow": {
     "slide_type": "slide"
    }
   },
   "source": [
    "## nombres"
   ]
  },
  {
   "cell_type": "code",
   "execution_count": 2,
   "id": "0e250060",
   "metadata": {
    "cell_style": "split"
   },
   "outputs": [
    {
     "data": {
      "text/plain": [
       "10"
      ]
     },
     "execution_count": 2,
     "metadata": {},
     "output_type": "execute_result"
    }
   ],
   "source": [
    "# entiers\n",
    "10"
   ]
  },
  {
   "cell_type": "code",
   "execution_count": 3,
   "id": "eadb2641",
   "metadata": {
    "cell_style": "split"
   },
   "outputs": [
    {
     "data": {
      "text/plain": [
       "3.14"
      ]
     },
     "execution_count": 3,
     "metadata": {},
     "output_type": "execute_result"
    }
   ],
   "source": [
    "# flottants\n",
    "3.14"
   ]
  },
  {
   "cell_type": "code",
   "execution_count": 4,
   "id": "6a4c55a4",
   "metadata": {
    "cell_style": "split"
   },
   "outputs": [
    {
     "data": {
      "text/plain": [
       "(-4+2j)"
      ]
     },
     "execution_count": 4,
     "metadata": {},
     "output_type": "execute_result"
    }
   ],
   "source": [
    "# complexes\n",
    "1j * (2+4j)"
   ]
  },
  {
   "cell_type": "code",
   "execution_count": 5,
   "id": "9514b165",
   "metadata": {
    "cell_style": "split"
   },
   "outputs": [
    {
     "data": {
      "text/plain": [
       "True"
      ]
     },
     "execution_count": 5,
     "metadata": {},
     "output_type": "execute_result"
    }
   ],
   "source": [
    "# booléens True et False\n",
    "True"
   ]
  },
  {
   "cell_type": "markdown",
   "id": "2e8b4b97",
   "metadata": {
    "slideshow": {
     "slide_type": "slide"
    }
   },
   "source": [
    "## variables\n",
    "\n",
    "pour définir une variable, il suffit de l'affecter avec le signe `=`"
   ]
  },
  {
   "cell_type": "code",
   "execution_count": 6,
   "id": "560d7ec5",
   "metadata": {
    "cell_style": "split",
    "slideshow": {
     "slide_type": ""
    }
   },
   "outputs": [],
   "source": [
    "# remarquez que ceci n'affiche rien\n",
    "a = 10"
   ]
  },
  {
   "cell_type": "code",
   "execution_count": 7,
   "id": "770f3cc1",
   "metadata": {
    "cell_style": "split"
   },
   "outputs": [
    {
     "data": {
      "text/plain": [
       "20"
      ]
     },
     "execution_count": 7,
     "metadata": {},
     "output_type": "execute_result"
    }
   ],
   "source": [
    "# l'utilité c'est bien sûr\n",
    "# de garder un résultat pour\n",
    "# s'en reservir ensuite\n",
    "a + a"
   ]
  },
  {
   "cell_type": "markdown",
   "id": "d814d4e6",
   "metadata": {
    "slideshow": {
     "slide_type": "slide"
    }
   },
   "source": [
    "## fonctions\n",
    "\n",
    "on définit une fonction avec le mot-clé `def`"
   ]
  },
  {
   "cell_type": "code",
   "execution_count": 8,
   "id": "ebd80432",
   "metadata": {
    "cell_style": "split"
   },
   "outputs": [],
   "source": [
    "# on définit une fonction en donnant un nom\n",
    "# aux paramètres\n",
    "#\n",
    "# à nouveau ici on ne va rien afficher\n",
    "def P(x):\n",
    "    return x**2 + 3*x + 2"
   ]
  },
  {
   "cell_type": "code",
   "execution_count": 9,
   "id": "fa1686fc",
   "metadata": {
    "cell_style": "split"
   },
   "outputs": [
    {
     "data": {
      "text/plain": [
       "132"
      ]
     },
     "execution_count": 9,
     "metadata": {},
     "output_type": "execute_result"
    }
   ],
   "source": [
    "# mais on peut maintenant\n",
    "# appeler la fonction P\n",
    "P(10)"
   ]
  },
  {
   "cell_type": "code",
   "execution_count": 10,
   "id": "f1896cd5",
   "metadata": {
    "cell_style": "split"
   },
   "outputs": [
    {
     "data": {
      "text/plain": [
       "10302"
      ]
     },
     "execution_count": 10,
     "metadata": {},
     "output_type": "execute_result"
    }
   ],
   "source": [
    "P(100)"
   ]
  },
  {
   "cell_type": "markdown",
   "id": "bcdda523",
   "metadata": {
    "slideshow": {
     "slide_type": "slide"
    }
   },
   "source": [
    "## mots clés"
   ]
  },
  {
   "cell_type": "markdown",
   "id": "f52dd2c2",
   "metadata": {
    "cell_style": "center"
   },
   "source": [
    "un certain nombre de mots sont réservés dans `Python`;  \n",
    "ce sont les \"mots-clé\" du langage   \n",
    "on ne peut pas les utiliser comme noms de variable"
   ]
  },
  {
   "cell_type": "markdown",
   "id": "251a8d88",
   "metadata": {
    "cell_style": "split"
   },
   "source": [
    "```python\n",
    "# ceci provoque une erreur\n",
    "if = 2\n",
    "\n",
    "  File \"<ipython-input>\", line 3\n",
    "    if = 2\n",
    "       ^\n",
    "SyntaxError: invalid syntax\n",
    "```"
   ]
  },
  {
   "cell_type": "markdown",
   "id": "be391c47",
   "metadata": {
    "cell_style": "split"
   },
   "source": [
    "| **liste**    |   &nbsp; | &nbsp;  | &nbsp;       | &nbsp; |\n",
    "|----------:|---------:|--------:|-------------:|-------:|\n",
    "| False | await | else    | import       | pass   |\n",
    "| None  | break    | except  | in           | raise  |\n",
    "| True  | class    | finally | is           | return |\n",
    "| and       | continue | for     | lambda       | try    |\n",
    "| as        | def      | from    | nonlocal | while  |\n",
    "| assert    | del      | global  | not          | with   |\n",
    "| async | elif     | if      | or           | yield  |"
   ]
  },
  {
   "cell_type": "markdown",
   "id": "8a03be0f",
   "metadata": {
    "slideshow": {
     "slide_type": "slide"
    }
   },
   "source": [
    "## importer une librairie"
   ]
  },
  {
   "cell_type": "markdown",
   "id": "893c6e9a",
   "metadata": {},
   "source": [
    "certaines fonctionnalités sont disponibles au travers  \n",
    "de bibliothèques, auxquelles on peut accéder en les important"
   ]
  },
  {
   "cell_type": "code",
   "execution_count": 11,
   "id": "86b7c091",
   "metadata": {},
   "outputs": [],
   "source": [
    "import math"
   ]
  },
  {
   "cell_type": "code",
   "execution_count": 12,
   "id": "a007c326",
   "metadata": {},
   "outputs": [],
   "source": [
    "# attention cette façon d'obtenir de l'aide est\n",
    "# spécifique à IPython / notebooks\n",
    "# avec un interprète Python standard, on ferait\n",
    "# help(math)\n",
    "math?"
   ]
  },
  {
   "cell_type": "markdown",
   "id": "24fb2183",
   "metadata": {
    "slideshow": {
     "slide_type": "slide"
    }
   },
   "source": [
    "## utiliser une librairie\n",
    "\n",
    "une bibliothèque expose typiquement un certain nombre de symboles  \n",
    "par exemple dans `math` on va trouver\n",
    "\n",
    "* `pi` une variable qui dénote le nombre $\\pi$\n",
    "* `sin` une fonction qui sait calculer le sinus\n",
    "\n",
    "pour accéder à ces symboles on utilise la notation `.`"
   ]
  },
  {
   "cell_type": "code",
   "execution_count": 13,
   "id": "1ca93f2c",
   "metadata": {
    "cell_style": "split"
   },
   "outputs": [
    {
     "data": {
      "text/plain": [
       "3.141592653589793"
      ]
     },
     "execution_count": 13,
     "metadata": {},
     "output_type": "execute_result"
    }
   ],
   "source": [
    "math.pi"
   ]
  },
  {
   "cell_type": "code",
   "execution_count": 14,
   "id": "5772ed27",
   "metadata": {
    "cell_style": "split"
   },
   "outputs": [
    {
     "data": {
      "text/plain": [
       "1.2246467991473532e-16"
      ]
     },
     "execution_count": 14,
     "metadata": {},
     "output_type": "execute_result"
    }
   ],
   "source": [
    "# ça devrait être 0 mais ...\n",
    "math.sin(math.pi)\n",
    "# ... c'est simplement tout petit\n",
    "# 0.00000000000000012246467991473532"
   ]
  },
  {
   "cell_type": "markdown",
   "id": "4c85637a",
   "metadata": {
    "slideshow": {
     "slide_type": "notes"
    }
   },
   "source": [
    "Remarquez qu'ici on devrait obtenir 0, mais les calculs sur les flottants sont faits de\n",
    "manière approchée."
   ]
  },
  {
   "cell_type": "markdown",
   "id": "de601872",
   "metadata": {
    "slideshow": {
     "slide_type": "slide"
    }
   },
   "source": [
    "## alternative\n",
    "\n",
    "on peut aussi faire comme ceci"
   ]
  },
  {
   "cell_type": "code",
   "execution_count": 15,
   "id": "3ba7632b",
   "metadata": {
    "cell_style": "split"
   },
   "outputs": [
    {
     "data": {
      "text/plain": [
       "3.141592653589793"
      ]
     },
     "execution_count": 15,
     "metadata": {},
     "output_type": "execute_result"
    }
   ],
   "source": [
    "# si on ne veut pas taper math.pi à chaque fois\n",
    "from math import pi, sin\n",
    "\n",
    "pi"
   ]
  },
  {
   "cell_type": "code",
   "execution_count": 16,
   "id": "2fe389b1",
   "metadata": {
    "cell_style": "split"
   },
   "outputs": [
    {
     "data": {
      "text/plain": [
       "1.2246467991473532e-16"
      ]
     },
     "execution_count": 16,
     "metadata": {},
     "output_type": "execute_result"
    }
   ],
   "source": [
    "# idem\n",
    "sin(pi)"
   ]
  },
  {
   "cell_type": "markdown",
   "id": "be851bd4",
   "metadata": {
    "slideshow": {
     "slide_type": "-"
    }
   },
   "source": [
    "Préférez savoir d'où viennent les fonctions que vous utilisez !  \n",
    "Utilisez la forme `math.sin` qui garde la trace du module d'où provient le symbole `sin`"
   ]
  },
  {
   "cell_type": "markdown",
   "id": "49f811c6",
   "metadata": {
    "slideshow": {
     "slide_type": "slide"
    }
   },
   "source": [
    "## précision des calculs flottants\n",
    "\n",
    "bien sûr un flottant est représenté comme une suite de bits 0 ou 1  \n",
    "cela induit des calculs avec une précision imparfaite"
   ]
  },
  {
   "cell_type": "code",
   "execution_count": 17,
   "id": "ef58f3c3",
   "metadata": {},
   "outputs": [
    {
     "data": {
      "text/plain": [
       "0.30000000000000004"
      ]
     },
     "execution_count": 17,
     "metadata": {},
     "output_type": "execute_result"
    }
   ],
   "source": [
    "# sur les architectures actuelles\n",
    "# un flottant est encodé sur 64 bits\n",
    "0.2 + 0.1"
   ]
  },
  {
   "cell_type": "code",
   "execution_count": 18,
   "id": "3e292962",
   "metadata": {},
   "outputs": [
    {
     "data": {
      "text/plain": [
       "False"
      ]
     },
     "execution_count": 18,
     "metadata": {},
     "output_type": "execute_result"
    }
   ],
   "source": [
    "0.2 + 0.1 == 0.3 # Oups !"
   ]
  },
  {
   "cell_type": "markdown",
   "id": "efd3500c",
   "metadata": {
    "slideshow": {
     "slide_type": "slide"
    }
   },
   "source": [
    "## précision des calculs flottants (où trouver l'info)"
   ]
  },
  {
   "cell_type": "markdown",
   "id": "ebd5bded",
   "metadata": {
    "slideshow": {
     "slide_type": ""
    }
   },
   "source": [
    "la façon de passer d'un flottant à une séquence de bits  \n",
    "s'appelle un **encodage** \n",
    "[dans le cas des flottants: IEE754](https://en.wikipedia.org/wiki/IEEE_754)  \n",
    "qui est efficace car supporté par le processeur"
   ]
  },
  {
   "cell_type": "markdown",
   "id": "fe9c0355",
   "metadata": {
    "slideshow": {
     "slide_type": ""
    }
   },
   "source": [
    "**pour faire court :**  \n",
    "le plus souvent avec les ordis actuels (64 bits)  \n",
    "la précision des calculs est de l'ordre de **$10^{-15}$**\n",
    "\n",
    "voir un [convertisseur en ligne](http://www.binaryconvert.com/convert_double.html) pour\n",
    "visuels"
   ]
  },
  {
   "cell_type": "markdown",
   "id": "9e7646fa",
   "metadata": {
    "slideshow": {
     "slide_type": "slide"
    }
   },
   "source": [
    "## booléens"
   ]
  },
  {
   "cell_type": "code",
   "execution_count": 19,
   "id": "fa66e758",
   "metadata": {
    "cell_style": "split"
   },
   "outputs": [
    {
     "data": {
      "text/plain": [
       "True"
      ]
     },
     "execution_count": 19,
     "metadata": {},
     "output_type": "execute_result"
    }
   ],
   "source": [
    "True"
   ]
  },
  {
   "cell_type": "code",
   "execution_count": 20,
   "id": "23e9acc9",
   "metadata": {
    "cell_style": "split"
   },
   "outputs": [
    {
     "data": {
      "text/plain": [
       "False"
      ]
     },
     "execution_count": 20,
     "metadata": {},
     "output_type": "execute_result"
    }
   ],
   "source": [
    "False"
   ]
  },
  {
   "cell_type": "markdown",
   "id": "06aafbdc",
   "metadata": {
    "slideshow": {
     "slide_type": "slide"
    }
   },
   "source": [
    "## texte (chaines)"
   ]
  },
  {
   "cell_type": "code",
   "execution_count": 21,
   "id": "00678554",
   "metadata": {
    "cell_style": "split"
   },
   "outputs": [
    {
     "name": "stdout",
     "output_type": "stream",
     "text": [
      "bonjour le monde\n"
     ]
    }
   ],
   "source": [
    "# pour créer un texte, on peut\n",
    "# le mettre en deux simple-quote '\n",
    "\n",
    "texte1 = 'bonjour le monde'\n",
    "print(texte1)"
   ]
  },
  {
   "cell_type": "code",
   "execution_count": 22,
   "id": "a61bb74d",
   "metadata": {
    "cell_style": "split"
   },
   "outputs": [
    {
     "name": "stdout",
     "output_type": "stream",
     "text": [
      "bonjour le monde\n"
     ]
    }
   ],
   "source": [
    "# ou encore, si c'est plus pratique\n",
    "# entre deux double-quote \"\n",
    "\n",
    "texte2 = \"bonjour le monde\"\n",
    "print(texte2)"
   ]
  },
  {
   "cell_type": "code",
   "execution_count": 23,
   "id": "27ba6b0c",
   "metadata": {
    "cell_style": "split"
   },
   "outputs": [
    {
     "name": "stdout",
     "output_type": "stream",
     "text": [
      "Python est un langage \"typé\"\n"
     ]
    }
   ],
   "source": [
    "# comme ça on peut insérer un \"\n",
    "\n",
    "print('Python est un langage \"typé\"')"
   ]
  },
  {
   "cell_type": "code",
   "execution_count": 24,
   "id": "782d028e",
   "metadata": {
    "cell_style": "split"
   },
   "outputs": [
    {
     "name": "stdout",
     "output_type": "stream",
     "text": [
      "Python est un langage 'typé'\n"
     ]
    }
   ],
   "source": [
    "# ou un '\n",
    "\n",
    "print(\"Python est un langage 'typé'\")"
   ]
  },
  {
   "cell_type": "markdown",
   "id": "c779a563",
   "metadata": {
    "slideshow": {
     "slide_type": "slide"
    }
   },
   "source": [
    "## `print()`\n",
    "\n",
    "remarquez qu'on a utilisé la fonction `print` qui est prédéfinie  \n",
    "on peut l'appeler avec autant d'arguments qu'on veut  \n",
    "  et de n'importe quel type"
   ]
  },
  {
   "cell_type": "code",
   "execution_count": 25,
   "id": "5f1ce3da",
   "metadata": {},
   "outputs": [
    {
     "name": "stdout",
     "output_type": "stream",
     "text": [
      "la somme de 12 et 13 vaut 25\n"
     ]
    }
   ],
   "source": [
    "# simplement pour illustration des possibilités d'appel de fonction\n",
    "# car on va voir plus loin une forme beaucoup plus pratique\n",
    "# pour faire ce genre de choses\n",
    "#\n",
    "print(\"la somme de\", 12, \"et\", 13, \"vaut\", 12+13)"
   ]
  },
  {
   "cell_type": "markdown",
   "id": "3605e582",
   "metadata": {
    "slideshow": {
     "slide_type": "slide"
    }
   },
   "source": [
    "## `len()`"
   ]
  },
  {
   "cell_type": "markdown",
   "id": "6e06e147",
   "metadata": {},
   "source": [
    "il existe une autre fonction prédéfinie très pratique: `len()`  \n",
    "qui retourne la longeur d'un objet"
   ]
  },
  {
   "cell_type": "code",
   "execution_count": 26,
   "id": "b0e356d3",
   "metadata": {
    "cell_style": "split"
   },
   "outputs": [
    {
     "data": {
      "text/plain": [
       "3"
      ]
     },
     "execution_count": 26,
     "metadata": {},
     "output_type": "execute_result"
    }
   ],
   "source": [
    "# sur une chaine len()\n",
    "# retourne le nombre de caractères\n",
    "#\n",
    "# remarquez que les guillemets ne comptent pas\n",
    "len(\"abc\")"
   ]
  },
  {
   "cell_type": "code",
   "execution_count": 27,
   "id": "b28380da",
   "metadata": {
    "cell_style": "split"
   },
   "outputs": [
    {
     "data": {
      "text/plain": [
       "3"
      ]
     },
     "execution_count": 27,
     "metadata": {},
     "output_type": "execute_result"
    }
   ],
   "source": [
    "# on compte les caractères\n",
    "# et pas les octets\n",
    "\n",
    "len(\"été\")"
   ]
  },
  {
   "cell_type": "markdown",
   "id": "545f2a4b",
   "metadata": {
    "slideshow": {
     "slide_type": "slide"
    }
   },
   "source": [
    "## textes plus longs\n",
    "\n",
    "si vous avez besoin d'écrire des textes de plusieurs lignes  \n",
    "utilisez `\"\"\"` au lieu de `\"`  -- (ou `'''`)"
   ]
  },
  {
   "cell_type": "code",
   "execution_count": 28,
   "id": "b5f02077",
   "metadata": {
    "cell_style": "split"
   },
   "outputs": [],
   "source": [
    "# ici je mets un \\ pour couper\n",
    "# la ligne et continuer sur la ligne en dessous\n",
    "\n",
    "bafouille = \\\n",
    "\"\"\"To be, or not to be: that is the question:\n",
    "Whether 'tis nobler in the mind to suffer\n",
    "The slings and arrows of outrageous fortune,\"\"\""
   ]
  },
  {
   "cell_type": "code",
   "execution_count": 29,
   "id": "ab24d631",
   "metadata": {
    "cell_style": "split"
   },
   "outputs": [
    {
     "name": "stdout",
     "output_type": "stream",
     "text": [
      "To be, or not to be: that is the question:\n",
      "Whether 'tis nobler in the mind to suffer\n",
      "The slings and arrows of outrageous fortune,\n"
     ]
    }
   ],
   "source": [
    "print(bafouille)"
   ]
  },
  {
   "cell_type": "code",
   "execution_count": 30,
   "id": "37cf48b0",
   "metadata": {
    "cell_style": "center"
   },
   "outputs": [],
   "source": [
    "# idem avec '''\n",
    "court = '''a\n",
    "b'''"
   ]
  },
  {
   "cell_type": "code",
   "execution_count": 31,
   "id": "7f990d06",
   "metadata": {
    "cell_style": "split"
   },
   "outputs": [
    {
     "name": "stdout",
     "output_type": "stream",
     "text": [
      "a\n",
      "b\n"
     ]
    }
   ],
   "source": [
    "print(court)"
   ]
  },
  {
   "cell_type": "code",
   "execution_count": 32,
   "id": "bf498ebe",
   "metadata": {
    "cell_style": "split"
   },
   "outputs": [
    {
     "data": {
      "text/plain": [
       "3"
      ]
     },
     "execution_count": 32,
     "metadata": {},
     "output_type": "execute_result"
    }
   ],
   "source": [
    "# le changement de ligne compte\n",
    "# pour un caractère (newline)\n",
    "# les caractères sont 'a', '\\n', et 'b'\n",
    "len(court)"
   ]
  },
  {
   "cell_type": "markdown",
   "id": "d989f9b4",
   "metadata": {
    "slideshow": {
     "slide_type": "slide"
    }
   },
   "source": [
    "## formatage\n",
    "\n",
    "pour construire des chaines lisibles,  \n",
    "le plus simple est la *f-string*"
   ]
  },
  {
   "cell_type": "code",
   "execution_count": 33,
   "id": "86538d6f",
   "metadata": {
    "cell_style": "split"
   },
   "outputs": [
    {
     "data": {
      "text/plain": [
       "'une f-string'"
      ]
     },
     "execution_count": 33,
     "metadata": {},
     "output_type": "execute_result"
    }
   ],
   "source": [
    "# une f-string se présente comme une chaine\n",
    "# mais préfixée par un f collé\n",
    "# avant le guillement ouvrant\n",
    "# (qui peut être ' ou \" ou \"\"\" ou ''')\n",
    "f\"une f-string\""
   ]
  },
  {
   "cell_type": "code",
   "execution_count": 34,
   "id": "5a7e9967",
   "metadata": {
    "cell_style": "split"
   },
   "outputs": [
    {
     "name": "stdout",
     "output_type": "stream",
     "text": [
      "pi = 3.141592653589793\n"
     ]
    }
   ],
   "source": [
    "# l'intérêt est qu'on peut\n",
    "# alors insérer des variables\n",
    "# directement dans la chaine\n",
    "# en les mettant entre {}\n",
    "\n",
    "print(f'pi = {pi}')"
   ]
  },
  {
   "cell_type": "code",
   "execution_count": 35,
   "id": "56a95757",
   "metadata": {},
   "outputs": [
    {
     "name": "stdout",
     "output_type": "stream",
     "text": [
      "pi = 3.141592653589793 et sin(pi) = 1.2246467991473532e-16\n"
     ]
    }
   ],
   "source": [
    "# en fait j'ai dit 'variable' mais on peut mettre n'importe quelle expression\n",
    "# c'est à dire qu'à l'intérieur des {} on peut faire des calculs, ici sin(pi)\n",
    "\n",
    "print(f\"pi = {pi} et sin(pi) = {sin(pi)}\")"
   ]
  },
  {
   "cell_type": "markdown",
   "id": "6f8fe6c6",
   "metadata": {
    "slideshow": {
     "slide_type": "slide"
    },
    "tags": [
     "level_intermediate"
    ]
   },
   "source": [
    "## formatage - suite\n",
    "\n",
    "il y a des tas de possibilités pour affiner la façon  \n",
    "dont les données sont mises en forme  \n",
    "pour cela ajouter un format dans les `{}` avec un `:`  \n",
    "par exemple pour afficher deux chiffres après la virgule :"
   ]
  },
  {
   "cell_type": "code",
   "execution_count": 36,
   "id": "c70d11c0",
   "metadata": {
    "cell_style": "split",
    "tags": [
     "level_intermediate"
    ]
   },
   "outputs": [
    {
     "name": "stdout",
     "output_type": "stream",
     "text": [
      "bla 6.28 bla\n"
     ]
    }
   ],
   "source": [
    "print(f\"bla {2*math.pi:.2f} bla\")"
   ]
  },
  {
   "cell_type": "markdown",
   "id": "5b7c1231",
   "metadata": {
    "cell_style": "split",
    "tags": [
     "level_intermediate"
    ]
   },
   "source": [
    "![](media/f-string.svg)"
   ]
  },
  {
   "cell_type": "markdown",
   "id": "70161cd9",
   "metadata": {
    "slideshow": {
     "slide_type": "slide"
    }
   },
   "source": [
    "## méthodes sur les chaines\n",
    "\n",
    "on reviendra plus tard sur la notion de méthode  \n",
    "mais pour l'instant voici deux méthodes très utiles sur les chaines : `split` et `join`"
   ]
  },
  {
   "cell_type": "code",
   "execution_count": 37,
   "id": "1e63c813",
   "metadata": {},
   "outputs": [],
   "source": [
    "longue_chaine = \"une liste de mots à découper\""
   ]
  },
  {
   "cell_type": "code",
   "execution_count": 38,
   "id": "0819753d",
   "metadata": {
    "cell_style": "split"
   },
   "outputs": [
    {
     "data": {
      "text/plain": [
       "['une', 'liste', 'de', 'mots', 'à', 'découper']"
      ]
     },
     "execution_count": 38,
     "metadata": {},
     "output_type": "execute_result"
    }
   ],
   "source": [
    "# sert à découper une chaine\n",
    "# en morceaux\n",
    "\n",
    "mots = longue_chaine.split()\n",
    "mots"
   ]
  },
  {
   "cell_type": "code",
   "execution_count": 39,
   "id": "ca673444",
   "metadata": {
    "cell_style": "split"
   },
   "outputs": [
    {
     "data": {
      "text/plain": [
       "'une+liste+de+mots+à+découper'"
      ]
     },
     "execution_count": 39,
     "metadata": {},
     "output_type": "execute_result"
    }
   ],
   "source": [
    "# et avec join on peut réassembler\n",
    "\n",
    "\"+\".join(mots)"
   ]
  },
  {
   "cell_type": "markdown",
   "id": "71496e67",
   "metadata": {
    "slideshow": {
     "slide_type": "slide"
    },
    "tags": [
     "level_intermediate"
    ]
   },
   "source": [
    "pour une liste complète des méthodes sur les chaines  \n",
    "vous pouvez aller consulter la doc  \n",
    "https://docs.python.org/3/library/stdtypes.html#string-methods"
   ]
  },
  {
   "cell_type": "code",
   "execution_count": 40,
   "id": "9aa74f20",
   "metadata": {
    "cell_style": "split",
    "tags": [
     "level_intermediate"
    ]
   },
   "outputs": [
    {
     "data": {
      "text/plain": [
       "'Bonjour'"
      ]
     },
     "execution_count": 40,
     "metadata": {},
     "output_type": "execute_result"
    }
   ],
   "source": [
    "# une méthode s'utilise comme ceci\n",
    "\n",
    "chaine = \"bonjour\"\n",
    "\n",
    "chaine.capitalize()"
   ]
  },
  {
   "cell_type": "code",
   "execution_count": 41,
   "id": "3d1ff656",
   "metadata": {
    "cell_style": "split",
    "tags": [
     "level_intermediate"
    ]
   },
   "outputs": [
    {
     "data": {
      "text/plain": [
       "'---bonjour---'"
      ]
     },
     "execution_count": 41,
     "metadata": {},
     "output_type": "execute_result"
    }
   ],
   "source": [
    "# avec paramètres si besoin\n",
    "\n",
    "# par exemple, cette méthode\n",
    "# sert à centrer en précisant\n",
    "# avec quoi remplir\n",
    "\n",
    "chaine.center(13, '-')"
   ]
  }
 ],
 "metadata": {
  "jupytext": {
   "cell_metadata_filter": "all, -hidden, -heading_collapsed, -run_control, -trusted",
   "notebook_metadata_filter": "all, -jupytext.text_representation.jupytext_version, -jupytext.text_representation.format_version, -language_info.version, -language_info.codemirror_mode.version, -language_info.codemirror_mode, -language_info.file_extension, -language_info.mimetype, -toc",
   "text_representation": {
    "extension": ".md",
    "format_name": "myst"
   }
  },
  "kernelspec": {
   "display_name": "Python 3",
   "language": "python",
   "name": "python3"
  },
  "language_info": {
   "codemirror_mode": {
    "name": "ipython",
    "version": 3
   },
   "file_extension": ".py",
   "mimetype": "text/x-python",
   "name": "python",
   "nbconvert_exporter": "python",
   "pygments_lexer": "ipython3",
   "version": "3.9.5"
  },
  "notebookname": "le langage Python",
  "rise": {
   "autolaunch": true,
   "slideNumber": "c/t",
   "start_slideshow_at": "selected",
   "theme": "sky",
   "transition": "cube"
  },
  "source_map": [
   27,
   36,
   40,
   47,
   53,
   57,
   64,
   71,
   78,
   85,
   91,
   101,
   110,
   116,
   127,
   135,
   141,
   145,
   151,
   163,
   175,
   179,
   184,
   188,
   196,
   208,
   214,
   223,
   228,
   234,
   243,
   250,
   255,
   262,
   268,
   272,
   276,
   283,
   292,
   296,
   302,
   308,
   312,
   322,
   332,
   340,
   348,
   356,
   364,
   368,
   373,
   383,
   392,
   399,
   411,
   417,
   425,
   431,
   440,
   447,
   457,
   468,
   475,
   484,
   491,
   495,
   502,
   506,
   516,
   524,
   530,
   541
  ],
  "version": "1.0"
 },
 "nbformat": 4,
 "nbformat_minor": 5
}