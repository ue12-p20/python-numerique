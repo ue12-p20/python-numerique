{
 "cells": [
  {
   "cell_type": "markdown",
   "id": "1d7588d8",
   "metadata": {
    "slideshow": {
     "slide_type": "slide"
    }
   },
   "source": [
    "<div class=\"licence\">\n",
    "<span>Licence CC BY-NC-ND</span>\n",
    "<span>Thierry Parmentelat</span>\n",
    "</div>\n",
    "\n",
    "<img src=\"media/inria-25-alpha.png\" />"
   ]
  },
  {
   "cell_type": "markdown",
   "id": "5bb86ef4",
   "metadata": {
    "slideshow": {
     "slide_type": ""
    }
   },
   "source": [
    "# références partagées"
   ]
  },
  {
   "cell_type": "code",
   "execution_count": 1,
   "id": "2627596d",
   "metadata": {},
   "outputs": [],
   "source": [
    "# pour visualiser le graphe de références\n",
    "%load_ext ipythontutor"
   ]
  },
  {
   "cell_type": "markdown",
   "id": "617f36b4",
   "metadata": {
    "slideshow": {
     "slide_type": "slide"
    }
   },
   "source": [
    "## imbrications\n",
    "\n",
    "naturellement, les différents types de containers  \n",
    "peuvent être combinés à l'infini"
   ]
  },
  {
   "cell_type": "code",
   "execution_count": 2,
   "id": "4fa693b2",
   "metadata": {
    "cell_style": "split"
   },
   "outputs": [
    {
     "data": {
      "text/plain": [
       "[{'un': 'premier'}, {'Alice': 25, 'Bob': 34}]"
      ]
     },
     "execution_count": 2,
     "metadata": {},
     "output_type": "execute_result"
    }
   ],
   "source": [
    "# une liste de dictionnaires\n",
    "combo1 = [\n",
    "    {'un': 'premier'},\n",
    "    {'Alice': 25, 'Bob': 34},\n",
    "]\n",
    "combo1"
   ]
  },
  {
   "cell_type": "code",
   "execution_count": 3,
   "id": "59f712ee",
   "metadata": {
    "cell_style": "split"
   },
   "outputs": [
    {
     "data": {
      "text/plain": [
       "{1: ['un', 'one', 'uno'], 2: ['deux', 'two', 'due']}"
      ]
     },
     "execution_count": 3,
     "metadata": {},
     "output_type": "execute_result"
    }
   ],
   "source": [
    "# un dictionnaire de listes\n",
    "combo2 = {\n",
    "    1 : ['un', 'one', 'uno'],\n",
    "    2 : ['deux', 'two', 'due'],\n",
    "}\n",
    "combo2"
   ]
  },
  {
   "cell_type": "markdown",
   "id": "1576159f",
   "metadata": {
    "slideshow": {
     "slide_type": "slide"
    }
   },
   "source": [
    "## références partagées\n",
    "\n",
    "du coup on peut construire en mémoire des graphes,  \n",
    "et atteindre le même objet par plusieurs chemins"
   ]
  },
  {
   "cell_type": "code",
   "execution_count": 4,
   "id": "a7b69e1b",
   "metadata": {},
   "outputs": [
    {
     "data": {
      "text/plain": [
       "[['a', 'b'], ['a', 'b']]"
      ]
     },
     "execution_count": 4,
     "metadata": {},
     "output_type": "execute_result"
    }
   ],
   "source": [
    "# créons un objet - ici une liste\n",
    "shared = ['a', 'b']\n",
    "# si je mentionne cet objet deux fois\n",
    "# dans une liste, je crée un partage\n",
    "entry = [shared, shared]\n",
    "entry"
   ]
  },
  {
   "cell_type": "code",
   "execution_count": 5,
   "id": "4549044b",
   "metadata": {},
   "outputs": [
    {
     "data": {
      "text/plain": [
       "[['boom', 'b'], ['boom', 'b']]"
      ]
     },
     "execution_count": 5,
     "metadata": {},
     "output_type": "execute_result"
    }
   ],
   "source": [
    "# si bien qu'en modifiant l'objet partagé\n",
    "shared[0] = 'boom'\n",
    "# j'ai en fait modifié les deux morceaux de la liste\n",
    "entry"
   ]
  },
  {
   "cell_type": "code",
   "execution_count": 6,
   "id": "b90b3cec",
   "metadata": {
    "slideshow": {
     "slide_type": "slide"
    }
   },
   "outputs": [
    {
     "data": {
      "application/vnd.jupyter.widget-view+json": {
       "model_id": "96723b0289814d9797309ca23c1dc877",
       "version_major": 2,
       "version_minor": 0
      },
      "text/plain": [
       "HTML(value='<style>#ipythontutor1 </style><style>#ipythontutor2 { max-width:750px; max-height:300px; box-sizin…"
      ]
     },
     "metadata": {},
     "output_type": "display_data"
    }
   ],
   "source": [
    "%%ipythontutor\n",
    "\n",
    "# idem visualisé sous pythontutor\n",
    "shared = ['a', 'b']\n",
    "entry = [shared, shared]\n",
    "shared[0] = 'boom'\n",
    "print(shared)"
   ]
  },
  {
   "cell_type": "markdown",
   "id": "f190135e",
   "metadata": {
    "slideshow": {
     "slide_type": "slide"
    }
   },
   "source": [
    "## quand ?\n",
    "\n",
    "notamment, les références sont partagées dès qu'on fait :\n",
    "\n",
    "* une affectation\n",
    "* un appel de fonction"
   ]
  },
  {
   "cell_type": "code",
   "execution_count": 7,
   "id": "57ffb08d",
   "metadata": {
    "cell_style": "split"
   },
   "outputs": [
    {
     "data": {
      "text/plain": [
       "['boom', 200]"
      ]
     },
     "execution_count": 7,
     "metadata": {},
     "output_type": "execute_result"
    }
   ],
   "source": [
    "a = [100, 200]\n",
    "b = a\n",
    "# b référence le même\n",
    "# objet que a\n",
    "a[0] = 'boom'\n",
    "b"
   ]
  },
  {
   "cell_type": "code",
   "execution_count": 8,
   "id": "1a8c50fc",
   "metadata": {
    "cell_style": "split",
    "tags": [
     "raises-exception"
    ]
   },
   "outputs": [
    {
     "data": {
      "text/plain": [
       "['boom', 200]"
      ]
     },
     "execution_count": 8,
     "metadata": {},
     "output_type": "execute_result"
    }
   ],
   "source": [
    "def boom(x):\n",
    "    x[0] = 'boom'\n",
    "\n",
    "c = [100, 200]\n",
    "\n",
    "# lors de cet appel\n",
    "# le 'x' dans la fonction\n",
    "# référence le même objet que c\n",
    "boom(c)\n",
    "\n",
    "c"
   ]
  },
  {
   "cell_type": "markdown",
   "id": "e3befae5",
   "metadata": {
    "slideshow": {
     "slide_type": "slide"
    }
   },
   "source": [
    "## références\n",
    "\n",
    "en Python, on manipule très souvent  \n",
    "des références vers des objets :\n",
    "\n",
    "* une variable,\n",
    "* un paramètre de fonction,\n",
    "* un slot dans une liste,\n",
    "* une valeur dans un dictionnaire,\n",
    "* ...\n",
    "\n",
    "sont tous des références vers des objets"
   ]
  },
  {
   "cell_type": "markdown",
   "id": "78e571c5",
   "metadata": {
    "slideshow": {
     "slide_type": "slide"
    }
   },
   "source": [
    "## références partagées\n",
    "\n",
    "* le phénomène de références partagées se produit  \n",
    "  dès lors qu'on peut accéder à un objet  \n",
    "  par plusieurs chemins  \n",
    "  dans le graphe des références\n",
    "\n",
    "* cela permet d'éviter les copies inutiles\n",
    "* mais à l'inverse il faut en être bien conscient  \n",
    "  et faire explicitement des copies  \n",
    "  lorsque le partage n'est pas souhaitable"
   ]
  },
  {
   "cell_type": "markdown",
   "id": "35998f10",
   "metadata": {
    "slideshow": {
     "slide_type": "slide"
    }
   },
   "source": [
    "## mutable / immuable\n",
    "\n",
    "* certains types d'objet ne sont pas modifiables :  \n",
    "  par exemple: nombres, chaines, tuples\n",
    "\n",
    "* dans ce cas le partage n'est pas un souci\n",
    "* il faut être attentif lorsque l'objet partagé  \n",
    "  est *mutable* - c'est-à-dire peut être modifié -  \n",
    "  comme nos 3 sortes de containers `list`, `dict` et `set`"
   ]
  },
  {
   "cell_type": "markdown",
   "id": "5ab522a8",
   "metadata": {
    "slideshow": {
     "slide_type": "notes"
    }
   },
   "source": [
    "On insiste bien sur le fait que les **nombres**  et les **chaines** ne sont **pas\n",
    "mutables** en Python; pour vous en convaincre et à titre d'exercice, essayer de fabriquer\n",
    "une référence partagée dans une chaine de caractères."
   ]
  }
 ],
 "metadata": {
  "jupytext": {
   "cell_metadata_filter": "all, -hidden, -heading_collapsed, -run_control, -trusted",
   "notebook_metadata_filter": "all, -jupytext.text_representation.jupytext_version, -jupytext.text_representation.format_version, -language_info.version, -language_info.codemirror_mode.version, -language_info.codemirror_mode, -language_info.file_extension, -language_info.mimetype, -toc",
   "text_representation": {
    "extension": ".md",
    "format_name": "myst"
   }
  },
  "kernelspec": {
   "display_name": "Python 3",
   "language": "python",
   "name": "python3"
  },
  "language_info": {
   "codemirror_mode": {
    "name": "ipython",
    "version": 3
   },
   "file_extension": ".py",
   "mimetype": "text/x-python",
   "name": "python",
   "nbconvert_exporter": "python",
   "pygments_lexer": "ipython3",
   "version": "3.9.5"
  },
  "notebookname": "références partagées",
  "rise": {
   "autolaunch": true,
   "slideNumber": "c/t",
   "start_slideshow_at": "selected",
   "theme": "sky",
   "transition": "cube"
  },
  "source_map": [
   27,
   36,
   40,
   45,
   52,
   63,
   74,
   81,
   90,
   97,
   111,
   120,
   131,
   148,
   163,
   177,
   189
  ],
  "version": "1.0",
  "widgets": {
   "application/vnd.jupyter.widget-state+json": {
    "state": {
     "17289f23775c49f4aede4392e6eca082": {
      "model_module": "@jupyter-widgets/base",
      "model_module_version": "1.2.0",
      "model_name": "LayoutModel",
      "state": {
       "_model_module": "@jupyter-widgets/base",
       "_model_module_version": "1.2.0",
       "_model_name": "LayoutModel",
       "_view_count": null,
       "_view_module": "@jupyter-widgets/base",
       "_view_module_version": "1.2.0",
       "_view_name": "LayoutView",
       "align_content": null,
       "align_items": null,
       "align_self": null,
       "border": null,
       "bottom": null,
       "display": null,
       "flex": null,
       "flex_flow": null,
       "grid_area": null,
       "grid_auto_columns": null,
       "grid_auto_flow": null,
       "grid_auto_rows": null,
       "grid_column": null,
       "grid_gap": null,
       "grid_row": null,
       "grid_template_areas": null,
       "grid_template_columns": null,
       "grid_template_rows": null,
       "height": null,
       "justify_content": null,
       "justify_items": null,
       "left": null,
       "margin": null,
       "max_height": null,
       "max_width": null,
       "min_height": null,
       "min_width": null,
       "object_fit": null,
       "object_position": null,
       "order": null,
       "overflow": null,
       "overflow_x": null,
       "overflow_y": null,
       "padding": null,
       "right": null,
       "top": null,
       "visibility": null,
       "width": null
      }
     },
     "96723b0289814d9797309ca23c1dc877": {
      "model_module": "@jupyter-widgets/controls",
      "model_module_version": "1.5.0",
      "model_name": "HTMLModel",
      "state": {
       "_dom_classes": [],
       "_model_module": "@jupyter-widgets/controls",
       "_model_module_version": "1.5.0",
       "_model_name": "HTMLModel",
       "_view_count": null,
       "_view_module": "@jupyter-widgets/controls",
       "_view_module_version": "1.5.0",
       "_view_name": "HTMLView",
       "description": "",
       "description_tooltip": null,
       "layout": "IPY_MODEL_17289f23775c49f4aede4392e6eca082",
       "placeholder": "​",
       "style": "IPY_MODEL_c63c4c2d3b2b4944a9269a920733ee69",
       "value": "<style>#ipythontutor1 </style><style>#ipythontutor2 { max-width:750px; max-height:300px; box-sizing:border-box; }</style><div id=ipythontutor2><iframe id=\"ipythontutor1\" class=\"pythontutor\" width=\"750.0\" height=\"300.0\" src=\"https://pythontutor.com/iframe-embed.html#code=%0A%23+idem+visualis%C3%A9+sous+pythontutor%0Ashared+%3D+%5B%27a%27%2C+%27b%27%5D%0Aentry+%3D+%5Bshared%2C+shared%5D%0Ashared%5B0%5D+%3D+%27boom%27%0Aprint%28shared%29%0A&mode=display&origin=opt-frontend.js&textReferences=false&py=3&curInstr=0&verticalStack=&heapPrimitives=false\"></div>"
      }
     },
     "c63c4c2d3b2b4944a9269a920733ee69": {
      "model_module": "@jupyter-widgets/controls",
      "model_module_version": "1.5.0",
      "model_name": "DescriptionStyleModel",
      "state": {
       "_model_module": "@jupyter-widgets/controls",
       "_model_module_version": "1.5.0",
       "_model_name": "DescriptionStyleModel",
       "_view_count": null,
       "_view_module": "@jupyter-widgets/base",
       "_view_module_version": "1.2.0",
       "_view_name": "StyleView",
       "description_width": ""
      }
     }
    },
    "version_major": 2,
    "version_minor": 0
   }
  }
 },
 "nbformat": 4,
 "nbformat_minor": 5
}