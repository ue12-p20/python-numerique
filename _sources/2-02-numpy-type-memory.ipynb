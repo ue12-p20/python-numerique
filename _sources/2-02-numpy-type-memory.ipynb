{
 "cells": [
  {
   "cell_type": "markdown",
   "id": "bcbe65b1",
   "metadata": {},
   "source": [
    "<div class=\"licence\">\n",
    "<span>Licence CC BY-NC-ND</span>\n",
    "<span>Valérie Roy</span>\n",
    "</div>\n",
    "\n",
    "<img src=\"media/ensmp-25-alpha.png\" />"
   ]
  },
  {
   "cell_type": "markdown",
   "id": "4b6067cc",
   "metadata": {},
   "source": [
    "Vous avez découverts les tableaux `numpy.ndarray` dont nous vous redonnons quelques méthodes:"
   ]
  },
  {
   "cell_type": "markdown",
   "id": "072a1c3f",
   "metadata": {},
   "source": [
    "| les méthodes             | ce qu'elles font                                 |\n",
    "|--------------------------|--------------------------------------------------|\n",
    "| `np.ndarray.size`     | le nombre d'éléments du tableau                  |\n",
    "| `np.ndarray.itemsize` | la taille en octet d'un élément                  |\n",
    "| `np.ndarray.nbytes`   | la taille totale du tableau sous-jacent en octet |\n",
    "| `np.ndarray.shape`    | la forme du tableau (tuple)                            |\n",
    "| `np.ndarray.ndim`     | le nombre de dimensions du tableau               |\n",
    "| `np.ndarray.dtype`    | le type des éléments                             |"
   ]
  },
  {
   "cell_type": "markdown",
   "id": "013a5984",
   "metadata": {},
   "source": [
    "Nous allons maintenant rapidement aborder le sujet de la mémoire sur laquelle les tableaux `numpy.ndarray` sont stockés."
   ]
  },
  {
   "cell_type": "code",
   "execution_count": 1,
   "id": "eeb80011",
   "metadata": {},
   "outputs": [],
   "source": [
    "import numpy as np"
   ]
  },
  {
   "cell_type": "markdown",
   "id": "72bc29ed",
   "metadata": {},
   "source": [
    "Un petit aparté vers ceux qui se demandent \n",
    "> à quoi cela peut bien me servir d'avoir une intuition de la manière dont la librarie `numpy` travaille en mémoire ?!\n",
    "\n",
    "Une première raison: afin que vous preniez des décisions en connaissance de cause ou du moins en essayant de comprendre les conséquences de vos choix.\n",
    "\n",
    "Une seconde raison: afin que vous ne soyez pas complètement dépourvus le jour où vos codes, en se complexifiant, deviendront beaucoup trop lents ou prendront trop d'espace mémoire pour traiter vos données ...\n",
    "\n",
    "Une troisième raison: afin de vous familiariser avec l'informatique et comprendre des mécanismes sous-jacents qui expliquent les choix des concepteurs de libraries.\n",
    "\n",
    "Une dernière raison, afin d'avoir une petite culture informatique technique bien formée pour ne jamais penser que c'est magique, incompréhensible ou trop compliqué !  \n",
    "Donc si vous ne comprenez pas bien une notion, vous le dites !\n",
    "et on vous l'explique"
   ]
  },
  {
   "cell_type": "code",
   "execution_count": 2,
   "id": "933ddb42",
   "metadata": {},
   "outputs": [
    {
     "data": {
      "text/html": [
       "<style> .memory {font-size: 180%; line-height: 1.2;}</style>"
      ],
      "text/plain": [
       "<IPython.core.display.HTML object>"
      ]
     },
     "execution_count": 2,
     "metadata": {},
     "output_type": "execute_result"
    }
   ],
   "source": [
    "# une cellule pour définir le style de présentation \n",
    "# utilisé dans la suite pour les dessins de la mémoire\n",
    "\n",
    "my_stylesheet = \"<style> .memory {font-size: 180%; line-height: 1.2;}</style>\"\n",
    "\n",
    "from IPython.display import HTML\n",
    "HTML(my_stylesheet)"
   ]
  },
  {
   "cell_type": "markdown",
   "id": "5e1fc502",
   "metadata": {},
   "source": [
    "# numpy et la mémoire"
   ]
  },
  {
   "cell_type": "markdown",
   "id": "90259856",
   "metadata": {},
   "source": [
    "Reprenons notre matrice du notebook précédent:"
   ]
  },
  {
   "cell_type": "code",
   "execution_count": 3,
   "id": "696330bd",
   "metadata": {},
   "outputs": [
    {
     "data": {
      "text/plain": [
       "array([[ 1,  2,  3,  4,  5],\n",
       "       [ 6,  7,  8,  9, 10],\n",
       "       [11, 12, 13, 14, 15],\n",
       "       [16, 17, 18, 19, 20]])"
      ]
     },
     "execution_count": 3,
     "metadata": {},
     "output_type": "execute_result"
    }
   ],
   "source": [
    "matrice = [\n",
    "    [1, 2, 3, 4, 5], \n",
    "    [6, 7, 8, 9, 10],\n",
    "    [11, 12, 13, 14, 15],\n",
    "    [16, 17, 18, 19, 20]\n",
    "]\n",
    "mat = np.array(matrice)\n",
    "mat"
   ]
  },
  {
   "cell_type": "markdown",
   "id": "0481d73c",
   "metadata": {},
   "source": [
    "Notre matrice contient 20 éléments:"
   ]
  },
  {
   "cell_type": "code",
   "execution_count": 4,
   "id": "623c9449",
   "metadata": {},
   "outputs": [
    {
     "data": {
      "text/plain": [
       "20"
      ]
     },
     "execution_count": 4,
     "metadata": {},
     "output_type": "execute_result"
    }
   ],
   "source": [
    "mat.size"
   ]
  },
  {
   "cell_type": "code",
   "execution_count": 5,
   "id": "00cda152",
   "metadata": {},
   "outputs": [
    {
     "data": {
      "text/plain": [
       "dtype('int64')"
      ]
     },
     "execution_count": 5,
     "metadata": {},
     "output_type": "execute_result"
    }
   ],
   "source": [
    "mat.dtype"
   ]
  },
  {
   "cell_type": "markdown",
   "id": "f9365117",
   "metadata": {},
   "source": [
    "Chaque élément est codé sur un `numpy.int64` et occupe donc 8 octets:"
   ]
  },
  {
   "cell_type": "code",
   "execution_count": 6,
   "id": "2d7ef93e",
   "metadata": {},
   "outputs": [
    {
     "data": {
      "text/plain": [
       "8"
      ]
     },
     "execution_count": 6,
     "metadata": {},
     "output_type": "execute_result"
    }
   ],
   "source": [
    "mat.itemsize"
   ]
  },
  {
   "cell_type": "markdown",
   "id": "6dd05621",
   "metadata": {},
   "source": [
    "Donc la mémoire qu'occupe la matrice en nombre d'octets est $20 \\times 8$:"
   ]
  },
  {
   "cell_type": "code",
   "execution_count": 7,
   "id": "06c51e5d",
   "metadata": {},
   "outputs": [
    {
     "data": {
      "text/plain": [
       "160"
      ]
     },
     "execution_count": 7,
     "metadata": {},
     "output_type": "execute_result"
    }
   ],
   "source": [
    "mat.nbytes # byte = otet"
   ]
  },
  {
   "cell_type": "markdown",
   "id": "f869c456",
   "metadata": {},
   "source": [
    "Nous allons maitenant nous intéresser à la manière dont est représentée cette mémoire dans l'ordinateur lorsque la matrice est créée."
   ]
  },
  {
   "cell_type": "markdown",
   "id": "97c53b35",
   "metadata": {},
   "source": [
    "## organisation de la mémoire des tableaux"
   ]
  },
  {
   "cell_type": "markdown",
   "id": "27136114",
   "metadata": {},
   "source": [
    "Lisons le help (en faisant ```help(np.ndarray)```  ou directement  ```np.ndarray?``` dans un notebook), il vous dit que votre `np.ndarray` est un tableau:\n",
    "   1. **multidimensionnel**\n",
    "   1. **homogène**\n",
    "   1. d'éléments de **taille fixe**\n",
    "   1. et que les tableaux doivent être construits en utilisant les méthodes `np.array`,`np.zeros` ou `np.empty`"
   ]
  },
  {
   "cell_type": "markdown",
   "id": "eca105b4",
   "metadata": {},
   "source": [
    "Bon déjà que les tableaux soient **multidimensionnel**s ça nous rassure: ils sont là pour cela !"
   ]
  },
  {
   "cell_type": "markdown",
   "id": "3793b769",
   "metadata": {},
   "source": [
    "Qu'on les crée avec les méthodes `np.array`,`np.zeros` ou `np.empty`, on l'a vu."
   ]
  },
  {
   "cell_type": "markdown",
   "id": "674572be",
   "metadata": {
    "tags": [
     "level_basic"
    ]
   },
   "source": [
    "Mais que veut bien dire que les tableaux sont homogènes ? Une idée ? Dans les exemples que nous avons vus ?"
   ]
  },
  {
   "cell_type": "markdown",
   "id": "61ac33bf",
   "metadata": {},
   "source": [
    "Vous avez commencé à vous en rendre compte avec les tableaux que nous avons construits. Ce qui est homogène c'est le type des éléments. Toutes les cases du tableau ayant le même type, elles occupent la même taille en mémoire."
   ]
  },
  {
   "cell_type": "markdown",
   "id": "bb4f0ce4",
   "metadata": {
    "tags": [
     "level_basic"
    ]
   },
   "source": [
    "Et que veut-dire que tous les éléments sont de **taille fixe** ?"
   ]
  },
  {
   "cell_type": "markdown",
   "id": "3a4a6318",
   "metadata": {
    "tags": []
   },
   "source": [
    "Ca veut dire qu'une fois le tableau créé, vous n'allez pas pouvoir modifier la taille de ses éléments (la place sur laquelle chaque élément est stocké en mémoire). Si vous avez besoin de modifier la taille des éléments que contient un tableau, vous devez faire un nouveau tableau. On y revient bientôt."
   ]
  },
  {
   "cell_type": "markdown",
   "id": "c9ffb430",
   "metadata": {},
   "source": [
    "A quoi servent toutes ces restrictions ?\n",
    "\n",
    "Vous avez là les ingrédients qui permettent à `numpy` d'être très rapide dans sa manipulation de tableaux !"
   ]
  },
  {
   "cell_type": "markdown",
   "id": "06a3f765",
   "metadata": {
    "tags": []
   },
   "source": [
    "### les secrets de la rapidité des tableaux `numpy`  (avancé mais important)"
   ]
  },
  {
   "cell_type": "markdown",
   "id": "afdd5a79",
   "metadata": {
    "tags": [
     "level_basic"
    ]
   },
   "source": [
    "Quels sont les secrets d'un code rapide sur des tableaux ? Des idées ? C'est un peu difficile parce qu'on doit mettre (un peu) les mains dans le cambouis (ici la mémoire) et mais vous pouvez proposer des idées ! J'en vois déjà un:"
   ]
  },
  {
   "cell_type": "markdown",
   "id": "e37afb8f",
   "metadata": {},
   "source": [
    "#### premier secret (*offset*)"
   ]
  },
  {
   "cell_type": "markdown",
   "id": "2e1721fa",
   "metadata": {
    "tags": []
   },
   "source": [
    "C'est la possibilité quand on est sur un élément d'un tableau de passer très rapidement à un autre élément du même tableau.\n",
    "\n",
    "Comment fait-on cela ?"
   ]
  },
  {
   "cell_type": "markdown",
   "id": "b76d4490",
   "metadata": {
    "tags": []
   },
   "source": [
    "Et bien si toute la zone mémoire du tableau est composée d'un unique block mémoire continu  \n",
    "(c-à-d si les cases du tableaux sont contiguës en mémoire) ...  \n",
    "\n",
    "passer d'une case à une autre (d'un élément à un autre) se fait alors grâce à un simple décalage - appelé *offset*(\\*)  \n",
    "et les ordis font ca super super vite !\n",
    "\n",
    "\n",
    "\n",
    "(\\*) Je plagie Wikipédia: *l'offset désigne une adresse de manière relative. C'est une valeur entière représentant le déplacement en mémoire nécessaire, par rapport à une adresse de référence, pour atteindre une autre adresse. Autrement dit, l'offset est la distance séparant deux emplacements mémoire.*"
   ]
  },
  {
   "cell_type": "markdown",
   "id": "e1a516c8",
   "metadata": {
    "tags": []
   },
   "source": [
    "Voici des cases mémoire contiguës en mémoire qui forment un tableau.\n",
    "\n",
    "<div class=\"memory\"> \n",
    "\n",
    "```\n",
    "☐☐☐☐☐☐☐☐☐☐☐☐☐☐☐☐☐☐☐☐☐☐☐☐☐☐☐☐☐☐\n",
    "```\n",
    "<div>"
   ]
  },
  {
   "cell_type": "markdown",
   "id": "23cf974c",
   "metadata": {
    "tags": []
   },
   "source": [
    "Voici des cases mémoire un peu partout (pour tenter de décrire le type de fragmentation qu'on obtient quand on utilise des types de base de Python, comme par exemple une liste de listes)\n",
    "\n",
    "<div class=\"memory\">\n",
    "\n",
    "```\n",
    "...☐.......☐..☐....☐...  \n",
    "☐....☐.....☐.....☐.....  \n",
    "..☐...☐.....☐......☐...  \n",
    "☐.....☐.......☐...☐....\n",
    "```\n",
    "\n",
    "</div>"
   ]
  },
  {
   "cell_type": "markdown",
   "id": "642dbb5b",
   "metadata": {
    "tags": []
   },
   "source": [
    "L'ordi va se déplacer beaucoup plus rapidement pour passer d'un élément à un autre  \n",
    "si les éléments sont continuës  \n",
    "que si les éléments du tableau sont dissiminés un peu partout dans la mémoire  \n",
    "(comme c'est le cas dans certaine stuctures de données, par exemple les listes chaînées)."
   ]
  },
  {
   "cell_type": "markdown",
   "id": "3233ba7b",
   "metadata": {},
   "source": [
    "Et pour cela il faut que la taille des éléments du tableau soit fixe."
   ]
  },
  {
   "cell_type": "markdown",
   "id": "a2768738",
   "metadata": {},
   "source": [
    "#### second secret (*pas d'indirection*)"
   ]
  },
  {
   "cell_type": "markdown",
   "id": "f192ff04",
   "metadata": {},
   "source": [
    "Un second secret, c'est que `numpy` quand il arrive dans une case du tableau: il y trouve la valeur qu'il cherche   \n",
    "(on parle là de nos exemples avec des nombres)."
   ]
  },
  {
   "cell_type": "markdown",
   "id": "1a8b423f",
   "metadata": {
    "tags": [
     "level_advanced"
    ]
   },
   "source": [
    "Quelques mots sur les listes Python pour ceux qui sont avancés:\n",
    "\n",
    "Les listes Python sont en fait codées sous la forme de tableaux (i) qui peuvent changer de taille, (ii) dont les éléments sont de type hétérogène, (ii) où vous pouvez modifier ou rajouter un élément de n'importe quel type sans que les autres éléments ne soient touchés...\n",
    "\n",
    "En informatique, un tableau est une zone mémoire qui est continue en mémoire, toujours. Voila un exemple de tableau de 3 cases:"
   ]
  },
  {
   "cell_type": "code",
   "execution_count": 8,
   "id": "e333c1e9",
   "metadata": {
    "tags": [
     "level_advanced"
    ]
   },
   "outputs": [
    {
     "data": {
      "text/plain": [
       "[1, 12345678235234501256848345678901234567890264378034, 3.141592653589793]"
      ]
     },
     "execution_count": 8,
     "metadata": {},
     "output_type": "execute_result"
    }
   ],
   "source": [
    "t3 = [ 1, True, np.pi]\n",
    "t3[1] = 12345678235234501256848345678901234567890264378034\n",
    "t3"
   ]
  },
  {
   "cell_type": "markdown",
   "id": "9dfafc94",
   "metadata": {
    "tags": [
     "level_advanced"
    ]
   },
   "source": [
    "Donc, si les cases d'un tableau en informatique ont toujours la même taille, comment vais-je y \"*mettre*\"  des élément hétérogènes ? Des idées ?"
   ]
  },
  {
   "cell_type": "markdown",
   "id": "31b7a1d2",
   "metadata": {
    "tags": [
     "level_advanced"
    ]
   },
   "source": [
    "Oui nous allons utiliser des adresses ! on va mettre dans la case, l'adresse de l'endroit où se trouve l'élément en mémoire.\n",
    "\n",
    "Toutes les adresses sont codées sur le même nombre d'octets. Combien ? J'espère 8 octets (64 bits) ! heu vous avez un ordi 32-bits ... c'est qui qui vous l'a prêté ?\n",
    "\n",
    "Quand on arrive sur un élément et qu'on *trouve* sur une adresse, pour y aller lire la valeur, nous n'avons pas un simple offset à faire mais bien une indirection et c'est beaucoup beaucoup plus long..."
   ]
  },
  {
   "cell_type": "markdown",
   "id": "6659a579",
   "metadata": {},
   "source": [
    "### taille fixe des éléments"
   ]
  },
  {
   "cell_type": "markdown",
   "id": "85d64263",
   "metadata": {},
   "source": [
    "Pour illustrer le fait que la taille des éléments est fixe dans un tableau `numpy`, vous allez faire un petit exercice: créer un tableau `numpy` de chaînes de caractères."
   ]
  },
  {
   "cell_type": "markdown",
   "id": "f3035c2d",
   "metadata": {},
   "source": [
    "À vous de jouer. Voici une liste python des jours de la semaine. Construisez une `numpy.ndarray` avec cette liste.\n",
    "\n",
    "Affichez le type que `numpy` a choisi comme type pour les éléments. Rappelez-vous tous les éléments vont-être du même type ! Donc toutes les chaînes de caractères vont avoir le même type."
   ]
  },
  {
   "cell_type": "code",
   "execution_count": 9,
   "id": "d7a45f16",
   "metadata": {},
   "outputs": [
    {
     "data": {
      "text/plain": [
       "str"
      ]
     },
     "execution_count": 9,
     "metadata": {},
     "output_type": "execute_result"
    }
   ],
   "source": [
    "les_jours = ['lundi', 'mardi', 'mercredi', 'jeudi', 'vendredi', 'samedi', 'dimanche']\n",
    "type(les_jours[0])"
   ]
  },
  {
   "cell_type": "code",
   "execution_count": 10,
   "id": "1f5c7952",
   "metadata": {},
   "outputs": [],
   "source": [
    "# votre code ici (correction ci-dessous, ne pas regarder tout de suite !)"
   ]
  },
  {
   "cell_type": "code",
   "execution_count": 11,
   "id": "e74ad78c",
   "metadata": {},
   "outputs": [
    {
     "data": {
      "text/plain": [
       "dtype('<U8')"
      ]
     },
     "execution_count": 11,
     "metadata": {},
     "output_type": "execute_result"
    }
   ],
   "source": [
    "semaine = np.array(les_jours)\n",
    "semaine.dtype"
   ]
  },
  {
   "cell_type": "markdown",
   "id": "9deb8957",
   "metadata": {},
   "source": [
    "Alors le (plus petit) type de donné que `numpy` a trouvé pour ce tableau est *'<U8'*."
   ]
  },
  {
   "cell_type": "markdown",
   "id": "61d5f1f6",
   "metadata": {
    "tags": [
     "level_basic"
    ]
   },
   "source": [
    "Oublions `<`  \n",
    "Que signifie `U` ...  une idée ? (sans regarder sur Internet, en réfléchissant dans votre tête)  \n",
    "Oui *Unicode*. On en a déjà un.  \n",
    "Et pour 8 ? Une idée ? (attention piège !)"
   ]
  },
  {
   "cell_type": "markdown",
   "id": "91be6bd4",
   "metadata": {
    "tags": []
   },
   "source": [
    "Il faut compter le nombre de caractères des chaînes ... vous me suivez ?  \n",
    "Quel est le nombre de caractères minimum sur nous permet d'écrire chacun des jours de la semaine ?  \n",
    "Bingo c'est 8. Rien à voir avec un octet."
   ]
  },
  {
   "cell_type": "markdown",
   "id": "760f6e5e",
   "metadata": {
    "tags": []
   },
   "source": [
    "À vous de jouer.  \n",
    "Essayez de remplacer un des jours du tableau par une chaîne de caractères qui comporte plus de 8 caractères ?   \n",
    "genre `'lundi mais en plus long'`"
   ]
  },
  {
   "cell_type": "code",
   "execution_count": 12,
   "id": "92bfb6d2",
   "metadata": {},
   "outputs": [],
   "source": [
    "# votre code ici"
   ]
  },
  {
   "cell_type": "code",
   "execution_count": 13,
   "id": "bafaa3dd",
   "metadata": {},
   "outputs": [],
   "source": [
    "semaine[0] = 'lundi mais en plus long'"
   ]
  },
  {
   "cell_type": "code",
   "execution_count": 14,
   "id": "340045b1",
   "metadata": {},
   "outputs": [
    {
     "data": {
      "text/plain": [
       "array(['lundi ma', 'mardi', 'mercredi', 'jeudi', 'vendredi', 'samedi',\n",
       "       'dimanche'], dtype='<U8')"
      ]
     },
     "execution_count": 14,
     "metadata": {},
     "output_type": "execute_result"
    }
   ],
   "source": [
    "semaine"
   ]
  },
  {
   "cell_type": "markdown",
   "id": "08bd35ff",
   "metadata": {
    "tags": [
     "level_basic"
    ]
   },
   "source": [
    "Que va-t-il se passer ?  \n",
    "Oui ! `numpy` ne va bien sûr pas pouvoir stocker tous les caractères mais uniquement les 8 premiers caractères ...   \n",
    "(taille fixe on vous a dit !)"
   ]
  },
  {
   "cell_type": "markdown",
   "id": "07c64836",
   "metadata": {},
   "source": [
    "Au passage vous venez de voir comment on accède à un élément d'un `np.ndarray` oui là c'est de dimension 1 donc on n'a qu'un seul index à donner!"
   ]
  },
  {
   "cell_type": "markdown",
   "id": "a0d26d76",
   "metadata": {},
   "source": [
    "Maintenant essayez de créer un tableau `np.ndarray` à partir d'une liste Python avec des éléments numériques de différents types.  \n",
    "Mettez les entiers 127 et 128,  \n",
    "le flottant `numpy.pi` (oui pour nous `np.pi` puisque nous avons importé `numpy` avec son petit nom `np`)   \n",
    "et les booléens python True et False."
   ]
  },
  {
   "cell_type": "code",
   "execution_count": 15,
   "id": "34b1a774",
   "metadata": {},
   "outputs": [],
   "source": [
    "l = 127, 128, np.pi, True, False, 127 # quel est le type de l ? "
   ]
  },
  {
   "cell_type": "code",
   "execution_count": 16,
   "id": "7e9af872",
   "metadata": {},
   "outputs": [],
   "source": [
    "# votre code ici - solution ci-dessous"
   ]
  },
  {
   "cell_type": "code",
   "execution_count": 17,
   "id": "64c370d3",
   "metadata": {},
   "outputs": [
    {
     "data": {
      "text/plain": [
       "array([127.        , 128.        ,   3.14159265,   1.        ,\n",
       "         0.        , 127.        ])"
      ]
     },
     "execution_count": 17,
     "metadata": {},
     "output_type": "execute_result"
    }
   ],
   "source": [
    "np.array(l)"
   ]
  },
  {
   "cell_type": "markdown",
   "id": "8008e47c",
   "metadata": {},
   "source": [
    "Nous commencions à nous y attendre tout a été mis sous la forme de flottants (64 bits) !  \n",
    "les entiers sont *127.* et *128.*  \n",
    "`False` est *0.* et `True` est *1.*"
   ]
  },
  {
   "cell_type": "markdown",
   "id": "285139a5",
   "metadata": {},
   "source": [
    "Essayez maintenant de créer un tableau `np.ndarray` à partir de la même liste en imposant lors de la création que le type soit un `np.int8`"
   ]
  },
  {
   "cell_type": "code",
   "execution_count": 18,
   "id": "d571bb77",
   "metadata": {},
   "outputs": [],
   "source": [
    "# votre code ici - solution ci-dessous"
   ]
  },
  {
   "cell_type": "code",
   "execution_count": 19,
   "id": "dcfd06f7",
   "metadata": {},
   "outputs": [
    {
     "data": {
      "text/plain": [
       "array([ 127, -128,    3,    1,    0,  127], dtype=int8)"
      ]
     },
     "execution_count": 19,
     "metadata": {},
     "output_type": "execute_result"
    }
   ],
   "source": [
    "np.array(l, dtype=np.int8)"
   ]
  },
  {
   "cell_type": "markdown",
   "id": "58d817c1",
   "metadata": {
    "tags": []
   },
   "source": [
    "Combien vaut 128 en entier signé sur 8 bits ? Bizarre n'est-il pas ! mais tout à fait normal ...  \n",
    "on dépasse de `1` le plus grand entier (`127`) de notre codage (`8` bits) on passe au plus petit"
   ]
  },
  {
   "cell_type": "markdown",
   "id": "1d98cd36",
   "metadata": {
    "tags": []
   },
   "source": [
    "Maintenant rajouter une chaîne de caractère dans la liste et créer un tableau sans donner de type puis en donnant le type `np.int16`"
   ]
  },
  {
   "cell_type": "code",
   "execution_count": 20,
   "id": "0d7a688b",
   "metadata": {},
   "outputs": [],
   "source": [
    "l = [127, 128, np.pi, True, False, 127, 'bonjour'] # trouvez l'intru..."
   ]
  },
  {
   "cell_type": "code",
   "execution_count": 21,
   "id": "56026299",
   "metadata": {},
   "outputs": [],
   "source": [
    "# votre code ici (sans type)"
   ]
  },
  {
   "cell_type": "code",
   "execution_count": 22,
   "id": "f91010cf",
   "metadata": {},
   "outputs": [
    {
     "data": {
      "text/plain": [
       "array(['127', '128', '3.141592653589793', 'True', 'False', '127',\n",
       "       'bonjour'], dtype='<U32')"
      ]
     },
     "execution_count": 22,
     "metadata": {},
     "output_type": "execute_result"
    }
   ],
   "source": [
    "np.array(l)"
   ]
  },
  {
   "cell_type": "markdown",
   "id": "43d9726d",
   "metadata": {
    "tags": [
     "level_basic"
    ]
   },
   "source": [
    "Qu'avez vous obtenu ? Oui tous les éléments ont été transformés en chaînes de caractères ... seul type commun.\n",
    "\n",
    "Essayer d'imposer le type flottant à la création du tableau"
   ]
  },
  {
   "cell_type": "code",
   "execution_count": 23,
   "id": "73f1c7ef",
   "metadata": {},
   "outputs": [],
   "source": [
    "# votre code ici avec le type"
   ]
  },
  {
   "cell_type": "code",
   "execution_count": 24,
   "id": "73958d0f",
   "metadata": {
    "hide_input": false,
    "tags": [
     "raises-exception"
    ]
   },
   "outputs": [
    {
     "name": "stderr",
     "output_type": "stream",
     "text": [
      "/tmp/ipykernel_1902/3733325317.py:2: DeprecationWarning: `np.float` is a deprecated alias for the builtin `float`. To silence this warning, use `float` by itself. Doing this will not modify any behavior and is safe. If you specifically wanted the numpy scalar type, use `np.float64` here.\n",
      "Deprecated in NumPy 1.20; for more details and guidance: https://numpy.org/devdocs/release/1.20.0-notes.html#deprecations\n",
      "  np.array(l, dtype=np.float)\n"
     ]
    },
    {
     "ename": "ValueError",
     "evalue": "could not convert string to float: 'bonjour'",
     "output_type": "error",
     "traceback": [
      "\u001b[0;31m---------------------------------------------------------------------------\u001b[0m",
      "\u001b[0;31mValueError\u001b[0m                                Traceback (most recent call last)",
      "\u001b[0;32m/tmp/ipykernel_1902/3733325317.py\u001b[0m in \u001b[0;36m<module>\u001b[0;34m\u001b[0m\n\u001b[1;32m      1\u001b[0m \u001b[0;31m# solution\u001b[0m\u001b[0;34m\u001b[0m\u001b[0;34m\u001b[0m\u001b[0;34m\u001b[0m\u001b[0m\n\u001b[0;32m----> 2\u001b[0;31m \u001b[0mnp\u001b[0m\u001b[0;34m.\u001b[0m\u001b[0marray\u001b[0m\u001b[0;34m(\u001b[0m\u001b[0ml\u001b[0m\u001b[0;34m,\u001b[0m \u001b[0mdtype\u001b[0m\u001b[0;34m=\u001b[0m\u001b[0mnp\u001b[0m\u001b[0;34m.\u001b[0m\u001b[0mfloat\u001b[0m\u001b[0;34m)\u001b[0m\u001b[0;34m\u001b[0m\u001b[0;34m\u001b[0m\u001b[0m\n\u001b[0m",
      "\u001b[0;31mValueError\u001b[0m: could not convert string to float: 'bonjour'"
     ]
    }
   ],
   "source": [
    "# solution\n",
    "np.array(l, dtype=np.float)"
   ]
  },
  {
   "cell_type": "markdown",
   "id": "3c2c080f",
   "metadata": {},
   "source": [
    "Qu'avez-vous eu ? Oui une erreur `ValueError` lorsque `numpy` a essayé de convertir 'bonjour' en un entier ... bon il arrive à faire les conversions évidentes et là il n'en trouve pas !"
   ]
  },
  {
   "cell_type": "markdown",
   "id": "53fe768f",
   "metadata": {},
   "source": [
    "Il existe des types prédéfinis, regardez là: https://docs.scipy.org/doc/numpy/user/basics.types.html).\n",
    "\n",
    "Ce qu'il faut en retenir :\n",
    "\n",
    "* vous pouvez choisir entre `bool`, `int`, `uint` (entier non signé), `float` et `complex` ;\n",
    "* ces types ont diverses tailles pour vous permettre d'optimiser la mémoire utilisée ;\n",
    "* ces types existent en tant que tels (hors de tableaux)."
   ]
  },
  {
   "cell_type": "markdown",
   "id": "f35d8bd1",
   "metadata": {},
   "source": [
    "## organisation de la forme des tableaux"
   ]
  },
  {
   "cell_type": "markdown",
   "id": "9838edef",
   "metadata": {},
   "source": [
    "Vous savez désormais que la mémoire qui stocke le tableau est un segment unidimensionnel continu de cases du même type,  \n",
    "que la taille d'un tableau est fixe  \n",
    "que la taille des éléments est fixe\n",
    "\n",
    "Revoici des cases mémoire contiguës en mémoire qui forment un tableau\n",
    "\n",
    "<div class=\"memory\">\n",
    "\n",
    "```\n",
    "☐☐☐☐☐☐☐☐☐☐☐☐☐☐☐☐☐☐☐☐☐☐☐☐☐☐☐☐☐☐\n",
    "```\n",
    "\n",
    "</div>"
   ]
  },
  {
   "cell_type": "markdown",
   "id": "45fc30c9",
   "metadata": {},
   "source": [
    "Vous avez aussi vu que cette mémoire va être organisée (*indexée*) pour lui donner la forme d'un tableau multi-dimensionnel. Pour l'instant on a vu des matrices donc des tableaux de forme $(d_1, d_2)$. Mais un tableau peut naturellement prendre n'importe quelle dimension.\n",
    "\n",
    "Prenons un tableau de dimension $(d_1, d_2, d_3, d_4)$. Le segment unidimensionnel continu fera donc $d_1 \\times d_2 \\times d_3 \\times d_4$ cases de long.\n",
    "\n",
    "Chaque case étant de la taille mémoire suffisante pour stocker le type demandé pour les éléments, par exemple 64 bits.\n",
    "\n",
    "Dans cette multi-indexation, les deux dernières dimensions sont les *lignes* et les *colonnes* d'une matrice. Dans notre exemple il s'agit de $(d_3, d_4)$. \n",
    "\n",
    "Ainsi ici $d_2$ serait un nombre de matrices. On a des paquets de $d_2$ matrices. Et $d_1$ serait le nombre de fois où on a ces paquets de matrices.\n",
    "\n",
    "Ici on aura $d_1$ paquets de $d_2$ matrices de $d_3$ lignes et $d_4$ colonnes.\n",
    "\n",
    "Ainsi prendre  2 matrices de 3 lignes et 4 colonnes ferait une dimension (2, 3, 4) et ainsi de suite..."
   ]
  },
  {
   "cell_type": "markdown",
   "id": "d3922758",
   "metadata": {
    "tags": [
     "level_advanced"
    ]
   },
   "source": [
    "Pour les avancés, dans l'exemple de l'image en couleur, en encodage RGB, on voit que la dimension de l'image est (530, 800, 3).\n",
    "\n",
    "C'est à dire que l'image et présentée comme 530 matrices de 800 lignes et 3 colonnes et non pas 3 matrices de 533 lignes et 800 colonnes ! Comme on s'y attendait (peut être)\n",
    "\n",
    "Pourquoi ? Parce qu'en fait une image est plutôt vue comme une unique matrice où chaque élément (donc chaque pixel de l'image) a trois valeurs: une pour chacune des couleurs primaireset qu'il est préférable de rapprocher les 3 valeurs RGB de chaque pixel pour ne pas ralentir les calculs."
   ]
  },
  {
   "cell_type": "markdown",
   "id": "b5ef2c9a",
   "metadata": {},
   "source": [
    "Maintenant créons un segment de, par exemple, 30 éléments. Et ne donnons pas de forme, juste la taille. On en profite pour réutiliser la fonction qui fait des tableaux de 1 (la bien-nommée `np.ones`, heu non y'a pas `np.twos` ... `np.threes`)."
   ]
  },
  {
   "cell_type": "markdown",
   "id": "668fad0b",
   "metadata": {
    "tags": [
     "level_intermediate"
    ]
   },
   "source": [
    "Pour les avancés. Pourquoi avoir une fonction dédiée aux tableaux de 1 ?\n",
    "\n",
    "Parce que cela vous permet de créer très rapidement un tableau où tous les éléments ont la même valeur, il suffit de multiplier un tableau de 1 de la bonne forme par votre valeur, on y reviendra ... mais vous pouvez déjà essayer `np.ones(shape=(30,))*np.pi`, oh les 30 beaux $\\pi$ !"
   ]
  },
  {
   "cell_type": "code",
   "execution_count": 25,
   "id": "2f8639dc",
   "metadata": {},
   "outputs": [
    {
     "data": {
      "text/plain": [
       "array([1., 1., 1., 1., 1., 1., 1., 1., 1., 1., 1., 1., 1., 1., 1., 1., 1.,\n",
       "       1., 1., 1., 1., 1., 1., 1., 1., 1., 1., 1., 1., 1.])"
      ]
     },
     "execution_count": 25,
     "metadata": {},
     "output_type": "execute_result"
    }
   ],
   "source": [
    "seg = np.ones(shape=(30,)) # ou shape=30 et il comprend\n",
    "seg"
   ]
  },
  {
   "cell_type": "markdown",
   "id": "4f0a6aa3",
   "metadata": {},
   "source": [
    "Quel est le type des éléments ? Une idée ? En bien si vous n'indiquez pas le type des éléments à ce genre de fonctions (comme `np.zeros`, `np.empty`, `np.ones`), elles prennent par défaut le type flottants sur 64 bits. Nous le vérifions:"
   ]
  },
  {
   "cell_type": "code",
   "execution_count": 26,
   "id": "617a26a6",
   "metadata": {},
   "outputs": [
    {
     "data": {
      "text/plain": [
       "dtype('float64')"
      ]
     },
     "execution_count": 26,
     "metadata": {},
     "output_type": "execute_result"
    }
   ],
   "source": [
    "seg.dtype"
   ]
  },
  {
   "cell_type": "markdown",
   "id": "c41495f5",
   "metadata": {},
   "source": [
    "Donc nous voici avec un tableau dont la taille initiale est la suivante:"
   ]
  },
  {
   "cell_type": "code",
   "execution_count": 27,
   "id": "6748e058",
   "metadata": {},
   "outputs": [
    {
     "data": {
      "text/plain": [
       "(30,)"
      ]
     },
     "execution_count": 27,
     "metadata": {},
     "output_type": "execute_result"
    }
   ],
   "source": [
    "seg.shape"
   ]
  },
  {
   "cell_type": "markdown",
   "id": "d369a7bb",
   "metadata": {},
   "source": [
    "Et dont la dimension est la suivante:"
   ]
  },
  {
   "cell_type": "code",
   "execution_count": 28,
   "id": "b3276fb6",
   "metadata": {},
   "outputs": [
    {
     "data": {
      "text/plain": [
       "1"
      ]
     },
     "execution_count": 28,
     "metadata": {},
     "output_type": "execute_result"
    }
   ],
   "source": [
    "seg.ndim"
   ]
  },
  {
   "cell_type": "markdown",
   "id": "63bd50fd",
   "metadata": {},
   "source": [
    "Disons que cette forme est celle d'un vecteur *ligne*. Dans ce cas on n'a donc besoin que d'un seul index pour parcourir ce tableau (si on voulait le parcourir). On serait dans ce cas (où $o$ désigne l'offset par rapport au début de la mémoire du tableau; du coup bien sûr ici l'offset se confond avec l'indice)\n",
    "\n",
    "<div class=\"memory\">\n",
    "\n",
    "```\n",
    "☐☐☐☐☐☐☐☐☐☐☐☐☐☐☐☐☐☐☐☐☐☐☐☐☐☐☐☐☐☐\n",
    "               ↑\n",
    "```\n",
    "\n",
    "</div>\n",
    "\n",
    "$\\;\\;\\;\\;\\;\\;\\;\\;\\;\\;\\;$ vecteur de 30 élements : ${0\\leq i < 30} \\;\\;\\;\\;\\;\\; i = 15 \\longrightarrow o = 15$"
   ]
  },
  {
   "cell_type": "markdown",
   "id": "10fadcc7",
   "metadata": {},
   "source": [
    "Et si nous voulions que ce tableau de 30 cases prenne une nouvelle forme: on ne veut plus le considérer comme un vecteur ligne mais comme, par exemple, une matrice avec 3 lignes et 10 colonnes ?\n",
    "\n",
    "On a bien le même nombre d'éléments (30) dans les deux formes, simplement dans la seconde forme, on est en dimension 2. C'est à dire qu'on aura besoin de deux indices (un pour les lignes et un pour les colonnes) pour parcourir notre matrice (si on voulait la parcourir). On serait dans ce cas:\n",
    "\n",
    "\n",
    "<div class=\"memory\">\n",
    "\n",
    "```\n",
    "☐☐☐☐☐☐☐☐☐☐☐☐☐☐☐☐☐☐☐☐☐☐☐☐☐☐☐☐☐☐\n",
    "↑\n",
    "```\n",
    "\n",
    "</div>\n",
    "\n",
    "\n",
    "$\\;\\;\\;\\;\\;\\;\\;\\;\\;\\;\\;$ matrice 3 x 10 : ${0\\leq i < 3,\\ 0 \\leq j < 10} \\;\\;\\;\\;\\;\\; (i=0, j=0) \\longrightarrow o=0$"
   ]
  },
  {
   "cell_type": "markdown",
   "id": "1a8f75f8",
   "metadata": {},
   "source": [
    "Et bien `np.ndarray` comporte deux fonctions pour ré-indexer la mémoire unidimensionnelle sous-jacente.  \n",
    "Ces fonctions sont `np.ndarray.reshape` et `np.ndarray.resize`."
   ]
  },
  {
   "cell_type": "markdown",
   "id": "60ceef2a",
   "metadata": {},
   "source": [
    "### réindexer un `ndarray.reshape` et `ndarray.resize`"
   ]
  },
  {
   "cell_type": "markdown",
   "id": "ca6f79ee",
   "metadata": {},
   "source": [
    "`np.ndarray.reshape` et `np.ndarray.resize` s'appliquent toutes les deux aux objets de type `np.ndarray` (ce sont des méthodes du type `np.ndarray`)."
   ]
  },
  {
   "cell_type": "markdown",
   "id": "5eb5443d",
   "metadata": {
    "tags": [
     "level_basic"
    ]
   },
   "source": [
    "Quelle est leur différence ? Essayez de regarder leur help. Alors ? La voyez-vous ? Elle est petite..."
   ]
  },
  {
   "cell_type": "markdown",
   "id": "e241edbb",
   "metadata": {},
   "source": [
    "Le help de `np.ndarray.resize` vous dit \"*Change shape and size of array in-place*\".\n",
    "\n",
    "**in-place** signifie **dans l'objet** auquel la fonction est appliquée.\n",
    "\n",
    "Le help de `np.ndarray.reshape` vous dit \"*Returns an array containing the same data with a new shape.*\"\n",
    "\n",
    "Elle renvoie une nouvelle manière d'indexer votre tableau mais cette indexation travaille aussi (comme resize) sur la même mémoire sous-jacente.\n",
    "\n",
    "Leur similitude ? Aucune des deux ne crée de nouveau `np.ndarray`."
   ]
  },
  {
   "cell_type": "markdown",
   "id": "db96c264",
   "metadata": {},
   "source": [
    "Naturellement la taille du tableau initial doit correspondre à la taille du tableau re-structuré."
   ]
  },
  {
   "cell_type": "markdown",
   "id": "5a496434",
   "metadata": {},
   "source": [
    "#### exemple avec ` numpy.resize`"
   ]
  },
  {
   "cell_type": "code",
   "execution_count": 29,
   "id": "b4e1f6ff",
   "metadata": {},
   "outputs": [
    {
     "data": {
      "text/plain": [
       "(30,)"
      ]
     },
     "execution_count": 29,
     "metadata": {},
     "output_type": "execute_result"
    }
   ],
   "source": [
    "seg.shape"
   ]
  },
  {
   "cell_type": "code",
   "execution_count": 30,
   "id": "7f54b5b4",
   "metadata": {},
   "outputs": [],
   "source": [
    "seg.resize((3, 10)) # vous voyez que l'application de la fonction resize à seg ne renvoie rien et modifie seg"
   ]
  },
  {
   "cell_type": "code",
   "execution_count": 31,
   "id": "6ccf6f09",
   "metadata": {},
   "outputs": [
    {
     "data": {
      "text/plain": [
       "(3, 10)"
      ]
     },
     "execution_count": 31,
     "metadata": {},
     "output_type": "execute_result"
    }
   ],
   "source": [
    "seg.shape"
   ]
  },
  {
   "cell_type": "markdown",
   "id": "27ad783b",
   "metadata": {},
   "source": [
    "Ou plus simplement on l'affiche. On voit bien les 3 lignes de 10 éléments."
   ]
  },
  {
   "cell_type": "code",
   "execution_count": 32,
   "id": "f7da750c",
   "metadata": {},
   "outputs": [
    {
     "data": {
      "text/plain": [
       "array([[1., 1., 1., 1., 1., 1., 1., 1., 1., 1.],\n",
       "       [1., 1., 1., 1., 1., 1., 1., 1., 1., 1.],\n",
       "       [1., 1., 1., 1., 1., 1., 1., 1., 1., 1.]])"
      ]
     },
     "execution_count": 32,
     "metadata": {},
     "output_type": "execute_result"
    }
   ],
   "source": [
    "seg"
   ]
  },
  {
   "cell_type": "markdown",
   "id": "1941a151",
   "metadata": {},
   "source": [
    "#### exemple avec `numpy.reshape`"
   ]
  },
  {
   "cell_type": "code",
   "execution_count": 33,
   "id": "94ec28bb",
   "metadata": {},
   "outputs": [
    {
     "data": {
      "text/plain": [
       "array([[1., 1., 1., 1., 1., 1., 1., 1., 1., 1.],\n",
       "       [1., 1., 1., 1., 1., 1., 1., 1., 1., 1.],\n",
       "       [1., 1., 1., 1., 1., 1., 1., 1., 1., 1.]])"
      ]
     },
     "execution_count": 33,
     "metadata": {},
     "output_type": "execute_result"
    }
   ],
   "source": [
    "seg = np.ones(shape=30).reshape(3, 10) # vous voyez que reshape renvoie \n",
    "                                       # un nouvel objet avec une nouvelle forme\n",
    "seg"
   ]
  },
  {
   "cell_type": "markdown",
   "id": "eededd58",
   "metadata": {},
   "source": [
    "### index et décalages"
   ]
  },
  {
   "cell_type": "markdown",
   "id": "859739b4",
   "metadata": {},
   "source": [
    "Parlons un peu de ce qu'on a appelé précédemment décalages ou offsets pour les relier à notre problème de forme."
   ]
  },
  {
   "cell_type": "markdown",
   "id": "10a04232",
   "metadata": {},
   "source": [
    "Illustrons l'offset $o$ qu'il faut utiliser pour accéder à une case d'une matrice 3 x 10\n",
    "<div class=\"memory\">\n",
    "\n",
    "```\n",
    "☐☐☐☐☐☐☐☐☐☐☐☐☐☐☐☐☐☐☐☐☐☐☐☐☐☐☐☐☐☐\n",
    "↑\n",
    "```\n",
    "\n",
    "</div>\n",
    "\n",
    "$\\;\\;\\;\\;\\;\\;\\;\\;\\;\\;\\;$ matrice 3 x 10 : ${0\\leq i < 3,\\ 0 \\leq j < 10} \\;\\;\\;\\;\\;\\; (i=0, j=0) \\longrightarrow o=0$"
   ]
  },
  {
   "cell_type": "markdown",
   "id": "180a9096",
   "metadata": {},
   "source": [
    "Si je suis sur un élément en début d'une ligne, pour passer directement à l'élément en début de la ligne suivante, combien me faudra-t-il *sauter*  d'éléments?\n",
    "\n",
    "i.e. de combien me faudra-t-il me décaler sur mon segment unidimensionnel sous-jacent ?\n",
    "\n",
    "Oui il faudra \"sauter\" 10 éléments et 10, on le connait ce chiffre ! c'est la valeur de la deuxième dimension de notre forme (le nombre de colonnes).\n",
    "\n",
    "<div class=\"memory\">\n",
    "\n",
    "```\n",
    "☐☐☐☐☐☐☐☐☐☐☐☐☐☐☐☐☐☐☐☐☐☐☐☐☐☐☐☐☐☐\n",
    "          ↑\n",
    "```\n",
    "\n",
    "</div>\n",
    "\n",
    "$\\;\\;\\;\\;\\;\\;\\;\\;\\;\\;\\;$ matrice 3 x 10 : ${0\\leq i < 3,\\ 0 \\leq j < 10} \\;\\;\\;\\;\\;\\; (i=i, j=0) \\longrightarrow o=10$"
   ]
  },
  {
   "cell_type": "markdown",
   "id": "f922e50b",
   "metadata": {},
   "source": [
    "Si je voulais passer de cet élément à celui situé 5 cases à sa droite, je dois simplement sauter 5 nouvelles cases\n",
    "\n",
    "<div class=\"memory\">\n",
    "\n",
    "```\n",
    "☐☐☐☐☐☐☐☐☐☐☐☐☐☐☐☐☐☐☐☐☐☐☐☐☐☐☐☐☐☐\n",
    "               ↑\n",
    "```\n",
    "\n",
    "</div>\n",
    "    \n",
    "$\\;\\;\\;\\;\\;\\;\\;\\;\\;\\;\\;$ matrice 3 x 10 : ${0\\leq i < 3,\\ 0 \\leq j < 10} \\;\\;\\;\\;\\;\\; (i=1, j=5) \\longrightarrow o=15$"
   ]
  },
  {
   "cell_type": "markdown",
   "id": "d7c9e7ba",
   "metadata": {},
   "source": [
    "Et donc la dernière colonne de la dernière ligne se trouve logiquement à la fin de la mémoire \n",
    "\n",
    "\n",
    "<div class=\"memory\">\n",
    "\n",
    "```\n",
    "☐☐☐☐☐☐☐☐☐☐☐☐☐☐☐☐☐☐☐☐☐☐☐☐☐☐☐☐☐☐\n",
    "                             ↑\n",
    "```\n",
    "\n",
    "</div>\n",
    "\n",
    "$\\;\\;\\;\\;\\;\\;\\;\\;\\;\\;\\;$ matrice 3 x 10 : ${0\\leq i < 3,\\ 0 \\leq j < 10} \\;\\;\\;\\;\\;\\; (i=2, j=9) \\longrightarrow o=29$"
   ]
  },
  {
   "cell_type": "markdown",
   "id": "051f0da7",
   "metadata": {},
   "source": [
    "Et bien sûr si de là j'essaie d'avancer encore (parce que je me suis trompé de formule, ou que j'ai utilisé un $i$ ou un $j$ trop grand), eh bien j'arrive en dehors de la mémoire qui m'a été attribuée et là c'est pas bon du tout du tout du tout du tout!  \n",
    "Allez-vous vous attirer les foudres de l'ordi en essayant d'aller dans un segment (une zone mémoire) qui n'est pas à vous?  \n",
    "... non heureusement `numpy` va vérifier avant d'y aller, que vous restez dans les bornes  \n",
    "il vous indiquera que vous en sortez avec une erreur !"
   ]
  },
  {
   "cell_type": "markdown",
   "id": "412e6dd6",
   "metadata": {
    "tags": [
     "level_advanced"
    ]
   },
   "source": [
    "On voit que la formule qui donne l'offset à partir de $i$ et $j$ est\n",
    "\n",
    "$o = (10*i) + j\\;\\;\\;\\;\\;\\;\\;\\;\\;$ (*row-major* est le défaut avec `numpy`)\n",
    "\n",
    "\n",
    "En fait c'est vrai pour les tableaux qu'on appelle rangés dans l'ordre *row-major*, qui est le défaut en *numpy*; on peut lui demander de les ranger dans l'autre sens - qui s'appelle donc logiquement *column-major* - et dans ce cas la formule devient bien sûr\n",
    "\n",
    "$o = (3*j) + i\\;\\;\\;\\;\\;\\;\\;\\;\\;$  (*column-major*, en option à la construction du tableau)"
   ]
  },
  {
   "cell_type": "markdown",
   "id": "c10f00ad",
   "metadata": {},
   "source": [
    "À vous de jouer: transformez votre `seg` en 2 matrices de 5 lignes et 3 colonnes:"
   ]
  },
  {
   "cell_type": "code",
   "execution_count": 34,
   "id": "0dd272c4",
   "metadata": {},
   "outputs": [],
   "source": [
    "# votre code ici - la correction ci-dessous"
   ]
  },
  {
   "cell_type": "code",
   "execution_count": 35,
   "id": "2a356263",
   "metadata": {},
   "outputs": [
    {
     "data": {
      "text/plain": [
       "array([[[1., 1., 1.],\n",
       "        [1., 1., 1.],\n",
       "        [1., 1., 1.],\n",
       "        [1., 1., 1.],\n",
       "        [1., 1., 1.]],\n",
       "\n",
       "       [[1., 1., 1.],\n",
       "        [1., 1., 1.],\n",
       "        [1., 1., 1.],\n",
       "        [1., 1., 1.],\n",
       "        [1., 1., 1.]]])"
      ]
     },
     "execution_count": 35,
     "metadata": {},
     "output_type": "execute_result"
    }
   ],
   "source": [
    "seg.resize(2, 5, 3)\n",
    "seg"
   ]
  },
  {
   "cell_type": "markdown",
   "id": "f1c26884",
   "metadata": {},
   "source": [
    "## on essaie de *changer* le type d'un tableau `numpy.ndarray.astype`"
   ]
  },
  {
   "cell_type": "markdown",
   "id": "ef72b5eb",
   "metadata": {},
   "source": [
    "Comme vous l'avez compris, `np.ndarray` va toujours faire en sorte que  \n",
    "i) tous les éléments d'un tableau aient le même type à la création du tableau et   \n",
    "ii) que les éléments restent de ce type quoi qu'on leur fasse subir.  \n",
    "Essayons:"
   ]
  },
  {
   "cell_type": "markdown",
   "id": "f7363356",
   "metadata": {
    "tags": []
   },
   "source": [
    "A vous de jouer. Faite un `numpy.ndarray` de 4 entiers `int` (vous êtes grands je vous laisse choisir les 4 entiers mais le tableau doit s'appeler `vec`). Modifier le premier élément par `numpy.pi` et affichez votre tableau."
   ]
  },
  {
   "cell_type": "code",
   "execution_count": 36,
   "id": "696d6b9b",
   "metadata": {},
   "outputs": [],
   "source": [
    "# votre code ici - une correction ci-dessous"
   ]
  },
  {
   "cell_type": "code",
   "execution_count": 37,
   "id": "bf80686b",
   "metadata": {},
   "outputs": [
    {
     "data": {
      "text/plain": [
       "array([  3,  45,  24, 346])"
      ]
     },
     "execution_count": 37,
     "metadata": {},
     "output_type": "execute_result"
    }
   ],
   "source": [
    "vec = np.array([12, 45, 24, 346])\n",
    "vec[0] = np.pi\n",
    "vec"
   ]
  },
  {
   "cell_type": "markdown",
   "id": "409efe05",
   "metadata": {},
   "source": [
    "Bon ok  $\\pi$ est devenu `3`.\n",
    "\n",
    "Mais alors comment pouvons-nous \"modifier\" le type des éléments d'un tableau ?  \n",
    "Et bien: on ne peut pas (on vous dit) ...   \n",
    "mais on va pouvoir créer un nouveau tableau avec la même forme mais dont les *case* (donc les éléments) seront du nouveau type et y recopier les éléments dedans ...\n",
    "\n",
    "Rassurez-vous il existe une fonction pour cela ! Elle s'appelle `np.ndarray.astype`. Voici un exemple où je fais un tableau de flottants que je convertis en un tableau de `int`:"
   ]
  },
  {
   "cell_type": "code",
   "execution_count": 38,
   "id": "63256af6",
   "metadata": {},
   "outputs": [
    {
     "name": "stderr",
     "output_type": "stream",
     "text": [
      "/tmp/ipykernel_1902/1863336411.py:2: DeprecationWarning: `np.int` is a deprecated alias for the builtin `int`. To silence this warning, use `int` by itself. Doing this will not modify any behavior and is safe. When replacing `np.int`, you may wish to use e.g. `np.int64` or `np.int32` to specify the precision. If you wish to review your current use, check the release note link for additional information.\n",
      "Deprecated in NumPy 1.20; for more details and guidance: https://numpy.org/devdocs/release/1.20.0-notes.html#deprecations\n",
      "  tab1.astype(np.int)\n"
     ]
    },
    {
     "data": {
      "text/plain": [
       "array([ -2,   8,   0,   1, -67])"
      ]
     },
     "execution_count": 38,
     "metadata": {},
     "output_type": "execute_result"
    }
   ],
   "source": [
    "tab1 = np.array([-2.7, 8.45, -0.89, 1.56, -67])\n",
    "tab1.astype(np.int)"
   ]
  },
  {
   "cell_type": "markdown",
   "id": "2de696b9",
   "metadata": {},
   "source": [
    "Vous remarquez que la fonction `astype` renvoie bien un `numpy.ndarray`. On affiche `tab1`:"
   ]
  },
  {
   "cell_type": "code",
   "execution_count": 39,
   "id": "7bef5751",
   "metadata": {},
   "outputs": [
    {
     "data": {
      "text/plain": [
       "array([ -2.7 ,   8.45,  -0.89,   1.56, -67.  ])"
      ]
     },
     "execution_count": 39,
     "metadata": {},
     "output_type": "execute_result"
    }
   ],
   "source": [
    "tab1"
   ]
  },
  {
   "cell_type": "markdown",
   "id": "5424b359",
   "metadata": {},
   "source": [
    "On remarque que `tab1`  n'a pas été modifié ! on s'y attendait: la taille des éléments est fixe. Donc `astype` construit bien un nouveau tableau qu'on aurait pu garder dans une variable par exemple `tab2`"
   ]
  },
  {
   "cell_type": "markdown",
   "id": "c6ab24d9",
   "metadata": {},
   "source": [
    "On remarque aussi que les flottants, pour devenir des entiers, ont été modifiés fortement. On a perdu de l'information cette conversion est appelée *unsafe* i.e. *non sûre*."
   ]
  },
  {
   "cell_type": "markdown",
   "id": "6185f8ed",
   "metadata": {
    "tags": [
     "level_advanced"
    ]
   },
   "source": [
    "C'est peut être ce que vous vouliez.\n",
    "\n",
    "Mais au cas où vous voulez éviter ce genre de conversions peu sûre (unsafe casting - parlons jargon) ... la fonction possède un paramètre qui interdit la création du nouveau tableau si la conversion n'est pas sûre (*safe*): \n",
    "\n",
    "Oui cela va se faire par la génération d'une erreur (laquelle ? comme on parle de *type* ca sera une `TypeError`). `numpy` va prévenir de cette tentative de conversion interdite lancant une exception qu'on doit rattraper sous menace que le programme *plante*"
   ]
  },
  {
   "cell_type": "code",
   "execution_count": 40,
   "id": "242cb630",
   "metadata": {
    "tags": [
     "level_advanced"
    ]
   },
   "outputs": [
    {
     "name": "stdout",
     "output_type": "stream",
     "text": [
      "pas content ! \n"
     ]
    },
    {
     "name": "stderr",
     "output_type": "stream",
     "text": [
      "/tmp/ipykernel_1902/267750065.py:2: DeprecationWarning: `np.int` is a deprecated alias for the builtin `int`. To silence this warning, use `int` by itself. Doing this will not modify any behavior and is safe. When replacing `np.int`, you may wish to use e.g. `np.int64` or `np.int32` to specify the precision. If you wish to review your current use, check the release note link for additional information.\n",
      "Deprecated in NumPy 1.20; for more details and guidance: https://numpy.org/devdocs/release/1.20.0-notes.html#deprecations\n",
      "  tab1.astype(np.int, casting='safe')\n"
     ]
    }
   ],
   "source": [
    "try:\n",
    "    tab1.astype(np.int, casting='safe')\n",
    "except TypeError as e:\n",
    "    print(\"pas content ! \")"
   ]
  },
  {
   "cell_type": "markdown",
   "id": "883e3dbe",
   "metadata": {},
   "source": [
    "À vous de jouer. Prenez votre tableau `vec` d'entiers.  \n",
    "Transformez-le en tableau de flottants  \n",
    "mettez $\\pi$ dans la première case."
   ]
  },
  {
   "cell_type": "code",
   "execution_count": 41,
   "id": "364f9d47",
   "metadata": {
    "tags": [
     "raises-exception"
    ]
   },
   "outputs": [],
   "source": [
    "# votre code ici - correction ci-dessous"
   ]
  },
  {
   "cell_type": "code",
   "execution_count": 42,
   "id": "5af9f523",
   "metadata": {
    "tags": [
     "raises-exception"
    ]
   },
   "outputs": [
    {
     "name": "stderr",
     "output_type": "stream",
     "text": [
      "/tmp/ipykernel_1902/2082349502.py:1: DeprecationWarning: `np.float` is a deprecated alias for the builtin `float`. To silence this warning, use `float` by itself. Doing this will not modify any behavior and is safe. If you specifically wanted the numpy scalar type, use `np.float64` here.\n",
      "Deprecated in NumPy 1.20; for more details and guidance: https://numpy.org/devdocs/release/1.20.0-notes.html#deprecations\n",
      "  vec = vec.astype(np.float)\n"
     ]
    },
    {
     "data": {
      "text/plain": [
       "array([  3.14159265,  45.        ,  24.        , 346.        ])"
      ]
     },
     "execution_count": 42,
     "metadata": {},
     "output_type": "execute_result"
    }
   ],
   "source": [
    "vec = vec.astype(np.float)\n",
    "vec[0] = np.pi\n",
    "vec"
   ]
  },
  {
   "cell_type": "code",
   "execution_count": null,
   "id": "5fa41bd2",
   "metadata": {},
   "outputs": [],
   "source": []
  },
  {
   "cell_type": "markdown",
   "id": "d0c30f44",
   "metadata": {},
   "source": [
    "Maintenant que nous avons parlé de mémoire et que ca n'a pas été si facile que cela, détendons-nous avec de nouvelles super fonctions pour initialiser des tableaux..."
   ]
  },
  {
   "cell_type": "markdown",
   "id": "5d173f60",
   "metadata": {},
   "source": [
    "## tableaux de valeurs régulièrement espacées"
   ]
  },
  {
   "cell_type": "markdown",
   "id": "0181a24b",
   "metadata": {},
   "source": [
    "Afin de simplifier les codes, `numpy` fournit des fonctions qui vont générer des points espacés régulièrement sur un intervalle que nous spécifions.  \n",
    "On pourra ensuite appliquer des fonctions à ces points.\n",
    "\n",
    "Il existe pour cela deux fonctions: `np.arange` et `np.linspace`.  \n",
    "Pour `arange` vous indiquez l'incrément entre deux valeurs successives (le pas ou `step`) et  \n",
    "pour `linspace` vous donnez le nombre de points."
   ]
  },
  {
   "cell_type": "markdown",
   "id": "2ae72864",
   "metadata": {},
   "source": [
    "### la fonction `np.arange`"
   ]
  },
  {
   "cell_type": "markdown",
   "id": "ec402833",
   "metadata": {},
   "source": [
    "La fonction `np.arange(from-included, to-excluded, step)` renvoie des nombres distants de la valeur `step` sur l'intervalle spécifié dans lequel seule la borne inférieure est incluse.\n",
    "\n",
    "Le help vous dit de ne **pas** utiliser un **incrément non entier** (comme 0.1), le résultat peut être non consistent, préférez pour cela `np.linspace`."
   ]
  },
  {
   "cell_type": "code",
   "execution_count": 43,
   "id": "1d105234",
   "metadata": {},
   "outputs": [],
   "source": [
    "#np.arange?"
   ]
  },
  {
   "cell_type": "code",
   "execution_count": 44,
   "id": "42684b0e",
   "metadata": {},
   "outputs": [
    {
     "data": {
      "text/plain": [
       "array([0, 2, 4, 6, 8])"
      ]
     },
     "execution_count": 44,
     "metadata": {},
     "output_type": "execute_result"
    }
   ],
   "source": [
    "np.arange(0, 10, 2)"
   ]
  },
  {
   "cell_type": "markdown",
   "id": "5ab6e4a6",
   "metadata": {},
   "source": [
    "Par défaut le premier point sera 0 et l'incrément 1"
   ]
  },
  {
   "cell_type": "code",
   "execution_count": 45,
   "id": "6d148d6e",
   "metadata": {},
   "outputs": [
    {
     "data": {
      "text/plain": [
       "array([0, 1, 2, 3, 4, 5, 6, 7, 8, 9])"
      ]
     },
     "execution_count": 45,
     "metadata": {},
     "output_type": "execute_result"
    }
   ],
   "source": [
    "np.arange(10)"
   ]
  },
  {
   "cell_type": "markdown",
   "id": "8088f120",
   "metadata": {},
   "source": [
    "On peut bien sûr aller dans l'autre sens."
   ]
  },
  {
   "cell_type": "code",
   "execution_count": 46,
   "id": "66800692",
   "metadata": {},
   "outputs": [
    {
     "data": {
      "text/plain": [
       "array([10,  9,  8,  7,  6,  5,  4,  3,  2,  1])"
      ]
     },
     "execution_count": 46,
     "metadata": {},
     "output_type": "execute_result"
    }
   ],
   "source": [
    "np.arange(10, 0, -1)"
   ]
  },
  {
   "cell_type": "markdown",
   "id": "4623dc03",
   "metadata": {},
   "source": [
    "Les bornes peuvent être des nombre réels."
   ]
  },
  {
   "cell_type": "code",
   "execution_count": 47,
   "id": "6d3e67a6",
   "metadata": {},
   "outputs": [
    {
     "data": {
      "text/plain": [
       "array([ 0.2,  2.2,  4.2,  6.2,  8.2, 10.2])"
      ]
     },
     "execution_count": 47,
     "metadata": {},
     "output_type": "execute_result"
    }
   ],
   "source": [
    "np.arange(0.2, 10.3, 2)"
   ]
  },
  {
   "cell_type": "markdown",
   "id": "6f7530b0",
   "metadata": {},
   "source": [
    "On peut préciser les arguments positionnels `start`, `stop` et `step`:"
   ]
  },
  {
   "cell_type": "code",
   "execution_count": 48,
   "id": "c5e35f06",
   "metadata": {},
   "outputs": [
    {
     "data": {
      "text/plain": [
       "array([1, 2, 3, 4, 5, 6, 7, 8, 9])"
      ]
     },
     "execution_count": 48,
     "metadata": {},
     "output_type": "execute_result"
    }
   ],
   "source": [
    "np.arange(start=1, stop=10, step=1) # attention stop n'est pas inclus"
   ]
  },
  {
   "cell_type": "code",
   "execution_count": 49,
   "id": "6297c6db",
   "metadata": {},
   "outputs": [
    {
     "data": {
      "text/plain": [
       "array([ 1,  0, -1, -2, -3, -4, -5, -6, -7, -8, -9])"
      ]
     },
     "execution_count": 49,
     "metadata": {},
     "output_type": "execute_result"
    }
   ],
   "source": [
    "np.arange(start=1, stop=-10, step=-1) # stop n'est toujours pas inclus"
   ]
  },
  {
   "cell_type": "markdown",
   "id": "edc62f26",
   "metadata": {},
   "source": [
    "Et si c'est *absurde*  il va vous donner un tableau vide, c'est une bonne idée:"
   ]
  },
  {
   "cell_type": "code",
   "execution_count": 50,
   "id": "1cac6d5c",
   "metadata": {},
   "outputs": [
    {
     "data": {
      "text/plain": [
       "array([], dtype=int64)"
      ]
     },
     "execution_count": 50,
     "metadata": {},
     "output_type": "execute_result"
    }
   ],
   "source": [
    "np.arange(start=1, stop=-10)"
   ]
  },
  {
   "cell_type": "markdown",
   "id": "240e2777",
   "metadata": {
    "tags": [
     "level_advanced"
    ]
   },
   "source": [
    "Pour les avancés et les très curieux, oui parfois `np.arange` peut vous retourner des tableaux bizarrement initialisés lorsque vous lui préciser des arguments positionnels ... essayez donc de ne lui passer uniquement `start=10` ... ah oui bizarre n'est-il pas ?\n",
    "\n",
    "la raison ? demandez donc à stackoverflow (actuellement les meilleurs en réponses sur les problèmes de code tout langage - bon ils parlent anglais et oui il va falloir vous y faire de mener vos recherches sur l'informatique sur Internet en anglais)"
   ]
  },
  {
   "cell_type": "markdown",
   "id": "4903f5f9",
   "metadata": {},
   "source": [
    "### la fonction `np.linspace`"
   ]
  },
  {
   "cell_type": "markdown",
   "id": "81804000",
   "metadata": {},
   "source": [
    "La fonction `np.linspace(from-included, to-included, number)` crée des valeurs flottantes régulièrement espacées dans un intervalle.  \n",
    "Vous lui fournissez l'intervalle (les **deux** extrémités seront incluses dans le tableau) et le nombre de points: `numpy` nous crée un `np.ndarray` avec les bonnes valeurs et le bon type.\n",
    "\n",
    "Notons la différence avec le `np.arange` dont la valeur supérieure de l'intervalle n'est pas incluse dans le tableau."
   ]
  },
  {
   "cell_type": "markdown",
   "id": "34063e1f",
   "metadata": {},
   "source": [
    "Voyons la fonction `np.linspace`. On va créer un tableau qui part de $-\\pi$, va jusqu'à $\\pi$ et comporte 30 points."
   ]
  },
  {
   "cell_type": "code",
   "execution_count": 51,
   "id": "242d35a5",
   "metadata": {},
   "outputs": [],
   "source": [
    "x = np.linspace(-np.pi, np.pi, 30)"
   ]
  },
  {
   "cell_type": "code",
   "execution_count": 52,
   "id": "1698240d",
   "metadata": {},
   "outputs": [
    {
     "data": {
      "text/plain": [
       "array([-3.14159265, -2.92493109, -2.70826953, -2.49160797, -2.2749464 ,\n",
       "       -2.05828484, -1.84162328, -1.62496172, -1.40830016, -1.19163859,\n",
       "       -0.97497703, -0.75831547, -0.54165391, -0.32499234, -0.10833078,\n",
       "        0.10833078,  0.32499234,  0.54165391,  0.75831547,  0.97497703,\n",
       "        1.19163859,  1.40830016,  1.62496172,  1.84162328,  2.05828484,\n",
       "        2.2749464 ,  2.49160797,  2.70826953,  2.92493109,  3.14159265])"
      ]
     },
     "execution_count": 52,
     "metadata": {},
     "output_type": "execute_result"
    }
   ],
   "source": [
    "x"
   ]
  },
  {
   "cell_type": "code",
   "execution_count": 53,
   "id": "7adc56a7",
   "metadata": {},
   "outputs": [
    {
     "data": {
      "text/plain": [
       "(30,)"
      ]
     },
     "execution_count": 53,
     "metadata": {},
     "output_type": "execute_result"
    }
   ],
   "source": [
    "x.shape"
   ]
  },
  {
   "cell_type": "markdown",
   "id": "b96307bc",
   "metadata": {},
   "source": [
    "On vérifie l'inclusion des deux bornes."
   ]
  },
  {
   "cell_type": "code",
   "execution_count": 54,
   "id": "1c84c996",
   "metadata": {},
   "outputs": [
    {
     "data": {
      "text/plain": [
       "(-3.141592653589793, 3.141592653589793)"
      ]
     },
     "execution_count": 54,
     "metadata": {},
     "output_type": "execute_result"
    }
   ],
   "source": [
    "x[0], x[-1]"
   ]
  },
  {
   "cell_type": "markdown",
   "id": "0140c5a8",
   "metadata": {},
   "source": [
    "Quel est le type de ses éléments ?"
   ]
  },
  {
   "cell_type": "code",
   "execution_count": 55,
   "id": "7f0fe791",
   "metadata": {},
   "outputs": [],
   "source": [
    "# votre code ici"
   ]
  },
  {
   "cell_type": "code",
   "execution_count": 56,
   "id": "d41859d0",
   "metadata": {},
   "outputs": [
    {
     "data": {
      "text/plain": [
       "dtype('float64')"
      ]
     },
     "execution_count": 56,
     "metadata": {},
     "output_type": "execute_result"
    }
   ],
   "source": [
    "x.dtype # oui un flottant"
   ]
  },
  {
   "cell_type": "markdown",
   "id": "fdfb91fb",
   "metadata": {},
   "source": [
    "A quoi cela peut-il bien servir ? Voyons rapidement un exemple, calculons et affichons un beau sinus entre $0$ et $2\\pi$."
   ]
  },
  {
   "cell_type": "code",
   "execution_count": 57,
   "id": "0857ee9d",
   "metadata": {},
   "outputs": [],
   "source": [
    "import matplotlib.pyplot as plt # une librarie graphique (on la verra)\n",
    "# on demande ensuite à ce que les dessins soient inclus dans le notebook\n",
    "%matplotlib inline"
   ]
  },
  {
   "cell_type": "code",
   "execution_count": 58,
   "id": "b31bec20",
   "metadata": {},
   "outputs": [
    {
     "data": {
      "image/png": "[encoded data removed]",
      "text/plain": [
       "<Figure size 432x288 with 1 Axes>"
      ]
     },
     "metadata": {
      "filenames": {
       "image/png": "/home/runner/work/python-numerique/python-numerique/notebooks/_build/jupyter_execute/2-02-numpy-type-memory_164_0.png"
      },
      "needs_background": "light"
     },
     "output_type": "display_data"
    }
   ],
   "source": [
    "x = np.linspace(0, 2*np.pi, 100)\n",
    "plt.plot(np.sin(x));\n",
    "# oh regardez comment on applique la fonction np.sin à tout x d'un coup !\n",
    "# (on y reviendra bien sûr)"
   ]
  },
  {
   "cell_type": "markdown",
   "id": "54f01e83",
   "metadata": {},
   "source": [
    "## tableau de valeurs aléatoires"
   ]
  },
  {
   "cell_type": "markdown",
   "id": "37efbf96",
   "metadata": {},
   "source": [
    "### entières `numpy.random.randint`"
   ]
  },
  {
   "cell_type": "markdown",
   "id": "38000fcc",
   "metadata": {},
   "source": [
    "Cette fonction va retourner un nombre entier tiré aléatoirement entre deux bornes (la seconde est exclue)."
   ]
  },
  {
   "cell_type": "code",
   "execution_count": 59,
   "id": "9f6d1b62",
   "metadata": {},
   "outputs": [
    {
     "data": {
      "text/plain": [
       "7"
      ]
     },
     "execution_count": 59,
     "metadata": {},
     "output_type": "execute_result"
    }
   ],
   "source": [
    "np.random.randint(0, 10)"
   ]
  },
  {
   "cell_type": "markdown",
   "id": "c7c5ef92",
   "metadata": {},
   "source": [
    "Si vous ne spécifiez qu'une borne les entiers seront générés entre 0 et la borne."
   ]
  },
  {
   "cell_type": "code",
   "execution_count": 60,
   "id": "d2d2b4ef",
   "metadata": {},
   "outputs": [
    {
     "data": {
      "text/plain": [
       "2"
      ]
     },
     "execution_count": 60,
     "metadata": {},
     "output_type": "execute_result"
    }
   ],
   "source": [
    "np.random.randint(10)"
   ]
  },
  {
   "cell_type": "markdown",
   "id": "32a0f164",
   "metadata": {},
   "source": [
    "Pour générer plusieurs valeurs, vous pouvez donner une forme qui s'appelle `size` (et **pas** `shape`)."
   ]
  },
  {
   "cell_type": "code",
   "execution_count": 61,
   "id": "266b7463",
   "metadata": {},
   "outputs": [
    {
     "data": {
      "text/plain": [
       "array([[[[8, 1],\n",
       "         [0, 6]],\n",
       "\n",
       "        [[3, 7],\n",
       "         [3, 9]],\n",
       "\n",
       "        [[7, 2],\n",
       "         [9, 8]]],\n",
       "\n",
       "\n",
       "       [[[3, 9],\n",
       "         [3, 2]],\n",
       "\n",
       "        [[7, 3],\n",
       "         [7, 1]],\n",
       "\n",
       "        [[1, 8],\n",
       "         [5, 2]]]])"
      ]
     },
     "execution_count": 61,
     "metadata": {},
     "output_type": "execute_result"
    }
   ],
   "source": [
    "np.random.randint(10, size=(2, 3, 2, 2))"
   ]
  },
  {
   "cell_type": "markdown",
   "id": "09b4aee7",
   "metadata": {},
   "source": [
    "### flottantes `numpy.random.randn`"
   ]
  },
  {
   "cell_type": "markdown",
   "id": "9948a48c",
   "metadata": {},
   "source": [
    "renvoie des échantillons de la loi normale univariée de moyenne 0 et de variance 1\n",
    "\n",
    "par défault un seul float est retourné:"
   ]
  },
  {
   "cell_type": "code",
   "execution_count": 62,
   "id": "18994812",
   "metadata": {},
   "outputs": [
    {
     "data": {
      "text/plain": [
       "1.2810030185536514"
      ]
     },
     "execution_count": 62,
     "metadata": {},
     "output_type": "execute_result"
    }
   ],
   "source": [
    "np.random.randn()"
   ]
  },
  {
   "cell_type": "markdown",
   "id": "723701ed",
   "metadata": {},
   "source": [
    "vous pouvez préciser la forme de la sortie:"
   ]
  },
  {
   "cell_type": "code",
   "execution_count": 63,
   "id": "38a8f657",
   "metadata": {},
   "outputs": [
    {
     "data": {
      "text/plain": [
       "array([[[ 1.73227699, -0.06401274,  1.26929066, -0.86790455],\n",
       "        [-0.83358159,  0.92451601, -0.56661828,  0.46206094],\n",
       "        [ 0.69134936,  0.67521592, -0.6526918 ,  0.71740919]],\n",
       "\n",
       "       [[-1.52307536,  1.4479264 ,  0.2199504 ,  1.55806361],\n",
       "        [-0.17666828,  0.88864134, -0.10073757,  2.19917711],\n",
       "        [ 0.63058804,  0.38371219, -0.61200314,  0.84604371]]])"
      ]
     },
     "execution_count": 63,
     "metadata": {},
     "output_type": "execute_result"
    }
   ],
   "source": [
    "np.random.randn(2, 3, 4)"
   ]
  },
  {
   "cell_type": "markdown",
   "id": "02c97d93",
   "metadata": {},
   "source": [
    "À repousser plutôt en fin de séance sur `numpy`"
   ]
  },
  {
   "cell_type": "markdown",
   "id": "4dc700d1",
   "metadata": {},
   "source": [
    "## quiz"
   ]
  },
  {
   "cell_type": "markdown",
   "id": "cd6e7b3e",
   "metadata": {},
   "source": [
    "considérons le tableau `np.array([[1, 2, 3], [ 4, 5, 6]])`\n",
    "   - quel est le type de ses éléments (sur un ordi récent) ? `int8`, `int32` ou `int64`"
   ]
  },
  {
   "cell_type": "markdown",
   "id": "360c30eb",
   "metadata": {},
   "source": [
    "Qu'obtient-on si on fait:\n",
    "   - `np.arange(1, 3)` ? `[1, 2, 3]` ou `[1, 2]` \n",
    "   - `np.arange(1, 5, -1)` ? `[5, 4, 3, 2]` ou `[]` \n",
    "   - `np.arange(3, 1, -1)` ? `[3, 2]` ou `[3, 2, 1]`"
   ]
  },
  {
   "cell_type": "markdown",
   "id": "0e490dfd",
   "metadata": {},
   "source": [
    "Qu'obtient-on si on fait:\n",
    "   - `np.linspace(1, 3, 3)` ? `[1., 2., 3.]` ou `[1, 2]`)\n",
    "   - `np.linspace(1, 2, 5)` ? `[1., 1.25, 1.5, 1.75, 2.]` ou `[1., 1.2, 1.4, 1.6, 1.8, 2.]`"
   ]
  },
  {
   "cell_type": "markdown",
   "id": "9dfabd49",
   "metadata": {},
   "source": [
    "Que vaut `d` si on fait:\n",
    "   - `d = np.array(['un', 'deux', 'trois'])`\n",
    "   - `d[0] = 'quatre'`\n",
    "   \n",
    "Est-ce  `['quatre', 'deux', 'trois']` ? `oui` ou `non`"
   ]
  },
  {
   "cell_type": "markdown",
   "id": "7e9ae880",
   "metadata": {},
   "source": [
    "Qu'est-ce la méthode `itemsize` d'un `np.ndarray` ?\n",
    "   - `le nombre d'éléments` ou `la taille du tableau` ou `la taille d'un élément`"
   ]
  },
  {
   "cell_type": "markdown",
   "id": "50acf787",
   "metadata": {},
   "source": [
    "## Exercices"
   ]
  },
  {
   "cell_type": "markdown",
   "id": "e644ea0a",
   "metadata": {},
   "source": [
    "### comparaison des tailles mémoire d'une liste Python et d'un `ndarray`"
   ]
  },
  {
   "cell_type": "markdown",
   "id": "b7dc96a5",
   "metadata": {},
   "source": [
    "Utiliser la fonction `getsizeof` de la librarie `sys` de Python pour afficher la taille d'une liste Python de 1.000 entiers initialisés de 0 à 999 et d'un ndarray de la même série de nombres."
   ]
  },
  {
   "cell_type": "code",
   "execution_count": 64,
   "id": "f8ade9a3",
   "metadata": {},
   "outputs": [],
   "source": [
    "# votre code ici"
   ]
  },
  {
   "cell_type": "code",
   "execution_count": 65,
   "id": "9a38c55a",
   "metadata": {},
   "outputs": [],
   "source": [
    "# votre code ici"
   ]
  },
  {
   "cell_type": "markdown",
   "id": "b2520f24",
   "metadata": {},
   "source": [
    "Que constatez-vous ?"
   ]
  },
  {
   "cell_type": "markdown",
   "id": "a1cd5724",
   "metadata": {},
   "source": [
    "### génération aléatoire avec affichage couleur"
   ]
  },
  {
   "cell_type": "markdown",
   "id": "ac0719af",
   "metadata": {},
   "source": [
    "Utilisez la fonction `numpy.random.randint(min, max, size, dtype)` pour construire une toute petite image de taille 10 pixels de côtés, en format RBG (i.e. où chaque pixel aura 3 valeurs) ,  que vous initialisez avec des entiers générés aléatoirement entre 0 et 255-inclus\n",
    "\n",
    "\n",
    "un `TypeError: Invalid shape (d0, d1, d2) for image data` vous signalera que vous avez donné une mauvaise `shape` à votre image.\n",
    "\n",
    "Quel est le plus petit type entier qui contient tous ces nombres ?"
   ]
  },
  {
   "cell_type": "code",
   "execution_count": 66,
   "id": "093fd933",
   "metadata": {},
   "outputs": [],
   "source": [
    "import matplotlib.pyplot as plt\n",
    "%matplotlib inline\n",
    "import numpy as np # au cas où vous commencez par cet exercice on importe numpy sinon ca ne fait rien"
   ]
  },
  {
   "cell_type": "markdown",
   "id": "904b13b3",
   "metadata": {},
   "source": [
    "Avec la fonction `plt.imshow`  afficher l'image !\n",
    "\n",
    "Vous allez obtenir, une image un peu comme celle-là (Que c'est joli !)\n",
    "\n",
    "<img src='./media/joli-img-RGB-10.png'>"
   ]
  },
  {
   "cell_type": "code",
   "execution_count": 67,
   "id": "895661af",
   "metadata": {
    "hide_input": false
   },
   "outputs": [],
   "source": [
    "# votre code ici"
   ]
  }
 ],
 "metadata": {
  "jupytext": {
   "cell_metadata_filter": "all, -hidden, -heading_collapsed, -run_control, -trusted",
   "notebook_metadata_filter": "all, -jupytext.text_representation.jupytext_version, -jupytext.text_representation.format_version, -language_info.version, -language_info.codemirror_mode.version, -language_info.codemirror_mode, -language_info.file_extension, -language_info.mimetype, -toc",
   "text_representation": {
    "extension": ".md",
    "format_name": "myst"
   }
  },
  "kernelspec": {
   "display_name": "Python 3",
   "language": "python",
   "name": "python3"
  },
  "language_info": {
   "codemirror_mode": {
    "name": "ipython",
    "version": 3
   },
   "file_extension": ".py",
   "mimetype": "text/x-python",
   "name": "python",
   "nbconvert_exporter": "python",
   "pygments_lexer": "ipython3",
   "version": "3.9.5"
  },
  "notebookname": "les types en numpy",
  "source_map": [
   18,
   27,
   31,
   42,
   46,
   48,
   63,
   71,
   75,
   79,
   88,
   92,
   96,
   98,
   102,
   104,
   108,
   110,
   114,
   118,
   126,
   130,
   134,
   138,
   142,
   146,
   150,
   156,
   160,
   164,
   168,
   174,
   186,
   197,
   212,
   219,
   223,
   227,
   232,
   240,
   248,
   252,
   260,
   264,
   268,
   274,
   279,
   283,
   286,
   290,
   297,
   303,
   309,
   313,
   317,
   321,
   327,
   331,
   338,
   342,
   346,
   348,
   354,
   358,
   362,
   366,
   371,
   375,
   379,
   383,
   387,
   393,
   397,
   403,
   407,
   417,
   421,
   437,
   453,
   461,
   465,
   471,
   474,
   478,
   480,
   484,
   486,
   490,
   492,
   507,
   526,
   531,
   535,
   539,
   543,
   555,
   559,
   563,
   567,
   571,
   573,
   577,
   579,
   583,
   587,
   591,
   595,
   609,
   628,
   643,
   659,
   666,
   677,
   681,
   685,
   688,
   692,
   699,
   703,
   707,
   711,
   721,
   724,
   728,
   730,
   734,
   738,
   746,
   753,
   759,
   765,
   773,
   775,
   779,
   783,
   792,
   796,
   802,
   806,
   808,
   812,
   814,
   818,
   820,
   824,
   826,
   830,
   834,
   836,
   840,
   844,
   850,
   854,
   861,
   865,
   869,
   873,
   875,
   879,
   881,
   885,
   889,
   891,
   895,
   901,
   906,
   910,
   914,
   918,
   920,
   924,
   926,
   930,
   932,
   936,
   942,
   944,
   948,
   950,
   954,
   958,
   963,
   970,
   976,
   984,
   989,
   993,
   997,
   1001,
   1005,
   1007,
   1011,
   1015,
   1024,
   1028,
   1036
  ]
 },
 "nbformat": 4,
 "nbformat_minor": 5
}